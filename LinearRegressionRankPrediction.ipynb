{
 "cells": [
  {
   "cell_type": "code",
   "execution_count": 1,
   "id": "01ca1971",
   "metadata": {},
   "outputs": [],
   "source": [
    "import pandas as pd\n",
    "from sklearn.model_selection import train_test_split\n",
    "from sklearn.linear_model import LinearRegression\n",
    "from sklearn.metrics import mean_absolute_error, mean_squared_error, r2_score"
   ]
  },
  {
   "cell_type": "code",
   "execution_count": 2,
   "id": "0bdac206",
   "metadata": {},
   "outputs": [],
   "source": [
    "# Step 1: Load and preprocess the data\n",
    "data = pd.read_csv('Classification/all_files_ZAv1.csv')  # Replace 'your_data.csv' with the actual filename\n",
    "# Perform necessary data cleaning and preprocessing steps"
   ]
  },
  {
   "cell_type": "code",
   "execution_count": 3,
   "id": "e73545eb",
   "metadata": {},
   "outputs": [],
   "source": [
    "# data.dtypes"
   ]
  },
  {
   "cell_type": "code",
   "execution_count": 4,
   "id": "db7f4e24",
   "metadata": {},
   "outputs": [
    {
     "name": "stdout",
     "output_type": "stream",
     "text": [
      "After dropping object columns:\n",
      "Index(['trackAppearanceCount', 'artistAppearanceCount', 'rank', 'peak_rank',\n",
      "       'previous_rank', 'weeks_on_chart', 'streams', 'Week', 'Year',\n",
      "       'Seconds since Epoch', 'ArtistCount', 'isTopTen', 'rank difference',\n",
      "       'Position over Time'],\n",
      "      dtype='object')\n"
     ]
    }
   ],
   "source": [
    "# Identify object columns\n",
    "object_columns = data.select_dtypes(include=['object']).columns\n",
    "\n",
    "# Drop object columns\n",
    "data = data.drop(columns=object_columns)\n",
    "\n",
    "# Display the DataFrame after dropping object columns\n",
    "print(\"After dropping object columns:\")\n",
    "print(data.columns)"
   ]
  },
  {
   "cell_type": "code",
   "execution_count": 5,
   "id": "7a0178a3",
   "metadata": {},
   "outputs": [
    {
     "name": "stdout",
     "output_type": "stream",
     "text": [
      "Mean Squared Error: 829.2172767110253\n"
     ]
    }
   ],
   "source": [
    "# Step 2: Feature Engineering\n",
    "# Extract relevant features from the dataset and create additional features if needed\n",
    "\n",
    "# Step 3: Split the data into training and testing sets\n",
    "X = data.drop('rank', axis=1)  # Features\n",
    "y = data['rank']  # Target variable\n",
    "\n",
    "X_train, X_test, y_train, y_test = train_test_split(X, y, test_size=0.2, random_state=42)\n",
    "\n",
    "# Step 4: Model Training\n",
    "model = LinearRegression()  # You can choose a different regression model if desired\n",
    "model.fit(X_train, y_train)\n",
    "\n",
    "# Step 5: Model Evaluation\n",
    "y_pred = model.predict(X_test)\n",
    "mse = mean_squared_error(y_test, y_pred)\n",
    "print('Mean Squared Error:', mse)\n"
   ]
  },
  {
   "cell_type": "code",
   "execution_count": 6,
   "id": "69c2d835",
   "metadata": {},
   "outputs": [
    {
     "name": "stdout",
     "output_type": "stream",
     "text": [
      "Mean Absolute Error: 20.703654211689575\n"
     ]
    }
   ],
   "source": [
    "# Step 5: Model Evaluation\n",
    "y_pred = model.predict(X_test)\n",
    "mae = mean_absolute_error(y_test, y_pred)\n",
    "print('Mean Absolute Error:', mae)"
   ]
  },
  {
   "cell_type": "code",
   "execution_count": 7,
   "id": "40f0274a",
   "metadata": {},
   "outputs": [
    {
     "name": "stdout",
     "output_type": "stream",
     "text": [
      "Root Mean Squared Error: 28.796133016622655\n"
     ]
    }
   ],
   "source": [
    "# Step 5: Model Evaluation\n",
    "y_pred = model.predict(X_test)\n",
    "mse = mean_squared_error(y_test, y_pred)\n",
    "rmse = mean_squared_error(y_test, y_pred, squared=False)\n",
    "print('Root Mean Squared Error:', rmse)"
   ]
  },
  {
   "cell_type": "code",
   "execution_count": 8,
   "id": "db14a4c9",
   "metadata": {},
   "outputs": [
    {
     "name": "stdout",
     "output_type": "stream",
     "text": [
      "R-squared: 0.7541291160543387\n"
     ]
    }
   ],
   "source": [
    "# Step 5: Model Evaluation\n",
    "y_pred = model.predict(X_test)\n",
    "r2 = r2_score(y_test, y_pred)\n",
    "print('R-squared:', r2)\n"
   ]
  },
  {
   "cell_type": "code",
   "execution_count": 9,
   "id": "0ab7c52e",
   "metadata": {},
   "outputs": [],
   "source": [
    "# # Step 6: Make predictions on new data\n",
    "# # Preprocess the new data, ensuring it has the same columns as the training data\n",
    "# new_data = pd.read_csv('new_data.csv')  # Replace 'new_data.csv' with the actual filename\n",
    "# # Apply the same preprocessing steps and feature engineering as done before\n",
    "\n",
    "# new_predictions = model.predict(new_data)\n",
    "\n",
    "# # Print the predicted ranks for the next week\n",
    "# print('Predicted Ranks for the Next Week:')\n",
    "# for prediction in new_predictions:\n",
    "#     print(prediction)"
   ]
  }
 ],
 "metadata": {
  "kernelspec": {
   "display_name": "Python 3 (ipykernel)",
   "language": "python",
   "name": "python3"
  },
  "language_info": {
   "codemirror_mode": {
    "name": "ipython",
    "version": 3
   },
   "file_extension": ".py",
   "mimetype": "text/x-python",
   "name": "python",
   "nbconvert_exporter": "python",
   "pygments_lexer": "ipython3",
   "version": "3.9.13"
  }
 },
 "nbformat": 4,
 "nbformat_minor": 5
}
