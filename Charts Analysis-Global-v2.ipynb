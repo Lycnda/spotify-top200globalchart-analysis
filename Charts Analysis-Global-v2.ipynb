{
 "cells": [
  {
   "cell_type": "code",
   "execution_count": 1,
   "metadata": {},
   "outputs": [],
   "source": [
    "import pandas as pd\n",
    "import glob2\n",
    "import matplotlib.pyplot as plt\n",
    "import datetime\n",
    "import re\n",
    "from datetime import datetime, timedelta\n",
    "%matplotlib inline"
   ]
  },
  {
   "cell_type": "code",
   "execution_count": 2,
   "metadata": {},
   "outputs": [],
   "source": [
    "locale_name = \"global\"\n",
    "read_enc_val =\"ISO-8859-1\"\n",
    "read_enc_val =\"cp1252\"\n",
    "read_enc_val =\"utf-8\""
   ]
  },
  {
   "cell_type": "code",
   "execution_count": 3,
   "metadata": {},
   "outputs": [],
   "source": [
    "global_music_file_paths = glob2.glob('spotify ' + locale_name + ' v2/*.csv')"
   ]
  },
  {
   "cell_type": "code",
   "execution_count": 4,
   "metadata": {
    "scrolled": true
   },
   "outputs": [
    {
     "name": "stdout",
     "output_type": "stream",
     "text": [
      "392\n"
     ]
    }
   ],
   "source": [
    "print(len(global_music_file_paths))"
   ]
  },
  {
   "cell_type": "code",
   "execution_count": 5,
   "metadata": {},
   "outputs": [
    {
     "name": "stdout",
     "output_type": "stream",
     "text": [
      "['spotify global v2\\\\regional-global-weekly-2016-12-29.csv', 'spotify global v2\\\\regional-global-weekly-2017-01-05.csv', 'spotify global v2\\\\regional-global-weekly-2017-01-12.csv', 'spotify global v2\\\\regional-global-weekly-2017-01-19.csv']\n"
     ]
    }
   ],
   "source": [
    "print(global_music_file_paths[:4])"
   ]
  },
  {
   "cell_type": "code",
   "execution_count": 6,
   "metadata": {},
   "outputs": [],
   "source": [
    "# global_music_file_paths"
   ]
  },
  {
   "cell_type": "code",
   "execution_count": 7,
   "metadata": {},
   "outputs": [],
   "source": [
    "#Add the dates to the files - run once\n",
    "def addsDatesToData():\n",
    "    to_remove_front = \"spotify \" +locale_name+ \" v2\\\\regional-\" +locale_name+\"-weekly-\"\n",
    "    to_remove_back = \".csv\"\n",
    "\n",
    "    len_front_remove = len(to_remove_front)\n",
    "    len_back_remove = len(to_remove_back)\n",
    "    \n",
    "    removed_files_n = 0\n",
    "\n",
    "    for file in global_music_file_paths: \n",
    "        try:\n",
    "            the_data_in_file = pd.read_csv(file, encoding=read_enc_val)\n",
    "            \n",
    "            the_dates = file[len_front_remove:]\n",
    "            the_dates = the_dates[:-len_back_remove]\n",
    "\n",
    "            split_dates = the_dates.split(\"-\")\n",
    "\n",
    "            start_date = split_dates[0] + \"-\" + split_dates[1] + \"-\" + split_dates[2]\n",
    "\n",
    "\n",
    "            len_dates = the_data_in_file.shape[0]\n",
    "            start_dates = len_dates * [start_date]\n",
    "\n",
    "            date_columns = {\"End Date\": start_dates}   \n",
    "\n",
    "            the_data_in_file[\"End Date\"] = start_dates\n",
    "\n",
    "            #write the data back to the File\n",
    "            the_data_in_file.to_csv(file, index=False)\n",
    "            \n",
    "#         the_data_in_file = the_data_in_file.iloc[1: , :]\n",
    "#         the_data_in_file.columns = [\"Position\", \"Track Name\", \"Artist\", \"Streams\", \"URL\"]\n",
    "        except:\n",
    "            removed_files_n +=1\n",
    "            print(file)\n",
    "            \n",
    "    print(removed_files_n)\n",
    "        \n",
    "#remove dates in existing files\n",
    "def removeExistingDates():\n",
    "    for file in global_music_file_paths:\n",
    "        \n",
    "        the_data_in_file = pd.read_csv(file, encoding=read_enc_val, sep=\",\")\n",
    "\n",
    "        the_data_in_file.drop([\"Start Date\", \"End Date\"], axis=1, inplace=True) \n",
    "\n",
    "        the_data_in_file.to_csv(file, index=False)\n",
    "    \n",
    "#check for dates ... opting for removal and putting them back on\n"
   ]
  },
  {
   "cell_type": "code",
   "execution_count": 8,
   "metadata": {},
   "outputs": [],
   "source": [
    "# all_files_dates = pd.DataFrame()\n",
    "# def findmissingDates():\n",
    "#     all_files_dates = pd.read_csv(\"all_files.csv\", encoding=\"utf-8\")\n",
    "    \n",
    "#     all_files_dates = all_files_dates[[\"Start Date\", \"End Date\"]] \n",
    "    \n",
    "#     all_files_dates = all_files_dates.drop_duplicates().reset_index().drop([\"index\"], axis=1)\n",
    "    \n",
    "#     return all_files_dates   "
   ]
  },
  {
   "cell_type": "code",
   "execution_count": 9,
   "metadata": {},
   "outputs": [],
   "source": [
    "# all_files_dates = findmissingDates()"
   ]
  },
  {
   "cell_type": "code",
   "execution_count": 10,
   "metadata": {},
   "outputs": [],
   "source": [
    "# all_files_dates"
   ]
  },
  {
   "cell_type": "code",
   "execution_count": 11,
   "metadata": {
    "scrolled": true
   },
   "outputs": [
    {
     "name": "stdout",
     "output_type": "stream",
     "text": [
      "0\n"
     ]
    }
   ],
   "source": [
    "# removeExistingDates()\n",
    "addsDatesToData()"
   ]
  },
  {
   "cell_type": "code",
   "execution_count": 12,
   "metadata": {},
   "outputs": [],
   "source": [
    "# the_data_in_file"
   ]
  },
  {
   "cell_type": "code",
   "execution_count": 13,
   "metadata": {},
   "outputs": [],
   "source": [
    "# pd.date_range(start ='2019-11-01', end = '2019-12-27').difference(all_files_dates.index)"
   ]
  },
  {
   "cell_type": "code",
   "execution_count": 14,
   "metadata": {},
   "outputs": [],
   "source": [
    "# stop"
   ]
  },
  {
   "cell_type": "code",
   "execution_count": 15,
   "metadata": {},
   "outputs": [],
   "source": [
    "#Combine the files and sort by dates\n",
    "all_files = []\n",
    "trouble_files = []\n",
    "for file in global_music_file_paths:\n",
    "    the_data_in_file = pd.read_csv(file)\n",
    "    \n",
    "    if(\"URL\" in list(the_data_in_file.columns)):\n",
    "    \n",
    "        the_data_in_file = the_data_in_file.drop([\"URL\"], axis=1)\n",
    "    \n",
    "    list_vals = sum(list(the_data_in_file.isnull().sum()))\n",
    "    \n",
    "    if(list_vals > 0):\n",
    "        trouble_files.append(file)\n",
    "    all_files.append(the_data_in_file)\n",
    "    \n",
    "the_spotify_data = pd.concat(all_files) \n",
    "# trouble_files_df = pd.concat(trouble_files)"
   ]
  },
  {
   "cell_type": "code",
   "execution_count": 16,
   "metadata": {},
   "outputs": [],
   "source": [
    "# the_spotify_data[\"Start Date\"].unique().tolist()"
   ]
  },
  {
   "cell_type": "code",
   "execution_count": 17,
   "metadata": {},
   "outputs": [],
   "source": [
    "# stop"
   ]
  },
  {
   "cell_type": "code",
   "execution_count": 18,
   "metadata": {},
   "outputs": [],
   "source": [
    "all_cols = list(the_spotify_data.columns)\n",
    "drop_cols = []\n",
    "\n",
    "for col in all_cols:\n",
    "    if(\"Unnamed\" in col or \"artificial\" in col):\n",
    "        drop_cols.append(col)\n",
    "        \n",
    "the_spotify_data.drop(drop_cols, axis=1, inplace = True)"
   ]
  },
  {
   "cell_type": "code",
   "execution_count": 19,
   "metadata": {},
   "outputs": [
    {
     "data": {
      "text/plain": [
       "Index(['rank', 'uri', 'artist_names', 'track_name', 'source', 'peak_rank',\n",
       "       'previous_rank', 'weeks_on_chart', 'streams', 'End Date'],\n",
       "      dtype='object')"
      ]
     },
     "execution_count": 19,
     "metadata": {},
     "output_type": "execute_result"
    }
   ],
   "source": [
    "the_spotify_data.columns"
   ]
  },
  {
   "cell_type": "code",
   "execution_count": 20,
   "metadata": {},
   "outputs": [
    {
     "data": {
      "text/html": [
       "<div>\n",
       "<style scoped>\n",
       "    .dataframe tbody tr th:only-of-type {\n",
       "        vertical-align: middle;\n",
       "    }\n",
       "\n",
       "    .dataframe tbody tr th {\n",
       "        vertical-align: top;\n",
       "    }\n",
       "\n",
       "    .dataframe thead th {\n",
       "        text-align: right;\n",
       "    }\n",
       "</style>\n",
       "<table border=\"1\" class=\"dataframe\">\n",
       "  <thead>\n",
       "    <tr style=\"text-align: right;\">\n",
       "      <th></th>\n",
       "      <th>rank</th>\n",
       "      <th>uri</th>\n",
       "      <th>artist_names</th>\n",
       "      <th>track_name</th>\n",
       "      <th>source</th>\n",
       "      <th>peak_rank</th>\n",
       "      <th>previous_rank</th>\n",
       "      <th>weeks_on_chart</th>\n",
       "      <th>streams</th>\n",
       "      <th>End Date</th>\n",
       "    </tr>\n",
       "  </thead>\n",
       "  <tbody>\n",
       "    <tr>\n",
       "      <th>0</th>\n",
       "      <td>1</td>\n",
       "      <td>spotify:track:5aAx2yezTd8zXrkmtKl66Z</td>\n",
       "      <td>The Weeknd, Daft Punk</td>\n",
       "      <td>Starboy</td>\n",
       "      <td>Universal Republic Records</td>\n",
       "      <td>1</td>\n",
       "      <td>-1</td>\n",
       "      <td>1</td>\n",
       "      <td>25286465</td>\n",
       "      <td>2016-12-29</td>\n",
       "    </tr>\n",
       "    <tr>\n",
       "      <th>1</th>\n",
       "      <td>2</td>\n",
       "      <td>spotify:track:7BKLCZ1jbUBVqRi2FVlTVw</td>\n",
       "      <td>The Chainsmokers, Halsey</td>\n",
       "      <td>Closer</td>\n",
       "      <td>Disruptor Records/Columbia</td>\n",
       "      <td>2</td>\n",
       "      <td>-1</td>\n",
       "      <td>1</td>\n",
       "      <td>22047697</td>\n",
       "      <td>2016-12-29</td>\n",
       "    </tr>\n",
       "    <tr>\n",
       "      <th>2</th>\n",
       "      <td>3</td>\n",
       "      <td>spotify:track:5knuzwU65gJK7IF5yJsuaW</td>\n",
       "      <td>Clean Bandit, Sean Paul, Anne-Marie</td>\n",
       "      <td>Rockabye (feat. Sean Paul &amp; Anne-Marie)</td>\n",
       "      <td>Atlantic Records UK</td>\n",
       "      <td>3</td>\n",
       "      <td>-1</td>\n",
       "      <td>1</td>\n",
       "      <td>19794482</td>\n",
       "      <td>2016-12-29</td>\n",
       "    </tr>\n",
       "    <tr>\n",
       "      <th>3</th>\n",
       "      <td>4</td>\n",
       "      <td>spotify:track:4pdPtRcBmOSQDlJ3Fk945m</td>\n",
       "      <td>DJ Snake, Justin Bieber</td>\n",
       "      <td>Let Me Love You</td>\n",
       "      <td>DJ Snake Def Jam</td>\n",
       "      <td>4</td>\n",
       "      <td>-1</td>\n",
       "      <td>1</td>\n",
       "      <td>17965723</td>\n",
       "      <td>2016-12-29</td>\n",
       "    </tr>\n",
       "    <tr>\n",
       "      <th>4</th>\n",
       "      <td>5</td>\n",
       "      <td>spotify:track:5MFzQMkrl1FOOng9tq6R9r</td>\n",
       "      <td>Maroon 5, Kendrick Lamar</td>\n",
       "      <td>Don't Wanna Know (feat. Kendrick Lamar)</td>\n",
       "      <td>Interscope Records*</td>\n",
       "      <td>5</td>\n",
       "      <td>-1</td>\n",
       "      <td>1</td>\n",
       "      <td>16966668</td>\n",
       "      <td>2016-12-29</td>\n",
       "    </tr>\n",
       "    <tr>\n",
       "      <th>...</th>\n",
       "      <td>...</td>\n",
       "      <td>...</td>\n",
       "      <td>...</td>\n",
       "      <td>...</td>\n",
       "      <td>...</td>\n",
       "      <td>...</td>\n",
       "      <td>...</td>\n",
       "      <td>...</td>\n",
       "      <td>...</td>\n",
       "      <td>...</td>\n",
       "    </tr>\n",
       "    <tr>\n",
       "      <th>195</th>\n",
       "      <td>196</td>\n",
       "      <td>spotify:track:2aYZaN5SmkRDLsrrV8GkBQ</td>\n",
       "      <td>Peso Pluma, Neton Vega</td>\n",
       "      <td>LA PATRULLA</td>\n",
       "      <td>2024 Double P Records</td>\n",
       "      <td>196</td>\n",
       "      <td>-1</td>\n",
       "      <td>1</td>\n",
       "      <td>8644987</td>\n",
       "      <td>2024-06-27</td>\n",
       "    </tr>\n",
       "    <tr>\n",
       "      <th>196</th>\n",
       "      <td>197</td>\n",
       "      <td>spotify:track:4gbVRS8gloEluzf0GzDOFc</td>\n",
       "      <td>Maroon 5</td>\n",
       "      <td>Maps</td>\n",
       "      <td>Interscope Records*</td>\n",
       "      <td>171</td>\n",
       "      <td>-1</td>\n",
       "      <td>17</td>\n",
       "      <td>8640488</td>\n",
       "      <td>2024-06-27</td>\n",
       "    </tr>\n",
       "    <tr>\n",
       "      <th>197</th>\n",
       "      <td>198</td>\n",
       "      <td>spotify:track:1TfqLAPs4K3s2rJMoCokcS</td>\n",
       "      <td>Eurythmics, Annie Lennox, Dave Stewart</td>\n",
       "      <td>Sweet Dreams (Are Made of This) - Remastered</td>\n",
       "      <td>RCA Records Label</td>\n",
       "      <td>198</td>\n",
       "      <td>-1</td>\n",
       "      <td>1</td>\n",
       "      <td>8599235</td>\n",
       "      <td>2024-06-27</td>\n",
       "    </tr>\n",
       "    <tr>\n",
       "      <th>198</th>\n",
       "      <td>199</td>\n",
       "      <td>spotify:track:2HbKqm4o0w5wEeEFXm2sD4</td>\n",
       "      <td>Kendrick Lamar, Jay Rock</td>\n",
       "      <td>Money Trees</td>\n",
       "      <td>Aftermath</td>\n",
       "      <td>62</td>\n",
       "      <td>-1</td>\n",
       "      <td>55</td>\n",
       "      <td>8587996</td>\n",
       "      <td>2024-06-27</td>\n",
       "    </tr>\n",
       "    <tr>\n",
       "      <th>199</th>\n",
       "      <td>200</td>\n",
       "      <td>spotify:track:4BP3uh0hFLFRb5cjsgLqDh</td>\n",
       "      <td>Creedence Clearwater Revival</td>\n",
       "      <td>Fortunate Son</td>\n",
       "      <td>Craft Recordings</td>\n",
       "      <td>158</td>\n",
       "      <td>-1</td>\n",
       "      <td>3</td>\n",
       "      <td>8575740</td>\n",
       "      <td>2024-06-27</td>\n",
       "    </tr>\n",
       "  </tbody>\n",
       "</table>\n",
       "<p>78382 rows × 10 columns</p>\n",
       "</div>"
      ],
      "text/plain": [
       "     rank                                   uri  \\\n",
       "0       1  spotify:track:5aAx2yezTd8zXrkmtKl66Z   \n",
       "1       2  spotify:track:7BKLCZ1jbUBVqRi2FVlTVw   \n",
       "2       3  spotify:track:5knuzwU65gJK7IF5yJsuaW   \n",
       "3       4  spotify:track:4pdPtRcBmOSQDlJ3Fk945m   \n",
       "4       5  spotify:track:5MFzQMkrl1FOOng9tq6R9r   \n",
       "..    ...                                   ...   \n",
       "195   196  spotify:track:2aYZaN5SmkRDLsrrV8GkBQ   \n",
       "196   197  spotify:track:4gbVRS8gloEluzf0GzDOFc   \n",
       "197   198  spotify:track:1TfqLAPs4K3s2rJMoCokcS   \n",
       "198   199  spotify:track:2HbKqm4o0w5wEeEFXm2sD4   \n",
       "199   200  spotify:track:4BP3uh0hFLFRb5cjsgLqDh   \n",
       "\n",
       "                               artist_names  \\\n",
       "0                     The Weeknd, Daft Punk   \n",
       "1                  The Chainsmokers, Halsey   \n",
       "2       Clean Bandit, Sean Paul, Anne-Marie   \n",
       "3                   DJ Snake, Justin Bieber   \n",
       "4                  Maroon 5, Kendrick Lamar   \n",
       "..                                      ...   \n",
       "195                  Peso Pluma, Neton Vega   \n",
       "196                                Maroon 5   \n",
       "197  Eurythmics, Annie Lennox, Dave Stewart   \n",
       "198                Kendrick Lamar, Jay Rock   \n",
       "199            Creedence Clearwater Revival   \n",
       "\n",
       "                                       track_name                      source  \\\n",
       "0                                         Starboy  Universal Republic Records   \n",
       "1                                          Closer  Disruptor Records/Columbia   \n",
       "2         Rockabye (feat. Sean Paul & Anne-Marie)         Atlantic Records UK   \n",
       "3                                 Let Me Love You            DJ Snake Def Jam   \n",
       "4         Don't Wanna Know (feat. Kendrick Lamar)         Interscope Records*   \n",
       "..                                            ...                         ...   \n",
       "195                                   LA PATRULLA       2024 Double P Records   \n",
       "196                                          Maps         Interscope Records*   \n",
       "197  Sweet Dreams (Are Made of This) - Remastered           RCA Records Label   \n",
       "198                                   Money Trees                   Aftermath   \n",
       "199                                 Fortunate Son            Craft Recordings   \n",
       "\n",
       "     peak_rank  previous_rank  weeks_on_chart   streams    End Date  \n",
       "0            1             -1               1  25286465  2016-12-29  \n",
       "1            2             -1               1  22047697  2016-12-29  \n",
       "2            3             -1               1  19794482  2016-12-29  \n",
       "3            4             -1               1  17965723  2016-12-29  \n",
       "4            5             -1               1  16966668  2016-12-29  \n",
       "..         ...            ...             ...       ...         ...  \n",
       "195        196             -1               1   8644987  2024-06-27  \n",
       "196        171             -1              17   8640488  2024-06-27  \n",
       "197        198             -1               1   8599235  2024-06-27  \n",
       "198         62             -1              55   8587996  2024-06-27  \n",
       "199        158             -1               3   8575740  2024-06-27  \n",
       "\n",
       "[78382 rows x 10 columns]"
      ]
     },
     "execution_count": 20,
     "metadata": {},
     "output_type": "execute_result"
    }
   ],
   "source": [
    "the_spotify_data"
   ]
  },
  {
   "cell_type": "code",
   "execution_count": 21,
   "metadata": {},
   "outputs": [],
   "source": [
    "# the_spotify_data[\"End Date\"].unique().tolist()"
   ]
  },
  {
   "cell_type": "markdown",
   "metadata": {},
   "source": [
    "### Error checking that all the Thursday dates are present"
   ]
  },
  {
   "cell_type": "code",
   "execution_count": 22,
   "metadata": {},
   "outputs": [],
   "source": [
    "date_list = the_spotify_data[\"End Date\"].unique().tolist()\n",
    "start_date = date_list[0]\n",
    "end_date = date_list[len(date_list)-1]"
   ]
  },
  {
   "cell_type": "code",
   "execution_count": 23,
   "metadata": {},
   "outputs": [
    {
     "data": {
      "text/plain": [
       "392"
      ]
     },
     "execution_count": 23,
     "metadata": {},
     "output_type": "execute_result"
    }
   ],
   "source": [
    "len(date_list)"
   ]
  },
  {
   "cell_type": "code",
   "execution_count": 24,
   "metadata": {},
   "outputs": [
    {
     "data": {
      "text/plain": [
       "('2016-12-29', '2024-06-27')"
      ]
     },
     "execution_count": 24,
     "metadata": {},
     "output_type": "execute_result"
    }
   ],
   "source": [
    "start_date, end_date"
   ]
  },
  {
   "cell_type": "code",
   "execution_count": 25,
   "metadata": {},
   "outputs": [
    {
     "name": "stdout",
     "output_type": "stream",
     "text": [
      "thursdays_in_range:  392\n",
      "date_set:  392\n",
      "All Thursdays are present in the range.\n",
      "All Thursdays present: True\n"
     ]
    }
   ],
   "source": [
    "def check_thursdays_in_range(date_list, start_date, end_date):\n",
    "    # Convert start_date and end_date strings to datetime objects\n",
    "    start_date = datetime.strptime(start_date, \"%Y-%m-%d\")\n",
    "    end_date = datetime.strptime(end_date, \"%Y-%m-%d\")\n",
    "    \n",
    "    # Initialize a set to store Thursdays in the range\n",
    "    thursdays_in_range = set()\n",
    "    \n",
    "    # Iterate through the range of dates and add Thursdays to the set\n",
    "    current_date = start_date\n",
    "    while current_date <= end_date:\n",
    "        if current_date.weekday() == 3:  # Thursday\n",
    "            thursdays_in_range.add(current_date.strftime(\"%Y-%m-%d\"))\n",
    "        current_date += timedelta(days=1)\n",
    "    \n",
    "    # Convert date_list to a set for efficient membership checking\n",
    "    date_set = set(date_list)\n",
    "    \n",
    "    # Find missing Thursdays\n",
    "    missing_thursdays = sorted(thursdays_in_range - date_set)\n",
    "    print(\"thursdays_in_range: \", len(thursdays_in_range))\n",
    "    print(\"date_set: \", len(date_set))\n",
    "    \n",
    "    if missing_thursdays:\n",
    "        print(\"Missing Thursdays in the range:\")\n",
    "        for thursday in missing_thursdays:\n",
    "            print(thursday)\n",
    "        return False\n",
    "    else:\n",
    "        print(\"All Thursdays are present in the range.\")\n",
    "        return True\n",
    "\n",
    "result = check_thursdays_in_range(date_list, start_date, end_date)\n",
    "print(\"All Thursdays present:\", result)\n"
   ]
  },
  {
   "cell_type": "code",
   "execution_count": 26,
   "metadata": {},
   "outputs": [],
   "source": [
    "the_spotify_data[\"Week\"] = the_spotify_data[\"End Date\"].apply(lambda x : datetime.strptime(x, '%Y-%m-%d'))\n",
    "the_spotify_data[\"Year\"] = the_spotify_data[\"Week\"]\n",
    "\n",
    "the_spotify_data['Week'] = the_spotify_data['Week'].apply(lambda x : x.isocalendar()[1] )\n",
    "the_spotify_data['Year'] = the_spotify_data['Year'].apply(lambda x : x.isocalendar()[0] )\n",
    "\n",
    "# the_spotify_data[\"Start Date Dt\"] = the_spotify_data[\"Start Date\"].apply(lambda x : datetime.strptime(x, '%Y-%m-%d'))\n",
    "the_spotify_data[\"End Date Dt\"] = the_spotify_data[\"End Date\"].apply(lambda x : datetime.strptime(x, '%Y-%m-%d'))\n",
    "the_spotify_data['Seconds since Epoch'] = the_spotify_data['End Date Dt'].apply(lambda x : round(x.timestamp(), 0))"
   ]
  },
  {
   "cell_type": "code",
   "execution_count": 27,
   "metadata": {},
   "outputs": [],
   "source": [
    "#get the month when this happened\n",
    "def changedaytotheFirst(x):\n",
    "    x = x[:-2] + \"01\"\n",
    "    \n",
    "    return x"
   ]
  },
  {
   "cell_type": "code",
   "execution_count": 28,
   "metadata": {},
   "outputs": [],
   "source": [
    "the_spotify_data[\"End Date Aggregated\"] = the_spotify_data[\"End Date\"].apply(lambda x : changedaytotheFirst(x) )"
   ]
  },
  {
   "cell_type": "code",
   "execution_count": 29,
   "metadata": {},
   "outputs": [],
   "source": [
    "# the_spotify_data[[\"artist_names\"]]"
   ]
  },
  {
   "cell_type": "code",
   "execution_count": 30,
   "metadata": {},
   "outputs": [],
   "source": [
    "# stop"
   ]
  },
  {
   "cell_type": "code",
   "execution_count": 31,
   "metadata": {},
   "outputs": [],
   "source": [
    "#find the number of artists on the track\n",
    "the_spotify_data.dropna(inplace=True)\n",
    "\n",
    "enc_val = \"utf-8\"\n",
    "enc_val = read_enc_val\n",
    "\n",
    "the_spotify_data[\"artist_names\"] = the_spotify_data[\"artist_names\"].apply(lambda x : x.encode(enc_val).decode(\"latin-1\"))\n",
    "the_spotify_data[\"artist_names\"] = the_spotify_data[\"artist_names\"].apply(lambda x : re.sub(r'[^\\x00-\\x7F]+','', x))\n",
    "the_spotify_data[\"artist_names\"] = the_spotify_data.apply(lambda x : x[\"artist_names\"] + \"Artist_NA\" if(x[\"artist_names\"] == \"\") else x[\"artist_names\"], axis=1)\n",
    "\n",
    "the_spotify_data[\"track_name\"] = the_spotify_data[\"track_name\"].apply(lambda x : x.encode(enc_val).decode(\"latin-1\"))\n",
    "the_spotify_data[\"track_name\"] = the_spotify_data[\"track_name\"].apply(lambda x : re.sub(r'[^\\x00-\\x7F]+','', x))\n",
    "the_spotify_data[\"track_name\"] = the_spotify_data.apply(lambda x : x[\"artist_names\"] + \"_NA\" if(x[\"track_name\"] == \"\") else x[\"track_name\"], axis=1)\n",
    "\n",
    "def countNumberArtists(x):\n",
    "    len_all_featured_artists = 0\n",
    "    num_artists = 0\n",
    "    xvals = x.split(\"feat\")\n",
    "    len_xvals = len(xvals)\n",
    "    \n",
    "    if(len_xvals > 1):\n",
    "        featured_artists = xvals[1:]\n",
    "        featured_artists_str = ' '.join(featured_artists)\n",
    "        all_featured_artists = featured_artists_str.split(\"& \")\n",
    "        len_all_featured_artists = len(all_featured_artists)\n",
    "        \n",
    "    num_artists = 1 + len_all_featured_artists\n",
    "    \n",
    "    return num_artists\n",
    "        \n",
    "    \n",
    "the_spotify_data['ArtistCount'] = the_spotify_data['track_name'].apply(lambda x : countNumberArtists(x))"
   ]
  },
  {
   "cell_type": "code",
   "execution_count": 32,
   "metadata": {
    "scrolled": true
   },
   "outputs": [
    {
     "data": {
      "text/plain": [
       "(78382, 16)"
      ]
     },
     "execution_count": 32,
     "metadata": {},
     "output_type": "execute_result"
    }
   ],
   "source": [
    "the_spotify_data.shape"
   ]
  },
  {
   "cell_type": "code",
   "execution_count": 33,
   "metadata": {},
   "outputs": [],
   "source": [
    "the_spotify_data[\"main_artist\"] = the_spotify_data.apply(lambda x : x[\"artist_names\"].split(\",\")[0], axis=1)"
   ]
  },
  {
   "cell_type": "code",
   "execution_count": 34,
   "metadata": {},
   "outputs": [],
   "source": [
    "the_spotify_data = the_spotify_data.reset_index()\n",
    "the_spotify_data.drop([\"index\"], axis=1, inplace=True)"
   ]
  },
  {
   "cell_type": "code",
   "execution_count": 35,
   "metadata": {},
   "outputs": [
    {
     "data": {
      "text/plain": [
       "(78382, 17)"
      ]
     },
     "execution_count": 35,
     "metadata": {},
     "output_type": "execute_result"
    }
   ],
   "source": [
    "the_spotify_data.shape"
   ]
  },
  {
   "cell_type": "code",
   "execution_count": 36,
   "metadata": {},
   "outputs": [],
   "source": [
    "def everInTopTen(x):\n",
    "    position_vals = list(x[\"rank\"])\n",
    "    position_vals = list(set(position_vals))\n",
    "    \n",
    "#     print(position_vals)\n",
    "    \n",
    "    min_pos = min(position_vals)\n",
    "    existence_val = 0\n",
    "    \n",
    "    if(min_pos <= 10):\n",
    "        existence_val = 1\n",
    "    \n",
    "    x[\"isTopTen\"] = [existence_val] * len(x)\n",
    "    \n",
    "    return x\n",
    "    \n",
    "the_spotify_data = the_spotify_data[~the_spotify_data.index.duplicated()]\n",
    "the_spotify_data = the_spotify_data.groupby([\"artist_names\", \"track_name\"]).apply(lambda x : everInTopTen(x))"
   ]
  },
  {
   "cell_type": "code",
   "execution_count": 37,
   "metadata": {},
   "outputs": [
    {
     "data": {
      "text/html": [
       "<div>\n",
       "<style scoped>\n",
       "    .dataframe tbody tr th:only-of-type {\n",
       "        vertical-align: middle;\n",
       "    }\n",
       "\n",
       "    .dataframe tbody tr th {\n",
       "        vertical-align: top;\n",
       "    }\n",
       "\n",
       "    .dataframe thead th {\n",
       "        text-align: right;\n",
       "    }\n",
       "</style>\n",
       "<table border=\"1\" class=\"dataframe\">\n",
       "  <thead>\n",
       "    <tr style=\"text-align: right;\">\n",
       "      <th></th>\n",
       "      <th>rank</th>\n",
       "      <th>uri</th>\n",
       "      <th>artist_names</th>\n",
       "      <th>track_name</th>\n",
       "      <th>source</th>\n",
       "      <th>peak_rank</th>\n",
       "      <th>previous_rank</th>\n",
       "      <th>weeks_on_chart</th>\n",
       "      <th>streams</th>\n",
       "      <th>End Date</th>\n",
       "      <th>Week</th>\n",
       "      <th>Year</th>\n",
       "      <th>End Date Dt</th>\n",
       "      <th>Seconds since Epoch</th>\n",
       "      <th>End Date Aggregated</th>\n",
       "      <th>ArtistCount</th>\n",
       "      <th>main_artist</th>\n",
       "      <th>isTopTen</th>\n",
       "    </tr>\n",
       "  </thead>\n",
       "  <tbody>\n",
       "    <tr>\n",
       "      <th>0</th>\n",
       "      <td>1</td>\n",
       "      <td>spotify:track:5aAx2yezTd8zXrkmtKl66Z</td>\n",
       "      <td>The Weeknd, Daft Punk</td>\n",
       "      <td>Starboy</td>\n",
       "      <td>Universal Republic Records</td>\n",
       "      <td>1</td>\n",
       "      <td>-1</td>\n",
       "      <td>1</td>\n",
       "      <td>25286465</td>\n",
       "      <td>2016-12-29</td>\n",
       "      <td>52</td>\n",
       "      <td>2016</td>\n",
       "      <td>2016-12-29</td>\n",
       "      <td>1.482970e+09</td>\n",
       "      <td>2016-12-01</td>\n",
       "      <td>1</td>\n",
       "      <td>The Weeknd</td>\n",
       "      <td>1</td>\n",
       "    </tr>\n",
       "    <tr>\n",
       "      <th>1</th>\n",
       "      <td>2</td>\n",
       "      <td>spotify:track:7BKLCZ1jbUBVqRi2FVlTVw</td>\n",
       "      <td>The Chainsmokers, Halsey</td>\n",
       "      <td>Closer</td>\n",
       "      <td>Disruptor Records/Columbia</td>\n",
       "      <td>2</td>\n",
       "      <td>-1</td>\n",
       "      <td>1</td>\n",
       "      <td>22047697</td>\n",
       "      <td>2016-12-29</td>\n",
       "      <td>52</td>\n",
       "      <td>2016</td>\n",
       "      <td>2016-12-29</td>\n",
       "      <td>1.482970e+09</td>\n",
       "      <td>2016-12-01</td>\n",
       "      <td>1</td>\n",
       "      <td>The Chainsmokers</td>\n",
       "      <td>1</td>\n",
       "    </tr>\n",
       "    <tr>\n",
       "      <th>2</th>\n",
       "      <td>3</td>\n",
       "      <td>spotify:track:5knuzwU65gJK7IF5yJsuaW</td>\n",
       "      <td>Clean Bandit, Sean Paul, Anne-Marie</td>\n",
       "      <td>Rockabye (feat. Sean Paul &amp; Anne-Marie)</td>\n",
       "      <td>Atlantic Records UK</td>\n",
       "      <td>3</td>\n",
       "      <td>-1</td>\n",
       "      <td>1</td>\n",
       "      <td>19794482</td>\n",
       "      <td>2016-12-29</td>\n",
       "      <td>52</td>\n",
       "      <td>2016</td>\n",
       "      <td>2016-12-29</td>\n",
       "      <td>1.482970e+09</td>\n",
       "      <td>2016-12-01</td>\n",
       "      <td>3</td>\n",
       "      <td>Clean Bandit</td>\n",
       "      <td>1</td>\n",
       "    </tr>\n",
       "    <tr>\n",
       "      <th>3</th>\n",
       "      <td>4</td>\n",
       "      <td>spotify:track:4pdPtRcBmOSQDlJ3Fk945m</td>\n",
       "      <td>DJ Snake, Justin Bieber</td>\n",
       "      <td>Let Me Love You</td>\n",
       "      <td>DJ Snake Def Jam</td>\n",
       "      <td>4</td>\n",
       "      <td>-1</td>\n",
       "      <td>1</td>\n",
       "      <td>17965723</td>\n",
       "      <td>2016-12-29</td>\n",
       "      <td>52</td>\n",
       "      <td>2016</td>\n",
       "      <td>2016-12-29</td>\n",
       "      <td>1.482970e+09</td>\n",
       "      <td>2016-12-01</td>\n",
       "      <td>1</td>\n",
       "      <td>DJ Snake</td>\n",
       "      <td>1</td>\n",
       "    </tr>\n",
       "    <tr>\n",
       "      <th>4</th>\n",
       "      <td>5</td>\n",
       "      <td>spotify:track:5MFzQMkrl1FOOng9tq6R9r</td>\n",
       "      <td>Maroon 5, Kendrick Lamar</td>\n",
       "      <td>Don't Wanna Know (feat. Kendrick Lamar)</td>\n",
       "      <td>Interscope Records*</td>\n",
       "      <td>5</td>\n",
       "      <td>-1</td>\n",
       "      <td>1</td>\n",
       "      <td>16966668</td>\n",
       "      <td>2016-12-29</td>\n",
       "      <td>52</td>\n",
       "      <td>2016</td>\n",
       "      <td>2016-12-29</td>\n",
       "      <td>1.482970e+09</td>\n",
       "      <td>2016-12-01</td>\n",
       "      <td>2</td>\n",
       "      <td>Maroon 5</td>\n",
       "      <td>1</td>\n",
       "    </tr>\n",
       "  </tbody>\n",
       "</table>\n",
       "</div>"
      ],
      "text/plain": [
       "   rank                                   uri  \\\n",
       "0     1  spotify:track:5aAx2yezTd8zXrkmtKl66Z   \n",
       "1     2  spotify:track:7BKLCZ1jbUBVqRi2FVlTVw   \n",
       "2     3  spotify:track:5knuzwU65gJK7IF5yJsuaW   \n",
       "3     4  spotify:track:4pdPtRcBmOSQDlJ3Fk945m   \n",
       "4     5  spotify:track:5MFzQMkrl1FOOng9tq6R9r   \n",
       "\n",
       "                          artist_names  \\\n",
       "0                The Weeknd, Daft Punk   \n",
       "1             The Chainsmokers, Halsey   \n",
       "2  Clean Bandit, Sean Paul, Anne-Marie   \n",
       "3              DJ Snake, Justin Bieber   \n",
       "4             Maroon 5, Kendrick Lamar   \n",
       "\n",
       "                                track_name                      source  \\\n",
       "0                                  Starboy  Universal Republic Records   \n",
       "1                                   Closer  Disruptor Records/Columbia   \n",
       "2  Rockabye (feat. Sean Paul & Anne-Marie)         Atlantic Records UK   \n",
       "3                          Let Me Love You            DJ Snake Def Jam   \n",
       "4  Don't Wanna Know (feat. Kendrick Lamar)         Interscope Records*   \n",
       "\n",
       "   peak_rank  previous_rank  weeks_on_chart   streams    End Date  Week  Year  \\\n",
       "0          1             -1               1  25286465  2016-12-29    52  2016   \n",
       "1          2             -1               1  22047697  2016-12-29    52  2016   \n",
       "2          3             -1               1  19794482  2016-12-29    52  2016   \n",
       "3          4             -1               1  17965723  2016-12-29    52  2016   \n",
       "4          5             -1               1  16966668  2016-12-29    52  2016   \n",
       "\n",
       "  End Date Dt  Seconds since Epoch End Date Aggregated  ArtistCount  \\\n",
       "0  2016-12-29         1.482970e+09          2016-12-01            1   \n",
       "1  2016-12-29         1.482970e+09          2016-12-01            1   \n",
       "2  2016-12-29         1.482970e+09          2016-12-01            3   \n",
       "3  2016-12-29         1.482970e+09          2016-12-01            1   \n",
       "4  2016-12-29         1.482970e+09          2016-12-01            2   \n",
       "\n",
       "        main_artist  isTopTen  \n",
       "0        The Weeknd         1  \n",
       "1  The Chainsmokers         1  \n",
       "2      Clean Bandit         1  \n",
       "3          DJ Snake         1  \n",
       "4          Maroon 5         1  "
      ]
     },
     "execution_count": 37,
     "metadata": {},
     "output_type": "execute_result"
    }
   ],
   "source": [
    "the_spotify_data.head()"
   ]
  },
  {
   "cell_type": "markdown",
   "metadata": {},
   "source": [
    "### When did the track reach the Top 10 "
   ]
  },
  {
   "cell_type": "markdown",
   "metadata": {},
   "source": [
    "### how long does a song last on the charts?"
   ]
  },
  {
   "cell_type": "code",
   "execution_count": 38,
   "metadata": {},
   "outputs": [],
   "source": [
    "# def lengthSong(x):\n",
    "#     min_date = min(x[\"Start Date\"])\n",
    "#     max_date = max(x[\"End Date\"])\n",
    "    \n",
    "#     def convertStrToDate(y):\n",
    "#         split_date = y.split(\"-\")\n",
    "#         dateindtformat = datetime(int(split_date[0]), int(split_date[1]), int(split_date[2]))\n",
    "        \n",
    "#         return dateindtformat\n",
    "    \n",
    "#     x[\"lenOnCharts\"] = [int(((convertStrToDate(max_date) - convertStrToDate(min_date)).total_seconds() / 604800)) ] * len(x)\n",
    "#     x[\"lenOnCharts\"] = x[\"lenOnCharts\"]\n",
    "    \n",
    "#     return x\n",
    "    \n",
    "# the_spotify_data = the_spotify_data.groupby([\"Artist\", \"Track Name\"], as_index=False).apply(lambda x : lengthSong(x))"
   ]
  },
  {
   "cell_type": "code",
   "execution_count": 39,
   "metadata": {},
   "outputs": [
    {
     "data": {
      "text/html": [
       "<div>\n",
       "<style scoped>\n",
       "    .dataframe tbody tr th:only-of-type {\n",
       "        vertical-align: middle;\n",
       "    }\n",
       "\n",
       "    .dataframe tbody tr th {\n",
       "        vertical-align: top;\n",
       "    }\n",
       "\n",
       "    .dataframe thead th {\n",
       "        text-align: right;\n",
       "    }\n",
       "</style>\n",
       "<table border=\"1\" class=\"dataframe\">\n",
       "  <thead>\n",
       "    <tr style=\"text-align: right;\">\n",
       "      <th></th>\n",
       "      <th>rank</th>\n",
       "      <th>uri</th>\n",
       "      <th>artist_names</th>\n",
       "      <th>track_name</th>\n",
       "      <th>source</th>\n",
       "      <th>peak_rank</th>\n",
       "      <th>previous_rank</th>\n",
       "      <th>weeks_on_chart</th>\n",
       "      <th>streams</th>\n",
       "      <th>End Date</th>\n",
       "      <th>Week</th>\n",
       "      <th>Year</th>\n",
       "      <th>End Date Dt</th>\n",
       "      <th>Seconds since Epoch</th>\n",
       "      <th>End Date Aggregated</th>\n",
       "      <th>ArtistCount</th>\n",
       "      <th>main_artist</th>\n",
       "      <th>isTopTen</th>\n",
       "    </tr>\n",
       "  </thead>\n",
       "  <tbody>\n",
       "    <tr>\n",
       "      <th>0</th>\n",
       "      <td>1</td>\n",
       "      <td>spotify:track:5aAx2yezTd8zXrkmtKl66Z</td>\n",
       "      <td>The Weeknd, Daft Punk</td>\n",
       "      <td>Starboy</td>\n",
       "      <td>Universal Republic Records</td>\n",
       "      <td>1</td>\n",
       "      <td>-1</td>\n",
       "      <td>1</td>\n",
       "      <td>25286465</td>\n",
       "      <td>2016-12-29</td>\n",
       "      <td>52</td>\n",
       "      <td>2016</td>\n",
       "      <td>2016-12-29</td>\n",
       "      <td>1.482970e+09</td>\n",
       "      <td>2016-12-01</td>\n",
       "      <td>1</td>\n",
       "      <td>The Weeknd</td>\n",
       "      <td>1</td>\n",
       "    </tr>\n",
       "    <tr>\n",
       "      <th>1</th>\n",
       "      <td>2</td>\n",
       "      <td>spotify:track:7BKLCZ1jbUBVqRi2FVlTVw</td>\n",
       "      <td>The Chainsmokers, Halsey</td>\n",
       "      <td>Closer</td>\n",
       "      <td>Disruptor Records/Columbia</td>\n",
       "      <td>2</td>\n",
       "      <td>-1</td>\n",
       "      <td>1</td>\n",
       "      <td>22047697</td>\n",
       "      <td>2016-12-29</td>\n",
       "      <td>52</td>\n",
       "      <td>2016</td>\n",
       "      <td>2016-12-29</td>\n",
       "      <td>1.482970e+09</td>\n",
       "      <td>2016-12-01</td>\n",
       "      <td>1</td>\n",
       "      <td>The Chainsmokers</td>\n",
       "      <td>1</td>\n",
       "    </tr>\n",
       "    <tr>\n",
       "      <th>2</th>\n",
       "      <td>3</td>\n",
       "      <td>spotify:track:5knuzwU65gJK7IF5yJsuaW</td>\n",
       "      <td>Clean Bandit, Sean Paul, Anne-Marie</td>\n",
       "      <td>Rockabye (feat. Sean Paul &amp; Anne-Marie)</td>\n",
       "      <td>Atlantic Records UK</td>\n",
       "      <td>3</td>\n",
       "      <td>-1</td>\n",
       "      <td>1</td>\n",
       "      <td>19794482</td>\n",
       "      <td>2016-12-29</td>\n",
       "      <td>52</td>\n",
       "      <td>2016</td>\n",
       "      <td>2016-12-29</td>\n",
       "      <td>1.482970e+09</td>\n",
       "      <td>2016-12-01</td>\n",
       "      <td>3</td>\n",
       "      <td>Clean Bandit</td>\n",
       "      <td>1</td>\n",
       "    </tr>\n",
       "    <tr>\n",
       "      <th>3</th>\n",
       "      <td>4</td>\n",
       "      <td>spotify:track:4pdPtRcBmOSQDlJ3Fk945m</td>\n",
       "      <td>DJ Snake, Justin Bieber</td>\n",
       "      <td>Let Me Love You</td>\n",
       "      <td>DJ Snake Def Jam</td>\n",
       "      <td>4</td>\n",
       "      <td>-1</td>\n",
       "      <td>1</td>\n",
       "      <td>17965723</td>\n",
       "      <td>2016-12-29</td>\n",
       "      <td>52</td>\n",
       "      <td>2016</td>\n",
       "      <td>2016-12-29</td>\n",
       "      <td>1.482970e+09</td>\n",
       "      <td>2016-12-01</td>\n",
       "      <td>1</td>\n",
       "      <td>DJ Snake</td>\n",
       "      <td>1</td>\n",
       "    </tr>\n",
       "    <tr>\n",
       "      <th>4</th>\n",
       "      <td>5</td>\n",
       "      <td>spotify:track:5MFzQMkrl1FOOng9tq6R9r</td>\n",
       "      <td>Maroon 5, Kendrick Lamar</td>\n",
       "      <td>Don't Wanna Know (feat. Kendrick Lamar)</td>\n",
       "      <td>Interscope Records*</td>\n",
       "      <td>5</td>\n",
       "      <td>-1</td>\n",
       "      <td>1</td>\n",
       "      <td>16966668</td>\n",
       "      <td>2016-12-29</td>\n",
       "      <td>52</td>\n",
       "      <td>2016</td>\n",
       "      <td>2016-12-29</td>\n",
       "      <td>1.482970e+09</td>\n",
       "      <td>2016-12-01</td>\n",
       "      <td>2</td>\n",
       "      <td>Maroon 5</td>\n",
       "      <td>1</td>\n",
       "    </tr>\n",
       "  </tbody>\n",
       "</table>\n",
       "</div>"
      ],
      "text/plain": [
       "   rank                                   uri  \\\n",
       "0     1  spotify:track:5aAx2yezTd8zXrkmtKl66Z   \n",
       "1     2  spotify:track:7BKLCZ1jbUBVqRi2FVlTVw   \n",
       "2     3  spotify:track:5knuzwU65gJK7IF5yJsuaW   \n",
       "3     4  spotify:track:4pdPtRcBmOSQDlJ3Fk945m   \n",
       "4     5  spotify:track:5MFzQMkrl1FOOng9tq6R9r   \n",
       "\n",
       "                          artist_names  \\\n",
       "0                The Weeknd, Daft Punk   \n",
       "1             The Chainsmokers, Halsey   \n",
       "2  Clean Bandit, Sean Paul, Anne-Marie   \n",
       "3              DJ Snake, Justin Bieber   \n",
       "4             Maroon 5, Kendrick Lamar   \n",
       "\n",
       "                                track_name                      source  \\\n",
       "0                                  Starboy  Universal Republic Records   \n",
       "1                                   Closer  Disruptor Records/Columbia   \n",
       "2  Rockabye (feat. Sean Paul & Anne-Marie)         Atlantic Records UK   \n",
       "3                          Let Me Love You            DJ Snake Def Jam   \n",
       "4  Don't Wanna Know (feat. Kendrick Lamar)         Interscope Records*   \n",
       "\n",
       "   peak_rank  previous_rank  weeks_on_chart   streams    End Date  Week  Year  \\\n",
       "0          1             -1               1  25286465  2016-12-29    52  2016   \n",
       "1          2             -1               1  22047697  2016-12-29    52  2016   \n",
       "2          3             -1               1  19794482  2016-12-29    52  2016   \n",
       "3          4             -1               1  17965723  2016-12-29    52  2016   \n",
       "4          5             -1               1  16966668  2016-12-29    52  2016   \n",
       "\n",
       "  End Date Dt  Seconds since Epoch End Date Aggregated  ArtistCount  \\\n",
       "0  2016-12-29         1.482970e+09          2016-12-01            1   \n",
       "1  2016-12-29         1.482970e+09          2016-12-01            1   \n",
       "2  2016-12-29         1.482970e+09          2016-12-01            3   \n",
       "3  2016-12-29         1.482970e+09          2016-12-01            1   \n",
       "4  2016-12-29         1.482970e+09          2016-12-01            2   \n",
       "\n",
       "        main_artist  isTopTen  \n",
       "0        The Weeknd         1  \n",
       "1  The Chainsmokers         1  \n",
       "2      Clean Bandit         1  \n",
       "3          DJ Snake         1  \n",
       "4          Maroon 5         1  "
      ]
     },
     "execution_count": 39,
     "metadata": {},
     "output_type": "execute_result"
    }
   ],
   "source": [
    "the_spotify_data.head()"
   ]
  },
  {
   "cell_type": "code",
   "execution_count": 40,
   "metadata": {},
   "outputs": [
    {
     "data": {
      "text/plain": [
       "0    51971\n",
       "1    26411\n",
       "Name: isTopTen, dtype: int64"
      ]
     },
     "execution_count": 40,
     "metadata": {},
     "output_type": "execute_result"
    }
   ],
   "source": [
    "the_spotify_data[\"isTopTen\"].value_counts()"
   ]
  },
  {
   "cell_type": "code",
   "execution_count": 41,
   "metadata": {},
   "outputs": [
    {
     "data": {
      "text/plain": [
       "rank                   0\n",
       "uri                    0\n",
       "artist_names           0\n",
       "track_name             0\n",
       "source                 0\n",
       "peak_rank              0\n",
       "previous_rank          0\n",
       "weeks_on_chart         0\n",
       "streams                0\n",
       "End Date               0\n",
       "Week                   0\n",
       "Year                   0\n",
       "End Date Dt            0\n",
       "Seconds since Epoch    0\n",
       "End Date Aggregated    0\n",
       "ArtistCount            0\n",
       "main_artist            0\n",
       "isTopTen               0\n",
       "dtype: int64"
      ]
     },
     "execution_count": 41,
     "metadata": {},
     "output_type": "execute_result"
    }
   ],
   "source": [
    "the_spotify_data.isnull().sum()"
   ]
  },
  {
   "cell_type": "code",
   "execution_count": 42,
   "metadata": {},
   "outputs": [
    {
     "name": "stdout",
     "output_type": "stream",
     "text": [
      "1322\n"
     ]
    }
   ],
   "source": [
    "unique_artists = the_spotify_data[\"main_artist\"].unique().tolist()\n",
    "num_artists = len(unique_artists)\n",
    "print(num_artists)"
   ]
  },
  {
   "cell_type": "code",
   "execution_count": 43,
   "metadata": {},
   "outputs": [],
   "source": [
    "### find new artists in that week"
   ]
  },
  {
   "cell_type": "code",
   "execution_count": 44,
   "metadata": {},
   "outputs": [],
   "source": [
    "# the_spotify_data.head(12)\n",
    "def getArtistAppearanceCount(x):\n",
    "    \n",
    "    x = x.reset_index()\n",
    "    x.drop([\"index\"],axis=1,inplace=True)\n",
    "    x = x.reset_index()\n",
    "    \n",
    "    x_cols = x.columns\n",
    "    \n",
    "    x_cols = [w.replace('index', 'artistAppearanceCount') for w in x_cols]\n",
    "    \n",
    "    x.columns = x_cols\n",
    "    \n",
    "    return x        \n",
    "    \n",
    "the_spotify_data =the_spotify_data.groupby([\"main_artist\"], as_index=False).apply(lambda x : getArtistAppearanceCount(x))\n",
    "the_spotify_data = the_spotify_data.reset_index()\n",
    "the_spotify_data.drop([\"level_0\", \"level_1\"], inplace=True, axis=1)"
   ]
  },
  {
   "cell_type": "code",
   "execution_count": 45,
   "metadata": {},
   "outputs": [
    {
     "data": {
      "text/html": [
       "<div>\n",
       "<style scoped>\n",
       "    .dataframe tbody tr th:only-of-type {\n",
       "        vertical-align: middle;\n",
       "    }\n",
       "\n",
       "    .dataframe tbody tr th {\n",
       "        vertical-align: top;\n",
       "    }\n",
       "\n",
       "    .dataframe thead th {\n",
       "        text-align: right;\n",
       "    }\n",
       "</style>\n",
       "<table border=\"1\" class=\"dataframe\">\n",
       "  <thead>\n",
       "    <tr style=\"text-align: right;\">\n",
       "      <th></th>\n",
       "      <th>artistAppearanceCount</th>\n",
       "      <th>rank</th>\n",
       "      <th>uri</th>\n",
       "      <th>artist_names</th>\n",
       "      <th>track_name</th>\n",
       "      <th>source</th>\n",
       "      <th>peak_rank</th>\n",
       "      <th>previous_rank</th>\n",
       "      <th>weeks_on_chart</th>\n",
       "      <th>streams</th>\n",
       "      <th>End Date</th>\n",
       "      <th>Week</th>\n",
       "      <th>Year</th>\n",
       "      <th>End Date Dt</th>\n",
       "      <th>Seconds since Epoch</th>\n",
       "      <th>End Date Aggregated</th>\n",
       "      <th>ArtistCount</th>\n",
       "      <th>main_artist</th>\n",
       "      <th>isTopTen</th>\n",
       "    </tr>\n",
       "  </thead>\n",
       "  <tbody>\n",
       "    <tr>\n",
       "      <th>0</th>\n",
       "      <td>0</td>\n",
       "      <td>4</td>\n",
       "      <td>spotify:track:3w0w2T288dec0mgeZZqoNN</td>\n",
       "      <td>$, Kanye West, Ty Dolla $ign, Rich The Kid, Pl...</td>\n",
       "      <td>CARNIVAL</td>\n",
       "      <td>Ye</td>\n",
       "      <td>4</td>\n",
       "      <td>-1</td>\n",
       "      <td>1</td>\n",
       "      <td>32277135</td>\n",
       "      <td>2024-02-15</td>\n",
       "      <td>7</td>\n",
       "      <td>2024</td>\n",
       "      <td>2024-02-15</td>\n",
       "      <td>1.707955e+09</td>\n",
       "      <td>2024-02-01</td>\n",
       "      <td>1</td>\n",
       "      <td>$</td>\n",
       "      <td>1</td>\n",
       "    </tr>\n",
       "    <tr>\n",
       "      <th>1</th>\n",
       "      <td>1</td>\n",
       "      <td>17</td>\n",
       "      <td>spotify:track:5tEaVciE2GnR28aN6W9cLS</td>\n",
       "      <td>$, Kanye West, Ty Dolla $ign</td>\n",
       "      <td>FUK SUMN</td>\n",
       "      <td>Ye</td>\n",
       "      <td>17</td>\n",
       "      <td>-1</td>\n",
       "      <td>1</td>\n",
       "      <td>20785329</td>\n",
       "      <td>2024-02-15</td>\n",
       "      <td>7</td>\n",
       "      <td>2024</td>\n",
       "      <td>2024-02-15</td>\n",
       "      <td>1.707955e+09</td>\n",
       "      <td>2024-02-01</td>\n",
       "      <td>1</td>\n",
       "      <td>$</td>\n",
       "      <td>0</td>\n",
       "    </tr>\n",
       "    <tr>\n",
       "      <th>2</th>\n",
       "      <td>2</td>\n",
       "      <td>21</td>\n",
       "      <td>spotify:track:04CyMEHliadfQWMUJb1w99</td>\n",
       "      <td>$, Kanye West, Ty Dolla $ign</td>\n",
       "      <td>BURN</td>\n",
       "      <td>Ye</td>\n",
       "      <td>21</td>\n",
       "      <td>-1</td>\n",
       "      <td>1</td>\n",
       "      <td>19646355</td>\n",
       "      <td>2024-02-15</td>\n",
       "      <td>7</td>\n",
       "      <td>2024</td>\n",
       "      <td>2024-02-15</td>\n",
       "      <td>1.707955e+09</td>\n",
       "      <td>2024-02-01</td>\n",
       "      <td>1</td>\n",
       "      <td>$</td>\n",
       "      <td>0</td>\n",
       "    </tr>\n",
       "    <tr>\n",
       "      <th>3</th>\n",
       "      <td>3</td>\n",
       "      <td>22</td>\n",
       "      <td>spotify:track:1eaqMiiUn2P7MnqJK4XeK0</td>\n",
       "      <td>$, Kanye West, Ty Dolla $ign</td>\n",
       "      <td>TALKING</td>\n",
       "      <td>Ye</td>\n",
       "      <td>22</td>\n",
       "      <td>-1</td>\n",
       "      <td>1</td>\n",
       "      <td>19503365</td>\n",
       "      <td>2024-02-15</td>\n",
       "      <td>7</td>\n",
       "      <td>2024</td>\n",
       "      <td>2024-02-15</td>\n",
       "      <td>1.707955e+09</td>\n",
       "      <td>2024-02-01</td>\n",
       "      <td>1</td>\n",
       "      <td>$</td>\n",
       "      <td>0</td>\n",
       "    </tr>\n",
       "    <tr>\n",
       "      <th>4</th>\n",
       "      <td>4</td>\n",
       "      <td>24</td>\n",
       "      <td>spotify:track:1icgLGTpX2fQXKRe4D7w2b</td>\n",
       "      <td>$, Kanye West, Ty Dolla $ign</td>\n",
       "      <td>BACK TO ME</td>\n",
       "      <td>Ye</td>\n",
       "      <td>24</td>\n",
       "      <td>-1</td>\n",
       "      <td>1</td>\n",
       "      <td>19028110</td>\n",
       "      <td>2024-02-15</td>\n",
       "      <td>7</td>\n",
       "      <td>2024</td>\n",
       "      <td>2024-02-15</td>\n",
       "      <td>1.707955e+09</td>\n",
       "      <td>2024-02-01</td>\n",
       "      <td>1</td>\n",
       "      <td>$</td>\n",
       "      <td>0</td>\n",
       "    </tr>\n",
       "  </tbody>\n",
       "</table>\n",
       "</div>"
      ],
      "text/plain": [
       "   artistAppearanceCount  rank                                   uri  \\\n",
       "0                      0     4  spotify:track:3w0w2T288dec0mgeZZqoNN   \n",
       "1                      1    17  spotify:track:5tEaVciE2GnR28aN6W9cLS   \n",
       "2                      2    21  spotify:track:04CyMEHliadfQWMUJb1w99   \n",
       "3                      3    22  spotify:track:1eaqMiiUn2P7MnqJK4XeK0   \n",
       "4                      4    24  spotify:track:1icgLGTpX2fQXKRe4D7w2b   \n",
       "\n",
       "                                        artist_names  track_name source  \\\n",
       "0  $, Kanye West, Ty Dolla $ign, Rich The Kid, Pl...    CARNIVAL     Ye   \n",
       "1                       $, Kanye West, Ty Dolla $ign    FUK SUMN     Ye   \n",
       "2                       $, Kanye West, Ty Dolla $ign        BURN     Ye   \n",
       "3                       $, Kanye West, Ty Dolla $ign     TALKING     Ye   \n",
       "4                       $, Kanye West, Ty Dolla $ign  BACK TO ME     Ye   \n",
       "\n",
       "   peak_rank  previous_rank  weeks_on_chart   streams    End Date  Week  Year  \\\n",
       "0          4             -1               1  32277135  2024-02-15     7  2024   \n",
       "1         17             -1               1  20785329  2024-02-15     7  2024   \n",
       "2         21             -1               1  19646355  2024-02-15     7  2024   \n",
       "3         22             -1               1  19503365  2024-02-15     7  2024   \n",
       "4         24             -1               1  19028110  2024-02-15     7  2024   \n",
       "\n",
       "  End Date Dt  Seconds since Epoch End Date Aggregated  ArtistCount  \\\n",
       "0  2024-02-15         1.707955e+09          2024-02-01            1   \n",
       "1  2024-02-15         1.707955e+09          2024-02-01            1   \n",
       "2  2024-02-15         1.707955e+09          2024-02-01            1   \n",
       "3  2024-02-15         1.707955e+09          2024-02-01            1   \n",
       "4  2024-02-15         1.707955e+09          2024-02-01            1   \n",
       "\n",
       "  main_artist  isTopTen  \n",
       "0           $         1  \n",
       "1           $         0  \n",
       "2           $         0  \n",
       "3           $         0  \n",
       "4           $         0  "
      ]
     },
     "execution_count": 45,
     "metadata": {},
     "output_type": "execute_result"
    }
   ],
   "source": [
    "the_spotify_data.head()"
   ]
  },
  {
   "cell_type": "code",
   "execution_count": 46,
   "metadata": {},
   "outputs": [],
   "source": [
    "def getTrackAppearanceCount(x):\n",
    "    \n",
    "    x = x.reset_index()\n",
    "    x.drop([\"index\"],axis=1,inplace=True)\n",
    "    x = x.reset_index()\n",
    "    \n",
    "    x_cols = x.columns\n",
    "    \n",
    "    x_cols = [w.replace('index', 'trackAppearanceCount') for w in x_cols]\n",
    "    \n",
    "    x.columns = x_cols\n",
    "    \n",
    "    return x         \n",
    "    \n",
    "the_spotify_data = the_spotify_data.groupby([\"artist_names\", \"track_name\"], as_index=False).apply(lambda x : getTrackAppearanceCount(x))\n",
    "the_spotify_data = the_spotify_data.reset_index()\n",
    "the_spotify_data.drop([\"level_0\", \"level_1\"], inplace=True, axis=1)"
   ]
  },
  {
   "cell_type": "code",
   "execution_count": 47,
   "metadata": {},
   "outputs": [
    {
     "data": {
      "text/html": [
       "<div>\n",
       "<style scoped>\n",
       "    .dataframe tbody tr th:only-of-type {\n",
       "        vertical-align: middle;\n",
       "    }\n",
       "\n",
       "    .dataframe tbody tr th {\n",
       "        vertical-align: top;\n",
       "    }\n",
       "\n",
       "    .dataframe thead th {\n",
       "        text-align: right;\n",
       "    }\n",
       "</style>\n",
       "<table border=\"1\" class=\"dataframe\">\n",
       "  <thead>\n",
       "    <tr style=\"text-align: right;\">\n",
       "      <th></th>\n",
       "      <th>trackAppearanceCount</th>\n",
       "      <th>artistAppearanceCount</th>\n",
       "      <th>rank</th>\n",
       "      <th>uri</th>\n",
       "      <th>artist_names</th>\n",
       "      <th>track_name</th>\n",
       "      <th>source</th>\n",
       "      <th>peak_rank</th>\n",
       "      <th>previous_rank</th>\n",
       "      <th>weeks_on_chart</th>\n",
       "      <th>streams</th>\n",
       "      <th>End Date</th>\n",
       "      <th>Week</th>\n",
       "      <th>Year</th>\n",
       "      <th>End Date Dt</th>\n",
       "      <th>Seconds since Epoch</th>\n",
       "      <th>End Date Aggregated</th>\n",
       "      <th>ArtistCount</th>\n",
       "      <th>main_artist</th>\n",
       "      <th>isTopTen</th>\n",
       "    </tr>\n",
       "  </thead>\n",
       "  <tbody>\n",
       "    <tr>\n",
       "      <th>0</th>\n",
       "      <td>0</td>\n",
       "      <td>4</td>\n",
       "      <td>24</td>\n",
       "      <td>spotify:track:1icgLGTpX2fQXKRe4D7w2b</td>\n",
       "      <td>$, Kanye West, Ty Dolla $ign</td>\n",
       "      <td>BACK TO ME</td>\n",
       "      <td>Ye</td>\n",
       "      <td>24</td>\n",
       "      <td>-1</td>\n",
       "      <td>1</td>\n",
       "      <td>19028110</td>\n",
       "      <td>2024-02-15</td>\n",
       "      <td>7</td>\n",
       "      <td>2024</td>\n",
       "      <td>2024-02-15</td>\n",
       "      <td>1.707955e+09</td>\n",
       "      <td>2024-02-01</td>\n",
       "      <td>1</td>\n",
       "      <td>$</td>\n",
       "      <td>0</td>\n",
       "    </tr>\n",
       "    <tr>\n",
       "      <th>1</th>\n",
       "      <td>1</td>\n",
       "      <td>17</td>\n",
       "      <td>81</td>\n",
       "      <td>spotify:track:1icgLGTpX2fQXKRe4D7w2b</td>\n",
       "      <td>$, Kanye West, Ty Dolla $ign</td>\n",
       "      <td>BACK TO ME</td>\n",
       "      <td>Ye</td>\n",
       "      <td>24</td>\n",
       "      <td>24</td>\n",
       "      <td>2</td>\n",
       "      <td>11837092</td>\n",
       "      <td>2024-02-22</td>\n",
       "      <td>8</td>\n",
       "      <td>2024</td>\n",
       "      <td>2024-02-22</td>\n",
       "      <td>1.708560e+09</td>\n",
       "      <td>2024-02-01</td>\n",
       "      <td>1</td>\n",
       "      <td>$</td>\n",
       "      <td>0</td>\n",
       "    </tr>\n",
       "    <tr>\n",
       "      <th>2</th>\n",
       "      <td>0</td>\n",
       "      <td>11</td>\n",
       "      <td>89</td>\n",
       "      <td>spotify:track:4ihV1wv7QmjbkLHaT9lA4s</td>\n",
       "      <td>$, Kanye West, Ty Dolla $ign</td>\n",
       "      <td>BEG FORGIVENESS</td>\n",
       "      <td>Ye</td>\n",
       "      <td>89</td>\n",
       "      <td>-1</td>\n",
       "      <td>1</td>\n",
       "      <td>11802992</td>\n",
       "      <td>2024-02-15</td>\n",
       "      <td>7</td>\n",
       "      <td>2024</td>\n",
       "      <td>2024-02-15</td>\n",
       "      <td>1.707955e+09</td>\n",
       "      <td>2024-02-01</td>\n",
       "      <td>1</td>\n",
       "      <td>$</td>\n",
       "      <td>0</td>\n",
       "    </tr>\n",
       "    <tr>\n",
       "      <th>3</th>\n",
       "      <td>0</td>\n",
       "      <td>2</td>\n",
       "      <td>21</td>\n",
       "      <td>spotify:track:04CyMEHliadfQWMUJb1w99</td>\n",
       "      <td>$, Kanye West, Ty Dolla $ign</td>\n",
       "      <td>BURN</td>\n",
       "      <td>Ye</td>\n",
       "      <td>21</td>\n",
       "      <td>-1</td>\n",
       "      <td>1</td>\n",
       "      <td>19646355</td>\n",
       "      <td>2024-02-15</td>\n",
       "      <td>7</td>\n",
       "      <td>2024</td>\n",
       "      <td>2024-02-15</td>\n",
       "      <td>1.707955e+09</td>\n",
       "      <td>2024-02-01</td>\n",
       "      <td>1</td>\n",
       "      <td>$</td>\n",
       "      <td>0</td>\n",
       "    </tr>\n",
       "    <tr>\n",
       "      <th>4</th>\n",
       "      <td>1</td>\n",
       "      <td>15</td>\n",
       "      <td>36</td>\n",
       "      <td>spotify:track:04CyMEHliadfQWMUJb1w99</td>\n",
       "      <td>$, Kanye West, Ty Dolla $ign</td>\n",
       "      <td>BURN</td>\n",
       "      <td>Ye</td>\n",
       "      <td>21</td>\n",
       "      <td>21</td>\n",
       "      <td>2</td>\n",
       "      <td>16253330</td>\n",
       "      <td>2024-02-22</td>\n",
       "      <td>8</td>\n",
       "      <td>2024</td>\n",
       "      <td>2024-02-22</td>\n",
       "      <td>1.708560e+09</td>\n",
       "      <td>2024-02-01</td>\n",
       "      <td>1</td>\n",
       "      <td>$</td>\n",
       "      <td>0</td>\n",
       "    </tr>\n",
       "  </tbody>\n",
       "</table>\n",
       "</div>"
      ],
      "text/plain": [
       "   trackAppearanceCount  artistAppearanceCount  rank  \\\n",
       "0                     0                      4    24   \n",
       "1                     1                     17    81   \n",
       "2                     0                     11    89   \n",
       "3                     0                      2    21   \n",
       "4                     1                     15    36   \n",
       "\n",
       "                                    uri                  artist_names  \\\n",
       "0  spotify:track:1icgLGTpX2fQXKRe4D7w2b  $, Kanye West, Ty Dolla $ign   \n",
       "1  spotify:track:1icgLGTpX2fQXKRe4D7w2b  $, Kanye West, Ty Dolla $ign   \n",
       "2  spotify:track:4ihV1wv7QmjbkLHaT9lA4s  $, Kanye West, Ty Dolla $ign   \n",
       "3  spotify:track:04CyMEHliadfQWMUJb1w99  $, Kanye West, Ty Dolla $ign   \n",
       "4  spotify:track:04CyMEHliadfQWMUJb1w99  $, Kanye West, Ty Dolla $ign   \n",
       "\n",
       "        track_name source  peak_rank  previous_rank  weeks_on_chart   streams  \\\n",
       "0       BACK TO ME     Ye         24             -1               1  19028110   \n",
       "1       BACK TO ME     Ye         24             24               2  11837092   \n",
       "2  BEG FORGIVENESS     Ye         89             -1               1  11802992   \n",
       "3             BURN     Ye         21             -1               1  19646355   \n",
       "4             BURN     Ye         21             21               2  16253330   \n",
       "\n",
       "     End Date  Week  Year End Date Dt  Seconds since Epoch  \\\n",
       "0  2024-02-15     7  2024  2024-02-15         1.707955e+09   \n",
       "1  2024-02-22     8  2024  2024-02-22         1.708560e+09   \n",
       "2  2024-02-15     7  2024  2024-02-15         1.707955e+09   \n",
       "3  2024-02-15     7  2024  2024-02-15         1.707955e+09   \n",
       "4  2024-02-22     8  2024  2024-02-22         1.708560e+09   \n",
       "\n",
       "  End Date Aggregated  ArtistCount main_artist  isTopTen  \n",
       "0          2024-02-01            1           $         0  \n",
       "1          2024-02-01            1           $         0  \n",
       "2          2024-02-01            1           $         0  \n",
       "3          2024-02-01            1           $         0  \n",
       "4          2024-02-01            1           $         0  "
      ]
     },
     "execution_count": 47,
     "metadata": {},
     "output_type": "execute_result"
    }
   ],
   "source": [
    "the_spotify_data.head()"
   ]
  },
  {
   "cell_type": "code",
   "execution_count": 48,
   "metadata": {},
   "outputs": [],
   "source": [
    "# artists = the_spotify_data[\"Artist\"]\n",
    "# the_spotify_data.drop([\"Artist\"],axis=1,inplace=True)\n",
    "# the_spotify_data.reset_index(inplace=True)\n",
    "# the_spotify_data.drop([\"level_1\"], axis=1, inplace=True)\n",
    "# the_spotify_data[\"Artist\"] = list(artists)"
   ]
  },
  {
   "cell_type": "code",
   "execution_count": 49,
   "metadata": {},
   "outputs": [],
   "source": [
    "# the_spotify_data.drop(['index'], inplace=True, axis=1)"
   ]
  },
  {
   "cell_type": "code",
   "execution_count": 50,
   "metadata": {},
   "outputs": [],
   "source": [
    "# the_spotify_data[[\"Position\", \"Start Date\", \"End Date\"]].to_csv(\"the_spotify_data_val.csv\", index=False)"
   ]
  },
  {
   "cell_type": "code",
   "execution_count": 51,
   "metadata": {},
   "outputs": [],
   "source": [
    "# the_spotify_data.to_csv(\"the_spotify_data.csv\")"
   ]
  },
  {
   "cell_type": "code",
   "execution_count": 52,
   "metadata": {},
   "outputs": [],
   "source": [
    "the_spotify_data[\"rank\"] = the_spotify_data[\"rank\"].astype(int)\n",
    "the_spotify_data[\"streams\"] = the_spotify_data[\"streams\"].astype(int)\n",
    "the_spotify_data[\"ArtistCount\"] = the_spotify_data[\"ArtistCount\"].astype(int)\n",
    "\n",
    "the_spotify_data[\"isTopTen\"] = the_spotify_data[\"isTopTen\"].astype(int)\n",
    "# the_spotify_data[\"lenOnCharts\"] = the_spotify_data[\"lenOnCharts\"].astype(int)\n",
    "\n",
    "the_spotify_data[\"Year\"] = the_spotify_data[\"Year\"].astype(int)\n",
    "the_spotify_data[\"Week\"] = the_spotify_data[\"Week\"].astype(int)"
   ]
  },
  {
   "cell_type": "code",
   "execution_count": 53,
   "metadata": {},
   "outputs": [],
   "source": [
    "all_cols = list(the_spotify_data.columns)\n",
    "drop_cols = []\n",
    "\n",
    "for col in all_cols:\n",
    "    if(\"Unnamed\" in col or \"artificial\" in col):\n",
    "        drop_cols.append(col)\n",
    "        \n",
    "the_spotify_data.drop(drop_cols, axis=1, inplace = True)"
   ]
  },
  {
   "cell_type": "code",
   "execution_count": 54,
   "metadata": {},
   "outputs": [],
   "source": [
    "the_spotify_data[\"Artist and Track\"] = the_spotify_data[\"artist_names\"] + \"; \" + the_spotify_data[\"track_name\"]"
   ]
  },
  {
   "cell_type": "code",
   "execution_count": 55,
   "metadata": {},
   "outputs": [],
   "source": [
    "# the_spotify_data.to_csv(\"Classification/all_files.csv\", index=False)"
   ]
  },
  {
   "cell_type": "markdown",
   "metadata": {},
   "source": [
    "### Getting the list of Artists and Tracks"
   ]
  },
  {
   "cell_type": "code",
   "execution_count": 56,
   "metadata": {},
   "outputs": [],
   "source": [
    "import pandas as pd\n",
    "# import pymongo\n",
    "# import getlyrics"
   ]
  },
  {
   "cell_type": "code",
   "execution_count": 57,
   "metadata": {},
   "outputs": [],
   "source": [
    "def trackAppearance(x):\n",
    "#     x = x.reset_index()\n",
    "\n",
    "    x = x.sort_values(by=[\"End Date\"])\n",
    "#     x.set_index([\"Position\"])\n",
    "\n",
    "    x[\"rank\"] = x[\"rank\"].astype(int)\n",
    "#     print(list(x[\"Position\"]))\n",
    "    \n",
    "    x[\"rank difference\"] = x[\"rank\"].diff().fillna(0)\n",
    "    x[\"rank difference\"] = x[\"rank difference\"].astype(int)\n",
    "    \n",
    "#     x[\"Position Difference\"] = x[\"Position\"].sub(x[\"Position\"].shift())\n",
    "#     x.drop([\"index\"], inplace=True)\n",
    "    \n",
    "    return x\n",
    "    \n",
    "all_files_grouped = the_spotify_data.groupby([\"main_artist\", \"track_name\"]).apply(lambda x: trackAppearance(x))"
   ]
  },
  {
   "cell_type": "code",
   "execution_count": 58,
   "metadata": {},
   "outputs": [
    {
     "data": {
      "text/plain": [
       "191"
      ]
     },
     "execution_count": 58,
     "metadata": {},
     "output_type": "execute_result"
    }
   ],
   "source": [
    "all_files_grouped[\"rank difference\"].max()"
   ]
  },
  {
   "cell_type": "markdown",
   "metadata": {},
   "source": [
    "#### The number of streams per week"
   ]
  },
  {
   "cell_type": "code",
   "execution_count": 59,
   "metadata": {},
   "outputs": [
    {
     "data": {
      "text/plain": [
       "Index(['trackAppearanceCount', 'artistAppearanceCount', 'rank', 'uri',\n",
       "       'artist_names', 'track_name', 'source', 'peak_rank', 'previous_rank',\n",
       "       'weeks_on_chart', 'streams', 'End Date', 'Week', 'Year', 'End Date Dt',\n",
       "       'Seconds since Epoch', 'End Date Aggregated', 'ArtistCount',\n",
       "       'main_artist', 'isTopTen', 'Artist and Track', 'rank difference'],\n",
       "      dtype='object')"
      ]
     },
     "execution_count": 59,
     "metadata": {},
     "output_type": "execute_result"
    }
   ],
   "source": [
    "all_files_grouped.columns"
   ]
  },
  {
   "cell_type": "markdown",
   "metadata": {},
   "source": [
    "##### percentage of streams a track has in its first week, halfway and at the end of its tenure"
   ]
  },
  {
   "cell_type": "code",
   "execution_count": 60,
   "metadata": {},
   "outputs": [],
   "source": [
    "all_files_grouped[\"lower_main_artist\"] = all_files_grouped[\"main_artist\"].apply(lambda x : x.lower())"
   ]
  },
  {
   "cell_type": "code",
   "execution_count": 61,
   "metadata": {},
   "outputs": [],
   "source": [
    "# all_files_grouped[\"lower_main_artist\"]"
   ]
  },
  {
   "cell_type": "code",
   "execution_count": 62,
   "metadata": {},
   "outputs": [],
   "source": [
    "# filter the dataset to include only the tracks by the specific artist\n",
    "artist = 'taylor swift'\n",
    "artist_df = all_files_grouped[all_files_grouped['lower_main_artist'] == artist]"
   ]
  },
  {
   "cell_type": "code",
   "execution_count": 63,
   "metadata": {},
   "outputs": [],
   "source": [
    "def isFirstWeekOnly(x):\n",
    "    if(x==0):\n",
    "        return True\n",
    "    else:\n",
    "        return False   \n",
    "    \n",
    "def halfwaypointinChart(x):\n",
    "    \n",
    "    newx = round(x / 2)\n",
    "    \n",
    "    return newx\n",
    "\n",
    "def percstreamsindifftimes(x):\n",
    "    \n",
    "    # % of streams in 1st week \n",
    "    perc_first_week_stream = first_week_streams / total_streams\n",
    "    \n",
    "    # % of streams in halfway week\n",
    "    perc_halfway_week_stream = first_week_streams / total_streams\n",
    "    \n",
    "    \n",
    "    # % of streams in halfway week\n",
    "    perc_halfway_week_stream = first_week_streams / total_streams\n",
    "    \n",
    "    \n",
    "    return x\n",
    "    "
   ]
  },
  {
   "cell_type": "code",
   "execution_count": 64,
   "metadata": {},
   "outputs": [
    {
     "data": {
      "text/plain": [
       "(78382, 23)"
      ]
     },
     "execution_count": 64,
     "metadata": {},
     "output_type": "execute_result"
    }
   ],
   "source": [
    "all_files_grouped.shape"
   ]
  },
  {
   "cell_type": "markdown",
   "metadata": {},
   "source": [
    "### Position over time"
   ]
  },
  {
   "cell_type": "code",
   "execution_count": 65,
   "metadata": {},
   "outputs": [],
   "source": [
    "def positionvertime(x):\n",
    "    posovertime = 0\n",
    "    #new track\n",
    "    if(x[\"rank difference\"] == 0 and x[\"trackAppearanceCount\"]==0):\n",
    "        posovertime = 0\n",
    "    #track stayed in the same position\n",
    "    elif(x[\"rank difference\"] == 0 and x[\"trackAppearanceCount\"]!=0):\n",
    "        posovertime = 50\n",
    "    #track went up the chart\n",
    "    elif(x[\"rank difference\"] < 0):\n",
    "        posovertime = 75\n",
    "    #track fell down the chart\n",
    "    else:\n",
    "        posovertime = 100\n",
    "    return posovertime"
   ]
  },
  {
   "cell_type": "code",
   "execution_count": 66,
   "metadata": {},
   "outputs": [],
   "source": [
    "all_files_grouped[\"Position over Time\"] = all_files_grouped.apply(lambda x : positionvertime(x), axis=1)"
   ]
  },
  {
   "cell_type": "markdown",
   "metadata": {},
   "source": [
    "##### Add a Girl Group and Boy Group"
   ]
  },
  {
   "cell_type": "code",
   "execution_count": 67,
   "metadata": {},
   "outputs": [],
   "source": [
    "ggdf = pd.read_csv(\"Classification/ListofGirlGroups.csv\", encoding='ANSI')\n",
    "bgdf = pd.read_csv(\"Classification/ListofBoyGroups.csv\", on_bad_lines='skip', encoding='ANSI')"
   ]
  },
  {
   "cell_type": "code",
   "execution_count": 68,
   "metadata": {},
   "outputs": [],
   "source": [
    "def IsGG(ggdf, y):\n",
    "    ggs = [x.lower().strip() for x in ggdf[\"Artist\"]]\n",
    "    y = y.lower().strip()\n",
    "    \n",
    "    if y in ggs:\n",
    "        return True\n",
    "    else:\n",
    "        return False\n",
    "\n",
    "def IsBG(bgdf, y):\n",
    "    bgs = [x.lower().strip() for x in bgdf[\"Artist\"]]\n",
    "    y = y.lower().strip()\n",
    "    \n",
    "    if y in bgs:\n",
    "        return True\n",
    "    else:\n",
    "        return False"
   ]
  },
  {
   "cell_type": "code",
   "execution_count": 69,
   "metadata": {},
   "outputs": [],
   "source": [
    "all_files_grouped[\"IsGirlGroup\"] = all_files_grouped[\"main_artist\"].apply(lambda x : IsGG(ggdf, x))\n",
    "all_files_grouped[\"IsBoyGroup\"] = all_files_grouped[\"main_artist\"].apply(lambda x : IsGG(bgdf, x))"
   ]
  },
  {
   "cell_type": "code",
   "execution_count": 70,
   "metadata": {},
   "outputs": [],
   "source": [
    "ggs = all_files_grouped[all_files_grouped[\"IsGirlGroup\"]==True][\"main_artist\"].unique().tolist()\n",
    "bgs = all_files_grouped[all_files_grouped[\"IsBoyGroup\"]==True][\"main_artist\"].unique().tolist()"
   ]
  },
  {
   "cell_type": "code",
   "execution_count": 71,
   "metadata": {},
   "outputs": [],
   "source": [
    "# all_files_grouped = all_files_grouped.drop(*['lower_main_artist'],axis=1)"
   ]
  },
  {
   "cell_type": "code",
   "execution_count": 72,
   "metadata": {},
   "outputs": [],
   "source": [
    "all_files_grouped.to_csv(\"Classification/all_files_\"+locale_name+\"v1.csv\", index=False)"
   ]
  },
  {
   "cell_type": "code",
   "execution_count": 73,
   "metadata": {},
   "outputs": [
    {
     "data": {
      "text/plain": [
       "Index(['trackAppearanceCount', 'artistAppearanceCount', 'rank', 'uri',\n",
       "       'artist_names', 'track_name', 'source', 'peak_rank', 'previous_rank',\n",
       "       'weeks_on_chart', 'streams', 'End Date', 'Week', 'Year', 'End Date Dt',\n",
       "       'Seconds since Epoch', 'End Date Aggregated', 'ArtistCount',\n",
       "       'main_artist', 'isTopTen', 'Artist and Track', 'rank difference',\n",
       "       'lower_main_artist', 'Position over Time', 'IsGirlGroup', 'IsBoyGroup'],\n",
       "      dtype='object')"
      ]
     },
     "execution_count": 73,
     "metadata": {},
     "output_type": "execute_result"
    }
   ],
   "source": [
    "all_files_grouped.columns"
   ]
  }
 ],
 "metadata": {
  "kernelspec": {
   "display_name": "Python 3 (ipykernel)",
   "language": "python",
   "name": "python3"
  },
  "language_info": {
   "codemirror_mode": {
    "name": "ipython",
    "version": 3
   },
   "file_extension": ".py",
   "mimetype": "text/x-python",
   "name": "python",
   "nbconvert_exporter": "python",
   "pygments_lexer": "ipython3",
   "version": "3.9.13"
  }
 },
 "nbformat": 4,
 "nbformat_minor": 4
}
