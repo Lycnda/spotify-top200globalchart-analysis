{
 "cells": [
  {
   "cell_type": "code",
   "execution_count": 1,
   "metadata": {},
   "outputs": [],
   "source": [
    "import pandas as pd\n",
    "import glob2\n",
    "import matplotlib.pyplot as plt\n",
    "import datetime\n",
    "import re\n",
    "from datetime import datetime, timedelta\n",
    "%matplotlib inline"
   ]
  },
  {
   "cell_type": "code",
   "execution_count": 2,
   "metadata": {},
   "outputs": [],
   "source": [
    "globalfilesall = pd.read_csv(\"Classification/all_files_globalv1.csv\")"
   ]
  },
  {
   "cell_type": "code",
   "execution_count": 3,
   "metadata": {},
   "outputs": [
    {
     "data": {
      "text/plain": [
       "(54982, 23)"
      ]
     },
     "execution_count": 3,
     "metadata": {},
     "output_type": "execute_result"
    }
   ],
   "source": [
    "globalfilesall.shape"
   ]
  },
  {
   "cell_type": "code",
   "execution_count": 13,
   "metadata": {},
   "outputs": [],
   "source": [
    "taylorglobal = globalfilesall[globalfilesall[\"main_artist\"] == \"Taylor Swift\"]"
   ]
  },
  {
   "cell_type": "code",
   "execution_count": 22,
   "metadata": {},
   "outputs": [
    {
     "data": {
      "text/plain": [
       "['...Ready For It?',\n",
       " \"22 (Taylor's Version)\",\n",
       " 'Afterglow',\n",
       " 'All Of The Girls You Loved Before',\n",
       " \"All Too Well (10 Minute Version) (Taylor's Version) (From The Vault)\",\n",
       " \"All Too Well (Taylor's Version)\",\n",
       " 'Anti-Hero',\n",
       " \"Babe (Taylor's Version) (From The Vault)\",\n",
       " 'Bad Blood',\n",
       " \"Begin Again (Taylor's Version)\",\n",
       " 'Bejeweled',\n",
       " \"Better Man (Taylor's Version) (From The Vault)\",\n",
       " 'Bigger Than The Whole Sky',\n",
       " 'Blank Space',\n",
       " 'Call It What You Want',\n",
       " 'Carolina - From The Motion Picture Where The Crawdads Sing',\n",
       " 'Christmas Tree Farm',\n",
       " \"Come Back...Be Here (Taylor's Version)\",\n",
       " 'Cornelia Street',\n",
       " 'Cruel Summer',\n",
       " 'Daylight',\n",
       " 'Dear Reader',\n",
       " 'Death By A Thousand Cuts',\n",
       " 'Delicate',\n",
       " 'Dont Blame Me',\n",
       " 'Dont You (Taylors Version) (From The Vault)',\n",
       " 'Enchanted',\n",
       " 'False God',\n",
       " 'Fearless (Taylors Version)',\n",
       " 'Fifteen (Taylors Version)',\n",
       " 'Forever & Always (Taylors Version)',\n",
       " \"Forever Winter (Taylor's Version) (From The Vault)\",\n",
       " \"Girl At Home (Taylor's Version)\",\n",
       " 'Glitch',\n",
       " 'Gorgeous',\n",
       " 'Hey Stephen (Taylors Version)',\n",
       " 'High Infidelity',\n",
       " \"Holy Ground (Taylor's Version)\",\n",
       " \"I Almost Do (Taylor's Version)\",\n",
       " 'I Did Something Bad',\n",
       " 'I Forgot That You Existed',\n",
       " \"I Knew You Were Trouble (Taylor's Version)\",\n",
       " 'I Think He Knows',\n",
       " 'Its Nice To Have A Friend',\n",
       " 'Karma',\n",
       " 'Labyrinth',\n",
       " 'Lavender Haze',\n",
       " 'London Boy',\n",
       " 'Look What You Made Me Do',\n",
       " 'Love Story (Taylors Version)',\n",
       " 'Lover',\n",
       " 'Maroon',\n",
       " 'Mastermind',\n",
       " \"Message In A Bottle (Taylor's Version) (From The Vault)\",\n",
       " 'Midnight Rain',\n",
       " 'Miss Americana & The Heartbreak Prince',\n",
       " 'Mr. Perfectly Fine (Taylors Version) (From The Vault)',\n",
       " 'Only The Young - Featured in Miss Americana',\n",
       " 'Paper Rings',\n",
       " 'Paris',\n",
       " 'Question...?',\n",
       " \"Red (Taylor's Version)\",\n",
       " \"Ronan (Taylor's Version)\",\n",
       " \"Sad Beautiful Tragic (Taylor's Version)\",\n",
       " 'Shake It Off',\n",
       " \"Starlight (Taylor's Version)\",\n",
       " \"State Of Grace (Acoustic Version) (Taylor's Version)\",\n",
       " \"State Of Grace (Taylor's Version)\",\n",
       " \"Stay Stay Stay (Taylor's Version)\",\n",
       " 'Style',\n",
       " 'Sweet Nothing',\n",
       " 'Tell Me Why (Taylors Version)',\n",
       " 'The Archer',\n",
       " 'The Great War',\n",
       " \"The Lucky One (Taylor's Version)\",\n",
       " 'The Man',\n",
       " \"The Moment I Knew (Taylor's Version)\",\n",
       " \"The Very First Night (Taylor's Version) (From The Vault)\",\n",
       " 'The Way I Loved You (Taylors Version)',\n",
       " 'This Love (Taylors Version)',\n",
       " \"Treacherous (Taylor's Version)\",\n",
       " 'Vigilante Shit',\n",
       " \"We Are Never Ever Getting Back Together (Taylor's Version)\",\n",
       " 'We Were Happy (Taylors Version) (From The Vault)',\n",
       " 'White Horse (Taylors Version)',\n",
       " 'Wildest Dreams',\n",
       " \"Wildest Dreams (Taylor's Version)\",\n",
       " \"Would've, Could've, Should've\",\n",
       " 'You Belong With Me (Taylors Version)',\n",
       " 'You Need To Calm Down',\n",
       " \"You're On Your Own, Kid\",\n",
       " 'Youre Not Sorry (Taylors Version)',\n",
       " 'august',\n",
       " 'betty',\n",
       " 'cardigan',\n",
       " 'champagne problems',\n",
       " 'closure',\n",
       " 'cowboy like me',\n",
       " 'dorothea',\n",
       " 'epiphany',\n",
       " 'gold rush',\n",
       " 'happiness',\n",
       " 'hoax',\n",
       " 'illicit affairs',\n",
       " 'invisible string',\n",
       " 'ivy',\n",
       " 'long story short',\n",
       " 'mad woman',\n",
       " 'marjorie',\n",
       " 'mirrorball',\n",
       " 'my tears ricochet',\n",
       " 'peace',\n",
       " 'seven',\n",
       " 'the 1',\n",
       " 'the last great american dynasty',\n",
       " 'this is me trying',\n",
       " 'tis the damn season',\n",
       " 'tolerate it',\n",
       " 'willow',\n",
       " 'evermore (feat. Bon Iver)',\n",
       " 'exile (feat. Bon Iver)',\n",
       " 'ME! (feat. Brendon Urie of Panic! At The Disco)',\n",
       " 'I Bet You Think About Me (feat. Chris Stapleton) (Taylors Version) (From The Vault)',\n",
       " 'Breathe (feat. Colbie Caillat) (Taylors Version)',\n",
       " 'Everything Has Changed (feat. Ed Sheeran) (Taylors Version)',\n",
       " 'Run (feat. Ed Sheeran) (Taylors Version) (From The Vault)',\n",
       " 'End Game',\n",
       " 'The Last Time (feat. Gary Lightbody of Snow Patrol) (Taylors Version)',\n",
       " 'no body, no crime (feat. HAIM)',\n",
       " 'Thats When (feat. Keith Urban) (Taylors Version) (From The Vault)',\n",
       " 'Snow On The Beach (feat. Lana Del Rey)',\n",
       " 'You All Over Me (feat. Maren Morris) (Taylors Version) (From The Vault)',\n",
       " 'Nothing New (feat. Phoebe Bridgers) (Taylors Version) (From The Vault)',\n",
       " 'Lover (Remix) [feat. Shawn Mendes]',\n",
       " 'Soon Youll Get Better (feat. The Chicks)',\n",
       " 'coney island (feat. The National)']"
      ]
     },
     "execution_count": 22,
     "metadata": {},
     "output_type": "execute_result"
    }
   ],
   "source": [
    "taylorglobal[\"track_name\"].unique().tolist()"
   ]
  },
  {
   "cell_type": "code",
   "execution_count": 23,
   "metadata": {},
   "outputs": [],
   "source": [
    "cardigan = taylorglobal[taylorglobal[\"track_name\"] == \"cardigan\"]\n",
    "readyforit = taylorglobal[taylorglobal[\"track_name\"] == \"...Ready For It?\"]"
   ]
  },
  {
   "cell_type": "code",
   "execution_count": 17,
   "metadata": {},
   "outputs": [],
   "source": [
    "lover_ready = pd.concat([lover, readyforit])"
   ]
  },
  {
   "cell_type": "code",
   "execution_count": 8,
   "metadata": {},
   "outputs": [],
   "source": [
    "# lover[[\"rank\", \"End Date\"]].plot.bar(\"End Date\", \"rank\")"
   ]
  },
  {
   "cell_type": "code",
   "execution_count": 24,
   "metadata": {},
   "outputs": [
    {
     "data": {
      "text/plain": [
       "<AxesSubplot:xlabel='End Date'>"
      ]
     },
     "execution_count": 24,
     "metadata": {},
     "output_type": "execute_result"
    },
    {
     "data": {
      "image/png": "[encoded data removed]",
      "text/plain": [
       "<Figure size 640x480 with 1 Axes>"
      ]
     },
     "metadata": {},
     "output_type": "display_data"
    }
   ],
   "source": [
    "cardigan[[\"track_name\", \"rank\", \"End Date\"]].plot.bar(x=\"End Date\",y=\"rank\",stacked=True)"
   ]
  },
  {
   "cell_type": "code",
   "execution_count": null,
   "metadata": {},
   "outputs": [],
   "source": []
  }
 ],
 "metadata": {
  "kernelspec": {
   "display_name": "Python 3 (ipykernel)",
   "language": "python",
   "name": "python3"
  },
  "language_info": {
   "codemirror_mode": {
    "name": "ipython",
    "version": 3
   },
   "file_extension": ".py",
   "mimetype": "text/x-python",
   "name": "python",
   "nbconvert_exporter": "python",
   "pygments_lexer": "ipython3",
   "version": "3.9.13"
  }
 },
 "nbformat": 4,
 "nbformat_minor": 4
}
