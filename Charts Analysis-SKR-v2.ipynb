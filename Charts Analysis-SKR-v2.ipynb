{
 "cells": [
  {
   "cell_type": "code",
   "execution_count": 1,
   "metadata": {},
   "outputs": [],
   "source": [
    "import pandas as pd\n",
    "import glob2\n",
    "import matplotlib.pyplot as plt\n",
    "import datetime\n",
    "import re\n",
    "from datetime import datetime, timedelta\n",
    "%matplotlib inline"
   ]
  },
  {
   "cell_type": "code",
   "execution_count": 2,
   "metadata": {},
   "outputs": [],
   "source": [
    "global_music_file_paths = glob2.glob('spotify korea v2/*.csv')"
   ]
  },
  {
   "cell_type": "code",
   "execution_count": 3,
   "metadata": {
    "scrolled": true
   },
   "outputs": [
    {
     "name": "stdout",
     "output_type": "stream",
     "text": [
      "177\n"
     ]
    }
   ],
   "source": [
    "print(len(global_music_file_paths))"
   ]
  },
  {
   "cell_type": "code",
   "execution_count": 4,
   "metadata": {},
   "outputs": [
    {
     "name": "stdout",
     "output_type": "stream",
     "text": [
      "['spotify korea v2\\\\regional-kr-weekly-2021-02-04.csv', 'spotify korea v2\\\\regional-kr-weekly-2021-02-11.csv', 'spotify korea v2\\\\regional-kr-weekly-2021-02-18.csv', 'spotify korea v2\\\\regional-kr-weekly-2021-02-25.csv']\n"
     ]
    }
   ],
   "source": [
    "print(global_music_file_paths[:4])"
   ]
  },
  {
   "cell_type": "code",
   "execution_count": 5,
   "metadata": {},
   "outputs": [],
   "source": [
    "# global_music_file_paths"
   ]
  },
  {
   "cell_type": "markdown",
   "metadata": {},
   "source": [
    "#### Add Dates to the Files"
   ]
  },
  {
   "cell_type": "code",
   "execution_count": 6,
   "metadata": {},
   "outputs": [],
   "source": [
    "#Add the dates to the files - run once\n",
    "def addsDatesToData():\n",
    "    to_remove_front = \"spotify korea v2\\\\regional-kr-weekly-\"\n",
    "    to_remove_back = \".csv\"\n",
    "\n",
    "    len_front_remove = len(to_remove_front)\n",
    "    len_back_remove = len(to_remove_back)\n",
    "\n",
    "    for file in global_music_file_paths: \n",
    "#         print(file)\n",
    "        the_data_in_file = pd.read_csv(file)\n",
    "#         the_data_in_file = the_data_in_file.iloc[1: , :]\n",
    "#         the_data_in_file.columns = [\"Position\", \"Track Name\", \"Artist\", \"Streams\", \"URL\"]\n",
    "        \n",
    "        \n",
    "        the_dates = file[len_front_remove:]\n",
    "        the_dates = the_dates[:-len_back_remove]\n",
    "\n",
    "        split_dates = the_dates.split(\"-\")\n",
    "\n",
    "        start_date = split_dates[0] + \"-\" + split_dates[1] + \"-\" + split_dates[2]\n",
    "        \n",
    "\n",
    "        len_dates = the_data_in_file.shape[0]\n",
    "        start_dates = len_dates * [start_date]\n",
    "\n",
    "        date_columns = {\"End Date\": start_dates}   \n",
    "\n",
    "        the_data_in_file[\"End Date\"] = start_dates\n",
    "\n",
    "        #write the data back to the File\n",
    "        the_data_in_file.to_csv(file, index=False)\n",
    "        \n",
    "#remove dates in existing files\n",
    "def removeExistingDates():\n",
    "    for file in global_music_file_paths:\n",
    "        \n",
    "        the_data_in_file = pd.read_csv(file)\n",
    "\n",
    "        the_data_in_file.drop([\"Start Date\", \"End Date\"], axis=1, inplace=True) \n",
    "\n",
    "        the_data_in_file.to_csv(file, index=False)\n",
    "    \n",
    "#check for dates ... opting for removal and putting them back on\n"
   ]
  },
  {
   "cell_type": "code",
   "execution_count": 7,
   "metadata": {
    "scrolled": true
   },
   "outputs": [],
   "source": [
    "# removeExistingDates()\n",
    "addsDatesToData()"
   ]
  },
  {
   "cell_type": "code",
   "execution_count": 8,
   "metadata": {},
   "outputs": [],
   "source": [
    "#Combine the files and sort by dates\n",
    "all_files = []\n",
    "trouble_files = []\n",
    "for file in global_music_file_paths:\n",
    "    the_data_in_file = pd.read_csv(file)\n",
    "    \n",
    "    if(\"URL\" in list(the_data_in_file.columns)):\n",
    "    \n",
    "        the_data_in_file = the_data_in_file.drop([\"URL\"], axis=1)\n",
    "    \n",
    "    list_vals = sum(list(the_data_in_file.isnull().sum()))\n",
    "    \n",
    "    if(list_vals > 0):\n",
    "        trouble_files.append(file)\n",
    "    all_files.append(the_data_in_file)\n",
    "    \n",
    "the_spotify_data = pd.concat(all_files) \n",
    "# trouble_files_df = pd.concat(trouble_files)"
   ]
  },
  {
   "cell_type": "code",
   "execution_count": 9,
   "metadata": {},
   "outputs": [],
   "source": [
    "all_cols = list(the_spotify_data.columns)\n",
    "drop_cols = []\n",
    "\n",
    "for col in all_cols:\n",
    "    if(\"Unnamed\" in col or \"artificial\" in col):\n",
    "        drop_cols.append(col)\n",
    "        \n",
    "the_spotify_data.drop(drop_cols, axis=1, inplace = True)"
   ]
  },
  {
   "cell_type": "code",
   "execution_count": 10,
   "metadata": {},
   "outputs": [
    {
     "data": {
      "text/plain": [
       "Index(['rank', 'uri', 'artist_names', 'track_name', 'source', 'peak_rank',\n",
       "       'previous_rank', 'weeks_on_chart', 'streams', 'End Date'],\n",
       "      dtype='object')"
      ]
     },
     "execution_count": 10,
     "metadata": {},
     "output_type": "execute_result"
    }
   ],
   "source": [
    "the_spotify_data.columns"
   ]
  },
  {
   "cell_type": "code",
   "execution_count": 11,
   "metadata": {},
   "outputs": [
    {
     "data": {
      "text/html": [
       "<div>\n",
       "<style scoped>\n",
       "    .dataframe tbody tr th:only-of-type {\n",
       "        vertical-align: middle;\n",
       "    }\n",
       "\n",
       "    .dataframe tbody tr th {\n",
       "        vertical-align: top;\n",
       "    }\n",
       "\n",
       "    .dataframe thead th {\n",
       "        text-align: right;\n",
       "    }\n",
       "</style>\n",
       "<table border=\"1\" class=\"dataframe\">\n",
       "  <thead>\n",
       "    <tr style=\"text-align: right;\">\n",
       "      <th></th>\n",
       "      <th>rank</th>\n",
       "      <th>uri</th>\n",
       "      <th>artist_names</th>\n",
       "      <th>track_name</th>\n",
       "      <th>source</th>\n",
       "      <th>peak_rank</th>\n",
       "      <th>previous_rank</th>\n",
       "      <th>weeks_on_chart</th>\n",
       "      <th>streams</th>\n",
       "      <th>End Date</th>\n",
       "    </tr>\n",
       "  </thead>\n",
       "  <tbody>\n",
       "    <tr>\n",
       "      <th>0</th>\n",
       "      <td>1</td>\n",
       "      <td>spotify:track:4saklk6nie3yiGePpBwUoc</td>\n",
       "      <td>BTS</td>\n",
       "      <td>Dynamite</td>\n",
       "      <td>BIGHIT MUSIC</td>\n",
       "      <td>1</td>\n",
       "      <td>-1</td>\n",
       "      <td>1</td>\n",
       "      <td>85091</td>\n",
       "      <td>2021-02-04</td>\n",
       "    </tr>\n",
       "    <tr>\n",
       "      <th>1</th>\n",
       "      <td>2</td>\n",
       "      <td>spotify:track:249gnXrbfmV8NG6jTEMSwD</td>\n",
       "      <td>BTS</td>\n",
       "      <td>Life Goes On</td>\n",
       "      <td>BIGHIT MUSIC</td>\n",
       "      <td>2</td>\n",
       "      <td>-1</td>\n",
       "      <td>1</td>\n",
       "      <td>73470</td>\n",
       "      <td>2021-02-04</td>\n",
       "    </tr>\n",
       "    <tr>\n",
       "      <th>2</th>\n",
       "      <td>3</td>\n",
       "      <td>spotify:track:4Ws314Ylb27BVsvlZOy30C</td>\n",
       "      <td>BLACKPINK</td>\n",
       "      <td>Lovesick Girls</td>\n",
       "      <td>YG Entertainment/Interscope Records</td>\n",
       "      <td>3</td>\n",
       "      <td>-1</td>\n",
       "      <td>1</td>\n",
       "      <td>42246</td>\n",
       "      <td>2021-02-04</td>\n",
       "    </tr>\n",
       "    <tr>\n",
       "      <th>3</th>\n",
       "      <td>4</td>\n",
       "      <td>spotify:track:0n2moJpAEWHwaPYYjkzMDl</td>\n",
       "      <td>BTS</td>\n",
       "      <td>Blue &amp; Grey</td>\n",
       "      <td>BIGHIT MUSIC</td>\n",
       "      <td>4</td>\n",
       "      <td>-1</td>\n",
       "      <td>1</td>\n",
       "      <td>41002</td>\n",
       "      <td>2021-02-04</td>\n",
       "    </tr>\n",
       "    <tr>\n",
       "      <th>4</th>\n",
       "      <td>5</td>\n",
       "      <td>spotify:track:3QH8rQGNFX8VLbCgZ7uPTS</td>\n",
       "      <td>BTS</td>\n",
       "      <td>Fly To My Room</td>\n",
       "      <td>BIGHIT MUSIC</td>\n",
       "      <td>5</td>\n",
       "      <td>-1</td>\n",
       "      <td>1</td>\n",
       "      <td>37015</td>\n",
       "      <td>2021-02-04</td>\n",
       "    </tr>\n",
       "    <tr>\n",
       "      <th>...</th>\n",
       "      <td>...</td>\n",
       "      <td>...</td>\n",
       "      <td>...</td>\n",
       "      <td>...</td>\n",
       "      <td>...</td>\n",
       "      <td>...</td>\n",
       "      <td>...</td>\n",
       "      <td>...</td>\n",
       "      <td>...</td>\n",
       "      <td>...</td>\n",
       "    </tr>\n",
       "    <tr>\n",
       "      <th>195</th>\n",
       "      <td>196</td>\n",
       "      <td>spotify:track:3DO8WRX72c1Z5hduVL1Nd5</td>\n",
       "      <td>1415</td>\n",
       "      <td>선을 그어 주던가</td>\n",
       "      <td>Universal Music Ltd.</td>\n",
       "      <td>108</td>\n",
       "      <td>187</td>\n",
       "      <td>19</td>\n",
       "      <td>30834</td>\n",
       "      <td>2024-06-27</td>\n",
       "    </tr>\n",
       "    <tr>\n",
       "      <th>196</th>\n",
       "      <td>197</td>\n",
       "      <td>spotify:track:4cluDES4hQEUhmXj6TXkSo</td>\n",
       "      <td>One Direction</td>\n",
       "      <td>What Makes You Beautiful</td>\n",
       "      <td>Syco Music UK</td>\n",
       "      <td>182</td>\n",
       "      <td>188</td>\n",
       "      <td>5</td>\n",
       "      <td>30828</td>\n",
       "      <td>2024-06-27</td>\n",
       "    </tr>\n",
       "    <tr>\n",
       "      <th>197</th>\n",
       "      <td>198</td>\n",
       "      <td>spotify:track:1Y5D7m2QtyBdvwvY3gAVNQ</td>\n",
       "      <td>DOYOUNG</td>\n",
       "      <td>Little Light</td>\n",
       "      <td>SM Entertainment</td>\n",
       "      <td>43</td>\n",
       "      <td>197</td>\n",
       "      <td>10</td>\n",
       "      <td>30758</td>\n",
       "      <td>2024-06-27</td>\n",
       "    </tr>\n",
       "    <tr>\n",
       "      <th>198</th>\n",
       "      <td>199</td>\n",
       "      <td>spotify:track:1YsU8rW2u8z4F0pwOBQ4Ea</td>\n",
       "      <td>Coldplay</td>\n",
       "      <td>feelslikeimfallinginlove</td>\n",
       "      <td>Parlophone UK</td>\n",
       "      <td>199</td>\n",
       "      <td>-1</td>\n",
       "      <td>1</td>\n",
       "      <td>30660</td>\n",
       "      <td>2024-06-27</td>\n",
       "    </tr>\n",
       "    <tr>\n",
       "      <th>199</th>\n",
       "      <td>200</td>\n",
       "      <td>spotify:track:21jGcNKet2qwijlDFuPiPb</td>\n",
       "      <td>Post Malone</td>\n",
       "      <td>Circles</td>\n",
       "      <td>Republic Records</td>\n",
       "      <td>30</td>\n",
       "      <td>-1</td>\n",
       "      <td>134</td>\n",
       "      <td>30603</td>\n",
       "      <td>2024-06-27</td>\n",
       "    </tr>\n",
       "  </tbody>\n",
       "</table>\n",
       "<p>35400 rows × 10 columns</p>\n",
       "</div>"
      ],
      "text/plain": [
       "     rank                                   uri   artist_names  \\\n",
       "0       1  spotify:track:4saklk6nie3yiGePpBwUoc            BTS   \n",
       "1       2  spotify:track:249gnXrbfmV8NG6jTEMSwD            BTS   \n",
       "2       3  spotify:track:4Ws314Ylb27BVsvlZOy30C      BLACKPINK   \n",
       "3       4  spotify:track:0n2moJpAEWHwaPYYjkzMDl            BTS   \n",
       "4       5  spotify:track:3QH8rQGNFX8VLbCgZ7uPTS            BTS   \n",
       "..    ...                                   ...            ...   \n",
       "195   196  spotify:track:3DO8WRX72c1Z5hduVL1Nd5           1415   \n",
       "196   197  spotify:track:4cluDES4hQEUhmXj6TXkSo  One Direction   \n",
       "197   198  spotify:track:1Y5D7m2QtyBdvwvY3gAVNQ        DOYOUNG   \n",
       "198   199  spotify:track:1YsU8rW2u8z4F0pwOBQ4Ea       Coldplay   \n",
       "199   200  spotify:track:21jGcNKet2qwijlDFuPiPb    Post Malone   \n",
       "\n",
       "                   track_name                               source  peak_rank  \\\n",
       "0                    Dynamite                         BIGHIT MUSIC          1   \n",
       "1                Life Goes On                         BIGHIT MUSIC          2   \n",
       "2              Lovesick Girls  YG Entertainment/Interscope Records          3   \n",
       "3                 Blue & Grey                         BIGHIT MUSIC          4   \n",
       "4              Fly To My Room                         BIGHIT MUSIC          5   \n",
       "..                        ...                                  ...        ...   \n",
       "195                 선을 그어 주던가                 Universal Music Ltd.        108   \n",
       "196  What Makes You Beautiful                        Syco Music UK        182   \n",
       "197              Little Light                     SM Entertainment         43   \n",
       "198  feelslikeimfallinginlove                        Parlophone UK        199   \n",
       "199                   Circles                     Republic Records         30   \n",
       "\n",
       "     previous_rank  weeks_on_chart  streams    End Date  \n",
       "0               -1               1    85091  2021-02-04  \n",
       "1               -1               1    73470  2021-02-04  \n",
       "2               -1               1    42246  2021-02-04  \n",
       "3               -1               1    41002  2021-02-04  \n",
       "4               -1               1    37015  2021-02-04  \n",
       "..             ...             ...      ...         ...  \n",
       "195            187              19    30834  2024-06-27  \n",
       "196            188               5    30828  2024-06-27  \n",
       "197            197              10    30758  2024-06-27  \n",
       "198             -1               1    30660  2024-06-27  \n",
       "199             -1             134    30603  2024-06-27  \n",
       "\n",
       "[35400 rows x 10 columns]"
      ]
     },
     "execution_count": 11,
     "metadata": {},
     "output_type": "execute_result"
    }
   ],
   "source": [
    "the_spotify_data"
   ]
  },
  {
   "cell_type": "code",
   "execution_count": 12,
   "metadata": {},
   "outputs": [],
   "source": [
    "# the_spotify_data[\"End Date\"].unique().tolist()"
   ]
  },
  {
   "cell_type": "markdown",
   "metadata": {},
   "source": [
    "### Error checking that all the Thursday dates are present"
   ]
  },
  {
   "cell_type": "code",
   "execution_count": 13,
   "metadata": {},
   "outputs": [],
   "source": [
    "date_list = the_spotify_data[\"End Date\"].unique().tolist()\n",
    "start_date = date_list[0]\n",
    "end_date = date_list[len(date_list)-1]"
   ]
  },
  {
   "cell_type": "code",
   "execution_count": 14,
   "metadata": {},
   "outputs": [
    {
     "data": {
      "text/plain": [
       "177"
      ]
     },
     "execution_count": 14,
     "metadata": {},
     "output_type": "execute_result"
    }
   ],
   "source": [
    "len(date_list)"
   ]
  },
  {
   "cell_type": "code",
   "execution_count": 15,
   "metadata": {},
   "outputs": [
    {
     "data": {
      "text/plain": [
       "('2021-02-04', '2024-06-27')"
      ]
     },
     "execution_count": 15,
     "metadata": {},
     "output_type": "execute_result"
    }
   ],
   "source": [
    "start_date, end_date"
   ]
  },
  {
   "cell_type": "code",
   "execution_count": 16,
   "metadata": {},
   "outputs": [],
   "source": [
    "def check_thursdays_in_range(date_list, start_date, end_date):\n",
    "    # Convert start_date and end_date strings to datetime objects\n",
    "    start_date = datetime.strptime(start_date, \"%Y-%m-%d\")\n",
    "    end_date = datetime.strptime(end_date, \"%Y-%m-%d\")\n",
    "    \n",
    "    # Initialize a set to store Thursdays in the range\n",
    "    thursdays_in_range = set()\n",
    "    \n",
    "    # Iterate through the range of dates and add Thursdays to the set\n",
    "    current_date = start_date\n",
    "    while current_date <= end_date:\n",
    "        if current_date.weekday() == 3:  # Thursday\n",
    "            thursdays_in_range.add(current_date.strftime(\"%Y-%m-%d\"))\n",
    "        current_date += timedelta(days=1)\n",
    "    \n",
    "    # Convert date_list to a set for efficient membership checking\n",
    "    date_set = set(date_list)\n",
    "    \n",
    "    # Find missing Thursdays\n",
    "    missing_thursdays = sorted(thursdays_in_range - date_set)\n",
    "    print(\"thursdays_in_range: \", len(thursdays_in_range))\n",
    "    print(\"date_set: \", len(date_set))\n",
    "    \n",
    "    if missing_thursdays:\n",
    "        print(\"Missing Thursdays in the range:\")\n",
    "        for thursday in missing_thursdays:\n",
    "            print(thursday)\n",
    "        return False\n",
    "    else:\n",
    "        print(\"All Thursdays are present in the range.\")\n",
    "        return True"
   ]
  },
  {
   "cell_type": "code",
   "execution_count": 17,
   "metadata": {},
   "outputs": [
    {
     "name": "stdout",
     "output_type": "stream",
     "text": [
      "thursdays_in_range:  178\n",
      "date_set:  177\n",
      "Missing Thursdays in the range:\n",
      "2024-06-20\n",
      "All Thursdays present: False\n"
     ]
    }
   ],
   "source": [
    "result = check_thursdays_in_range(date_list, start_date, end_date)\n",
    "print(\"All Thursdays present:\", result)"
   ]
  },
  {
   "cell_type": "markdown",
   "metadata": {},
   "source": [
    "### Continue"
   ]
  },
  {
   "cell_type": "code",
   "execution_count": 18,
   "metadata": {},
   "outputs": [],
   "source": [
    "the_spotify_data[\"Week\"] = the_spotify_data[\"End Date\"].apply(lambda x : datetime.strptime(x, '%Y-%m-%d'))\n",
    "the_spotify_data[\"Year\"] = the_spotify_data[\"Week\"]\n",
    "\n",
    "the_spotify_data['Week'] = the_spotify_data['Week'].apply(lambda x : x.isocalendar()[1] )\n",
    "the_spotify_data['Year'] = the_spotify_data['Year'].apply(lambda x : x.isocalendar()[0] )\n",
    "\n",
    "# the_spotify_data[\"Start Date Dt\"] = the_spotify_data[\"Start Date\"].apply(lambda x : datetime.strptime(x, '%Y-%m-%d'))\n",
    "the_spotify_data[\"End Date Dt\"] = the_spotify_data[\"End Date\"].apply(lambda x : datetime.strptime(x, '%Y-%m-%d'))\n",
    "the_spotify_data['Seconds since Epoch'] = the_spotify_data['End Date Dt'].apply(lambda x : round(x.timestamp(), 0))"
   ]
  },
  {
   "cell_type": "code",
   "execution_count": 19,
   "metadata": {},
   "outputs": [],
   "source": [
    "#get the month when this happened\n",
    "def changedaytotheFirst(x):\n",
    "    x = x[:-2] + \"01\"\n",
    "    \n",
    "    return x"
   ]
  },
  {
   "cell_type": "code",
   "execution_count": 20,
   "metadata": {},
   "outputs": [],
   "source": [
    "the_spotify_data[\"End Date Aggregated\"] = the_spotify_data[\"End Date\"].apply(lambda x : changedaytotheFirst(x) )"
   ]
  },
  {
   "cell_type": "code",
   "execution_count": 21,
   "metadata": {},
   "outputs": [],
   "source": [
    "#find the number of artists on the track\n",
    "the_spotify_data.dropna(inplace=True)\n",
    "\n",
    "the_spotify_data[\"artist_names\"] = the_spotify_data[\"artist_names\"].apply(lambda x : x.encode(\"utf-8\").decode(\"latin-1\"))\n",
    "the_spotify_data[\"artist_names\"] = the_spotify_data[\"artist_names\"].apply(lambda x : re.sub(r'[^\\x00-\\x7F]+','', x))\n",
    "the_spotify_data[\"artist_names\"] = the_spotify_data.apply(lambda x : x[\"artist_names\"] + \"Artist_NA\" if(x[\"artist_names\"] == \"\") else x[\"artist_names\"], axis=1)\n",
    "\n",
    "the_spotify_data[\"track_name\"] = the_spotify_data[\"track_name\"].apply(lambda x : x.encode(\"utf-8\").decode(\"latin-1\"))\n",
    "the_spotify_data[\"track_name\"] = the_spotify_data[\"track_name\"].apply(lambda x : re.sub(r'[^\\x00-\\x7F]+','', x))\n",
    "the_spotify_data[\"track_name\"] = the_spotify_data.apply(lambda x : x[\"artist_names\"] + \"_NA\" if(x[\"track_name\"] == \"\") else x[\"track_name\"], axis=1)\n",
    "\n",
    "def countNumberArtists(x):\n",
    "    len_all_featured_artists = 0\n",
    "    num_artists = 0\n",
    "    xvals = x.split(\"feat\")\n",
    "    len_xvals = len(xvals)\n",
    "    \n",
    "    if(len_xvals > 1):\n",
    "        featured_artists = xvals[1:]\n",
    "        featured_artists_str = ' '.join(featured_artists)\n",
    "        all_featured_artists = featured_artists_str.split(\"& \")\n",
    "        len_all_featured_artists = len(all_featured_artists)\n",
    "        \n",
    "    num_artists = 1 + len_all_featured_artists\n",
    "    \n",
    "    return num_artists\n",
    "        \n",
    "    \n",
    "the_spotify_data['ArtistCount'] = the_spotify_data['track_name'].apply(lambda x : countNumberArtists(x))"
   ]
  },
  {
   "cell_type": "code",
   "execution_count": 22,
   "metadata": {},
   "outputs": [
    {
     "data": {
      "text/plain": [
       "(35400, 16)"
      ]
     },
     "execution_count": 22,
     "metadata": {},
     "output_type": "execute_result"
    }
   ],
   "source": [
    "the_spotify_data.shape"
   ]
  },
  {
   "cell_type": "code",
   "execution_count": 23,
   "metadata": {},
   "outputs": [],
   "source": [
    "the_spotify_data[\"main_artist\"] = the_spotify_data.apply(lambda x : x[\"artist_names\"].split(\",\")[0], axis=1)"
   ]
  },
  {
   "cell_type": "code",
   "execution_count": 24,
   "metadata": {},
   "outputs": [],
   "source": [
    "the_spotify_data = the_spotify_data.reset_index()\n",
    "the_spotify_data.drop([\"index\"], axis=1, inplace=True)"
   ]
  },
  {
   "cell_type": "code",
   "execution_count": 25,
   "metadata": {},
   "outputs": [
    {
     "data": {
      "text/plain": [
       "(35400, 17)"
      ]
     },
     "execution_count": 25,
     "metadata": {},
     "output_type": "execute_result"
    }
   ],
   "source": [
    "the_spotify_data.shape"
   ]
  },
  {
   "cell_type": "markdown",
   "metadata": {},
   "source": [
    "### Is Top Ten Status"
   ]
  },
  {
   "cell_type": "code",
   "execution_count": 26,
   "metadata": {},
   "outputs": [],
   "source": [
    "def everInTopTen(x):\n",
    "    position_vals = list(x[\"rank\"])\n",
    "    position_vals = list(set(position_vals))\n",
    "    \n",
    "#     print(position_vals)\n",
    "    \n",
    "    min_pos = min(position_vals)\n",
    "    existence_val = 0\n",
    "    \n",
    "    if(min_pos <= 10):\n",
    "        existence_val = 1\n",
    "    \n",
    "    x[\"isTopTen\"] = [existence_val] * len(x)\n",
    "    \n",
    "    return x\n",
    "    \n",
    "the_spotify_data = the_spotify_data[~the_spotify_data.index.duplicated()]\n",
    "the_spotify_data = the_spotify_data.groupby([\"artist_names\", \"track_name\"]).apply(lambda x : everInTopTen(x))"
   ]
  },
  {
   "cell_type": "code",
   "execution_count": 27,
   "metadata": {},
   "outputs": [
    {
     "data": {
      "text/html": [
       "<div>\n",
       "<style scoped>\n",
       "    .dataframe tbody tr th:only-of-type {\n",
       "        vertical-align: middle;\n",
       "    }\n",
       "\n",
       "    .dataframe tbody tr th {\n",
       "        vertical-align: top;\n",
       "    }\n",
       "\n",
       "    .dataframe thead th {\n",
       "        text-align: right;\n",
       "    }\n",
       "</style>\n",
       "<table border=\"1\" class=\"dataframe\">\n",
       "  <thead>\n",
       "    <tr style=\"text-align: right;\">\n",
       "      <th></th>\n",
       "      <th>rank</th>\n",
       "      <th>uri</th>\n",
       "      <th>artist_names</th>\n",
       "      <th>track_name</th>\n",
       "      <th>source</th>\n",
       "      <th>peak_rank</th>\n",
       "      <th>previous_rank</th>\n",
       "      <th>weeks_on_chart</th>\n",
       "      <th>streams</th>\n",
       "      <th>End Date</th>\n",
       "      <th>Week</th>\n",
       "      <th>Year</th>\n",
       "      <th>End Date Dt</th>\n",
       "      <th>Seconds since Epoch</th>\n",
       "      <th>End Date Aggregated</th>\n",
       "      <th>ArtistCount</th>\n",
       "      <th>main_artist</th>\n",
       "      <th>isTopTen</th>\n",
       "    </tr>\n",
       "  </thead>\n",
       "  <tbody>\n",
       "    <tr>\n",
       "      <th>0</th>\n",
       "      <td>1</td>\n",
       "      <td>spotify:track:4saklk6nie3yiGePpBwUoc</td>\n",
       "      <td>BTS</td>\n",
       "      <td>Dynamite</td>\n",
       "      <td>BIGHIT MUSIC</td>\n",
       "      <td>1</td>\n",
       "      <td>-1</td>\n",
       "      <td>1</td>\n",
       "      <td>85091</td>\n",
       "      <td>2021-02-04</td>\n",
       "      <td>5</td>\n",
       "      <td>2021</td>\n",
       "      <td>2021-02-04</td>\n",
       "      <td>1.612397e+09</td>\n",
       "      <td>2021-02-01</td>\n",
       "      <td>1</td>\n",
       "      <td>BTS</td>\n",
       "      <td>1</td>\n",
       "    </tr>\n",
       "    <tr>\n",
       "      <th>1</th>\n",
       "      <td>2</td>\n",
       "      <td>spotify:track:249gnXrbfmV8NG6jTEMSwD</td>\n",
       "      <td>BTS</td>\n",
       "      <td>Life Goes On</td>\n",
       "      <td>BIGHIT MUSIC</td>\n",
       "      <td>2</td>\n",
       "      <td>-1</td>\n",
       "      <td>1</td>\n",
       "      <td>73470</td>\n",
       "      <td>2021-02-04</td>\n",
       "      <td>5</td>\n",
       "      <td>2021</td>\n",
       "      <td>2021-02-04</td>\n",
       "      <td>1.612397e+09</td>\n",
       "      <td>2021-02-01</td>\n",
       "      <td>1</td>\n",
       "      <td>BTS</td>\n",
       "      <td>1</td>\n",
       "    </tr>\n",
       "    <tr>\n",
       "      <th>2</th>\n",
       "      <td>3</td>\n",
       "      <td>spotify:track:4Ws314Ylb27BVsvlZOy30C</td>\n",
       "      <td>BLACKPINK</td>\n",
       "      <td>Lovesick Girls</td>\n",
       "      <td>YG Entertainment/Interscope Records</td>\n",
       "      <td>3</td>\n",
       "      <td>-1</td>\n",
       "      <td>1</td>\n",
       "      <td>42246</td>\n",
       "      <td>2021-02-04</td>\n",
       "      <td>5</td>\n",
       "      <td>2021</td>\n",
       "      <td>2021-02-04</td>\n",
       "      <td>1.612397e+09</td>\n",
       "      <td>2021-02-01</td>\n",
       "      <td>1</td>\n",
       "      <td>BLACKPINK</td>\n",
       "      <td>1</td>\n",
       "    </tr>\n",
       "    <tr>\n",
       "      <th>3</th>\n",
       "      <td>4</td>\n",
       "      <td>spotify:track:0n2moJpAEWHwaPYYjkzMDl</td>\n",
       "      <td>BTS</td>\n",
       "      <td>Blue &amp; Grey</td>\n",
       "      <td>BIGHIT MUSIC</td>\n",
       "      <td>4</td>\n",
       "      <td>-1</td>\n",
       "      <td>1</td>\n",
       "      <td>41002</td>\n",
       "      <td>2021-02-04</td>\n",
       "      <td>5</td>\n",
       "      <td>2021</td>\n",
       "      <td>2021-02-04</td>\n",
       "      <td>1.612397e+09</td>\n",
       "      <td>2021-02-01</td>\n",
       "      <td>1</td>\n",
       "      <td>BTS</td>\n",
       "      <td>1</td>\n",
       "    </tr>\n",
       "    <tr>\n",
       "      <th>4</th>\n",
       "      <td>5</td>\n",
       "      <td>spotify:track:3QH8rQGNFX8VLbCgZ7uPTS</td>\n",
       "      <td>BTS</td>\n",
       "      <td>Fly To My Room</td>\n",
       "      <td>BIGHIT MUSIC</td>\n",
       "      <td>5</td>\n",
       "      <td>-1</td>\n",
       "      <td>1</td>\n",
       "      <td>37015</td>\n",
       "      <td>2021-02-04</td>\n",
       "      <td>5</td>\n",
       "      <td>2021</td>\n",
       "      <td>2021-02-04</td>\n",
       "      <td>1.612397e+09</td>\n",
       "      <td>2021-02-01</td>\n",
       "      <td>1</td>\n",
       "      <td>BTS</td>\n",
       "      <td>1</td>\n",
       "    </tr>\n",
       "  </tbody>\n",
       "</table>\n",
       "</div>"
      ],
      "text/plain": [
       "   rank                                   uri artist_names      track_name  \\\n",
       "0     1  spotify:track:4saklk6nie3yiGePpBwUoc          BTS        Dynamite   \n",
       "1     2  spotify:track:249gnXrbfmV8NG6jTEMSwD          BTS    Life Goes On   \n",
       "2     3  spotify:track:4Ws314Ylb27BVsvlZOy30C    BLACKPINK  Lovesick Girls   \n",
       "3     4  spotify:track:0n2moJpAEWHwaPYYjkzMDl          BTS     Blue & Grey   \n",
       "4     5  spotify:track:3QH8rQGNFX8VLbCgZ7uPTS          BTS  Fly To My Room   \n",
       "\n",
       "                                source  peak_rank  previous_rank  \\\n",
       "0                         BIGHIT MUSIC          1             -1   \n",
       "1                         BIGHIT MUSIC          2             -1   \n",
       "2  YG Entertainment/Interscope Records          3             -1   \n",
       "3                         BIGHIT MUSIC          4             -1   \n",
       "4                         BIGHIT MUSIC          5             -1   \n",
       "\n",
       "   weeks_on_chart  streams    End Date  Week  Year End Date Dt  \\\n",
       "0               1    85091  2021-02-04     5  2021  2021-02-04   \n",
       "1               1    73470  2021-02-04     5  2021  2021-02-04   \n",
       "2               1    42246  2021-02-04     5  2021  2021-02-04   \n",
       "3               1    41002  2021-02-04     5  2021  2021-02-04   \n",
       "4               1    37015  2021-02-04     5  2021  2021-02-04   \n",
       "\n",
       "   Seconds since Epoch End Date Aggregated  ArtistCount main_artist  isTopTen  \n",
       "0         1.612397e+09          2021-02-01            1         BTS         1  \n",
       "1         1.612397e+09          2021-02-01            1         BTS         1  \n",
       "2         1.612397e+09          2021-02-01            1   BLACKPINK         1  \n",
       "3         1.612397e+09          2021-02-01            1         BTS         1  \n",
       "4         1.612397e+09          2021-02-01            1         BTS         1  "
      ]
     },
     "execution_count": 27,
     "metadata": {},
     "output_type": "execute_result"
    }
   ],
   "source": [
    "the_spotify_data.head()"
   ]
  },
  {
   "cell_type": "markdown",
   "metadata": {},
   "source": [
    "### When did the track reach the Top 10 "
   ]
  },
  {
   "cell_type": "markdown",
   "metadata": {},
   "source": [
    "### how long does a song last on the charts?"
   ]
  },
  {
   "cell_type": "code",
   "execution_count": 28,
   "metadata": {},
   "outputs": [
    {
     "data": {
      "text/plain": [
       "0    24080\n",
       "1    11320\n",
       "Name: isTopTen, dtype: int64"
      ]
     },
     "execution_count": 28,
     "metadata": {},
     "output_type": "execute_result"
    }
   ],
   "source": [
    "the_spotify_data[\"isTopTen\"].value_counts()"
   ]
  },
  {
   "cell_type": "code",
   "execution_count": 29,
   "metadata": {},
   "outputs": [
    {
     "data": {
      "text/plain": [
       "rank                   0\n",
       "uri                    0\n",
       "artist_names           0\n",
       "track_name             0\n",
       "source                 0\n",
       "peak_rank              0\n",
       "previous_rank          0\n",
       "weeks_on_chart         0\n",
       "streams                0\n",
       "End Date               0\n",
       "Week                   0\n",
       "Year                   0\n",
       "End Date Dt            0\n",
       "Seconds since Epoch    0\n",
       "End Date Aggregated    0\n",
       "ArtistCount            0\n",
       "main_artist            0\n",
       "isTopTen               0\n",
       "dtype: int64"
      ]
     },
     "execution_count": 29,
     "metadata": {},
     "output_type": "execute_result"
    }
   ],
   "source": [
    "the_spotify_data.isnull().sum()"
   ]
  },
  {
   "cell_type": "code",
   "execution_count": 30,
   "metadata": {},
   "outputs": [
    {
     "name": "stdout",
     "output_type": "stream",
     "text": [
      "701\n"
     ]
    }
   ],
   "source": [
    "unique_artists = the_spotify_data[\"main_artist\"].unique().tolist()\n",
    "num_artists = len(unique_artists)\n",
    "print(num_artists)"
   ]
  },
  {
   "cell_type": "markdown",
   "metadata": {},
   "source": [
    "### find new artists in that week"
   ]
  },
  {
   "cell_type": "code",
   "execution_count": 31,
   "metadata": {},
   "outputs": [],
   "source": [
    "# the_spotify_data.head(12)\n",
    "def getArtistAppearanceCount(x):\n",
    "    \n",
    "    x = x.reset_index()\n",
    "    x.drop([\"index\"],axis=1,inplace=True)\n",
    "    x = x.reset_index()\n",
    "    \n",
    "    x_cols = x.columns\n",
    "    \n",
    "    x_cols = [w.replace('index', 'artistAppearanceCount') for w in x_cols]\n",
    "    \n",
    "    x.columns = x_cols\n",
    "    \n",
    "    return x        \n",
    "    \n",
    "the_spotify_data =the_spotify_data.groupby([\"main_artist\"], as_index=False).apply(lambda x : getArtistAppearanceCount(x))\n",
    "the_spotify_data = the_spotify_data.reset_index()\n",
    "the_spotify_data.drop([\"level_0\", \"level_1\"], inplace=True, axis=1)"
   ]
  },
  {
   "cell_type": "code",
   "execution_count": 32,
   "metadata": {
    "scrolled": true
   },
   "outputs": [
    {
     "data": {
      "text/html": [
       "<div>\n",
       "<style scoped>\n",
       "    .dataframe tbody tr th:only-of-type {\n",
       "        vertical-align: middle;\n",
       "    }\n",
       "\n",
       "    .dataframe tbody tr th {\n",
       "        vertical-align: top;\n",
       "    }\n",
       "\n",
       "    .dataframe thead th {\n",
       "        text-align: right;\n",
       "    }\n",
       "</style>\n",
       "<table border=\"1\" class=\"dataframe\">\n",
       "  <thead>\n",
       "    <tr style=\"text-align: right;\">\n",
       "      <th></th>\n",
       "      <th>artistAppearanceCount</th>\n",
       "      <th>rank</th>\n",
       "      <th>uri</th>\n",
       "      <th>artist_names</th>\n",
       "      <th>track_name</th>\n",
       "      <th>source</th>\n",
       "      <th>peak_rank</th>\n",
       "      <th>previous_rank</th>\n",
       "      <th>weeks_on_chart</th>\n",
       "      <th>streams</th>\n",
       "      <th>End Date</th>\n",
       "      <th>Week</th>\n",
       "      <th>Year</th>\n",
       "      <th>End Date Dt</th>\n",
       "      <th>Seconds since Epoch</th>\n",
       "      <th>End Date Aggregated</th>\n",
       "      <th>ArtistCount</th>\n",
       "      <th>main_artist</th>\n",
       "      <th>isTopTen</th>\n",
       "    </tr>\n",
       "  </thead>\n",
       "  <tbody>\n",
       "    <tr>\n",
       "      <th>0</th>\n",
       "      <td>0</td>\n",
       "      <td>181</td>\n",
       "      <td>spotify:track:2bU2EvhMM4Z1M1CLJlnZH1</td>\n",
       "      <td>Damons year</td>\n",
       "      <td>yours</td>\n",
       "      <td>Akashic Records</td>\n",
       "      <td>181</td>\n",
       "      <td>-1</td>\n",
       "      <td>1</td>\n",
       "      <td>16016</td>\n",
       "      <td>2022-08-25</td>\n",
       "      <td>34</td>\n",
       "      <td>2022</td>\n",
       "      <td>2022-08-25</td>\n",
       "      <td>1.661386e+09</td>\n",
       "      <td>2022-08-01</td>\n",
       "      <td>1</td>\n",
       "      <td>Damons year</td>\n",
       "      <td>0</td>\n",
       "    </tr>\n",
       "    <tr>\n",
       "      <th>1</th>\n",
       "      <td>1</td>\n",
       "      <td>161</td>\n",
       "      <td>spotify:track:2bU2EvhMM4Z1M1CLJlnZH1</td>\n",
       "      <td>Damons year</td>\n",
       "      <td>yours</td>\n",
       "      <td>Akashic Records</td>\n",
       "      <td>161</td>\n",
       "      <td>181</td>\n",
       "      <td>2</td>\n",
       "      <td>17530</td>\n",
       "      <td>2022-09-01</td>\n",
       "      <td>35</td>\n",
       "      <td>2022</td>\n",
       "      <td>2022-09-01</td>\n",
       "      <td>1.661990e+09</td>\n",
       "      <td>2022-09-01</td>\n",
       "      <td>1</td>\n",
       "      <td>Damons year</td>\n",
       "      <td>0</td>\n",
       "    </tr>\n",
       "    <tr>\n",
       "      <th>2</th>\n",
       "      <td>2</td>\n",
       "      <td>121</td>\n",
       "      <td>spotify:track:2bU2EvhMM4Z1M1CLJlnZH1</td>\n",
       "      <td>Damons year</td>\n",
       "      <td>yours</td>\n",
       "      <td>Akashic Records</td>\n",
       "      <td>121</td>\n",
       "      <td>161</td>\n",
       "      <td>3</td>\n",
       "      <td>21163</td>\n",
       "      <td>2022-09-08</td>\n",
       "      <td>36</td>\n",
       "      <td>2022</td>\n",
       "      <td>2022-09-08</td>\n",
       "      <td>1.662595e+09</td>\n",
       "      <td>2022-09-01</td>\n",
       "      <td>1</td>\n",
       "      <td>Damons year</td>\n",
       "      <td>0</td>\n",
       "    </tr>\n",
       "    <tr>\n",
       "      <th>3</th>\n",
       "      <td>3</td>\n",
       "      <td>147</td>\n",
       "      <td>spotify:track:2bU2EvhMM4Z1M1CLJlnZH1</td>\n",
       "      <td>Damons year</td>\n",
       "      <td>yours</td>\n",
       "      <td>Akashic Records</td>\n",
       "      <td>121</td>\n",
       "      <td>121</td>\n",
       "      <td>4</td>\n",
       "      <td>18562</td>\n",
       "      <td>2022-09-15</td>\n",
       "      <td>37</td>\n",
       "      <td>2022</td>\n",
       "      <td>2022-09-15</td>\n",
       "      <td>1.663200e+09</td>\n",
       "      <td>2022-09-01</td>\n",
       "      <td>1</td>\n",
       "      <td>Damons year</td>\n",
       "      <td>0</td>\n",
       "    </tr>\n",
       "    <tr>\n",
       "      <th>4</th>\n",
       "      <td>4</td>\n",
       "      <td>179</td>\n",
       "      <td>spotify:track:2bU2EvhMM4Z1M1CLJlnZH1</td>\n",
       "      <td>Damons year</td>\n",
       "      <td>yours</td>\n",
       "      <td>Akashic Records</td>\n",
       "      <td>121</td>\n",
       "      <td>147</td>\n",
       "      <td>5</td>\n",
       "      <td>18780</td>\n",
       "      <td>2022-09-22</td>\n",
       "      <td>38</td>\n",
       "      <td>2022</td>\n",
       "      <td>2022-09-22</td>\n",
       "      <td>1.663805e+09</td>\n",
       "      <td>2022-09-01</td>\n",
       "      <td>1</td>\n",
       "      <td>Damons year</td>\n",
       "      <td>0</td>\n",
       "    </tr>\n",
       "  </tbody>\n",
       "</table>\n",
       "</div>"
      ],
      "text/plain": [
       "   artistAppearanceCount  rank                                   uri  \\\n",
       "0                      0   181  spotify:track:2bU2EvhMM4Z1M1CLJlnZH1   \n",
       "1                      1   161  spotify:track:2bU2EvhMM4Z1M1CLJlnZH1   \n",
       "2                      2   121  spotify:track:2bU2EvhMM4Z1M1CLJlnZH1   \n",
       "3                      3   147  spotify:track:2bU2EvhMM4Z1M1CLJlnZH1   \n",
       "4                      4   179  spotify:track:2bU2EvhMM4Z1M1CLJlnZH1   \n",
       "\n",
       "    artist_names track_name           source  peak_rank  previous_rank  \\\n",
       "0    Damons year      yours  Akashic Records        181             -1   \n",
       "1    Damons year      yours  Akashic Records        161            181   \n",
       "2    Damons year      yours  Akashic Records        121            161   \n",
       "3    Damons year      yours  Akashic Records        121            121   \n",
       "4    Damons year      yours  Akashic Records        121            147   \n",
       "\n",
       "   weeks_on_chart  streams    End Date  Week  Year End Date Dt  \\\n",
       "0               1    16016  2022-08-25    34  2022  2022-08-25   \n",
       "1               2    17530  2022-09-01    35  2022  2022-09-01   \n",
       "2               3    21163  2022-09-08    36  2022  2022-09-08   \n",
       "3               4    18562  2022-09-15    37  2022  2022-09-15   \n",
       "4               5    18780  2022-09-22    38  2022  2022-09-22   \n",
       "\n",
       "   Seconds since Epoch End Date Aggregated  ArtistCount    main_artist  \\\n",
       "0         1.661386e+09          2022-08-01            1    Damons year   \n",
       "1         1.661990e+09          2022-09-01            1    Damons year   \n",
       "2         1.662595e+09          2022-09-01            1    Damons year   \n",
       "3         1.663200e+09          2022-09-01            1    Damons year   \n",
       "4         1.663805e+09          2022-09-01            1    Damons year   \n",
       "\n",
       "   isTopTen  \n",
       "0         0  \n",
       "1         0  \n",
       "2         0  \n",
       "3         0  \n",
       "4         0  "
      ]
     },
     "execution_count": 32,
     "metadata": {},
     "output_type": "execute_result"
    }
   ],
   "source": [
    "the_spotify_data.head()"
   ]
  },
  {
   "cell_type": "markdown",
   "metadata": {},
   "source": [
    "#### Track Appearance Count"
   ]
  },
  {
   "cell_type": "code",
   "execution_count": 33,
   "metadata": {},
   "outputs": [],
   "source": [
    "def getTrackAppearanceCount(x):\n",
    "    \n",
    "    x = x.reset_index()\n",
    "    x.drop([\"index\"],axis=1,inplace=True)\n",
    "    x = x.reset_index()\n",
    "    \n",
    "    x_cols = x.columns\n",
    "    \n",
    "    x_cols = [w.replace('index', 'trackAppearanceCount') for w in x_cols]\n",
    "    \n",
    "    x.columns = x_cols\n",
    "    \n",
    "    return x         \n",
    "    \n",
    "the_spotify_data =the_spotify_data.groupby([\"artist_names\", \"track_name\"], as_index=False).apply(lambda x : getTrackAppearanceCount(x))\n",
    "the_spotify_data = the_spotify_data.reset_index()\n",
    "the_spotify_data.drop([\"level_0\", \"level_1\"], inplace=True, axis=1)"
   ]
  },
  {
   "cell_type": "code",
   "execution_count": 34,
   "metadata": {},
   "outputs": [
    {
     "data": {
      "text/html": [
       "<div>\n",
       "<style scoped>\n",
       "    .dataframe tbody tr th:only-of-type {\n",
       "        vertical-align: middle;\n",
       "    }\n",
       "\n",
       "    .dataframe tbody tr th {\n",
       "        vertical-align: top;\n",
       "    }\n",
       "\n",
       "    .dataframe thead th {\n",
       "        text-align: right;\n",
       "    }\n",
       "</style>\n",
       "<table border=\"1\" class=\"dataframe\">\n",
       "  <thead>\n",
       "    <tr style=\"text-align: right;\">\n",
       "      <th></th>\n",
       "      <th>trackAppearanceCount</th>\n",
       "      <th>artistAppearanceCount</th>\n",
       "      <th>rank</th>\n",
       "      <th>uri</th>\n",
       "      <th>artist_names</th>\n",
       "      <th>track_name</th>\n",
       "      <th>source</th>\n",
       "      <th>peak_rank</th>\n",
       "      <th>previous_rank</th>\n",
       "      <th>weeks_on_chart</th>\n",
       "      <th>streams</th>\n",
       "      <th>End Date</th>\n",
       "      <th>Week</th>\n",
       "      <th>Year</th>\n",
       "      <th>End Date Dt</th>\n",
       "      <th>Seconds since Epoch</th>\n",
       "      <th>End Date Aggregated</th>\n",
       "      <th>ArtistCount</th>\n",
       "      <th>main_artist</th>\n",
       "      <th>isTopTen</th>\n",
       "    </tr>\n",
       "  </thead>\n",
       "  <tbody>\n",
       "    <tr>\n",
       "      <th>0</th>\n",
       "      <td>0</td>\n",
       "      <td>20</td>\n",
       "      <td>163</td>\n",
       "      <td>spotify:track:1bUacg9mWo407qZvsknlFd</td>\n",
       "      <td>Damons year</td>\n",
       "      <td>josee!</td>\n",
       "      <td>Akashic Records</td>\n",
       "      <td>163</td>\n",
       "      <td>-1</td>\n",
       "      <td>1</td>\n",
       "      <td>22086</td>\n",
       "      <td>2023-01-05</td>\n",
       "      <td>1</td>\n",
       "      <td>2023</td>\n",
       "      <td>2023-01-05</td>\n",
       "      <td>1.672877e+09</td>\n",
       "      <td>2023-01-01</td>\n",
       "      <td>1</td>\n",
       "      <td>Damons year</td>\n",
       "      <td>0</td>\n",
       "    </tr>\n",
       "    <tr>\n",
       "      <th>1</th>\n",
       "      <td>1</td>\n",
       "      <td>22</td>\n",
       "      <td>149</td>\n",
       "      <td>spotify:track:1bUacg9mWo407qZvsknlFd</td>\n",
       "      <td>Damons year</td>\n",
       "      <td>josee!</td>\n",
       "      <td>Akashic Records</td>\n",
       "      <td>149</td>\n",
       "      <td>163</td>\n",
       "      <td>2</td>\n",
       "      <td>22576</td>\n",
       "      <td>2023-01-12</td>\n",
       "      <td>2</td>\n",
       "      <td>2023</td>\n",
       "      <td>2023-01-12</td>\n",
       "      <td>1.673482e+09</td>\n",
       "      <td>2023-01-01</td>\n",
       "      <td>1</td>\n",
       "      <td>Damons year</td>\n",
       "      <td>0</td>\n",
       "    </tr>\n",
       "    <tr>\n",
       "      <th>2</th>\n",
       "      <td>2</td>\n",
       "      <td>24</td>\n",
       "      <td>102</td>\n",
       "      <td>spotify:track:1bUacg9mWo407qZvsknlFd</td>\n",
       "      <td>Damons year</td>\n",
       "      <td>josee!</td>\n",
       "      <td>Akashic Records</td>\n",
       "      <td>102</td>\n",
       "      <td>149</td>\n",
       "      <td>3</td>\n",
       "      <td>27953</td>\n",
       "      <td>2023-01-19</td>\n",
       "      <td>3</td>\n",
       "      <td>2023</td>\n",
       "      <td>2023-01-19</td>\n",
       "      <td>1.674086e+09</td>\n",
       "      <td>2023-01-01</td>\n",
       "      <td>1</td>\n",
       "      <td>Damons year</td>\n",
       "      <td>0</td>\n",
       "    </tr>\n",
       "    <tr>\n",
       "      <th>3</th>\n",
       "      <td>3</td>\n",
       "      <td>26</td>\n",
       "      <td>191</td>\n",
       "      <td>spotify:track:1bUacg9mWo407qZvsknlFd</td>\n",
       "      <td>Damons year</td>\n",
       "      <td>josee!</td>\n",
       "      <td>Akashic Records</td>\n",
       "      <td>102</td>\n",
       "      <td>102</td>\n",
       "      <td>4</td>\n",
       "      <td>18211</td>\n",
       "      <td>2023-01-26</td>\n",
       "      <td>4</td>\n",
       "      <td>2023</td>\n",
       "      <td>2023-01-26</td>\n",
       "      <td>1.674691e+09</td>\n",
       "      <td>2023-01-01</td>\n",
       "      <td>1</td>\n",
       "      <td>Damons year</td>\n",
       "      <td>0</td>\n",
       "    </tr>\n",
       "    <tr>\n",
       "      <th>4</th>\n",
       "      <td>4</td>\n",
       "      <td>28</td>\n",
       "      <td>150</td>\n",
       "      <td>spotify:track:1bUacg9mWo407qZvsknlFd</td>\n",
       "      <td>Damons year</td>\n",
       "      <td>josee!</td>\n",
       "      <td>Akashic Records</td>\n",
       "      <td>102</td>\n",
       "      <td>191</td>\n",
       "      <td>5</td>\n",
       "      <td>22987</td>\n",
       "      <td>2023-02-02</td>\n",
       "      <td>5</td>\n",
       "      <td>2023</td>\n",
       "      <td>2023-02-02</td>\n",
       "      <td>1.675296e+09</td>\n",
       "      <td>2023-02-01</td>\n",
       "      <td>1</td>\n",
       "      <td>Damons year</td>\n",
       "      <td>0</td>\n",
       "    </tr>\n",
       "  </tbody>\n",
       "</table>\n",
       "</div>"
      ],
      "text/plain": [
       "   trackAppearanceCount  artistAppearanceCount  rank  \\\n",
       "0                     0                     20   163   \n",
       "1                     1                     22   149   \n",
       "2                     2                     24   102   \n",
       "3                     3                     26   191   \n",
       "4                     4                     28   150   \n",
       "\n",
       "                                    uri   artist_names track_name  \\\n",
       "0  spotify:track:1bUacg9mWo407qZvsknlFd    Damons year     josee!   \n",
       "1  spotify:track:1bUacg9mWo407qZvsknlFd    Damons year     josee!   \n",
       "2  spotify:track:1bUacg9mWo407qZvsknlFd    Damons year     josee!   \n",
       "3  spotify:track:1bUacg9mWo407qZvsknlFd    Damons year     josee!   \n",
       "4  spotify:track:1bUacg9mWo407qZvsknlFd    Damons year     josee!   \n",
       "\n",
       "            source  peak_rank  previous_rank  weeks_on_chart  streams  \\\n",
       "0  Akashic Records        163             -1               1    22086   \n",
       "1  Akashic Records        149            163               2    22576   \n",
       "2  Akashic Records        102            149               3    27953   \n",
       "3  Akashic Records        102            102               4    18211   \n",
       "4  Akashic Records        102            191               5    22987   \n",
       "\n",
       "     End Date  Week  Year End Date Dt  Seconds since Epoch  \\\n",
       "0  2023-01-05     1  2023  2023-01-05         1.672877e+09   \n",
       "1  2023-01-12     2  2023  2023-01-12         1.673482e+09   \n",
       "2  2023-01-19     3  2023  2023-01-19         1.674086e+09   \n",
       "3  2023-01-26     4  2023  2023-01-26         1.674691e+09   \n",
       "4  2023-02-02     5  2023  2023-02-02         1.675296e+09   \n",
       "\n",
       "  End Date Aggregated  ArtistCount    main_artist  isTopTen  \n",
       "0          2023-01-01            1    Damons year         0  \n",
       "1          2023-01-01            1    Damons year         0  \n",
       "2          2023-01-01            1    Damons year         0  \n",
       "3          2023-01-01            1    Damons year         0  \n",
       "4          2023-02-01            1    Damons year         0  "
      ]
     },
     "execution_count": 34,
     "metadata": {},
     "output_type": "execute_result"
    }
   ],
   "source": [
    "the_spotify_data.head()"
   ]
  },
  {
   "cell_type": "code",
   "execution_count": 35,
   "metadata": {},
   "outputs": [],
   "source": [
    "the_spotify_data.to_csv(\"the_spotify_data_kr.csv\")"
   ]
  },
  {
   "cell_type": "code",
   "execution_count": 36,
   "metadata": {},
   "outputs": [],
   "source": [
    "the_spotify_data[\"rank\"] = the_spotify_data[\"rank\"].astype(int)\n",
    "the_spotify_data[\"streams\"] = the_spotify_data[\"streams\"].astype(int)\n",
    "the_spotify_data[\"ArtistCount\"] = the_spotify_data[\"ArtistCount\"].astype(int)\n",
    "\n",
    "the_spotify_data[\"isTopTen\"] = the_spotify_data[\"isTopTen\"].astype(int)\n",
    "# the_spotify_data[\"lenOnCharts\"] = the_spotify_data[\"lenOnCharts\"].astype(int)\n",
    "the_spotify_data[\"Year\"] = the_spotify_data[\"Year\"].astype(int)\n",
    "the_spotify_data[\"Week\"] = the_spotify_data[\"Week\"].astype(int)"
   ]
  },
  {
   "cell_type": "code",
   "execution_count": 37,
   "metadata": {},
   "outputs": [],
   "source": [
    "all_cols = list(the_spotify_data.columns)\n",
    "drop_cols = []\n",
    "\n",
    "for col in all_cols:\n",
    "    if(\"Unnamed\" in col or \"artificial\" in col):\n",
    "        drop_cols.append(col)\n",
    "        \n",
    "the_spotify_data.drop(drop_cols, axis=1, inplace = True)"
   ]
  },
  {
   "cell_type": "code",
   "execution_count": 38,
   "metadata": {},
   "outputs": [],
   "source": [
    "the_spotify_data[\"Artist and Track\"] = the_spotify_data[\"artist_names\"] + \"; \" + the_spotify_data[\"track_name\"]"
   ]
  },
  {
   "cell_type": "markdown",
   "metadata": {},
   "source": [
    "### Getting the list of Artists and Tracks"
   ]
  },
  {
   "cell_type": "code",
   "execution_count": 39,
   "metadata": {},
   "outputs": [],
   "source": [
    "import pandas as pd\n",
    "# import pymongo\n",
    "# import getlyrics"
   ]
  },
  {
   "cell_type": "code",
   "execution_count": 40,
   "metadata": {},
   "outputs": [],
   "source": [
    "def trackAppearance(x):\n",
    "#     x = x.reset_index()\n",
    "\n",
    "    x = x.sort_values(by=[\"End Date\"])\n",
    "#     x.set_index([\"Position\"])\n",
    "\n",
    "    x[\"rank\"] = x[\"rank\"].astype(int)\n",
    "#     print(list(x[\"Position\"]))\n",
    "    \n",
    "    x[\"rank difference\"] = x[\"rank\"].diff().fillna(0)\n",
    "    x[\"rank difference\"] = x[\"rank difference\"].astype(int)\n",
    "    \n",
    "#     x[\"Position Difference\"] = x[\"Position\"].sub(x[\"Position\"].shift())\n",
    "#     x.drop([\"index\"], inplace=True)\n",
    "    \n",
    "    return x\n",
    "    \n",
    "all_files_grouped = the_spotify_data.groupby([\"main_artist\", \"track_name\"]).apply(lambda x: trackAppearance(x))"
   ]
  },
  {
   "cell_type": "code",
   "execution_count": 41,
   "metadata": {},
   "outputs": [
    {
     "data": {
      "text/plain": [
       "185"
      ]
     },
     "execution_count": 41,
     "metadata": {},
     "output_type": "execute_result"
    }
   ],
   "source": [
    "all_files_grouped[\"rank difference\"].max()"
   ]
  },
  {
   "cell_type": "markdown",
   "metadata": {},
   "source": [
    "### Position over time"
   ]
  },
  {
   "cell_type": "code",
   "execution_count": 42,
   "metadata": {},
   "outputs": [],
   "source": [
    "def positionvertime(x):\n",
    "    posovertime = 0\n",
    "    #new track\n",
    "    if(x[\"rank difference\"] == 0 and x[\"trackAppearanceCount\"]==0):\n",
    "        posovertime = 0\n",
    "    #track stayed in the same position\n",
    "    elif(x[\"rank difference\"] == 0 and x[\"trackAppearanceCount\"]!=0):\n",
    "        posovertime = 50\n",
    "    #track went up the chart\n",
    "    elif(x[\"rank difference\"] < 0):\n",
    "        posovertime = 75\n",
    "    #track fell down the chart\n",
    "    else:\n",
    "        posovertime = 100\n",
    "    return posovertime"
   ]
  },
  {
   "cell_type": "code",
   "execution_count": 43,
   "metadata": {},
   "outputs": [],
   "source": [
    "all_files_grouped[\"Position over Time\"] = all_files_grouped.apply(lambda x : positionvertime(x), axis=1)"
   ]
  },
  {
   "cell_type": "markdown",
   "metadata": {},
   "source": [
    "##### Add a Girl Group and Boy Group"
   ]
  },
  {
   "cell_type": "code",
   "execution_count": 44,
   "metadata": {},
   "outputs": [],
   "source": [
    "ggdf = pd.read_csv(\"Classification/ListofGirlGroups.csv\", encoding='ANSI')\n",
    "bgdf = pd.read_csv(\"Classification/ListofBoyGroups.csv\", on_bad_lines='skip', encoding='ANSI')"
   ]
  },
  {
   "cell_type": "code",
   "execution_count": 45,
   "metadata": {},
   "outputs": [],
   "source": [
    "def IsGG(ggdf, y):\n",
    "    ggs = [x.lower().strip() for x in ggdf[\"Artist\"]]\n",
    "    y = y.lower().strip()\n",
    "    \n",
    "    if y in ggs:\n",
    "        return True\n",
    "    else:\n",
    "        return False\n",
    "\n",
    "def IsBG(bgdf, y):\n",
    "    bgs = [x.lower().strip() for x in bgdf[\"Artist\"]]\n",
    "    y = y.lower().strip()\n",
    "    \n",
    "    if y in bgs:\n",
    "        return True\n",
    "    else:\n",
    "        return False"
   ]
  },
  {
   "cell_type": "code",
   "execution_count": 46,
   "metadata": {},
   "outputs": [],
   "source": [
    "all_files_grouped[\"IsGirlGroup\"] = all_files_grouped[\"main_artist\"].apply(lambda x : IsGG(ggdf, x))\n",
    "all_files_grouped[\"IsBoyGroup\"] = all_files_grouped[\"main_artist\"].apply(lambda x : IsGG(bgdf, x))"
   ]
  },
  {
   "cell_type": "code",
   "execution_count": 47,
   "metadata": {},
   "outputs": [],
   "source": [
    "ggs = all_files_grouped[all_files_grouped[\"IsGirlGroup\"]==True][\"main_artist\"].unique().tolist()\n",
    "bgs = all_files_grouped[all_files_grouped[\"IsBoyGroup\"]==True][\"main_artist\"].unique().tolist()"
   ]
  },
  {
   "cell_type": "code",
   "execution_count": 48,
   "metadata": {},
   "outputs": [],
   "source": [
    "all_files_grouped.to_csv(\"Classification/all_files_SKRv1.csv\", index=False)"
   ]
  },
  {
   "cell_type": "code",
   "execution_count": 49,
   "metadata": {},
   "outputs": [
    {
     "data": {
      "text/plain": [
       "Index(['trackAppearanceCount', 'artistAppearanceCount', 'rank', 'uri',\n",
       "       'artist_names', 'track_name', 'source', 'peak_rank', 'previous_rank',\n",
       "       'weeks_on_chart', 'streams', 'End Date', 'Week', 'Year', 'End Date Dt',\n",
       "       'Seconds since Epoch', 'End Date Aggregated', 'ArtistCount',\n",
       "       'main_artist', 'isTopTen', 'Artist and Track', 'rank difference',\n",
       "       'Position over Time', 'IsGirlGroup', 'IsBoyGroup'],\n",
       "      dtype='object')"
      ]
     },
     "execution_count": 49,
     "metadata": {},
     "output_type": "execute_result"
    }
   ],
   "source": [
    "all_files_grouped.columns"
   ]
  },
  {
   "cell_type": "code",
   "execution_count": 50,
   "metadata": {},
   "outputs": [],
   "source": [
    "# new_all_files_grouped = all_files_grouped.reset_index(drop=True)"
   ]
  },
  {
   "cell_type": "code",
   "execution_count": 51,
   "metadata": {},
   "outputs": [],
   "source": [
    "def newstuff(x):\n",
    "#     x = x.reset_index()\n",
    "\n",
    "    x = x.sort_values(by=['Seconds since Epoch'])\n",
    "#     x.set_index([\"Position\"])\n",
    "    print(x)\n",
    "    \n",
    "    return x\n",
    "    \n"
   ]
  },
  {
   "cell_type": "code",
   "execution_count": 52,
   "metadata": {},
   "outputs": [],
   "source": [
    "# all_files_grouped = new_all_files_grouped.groupby([\"Artist\", \"Track Name\"]).apply(lambda x: newstuff(x))"
   ]
  },
  {
   "cell_type": "code",
   "execution_count": 53,
   "metadata": {},
   "outputs": [],
   "source": [
    "# all_files_grouped.min()"
   ]
  },
  {
   "cell_type": "code",
   "execution_count": 54,
   "metadata": {},
   "outputs": [],
   "source": [
    "# df = pd.DataFrame({'A': 'a a b'.split(), 'B': [1,2,3], 'C': [4,6, 5]})"
   ]
  },
  {
   "cell_type": "code",
   "execution_count": 55,
   "metadata": {},
   "outputs": [],
   "source": [
    "# new_all_files_grouped.groupby([])"
   ]
  },
  {
   "cell_type": "code",
   "execution_count": 56,
   "metadata": {},
   "outputs": [],
   "source": [
    "# all_files_grouped.apply(lambda x : print(type(x)) )"
   ]
  },
  {
   "cell_type": "code",
   "execution_count": 57,
   "metadata": {},
   "outputs": [],
   "source": [
    "# # new_all_files_grouped.h'Track Name', 'Artist'ead(5)\n",
    "# cols_ = ['Start Date', 'Seconds since Epoch', 'Position']\n",
    "# new_test_df = pd.DataFrame()"
   ]
  },
  {
   "cell_type": "code",
   "execution_count": 58,
   "metadata": {},
   "outputs": [],
   "source": [
    "# 604800\n",
    "def weekonweekposition(x):\n",
    "    \n",
    "#     print(x.values)\n",
    "    \n",
    "    pd.DataFrame({'email':x.index, 'list':x.values})\n",
    "    \n",
    "    \n",
    "#     return x_\n",
    "    \n",
    "#     x_ = pd.DataFrame(x, columns=['Start Date'])\n",
    "    \n",
    "#     x_ = x.to_frame()\n",
    "    \n",
    "#     print(x_.columns)\n",
    "    \n",
    "#     for n in range(0, fin_len):\n",
    "#         for col in cols_:\n",
    "#             print(len(x[n]), x[n], col)\n",
    "        \n",
    "    \n",
    "#     x_ = pd.DataFrame(x, columns=cols_)\n",
    "#     print(x_.shape)\n",
    "#     print(x.columns)"
   ]
  },
  {
   "cell_type": "code",
   "execution_count": 59,
   "metadata": {},
   "outputs": [],
   "source": [
    "# all_files_gr = new_all_files_grouped[['Artist', 'Track Name', 'Seconds since Epoch', 'Position']]"
   ]
  },
  {
   "cell_type": "code",
   "execution_count": 60,
   "metadata": {
    "scrolled": true
   },
   "outputs": [],
   "source": [
    "# all_files_grouped[cols_].apply( lambda x : weekonweekposition(x) )"
   ]
  },
  {
   "cell_type": "code",
   "execution_count": 61,
   "metadata": {},
   "outputs": [],
   "source": [
    "# new_test_df"
   ]
  },
  {
   "cell_type": "markdown",
   "metadata": {},
   "source": [
    "### South African Artists"
   ]
  },
  {
   "cell_type": "code",
   "execution_count": 62,
   "metadata": {},
   "outputs": [
    {
     "data": {
      "text/plain": [
       "(35400, 25)"
      ]
     },
     "execution_count": 62,
     "metadata": {},
     "output_type": "execute_result"
    }
   ],
   "source": [
    "all_files_grouped.shape"
   ]
  },
  {
   "cell_type": "code",
   "execution_count": 63,
   "metadata": {},
   "outputs": [
    {
     "data": {
      "text/plain": [
       "Index(['trackAppearanceCount', 'artistAppearanceCount', 'rank', 'uri',\n",
       "       'artist_names', 'track_name', 'source', 'peak_rank', 'previous_rank',\n",
       "       'weeks_on_chart', 'streams', 'End Date', 'Week', 'Year', 'End Date Dt',\n",
       "       'Seconds since Epoch', 'End Date Aggregated', 'ArtistCount',\n",
       "       'main_artist', 'isTopTen', 'Artist and Track', 'rank difference',\n",
       "       'Position over Time', 'IsGirlGroup', 'IsBoyGroup'],\n",
       "      dtype='object')"
      ]
     },
     "execution_count": 63,
     "metadata": {},
     "output_type": "execute_result"
    }
   ],
   "source": [
    "all_files_grouped.columns"
   ]
  },
  {
   "cell_type": "code",
   "execution_count": 64,
   "metadata": {},
   "outputs": [],
   "source": [
    "narrowing_df = all_files_grouped[['End Date', \"rank difference\"]]"
   ]
  },
  {
   "cell_type": "code",
   "execution_count": 65,
   "metadata": {},
   "outputs": [],
   "source": [
    "narrowing_df.reset_index(inplace=True)"
   ]
  },
  {
   "cell_type": "code",
   "execution_count": 66,
   "metadata": {},
   "outputs": [
    {
     "name": "stderr",
     "output_type": "stream",
     "text": [
      "C:\\Users\\User\\AppData\\Local\\Temp\\ipykernel_21124\\3213521647.py:1: SettingWithCopyWarning: \n",
      "A value is trying to be set on a copy of a slice from a DataFrame\n",
      "\n",
      "See the caveats in the documentation: https://pandas.pydata.org/pandas-docs/stable/user_guide/indexing.html#returning-a-view-versus-a-copy\n",
      "  narrowing_df.drop([\"level_2\"], axis=1, inplace=True)\n"
     ]
    }
   ],
   "source": [
    "narrowing_df.drop([\"level_2\"], axis=1, inplace=True)"
   ]
  },
  {
   "cell_type": "code",
   "execution_count": 67,
   "metadata": {},
   "outputs": [],
   "source": [
    "narrowing_df = narrowing_df[narrowing_df[\"rank difference\"] == 0]"
   ]
  },
  {
   "cell_type": "code",
   "execution_count": 68,
   "metadata": {},
   "outputs": [],
   "source": [
    "narrowing_df.to_csv(\"narrow_uniqkr.csv\", index=False)"
   ]
  }
 ],
 "metadata": {
  "kernelspec": {
   "display_name": "Python 3 (ipykernel)",
   "language": "python",
   "name": "python3"
  },
  "language_info": {
   "codemirror_mode": {
    "name": "ipython",
    "version": 3
   },
   "file_extension": ".py",
   "mimetype": "text/x-python",
   "name": "python",
   "nbconvert_exporter": "python",
   "pygments_lexer": "ipython3",
   "version": "3.9.13"
  }
 },
 "nbformat": 4,
 "nbformat_minor": 4
}
