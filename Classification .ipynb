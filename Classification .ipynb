{
 "cells": [
  {
   "cell_type": "markdown",
   "id": "d29e0f48",
   "metadata": {},
   "source": [
    "# Feature Engineering for Classification"
   ]
  },
  {
   "cell_type": "code",
   "execution_count": 1,
   "id": "99467b43",
   "metadata": {},
   "outputs": [],
   "source": [
    "import pandas as pd"
   ]
  },
  {
   "cell_type": "code",
   "execution_count": 2,
   "id": "31354213",
   "metadata": {},
   "outputs": [],
   "source": [
    "za_data = pd.read_csv(\"Classification/all_files_ZA.csv\")"
   ]
  },
  {
   "cell_type": "code",
   "execution_count": 3,
   "id": "b1295b4b",
   "metadata": {},
   "outputs": [
    {
     "data": {
      "text/plain": [
       "Index(['trackAppearanceCount', 'artistAppearanceCount', 'Position',\n",
       "       'Track Name', 'Artist', 'Streams', 'Start Date', 'End Date', 'Week',\n",
       "       'Year', 'Start Date Dt', 'End Date Dt', 'Seconds since Epoch',\n",
       "       'End Date Aggregated', 'ArtistCount', 'isTopTen', 'lenOnCharts',\n",
       "       'Artist and Track', 'Position Difference'],\n",
       "      dtype='object')"
      ]
     },
     "execution_count": 3,
     "metadata": {},
     "output_type": "execute_result"
    }
   ],
   "source": [
    "za_data.columns"
   ]
  },
  {
   "cell_type": "code",
   "execution_count": 4,
   "id": "0ee6f42e",
   "metadata": {},
   "outputs": [
    {
     "data": {
      "text/plain": [
       "19"
      ]
     },
     "execution_count": 4,
     "metadata": {},
     "output_type": "execute_result"
    }
   ],
   "source": [
    "len(list(za_data.columns))"
   ]
  },
  {
   "cell_type": "code",
   "execution_count": 5,
   "id": "d2c57dfa",
   "metadata": {},
   "outputs": [],
   "source": [
    "# groupby_cols = ['Artist', 'Track Name']\n",
    "groupby_cols = ['Artist']"
   ]
  },
  {
   "cell_type": "code",
   "execution_count": 6,
   "id": "4220f168",
   "metadata": {},
   "outputs": [],
   "source": [
    "groupednum_songs = za_data.groupby(groupby_cols)[\"Track Name\"].agg(\"count\")\n",
    "groupednum_songs_df = pd.DataFrame(groupednum_songs).reset_index()\n",
    "groupednum_songs_df.columns = groupby_cols + [\"Artist Song Count\"]"
   ]
  },
  {
   "cell_type": "markdown",
   "id": "2681298a",
   "metadata": {},
   "source": [
    "### 1. Streams"
   ]
  },
  {
   "cell_type": "code",
   "execution_count": 7,
   "id": "3f8a56fa",
   "metadata": {},
   "outputs": [],
   "source": [
    "groupedmax_streams = za_data.groupby(groupby_cols)[\"Streams\"].agg(\"max\")\n",
    "groupedmax_streams_df = pd.DataFrame(groupedmax_streams).reset_index()\n",
    "groupedmax_streams_df.columns = groupby_cols + [\"Max Streams per Song\"]"
   ]
  },
  {
   "cell_type": "code",
   "execution_count": 8,
   "id": "193b1f04",
   "metadata": {},
   "outputs": [],
   "source": [
    "groupedmin_streams = za_data.groupby(groupby_cols)[\"Streams\"].agg(\"min\")\n",
    "groupedmin_streams_df = pd.DataFrame(groupedmin_streams).reset_index()\n",
    "groupedmin_streams_df.columns = groupby_cols + [\"Min Streams per Song\"]"
   ]
  },
  {
   "cell_type": "code",
   "execution_count": 9,
   "id": "5ee7f794",
   "metadata": {},
   "outputs": [],
   "source": [
    "groupedsum_streams = za_data.groupby(groupby_cols)[\"Streams\"].agg(\"sum\")\n",
    "groupedsum_streams_df = pd.DataFrame(groupedsum_streams).reset_index()\n",
    "groupedsum_streams_df.columns = groupby_cols + [\"Total Streams per Song\"]"
   ]
  },
  {
   "cell_type": "code",
   "execution_count": 10,
   "id": "176b59d3",
   "metadata": {},
   "outputs": [],
   "source": [
    "groupedmean_streams = za_data.groupby(groupby_cols)[\"Streams\"].agg(\"mean\")\n",
    "groupedmean_streams_df = pd.DataFrame(groupedmean_streams).reset_index()\n",
    "groupedmean_streams_df.columns = groupby_cols + [\"Mean Streams per Song\"]"
   ]
  },
  {
   "cell_type": "markdown",
   "id": "fe7fb879",
   "metadata": {},
   "source": [
    "### 2. Positions"
   ]
  },
  {
   "cell_type": "code",
   "execution_count": 11,
   "id": "8f485434",
   "metadata": {},
   "outputs": [],
   "source": [
    "groupedpos_streams = za_data.groupby(groupby_cols)[\"Position\"].agg(\"min\")\n",
    "groupedpos_streams_df = pd.DataFrame(groupedpos_streams).reset_index()\n",
    "groupedpos_streams_df.columns = groupby_cols + [\"Min Position per Song\"]\n",
    "\n",
    "groupedposmax_streams = za_data.groupby(groupby_cols)[\"Position\"].agg(\"max\")\n",
    "groupedposmax_streams_df = pd.DataFrame(groupedposmax_streams).reset_index()\n",
    "groupedposmax_streams_df.columns = groupby_cols + [\"Max Position per Song\"]"
   ]
  },
  {
   "cell_type": "markdown",
   "id": "342757e7",
   "metadata": {},
   "source": [
    "#### get the dates to use for later other positions"
   ]
  },
  {
   "cell_type": "code",
   "execution_count": 12,
   "id": "060d374f",
   "metadata": {},
   "outputs": [],
   "source": [
    "groupeddatemin_streams = za_data.groupby(groupby_cols)['Start Date Dt'].agg(\"min\")\n",
    "groupeddatemin_streams_df = pd.DataFrame(groupeddatemin_streams).reset_index()\n",
    "groupeddatemin_streams_df.columns = groupby_cols + [\"Min Start Date per Song\"]\n",
    "\n",
    "groupeddatemax_streams = za_data.groupby(groupby_cols)['Start Date Dt'].agg(\"max\")\n",
    "groupeddatemax_streams_df = pd.DataFrame(groupeddatemax_streams).reset_index()\n",
    "groupeddatemax_streams_df.columns = groupby_cols + [\"Max Start Date per Song\"]\n",
    "\n",
    "\n",
    "groupedenddatemin_streams = za_data.groupby(groupby_cols)['End Date Dt'].agg(\"min\")\n",
    "groupedenddatemin_streams_df = pd.DataFrame(groupedenddatemin_streams).reset_index()\n",
    "groupedenddatemin_streams_df.columns = groupby_cols + [\"Min End Date per Song\"]\n",
    "\n",
    "groupedenddatemax_streams = za_data.groupby(groupby_cols)['End Date Dt'].agg(\"max\")\n",
    "groupedenddatemax_streams_df = pd.DataFrame(groupedenddatemax_streams).reset_index()\n",
    "groupedenddatemax_streams_df.columns = groupby_cols + [\"Max End Date per Song\"]"
   ]
  },
  {
   "cell_type": "markdown",
   "id": "c7413f3f",
   "metadata": {},
   "source": [
    "### 3. Dates"
   ]
  },
  {
   "cell_type": "markdown",
   "id": "b6b9acbd",
   "metadata": {},
   "source": [
    "## Combine the dfs"
   ]
  },
  {
   "cell_type": "code",
   "execution_count": 13,
   "id": "16a6ba11",
   "metadata": {},
   "outputs": [],
   "source": [
    "groupeddf = groupedmax_streams_df"
   ]
  },
  {
   "cell_type": "code",
   "execution_count": 14,
   "id": "afa2c600",
   "metadata": {},
   "outputs": [],
   "source": [
    "groupeddf[\"Min Streams per Song\"] = groupedmin_streams_df[\"Min Streams per Song\"]\n",
    "groupeddf[\"Total Streams per Song\"] = groupedsum_streams_df[\"Total Streams per Song\"]\n",
    "groupeddf[\"Mean Streams per Song\"]= groupedmean_streams_df[\"Mean Streams per Song\"]\n",
    "groupeddf[\"Min Position per Song\"] = groupedpos_streams_df[\"Min Position per Song\"]\n",
    "groupeddf[\"Max Position per Song\"] = groupedposmax_streams_df[\"Max Position per Song\"]\n",
    "groupeddf[\"Artist Song Count\"] = groupednum_songs_df[\"Artist Song Count\"]\n",
    "# groupeddf[\"Min Start Date per Song\"] = groupeddatemin_streams_df[\"Min Start Date per Song\"]\n",
    "# groupeddf[\"Max Start Date per Song\"] = groupeddatemax_streams_df[\"Max Start Date per Song\"]\n",
    "# groupeddf[\"Min End Date per Song\"] = groupedenddatemin_streams_df[\"Min End Date per Song\"]\n",
    "# groupeddf[\"Max End Date per Song\"] = groupedenddatemax_streams_df[\"Max End Date per Song\"]"
   ]
  },
  {
   "cell_type": "code",
   "execution_count": 15,
   "id": "888749c1",
   "metadata": {},
   "outputs": [],
   "source": [
    "groupeddf[\"MaxMin Difference Position\"] = groupeddf[\"Max Position per Song\"] - groupeddf[\"Min Position per Song\"]\n",
    "groupeddf[\"MaxMin Difference Streams\"] = groupeddf[\"Max Streams per Song\"] - groupeddf[\"Min Streams per Song\"]"
   ]
  },
  {
   "cell_type": "code",
   "execution_count": 16,
   "id": "5ef3e58b",
   "metadata": {},
   "outputs": [],
   "source": [
    "groupeddf[\"MaxMin Ratio Position\"] = groupeddf[\"Max Position per Song\"] / groupeddf[\"Min Position per Song\"]\n",
    "groupeddf[\"MaxMin Ratio Streams\"] = groupeddf[\"Max Streams per Song\"] / groupeddf[\"Min Streams per Song\"]"
   ]
  },
  {
   "cell_type": "code",
   "execution_count": 17,
   "id": "4132a1c3",
   "metadata": {},
   "outputs": [],
   "source": [
    "groupeddf.drop([\"Max Position per Song\"], inplace=True, axis=1)"
   ]
  },
  {
   "cell_type": "code",
   "execution_count": 18,
   "id": "b2ebe535",
   "metadata": {},
   "outputs": [],
   "source": [
    "# groupeddf[\"MaxMin Difference Date\"] = groupeddf[\"Min Start Date per Song\"] - groupeddf[\"Max End Date per Song\"]"
   ]
  },
  {
   "cell_type": "code",
   "execution_count": 19,
   "id": "95b31d42",
   "metadata": {},
   "outputs": [
    {
     "data": {
      "text/plain": [
       "(738, 11)"
      ]
     },
     "execution_count": 19,
     "metadata": {},
     "output_type": "execute_result"
    }
   ],
   "source": [
    "groupeddf.shape"
   ]
  },
  {
   "cell_type": "code",
   "execution_count": 20,
   "id": "25a3e06d",
   "metadata": {},
   "outputs": [],
   "source": [
    "groupeddf = groupeddf.drop_duplicates()"
   ]
  },
  {
   "cell_type": "code",
   "execution_count": 21,
   "id": "adcacf77",
   "metadata": {},
   "outputs": [
    {
     "data": {
      "text/plain": [
       "(738, 11)"
      ]
     },
     "execution_count": 21,
     "metadata": {},
     "output_type": "execute_result"
    }
   ],
   "source": [
    "groupeddf.shape"
   ]
  },
  {
   "cell_type": "code",
   "execution_count": 22,
   "id": "b553ce57",
   "metadata": {},
   "outputs": [],
   "source": [
    "groupeddf.to_csv(\"grouped df.csv\", index=False)"
   ]
  },
  {
   "cell_type": "code",
   "execution_count": 23,
   "id": "a02d9caa",
   "metadata": {},
   "outputs": [],
   "source": [
    "from sklearn.cluster import KMeans"
   ]
  },
  {
   "cell_type": "code",
   "execution_count": 24,
   "id": "c6fece27",
   "metadata": {},
   "outputs": [],
   "source": [
    "kmeans_df = pd.DataFrame()\n",
    "for col in groupby_cols:\n",
    "    kmeans_df[col] = groupeddf[col]"
   ]
  },
  {
   "cell_type": "code",
   "execution_count": 25,
   "id": "8fa8f09b",
   "metadata": {},
   "outputs": [],
   "source": [
    "train_groupeddf = groupeddf.drop(groupby_cols, axis=1)"
   ]
  },
  {
   "cell_type": "code",
   "execution_count": 26,
   "id": "2abd1419",
   "metadata": {},
   "outputs": [],
   "source": [
    "# train_groupeddf.head(5)"
   ]
  },
  {
   "cell_type": "code",
   "execution_count": 27,
   "id": "d6329358",
   "metadata": {},
   "outputs": [],
   "source": [
    "kmeans = KMeans(n_clusters=3, random_state=0).fit(train_groupeddf)"
   ]
  },
  {
   "cell_type": "code",
   "execution_count": 28,
   "id": "d0657cbf",
   "metadata": {},
   "outputs": [],
   "source": [
    "allklabels = kmeans.labels_"
   ]
  },
  {
   "cell_type": "code",
   "execution_count": 29,
   "id": "c2d7c2aa",
   "metadata": {},
   "outputs": [],
   "source": [
    "kmeans_df[\"Labels\"] = allklabels"
   ]
  },
  {
   "cell_type": "code",
   "execution_count": 32,
   "id": "f6c428ba",
   "metadata": {},
   "outputs": [],
   "source": [
    "other_cols = [\"Min Streams per Song\", \"Total Streams per Song\", \"Mean Streams per Song\", \"Min Position per Song\", \"Artist Song Count\", \"MaxMin Ratio Position\", \"MaxMin Ratio Streams\", \"MaxMin Difference Position\", \"MaxMin Difference Streams\"]"
   ]
  },
  {
   "cell_type": "code",
   "execution_count": 33,
   "id": "5de669c9",
   "metadata": {},
   "outputs": [],
   "source": [
    "for col in other_cols:\n",
    "    kmeans_df[col] = groupeddf[col]"
   ]
  },
  {
   "cell_type": "code",
   "execution_count": 34,
   "id": "21f91663",
   "metadata": {},
   "outputs": [],
   "source": [
    "kmeans_df.to_csv(\"kmeans_df.csv\", index=False)"
   ]
  },
  {
   "cell_type": "code",
   "execution_count": null,
   "id": "2b0a2ad0",
   "metadata": {},
   "outputs": [],
   "source": [
    "# df.groupby(\"date\").agg({\"duration\": np.sum, \"user_id\": pd.Series.nunique})\n"
   ]
  },
  {
   "cell_type": "code",
   "execution_count": null,
   "id": "2458bde4",
   "metadata": {},
   "outputs": [],
   "source": []
  },
  {
   "cell_type": "code",
   "execution_count": null,
   "id": "9bfb1d23",
   "metadata": {},
   "outputs": [],
   "source": []
  }
 ],
 "metadata": {
  "kernelspec": {
   "display_name": "Python 3",
   "language": "python",
   "name": "python3"
  },
  "language_info": {
   "codemirror_mode": {
    "name": "ipython",
    "version": 3
   },
   "file_extension": ".py",
   "mimetype": "text/x-python",
   "name": "python",
   "nbconvert_exporter": "python",
   "pygments_lexer": "ipython3",
   "version": "3.8.10"
  }
 },
 "nbformat": 4,
 "nbformat_minor": 5
}
