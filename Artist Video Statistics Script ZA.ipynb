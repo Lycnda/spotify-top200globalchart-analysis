{
 "cells": [
  {
   "cell_type": "code",
   "execution_count": 1,
   "id": "7840fe53",
   "metadata": {},
   "outputs": [
    {
     "name": "stdout",
     "output_type": "stream",
     "text": [
      "C:\\Users\\User\\Documents\\Spotify Analysis Repos\\top200globalchart\\spotify-top200globalchart-analysis\n"
     ]
    }
   ],
   "source": [
    "%cd C:\\Users\\User\\Documents\\Spotify Analysis Repos\\top200globalchart\\spotify-top200globalchart-analysis"
   ]
  },
  {
   "cell_type": "code",
   "execution_count": 2,
   "id": "f7e3de37",
   "metadata": {},
   "outputs": [],
   "source": [
    "import pandas as pd\n",
    "import json\n",
    "import string"
   ]
  },
  {
   "cell_type": "code",
   "execution_count": 3,
   "id": "e71547af",
   "metadata": {},
   "outputs": [],
   "source": [
    "all_files_za = pd.read_csv(\"Classification/all_files_ZAv1.csv\")"
   ]
  },
  {
   "cell_type": "code",
   "execution_count": 4,
   "id": "b8121e6d",
   "metadata": {},
   "outputs": [],
   "source": [
    "trackappearancecountdf = all_files_za[all_files_za[\"artistAppearanceCount\"] == 0]"
   ]
  },
  {
   "cell_type": "code",
   "execution_count": 5,
   "id": "e28f20a9",
   "metadata": {},
   "outputs": [],
   "source": [
    "trackappearancecountdf.to_csv(\"Classification/firstappearanceartistsza.csv\", index=False)"
   ]
  },
  {
   "cell_type": "code",
   "execution_count": 6,
   "id": "00f40e64",
   "metadata": {},
   "outputs": [
    {
     "data": {
      "text/plain": [
       "['trackAppearanceCount',\n",
       " 'artistAppearanceCount',\n",
       " 'rank',\n",
       " 'uri',\n",
       " 'artist_names',\n",
       " 'track_name',\n",
       " 'source',\n",
       " 'peak_rank',\n",
       " 'previous_rank',\n",
       " 'weeks_on_chart',\n",
       " 'streams',\n",
       " 'End Date',\n",
       " 'Week',\n",
       " 'Year',\n",
       " 'End Date Dt',\n",
       " 'Seconds since Epoch',\n",
       " 'End Date Aggregated',\n",
       " 'ArtistCount',\n",
       " 'main_artist',\n",
       " 'isTopTen',\n",
       " 'Artist and Track',\n",
       " 'rank difference',\n",
       " 'Position over Time']"
      ]
     },
     "execution_count": 6,
     "metadata": {},
     "output_type": "execute_result"
    }
   ],
   "source": [
    "list(trackappearancecountdf.columns)"
   ]
  },
  {
   "cell_type": "code",
   "execution_count": 7,
   "id": "53b9c070",
   "metadata": {},
   "outputs": [],
   "source": [
    "relavantfirsttimers = trackappearancecountdf[[\"main_artist\", \"track_name\", 'trackAppearanceCount', 'artistAppearanceCount','End Date', \"Year\",'streams']]"
   ]
  },
  {
   "cell_type": "code",
   "execution_count": 8,
   "id": "2d71a385",
   "metadata": {},
   "outputs": [],
   "source": [
    "relavantfirsttimerssorted = relavantfirsttimers.sort_values(by=['End Date'],ascending=False)"
   ]
  },
  {
   "cell_type": "code",
   "execution_count": 9,
   "id": "b7df5298",
   "metadata": {},
   "outputs": [],
   "source": [
    "# relavantfirsttimerssorted.head(50)"
   ]
  },
  {
   "cell_type": "code",
   "execution_count": 10,
   "id": "5e11c101",
   "metadata": {},
   "outputs": [],
   "source": [
    "racing_bar_df = relavantfirsttimerssorted[['End Date', \"main_artist\", 'Year', 'streams']]\n",
    "racing_bar_df.columns = ['date', \"name\", 'category', 'value']"
   ]
  },
  {
   "cell_type": "code",
   "execution_count": 11,
   "id": "220bba87",
   "metadata": {},
   "outputs": [
    {
     "data": {
      "text/html": [
       "<div>\n",
       "<style scoped>\n",
       "    .dataframe tbody tr th:only-of-type {\n",
       "        vertical-align: middle;\n",
       "    }\n",
       "\n",
       "    .dataframe tbody tr th {\n",
       "        vertical-align: top;\n",
       "    }\n",
       "\n",
       "    .dataframe thead th {\n",
       "        text-align: right;\n",
       "    }\n",
       "</style>\n",
       "<table border=\"1\" class=\"dataframe\">\n",
       "  <thead>\n",
       "    <tr style=\"text-align: right;\">\n",
       "      <th></th>\n",
       "      <th>date</th>\n",
       "      <th>name</th>\n",
       "      <th>category</th>\n",
       "      <th>value</th>\n",
       "    </tr>\n",
       "  </thead>\n",
       "  <tbody>\n",
       "    <tr>\n",
       "      <th>19941</th>\n",
       "      <td>2024-01-18</td>\n",
       "      <td>Fridayy</td>\n",
       "      <td>2024</td>\n",
       "      <td>59299</td>\n",
       "    </tr>\n",
       "    <tr>\n",
       "      <th>4177</th>\n",
       "      <td>2024-01-18</td>\n",
       "      <td>Bandros</td>\n",
       "      <td>2024</td>\n",
       "      <td>58334</td>\n",
       "    </tr>\n",
       "    <tr>\n",
       "      <th>40665</th>\n",
       "      <td>2024-01-18</td>\n",
       "      <td>Mshinwemali</td>\n",
       "      <td>2024</td>\n",
       "      <td>67430</td>\n",
       "    </tr>\n",
       "    <tr>\n",
       "      <th>19583</th>\n",
       "      <td>2024-01-11</td>\n",
       "      <td>Flo Milli</td>\n",
       "      <td>2024</td>\n",
       "      <td>68169</td>\n",
       "    </tr>\n",
       "    <tr>\n",
       "      <th>53329</th>\n",
       "      <td>2024-01-11</td>\n",
       "      <td>Teddy Swims</td>\n",
       "      <td>2024</td>\n",
       "      <td>66905</td>\n",
       "    </tr>\n",
       "    <tr>\n",
       "      <th>...</th>\n",
       "      <td>...</td>\n",
       "      <td>...</td>\n",
       "      <td>...</td>\n",
       "      <td>...</td>\n",
       "    </tr>\n",
       "    <tr>\n",
       "      <th>20218</th>\n",
       "      <td>2018-03-15</td>\n",
       "      <td>G-Eazy</td>\n",
       "      <td>2018</td>\n",
       "      <td>1588</td>\n",
       "    </tr>\n",
       "    <tr>\n",
       "      <th>41289</th>\n",
       "      <td>2018-03-15</td>\n",
       "      <td>NF</td>\n",
       "      <td>2018</td>\n",
       "      <td>3161</td>\n",
       "    </tr>\n",
       "    <tr>\n",
       "      <th>53854</th>\n",
       "      <td>2018-03-15</td>\n",
       "      <td>The Chainsmokers</td>\n",
       "      <td>2018</td>\n",
       "      <td>2067</td>\n",
       "    </tr>\n",
       "    <tr>\n",
       "      <th>37549</th>\n",
       "      <td>2018-03-15</td>\n",
       "      <td>Maroon 5</td>\n",
       "      <td>2018</td>\n",
       "      <td>1800</td>\n",
       "    </tr>\n",
       "    <tr>\n",
       "      <th>42526</th>\n",
       "      <td>2018-03-15</td>\n",
       "      <td>Offset</td>\n",
       "      <td>2018</td>\n",
       "      <td>2022</td>\n",
       "    </tr>\n",
       "  </tbody>\n",
       "</table>\n",
       "<p>1090 rows × 4 columns</p>\n",
       "</div>"
      ],
      "text/plain": [
       "             date              name  category  value\n",
       "19941  2024-01-18           Fridayy      2024  59299\n",
       "4177   2024-01-18           Bandros      2024  58334\n",
       "40665  2024-01-18       Mshinwemali      2024  67430\n",
       "19583  2024-01-11         Flo Milli      2024  68169\n",
       "53329  2024-01-11       Teddy Swims      2024  66905\n",
       "...           ...               ...       ...    ...\n",
       "20218  2018-03-15            G-Eazy      2018   1588\n",
       "41289  2018-03-15                NF      2018   3161\n",
       "53854  2018-03-15  The Chainsmokers      2018   2067\n",
       "37549  2018-03-15          Maroon 5      2018   1800\n",
       "42526  2018-03-15            Offset      2018   2022\n",
       "\n",
       "[1090 rows x 4 columns]"
      ]
     },
     "execution_count": 11,
     "metadata": {},
     "output_type": "execute_result"
    }
   ],
   "source": [
    "racing_bar_df"
   ]
  },
  {
   "cell_type": "code",
   "execution_count": null,
   "id": "3d34fc36",
   "metadata": {},
   "outputs": [],
   "source": []
  },
  {
   "cell_type": "code",
   "execution_count": null,
   "id": "baa897d0",
   "metadata": {},
   "outputs": [],
   "source": []
  },
  {
   "cell_type": "code",
   "execution_count": 12,
   "id": "14f6c31d",
   "metadata": {},
   "outputs": [],
   "source": [
    "def getanartistsjson(all_files_za, artist_name):\n",
    "\n",
    "    artist_df = all_files_za[all_files_za[\"main_artist\"] == artist_name]\n",
    "    \n",
    "    num_of_streams = artist_df['streams'].sum()\n",
    "    min_date = artist_df['End Date'].min()\n",
    "    max_date = artist_df['End Date'].max()\n",
    "\n",
    "    unique_songs = artist_df['track_name'].unique().tolist()\n",
    "    num_unique_songs = len(unique_songs)\n",
    "    \n",
    "    source_end_date = artist_df[['End Date', \"source\"]].drop_duplicates()\n",
    "    source_end_date_latest = pd.DataFrame(source_end_date.groupby(\"source\")[\"End Date\"].max())\n",
    "    source_end_date_latest = source_end_date_latest.reset_index()\n",
    "    \n",
    "    rank_max_end_date = artist_df[['End Date', 'track_name', \"rank\"]].drop_duplicates()\n",
    "\n",
    "    min_rank = rank_max_end_date[\"rank\"].min()\n",
    "    max_rank = rank_max_end_date[\"rank\"].max()\n",
    "\n",
    "    min_rank_song_dt = rank_max_end_date[rank_max_end_date[\"rank\"] == min_rank]\n",
    "    max_rank_song_dt = rank_max_end_date[rank_max_end_date[\"rank\"] == max_rank]\n",
    "\n",
    "    min_rank_song_unique_dt = min_rank_song_dt[[\"End Date\", \"track_name\"]].drop_duplicates()\n",
    "    max_rank_song_unique_dt = max_rank_song_dt[[\"End Date\", \"track_name\"]].drop_duplicates()\n",
    "\n",
    "    source_end_date_latest_ls = source_end_date_latest.values.tolist()\n",
    "\n",
    "    min_rank_song_unique_dt_ls = min_rank_song_unique_dt.values.tolist()\n",
    "    max_rank_song_unique_dt_ls = max_rank_song_unique_dt.values.tolist()\n",
    "    \n",
    "    artist_inner_json = {}\n",
    "    \n",
    "    artist_inner_json[\"num_of_streams\"] = str(num_of_streams)\n",
    "    artist_inner_json[\"min_rank\"] = str(min_rank)\n",
    "    artist_inner_json[\"max_rank\"] = str(max_rank)\n",
    "    artist_inner_json[\"min_date\"] = min_date\n",
    "    artist_inner_json[\"max_date\"] = max_date\n",
    "    artist_inner_json[\"num_unique_songs\"] = str(num_unique_songs)\n",
    "\n",
    "    artist_inner_json[\"unique_songs\"] = unique_songs\n",
    "\n",
    "    artist_inner_json[\"source_end_date_latest_ls\"] = dict(source_end_date_latest_ls)\n",
    "    artist_inner_json[\"min_rank_song_unique_dt_ls\"] = dict(min_rank_song_unique_dt_ls)\n",
    "    artist_inner_json[\"max_rank_song_unique_dt_ls\"] = dict(max_rank_song_unique_dt_ls)\n",
    "    \n",
    "    artist_json = {}\n",
    "    artist_json[artist_name] = artist_inner_json\n",
    "    \n",
    "    return artist_json"
   ]
  },
  {
   "cell_type": "code",
   "execution_count": 13,
   "id": "1d54a0a8",
   "metadata": {},
   "outputs": [],
   "source": [
    "unique_artists = all_files_za[\"main_artist\"].unique().tolist()\n",
    "all_artists_jsons = {}\n",
    "    \n",
    "for artist_name in unique_artists:  \n",
    "    artist_json = getanartistsjson(all_files_za, artist_name)\n",
    "    \n",
    "    all_artists_jsons[artist_name] = artist_json\n",
    "    # Serializing json\n",
    "    json_object = json.dumps(artist_json, indent=4)\n",
    "    \n",
    "    new_artist_name = artist_name.translate(str.maketrans('', '', string.punctuation))\n",
    "\n",
    "#     Writing to sample.json\n",
    "#     with open(\"za_artists/\" + new_artist_name +\".json\", \"w\") as outfile:\n",
    "#         outfile.write(json_object)"
   ]
  },
  {
   "cell_type": "markdown",
   "id": "b21b61a2",
   "metadata": {},
   "source": [
    "### MAKE A SCRIPT for the voice over"
   ]
  },
  {
   "cell_type": "code",
   "execution_count": 14,
   "id": "4c469086",
   "metadata": {},
   "outputs": [],
   "source": [
    "max_date = all_files_za[\"End Date\"].max()"
   ]
  },
  {
   "cell_type": "code",
   "execution_count": 15,
   "id": "93ab3542",
   "metadata": {},
   "outputs": [
    {
     "data": {
      "text/plain": [
       "'2024-01-18'"
      ]
     },
     "execution_count": 15,
     "metadata": {},
     "output_type": "execute_result"
    }
   ],
   "source": [
    "max_date"
   ]
  },
  {
   "cell_type": "code",
   "execution_count": 16,
   "id": "4449eaf6",
   "metadata": {},
   "outputs": [],
   "source": [
    "all_files_za_max_date = all_files_za[all_files_za[\"End Date\"] == max_date]"
   ]
  },
  {
   "cell_type": "code",
   "execution_count": 17,
   "id": "939fd7d1",
   "metadata": {},
   "outputs": [],
   "source": [
    "unique_artists_latest = all_files_za_max_date[\"main_artist\"].unique().tolist()"
   ]
  },
  {
   "cell_type": "code",
   "execution_count": 18,
   "id": "d53de810",
   "metadata": {},
   "outputs": [],
   "source": [
    "# unique_artists_latest"
   ]
  },
  {
   "cell_type": "code",
   "execution_count": 19,
   "id": "d95be039",
   "metadata": {},
   "outputs": [],
   "source": [
    "artists_of_interest = ['Kabza De Small', 'Blxckie', 'Busta 929', 'Mellow & Sleazy', 'Senior Oat', 'Wanitwa Mos', 'Mr JazziQ', 'Musa Keys', \"Mas Musiq\", \"Deep London\"]"
   ]
  },
  {
   "cell_type": "code",
   "execution_count": 20,
   "id": "f2a494db",
   "metadata": {},
   "outputs": [],
   "source": [
    "# artists_of_interest = ['Blxckie']"
   ]
  },
  {
   "cell_type": "code",
   "execution_count": 21,
   "id": "2897cb50",
   "metadata": {},
   "outputs": [],
   "source": [
    "# artists_of_interest = [\"Mas Musiq\", \"Deep London\"]"
   ]
  },
  {
   "cell_type": "code",
   "execution_count": 22,
   "id": "7cdb9b6b",
   "metadata": {},
   "outputs": [
    {
     "name": "stdout",
     "output_type": "stream",
     "text": [
      "za_artists/Kabza De Smallscript.json\n",
      "za_artists/Blxckiescript.json\n",
      "za_artists/Busta 929script.json\n",
      "za_artists/Mellow  Sleazyscript.json\n",
      "za_artists/Senior Oatscript.json\n",
      "za_artists/Wanitwa Mosscript.json\n",
      "za_artists/Mr JazziQscript.json\n",
      "za_artists/Musa Keysscript.json\n",
      "za_artists/Mas Musiqscript.json\n",
      "za_artists/Deep Londonscript.json\n"
     ]
    }
   ],
   "source": [
    "for anartist in artists_of_interest:\n",
    "    voiceover_str = \"\"\n",
    "    jsonartist = all_artists_jsons[anartist]\n",
    "    \n",
    "    thename = \"Let us take a look at \" + anartist + \"'s journey on the Spotify Top 200 Weekly South Africa chart. \\n \"\n",
    "    songs_streams = \"He has had a total of \" + jsonartist[anartist][\"num_unique_songs\"] + \" songs with approximately \" + jsonartist[anartist][\"num_of_streams\"] + \" million streams. \\n\"\n",
    "    \n",
    "    record_labels = \"\"\n",
    "    if(len(jsonartist[anartist][\"source_end_date_latest_ls\"].values()) == 1):\n",
    "        record_labels = \"As of \" + max_date + \" , he is with \" + list(jsonartist[anartist][\"source_end_date_latest_ls\"].keys())[0]\n",
    "    else:\n",
    "        \n",
    "        record_labels = \"As of \" + max_date + \", he has released music with \" + ' .... '.join(list(jsonartist[anartist][\"source_end_date_latest_ls\"].keys()))\n",
    "        \n",
    "    appearance_date = \"He first appeared on the chart on \" + jsonartist[anartist][\"min_date\"] + \".\" + \" His most recent appearance has been on \" + jsonartist[anartist][\"max_date\"]\n",
    "    \n",
    "    min_rank_songs = list(set(list(jsonartist[anartist][\"min_rank_song_unique_dt_ls\"].values())))\n",
    "    min_rank_songs_not_unique = (list(jsonartist[anartist][\"min_rank_song_unique_dt_ls\"].values()))\n",
    "    \n",
    "    max_rank_songs = list(set(list(jsonartist[anartist][\"max_rank_song_unique_dt_ls\"].values())))\n",
    "    max_rank_songs_not_unique = list(jsonartist[anartist][\"max_rank_song_unique_dt_ls\"].values())\n",
    "    \n",
    "    min_rank_songs_dts_not_unique = list(jsonartist[anartist][\"min_rank_song_unique_dt_ls\"].keys())\n",
    "    max_rank_songs_dts_not_unique = list(jsonartist[anartist][\"max_rank_song_unique_dt_ls\"].keys())\n",
    "    \n",
    "    positions_on_chart = \"His highest position on the chart is \" + jsonartist[anartist][\"min_rank\"] + \" for the song \"\n",
    "    if(len(min_rank_songs) == 1):\n",
    "        positions_on_chart +=  min_rank_songs[0] + \" which was at this position on \" + min_rank_songs_dts_not_unique[0]\n",
    "    else:\n",
    "        for the_dt in min_rank_songs_dts_not_unique:\n",
    "            positions_on_chart += jsonartist[anartist][\"min_rank_song_unique_dt_ls\"][the_dt] + \" which was at this position on \" + the_dt + \" \"\n",
    "    \n",
    "    positions_on_chart_lowest = \"His lowest position on the chart is \" + jsonartist[anartist][\"max_rank\"] + \" for the song \"\n",
    "    if(len(max_rank_songs) == 1):\n",
    "        positions_on_chart_lowest +=  max_rank_songs[0] + \" which was at this position on \" + max_rank_songs_dts_not_unique[0]\n",
    "    else:\n",
    "        for the_dt in max_rank_songs_dts_not_unique:\n",
    "            positions_on_chart_lowest += jsonartist[anartist][\"max_rank_song_unique_dt_ls\"][the_dt] + \" which was at this position on \" + the_dt + \" \"\n",
    "            \n",
    "    songs_on_chart = \"The songs of his that have appeared on the chart are \" + \" ... \".join(jsonartist[anartist][\"unique_songs\"])\n",
    "    \n",
    "    voiceover_str = thename + songs_streams + record_labels + \"\\n\"+ appearance_date + \"\\n\" + positions_on_chart + \"\\n\" + positions_on_chart_lowest + \"\\n\" + songs_on_chart\n",
    "    \n",
    "    voiceover_str_json = {}\n",
    "    voiceover_str_json[anartist] = voiceover_str\n",
    "    # Serializing json\n",
    "    json_object = json.dumps(voiceover_str_json, indent=4)\n",
    "    \n",
    "    new_artist_name = anartist.translate(str.maketrans('', '', string.punctuation))\n",
    "\n",
    "#     Writing to sample.json\n",
    "    print(\"za_artists/\" + new_artist_name +\"script.json\")\n",
    "    with open(\"za_artists/\" + new_artist_name +\"script.json\", \"w\") as outfile:\n",
    "        outfile.write(json_object)"
   ]
  },
  {
   "cell_type": "code",
   "execution_count": 23,
   "id": "2117421d",
   "metadata": {},
   "outputs": [],
   "source": [
    "# Blxckie's journey on the Spotify Top 200 South Africa chart.\n",
    "\n",
    "# He has had a total of 21 songs with approximately 4 million streams. \n",
    "\n",
    "# As of 04 August 2022, he is with M4 Entertainment.\n",
    "\n",
    "# He first appeared on the chart on 20 May 2021. His most recent appearance has been on 04 August 2022.\n",
    "\n",
    "# His highest position on the chart is 3, for the song sneaky, which was at this position on 28 July 2022. \n",
    "\n",
    "# His lowest position was 199 with umoya on 9 June 2022. \n",
    "\n",
    "# The songs of his that have appeared on the chart are "
   ]
  }
 ],
 "metadata": {
  "kernelspec": {
   "display_name": "Python 3 (ipykernel)",
   "language": "python",
   "name": "python3"
  },
  "language_info": {
   "codemirror_mode": {
    "name": "ipython",
    "version": 3
   },
   "file_extension": ".py",
   "mimetype": "text/x-python",
   "name": "python",
   "nbconvert_exporter": "python",
   "pygments_lexer": "ipython3",
   "version": "3.9.13"
  }
 },
 "nbformat": 4,
 "nbformat_minor": 5
}
