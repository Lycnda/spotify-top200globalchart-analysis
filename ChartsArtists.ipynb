{
 "cells": [
  {
   "cell_type": "code",
   "execution_count": 1,
   "id": "2b9ad28b",
   "metadata": {},
   "outputs": [],
   "source": [
    "import pandas as pd\n",
    "\n",
    "import glob2\n",
    "import matplotlib.pyplot as plt\n",
    "import datetime\n",
    "import re\n",
    "from datetime import datetime, timedelta\n",
    "import itertools\n",
    "%matplotlib inline"
   ]
  },
  {
   "cell_type": "code",
   "execution_count": 2,
   "id": "b02edf73",
   "metadata": {},
   "outputs": [],
   "source": [
    "locale_name = \"global\"\n",
    "read_enc_val =\"ISO-8859-1\"\n",
    "read_enc_val =\"cp1252\"\n",
    "read_enc_val =\"utf-8\""
   ]
  },
  {
   "cell_type": "code",
   "execution_count": 3,
   "id": "00c53b12",
   "metadata": {},
   "outputs": [],
   "source": [
    "zafilesog = pd.read_csv(\"Classification/all_files_ZAv1.csv\")"
   ]
  },
  {
   "cell_type": "code",
   "execution_count": 4,
   "id": "6dfaf31b",
   "metadata": {},
   "outputs": [],
   "source": [
    "skrfilesog = pd.read_csv(\"Classification/all_files_SKRv1.csv\")"
   ]
  },
  {
   "cell_type": "code",
   "execution_count": 5,
   "id": "c0682d3a",
   "metadata": {},
   "outputs": [],
   "source": [
    "globalfilesog = pd.read_csv(\"Classification/all_files_\"+locale_name+\"v1.csv\")"
   ]
  },
  {
   "cell_type": "code",
   "execution_count": 6,
   "id": "af9f6538",
   "metadata": {},
   "outputs": [],
   "source": [
    "# zafilesog.columns"
   ]
  },
  {
   "cell_type": "code",
   "execution_count": 7,
   "id": "37484da9",
   "metadata": {},
   "outputs": [],
   "source": [
    "zafiles=zafilesog[['main_artist']]\n",
    "skrfiles=skrfilesog[['main_artist']]\n",
    "globalfiles=globalfilesog[['main_artist']]\n",
    "\n",
    "zafiles = zafiles.drop_duplicates()\n",
    "skrfiles = skrfiles.drop_duplicates()\n",
    "globalfiles = globalfiles.drop_duplicates()"
   ]
  },
  {
   "cell_type": "code",
   "execution_count": 8,
   "id": "44105c94",
   "metadata": {},
   "outputs": [],
   "source": [
    "skrandza = zafiles.merge(skrfiles, left_on=[\"main_artist\"], right_on=[\"main_artist\"], how=\"inner\")\n",
    "skrandglobal = skrfiles.merge(globalfiles, left_on=[\"main_artist\"], right_on=[\"main_artist\"], how=\"inner\")\n",
    "\n",
    "mixedallthree = skrandza.merge(skrandglobal, left_on=[\"main_artist\"], right_on=[\"main_artist\"], how=\"inner\")"
   ]
  },
  {
   "cell_type": "code",
   "execution_count": 9,
   "id": "2eda3aae",
   "metadata": {},
   "outputs": [
    {
     "data": {
      "text/plain": [
       "((1156, 1), (697, 1), (1320, 1), (272, 1), (332, 1), (271, 1))"
      ]
     },
     "execution_count": 9,
     "metadata": {},
     "output_type": "execute_result"
    }
   ],
   "source": [
    "zafiles.shape, skrfiles.shape, globalfiles.shape, skrandza.shape, skrandglobal.shape, mixedallthree.shape"
   ]
  },
  {
   "cell_type": "code",
   "execution_count": 10,
   "id": "186d53c5",
   "metadata": {},
   "outputs": [],
   "source": [
    "zacommon = zafilesog.merge(mixedallthree, left_on=[\"main_artist\"], right_on=[\"main_artist\"], how=\"inner\")\n",
    "skrcommon = skrfilesog.merge(mixedallthree, left_on=[\"main_artist\"], right_on=[\"main_artist\"], how=\"inner\")\n",
    "globalcommon = globalfilesog.merge(mixedallthree, left_on=[\"main_artist\"], right_on=[\"main_artist\"], how=\"inner\")"
   ]
  },
  {
   "cell_type": "code",
   "execution_count": 11,
   "id": "407ef43b",
   "metadata": {},
   "outputs": [
    {
     "data": {
      "text/plain": [
       "(9, 3, 9, 3, 9, 3)"
      ]
     },
     "execution_count": 11,
     "metadata": {},
     "output_type": "execute_result"
    }
   ],
   "source": [
    "zacommonboygroups = zacommon[zacommon[\"IsBoyGroup\"]==True][\"main_artist\"].unique().tolist()\n",
    "zacommongirlgroups = zacommon[zacommon[\"IsGirlGroup\"]==True][\"main_artist\"].unique().tolist()\n",
    "\n",
    "skrcommonboygroups = skrcommon[skrcommon[\"IsBoyGroup\"]==True][\"main_artist\"].unique().tolist()\n",
    "skrcommongirlgroups = skrcommon[skrcommon[\"IsGirlGroup\"]==True][\"main_artist\"].unique().tolist()\n",
    "\n",
    "globalcommonboygroups = globalcommon[globalcommon[\"IsBoyGroup\"]==True][\"main_artist\"].unique().tolist()\n",
    "globalcommongirlgroups = globalcommon[globalcommon[\"IsGirlGroup\"]==True][\"main_artist\"].unique().tolist()\n",
    "\n",
    "len(zacommonboygroups), len(zacommongirlgroups), len(skrcommonboygroups), len(skrcommongirlgroups), len(globalcommonboygroups), len(globalcommongirlgroups)"
   ]
  },
  {
   "cell_type": "code",
   "execution_count": 12,
   "id": "03fe5008",
   "metadata": {},
   "outputs": [
    {
     "data": {
      "text/plain": [
       "['BLACKPINK', 'FIFTY FIFTY', 'The Ronettes']"
      ]
     },
     "execution_count": 12,
     "metadata": {},
     "output_type": "execute_result"
    }
   ],
   "source": [
    "zacommongirlgroups"
   ]
  },
  {
   "cell_type": "code",
   "execution_count": 13,
   "id": "40fcbbf0",
   "metadata": {},
   "outputs": [
    {
     "data": {
      "text/plain": [
       "['5 Seconds of Summer',\n",
       " 'AJR',\n",
       " 'BTS',\n",
       " 'Jonas Brothers',\n",
       " 'Maroon 5',\n",
       " 'OneRepublic',\n",
       " 'Stray Kids',\n",
       " 'The 1975',\n",
       " 'V']"
      ]
     },
     "execution_count": 13,
     "metadata": {},
     "output_type": "execute_result"
    }
   ],
   "source": [
    "zacommonboygroups"
   ]
  },
  {
   "cell_type": "code",
   "execution_count": 14,
   "id": "cec56ed8",
   "metadata": {},
   "outputs": [],
   "source": [
    "mixedallthree.to_csv(\"Classification/mixedallthreecommon.csv\", index=False)"
   ]
  },
  {
   "cell_type": "markdown",
   "id": "c2522f68",
   "metadata": {},
   "source": [
    "#### on the South African chart"
   ]
  },
  {
   "cell_type": "code",
   "execution_count": 15,
   "id": "67dec57b",
   "metadata": {},
   "outputs": [],
   "source": [
    "zacommonthree = mixedallthree.merge(zafilesog, left_on=[\"main_artist\"], right_on=[\"main_artist\"], how=\"inner\")"
   ]
  },
  {
   "cell_type": "code",
   "execution_count": 16,
   "id": "49844163",
   "metadata": {},
   "outputs": [
    {
     "data": {
      "text/plain": [
       "Index(['main_artist', 'trackAppearanceCount', 'artistAppearanceCount', 'rank',\n",
       "       'uri', 'artist_names', 'track_name', 'source', 'peak_rank',\n",
       "       'previous_rank', 'weeks_on_chart', 'streams', 'End Date', 'Week',\n",
       "       'Year', 'End Date Dt', 'Seconds since Epoch', 'End Date Aggregated',\n",
       "       'ArtistCount', 'isTopTen', 'Artist and Track', 'rank difference',\n",
       "       'Position over Time', 'IsGirlGroup', 'IsBoyGroup'],\n",
       "      dtype='object')"
      ]
     },
     "execution_count": 16,
     "metadata": {},
     "output_type": "execute_result"
    }
   ],
   "source": [
    "zacommonthree.columns"
   ]
  },
  {
   "cell_type": "code",
   "execution_count": 17,
   "id": "9efd4089",
   "metadata": {},
   "outputs": [],
   "source": [
    "aggregates = zacommonthree.groupby([\"main_artist\", 'track_name']).agg(['min', 'max', 'count', 'nunique'])"
   ]
  },
  {
   "cell_type": "code",
   "execution_count": 18,
   "id": "c300dfea",
   "metadata": {},
   "outputs": [],
   "source": [
    "aggregates.to_csv(\"Classification/zaaggregatesmixedallthreecommon.csv\")"
   ]
  },
  {
   "cell_type": "code",
   "execution_count": 19,
   "id": "3e619bbe",
   "metadata": {},
   "outputs": [],
   "source": [
    "def summarisematchesinthree(zacommonthree, country):\n",
    "\n",
    "    allmainartists = zacommonthree[\"main_artist\"].unique().tolist()\n",
    "\n",
    "    all_artist_dicts = []\n",
    "\n",
    "    for artist in allmainartists:\n",
    "        artist_dict = {}\n",
    "        chartname = country\n",
    "        artist_dict[\"main_artist\"] = artist\n",
    "        artist_dict[\"chart_country\"] = chartname\n",
    "\n",
    "        # Number of songs\n",
    "        numsongs = len(zacommonthree[zacommonthree[\"main_artist\"]==artist][\"track_name\"].unique().tolist())\n",
    "        artist_dict[\"main_artist\"] = artist\n",
    "        artist_dict[\"num_songs_artist\"] = numsongs\n",
    "\n",
    "        # peak rank\n",
    "        peakrank = zacommonthree[zacommonthree[\"main_artist\"]==artist][\"peak_rank\"].min()\n",
    "        artist_dict[\"peak_rank\"] = peakrank\n",
    "\n",
    "        # make the date time a datetime\n",
    "        earlistenddate = zacommonthree[zacommonthree[\"main_artist\"]==artist][\"End Date\"].min()\n",
    "        artist_dict[\"Earliest End Date\"] = earlistenddate\n",
    "        latestenddate = zacommonthree[zacommonthree[\"main_artist\"]==artist][\"End Date\"].max()\n",
    "        artist_dict[\"Max End Date\"] = latestenddate\n",
    "\n",
    "        # TOTAL STREAMS\n",
    "        totalstreams = zacommonthree[zacommonthree[\"main_artist\"]==artist][\"streams\"].sum()\n",
    "        artist_dict[\"total_streams\"] = totalstreams\n",
    "\n",
    "        # NUMBER YEARS APPEARANCE\n",
    "        numyearsappearance = len(zacommonthree[zacommonthree[\"main_artist\"]==artist][\"Year\"].unique().tolist())\n",
    "        artist_dict[\"#_years_appeared\"] = numyearsappearance\n",
    "\n",
    "        # IS BOY GROUP \n",
    "        isbg = zacommonthree[zacommonthree[\"main_artist\"]==artist][\"IsBoyGroup\"].unique().tolist()[0]\n",
    "        artist_dict[\"IsBoyGroup\"] = isbg\n",
    "\n",
    "        # IS GIRL GROUP \n",
    "        isbg = zacommonthree[zacommonthree[\"main_artist\"]==artist][\"IsGirlGroup\"].unique().tolist()[0]\n",
    "        artist_dict[\"IsGirlGroup\"] = isbg\n",
    "\n",
    "        # NUMBER OF ARTIST APPEARANCES\n",
    "        artistdf = zacommonthree[zacommonthree[\"main_artist\"]==artist]\n",
    "        numberofartistappearances = artistdf.groupby([\"track_name\"])[\"artistAppearanceCount\"].max().reset_index()[\"artistAppearanceCount\"].max()\n",
    "        artist_dict[\"total_artistAppearanceCount\"] = numberofartistappearances\n",
    "\n",
    "        # Number of collaborators\n",
    "        mainartists = zacommonthree[zacommonthree[\"main_artist\"]==artist][\"artist_names\"].unique().tolist()\n",
    "        allcollaborators = []\n",
    "        for countartists in mainartists:\n",
    "            thelistsincommoncollabs = list(set(countartists.split(\", \")) - set([artist]))\n",
    "            allcollaborators.append(thelistsincommoncollabs)\n",
    "\n",
    "        mergedcollabs = list(itertools.chain(*allcollaborators))\n",
    "        nummergedcollabs = len(list(set(mergedcollabs)))\n",
    "        artist_dict[\"all_collaborators\"] = nummergedcollabs\n",
    "\n",
    "        all_artist_dicts.append(artist_dict)\n",
    "        \n",
    "    return all_artist_dicts"
   ]
  },
  {
   "cell_type": "code",
   "execution_count": 20,
   "id": "25823fe2",
   "metadata": {},
   "outputs": [],
   "source": [
    "all_artist_dicts = summarisematchesinthree(zacommonthree, \"ZA\")\n",
    "za_all_artist_combined_df = pd.DataFrame(all_artist_dicts)\n",
    "\n",
    "all_artist_dicts = summarisematchesinthree(globalcommon, \"Global\")\n",
    "global_all_artist_combined_df = pd.DataFrame(all_artist_dicts)\n",
    "\n",
    "\n",
    "all_artist_dicts = summarisematchesinthree(skrcommon, \"South Korea\")\n",
    "skr_all_artist_combined_df = pd.DataFrame(all_artist_dicts)"
   ]
  },
  {
   "cell_type": "code",
   "execution_count": 21,
   "id": "be9ac503",
   "metadata": {},
   "outputs": [],
   "source": [
    "za_all_artist_combined_df.to_csv(\"Classification/commonchartsaggregates/za_aggregatesmixedallthreecommon.csv\")"
   ]
  },
  {
   "cell_type": "code",
   "execution_count": 22,
   "id": "5b3e156e",
   "metadata": {},
   "outputs": [],
   "source": [
    "global_all_artist_combined_df.to_csv(\"Classification/commonchartsaggregates/global_aggregatesmixedallthreecommon.csv\")"
   ]
  },
  {
   "cell_type": "code",
   "execution_count": 23,
   "id": "248cc84e",
   "metadata": {},
   "outputs": [],
   "source": [
    "skr_all_artist_combined_df.to_csv(\"Classification/commonchartsaggregates/skr_aggregatesmixedallthreecommon.csv\")"
   ]
  },
  {
   "cell_type": "code",
   "execution_count": 24,
   "id": "e37777bb",
   "metadata": {},
   "outputs": [
    {
     "name": "stdout",
     "output_type": "stream",
     "text": [
      "done.\n"
     ]
    }
   ],
   "source": [
    "print(\"done.\")"
   ]
  },
  {
   "cell_type": "code",
   "execution_count": null,
   "id": "1bf401f3",
   "metadata": {},
   "outputs": [],
   "source": []
  }
 ],
 "metadata": {
  "kernelspec": {
   "display_name": "Python 3 (ipykernel)",
   "language": "python",
   "name": "python3"
  },
  "language_info": {
   "codemirror_mode": {
    "name": "ipython",
    "version": 3
   },
   "file_extension": ".py",
   "mimetype": "text/x-python",
   "name": "python",
   "nbconvert_exporter": "python",
   "pygments_lexer": "ipython3",
   "version": "3.9.13"
  }
 },
 "nbformat": 4,
 "nbformat_minor": 5
}
