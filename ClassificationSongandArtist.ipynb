{
 "cells": [
  {
   "cell_type": "markdown",
   "id": "d29e0f48",
   "metadata": {},
   "source": [
    "# Feature Engineering for Classification"
   ]
  },
  {
   "cell_type": "code",
   "execution_count": 1,
   "id": "99467b43",
   "metadata": {},
   "outputs": [],
   "source": [
    "import pandas as pd\n",
    "import matplotlib.pyplot as plt\n",
    "from sklearn.metrics import mean_squared_error, r2_score\n",
    "from sklearn.linear_model import LinearRegression\n",
    "import datetime\n",
    "import re\n",
    "from datetime import datetime, timedelta\n",
    "import matplotlib.pyplot as plt\n",
    "from sklearn.cluster import KMeans\n",
    "from sklearn import linear_model\n",
    "from sklearn.preprocessing import StandardScaler\n",
    "%matplotlib inline"
   ]
  },
  {
   "cell_type": "code",
   "execution_count": 2,
   "id": "31354213",
   "metadata": {},
   "outputs": [],
   "source": [
    "za_data = pd.read_csv(\"Classification/all_files_ZAv1.csv\")"
   ]
  },
  {
   "cell_type": "code",
   "execution_count": 3,
   "id": "b1295b4b",
   "metadata": {},
   "outputs": [
    {
     "data": {
      "text/plain": [
       "Index(['trackAppearanceCount', 'artistAppearanceCount', 'rank', 'uri',\n",
       "       'artist_names', 'track_name', 'source', 'peak_rank', 'previous_rank',\n",
       "       'weeks_on_chart', 'streams', 'End Date', 'Week', 'Year', 'End Date Dt',\n",
       "       'Seconds since Epoch', 'End Date Aggregated', 'ArtistCount',\n",
       "       'main_artist', 'isTopTen', 'Artist and Track', 'rank difference',\n",
       "       'Position over Time'],\n",
       "      dtype='object')"
      ]
     },
     "execution_count": 3,
     "metadata": {},
     "output_type": "execute_result"
    }
   ],
   "source": [
    "za_data.columns"
   ]
  },
  {
   "cell_type": "code",
   "execution_count": 4,
   "id": "0ee6f42e",
   "metadata": {},
   "outputs": [
    {
     "data": {
      "text/plain": [
       "23"
      ]
     },
     "execution_count": 4,
     "metadata": {},
     "output_type": "execute_result"
    }
   ],
   "source": [
    "len(list(za_data.columns))"
   ]
  },
  {
   "cell_type": "code",
   "execution_count": 5,
   "id": "537d20de",
   "metadata": {},
   "outputs": [],
   "source": [
    "za_data[\"End Date Dt\"] = za_data[\"End Date Dt\"].apply(lambda x : datetime.strptime(x, '%Y-%m-%d'))"
   ]
  },
  {
   "cell_type": "code",
   "execution_count": 6,
   "id": "14f21b1f",
   "metadata": {},
   "outputs": [
    {
     "data": {
      "text/plain": [
       "(47486, 23)"
      ]
     },
     "execution_count": 6,
     "metadata": {},
     "output_type": "execute_result"
    }
   ],
   "source": [
    "za_data.shape"
   ]
  },
  {
   "cell_type": "code",
   "execution_count": 7,
   "id": "c6b8b1fd",
   "metadata": {},
   "outputs": [],
   "source": [
    "za_data_test = za_data[za_data['End Date Dt'] > datetime(2022, 5, 26)]\n",
    "\n",
    "za_data_test_first_time = za_data_test[za_data_test[\"trackAppearanceCount\"] == 0]\n",
    "za_data_test_first_time_df = za_data_test_first_time[['main_artist', 'track_name', \"trackAppearanceCount\", \"artistAppearanceCount\", \"rank\", \"peak_rank\", 'previous_rank', 'weeks_on_chart', 'streams', 'ArtistCount', 'isTopTen', 'rank difference']]\n",
    "\n",
    "\n",
    "za_data_test = za_data_test[za_data_test[\"trackAppearanceCount\"] != 0]\n",
    "za_data = za_data[za_data['End Date Dt'] <= datetime(2022, 5, 26)]"
   ]
  },
  {
   "cell_type": "code",
   "execution_count": 8,
   "id": "ccd6cfe1",
   "metadata": {},
   "outputs": [],
   "source": [
    "za_data_df = za_data[['main_artist', 'track_name', \"trackAppearanceCount\", \"artistAppearanceCount\", \"rank\", \"peak_rank\", 'previous_rank', 'weeks_on_chart', 'streams', 'ArtistCount', 'isTopTen', 'rank difference']]\n",
    "za_data_test_df = za_data_test[['main_artist', 'track_name', \"trackAppearanceCount\", \"artistAppearanceCount\", \"rank\", \"peak_rank\", 'previous_rank', 'weeks_on_chart', 'streams', 'ArtistCount', 'isTopTen', 'rank difference']]"
   ]
  },
  {
   "cell_type": "code",
   "execution_count": 9,
   "id": "c0bd9ec0",
   "metadata": {},
   "outputs": [],
   "source": [
    "# za_data[\"End Date\"].unique().tolist()"
   ]
  },
  {
   "cell_type": "code",
   "execution_count": null,
   "id": "cad1d76b",
   "metadata": {},
   "outputs": [],
   "source": []
  },
  {
   "cell_type": "code",
   "execution_count": 10,
   "id": "a098d4cc",
   "metadata": {},
   "outputs": [],
   "source": [
    "groupby_cols = ['main_artist', 'track_name']"
   ]
  },
  {
   "cell_type": "code",
   "execution_count": 11,
   "id": "2676061d",
   "metadata": {},
   "outputs": [
    {
     "data": {
      "text/html": [
       "<div>\n",
       "<style scoped>\n",
       "    .dataframe tbody tr th:only-of-type {\n",
       "        vertical-align: middle;\n",
       "    }\n",
       "\n",
       "    .dataframe tbody tr th {\n",
       "        vertical-align: top;\n",
       "    }\n",
       "\n",
       "    .dataframe thead th {\n",
       "        text-align: right;\n",
       "    }\n",
       "</style>\n",
       "<table border=\"1\" class=\"dataframe\">\n",
       "  <thead>\n",
       "    <tr style=\"text-align: right;\">\n",
       "      <th></th>\n",
       "      <th>trackAppearanceCount</th>\n",
       "      <th>artistAppearanceCount</th>\n",
       "      <th>rank</th>\n",
       "      <th>uri</th>\n",
       "      <th>artist_names</th>\n",
       "      <th>track_name</th>\n",
       "      <th>source</th>\n",
       "      <th>peak_rank</th>\n",
       "      <th>previous_rank</th>\n",
       "      <th>weeks_on_chart</th>\n",
       "      <th>...</th>\n",
       "      <th>Year</th>\n",
       "      <th>End Date Dt</th>\n",
       "      <th>Seconds since Epoch</th>\n",
       "      <th>End Date Aggregated</th>\n",
       "      <th>ArtistCount</th>\n",
       "      <th>main_artist</th>\n",
       "      <th>isTopTen</th>\n",
       "      <th>Artist and Track</th>\n",
       "      <th>rank difference</th>\n",
       "      <th>Position over Time</th>\n",
       "    </tr>\n",
       "  </thead>\n",
       "  <tbody>\n",
       "    <tr>\n",
       "      <th>2</th>\n",
       "      <td>0</td>\n",
       "      <td>0</td>\n",
       "      <td>128</td>\n",
       "      <td>spotify:track:3KnHZwV1StOTvtHwpK2gK1</td>\n",
       "      <td>031CHOPPA, Madumane, Focalistic, Xduppy, Kingtone</td>\n",
       "      <td>Usenemali</td>\n",
       "      <td>031Choppa</td>\n",
       "      <td>128</td>\n",
       "      <td>-1</td>\n",
       "      <td>1</td>\n",
       "      <td>...</td>\n",
       "      <td>2022</td>\n",
       "      <td>2022-09-08</td>\n",
       "      <td>1.662595e+09</td>\n",
       "      <td>2022-09-01</td>\n",
       "      <td>1</td>\n",
       "      <td>031CHOPPA</td>\n",
       "      <td>0</td>\n",
       "      <td>031CHOPPA, Madumane, Focalistic, Xduppy, Kingt...</td>\n",
       "      <td>0</td>\n",
       "      <td>0</td>\n",
       "    </tr>\n",
       "    <tr>\n",
       "      <th>3</th>\n",
       "      <td>0</td>\n",
       "      <td>0</td>\n",
       "      <td>168</td>\n",
       "      <td>spotify:track:4yaPPFIafaVaMRHZ5IHkbA</td>\n",
       "      <td>1da Banton, Kizz Daniel, Tiwa Savage</td>\n",
       "      <td>No Wahala - Remix</td>\n",
       "      <td>Squareball Ent. Limited</td>\n",
       "      <td>38</td>\n",
       "      <td>170</td>\n",
       "      <td>30</td>\n",
       "      <td>...</td>\n",
       "      <td>2022</td>\n",
       "      <td>2022-09-29</td>\n",
       "      <td>1.664410e+09</td>\n",
       "      <td>2022-09-01</td>\n",
       "      <td>1</td>\n",
       "      <td>1da Banton</td>\n",
       "      <td>0</td>\n",
       "      <td>1da Banton, Kizz Daniel, Tiwa Savage; No Wahal...</td>\n",
       "      <td>0</td>\n",
       "      <td>0</td>\n",
       "    </tr>\n",
       "    <tr>\n",
       "      <th>862</th>\n",
       "      <td>0</td>\n",
       "      <td>57</td>\n",
       "      <td>66</td>\n",
       "      <td>spotify:track:0OHBji0Hz8o7W1TPYtk31j</td>\n",
       "      <td>A-Reece, Marcus Harvey</td>\n",
       "      <td>DREAMS</td>\n",
       "      <td>REVENGE CLUB RECORDS</td>\n",
       "      <td>66</td>\n",
       "      <td>-1</td>\n",
       "      <td>1</td>\n",
       "      <td>...</td>\n",
       "      <td>2022</td>\n",
       "      <td>2022-09-22</td>\n",
       "      <td>1.663805e+09</td>\n",
       "      <td>2022-09-01</td>\n",
       "      <td>1</td>\n",
       "      <td>A-Reece</td>\n",
       "      <td>0</td>\n",
       "      <td>A-Reece, Marcus Harvey; DREAMS</td>\n",
       "      <td>0</td>\n",
       "      <td>0</td>\n",
       "    </tr>\n",
       "    <tr>\n",
       "      <th>1010</th>\n",
       "      <td>0</td>\n",
       "      <td>78</td>\n",
       "      <td>2</td>\n",
       "      <td>spotify:track:6PqdJb18ssWDcROvnsEqy6</td>\n",
       "      <td>AKA, Nasty C</td>\n",
       "      <td>Lemons (Lemonade)</td>\n",
       "      <td>Sound African Recordings</td>\n",
       "      <td>2</td>\n",
       "      <td>-1</td>\n",
       "      <td>1</td>\n",
       "      <td>...</td>\n",
       "      <td>2022</td>\n",
       "      <td>2022-09-22</td>\n",
       "      <td>1.663805e+09</td>\n",
       "      <td>2022-09-01</td>\n",
       "      <td>1</td>\n",
       "      <td>AKA</td>\n",
       "      <td>1</td>\n",
       "      <td>AKA, Nasty C; Lemons (Lemonade)</td>\n",
       "      <td>0</td>\n",
       "      <td>0</td>\n",
       "    </tr>\n",
       "    <tr>\n",
       "      <th>1094</th>\n",
       "      <td>0</td>\n",
       "      <td>0</td>\n",
       "      <td>109</td>\n",
       "      <td>spotify:track:4ucXeGcKKzubgHb932T6sl</td>\n",
       "      <td>AV</td>\n",
       "      <td>Confession</td>\n",
       "      <td>AV</td>\n",
       "      <td>67</td>\n",
       "      <td>126</td>\n",
       "      <td>33</td>\n",
       "      <td>...</td>\n",
       "      <td>2022</td>\n",
       "      <td>2022-09-29</td>\n",
       "      <td>1.664410e+09</td>\n",
       "      <td>2022-09-01</td>\n",
       "      <td>1</td>\n",
       "      <td>AV</td>\n",
       "      <td>0</td>\n",
       "      <td>AV; Confession</td>\n",
       "      <td>0</td>\n",
       "      <td>0</td>\n",
       "    </tr>\n",
       "    <tr>\n",
       "      <th>...</th>\n",
       "      <td>...</td>\n",
       "      <td>...</td>\n",
       "      <td>...</td>\n",
       "      <td>...</td>\n",
       "      <td>...</td>\n",
       "      <td>...</td>\n",
       "      <td>...</td>\n",
       "      <td>...</td>\n",
       "      <td>...</td>\n",
       "      <td>...</td>\n",
       "      <td>...</td>\n",
       "      <td>...</td>\n",
       "      <td>...</td>\n",
       "      <td>...</td>\n",
       "      <td>...</td>\n",
       "      <td>...</td>\n",
       "      <td>...</td>\n",
       "      <td>...</td>\n",
       "      <td>...</td>\n",
       "      <td>...</td>\n",
       "      <td>...</td>\n",
       "    </tr>\n",
       "    <tr>\n",
       "      <th>47451</th>\n",
       "      <td>0</td>\n",
       "      <td>1</td>\n",
       "      <td>157</td>\n",
       "      <td>spotify:track:2QWEMqQMJR1KDf6hDjJOs6</td>\n",
       "      <td>j-hope</td>\n",
       "      <td>Arson</td>\n",
       "      <td>BIGHIT MUSIC</td>\n",
       "      <td>157</td>\n",
       "      <td>-1</td>\n",
       "      <td>1</td>\n",
       "      <td>...</td>\n",
       "      <td>2022</td>\n",
       "      <td>2022-07-21</td>\n",
       "      <td>1.658362e+09</td>\n",
       "      <td>2022-07-01</td>\n",
       "      <td>1</td>\n",
       "      <td>j-hope</td>\n",
       "      <td>0</td>\n",
       "      <td>j-hope; Arson</td>\n",
       "      <td>0</td>\n",
       "      <td>0</td>\n",
       "    </tr>\n",
       "    <tr>\n",
       "      <th>47452</th>\n",
       "      <td>0</td>\n",
       "      <td>0</td>\n",
       "      <td>95</td>\n",
       "      <td>spotify:track:4XKXphKH76W4zNpkgFS5o2</td>\n",
       "      <td>j-hope</td>\n",
       "      <td>MORE</td>\n",
       "      <td>BIGHIT MUSIC</td>\n",
       "      <td>95</td>\n",
       "      <td>-1</td>\n",
       "      <td>1</td>\n",
       "      <td>...</td>\n",
       "      <td>2022</td>\n",
       "      <td>2022-07-07</td>\n",
       "      <td>1.657152e+09</td>\n",
       "      <td>2022-07-01</td>\n",
       "      <td>1</td>\n",
       "      <td>j-hope</td>\n",
       "      <td>0</td>\n",
       "      <td>j-hope; MORE</td>\n",
       "      <td>0</td>\n",
       "      <td>0</td>\n",
       "    </tr>\n",
       "    <tr>\n",
       "      <th>47461</th>\n",
       "      <td>0</td>\n",
       "      <td>0</td>\n",
       "      <td>121</td>\n",
       "      <td>spotify:track:3vXFxsPqMgw4SYP7fkWicM</td>\n",
       "      <td>melvitto, Wande Coal</td>\n",
       "      <td>Gentility</td>\n",
       "      <td>melvitto under exclusive license to Amuseio AB</td>\n",
       "      <td>12</td>\n",
       "      <td>117</td>\n",
       "      <td>24</td>\n",
       "      <td>...</td>\n",
       "      <td>2022</td>\n",
       "      <td>2022-09-29</td>\n",
       "      <td>1.664410e+09</td>\n",
       "      <td>2022-09-01</td>\n",
       "      <td>1</td>\n",
       "      <td>melvitto</td>\n",
       "      <td>0</td>\n",
       "      <td>melvitto, Wande Coal; Gentility</td>\n",
       "      <td>0</td>\n",
       "      <td>0</td>\n",
       "    </tr>\n",
       "    <tr>\n",
       "      <th>47463</th>\n",
       "      <td>0</td>\n",
       "      <td>0</td>\n",
       "      <td>165</td>\n",
       "      <td>spotify:track:4ZxL5Fi5K0nkyTmsbwPdsj</td>\n",
       "      <td>rum.gold</td>\n",
       "      <td>Call It What You Want</td>\n",
       "      <td>Leola LLC</td>\n",
       "      <td>165</td>\n",
       "      <td>-1</td>\n",
       "      <td>1</td>\n",
       "      <td>...</td>\n",
       "      <td>2022</td>\n",
       "      <td>2022-06-16</td>\n",
       "      <td>1.655338e+09</td>\n",
       "      <td>2022-06-01</td>\n",
       "      <td>1</td>\n",
       "      <td>rum.gold</td>\n",
       "      <td>0</td>\n",
       "      <td>rum.gold; Call It What You Want</td>\n",
       "      <td>0</td>\n",
       "      <td>0</td>\n",
       "    </tr>\n",
       "    <tr>\n",
       "      <th>47485</th>\n",
       "      <td>0</td>\n",
       "      <td>0</td>\n",
       "      <td>197</td>\n",
       "      <td>spotify:track:4XNO7bG8cMM21nfxcK3AIi</td>\n",
       "      <td>uLazi, Thabza Tee</td>\n",
       "      <td>Gijima</td>\n",
       "      <td>Mguzuguzu Records</td>\n",
       "      <td>197</td>\n",
       "      <td>-1</td>\n",
       "      <td>1</td>\n",
       "      <td>...</td>\n",
       "      <td>2022</td>\n",
       "      <td>2022-07-28</td>\n",
       "      <td>1.658966e+09</td>\n",
       "      <td>2022-07-01</td>\n",
       "      <td>1</td>\n",
       "      <td>uLazi</td>\n",
       "      <td>0</td>\n",
       "      <td>uLazi, Thabza Tee; Gijima</td>\n",
       "      <td>0</td>\n",
       "      <td>0</td>\n",
       "    </tr>\n",
       "  </tbody>\n",
       "</table>\n",
       "<p>464 rows × 23 columns</p>\n",
       "</div>"
      ],
      "text/plain": [
       "       trackAppearanceCount  artistAppearanceCount  rank  \\\n",
       "2                         0                      0   128   \n",
       "3                         0                      0   168   \n",
       "862                       0                     57    66   \n",
       "1010                      0                     78     2   \n",
       "1094                      0                      0   109   \n",
       "...                     ...                    ...   ...   \n",
       "47451                     0                      1   157   \n",
       "47452                     0                      0    95   \n",
       "47461                     0                      0   121   \n",
       "47463                     0                      0   165   \n",
       "47485                     0                      0   197   \n",
       "\n",
       "                                        uri  \\\n",
       "2      spotify:track:3KnHZwV1StOTvtHwpK2gK1   \n",
       "3      spotify:track:4yaPPFIafaVaMRHZ5IHkbA   \n",
       "862    spotify:track:0OHBji0Hz8o7W1TPYtk31j   \n",
       "1010   spotify:track:6PqdJb18ssWDcROvnsEqy6   \n",
       "1094   spotify:track:4ucXeGcKKzubgHb932T6sl   \n",
       "...                                     ...   \n",
       "47451  spotify:track:2QWEMqQMJR1KDf6hDjJOs6   \n",
       "47452  spotify:track:4XKXphKH76W4zNpkgFS5o2   \n",
       "47461  spotify:track:3vXFxsPqMgw4SYP7fkWicM   \n",
       "47463  spotify:track:4ZxL5Fi5K0nkyTmsbwPdsj   \n",
       "47485  spotify:track:4XNO7bG8cMM21nfxcK3AIi   \n",
       "\n",
       "                                            artist_names  \\\n",
       "2      031CHOPPA, Madumane, Focalistic, Xduppy, Kingtone   \n",
       "3                   1da Banton, Kizz Daniel, Tiwa Savage   \n",
       "862                               A-Reece, Marcus Harvey   \n",
       "1010                                        AKA, Nasty C   \n",
       "1094                                                  AV   \n",
       "...                                                  ...   \n",
       "47451                                             j-hope   \n",
       "47452                                             j-hope   \n",
       "47461                               melvitto, Wande Coal   \n",
       "47463                                           rum.gold   \n",
       "47485                                  uLazi, Thabza Tee   \n",
       "\n",
       "                  track_name                                          source  \\\n",
       "2                  Usenemali                                       031Choppa   \n",
       "3          No Wahala - Remix                         Squareball Ent. Limited   \n",
       "862                   DREAMS                            REVENGE CLUB RECORDS   \n",
       "1010       Lemons (Lemonade)                        Sound African Recordings   \n",
       "1094              Confession                                              AV   \n",
       "...                      ...                                             ...   \n",
       "47451                  Arson                                    BIGHIT MUSIC   \n",
       "47452                   MORE                                    BIGHIT MUSIC   \n",
       "47461              Gentility  melvitto under exclusive license to Amuseio AB   \n",
       "47463  Call It What You Want                                       Leola LLC   \n",
       "47485                 Gijima                               Mguzuguzu Records   \n",
       "\n",
       "       peak_rank  previous_rank  weeks_on_chart  ...  Year End Date Dt  \\\n",
       "2            128             -1               1  ...  2022  2022-09-08   \n",
       "3             38            170              30  ...  2022  2022-09-29   \n",
       "862           66             -1               1  ...  2022  2022-09-22   \n",
       "1010           2             -1               1  ...  2022  2022-09-22   \n",
       "1094          67            126              33  ...  2022  2022-09-29   \n",
       "...          ...            ...             ...  ...   ...         ...   \n",
       "47451        157             -1               1  ...  2022  2022-07-21   \n",
       "47452         95             -1               1  ...  2022  2022-07-07   \n",
       "47461         12            117              24  ...  2022  2022-09-29   \n",
       "47463        165             -1               1  ...  2022  2022-06-16   \n",
       "47485        197             -1               1  ...  2022  2022-07-28   \n",
       "\n",
       "       Seconds since Epoch  End Date Aggregated ArtistCount  main_artist  \\\n",
       "2             1.662595e+09           2022-09-01           1    031CHOPPA   \n",
       "3             1.664410e+09           2022-09-01           1   1da Banton   \n",
       "862           1.663805e+09           2022-09-01           1      A-Reece   \n",
       "1010          1.663805e+09           2022-09-01           1          AKA   \n",
       "1094          1.664410e+09           2022-09-01           1           AV   \n",
       "...                    ...                  ...         ...          ...   \n",
       "47451         1.658362e+09           2022-07-01           1       j-hope   \n",
       "47452         1.657152e+09           2022-07-01           1       j-hope   \n",
       "47461         1.664410e+09           2022-09-01           1     melvitto   \n",
       "47463         1.655338e+09           2022-06-01           1     rum.gold   \n",
       "47485         1.658966e+09           2022-07-01           1        uLazi   \n",
       "\n",
       "      isTopTen                                   Artist and Track  \\\n",
       "2            0  031CHOPPA, Madumane, Focalistic, Xduppy, Kingt...   \n",
       "3            0  1da Banton, Kizz Daniel, Tiwa Savage; No Wahal...   \n",
       "862          0                     A-Reece, Marcus Harvey; DREAMS   \n",
       "1010         1                    AKA, Nasty C; Lemons (Lemonade)   \n",
       "1094         0                                     AV; Confession   \n",
       "...        ...                                                ...   \n",
       "47451        0                                      j-hope; Arson   \n",
       "47452        0                                       j-hope; MORE   \n",
       "47461        0                    melvitto, Wande Coal; Gentility   \n",
       "47463        0                    rum.gold; Call It What You Want   \n",
       "47485        0                          uLazi, Thabza Tee; Gijima   \n",
       "\n",
       "      rank difference  Position over Time  \n",
       "2                   0                   0  \n",
       "3                   0                   0  \n",
       "862                 0                   0  \n",
       "1010                0                   0  \n",
       "1094                0                   0  \n",
       "...               ...                 ...  \n",
       "47451               0                   0  \n",
       "47452               0                   0  \n",
       "47461               0                   0  \n",
       "47463               0                   0  \n",
       "47485               0                   0  \n",
       "\n",
       "[464 rows x 23 columns]"
      ]
     },
     "execution_count": 11,
     "metadata": {},
     "output_type": "execute_result"
    }
   ],
   "source": [
    "za_data_test_first_time"
   ]
  },
  {
   "cell_type": "markdown",
   "id": "713f4af7",
   "metadata": {},
   "source": [
    "### 0. Entry Position into Chart"
   ]
  },
  {
   "cell_type": "code",
   "execution_count": 12,
   "id": "8646c4ea",
   "metadata": {},
   "outputs": [],
   "source": [
    "def findingtheentrypos(za_data):\n",
    "    \n",
    "    groupednum_songs = za_data.groupby(groupby_cols)[\"End Date\"].agg(\"min\")\n",
    "    groupednum_songs_df = pd.DataFrame(groupednum_songs).reset_index()\n",
    "    groupednum_songs_df.columns = groupby_cols + [\"Artist Song Start Date\"]\n",
    "    \n",
    "    groupednum_songs_df = groupednum_songs_df.drop_duplicates()\n",
    "    groupednum_songs_df.shape\n",
    "    \n",
    "    groupednum_songs_ls = groupednum_songs_df.values.tolist()\n",
    "    \n",
    "    thefirstones = []\n",
    "    for artsongls in groupednum_songs_ls:\n",
    "        theartist = artsongls[0]\n",
    "        thetrack = artsongls[1]\n",
    "        thestartdate = artsongls[2]\n",
    "        thefirstones.append(za_data[(za_data[\"main_artist\"] == theartist) & (za_data[\"track_name\"] == thetrack) & (za_data[\"End Date\"] == thestartdate)])\n",
    "        \n",
    "    first_track_position_df = pd.concat(thefirstones)\n",
    "    \n",
    "    first_track_position_df_relevant = first_track_position_df[[\"main_artist\", \"track_name\", \"rank\", \"End Date\"]]\n",
    "    first_track_position_df_relevant.columns = [\"main_artist\", \"track_name\", \"entry rank\", \"End Date\"]\n",
    "    \n",
    "    groupednum_songs = za_data.groupby(groupby_cols)[\"End Date\"].agg(\"count\")\n",
    "    groupednum_songs_df = pd.DataFrame(groupednum_songs).reset_index()\n",
    "    groupednum_songs_df.columns = groupby_cols + [\"Artist Song Count\"]\n",
    "    \n",
    "    return groupednum_songs_df, first_track_position_df_relevant"
   ]
  },
  {
   "cell_type": "markdown",
   "id": "2681298a",
   "metadata": {},
   "source": [
    "### 1. Streams"
   ]
  },
  {
   "cell_type": "code",
   "execution_count": 13,
   "id": "946c6ce1",
   "metadata": {},
   "outputs": [],
   "source": [
    "def findtheMinMaxMeanStreams(za_data):\n",
    "    groupedmax_streams = za_data.groupby(groupby_cols)[\"streams\"].agg(\"max\")\n",
    "    groupedmax_streams_df = pd.DataFrame(groupedmax_streams).reset_index()\n",
    "    groupedmax_streams_df.columns = groupby_cols + [\"Max Streams per Song\"]\n",
    "    \n",
    "    groupedmin_streams = za_data.groupby(groupby_cols)[\"streams\"].agg(\"min\")\n",
    "    groupedmin_streams_df = pd.DataFrame(groupedmin_streams).reset_index()\n",
    "    groupedmin_streams_df.columns = groupby_cols + [\"Min Streams per Song\"]\n",
    "    \n",
    "    groupedsum_streams = za_data.groupby(groupby_cols)[\"streams\"].agg(\"sum\")\n",
    "    groupedsum_streams_df = pd.DataFrame(groupedsum_streams).reset_index()\n",
    "    groupedsum_streams_df.columns = groupby_cols + [\"Total Streams per Song\"]\n",
    "\n",
    "    groupedmean_streams = za_data.groupby(groupby_cols)[\"streams\"].agg(\"mean\")\n",
    "    groupedmean_streams_df = pd.DataFrame(groupedmean_streams).reset_index()\n",
    "    groupedmean_streams_df.columns = groupby_cols + [\"Mean Streams per Song\"]\n",
    "    \n",
    "    return groupedmax_streams_df, groupedmin_streams_df, groupedsum_streams_df, groupedmean_streams_df"
   ]
  },
  {
   "cell_type": "markdown",
   "id": "fe7fb879",
   "metadata": {},
   "source": [
    "### 2. Positions"
   ]
  },
  {
   "cell_type": "code",
   "execution_count": 14,
   "id": "37b2e784",
   "metadata": {},
   "outputs": [],
   "source": [
    "def findtheMinMaxPositions(za_data):\n",
    "    groupedpos_streams = za_data.groupby(groupby_cols)[\"rank\"].agg(\"min\")\n",
    "    groupedpos_streams_df = pd.DataFrame(groupedpos_streams).reset_index()\n",
    "    groupedpos_streams_df.columns = groupby_cols + [\"Min Position per Song\"]\n",
    "\n",
    "    groupedposmax_streams = za_data.groupby(groupby_cols)[\"rank\"].agg(\"max\")\n",
    "    groupedposmax_streams_df = pd.DataFrame(groupedposmax_streams).reset_index()\n",
    "    groupedposmax_streams_df.columns = groupby_cols + [\"Max Position per Song\"]\n",
    "    \n",
    "    return groupedpos_streams_df, groupedposmax_streams_df"
   ]
  },
  {
   "cell_type": "markdown",
   "id": "c7413f3f",
   "metadata": {},
   "source": [
    "### 3. Dates"
   ]
  },
  {
   "cell_type": "markdown",
   "id": "b6b9acbd",
   "metadata": {},
   "source": [
    "## Combine the dfs"
   ]
  },
  {
   "cell_type": "code",
   "execution_count": 15,
   "id": "80ca1cdc",
   "metadata": {},
   "outputs": [],
   "source": [
    "def combinedataframes(groupedmax_streams_df, groupedmin_streams_df, groupedsum_streams_df, groupedmean_streams_df, groupedpos_streams_df, groupedposmax_streams_df, groupednum_songs_df):\n",
    "    groupeddf = groupedmax_streams_df\n",
    "    \n",
    "    groupeddf[\"Min Streams per Song\"] = groupedmin_streams_df[\"Min Streams per Song\"]\n",
    "    groupeddf[\"Total Streams per Song\"] = groupedsum_streams_df[\"Total Streams per Song\"]\n",
    "    groupeddf[\"Mean Streams per Song\"]= groupedmean_streams_df[\"Mean Streams per Song\"]\n",
    "    groupeddf[\"Min Position per Song\"] = groupedpos_streams_df[\"Min Position per Song\"]\n",
    "    groupeddf[\"Max Position per Song\"] = groupedposmax_streams_df[\"Max Position per Song\"]\n",
    "    groupeddf[\"Artist Song Count\"] = groupednum_songs_df[\"Artist Song Count\"]\n",
    "    \n",
    "    groupeddf[\"MaxMin Difference Position\"] = groupeddf[\"Max Position per Song\"] - groupeddf[\"Min Position per Song\"]\n",
    "    groupeddf[\"MaxMin Difference Streams\"] = groupeddf[\"Max Streams per Song\"] - groupeddf[\"Min Streams per Song\"]\n",
    "    \n",
    "    groupeddf[\"MaxMin Ratio Position\"] = groupeddf[\"Max Position per Song\"] / groupeddf[\"Min Position per Song\"]\n",
    "    groupeddf[\"MaxMin Ratio Streams\"] = groupeddf[\"Max Streams per Song\"] / groupeddf[\"Min Streams per Song\"]\n",
    "    \n",
    "    groupeddf.drop([\"Max Position per Song\"], inplace=True, axis=1)\n",
    "    \n",
    "    groupeddf_startpos = groupeddf.merge(first_track_position_df_relevant[[\"main_artist\", \"track_name\", \"entry rank\"]], left_on=[\"main_artist\", \"track_name\"], right_on=[\"main_artist\", \"track_name\"], how=\"inner\")\n",
    "    \n",
    "    groupeddf_startpos[\"main_art_track\"] = groupeddf_startpos[\"main_artist\"] + groupeddf_startpos[\"track_name\"]\n",
    "    \n",
    "    groupeddf_startpos_regress = groupeddf_startpos[['main_artist', \"main_art_track\", 'entry rank', 'Min Position per Song']].drop_duplicates()\n",
    "    \n",
    "    return groupeddf, groupeddf_startpos_regress\n",
    "    "
   ]
  },
  {
   "cell_type": "markdown",
   "id": "c8bc6fdb",
   "metadata": {},
   "source": [
    "### THE KMEANS"
   ]
  },
  {
   "cell_type": "code",
   "execution_count": 16,
   "id": "b7d677be",
   "metadata": {},
   "outputs": [],
   "source": [
    "def thekmeansfunc(za_data_df, groupeddf, groupeddf_startpos_regress, groupby_cols, filenname):\n",
    "    grouped_za_data_df = za_data_df.merge(groupeddf, left_on=[\"main_artist\", \"track_name\"], right_on=[\"main_artist\", \"track_name\"], how=\"inner\")\n",
    "    \n",
    "    train_groupeddf = grouped_za_data_df.drop(groupby_cols, axis=1)\n",
    "    \n",
    "    kmeans = KMeans(n_clusters=4, random_state=0).fit(train_groupeddf)\n",
    "    \n",
    "    allklabels = kmeans.labels_\n",
    "    \n",
    "    print(len(grouped_za_data_df), len(train_groupeddf))\n",
    "    \n",
    "    grouped_za_data_df[\"Labels\"] = allklabels\n",
    "    \n",
    "    other_cols = [\"Min Streams per Song\", \"Total Streams per Song\", \"Mean Streams per Song\", \"Min Position per Song\", \"Artist Song Count\", \"MaxMin Ratio Position\", \"MaxMin Ratio Streams\", \"MaxMin Difference Position\", \"MaxMin Difference Streams\"]\n",
    "    \n",
    "    for col in other_cols:\n",
    "        grouped_za_data_df[col] = groupeddf[col]\n",
    "        \n",
    "    grouped_za_data_df.to_csv(\"grouped_za_data_df\" + filenname +\".csv\", index=False)\n",
    "    \n",
    "    grouped_za_data_df[\"main_art_track\"] = grouped_za_data_df[\"main_artist\"] + grouped_za_data_df[\"track_name\"]\n",
    "    \n",
    "    grouped_za_data_df = grouped_za_data_df.merge(groupeddf_startpos_regress, left_on=[\"main_art_track\"], right_on=[\"main_art_track\"], how=\"left\")\n",
    "    \n",
    "    grouped_za_data_df.columns = ['main_artist', 'track_name', 'trackAppearanceCount', 'artistAppearanceCount', 'rank', 'peak_rank', 'previous_rank','weeks_on_chart', 'streams', 'ArtistCount', 'isTopTen', 'rank difference', 'Max Streams per Song', 'Min Streams per Song', 'Total Streams per Song', 'Mean Streams per Song', 'Min Position per Song', 'Artist Song Count','MaxMin Difference Position', 'MaxMin Difference Streams','MaxMin Ratio Position', 'MaxMin Ratio Streams', 'Labels', 'main_art_track', 'main_artist_y', 'entry rank', 'Min Position per Song_y']\n",
    "    \n",
    "    grouped_za_data_df.drop(['main_artist_y', 'Min Position per Song_y'], axis=1, inplace=True)\n",
    "    \n",
    "    labels_kmeans = grouped_za_data_df['Labels'].unique().tolist()\n",
    "    \n",
    "    grouped_za_data_df = grouped_za_data_df.dropna()\n",
    "    \n",
    "    print(grouped_za_data_df.shape)\n",
    "    grouped_za_data_df = grouped_za_data_df.drop_duplicates()\n",
    "    grouped_za_data_df.to_csv(\"grouped_za_data_df.csv\", index=False)\n",
    "\n",
    "    \n",
    "    return grouped_za_data_df"
   ]
  },
  {
   "cell_type": "markdown",
   "id": "33153e76",
   "metadata": {},
   "source": [
    "### Linear Regression"
   ]
  },
  {
   "cell_type": "code",
   "execution_count": 17,
   "id": "d6cdaeaa",
   "metadata": {},
   "outputs": [],
   "source": [
    "def theLinearRegressionFuncFewGrouped(grouped_za_data_df, grouped_za_test_data_df, thelabelsmade):\n",
    "    all_results = []\n",
    "    for alabel in thelabelsmade:\n",
    "\n",
    "        pred_df_one = grouped_za_data_df[grouped_za_data_df[\"Labels\"] == alabel]\n",
    "\n",
    "#         pred_df_one = pred_df_one.drop([\"main_artist\", \"track_name\", \"main_art_track\"], axis=1)\n",
    "\n",
    "        # Build linear regression model using TV and Radio as predictors\n",
    "        # Split data into predictors X and output Y\n",
    "#         predictors = list(pred_df_one.columns)\n",
    "#         predictors = ['Artist Song Count', 'Total Streams per Song', 'Min Streams per Song', 'MaxMin Difference Position', 'MaxMin Ratio Streams']\n",
    "        \n",
    "        X = pred_df_one\n",
    "        X = X.drop(['Min Position per Song'],axis=1)\n",
    "        y = pred_df_one['Min Position per Song']\n",
    "\n",
    "        # Initialise and fit model\n",
    "        lm = LinearRegression()\n",
    "        model = lm.fit(X, y)\n",
    "\n",
    "        grouped_za_test_data_df_few = grouped_za_test_data_df[['Min Position per Song', 'Artist Song Count', 'Total Streams per Song', 'Min Streams per Song', 'MaxMin Difference Position', 'MaxMin Ratio Streams', \"Labels\"]]\n",
    "        y = grouped_za_test_data_df_few['Min Position per Song']\n",
    "        grouped_za_test_data_df_few = grouped_za_test_data_df_few.drop(['Min Position per Song'], axis=1)\n",
    "        # grouped_za_test_data_df_minus = grouped_za_test_data_df.drop([\"main_artist\", \"track_name\", \"main_art_track\",'Min Position per Song'], axis=1)\n",
    "        all_preds = model.predict(grouped_za_test_data_df_few)\n",
    "\n",
    "        fewer_columns_mean_squared_error = mean_squared_error(y, all_preds)\n",
    "        fewer_columns_r2_score = r2_score(y, all_preds)\n",
    "\n",
    "        print(alabel, \"Mean squared error: %.2f\" % fewer_columns_mean_squared_error)\n",
    "        # The coefficient of determination: 1 is perfect prediction\n",
    "        print(alabel, \"Coefficient of determination: %.2f\" % fewer_columns_r2_score)\n",
    "        \n",
    "        all_results.append([alabel, fewer_columns_mean_squared_error, fewer_columns_r2_score])\n",
    "        \n",
    "    return all_results"
   ]
  },
  {
   "cell_type": "code",
   "execution_count": 18,
   "id": "86181111",
   "metadata": {},
   "outputs": [],
   "source": [
    "def theLinearRegressionFuncAllGrouped(grouped_za_data_df, grouped_za_test_data_df, thelabelsmade):\n",
    "    all_results = []\n",
    "    for alabel in thelabelsmade:\n",
    "\n",
    "        pred_df_one = grouped_za_data_df[grouped_za_data_df[\"Labels\"] == alabel]\n",
    "\n",
    "        pred_df_one = pred_df_one.drop([\"main_artist\", \"track_name\", \"main_art_track\"], axis=1)\n",
    "\n",
    "        predictors = list(pred_df_one.columns)\n",
    "        X = pred_df_one[predictors]\n",
    "        X = X.drop(['Min Position per Song'],axis=1)\n",
    "        y = pred_df_one['Min Position per Song']\n",
    "\n",
    "        # Initialise and fit model\n",
    "        lm = LinearRegression()\n",
    "        model = lm.fit(X, y)\n",
    "\n",
    "        y = grouped_za_test_data_df['Min Position per Song']\n",
    "        grouped_za_test_data_df_minus = grouped_za_test_data_df.drop([\"main_artist\", \"track_name\", \"main_art_track\",'Min Position per Song'], axis=1)\n",
    "        all_preds = model.predict(grouped_za_test_data_df_minus)\n",
    "\n",
    "\n",
    "        print(alabel, \"Mean squared error: %.2f\" % mean_squared_error(y, all_preds))\n",
    "        # The coefficient of determination: 1 is perfect prediction\n",
    "        print(alabel, \"Coefficient of determination: %.2f\" % r2_score(y, all_preds))\n",
    "        all_results.append([alabel, mean_squared_error(y, all_preds), r2_score(y, all_preds)])\n",
    "        \n",
    "    return all_results"
   ]
  },
  {
   "cell_type": "code",
   "execution_count": 19,
   "id": "39cde7a6",
   "metadata": {},
   "outputs": [],
   "source": [
    "def theLinearRegressionFuncAll(grouped_za_data_df, grouped_za_test_data_df):\n",
    "    all_results = []\n",
    "    pred_df_one = grouped_za_data_df\n",
    "\n",
    "    pred_df_one = pred_df_one.drop([\"main_artist\", \"track_name\", \"main_art_track\"], axis=1)\n",
    "\n",
    "    predictors = list(pred_df_one.columns)\n",
    "    X = pred_df_one[predictors]\n",
    "    X = X.drop(['Min Position per Song'],axis=1)\n",
    "    y = pred_df_one['Min Position per Song']\n",
    "\n",
    "    # Initialise and fit model\n",
    "    lm = LinearRegression()\n",
    "    model = lm.fit(X, y)\n",
    "\n",
    "    print(f'alpha = {model.intercept_}')\n",
    "    print(f'betas = {model.coef_}')\n",
    "\n",
    "    y = grouped_za_test_data_df['Min Position per Song']\n",
    "    grouped_za_test_data_df_minus = grouped_za_test_data_df.drop([\"main_artist\", \"track_name\", \"main_art_track\",'Min Position per Song'], axis=1)\n",
    "    all_preds = model.predict(grouped_za_test_data_df_minus)\n",
    "\n",
    "\n",
    "    print(\"Mean squared error: %.2f\" % mean_squared_error(y, all_preds))\n",
    "    # The coefficient of determination: 1 is perfect prediction\n",
    "    print(\"Coefficient of determination: %.2f\" % r2_score(y, all_preds))\n",
    "    \n",
    "    all_results.append([\"All\", mean_squared_error(y, all_preds), r2_score(y, all_preds)])\n",
    "    \n",
    "    return all_results"
   ]
  },
  {
   "cell_type": "markdown",
   "id": "1e0d3574",
   "metadata": {},
   "source": [
    "# Call the functions"
   ]
  },
  {
   "cell_type": "code",
   "execution_count": 20,
   "id": "dd545754",
   "metadata": {},
   "outputs": [],
   "source": [
    "scaler = StandardScaler()"
   ]
  },
  {
   "cell_type": "code",
   "execution_count": 21,
   "id": "5003a511",
   "metadata": {},
   "outputs": [],
   "source": [
    "some_artists_of_interest = [\"6LACK\", \"9umba\", \"BNXN fka Buju\", \"Black Coffee\", \"Big Zulu\"]\n",
    "groupednum_songs_df, first_track_position_df_relevant = findingtheentrypos(za_data)\n",
    "groupedmax_streams_df, groupedmin_streams_df, groupedsum_streams_df, groupedmean_streams_df = findtheMinMaxMeanStreams(za_data)\n",
    "groupedpos_streams_df, groupedposmax_streams_df = findtheMinMaxPositions(za_data)\n",
    "groupeddf, groupeddf_startpos_regress = combinedataframes(groupedmax_streams_df, groupedmin_streams_df, groupedsum_streams_df, groupedmean_streams_df, groupedpos_streams_df, groupedposmax_streams_df, groupednum_songs_df)\n",
    "filenname = \"zaall\""
   ]
  },
  {
   "cell_type": "code",
   "execution_count": 22,
   "id": "297f0858",
   "metadata": {},
   "outputs": [
    {
     "data": {
      "text/plain": [
       "['main_artist', 'track_name']"
      ]
     },
     "execution_count": 22,
     "metadata": {},
     "output_type": "execute_result"
    }
   ],
   "source": [
    "groupby_cols"
   ]
  },
  {
   "cell_type": "code",
   "execution_count": 23,
   "id": "68ba7832",
   "metadata": {},
   "outputs": [],
   "source": [
    "# train_za_data_df = za_data_df.drop(groupby_cols, axis=1)\n",
    "# train_za_data_df_cols = list(train_za_data_df.columns)\n",
    "# scaler.fit(train_za_data_df)\n",
    "# train_za_data_df = scaler.transform(train_za_data_df)\n",
    "# thedf = pd.DataFrame(train_za_data_df)\n",
    "# thedf.columns = train_za_data_df_cols\n",
    "# thedf[\"main_artist\"] = za_data_df[\"main_artist\"]\n",
    "# thedf[\"track_name\"] = za_data_df[\"track_name\"]"
   ]
  },
  {
   "cell_type": "code",
   "execution_count": 25,
   "id": "0145ebe5",
   "metadata": {},
   "outputs": [
    {
     "name": "stdout",
     "output_type": "stream",
     "text": [
      "8343 8343\n",
      "(397, 25)\n"
     ]
    }
   ],
   "source": [
    "grouped_za_data_df = thekmeansfunc(za_data_df, groupeddf, groupeddf_startpos_regress, groupby_cols, filenname)\n",
    "thelabelsmade = grouped_za_data_df[\"Labels\"].unique().tolist()"
   ]
  },
  {
   "cell_type": "code",
   "execution_count": 26,
   "id": "25fd4484",
   "metadata": {},
   "outputs": [
    {
     "name": "stdout",
     "output_type": "stream",
     "text": [
      "3336 3336\n",
      "(397, 25)\n"
     ]
    }
   ],
   "source": [
    "some_artists_of_interest = [\"6LACK\", \"9umba\", \"BNXN fka Buju\", \"Black Coffee\", \"Big Zulu\"]\n",
    "groupednum_songs_df, first_track_position_df_relevant = findingtheentrypos(za_data_test)\n",
    "groupedmax_streams_df, groupedmin_streams_df, groupedsum_streams_df, groupedmean_streams_df = findtheMinMaxMeanStreams(za_data_test)\n",
    "groupedpos_streams_df, groupedposmax_streams_df = findtheMinMaxPositions(za_data_test)\n",
    "groupeddf, groupeddf_startpos_regress = combinedataframes(groupedmax_streams_df, groupedmin_streams_df, groupedsum_streams_df, groupedmean_streams_df, groupedpos_streams_df, groupedposmax_streams_df, groupednum_songs_df)\n",
    "filenname = \"zatest\"\n",
    "grouped_za_test_data_df = thekmeansfunc(za_data_test_df, groupeddf, groupeddf_startpos_regress, groupby_cols, filenname)\n",
    "thelabelsmade_test = grouped_za_data_df[\"Labels\"].unique().tolist()"
   ]
  },
  {
   "cell_type": "code",
   "execution_count": 27,
   "id": "3b4f7a2a",
   "metadata": {},
   "outputs": [
    {
     "data": {
      "text/plain": [
       "Index(['main_artist', 'track_name', 'trackAppearanceCount',\n",
       "       'artistAppearanceCount', 'rank', 'peak_rank', 'previous_rank',\n",
       "       'weeks_on_chart', 'streams', 'ArtistCount', 'isTopTen',\n",
       "       'rank difference', 'Max Streams per Song', 'Min Streams per Song',\n",
       "       'Total Streams per Song', 'Mean Streams per Song',\n",
       "       'Min Position per Song', 'Artist Song Count',\n",
       "       'MaxMin Difference Position', 'MaxMin Difference Streams',\n",
       "       'MaxMin Ratio Position', 'MaxMin Ratio Streams', 'Labels',\n",
       "       'main_art_track', 'entry rank'],\n",
       "      dtype='object')"
      ]
     },
     "execution_count": 27,
     "metadata": {},
     "output_type": "execute_result"
    }
   ],
   "source": [
    "grouped_za_test_data_df.columns"
   ]
  },
  {
   "cell_type": "code",
   "execution_count": 28,
   "id": "04bf7bef",
   "metadata": {},
   "outputs": [
    {
     "data": {
      "text/plain": [
       "Index(['main_artist', 'track_name', 'trackAppearanceCount',\n",
       "       'artistAppearanceCount', 'rank', 'peak_rank', 'previous_rank',\n",
       "       'weeks_on_chart', 'streams', 'ArtistCount', 'isTopTen',\n",
       "       'rank difference', 'Max Streams per Song', 'Min Streams per Song',\n",
       "       'Total Streams per Song', 'Mean Streams per Song',\n",
       "       'Min Position per Song', 'Artist Song Count',\n",
       "       'MaxMin Difference Position', 'MaxMin Difference Streams',\n",
       "       'MaxMin Ratio Position', 'MaxMin Ratio Streams', 'Labels',\n",
       "       'main_art_track', 'entry rank'],\n",
       "      dtype='object')"
      ]
     },
     "execution_count": 28,
     "metadata": {},
     "output_type": "execute_result"
    }
   ],
   "source": [
    "grouped_za_data_df.columns"
   ]
  },
  {
   "cell_type": "markdown",
   "id": "17a5e824",
   "metadata": {},
   "source": [
    "##### Calling Linear Regression"
   ]
  },
  {
   "cell_type": "code",
   "execution_count": 29,
   "id": "c45a7960",
   "metadata": {},
   "outputs": [
    {
     "data": {
      "text/plain": [
       "[3, 1, 2, 0]"
      ]
     },
     "execution_count": 29,
     "metadata": {},
     "output_type": "execute_result"
    }
   ],
   "source": [
    "thelabelsmade"
   ]
  },
  {
   "cell_type": "code",
   "execution_count": 84,
   "id": "840449e9",
   "metadata": {},
   "outputs": [
    {
     "name": "stdout",
     "output_type": "stream",
     "text": [
      "3 Mean squared error: 1799.59\n",
      "3 Coefficient of determination: 0.47\n",
      "1 Mean squared error: 2189.05\n",
      "1 Coefficient of determination: 0.36\n",
      "2 Mean squared error: 5186.34\n",
      "2 Coefficient of determination: -0.53\n",
      "0 Mean squared error: 1156.62\n",
      "0 Coefficient of determination: 0.66\n"
     ]
    }
   ],
   "source": [
    "grouped_za_data_df_few = grouped_za_data_df[['Min Position per Song', 'Artist Song Count', 'Total Streams per Song', 'Min Streams per Song', 'MaxMin Difference Position', 'MaxMin Ratio Streams', \"Labels\"]]\n",
    "results = theLinearRegressionFuncFewGrouped(grouped_za_data_df_few, grouped_za_test_data_df, thelabelsmade)\n",
    "theLinearRegressionFuncFewGrouped_results = pd.DataFrame(results, columns=[\"Cluster\", \"Mean squared error\", \"r-squared\"])"
   ]
  },
  {
   "cell_type": "code",
   "execution_count": 36,
   "id": "61306630",
   "metadata": {},
   "outputs": [
    {
     "name": "stdout",
     "output_type": "stream",
     "text": [
      "3 Mean squared error: 351514.37\n",
      "3 Coefficient of determination: -102.47\n",
      "1 Mean squared error: 221320455.44\n",
      "1 Coefficient of determination: -65148.03\n",
      "2 Mean squared error: 50539.57\n",
      "2 Coefficient of determination: -13.88\n",
      "0 Mean squared error: 1189423.42\n",
      "0 Coefficient of determination: -349.12\n"
     ]
    }
   ],
   "source": [
    "results = theLinearRegressionFuncAllGrouped(grouped_za_data_df, grouped_za_test_data_df, thelabelsmade)\n",
    "theLinearRegressionFuncAllGrouped_results = pd.DataFrame(results, columns=[\"Cluster\", \"Mean squared error\", \"r-squared\"])"
   ]
  },
  {
   "cell_type": "code",
   "execution_count": 37,
   "id": "ee58b02a",
   "metadata": {},
   "outputs": [
    {
     "name": "stdout",
     "output_type": "stream",
     "text": [
      "alpha = 232.95629650915927\n",
      "betas = [ 4.01012571e+00  1.49727009e-02 -1.24675380e-02  6.84015911e-02\n",
      "  8.21381007e-02 -4.14286341e+00  7.05603391e-05 -7.47356038e+00\n",
      " -1.20134924e+01  2.91342063e-02  2.55201265e-04 -2.06217518e-04\n",
      " -7.01835395e-05 -5.18221621e-04  1.11513903e+00 -3.03292279e-01\n",
      "  3.16292368e-04  4.09484652e+00 -7.33594817e+01  2.56052626e+00\n",
      "  4.65892128e-02]\n",
      "Mean squared error: 1245.65\n",
      "Coefficient of determination: 0.63\n"
     ]
    }
   ],
   "source": [
    "results = theLinearRegressionFuncAll(grouped_za_data_df, grouped_za_test_data_df)\n",
    "theLinearRegressionFuncAll_results = pd.DataFrame(results, columns=[\"Cluster\", \"Mean squared error\", \"r-squared\"])"
   ]
  },
  {
   "cell_type": "code",
   "execution_count": 88,
   "id": "cf4c9023",
   "metadata": {},
   "outputs": [],
   "source": [
    "theLinearRegressionFuncFewGrouped_results[\"method\"] = len(theLinearRegressionFuncFewGrouped_results) * [\"few select features, k-means groups and linear regression\"]"
   ]
  },
  {
   "cell_type": "code",
   "execution_count": 89,
   "id": "3cfe2810",
   "metadata": {},
   "outputs": [],
   "source": [
    "theLinearRegressionFuncAllGrouped_results[\"method\"] = len(theLinearRegressionFuncAllGrouped_results) * [\"all numeric features, k-means groups and linear regression\"]"
   ]
  },
  {
   "cell_type": "code",
   "execution_count": 90,
   "id": "b3ecaee0",
   "metadata": {},
   "outputs": [],
   "source": [
    "theLinearRegressionFuncAllGrouped_results.to_csv(\"theLinearRegressionFuncAllGrouped_results.csv\",index=False)"
   ]
  },
  {
   "cell_type": "code",
   "execution_count": 91,
   "id": "3dc949ea",
   "metadata": {},
   "outputs": [],
   "source": [
    "theLinearRegressionFuncAll_results[\"method\"] = len(theLinearRegressionFuncAll_results) * [\"all numeric features, no groupings, linear regression\"]"
   ]
  },
  {
   "cell_type": "code",
   "execution_count": 92,
   "id": "7ae5b5db",
   "metadata": {},
   "outputs": [],
   "source": [
    "theLinearRegressionFuncAll_results.to_csv(\"theLinearRegressionFuncAll_results.csv\",index=False)"
   ]
  },
  {
   "cell_type": "code",
   "execution_count": 93,
   "id": "c9c2fc4a",
   "metadata": {},
   "outputs": [
    {
     "data": {
      "text/html": [
       "<div>\n",
       "<style scoped>\n",
       "    .dataframe tbody tr th:only-of-type {\n",
       "        vertical-align: middle;\n",
       "    }\n",
       "\n",
       "    .dataframe tbody tr th {\n",
       "        vertical-align: top;\n",
       "    }\n",
       "\n",
       "    .dataframe thead th {\n",
       "        text-align: right;\n",
       "    }\n",
       "</style>\n",
       "<table border=\"1\" class=\"dataframe\">\n",
       "  <thead>\n",
       "    <tr style=\"text-align: right;\">\n",
       "      <th></th>\n",
       "      <th>Cluster</th>\n",
       "      <th>Mean squared error</th>\n",
       "      <th>r-squared</th>\n",
       "      <th>method</th>\n",
       "    </tr>\n",
       "  </thead>\n",
       "  <tbody>\n",
       "    <tr>\n",
       "      <th>0</th>\n",
       "      <td>3</td>\n",
       "      <td>3.515144e+05</td>\n",
       "      <td>-102.473584</td>\n",
       "      <td>all numeric features, k-means groups and linea...</td>\n",
       "    </tr>\n",
       "    <tr>\n",
       "      <th>1</th>\n",
       "      <td>1</td>\n",
       "      <td>2.213205e+08</td>\n",
       "      <td>-65148.032067</td>\n",
       "      <td>all numeric features, k-means groups and linea...</td>\n",
       "    </tr>\n",
       "    <tr>\n",
       "      <th>2</th>\n",
       "      <td>2</td>\n",
       "      <td>5.053957e+04</td>\n",
       "      <td>-13.877088</td>\n",
       "      <td>all numeric features, k-means groups and linea...</td>\n",
       "    </tr>\n",
       "    <tr>\n",
       "      <th>3</th>\n",
       "      <td>0</td>\n",
       "      <td>1.189423e+06</td>\n",
       "      <td>-349.124821</td>\n",
       "      <td>all numeric features, k-means groups and linea...</td>\n",
       "    </tr>\n",
       "  </tbody>\n",
       "</table>\n",
       "</div>"
      ],
      "text/plain": [
       "   Cluster  Mean squared error     r-squared  \\\n",
       "0        3        3.515144e+05   -102.473584   \n",
       "1        1        2.213205e+08 -65148.032067   \n",
       "2        2        5.053957e+04    -13.877088   \n",
       "3        0        1.189423e+06   -349.124821   \n",
       "\n",
       "                                              method  \n",
       "0  all numeric features, k-means groups and linea...  \n",
       "1  all numeric features, k-means groups and linea...  \n",
       "2  all numeric features, k-means groups and linea...  \n",
       "3  all numeric features, k-means groups and linea...  "
      ]
     },
     "execution_count": 93,
     "metadata": {},
     "output_type": "execute_result"
    }
   ],
   "source": [
    "theLinearRegressionFuncAllGrouped_results"
   ]
  },
  {
   "cell_type": "code",
   "execution_count": 94,
   "id": "9109c7d6",
   "metadata": {},
   "outputs": [],
   "source": [
    "the_results = pd.concat([theLinearRegressionFuncFewGrouped_results, theLinearRegressionFuncAllGrouped_results])"
   ]
  },
  {
   "cell_type": "code",
   "execution_count": 95,
   "id": "df6ec89f",
   "metadata": {},
   "outputs": [
    {
     "data": {
      "text/html": [
       "<div>\n",
       "<style scoped>\n",
       "    .dataframe tbody tr th:only-of-type {\n",
       "        vertical-align: middle;\n",
       "    }\n",
       "\n",
       "    .dataframe tbody tr th {\n",
       "        vertical-align: top;\n",
       "    }\n",
       "\n",
       "    .dataframe thead th {\n",
       "        text-align: right;\n",
       "    }\n",
       "</style>\n",
       "<table border=\"1\" class=\"dataframe\">\n",
       "  <thead>\n",
       "    <tr style=\"text-align: right;\">\n",
       "      <th></th>\n",
       "      <th>Cluster</th>\n",
       "      <th>Mean squared error</th>\n",
       "      <th>r-squared</th>\n",
       "      <th>method</th>\n",
       "    </tr>\n",
       "  </thead>\n",
       "  <tbody>\n",
       "    <tr>\n",
       "      <th>0</th>\n",
       "      <td>3</td>\n",
       "      <td>1.799592e+03</td>\n",
       "      <td>0.470263</td>\n",
       "      <td>few select features, k-means groups and linear...</td>\n",
       "    </tr>\n",
       "    <tr>\n",
       "      <th>1</th>\n",
       "      <td>1</td>\n",
       "      <td>2.189050e+03</td>\n",
       "      <td>0.355620</td>\n",
       "      <td>few select features, k-means groups and linear...</td>\n",
       "    </tr>\n",
       "    <tr>\n",
       "      <th>2</th>\n",
       "      <td>2</td>\n",
       "      <td>5.186343e+03</td>\n",
       "      <td>-0.526679</td>\n",
       "      <td>few select features, k-means groups and linear...</td>\n",
       "    </tr>\n",
       "    <tr>\n",
       "      <th>3</th>\n",
       "      <td>0</td>\n",
       "      <td>1.156619e+03</td>\n",
       "      <td>0.659532</td>\n",
       "      <td>few select features, k-means groups and linear...</td>\n",
       "    </tr>\n",
       "    <tr>\n",
       "      <th>0</th>\n",
       "      <td>3</td>\n",
       "      <td>3.515144e+05</td>\n",
       "      <td>-102.473584</td>\n",
       "      <td>all numeric features, k-means groups and linea...</td>\n",
       "    </tr>\n",
       "    <tr>\n",
       "      <th>1</th>\n",
       "      <td>1</td>\n",
       "      <td>2.213205e+08</td>\n",
       "      <td>-65148.032067</td>\n",
       "      <td>all numeric features, k-means groups and linea...</td>\n",
       "    </tr>\n",
       "    <tr>\n",
       "      <th>2</th>\n",
       "      <td>2</td>\n",
       "      <td>5.053957e+04</td>\n",
       "      <td>-13.877088</td>\n",
       "      <td>all numeric features, k-means groups and linea...</td>\n",
       "    </tr>\n",
       "    <tr>\n",
       "      <th>3</th>\n",
       "      <td>0</td>\n",
       "      <td>1.189423e+06</td>\n",
       "      <td>-349.124821</td>\n",
       "      <td>all numeric features, k-means groups and linea...</td>\n",
       "    </tr>\n",
       "  </tbody>\n",
       "</table>\n",
       "</div>"
      ],
      "text/plain": [
       "   Cluster  Mean squared error     r-squared  \\\n",
       "0        3        1.799592e+03      0.470263   \n",
       "1        1        2.189050e+03      0.355620   \n",
       "2        2        5.186343e+03     -0.526679   \n",
       "3        0        1.156619e+03      0.659532   \n",
       "0        3        3.515144e+05   -102.473584   \n",
       "1        1        2.213205e+08 -65148.032067   \n",
       "2        2        5.053957e+04    -13.877088   \n",
       "3        0        1.189423e+06   -349.124821   \n",
       "\n",
       "                                              method  \n",
       "0  few select features, k-means groups and linear...  \n",
       "1  few select features, k-means groups and linear...  \n",
       "2  few select features, k-means groups and linear...  \n",
       "3  few select features, k-means groups and linear...  \n",
       "0  all numeric features, k-means groups and linea...  \n",
       "1  all numeric features, k-means groups and linea...  \n",
       "2  all numeric features, k-means groups and linea...  \n",
       "3  all numeric features, k-means groups and linea...  "
      ]
     },
     "execution_count": 95,
     "metadata": {},
     "output_type": "execute_result"
    }
   ],
   "source": [
    "the_results"
   ]
  },
  {
   "cell_type": "code",
   "execution_count": 104,
   "id": "34af8166",
   "metadata": {},
   "outputs": [],
   "source": [
    "the_results.to_csv(\"the_results.csv\",index=False)"
   ]
  },
  {
   "cell_type": "code",
   "execution_count": 111,
   "id": "80dd91ed",
   "metadata": {},
   "outputs": [
    {
     "data": {
      "image/png": "[encoded data removed]",
      "text/plain": [
       "<Figure size 691.75x360 with 1 Axes>"
      ]
     },
     "metadata": {
      "needs_background": "light"
     },
     "output_type": "display_data"
    }
   ],
   "source": [
    "import seaborn as sns\n",
    "\n",
    "\n",
    "results_plt = sns.catplot(x = \"Cluster\",       # x variable name\n",
    "            y = \"r-squared\",       # y variable name\n",
    "            hue = \"method\",  # group variable name\n",
    "            data = theLinearRegressionFuncAllGrouped_results,     # dataframe to plot\n",
    "            kind = \"bar\").set(title=\"all features r_squared on the OOT test data\")\n",
    "\n",
    "results_plt.figure.savefig(\"the_resultsrsquared.png\")"
   ]
  },
  {
   "cell_type": "code",
   "execution_count": 112,
   "id": "66f408cb",
   "metadata": {},
   "outputs": [
    {
     "data": {
      "image/png": "[encoded data removed]",
      "text/plain": [
       "<Figure size 686.5x360 with 1 Axes>"
      ]
     },
     "metadata": {
      "needs_background": "light"
     },
     "output_type": "display_data"
    }
   ],
   "source": [
    "import seaborn as sns\n",
    "\n",
    "\n",
    "results_plt = sns.catplot(x = \"Cluster\",       # x variable name\n",
    "            y = \"r-squared\",       # y variable name\n",
    "            hue = \"method\",  # group variable name\n",
    "            data = theLinearRegressionFuncFewGrouped_results,     # dataframe to plot\n",
    "            kind = \"bar\").set(title=\"select columns and grouped r_squared on the OOT test data\")\n",
    "\n",
    "results_plt.figure.savefig(\"setcolumnsgrouped.png\")"
   ]
  },
  {
   "cell_type": "code",
   "execution_count": 113,
   "id": "4d482b4d",
   "metadata": {},
   "outputs": [
    {
     "data": {
      "image/png": "[encoded data removed]",
      "text/plain": [
       "<Figure size 658x360 with 1 Axes>"
      ]
     },
     "metadata": {
      "needs_background": "light"
     },
     "output_type": "display_data"
    }
   ],
   "source": [
    "import seaborn as sns\n",
    "\n",
    "\n",
    "results_plt = sns.catplot(x = \"Cluster\",       # x variable name\n",
    "            y = \"r-squared\",       # y variable name\n",
    "            hue = \"method\",  # group variable name\n",
    "            data = theLinearRegressionFuncAll_results,     # dataframe to plot\n",
    "            kind = \"bar\").set(title=\"all columns no groupings select columns and groupedr_squared on the OOT test data\")\n",
    "\n",
    "results_plt.figure.savefig(\"allcolumnsnogroups.png\")"
   ]
  },
  {
   "cell_type": "code",
   "execution_count": 114,
   "id": "2bd3b9b4",
   "metadata": {},
   "outputs": [
    {
     "data": {
      "image/png": "[encoded data removed]",
      "text/plain": [
       "<Figure size 691.75x360 with 1 Axes>"
      ]
     },
     "metadata": {
      "needs_background": "light"
     },
     "output_type": "display_data"
    }
   ],
   "source": [
    "import seaborn as sns\n",
    "\n",
    "\n",
    "results_plt = sns.catplot(x = \"Cluster\",       # x variable name\n",
    "            y = \"r-squared\",       # y variable name\n",
    "            hue = \"method\",  # group variable name\n",
    "            data = theLinearRegressionFuncAllGrouped_results,     # dataframe to plot\n",
    "            kind = \"bar\").set(title=\"all columns groupings r_squared on the OOT test data\")\n",
    "\n",
    "results_plt.figure.savefig(\"allcolumnswithgroupings.png\")"
   ]
  },
  {
   "cell_type": "code",
   "execution_count": 115,
   "id": "36d3be85",
   "metadata": {},
   "outputs": [
    {
     "data": {
      "image/png": "[encoded data removed]",
      "text/plain": [
       "<Figure size 691.75x360 with 1 Axes>"
      ]
     },
     "metadata": {
      "needs_background": "light"
     },
     "output_type": "display_data"
    }
   ],
   "source": [
    "import seaborn as sns\n",
    "\n",
    "\n",
    "results_plt = sns.catplot(x = \"Cluster\",       # x variable name\n",
    "            y = \"Mean squared error\",       # y variable name\n",
    "            hue = \"method\",  # group variable name\n",
    "            data = the_results,     # dataframe to plot\n",
    "            kind = \"bar\").set(title=\"r_squared on the OOT test data\")\n",
    "\n",
    "results_plt.figure.savefig(\"the_resultsmeansquareerror.png\")"
   ]
  },
  {
   "cell_type": "code",
   "execution_count": 116,
   "id": "ad1a0f0e",
   "metadata": {},
   "outputs": [
    {
     "data": {
      "text/plain": [
       "Index(['main_artist', 'track_name', 'trackAppearanceCount',\n",
       "       'artistAppearanceCount', 'rank', 'peak_rank', 'previous_rank',\n",
       "       'weeks_on_chart', 'streams', 'ArtistCount', 'isTopTen',\n",
       "       'rank difference', 'Max Streams per Song', 'Min Streams per Song',\n",
       "       'Total Streams per Song', 'Mean Streams per Song',\n",
       "       'Min Position per Song', 'Artist Song Count',\n",
       "       'MaxMin Difference Position', 'MaxMin Difference Streams',\n",
       "       'MaxMin Ratio Position', 'MaxMin Ratio Streams', 'Labels',\n",
       "       'main_art_track', 'entry rank'],\n",
       "      dtype='object')"
      ]
     },
     "execution_count": 116,
     "metadata": {},
     "output_type": "execute_result"
    }
   ],
   "source": [
    "grouped_za_data_df.columns"
   ]
  },
  {
   "cell_type": "code",
   "execution_count": 100,
   "id": "0c119bfc",
   "metadata": {},
   "outputs": [
    {
     "name": "stdout",
     "output_type": "stream",
     "text": [
      "0.0\n",
      "[0. 0. 0. 0. 0. 0. 0. 0. 0. 0. 0. 0. 0. 0. 0. 0. 0. 0. 0. 0. 0.]\n",
      "4.538217333721575\n",
      "Mean squared error: 3397.14\n",
      "Coefficient of determination: 0.00\n"
     ]
    },
    {
     "name": "stderr",
     "output_type": "stream",
     "text": [
      "C:\\Users\\lkhum\\anaconda3\\envs\\tfenviron\\lib\\site-packages\\sklearn\\_loss\\glm_distribution.py:132: RuntimeWarning: divide by zero encountered in true_divide\n",
      "  return -2 * (y - y_pred) / self.unit_variance(y_pred)\n",
      "C:\\Users\\lkhum\\anaconda3\\envs\\tfenviron\\lib\\site-packages\\sklearn\\linear_model\\_glm\\glm.py:43: RuntimeWarning: invalid value encountered in multiply\n",
      "  temp = d1 * family.deviance_derivative(y, y_pred, weights)\n",
      "C:\\Users\\lkhum\\anaconda3\\envs\\tfenviron\\lib\\site-packages\\sklearn\\_loss\\glm_distribution.py:315: RuntimeWarning: divide by zero encountered in true_divide\n",
      "  dev = 2 * (xlogy(y, y/y_pred) - y + y_pred)\n"
     ]
    }
   ],
   "source": [
    "clf = linear_model.PoissonRegressor()\n",
    "\n",
    "\n",
    "pred_df_one = grouped_za_data_df\n",
    "\n",
    "y = pred_df_one['Min Position per Song']\n",
    "X = pred_df_one.drop([\"main_artist\", \"track_name\", \"main_art_track\",'Min Position per Song'], axis=1)\n",
    "\n",
    "clf.fit(X, y)\n",
    "\n",
    "print(clf.score(X, y))\n",
    "\n",
    "print(clf.coef_)\n",
    "\n",
    "print(clf.intercept_)\n",
    "grouped_za_test_data_df_one = grouped_za_test_data_df\n",
    "y = grouped_za_test_data_df_one['Min Position per Song']\n",
    "grouped_za_test_data_df_minusone = grouped_za_test_data_df_one.drop([\"main_artist\", \"track_name\", \"main_art_track\",'Min Position per Song'], axis=1)\n",
    "\n",
    "all_preds = clf.predict(grouped_za_test_data_df_minusone)\n",
    "\n",
    "print(\"Mean squared error: %.2f\" % mean_squared_error(y, all_preds))\n",
    "# The coefficient of determination: 1 is perfect prediction\n",
    "print(\"Coefficient of determination: %.2f\" % r2_score(y, all_preds))"
   ]
  },
  {
   "cell_type": "code",
   "execution_count": 48,
   "id": "94f4051b",
   "metadata": {},
   "outputs": [
    {
     "name": "stdout",
     "output_type": "stream",
     "text": [
      "3.3306690738754696e-16\n",
      "[0. 0. 0. 0. 0. 0. 0. 0. 0. 0. 0. 0. 0. 0. 0. 0. 0. 0. 0. 0. 0.]\n",
      "4.682030577936877\n",
      "Mean squared error: 3513.77\n",
      "Coefficient of determination: -0.08\n",
      "0.0\n",
      "[0. 0. 0. 0. 0. 0. 0. 0. 0. 0. 0. 0. 0. 0. 0. 0. 0. 0. 0. 0. 0.]\n",
      "4.294057861727924\n",
      "Mean squared error: 3173.43\n",
      "Coefficient of determination: -0.00\n",
      "0.0\n",
      "[0. 0. 0. 0. 0. 0. 0. 0. 0. 0. 0. 0. 0. 0. 0. 0. 0. 0. 0. 0. 0.]\n",
      "4.533437014140235\n",
      "Mean squared error: 3521.10\n",
      "Coefficient of determination: -0.01\n",
      "0.0\n",
      "[0. 0. 0. 0. 0. 0. 0. 0. 0. 0. 0. 0. 0. 0. 0. 0. 0. 0. 0. 0. 0.]\n",
      "4.490462559948548\n",
      "Mean squared error: 3528.06\n",
      "Coefficient of determination: -0.01\n"
     ]
    },
    {
     "name": "stderr",
     "output_type": "stream",
     "text": [
      "C:\\Users\\lkhum\\anaconda3\\envs\\tfenviron\\lib\\site-packages\\sklearn\\_loss\\glm_distribution.py:132: RuntimeWarning: divide by zero encountered in true_divide\n",
      "  return -2 * (y - y_pred) / self.unit_variance(y_pred)\n",
      "C:\\Users\\lkhum\\anaconda3\\envs\\tfenviron\\lib\\site-packages\\sklearn\\linear_model\\_glm\\glm.py:43: RuntimeWarning: invalid value encountered in multiply\n",
      "  temp = d1 * family.deviance_derivative(y, y_pred, weights)\n",
      "C:\\Users\\lkhum\\anaconda3\\envs\\tfenviron\\lib\\site-packages\\sklearn\\_loss\\glm_distribution.py:315: RuntimeWarning: divide by zero encountered in true_divide\n",
      "  dev = 2 * (xlogy(y, y/y_pred) - y + y_pred)\n",
      "C:\\Users\\lkhum\\anaconda3\\envs\\tfenviron\\lib\\site-packages\\sklearn\\_loss\\glm_distribution.py:132: RuntimeWarning: divide by zero encountered in true_divide\n",
      "  return -2 * (y - y_pred) / self.unit_variance(y_pred)\n",
      "C:\\Users\\lkhum\\anaconda3\\envs\\tfenviron\\lib\\site-packages\\sklearn\\linear_model\\_glm\\glm.py:43: RuntimeWarning: invalid value encountered in multiply\n",
      "  temp = d1 * family.deviance_derivative(y, y_pred, weights)\n",
      "C:\\Users\\lkhum\\anaconda3\\envs\\tfenviron\\lib\\site-packages\\sklearn\\_loss\\glm_distribution.py:315: RuntimeWarning: divide by zero encountered in true_divide\n",
      "  dev = 2 * (xlogy(y, y/y_pred) - y + y_pred)\n",
      "C:\\Users\\lkhum\\anaconda3\\envs\\tfenviron\\lib\\site-packages\\sklearn\\_loss\\glm_distribution.py:132: RuntimeWarning: divide by zero encountered in true_divide\n",
      "  return -2 * (y - y_pred) / self.unit_variance(y_pred)\n",
      "C:\\Users\\lkhum\\anaconda3\\envs\\tfenviron\\lib\\site-packages\\sklearn\\linear_model\\_glm\\glm.py:43: RuntimeWarning: invalid value encountered in multiply\n",
      "  temp = d1 * family.deviance_derivative(y, y_pred, weights)\n",
      "C:\\Users\\lkhum\\anaconda3\\envs\\tfenviron\\lib\\site-packages\\sklearn\\_loss\\glm_distribution.py:315: RuntimeWarning: divide by zero encountered in true_divide\n",
      "  dev = 2 * (xlogy(y, y/y_pred) - y + y_pred)\n",
      "C:\\Users\\lkhum\\anaconda3\\envs\\tfenviron\\lib\\site-packages\\sklearn\\_loss\\glm_distribution.py:132: RuntimeWarning: divide by zero encountered in true_divide\n",
      "  return -2 * (y - y_pred) / self.unit_variance(y_pred)\n",
      "C:\\Users\\lkhum\\anaconda3\\envs\\tfenviron\\lib\\site-packages\\sklearn\\linear_model\\_glm\\glm.py:43: RuntimeWarning: invalid value encountered in multiply\n",
      "  temp = d1 * family.deviance_derivative(y, y_pred, weights)\n",
      "C:\\Users\\lkhum\\anaconda3\\envs\\tfenviron\\lib\\site-packages\\sklearn\\_loss\\glm_distribution.py:315: RuntimeWarning: divide by zero encountered in true_divide\n",
      "  dev = 2 * (xlogy(y, y/y_pred) - y + y_pred)\n"
     ]
    }
   ],
   "source": [
    "clf = linear_model.PoissonRegressor()\n",
    "\n",
    "for alabel in thelabelsmade:\n",
    "    pred_df_one = grouped_za_data_df[grouped_za_data_df[\"Labels\"] == alabel]\n",
    "    \n",
    "    y = pred_df_one['Min Position per Song']\n",
    "    X = pred_df_one.drop([\"main_artist\", \"track_name\", \"main_art_track\",'Min Position per Song'], axis=1)\n",
    "\n",
    "    clf.fit(X, y)\n",
    "\n",
    "    print(clf.score(X, y))\n",
    "\n",
    "    print(clf.coef_)\n",
    "\n",
    "    print(clf.intercept_)\n",
    "    grouped_za_test_data_df_one = grouped_za_test_data_df[grouped_za_test_data_df[\"Labels\"] == alabel]\n",
    "    y = grouped_za_test_data_df_one['Min Position per Song']\n",
    "    grouped_za_test_data_df_minusone = grouped_za_test_data_df_one.drop([\"main_artist\", \"track_name\", \"main_art_track\",'Min Position per Song'], axis=1)\n",
    "\n",
    "    all_preds = clf.predict(grouped_za_test_data_df_minusone)\n",
    "\n",
    "    print(\"Mean squared error: %.2f\" % mean_squared_error(y, all_preds))\n",
    "    # The coefficient of determination: 1 is perfect prediction\n",
    "    print(\"Coefficient of determination: %.2f\" % r2_score(y, all_preds))"
   ]
  },
  {
   "cell_type": "code",
   "execution_count": 49,
   "id": "e5810220",
   "metadata": {},
   "outputs": [
    {
     "data": {
      "text/html": [
       "<div>\n",
       "<style scoped>\n",
       "    .dataframe tbody tr th:only-of-type {\n",
       "        vertical-align: middle;\n",
       "    }\n",
       "\n",
       "    .dataframe tbody tr th {\n",
       "        vertical-align: top;\n",
       "    }\n",
       "\n",
       "    .dataframe thead th {\n",
       "        text-align: right;\n",
       "    }\n",
       "</style>\n",
       "<table border=\"1\" class=\"dataframe\">\n",
       "  <thead>\n",
       "    <tr style=\"text-align: right;\">\n",
       "      <th></th>\n",
       "      <th>trackAppearanceCount</th>\n",
       "      <th>artistAppearanceCount</th>\n",
       "      <th>rank</th>\n",
       "      <th>uri</th>\n",
       "      <th>artist_names</th>\n",
       "      <th>track_name</th>\n",
       "      <th>source</th>\n",
       "      <th>peak_rank</th>\n",
       "      <th>previous_rank</th>\n",
       "      <th>weeks_on_chart</th>\n",
       "      <th>...</th>\n",
       "      <th>Year</th>\n",
       "      <th>End Date Dt</th>\n",
       "      <th>Seconds since Epoch</th>\n",
       "      <th>End Date Aggregated</th>\n",
       "      <th>ArtistCount</th>\n",
       "      <th>main_artist</th>\n",
       "      <th>isTopTen</th>\n",
       "      <th>Artist and Track</th>\n",
       "      <th>rank difference</th>\n",
       "      <th>Position over Time</th>\n",
       "    </tr>\n",
       "  </thead>\n",
       "  <tbody>\n",
       "    <tr>\n",
       "      <th>2</th>\n",
       "      <td>0</td>\n",
       "      <td>0</td>\n",
       "      <td>128</td>\n",
       "      <td>spotify:track:3KnHZwV1StOTvtHwpK2gK1</td>\n",
       "      <td>031CHOPPA, Madumane, Focalistic, Xduppy, Kingtone</td>\n",
       "      <td>Usenemali</td>\n",
       "      <td>031Choppa</td>\n",
       "      <td>128</td>\n",
       "      <td>-1</td>\n",
       "      <td>1</td>\n",
       "      <td>...</td>\n",
       "      <td>2022</td>\n",
       "      <td>2022-09-08</td>\n",
       "      <td>1.662595e+09</td>\n",
       "      <td>2022-09-01</td>\n",
       "      <td>1</td>\n",
       "      <td>031CHOPPA</td>\n",
       "      <td>0</td>\n",
       "      <td>031CHOPPA, Madumane, Focalistic, Xduppy, Kingt...</td>\n",
       "      <td>0</td>\n",
       "      <td>0</td>\n",
       "    </tr>\n",
       "    <tr>\n",
       "      <th>3</th>\n",
       "      <td>0</td>\n",
       "      <td>0</td>\n",
       "      <td>168</td>\n",
       "      <td>spotify:track:4yaPPFIafaVaMRHZ5IHkbA</td>\n",
       "      <td>1da Banton, Kizz Daniel, Tiwa Savage</td>\n",
       "      <td>No Wahala - Remix</td>\n",
       "      <td>Squareball Ent. Limited</td>\n",
       "      <td>38</td>\n",
       "      <td>170</td>\n",
       "      <td>30</td>\n",
       "      <td>...</td>\n",
       "      <td>2022</td>\n",
       "      <td>2022-09-29</td>\n",
       "      <td>1.664410e+09</td>\n",
       "      <td>2022-09-01</td>\n",
       "      <td>1</td>\n",
       "      <td>1da Banton</td>\n",
       "      <td>0</td>\n",
       "      <td>1da Banton, Kizz Daniel, Tiwa Savage; No Wahal...</td>\n",
       "      <td>0</td>\n",
       "      <td>0</td>\n",
       "    </tr>\n",
       "    <tr>\n",
       "      <th>862</th>\n",
       "      <td>0</td>\n",
       "      <td>57</td>\n",
       "      <td>66</td>\n",
       "      <td>spotify:track:0OHBji0Hz8o7W1TPYtk31j</td>\n",
       "      <td>A-Reece, Marcus Harvey</td>\n",
       "      <td>DREAMS</td>\n",
       "      <td>REVENGE CLUB RECORDS</td>\n",
       "      <td>66</td>\n",
       "      <td>-1</td>\n",
       "      <td>1</td>\n",
       "      <td>...</td>\n",
       "      <td>2022</td>\n",
       "      <td>2022-09-22</td>\n",
       "      <td>1.663805e+09</td>\n",
       "      <td>2022-09-01</td>\n",
       "      <td>1</td>\n",
       "      <td>A-Reece</td>\n",
       "      <td>0</td>\n",
       "      <td>A-Reece, Marcus Harvey; DREAMS</td>\n",
       "      <td>0</td>\n",
       "      <td>0</td>\n",
       "    </tr>\n",
       "    <tr>\n",
       "      <th>1010</th>\n",
       "      <td>0</td>\n",
       "      <td>78</td>\n",
       "      <td>2</td>\n",
       "      <td>spotify:track:6PqdJb18ssWDcROvnsEqy6</td>\n",
       "      <td>AKA, Nasty C</td>\n",
       "      <td>Lemons (Lemonade)</td>\n",
       "      <td>Sound African Recordings</td>\n",
       "      <td>2</td>\n",
       "      <td>-1</td>\n",
       "      <td>1</td>\n",
       "      <td>...</td>\n",
       "      <td>2022</td>\n",
       "      <td>2022-09-22</td>\n",
       "      <td>1.663805e+09</td>\n",
       "      <td>2022-09-01</td>\n",
       "      <td>1</td>\n",
       "      <td>AKA</td>\n",
       "      <td>1</td>\n",
       "      <td>AKA, Nasty C; Lemons (Lemonade)</td>\n",
       "      <td>0</td>\n",
       "      <td>0</td>\n",
       "    </tr>\n",
       "    <tr>\n",
       "      <th>1094</th>\n",
       "      <td>0</td>\n",
       "      <td>0</td>\n",
       "      <td>109</td>\n",
       "      <td>spotify:track:4ucXeGcKKzubgHb932T6sl</td>\n",
       "      <td>AV</td>\n",
       "      <td>Confession</td>\n",
       "      <td>AV</td>\n",
       "      <td>67</td>\n",
       "      <td>126</td>\n",
       "      <td>33</td>\n",
       "      <td>...</td>\n",
       "      <td>2022</td>\n",
       "      <td>2022-09-29</td>\n",
       "      <td>1.664410e+09</td>\n",
       "      <td>2022-09-01</td>\n",
       "      <td>1</td>\n",
       "      <td>AV</td>\n",
       "      <td>0</td>\n",
       "      <td>AV; Confession</td>\n",
       "      <td>0</td>\n",
       "      <td>0</td>\n",
       "    </tr>\n",
       "    <tr>\n",
       "      <th>...</th>\n",
       "      <td>...</td>\n",
       "      <td>...</td>\n",
       "      <td>...</td>\n",
       "      <td>...</td>\n",
       "      <td>...</td>\n",
       "      <td>...</td>\n",
       "      <td>...</td>\n",
       "      <td>...</td>\n",
       "      <td>...</td>\n",
       "      <td>...</td>\n",
       "      <td>...</td>\n",
       "      <td>...</td>\n",
       "      <td>...</td>\n",
       "      <td>...</td>\n",
       "      <td>...</td>\n",
       "      <td>...</td>\n",
       "      <td>...</td>\n",
       "      <td>...</td>\n",
       "      <td>...</td>\n",
       "      <td>...</td>\n",
       "      <td>...</td>\n",
       "    </tr>\n",
       "    <tr>\n",
       "      <th>47451</th>\n",
       "      <td>0</td>\n",
       "      <td>1</td>\n",
       "      <td>157</td>\n",
       "      <td>spotify:track:2QWEMqQMJR1KDf6hDjJOs6</td>\n",
       "      <td>j-hope</td>\n",
       "      <td>Arson</td>\n",
       "      <td>BIGHIT MUSIC</td>\n",
       "      <td>157</td>\n",
       "      <td>-1</td>\n",
       "      <td>1</td>\n",
       "      <td>...</td>\n",
       "      <td>2022</td>\n",
       "      <td>2022-07-21</td>\n",
       "      <td>1.658362e+09</td>\n",
       "      <td>2022-07-01</td>\n",
       "      <td>1</td>\n",
       "      <td>j-hope</td>\n",
       "      <td>0</td>\n",
       "      <td>j-hope; Arson</td>\n",
       "      <td>0</td>\n",
       "      <td>0</td>\n",
       "    </tr>\n",
       "    <tr>\n",
       "      <th>47452</th>\n",
       "      <td>0</td>\n",
       "      <td>0</td>\n",
       "      <td>95</td>\n",
       "      <td>spotify:track:4XKXphKH76W4zNpkgFS5o2</td>\n",
       "      <td>j-hope</td>\n",
       "      <td>MORE</td>\n",
       "      <td>BIGHIT MUSIC</td>\n",
       "      <td>95</td>\n",
       "      <td>-1</td>\n",
       "      <td>1</td>\n",
       "      <td>...</td>\n",
       "      <td>2022</td>\n",
       "      <td>2022-07-07</td>\n",
       "      <td>1.657152e+09</td>\n",
       "      <td>2022-07-01</td>\n",
       "      <td>1</td>\n",
       "      <td>j-hope</td>\n",
       "      <td>0</td>\n",
       "      <td>j-hope; MORE</td>\n",
       "      <td>0</td>\n",
       "      <td>0</td>\n",
       "    </tr>\n",
       "    <tr>\n",
       "      <th>47461</th>\n",
       "      <td>0</td>\n",
       "      <td>0</td>\n",
       "      <td>121</td>\n",
       "      <td>spotify:track:3vXFxsPqMgw4SYP7fkWicM</td>\n",
       "      <td>melvitto, Wande Coal</td>\n",
       "      <td>Gentility</td>\n",
       "      <td>melvitto under exclusive license to Amuseio AB</td>\n",
       "      <td>12</td>\n",
       "      <td>117</td>\n",
       "      <td>24</td>\n",
       "      <td>...</td>\n",
       "      <td>2022</td>\n",
       "      <td>2022-09-29</td>\n",
       "      <td>1.664410e+09</td>\n",
       "      <td>2022-09-01</td>\n",
       "      <td>1</td>\n",
       "      <td>melvitto</td>\n",
       "      <td>0</td>\n",
       "      <td>melvitto, Wande Coal; Gentility</td>\n",
       "      <td>0</td>\n",
       "      <td>0</td>\n",
       "    </tr>\n",
       "    <tr>\n",
       "      <th>47463</th>\n",
       "      <td>0</td>\n",
       "      <td>0</td>\n",
       "      <td>165</td>\n",
       "      <td>spotify:track:4ZxL5Fi5K0nkyTmsbwPdsj</td>\n",
       "      <td>rum.gold</td>\n",
       "      <td>Call It What You Want</td>\n",
       "      <td>Leola LLC</td>\n",
       "      <td>165</td>\n",
       "      <td>-1</td>\n",
       "      <td>1</td>\n",
       "      <td>...</td>\n",
       "      <td>2022</td>\n",
       "      <td>2022-06-16</td>\n",
       "      <td>1.655338e+09</td>\n",
       "      <td>2022-06-01</td>\n",
       "      <td>1</td>\n",
       "      <td>rum.gold</td>\n",
       "      <td>0</td>\n",
       "      <td>rum.gold; Call It What You Want</td>\n",
       "      <td>0</td>\n",
       "      <td>0</td>\n",
       "    </tr>\n",
       "    <tr>\n",
       "      <th>47485</th>\n",
       "      <td>0</td>\n",
       "      <td>0</td>\n",
       "      <td>197</td>\n",
       "      <td>spotify:track:4XNO7bG8cMM21nfxcK3AIi</td>\n",
       "      <td>uLazi, Thabza Tee</td>\n",
       "      <td>Gijima</td>\n",
       "      <td>Mguzuguzu Records</td>\n",
       "      <td>197</td>\n",
       "      <td>-1</td>\n",
       "      <td>1</td>\n",
       "      <td>...</td>\n",
       "      <td>2022</td>\n",
       "      <td>2022-07-28</td>\n",
       "      <td>1.658966e+09</td>\n",
       "      <td>2022-07-01</td>\n",
       "      <td>1</td>\n",
       "      <td>uLazi</td>\n",
       "      <td>0</td>\n",
       "      <td>uLazi, Thabza Tee; Gijima</td>\n",
       "      <td>0</td>\n",
       "      <td>0</td>\n",
       "    </tr>\n",
       "  </tbody>\n",
       "</table>\n",
       "<p>464 rows × 23 columns</p>\n",
       "</div>"
      ],
      "text/plain": [
       "       trackAppearanceCount  artistAppearanceCount  rank  \\\n",
       "2                         0                      0   128   \n",
       "3                         0                      0   168   \n",
       "862                       0                     57    66   \n",
       "1010                      0                     78     2   \n",
       "1094                      0                      0   109   \n",
       "...                     ...                    ...   ...   \n",
       "47451                     0                      1   157   \n",
       "47452                     0                      0    95   \n",
       "47461                     0                      0   121   \n",
       "47463                     0                      0   165   \n",
       "47485                     0                      0   197   \n",
       "\n",
       "                                        uri  \\\n",
       "2      spotify:track:3KnHZwV1StOTvtHwpK2gK1   \n",
       "3      spotify:track:4yaPPFIafaVaMRHZ5IHkbA   \n",
       "862    spotify:track:0OHBji0Hz8o7W1TPYtk31j   \n",
       "1010   spotify:track:6PqdJb18ssWDcROvnsEqy6   \n",
       "1094   spotify:track:4ucXeGcKKzubgHb932T6sl   \n",
       "...                                     ...   \n",
       "47451  spotify:track:2QWEMqQMJR1KDf6hDjJOs6   \n",
       "47452  spotify:track:4XKXphKH76W4zNpkgFS5o2   \n",
       "47461  spotify:track:3vXFxsPqMgw4SYP7fkWicM   \n",
       "47463  spotify:track:4ZxL5Fi5K0nkyTmsbwPdsj   \n",
       "47485  spotify:track:4XNO7bG8cMM21nfxcK3AIi   \n",
       "\n",
       "                                            artist_names  \\\n",
       "2      031CHOPPA, Madumane, Focalistic, Xduppy, Kingtone   \n",
       "3                   1da Banton, Kizz Daniel, Tiwa Savage   \n",
       "862                               A-Reece, Marcus Harvey   \n",
       "1010                                        AKA, Nasty C   \n",
       "1094                                                  AV   \n",
       "...                                                  ...   \n",
       "47451                                             j-hope   \n",
       "47452                                             j-hope   \n",
       "47461                               melvitto, Wande Coal   \n",
       "47463                                           rum.gold   \n",
       "47485                                  uLazi, Thabza Tee   \n",
       "\n",
       "                  track_name                                          source  \\\n",
       "2                  Usenemali                                       031Choppa   \n",
       "3          No Wahala - Remix                         Squareball Ent. Limited   \n",
       "862                   DREAMS                            REVENGE CLUB RECORDS   \n",
       "1010       Lemons (Lemonade)                        Sound African Recordings   \n",
       "1094              Confession                                              AV   \n",
       "...                      ...                                             ...   \n",
       "47451                  Arson                                    BIGHIT MUSIC   \n",
       "47452                   MORE                                    BIGHIT MUSIC   \n",
       "47461              Gentility  melvitto under exclusive license to Amuseio AB   \n",
       "47463  Call It What You Want                                       Leola LLC   \n",
       "47485                 Gijima                               Mguzuguzu Records   \n",
       "\n",
       "       peak_rank  previous_rank  weeks_on_chart  ...  Year End Date Dt  \\\n",
       "2            128             -1               1  ...  2022  2022-09-08   \n",
       "3             38            170              30  ...  2022  2022-09-29   \n",
       "862           66             -1               1  ...  2022  2022-09-22   \n",
       "1010           2             -1               1  ...  2022  2022-09-22   \n",
       "1094          67            126              33  ...  2022  2022-09-29   \n",
       "...          ...            ...             ...  ...   ...         ...   \n",
       "47451        157             -1               1  ...  2022  2022-07-21   \n",
       "47452         95             -1               1  ...  2022  2022-07-07   \n",
       "47461         12            117              24  ...  2022  2022-09-29   \n",
       "47463        165             -1               1  ...  2022  2022-06-16   \n",
       "47485        197             -1               1  ...  2022  2022-07-28   \n",
       "\n",
       "       Seconds since Epoch  End Date Aggregated ArtistCount  main_artist  \\\n",
       "2             1.662595e+09           2022-09-01           1    031CHOPPA   \n",
       "3             1.664410e+09           2022-09-01           1   1da Banton   \n",
       "862           1.663805e+09           2022-09-01           1      A-Reece   \n",
       "1010          1.663805e+09           2022-09-01           1          AKA   \n",
       "1094          1.664410e+09           2022-09-01           1           AV   \n",
       "...                    ...                  ...         ...          ...   \n",
       "47451         1.658362e+09           2022-07-01           1       j-hope   \n",
       "47452         1.657152e+09           2022-07-01           1       j-hope   \n",
       "47461         1.664410e+09           2022-09-01           1     melvitto   \n",
       "47463         1.655338e+09           2022-06-01           1     rum.gold   \n",
       "47485         1.658966e+09           2022-07-01           1        uLazi   \n",
       "\n",
       "      isTopTen                                   Artist and Track  \\\n",
       "2            0  031CHOPPA, Madumane, Focalistic, Xduppy, Kingt...   \n",
       "3            0  1da Banton, Kizz Daniel, Tiwa Savage; No Wahal...   \n",
       "862          0                     A-Reece, Marcus Harvey; DREAMS   \n",
       "1010         1                    AKA, Nasty C; Lemons (Lemonade)   \n",
       "1094         0                                     AV; Confession   \n",
       "...        ...                                                ...   \n",
       "47451        0                                      j-hope; Arson   \n",
       "47452        0                                       j-hope; MORE   \n",
       "47461        0                    melvitto, Wande Coal; Gentility   \n",
       "47463        0                    rum.gold; Call It What You Want   \n",
       "47485        0                          uLazi, Thabza Tee; Gijima   \n",
       "\n",
       "      rank difference  Position over Time  \n",
       "2                   0                   0  \n",
       "3                   0                   0  \n",
       "862                 0                   0  \n",
       "1010                0                   0  \n",
       "1094                0                   0  \n",
       "...               ...                 ...  \n",
       "47451               0                   0  \n",
       "47452               0                   0  \n",
       "47461               0                   0  \n",
       "47463               0                   0  \n",
       "47485               0                   0  \n",
       "\n",
       "[464 rows x 23 columns]"
      ]
     },
     "execution_count": 49,
     "metadata": {},
     "output_type": "execute_result"
    }
   ],
   "source": [
    "za_data_test_first_time"
   ]
  },
  {
   "cell_type": "markdown",
   "id": "2aaa2e76",
   "metadata": {},
   "source": [
    "### Calling Linear Regression on first timers"
   ]
  },
  {
   "cell_type": "code",
   "execution_count": 50,
   "id": "7b3421be",
   "metadata": {},
   "outputs": [
    {
     "name": "stdout",
     "output_type": "stream",
     "text": [
      "464 464\n",
      "(461, 25)\n"
     ]
    }
   ],
   "source": [
    "some_artists_of_interest = [\"6LACK\", \"9umba\", \"BNXN fka Buju\", \"Black Coffee\", \"Big Zulu\"]\n",
    "\n",
    "groupednum_songs_df, first_track_position_df_relevant = findingtheentrypos(za_data_test_first_time)\n",
    "groupedmax_streams_df, groupedmin_streams_df, groupedsum_streams_df, groupedmean_streams_df = findtheMinMaxMeanStreams(za_data_test_first_time)\n",
    "groupedpos_streams_df, groupedposmax_streams_df = findtheMinMaxPositions(za_data_test_first_time)\n",
    "groupeddf, groupeddf_startpos_regress = combinedataframes(groupedmax_streams_df, groupedmin_streams_df, groupedsum_streams_df, groupedmean_streams_df, groupedpos_streams_df, groupedposmax_streams_df, groupednum_songs_df)\n",
    "filenname = \"za_test_first_time\"\n",
    "grouped_za_test_data_first_time_df = thekmeansfunc(za_data_test_first_time_df, groupeddf, groupeddf_startpos_regress, groupby_cols, filenname)\n",
    "thelabelsmade_first_time_test = grouped_za_test_data_first_time_df[\"Labels\"].unique().tolist()"
   ]
  },
  {
   "cell_type": "code",
   "execution_count": 55,
   "id": "1fee75b0",
   "metadata": {},
   "outputs": [
    {
     "name": "stdout",
     "output_type": "stream",
     "text": [
      "3 Mean squared error: 351514.37\n",
      "3 Coefficient of determination: -102.47\n",
      "1 Mean squared error: 221320455.44\n",
      "1 Coefficient of determination: -65148.03\n",
      "2 Mean squared error: 50539.57\n",
      "2 Coefficient of determination: -13.88\n",
      "0 Mean squared error: 1189423.42\n",
      "0 Coefficient of determination: -349.12\n"
     ]
    },
    {
     "ename": "AttributeError",
     "evalue": "'list' object has no attribute 'predict'",
     "output_type": "error",
     "traceback": [
      "\u001b[1;31m---------------------------------------------------------------------------\u001b[0m",
      "\u001b[1;31mAttributeError\u001b[0m                            Traceback (most recent call last)",
      "\u001b[1;32m<ipython-input-55-a50e025998b4>\u001b[0m in \u001b[0;36m<module>\u001b[1;34m\u001b[0m\n\u001b[0;32m     13\u001b[0m \u001b[0my\u001b[0m \u001b[1;33m=\u001b[0m \u001b[0mgrouped_za_test_data_first_time_df\u001b[0m\u001b[1;33m[\u001b[0m\u001b[1;34m'Min Position per Song'\u001b[0m\u001b[1;33m]\u001b[0m\u001b[1;33m\u001b[0m\u001b[1;33m\u001b[0m\u001b[0m\n\u001b[0;32m     14\u001b[0m \u001b[0mgrouped_za_test_data_first_time_df_minus\u001b[0m \u001b[1;33m=\u001b[0m \u001b[0mgrouped_za_test_data_first_time_df\u001b[0m\u001b[1;33m.\u001b[0m\u001b[0mdrop\u001b[0m\u001b[1;33m(\u001b[0m\u001b[1;33m[\u001b[0m\u001b[1;34m\"main_artist\"\u001b[0m\u001b[1;33m,\u001b[0m \u001b[1;34m\"track_name\"\u001b[0m\u001b[1;33m,\u001b[0m \u001b[1;34m\"main_art_track\"\u001b[0m\u001b[1;33m,\u001b[0m\u001b[1;34m'Min Position per Song'\u001b[0m\u001b[1;33m]\u001b[0m\u001b[1;33m,\u001b[0m \u001b[0maxis\u001b[0m\u001b[1;33m=\u001b[0m\u001b[1;36m1\u001b[0m\u001b[1;33m)\u001b[0m\u001b[1;33m\u001b[0m\u001b[1;33m\u001b[0m\u001b[0m\n\u001b[1;32m---> 15\u001b[1;33m \u001b[0mall_preds\u001b[0m \u001b[1;33m=\u001b[0m \u001b[0mmodel\u001b[0m\u001b[1;33m.\u001b[0m\u001b[0mpredict\u001b[0m\u001b[1;33m(\u001b[0m\u001b[0mgrouped_za_test_data_first_time_df_minus\u001b[0m\u001b[1;33m)\u001b[0m\u001b[1;33m\u001b[0m\u001b[1;33m\u001b[0m\u001b[0m\n\u001b[0m\u001b[0;32m     16\u001b[0m \u001b[1;33m\u001b[0m\u001b[0m\n\u001b[0;32m     17\u001b[0m \u001b[1;33m\u001b[0m\u001b[0m\n",
      "\u001b[1;31mAttributeError\u001b[0m: 'list' object has no attribute 'predict'"
     ]
    }
   ],
   "source": [
    "# model = theLinearRegressionFuncFewGrouped(grouped_za_data_df, thelabelsmade)\n",
    "\n",
    "# y = grouped_za_test_data_first_time_df['Min Position per Song']\n",
    "# grouped_za_test_data_first_time_df_minus = grouped_za_test_data_first_time_df.drop([\"main_artist\", \"track_name\", \"main_art_track\",'Min Position per Song'], axis=1)\n",
    "# all_preds = model.predict(grouped_za_test_data_first_time_df_minus)\n",
    "\n",
    "# print(\"Mean squared error: %.2f\" % mean_squared_error(y, all_preds))\n",
    "# # The coefficient of determination: 1 is perfect prediction\n",
    "# print(\"Coefficient of determination: %.2f\" % r2_score(y, all_preds))\n",
    "\n",
    "model = theLinearRegressionFuncAllGrouped(grouped_za_data_df, grouped_za_test_data_df, thelabelsmade)\n",
    "\n",
    "y = grouped_za_test_data_first_time_df['Min Position per Song']\n",
    "grouped_za_test_data_first_time_df_minus = grouped_za_test_data_first_time_df.drop([\"main_artist\", \"track_name\", \"main_art_track\",'Min Position per Song'], axis=1)\n",
    "all_preds = model.predict(grouped_za_test_data_first_time_df_minus)\n",
    "\n",
    "\n",
    "print(\"Mean squared error: %.2f\" % mean_squared_error(y, all_preds))\n",
    "# The coefficient of determination: 1 is perfect prediction\n",
    "print(\"Coefficient of determination: %.2f\" % r2_score(y, all_preds))\n",
    "\n",
    "\n",
    "\n",
    "# model = theLinearRegressionFuncAll(grouped_za_data_df, grouped_za_test_data_df)\n",
    "\n",
    "# y = grouped_za_test_data_first_time_df['Min Position per Song']\n",
    "# grouped_za_test_data_first_time_df_minus = grouped_za_test_data_first_time_df.drop([\"main_artist\", \"track_name\", \"main_art_track\",'Min Position per Song'], axis=1)\n",
    "# all_preds = model.predict(grouped_za_test_data_first_time_df_minus)\n",
    "\n",
    "\n",
    "# print(\"Mean squared error: %.2f\" % mean_squared_error(y, all_preds))\n",
    "# # The coefficient of determination: 1 is perfect prediction\n",
    "# print(\"Coefficient of determination: %.2f\" % r2_score(y, all_preds))"
   ]
  },
  {
   "cell_type": "markdown",
   "id": "d06e6704",
   "metadata": {},
   "source": [
    "### Descriptions"
   ]
  },
  {
   "cell_type": "code",
   "execution_count": null,
   "id": "be5fc570",
   "metadata": {},
   "outputs": [],
   "source": [
    "for thelabel in labels_kmeans:\n",
    "    number_ones = grouped_za_data_df[grouped_za_data_df['Labels'] == thelabel]\n",
    "    print(number_ones.shape)\n",
    "    x = number_ones['entry rank'].tolist()\n",
    "    y = number_ones['Min Position per Song'].tolist()\n",
    "\n",
    "    plt.title(thelabel)\n",
    "    plt.xlabel('entry rank')\n",
    "    plt.ylabel('Min Position per Song')\n",
    "    plt.scatter(x, y)\n",
    "    plt.show()"
   ]
  },
  {
   "cell_type": "code",
   "execution_count": null,
   "id": "27e5d8e6",
   "metadata": {},
   "outputs": [],
   "source": [
    "the_labels_more = grouped_za_data_df[\"Labels\"].unique().tolist()"
   ]
  },
  {
   "cell_type": "code",
   "execution_count": null,
   "id": "2458bde4",
   "metadata": {},
   "outputs": [],
   "source": [
    "for alabel in the_labels_more:\n",
    "    kmeans_df_zero = grouped_za_data_df[grouped_za_data_df[\"Labels\"] == alabel]\n",
    "    description = kmeans_df_zero.describe()"
   ]
  },
  {
   "cell_type": "markdown",
   "id": "6b72bf49",
   "metadata": {},
   "source": [
    "number of artists in label\n",
    "number of top 10 songs in label\n"
   ]
  },
  {
   "cell_type": "markdown",
   "id": "d2438d8f",
   "metadata": {},
   "source": [
    "### do it at an artist level but maybe in groups so that you do not need a lot of data for everyone."
   ]
  },
  {
   "cell_type": "code",
   "execution_count": null,
   "id": "f84895d0",
   "metadata": {},
   "outputs": [],
   "source": [
    "# for theartist in some_artists_of_interest:\n",
    "#     number_ones = groupeddf_startpos_regress[groupeddf_startpos_regress['main_artist'] == theartist]\n",
    "\n",
    "#     x = number_ones['entry rank'].tolist()\n",
    "#     y = number_ones['Min Position per Song'].tolist()\n",
    "\n",
    "#     plt.scatter(x, y)\n",
    "#     plt.title(theartist)\n",
    "#     plt.xlabel('entry rank')\n",
    "#     plt.ylabel('Min Position per Song')\n",
    "#     plt.show()"
   ]
  },
  {
   "cell_type": "code",
   "execution_count": 52,
   "id": "cf3c7104",
   "metadata": {},
   "outputs": [],
   "source": [
    "# number_ones = groupeddf_startpos_regress[groupeddf_startpos_regress['main_artist'] == \"salem ilese\"]\n",
    "# print(number_ones.shape)\n",
    "# x = number_ones['entry rank'].tolist()\n",
    "# y = number_ones['Min Position per Song'].tolist()\n",
    "\n",
    "# plt.scatter(x, y)\n",
    "# plt.show()"
   ]
  },
  {
   "cell_type": "code",
   "execution_count": null,
   "id": "e3290d8c",
   "metadata": {},
   "outputs": [],
   "source": []
  },
  {
   "cell_type": "code",
   "execution_count": null,
   "id": "90d720c7",
   "metadata": {},
   "outputs": [],
   "source": []
  },
  {
   "cell_type": "code",
   "execution_count": null,
   "id": "06fc8d76",
   "metadata": {},
   "outputs": [],
   "source": []
  }
 ],
 "metadata": {
  "kernelspec": {
   "display_name": "Python 3",
   "language": "python",
   "name": "python3"
  },
  "language_info": {
   "codemirror_mode": {
    "name": "ipython",
    "version": 3
   },
   "file_extension": ".py",
   "mimetype": "text/x-python",
   "name": "python",
   "nbconvert_exporter": "python",
   "pygments_lexer": "ipython3",
   "version": "3.8.10"
  }
 },
 "nbformat": 4,
 "nbformat_minor": 5
}
