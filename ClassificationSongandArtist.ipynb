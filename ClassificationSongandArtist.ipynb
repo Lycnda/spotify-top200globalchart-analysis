{
 "cells": [
  {
   "cell_type": "markdown",
   "id": "d29e0f48",
   "metadata": {},
   "source": [
    "# Feature Engineering for Classification"
   ]
  },
  {
   "cell_type": "code",
   "execution_count": 1,
   "id": "99467b43",
   "metadata": {},
   "outputs": [],
   "source": [
    "import pandas as pd\n",
    "import matplotlib.pyplot as plt\n",
    "from sklearn.metrics import mean_squared_error, r2_score\n",
    "from sklearn.linear_model import LinearRegression\n",
    "import datetime\n",
    "import re\n",
    "from datetime import datetime, timedelta\n",
    "import matplotlib.pyplot as plt\n",
    "from sklearn.cluster import KMeans\n",
    "from sklearn import linear_model\n",
    "from sklearn.preprocessing import StandardScaler\n",
    "%matplotlib inline"
   ]
  },
  {
   "cell_type": "code",
   "execution_count": 2,
   "id": "31354213",
   "metadata": {},
   "outputs": [],
   "source": [
    "za_data = pd.read_csv(\"Classification/all_files_ZAv1.csv\")"
   ]
  },
  {
   "cell_type": "code",
   "execution_count": 3,
   "id": "b1295b4b",
   "metadata": {},
   "outputs": [
    {
     "data": {
      "text/plain": [
       "Index(['trackAppearanceCount', 'artistAppearanceCount', 'rank', 'uri',\n",
       "       'artist_names', 'track_name', 'source', 'peak_rank', 'previous_rank',\n",
       "       'weeks_on_chart', 'streams', 'End Date', 'Week', 'Year', 'End Date Dt',\n",
       "       'Seconds since Epoch', 'End Date Aggregated', 'ArtistCount',\n",
       "       'main_artist', 'isTopTen', 'Artist and Track', 'rank difference',\n",
       "       'Position over Time'],\n",
       "      dtype='object')"
      ]
     },
     "execution_count": 3,
     "metadata": {},
     "output_type": "execute_result"
    }
   ],
   "source": [
    "za_data.columns"
   ]
  },
  {
   "cell_type": "code",
   "execution_count": 4,
   "id": "0ee6f42e",
   "metadata": {},
   "outputs": [
    {
     "data": {
      "text/plain": [
       "23"
      ]
     },
     "execution_count": 4,
     "metadata": {},
     "output_type": "execute_result"
    }
   ],
   "source": [
    "len(list(za_data.columns))"
   ]
  },
  {
   "cell_type": "code",
   "execution_count": 5,
   "id": "537d20de",
   "metadata": {},
   "outputs": [],
   "source": [
    "za_data[\"End Date Dt\"] = za_data[\"End Date Dt\"].apply(lambda x : datetime.strptime(x, '%Y-%m-%d'))"
   ]
  },
  {
   "cell_type": "code",
   "execution_count": 6,
   "id": "14f21b1f",
   "metadata": {},
   "outputs": [
    {
     "data": {
      "text/plain": [
       "(53686, 23)"
      ]
     },
     "execution_count": 6,
     "metadata": {},
     "output_type": "execute_result"
    }
   ],
   "source": [
    "za_data.shape"
   ]
  },
  {
   "cell_type": "code",
   "execution_count": 7,
   "id": "c6b8b1fd",
   "metadata": {},
   "outputs": [],
   "source": [
    "za_data_test = za_data[za_data['End Date Dt'] > datetime(2022, 5, 26)]\n",
    "\n",
    "za_data_test_first_time = za_data_test[za_data_test[\"trackAppearanceCount\"] == 0]\n",
    "za_data_test_first_time_df = za_data_test_first_time[['main_artist', 'track_name', \"trackAppearanceCount\", \"artistAppearanceCount\", \"rank\", \"peak_rank\", 'previous_rank', 'weeks_on_chart', 'streams', 'ArtistCount', 'isTopTen', 'rank difference']]\n",
    "\n",
    "\n",
    "za_data_test = za_data_test[za_data_test[\"trackAppearanceCount\"] != 0]\n",
    "za_data = za_data[za_data['End Date Dt'] <= datetime(2022, 5, 26)]"
   ]
  },
  {
   "cell_type": "code",
   "execution_count": 8,
   "id": "ccd6cfe1",
   "metadata": {},
   "outputs": [],
   "source": [
    "za_data_df = za_data[['main_artist', 'track_name', \"trackAppearanceCount\", \"artistAppearanceCount\", \"rank\", \"peak_rank\", 'previous_rank', 'weeks_on_chart', 'streams', 'ArtistCount', 'isTopTen', 'rank difference']]\n",
    "za_data_test_df = za_data_test[['main_artist', 'track_name', \"trackAppearanceCount\", \"artistAppearanceCount\", \"rank\", \"peak_rank\", 'previous_rank', 'weeks_on_chart', 'streams', 'ArtistCount', 'isTopTen', 'rank difference']]"
   ]
  },
  {
   "cell_type": "code",
   "execution_count": 9,
   "id": "c0bd9ec0",
   "metadata": {},
   "outputs": [],
   "source": [
    "# za_data[\"End Date\"].unique().tolist()"
   ]
  },
  {
   "cell_type": "code",
   "execution_count": null,
   "id": "cad1d76b",
   "metadata": {},
   "outputs": [],
   "source": []
  },
  {
   "cell_type": "code",
   "execution_count": 10,
   "id": "a098d4cc",
   "metadata": {},
   "outputs": [],
   "source": [
    "groupby_cols = ['main_artist', 'track_name']"
   ]
  },
  {
   "cell_type": "code",
   "execution_count": 11,
   "id": "2676061d",
   "metadata": {},
   "outputs": [
    {
     "data": {
      "text/html": [
       "<div>\n",
       "<style scoped>\n",
       "    .dataframe tbody tr th:only-of-type {\n",
       "        vertical-align: middle;\n",
       "    }\n",
       "\n",
       "    .dataframe tbody tr th {\n",
       "        vertical-align: top;\n",
       "    }\n",
       "\n",
       "    .dataframe thead th {\n",
       "        text-align: right;\n",
       "    }\n",
       "</style>\n",
       "<table border=\"1\" class=\"dataframe\">\n",
       "  <thead>\n",
       "    <tr style=\"text-align: right;\">\n",
       "      <th></th>\n",
       "      <th>trackAppearanceCount</th>\n",
       "      <th>artistAppearanceCount</th>\n",
       "      <th>rank</th>\n",
       "      <th>uri</th>\n",
       "      <th>artist_names</th>\n",
       "      <th>track_name</th>\n",
       "      <th>source</th>\n",
       "      <th>peak_rank</th>\n",
       "      <th>previous_rank</th>\n",
       "      <th>weeks_on_chart</th>\n",
       "      <th>...</th>\n",
       "      <th>Year</th>\n",
       "      <th>End Date Dt</th>\n",
       "      <th>Seconds since Epoch</th>\n",
       "      <th>End Date Aggregated</th>\n",
       "      <th>ArtistCount</th>\n",
       "      <th>main_artist</th>\n",
       "      <th>isTopTen</th>\n",
       "      <th>Artist and Track</th>\n",
       "      <th>rank difference</th>\n",
       "      <th>Position over Time</th>\n",
       "    </tr>\n",
       "  </thead>\n",
       "  <tbody>\n",
       "    <tr>\n",
       "      <th>2</th>\n",
       "      <td>0</td>\n",
       "      <td>0</td>\n",
       "      <td>128</td>\n",
       "      <td>spotify:track:3KnHZwV1StOTvtHwpK2gK1</td>\n",
       "      <td>031CHOPPA, Madumane, Focalistic, Xduppy, Kingtone</td>\n",
       "      <td>Usenemali</td>\n",
       "      <td>031Choppa</td>\n",
       "      <td>128</td>\n",
       "      <td>-1</td>\n",
       "      <td>1</td>\n",
       "      <td>...</td>\n",
       "      <td>2022</td>\n",
       "      <td>2022-09-08</td>\n",
       "      <td>1.662595e+09</td>\n",
       "      <td>2022-09-01</td>\n",
       "      <td>1</td>\n",
       "      <td>031CHOPPA</td>\n",
       "      <td>0</td>\n",
       "      <td>031CHOPPA, Madumane, Focalistic, Xduppy, Kingt...</td>\n",
       "      <td>0</td>\n",
       "      <td>0</td>\n",
       "    </tr>\n",
       "    <tr>\n",
       "      <th>14</th>\n",
       "      <td>0</td>\n",
       "      <td>97</td>\n",
       "      <td>23</td>\n",
       "      <td>spotify:track:1MTXYvJ9TSqg9x6WPCDx2n</td>\n",
       "      <td>21 Savage</td>\n",
       "      <td>3AM on Glenwood</td>\n",
       "      <td>OVO / Republic Records</td>\n",
       "      <td>23</td>\n",
       "      <td>-1</td>\n",
       "      <td>1</td>\n",
       "      <td>...</td>\n",
       "      <td>2022</td>\n",
       "      <td>2022-11-10</td>\n",
       "      <td>1.668038e+09</td>\n",
       "      <td>2022-11-01</td>\n",
       "      <td>1</td>\n",
       "      <td>21 Savage</td>\n",
       "      <td>0</td>\n",
       "      <td>21 Savage; 3AM on Glenwood</td>\n",
       "      <td>0</td>\n",
       "      <td>0</td>\n",
       "    </tr>\n",
       "    <tr>\n",
       "      <th>251</th>\n",
       "      <td>0</td>\n",
       "      <td>0</td>\n",
       "      <td>38</td>\n",
       "      <td>spotify:track:0AY3sNqV7qAdAZ8j6TRVBd</td>\n",
       "      <td>2Point1, Ntate Stunna, Nthabi Sings</td>\n",
       "      <td>Stimela</td>\n",
       "      <td>Penya Play Productions</td>\n",
       "      <td>38</td>\n",
       "      <td>-1</td>\n",
       "      <td>1</td>\n",
       "      <td>...</td>\n",
       "      <td>2022</td>\n",
       "      <td>2022-12-29</td>\n",
       "      <td>1.672272e+09</td>\n",
       "      <td>2022-12-01</td>\n",
       "      <td>1</td>\n",
       "      <td>2Point1</td>\n",
       "      <td>1</td>\n",
       "      <td>2Point1, Ntate Stunna, Nthabi Sings; Stimela</td>\n",
       "      <td>0</td>\n",
       "      <td>0</td>\n",
       "    </tr>\n",
       "    <tr>\n",
       "      <th>918</th>\n",
       "      <td>0</td>\n",
       "      <td>58</td>\n",
       "      <td>10</td>\n",
       "      <td>spotify:track:6wuIh8EH2MYLI5su3FZ935</td>\n",
       "      <td>A-Reece</td>\n",
       "      <td>BAD GUY</td>\n",
       "      <td>REVENGE CLUB RECORDS</td>\n",
       "      <td>10</td>\n",
       "      <td>-1</td>\n",
       "      <td>1</td>\n",
       "      <td>...</td>\n",
       "      <td>2022</td>\n",
       "      <td>2022-10-27</td>\n",
       "      <td>1.666829e+09</td>\n",
       "      <td>2022-10-01</td>\n",
       "      <td>1</td>\n",
       "      <td>A-Reece</td>\n",
       "      <td>1</td>\n",
       "      <td>A-Reece; BAD GUY</td>\n",
       "      <td>0</td>\n",
       "      <td>0</td>\n",
       "    </tr>\n",
       "    <tr>\n",
       "      <th>921</th>\n",
       "      <td>0</td>\n",
       "      <td>59</td>\n",
       "      <td>19</td>\n",
       "      <td>spotify:track:2T8zFhRIoj0v4sD9YoZDW8</td>\n",
       "      <td>A-Reece, Emtee</td>\n",
       "      <td>BIGGER THAN ME</td>\n",
       "      <td>REVENGE CLUB RECORDS</td>\n",
       "      <td>19</td>\n",
       "      <td>-1</td>\n",
       "      <td>1</td>\n",
       "      <td>...</td>\n",
       "      <td>2022</td>\n",
       "      <td>2022-10-27</td>\n",
       "      <td>1.666829e+09</td>\n",
       "      <td>2022-10-01</td>\n",
       "      <td>1</td>\n",
       "      <td>A-Reece</td>\n",
       "      <td>0</td>\n",
       "      <td>A-Reece, Emtee; BIGGER THAN ME</td>\n",
       "      <td>0</td>\n",
       "      <td>0</td>\n",
       "    </tr>\n",
       "    <tr>\n",
       "      <th>...</th>\n",
       "      <td>...</td>\n",
       "      <td>...</td>\n",
       "      <td>...</td>\n",
       "      <td>...</td>\n",
       "      <td>...</td>\n",
       "      <td>...</td>\n",
       "      <td>...</td>\n",
       "      <td>...</td>\n",
       "      <td>...</td>\n",
       "      <td>...</td>\n",
       "      <td>...</td>\n",
       "      <td>...</td>\n",
       "      <td>...</td>\n",
       "      <td>...</td>\n",
       "      <td>...</td>\n",
       "      <td>...</td>\n",
       "      <td>...</td>\n",
       "      <td>...</td>\n",
       "      <td>...</td>\n",
       "      <td>...</td>\n",
       "      <td>...</td>\n",
       "    </tr>\n",
       "    <tr>\n",
       "      <th>53644</th>\n",
       "      <td>0</td>\n",
       "      <td>0</td>\n",
       "      <td>95</td>\n",
       "      <td>spotify:track:4XKXphKH76W4zNpkgFS5o2</td>\n",
       "      <td>j-hope</td>\n",
       "      <td>MORE</td>\n",
       "      <td>BIGHIT MUSIC</td>\n",
       "      <td>95</td>\n",
       "      <td>-1</td>\n",
       "      <td>1</td>\n",
       "      <td>...</td>\n",
       "      <td>2022</td>\n",
       "      <td>2022-07-07</td>\n",
       "      <td>1.657152e+09</td>\n",
       "      <td>2022-07-01</td>\n",
       "      <td>1</td>\n",
       "      <td>j-hope</td>\n",
       "      <td>0</td>\n",
       "      <td>j-hope; MORE</td>\n",
       "      <td>0</td>\n",
       "      <td>0</td>\n",
       "    </tr>\n",
       "    <tr>\n",
       "      <th>53646</th>\n",
       "      <td>0</td>\n",
       "      <td>3</td>\n",
       "      <td>59</td>\n",
       "      <td>spotify:track:5wxYxygyHpbgv0EXZuqb9V</td>\n",
       "      <td>j-hope, J. Cole</td>\n",
       "      <td>on the street (with J. Cole)</td>\n",
       "      <td>BIGHIT MUSIC</td>\n",
       "      <td>59</td>\n",
       "      <td>-1</td>\n",
       "      <td>1</td>\n",
       "      <td>...</td>\n",
       "      <td>2023</td>\n",
       "      <td>2023-03-09</td>\n",
       "      <td>1.678320e+09</td>\n",
       "      <td>2023-03-01</td>\n",
       "      <td>1</td>\n",
       "      <td>j-hope</td>\n",
       "      <td>0</td>\n",
       "      <td>j-hope, J. Cole; on the street (with J. Cole)</td>\n",
       "      <td>0</td>\n",
       "      <td>0</td>\n",
       "    </tr>\n",
       "    <tr>\n",
       "      <th>53657</th>\n",
       "      <td>0</td>\n",
       "      <td>0</td>\n",
       "      <td>165</td>\n",
       "      <td>spotify:track:4ZxL5Fi5K0nkyTmsbwPdsj</td>\n",
       "      <td>rum.gold</td>\n",
       "      <td>Call It What You Want</td>\n",
       "      <td>Leola LLC</td>\n",
       "      <td>165</td>\n",
       "      <td>-1</td>\n",
       "      <td>1</td>\n",
       "      <td>...</td>\n",
       "      <td>2022</td>\n",
       "      <td>2022-06-16</td>\n",
       "      <td>1.655338e+09</td>\n",
       "      <td>2022-06-01</td>\n",
       "      <td>1</td>\n",
       "      <td>rum.gold</td>\n",
       "      <td>0</td>\n",
       "      <td>rum.gold; Call It What You Want</td>\n",
       "      <td>0</td>\n",
       "      <td>0</td>\n",
       "    </tr>\n",
       "    <tr>\n",
       "      <th>53679</th>\n",
       "      <td>0</td>\n",
       "      <td>0</td>\n",
       "      <td>197</td>\n",
       "      <td>spotify:track:4XNO7bG8cMM21nfxcK3AIi</td>\n",
       "      <td>uLazi, Thabza Tee</td>\n",
       "      <td>Gijima</td>\n",
       "      <td>Mguzuguzu Records</td>\n",
       "      <td>197</td>\n",
       "      <td>-1</td>\n",
       "      <td>1</td>\n",
       "      <td>...</td>\n",
       "      <td>2022</td>\n",
       "      <td>2022-07-28</td>\n",
       "      <td>1.658966e+09</td>\n",
       "      <td>2022-07-01</td>\n",
       "      <td>1</td>\n",
       "      <td>uLazi</td>\n",
       "      <td>0</td>\n",
       "      <td>uLazi, Thabza Tee; Gijima</td>\n",
       "      <td>0</td>\n",
       "      <td>0</td>\n",
       "    </tr>\n",
       "    <tr>\n",
       "      <th>53680</th>\n",
       "      <td>0</td>\n",
       "      <td>1</td>\n",
       "      <td>118</td>\n",
       "      <td>spotify:track:37ISMEYWqhRHcPEitHn8Er</td>\n",
       "      <td>uLazi, Infinity MusiQ</td>\n",
       "      <td>yey</td>\n",
       "      <td>Mguzuguzu Records</td>\n",
       "      <td>118</td>\n",
       "      <td>-1</td>\n",
       "      <td>1</td>\n",
       "      <td>...</td>\n",
       "      <td>2023</td>\n",
       "      <td>2023-04-06</td>\n",
       "      <td>1.680739e+09</td>\n",
       "      <td>2023-04-01</td>\n",
       "      <td>1</td>\n",
       "      <td>uLazi</td>\n",
       "      <td>0</td>\n",
       "      <td>uLazi, Infinity MusiQ; yey</td>\n",
       "      <td>0</td>\n",
       "      <td>0</td>\n",
       "    </tr>\n",
       "  </tbody>\n",
       "</table>\n",
       "<p>727 rows × 23 columns</p>\n",
       "</div>"
      ],
      "text/plain": [
       "       trackAppearanceCount  artistAppearanceCount  rank  \\\n",
       "2                         0                      0   128   \n",
       "14                        0                     97    23   \n",
       "251                       0                      0    38   \n",
       "918                       0                     58    10   \n",
       "921                       0                     59    19   \n",
       "...                     ...                    ...   ...   \n",
       "53644                     0                      0    95   \n",
       "53646                     0                      3    59   \n",
       "53657                     0                      0   165   \n",
       "53679                     0                      0   197   \n",
       "53680                     0                      1   118   \n",
       "\n",
       "                                        uri  \\\n",
       "2      spotify:track:3KnHZwV1StOTvtHwpK2gK1   \n",
       "14     spotify:track:1MTXYvJ9TSqg9x6WPCDx2n   \n",
       "251    spotify:track:0AY3sNqV7qAdAZ8j6TRVBd   \n",
       "918    spotify:track:6wuIh8EH2MYLI5su3FZ935   \n",
       "921    spotify:track:2T8zFhRIoj0v4sD9YoZDW8   \n",
       "...                                     ...   \n",
       "53644  spotify:track:4XKXphKH76W4zNpkgFS5o2   \n",
       "53646  spotify:track:5wxYxygyHpbgv0EXZuqb9V   \n",
       "53657  spotify:track:4ZxL5Fi5K0nkyTmsbwPdsj   \n",
       "53679  spotify:track:4XNO7bG8cMM21nfxcK3AIi   \n",
       "53680  spotify:track:37ISMEYWqhRHcPEitHn8Er   \n",
       "\n",
       "                                            artist_names  \\\n",
       "2      031CHOPPA, Madumane, Focalistic, Xduppy, Kingtone   \n",
       "14                                             21 Savage   \n",
       "251                  2Point1, Ntate Stunna, Nthabi Sings   \n",
       "918                                              A-Reece   \n",
       "921                                       A-Reece, Emtee   \n",
       "...                                                  ...   \n",
       "53644                                             j-hope   \n",
       "53646                                    j-hope, J. Cole   \n",
       "53657                                           rum.gold   \n",
       "53679                                  uLazi, Thabza Tee   \n",
       "53680                              uLazi, Infinity MusiQ   \n",
       "\n",
       "                         track_name                  source  peak_rank  \\\n",
       "2                         Usenemali               031Choppa        128   \n",
       "14                  3AM on Glenwood  OVO / Republic Records         23   \n",
       "251                         Stimela  Penya Play Productions         38   \n",
       "918                         BAD GUY    REVENGE CLUB RECORDS         10   \n",
       "921                  BIGGER THAN ME    REVENGE CLUB RECORDS         19   \n",
       "...                             ...                     ...        ...   \n",
       "53644                          MORE            BIGHIT MUSIC         95   \n",
       "53646  on the street (with J. Cole)            BIGHIT MUSIC         59   \n",
       "53657         Call It What You Want               Leola LLC        165   \n",
       "53679                        Gijima       Mguzuguzu Records        197   \n",
       "53680                           yey       Mguzuguzu Records        118   \n",
       "\n",
       "       previous_rank  weeks_on_chart  ...  Year End Date Dt  \\\n",
       "2                 -1               1  ...  2022  2022-09-08   \n",
       "14                -1               1  ...  2022  2022-11-10   \n",
       "251               -1               1  ...  2022  2022-12-29   \n",
       "918               -1               1  ...  2022  2022-10-27   \n",
       "921               -1               1  ...  2022  2022-10-27   \n",
       "...              ...             ...  ...   ...         ...   \n",
       "53644             -1               1  ...  2022  2022-07-07   \n",
       "53646             -1               1  ...  2023  2023-03-09   \n",
       "53657             -1               1  ...  2022  2022-06-16   \n",
       "53679             -1               1  ...  2022  2022-07-28   \n",
       "53680             -1               1  ...  2023  2023-04-06   \n",
       "\n",
       "       Seconds since Epoch  End Date Aggregated ArtistCount  main_artist  \\\n",
       "2             1.662595e+09           2022-09-01           1    031CHOPPA   \n",
       "14            1.668038e+09           2022-11-01           1    21 Savage   \n",
       "251           1.672272e+09           2022-12-01           1      2Point1   \n",
       "918           1.666829e+09           2022-10-01           1      A-Reece   \n",
       "921           1.666829e+09           2022-10-01           1      A-Reece   \n",
       "...                    ...                  ...         ...          ...   \n",
       "53644         1.657152e+09           2022-07-01           1       j-hope   \n",
       "53646         1.678320e+09           2023-03-01           1       j-hope   \n",
       "53657         1.655338e+09           2022-06-01           1     rum.gold   \n",
       "53679         1.658966e+09           2022-07-01           1        uLazi   \n",
       "53680         1.680739e+09           2023-04-01           1        uLazi   \n",
       "\n",
       "      isTopTen                                   Artist and Track  \\\n",
       "2            0  031CHOPPA, Madumane, Focalistic, Xduppy, Kingt...   \n",
       "14           0                         21 Savage; 3AM on Glenwood   \n",
       "251          1       2Point1, Ntate Stunna, Nthabi Sings; Stimela   \n",
       "918          1                                   A-Reece; BAD GUY   \n",
       "921          0                     A-Reece, Emtee; BIGGER THAN ME   \n",
       "...        ...                                                ...   \n",
       "53644        0                                       j-hope; MORE   \n",
       "53646        0      j-hope, J. Cole; on the street (with J. Cole)   \n",
       "53657        0                    rum.gold; Call It What You Want   \n",
       "53679        0                          uLazi, Thabza Tee; Gijima   \n",
       "53680        0                         uLazi, Infinity MusiQ; yey   \n",
       "\n",
       "      rank difference  Position over Time  \n",
       "2                   0                   0  \n",
       "14                  0                   0  \n",
       "251                 0                   0  \n",
       "918                 0                   0  \n",
       "921                 0                   0  \n",
       "...               ...                 ...  \n",
       "53644               0                   0  \n",
       "53646               0                   0  \n",
       "53657               0                   0  \n",
       "53679               0                   0  \n",
       "53680               0                   0  \n",
       "\n",
       "[727 rows x 23 columns]"
      ]
     },
     "execution_count": 11,
     "metadata": {},
     "output_type": "execute_result"
    }
   ],
   "source": [
    "za_data_test_first_time"
   ]
  },
  {
   "cell_type": "markdown",
   "id": "713f4af7",
   "metadata": {},
   "source": [
    "### 0. Entry Position into Chart"
   ]
  },
  {
   "cell_type": "code",
   "execution_count": 12,
   "id": "8646c4ea",
   "metadata": {},
   "outputs": [],
   "source": [
    "def findingtheentrypos(za_data):\n",
    "    \n",
    "    groupednum_songs = za_data.groupby(groupby_cols)[\"End Date\"].agg(\"min\")\n",
    "    groupednum_songs_df = pd.DataFrame(groupednum_songs).reset_index()\n",
    "    groupednum_songs_df.columns = groupby_cols + [\"Artist Song Start Date\"]\n",
    "    \n",
    "    groupednum_songs_df = groupednum_songs_df.drop_duplicates()\n",
    "    groupednum_songs_df.shape\n",
    "    \n",
    "    groupednum_songs_ls = groupednum_songs_df.values.tolist()\n",
    "    \n",
    "    thefirstones = []\n",
    "    for artsongls in groupednum_songs_ls:\n",
    "        theartist = artsongls[0]\n",
    "        thetrack = artsongls[1]\n",
    "        thestartdate = artsongls[2]\n",
    "        thefirstones.append(za_data[(za_data[\"main_artist\"] == theartist) & (za_data[\"track_name\"] == thetrack) & (za_data[\"End Date\"] == thestartdate)])\n",
    "        \n",
    "    first_track_position_df = pd.concat(thefirstones)\n",
    "    \n",
    "    first_track_position_df_relevant = first_track_position_df[[\"main_artist\", \"track_name\", \"rank\", \"End Date\"]]\n",
    "    first_track_position_df_relevant.columns = [\"main_artist\", \"track_name\", \"entry rank\", \"End Date\"]\n",
    "    \n",
    "    groupednum_songs = za_data.groupby(groupby_cols)[\"End Date\"].agg(\"count\")\n",
    "    groupednum_songs_df = pd.DataFrame(groupednum_songs).reset_index()\n",
    "    groupednum_songs_df.columns = groupby_cols + [\"Artist Song Count\"]\n",
    "    \n",
    "    return groupednum_songs_df, first_track_position_df_relevant"
   ]
  },
  {
   "cell_type": "markdown",
   "id": "2681298a",
   "metadata": {},
   "source": [
    "### 1. Streams"
   ]
  },
  {
   "cell_type": "code",
   "execution_count": 13,
   "id": "946c6ce1",
   "metadata": {},
   "outputs": [],
   "source": [
    "def findtheMinMaxMeanStreams(za_data):\n",
    "    groupedmax_streams = za_data.groupby(groupby_cols)[\"streams\"].agg(\"max\")\n",
    "    groupedmax_streams_df = pd.DataFrame(groupedmax_streams).reset_index()\n",
    "    groupedmax_streams_df.columns = groupby_cols + [\"Max Streams per Song\"]\n",
    "    \n",
    "    groupedmin_streams = za_data.groupby(groupby_cols)[\"streams\"].agg(\"min\")\n",
    "    groupedmin_streams_df = pd.DataFrame(groupedmin_streams).reset_index()\n",
    "    groupedmin_streams_df.columns = groupby_cols + [\"Min Streams per Song\"]\n",
    "    \n",
    "    groupedsum_streams = za_data.groupby(groupby_cols)[\"streams\"].agg(\"sum\")\n",
    "    groupedsum_streams_df = pd.DataFrame(groupedsum_streams).reset_index()\n",
    "    groupedsum_streams_df.columns = groupby_cols + [\"Total Streams per Song\"]\n",
    "\n",
    "    groupedmean_streams = za_data.groupby(groupby_cols)[\"streams\"].agg(\"mean\")\n",
    "    groupedmean_streams_df = pd.DataFrame(groupedmean_streams).reset_index()\n",
    "    groupedmean_streams_df.columns = groupby_cols + [\"Mean Streams per Song\"]\n",
    "    \n",
    "    return groupedmax_streams_df, groupedmin_streams_df, groupedsum_streams_df, groupedmean_streams_df"
   ]
  },
  {
   "cell_type": "markdown",
   "id": "fe7fb879",
   "metadata": {},
   "source": [
    "### 2. Positions"
   ]
  },
  {
   "cell_type": "code",
   "execution_count": 14,
   "id": "37b2e784",
   "metadata": {},
   "outputs": [],
   "source": [
    "def findtheMinMaxPositions(za_data):\n",
    "    groupedpos_streams = za_data.groupby(groupby_cols)[\"rank\"].agg(\"min\")\n",
    "    groupedpos_streams_df = pd.DataFrame(groupedpos_streams).reset_index()\n",
    "    groupedpos_streams_df.columns = groupby_cols + [\"Min Position per Song\"]\n",
    "\n",
    "    groupedposmax_streams = za_data.groupby(groupby_cols)[\"rank\"].agg(\"max\")\n",
    "    groupedposmax_streams_df = pd.DataFrame(groupedposmax_streams).reset_index()\n",
    "    groupedposmax_streams_df.columns = groupby_cols + [\"Max Position per Song\"]\n",
    "    \n",
    "    return groupedpos_streams_df, groupedposmax_streams_df"
   ]
  },
  {
   "cell_type": "markdown",
   "id": "c7413f3f",
   "metadata": {},
   "source": [
    "### 3. Dates"
   ]
  },
  {
   "cell_type": "markdown",
   "id": "b6b9acbd",
   "metadata": {},
   "source": [
    "## Combine the dfs"
   ]
  },
  {
   "cell_type": "code",
   "execution_count": 15,
   "id": "80ca1cdc",
   "metadata": {},
   "outputs": [],
   "source": [
    "def combinedataframes(groupedmax_streams_df, groupedmin_streams_df, groupedsum_streams_df, groupedmean_streams_df, groupedpos_streams_df, groupedposmax_streams_df, groupednum_songs_df):\n",
    "    groupeddf = groupedmax_streams_df\n",
    "    \n",
    "    groupeddf[\"Min Streams per Song\"] = groupedmin_streams_df[\"Min Streams per Song\"]\n",
    "    groupeddf[\"Total Streams per Song\"] = groupedsum_streams_df[\"Total Streams per Song\"]\n",
    "    groupeddf[\"Mean Streams per Song\"]= groupedmean_streams_df[\"Mean Streams per Song\"]\n",
    "    groupeddf[\"Min Position per Song\"] = groupedpos_streams_df[\"Min Position per Song\"]\n",
    "    groupeddf[\"Max Position per Song\"] = groupedposmax_streams_df[\"Max Position per Song\"]\n",
    "    groupeddf[\"Artist Song Count\"] = groupednum_songs_df[\"Artist Song Count\"]\n",
    "    \n",
    "    groupeddf[\"MaxMin Difference Position\"] = groupeddf[\"Max Position per Song\"] - groupeddf[\"Min Position per Song\"]\n",
    "    groupeddf[\"MaxMin Difference Streams\"] = groupeddf[\"Max Streams per Song\"] - groupeddf[\"Min Streams per Song\"]\n",
    "    \n",
    "    groupeddf[\"MaxMin Ratio Position\"] = groupeddf[\"Max Position per Song\"] / groupeddf[\"Min Position per Song\"]\n",
    "    groupeddf[\"MaxMin Ratio Streams\"] = groupeddf[\"Max Streams per Song\"] / groupeddf[\"Min Streams per Song\"]\n",
    "    \n",
    "    groupeddf.drop([\"Max Position per Song\"], inplace=True, axis=1)\n",
    "    \n",
    "    groupeddf_startpos = groupeddf.merge(first_track_position_df_relevant[[\"main_artist\", \"track_name\", \"entry rank\"]], left_on=[\"main_artist\", \"track_name\"], right_on=[\"main_artist\", \"track_name\"], how=\"inner\")\n",
    "    \n",
    "    groupeddf_startpos[\"main_art_track\"] = groupeddf_startpos[\"main_artist\"] + groupeddf_startpos[\"track_name\"]\n",
    "    \n",
    "    groupeddf_startpos_regress = groupeddf_startpos[['main_artist', \"main_art_track\", 'entry rank', 'Min Position per Song']].drop_duplicates()\n",
    "    \n",
    "    return groupeddf, groupeddf_startpos_regress\n",
    "    "
   ]
  },
  {
   "cell_type": "markdown",
   "id": "c8bc6fdb",
   "metadata": {},
   "source": [
    "### THE KMEANS"
   ]
  },
  {
   "cell_type": "code",
   "execution_count": 16,
   "id": "b7d677be",
   "metadata": {},
   "outputs": [],
   "source": [
    "def thekmeansfunc(za_data_df, groupeddf, groupeddf_startpos_regress, groupby_cols, filenname):\n",
    "    grouped_za_data_df = za_data_df.merge(groupeddf, left_on=[\"main_artist\", \"track_name\"], right_on=[\"main_artist\", \"track_name\"], how=\"inner\")\n",
    "    \n",
    "    train_groupeddf = grouped_za_data_df.drop(groupby_cols, axis=1)\n",
    "    \n",
    "    kmeans = KMeans(n_clusters=4, random_state=0).fit(train_groupeddf)\n",
    "    \n",
    "    allklabels = kmeans.labels_\n",
    "    \n",
    "    print(len(grouped_za_data_df), len(train_groupeddf))\n",
    "    \n",
    "    grouped_za_data_df[\"Labels\"] = allklabels\n",
    "    \n",
    "    other_cols = [\"Min Streams per Song\", \"Total Streams per Song\", \"Mean Streams per Song\", \"Min Position per Song\", \"Artist Song Count\", \"MaxMin Ratio Position\", \"MaxMin Ratio Streams\", \"MaxMin Difference Position\", \"MaxMin Difference Streams\"]\n",
    "    \n",
    "    for col in other_cols:\n",
    "        grouped_za_data_df[col] = groupeddf[col]\n",
    "        \n",
    "    grouped_za_data_df.to_csv(\"grouped_za_data_df\" + filenname +\".csv\", index=False)\n",
    "    \n",
    "    grouped_za_data_df[\"main_art_track\"] = grouped_za_data_df[\"main_artist\"] + grouped_za_data_df[\"track_name\"]\n",
    "    \n",
    "    grouped_za_data_df = grouped_za_data_df.merge(groupeddf_startpos_regress, left_on=[\"main_art_track\"], right_on=[\"main_art_track\"], how=\"left\")\n",
    "    \n",
    "    grouped_za_data_df.columns = ['main_artist', 'track_name', 'trackAppearanceCount', 'artistAppearanceCount', 'rank', 'peak_rank', 'previous_rank','weeks_on_chart', 'streams', 'ArtistCount', 'isTopTen', 'rank difference', 'Max Streams per Song', 'Min Streams per Song', 'Total Streams per Song', 'Mean Streams per Song', 'Min Position per Song', 'Artist Song Count','MaxMin Difference Position', 'MaxMin Difference Streams','MaxMin Ratio Position', 'MaxMin Ratio Streams', 'Labels', 'main_art_track', 'main_artist_y', 'entry rank', 'Min Position per Song_y']\n",
    "    \n",
    "    grouped_za_data_df.drop(['main_artist_y', 'Min Position per Song_y'], axis=1, inplace=True)\n",
    "    \n",
    "    labels_kmeans = grouped_za_data_df['Labels'].unique().tolist()\n",
    "    \n",
    "    grouped_za_data_df = grouped_za_data_df.dropna()\n",
    "    \n",
    "    print(grouped_za_data_df.shape)\n",
    "    grouped_za_data_df = grouped_za_data_df.drop_duplicates()\n",
    "    grouped_za_data_df.to_csv(\"grouped_za_data_df.csv\", index=False)\n",
    "\n",
    "    \n",
    "    return grouped_za_data_df"
   ]
  },
  {
   "cell_type": "markdown",
   "id": "33153e76",
   "metadata": {},
   "source": [
    "### Linear Regression"
   ]
  },
  {
   "cell_type": "code",
   "execution_count": 17,
   "id": "d6cdaeaa",
   "metadata": {},
   "outputs": [],
   "source": [
    "def theLinearRegressionFuncFewGrouped(grouped_za_data_df, grouped_za_test_data_df, thelabelsmade):\n",
    "    all_results = []\n",
    "    for alabel in thelabelsmade:\n",
    "\n",
    "        pred_df_one = grouped_za_data_df[grouped_za_data_df[\"Labels\"] == alabel]\n",
    "\n",
    "#         pred_df_one = pred_df_one.drop([\"main_artist\", \"track_name\", \"main_art_track\"], axis=1)\n",
    "\n",
    "        # Build linear regression model using TV and Radio as predictors\n",
    "        # Split data into predictors X and output Y\n",
    "#         predictors = list(pred_df_one.columns)\n",
    "#         predictors = ['Artist Song Count', 'Total Streams per Song', 'Min Streams per Song', 'MaxMin Difference Position', 'MaxMin Ratio Streams']\n",
    "        \n",
    "        X = pred_df_one\n",
    "        X = X.drop(['Min Position per Song'],axis=1)\n",
    "        y = pred_df_one['Min Position per Song']\n",
    "\n",
    "        # Initialise and fit model\n",
    "        lm = LinearRegression()\n",
    "        model = lm.fit(X, y)\n",
    "\n",
    "        grouped_za_test_data_df_few = grouped_za_test_data_df[['Min Position per Song', 'Artist Song Count', 'Total Streams per Song', 'Min Streams per Song', 'MaxMin Difference Position', 'MaxMin Ratio Streams', \"Labels\"]]\n",
    "        y = grouped_za_test_data_df_few['Min Position per Song']\n",
    "        grouped_za_test_data_df_few = grouped_za_test_data_df_few.drop(['Min Position per Song'], axis=1)\n",
    "        # grouped_za_test_data_df_minus = grouped_za_test_data_df.drop([\"main_artist\", \"track_name\", \"main_art_track\",'Min Position per Song'], axis=1)\n",
    "        all_preds = model.predict(grouped_za_test_data_df_few)\n",
    "\n",
    "        fewer_columns_mean_squared_error = mean_squared_error(y, all_preds)\n",
    "        fewer_columns_r2_score = r2_score(y, all_preds)\n",
    "\n",
    "        print(alabel, \"Mean squared error: %.2f\" % fewer_columns_mean_squared_error)\n",
    "        # The coefficient of determination: 1 is perfect prediction\n",
    "        print(alabel, \"Coefficient of determination: %.2f\" % fewer_columns_r2_score)\n",
    "        \n",
    "        all_results.append([alabel, fewer_columns_mean_squared_error, fewer_columns_r2_score])\n",
    "        \n",
    "    return all_results"
   ]
  },
  {
   "cell_type": "code",
   "execution_count": 18,
   "id": "86181111",
   "metadata": {},
   "outputs": [],
   "source": [
    "def theLinearRegressionFuncAllGrouped(grouped_za_data_df, grouped_za_test_data_df, thelabelsmade):\n",
    "    all_results = []\n",
    "    for alabel in thelabelsmade:\n",
    "\n",
    "        pred_df_one = grouped_za_data_df[grouped_za_data_df[\"Labels\"] == alabel]\n",
    "\n",
    "        pred_df_one = pred_df_one.drop([\"main_artist\", \"track_name\", \"main_art_track\"], axis=1)\n",
    "\n",
    "        predictors = list(pred_df_one.columns)\n",
    "        X = pred_df_one[predictors]\n",
    "        X = X.drop(['Min Position per Song'],axis=1)\n",
    "        y = pred_df_one['Min Position per Song']\n",
    "\n",
    "        # Initialise and fit model\n",
    "        lm = LinearRegression()\n",
    "        model = lm.fit(X, y)\n",
    "\n",
    "        y = grouped_za_test_data_df['Min Position per Song']\n",
    "        grouped_za_test_data_df_minus = grouped_za_test_data_df.drop([\"main_artist\", \"track_name\", \"main_art_track\",'Min Position per Song'], axis=1)\n",
    "        all_preds = model.predict(grouped_za_test_data_df_minus)\n",
    "\n",
    "\n",
    "        print(alabel, \"Mean squared error: %.2f\" % mean_squared_error(y, all_preds))\n",
    "        # The coefficient of determination: 1 is perfect prediction\n",
    "        print(alabel, \"Coefficient of determination: %.2f\" % r2_score(y, all_preds))\n",
    "        all_results.append([alabel, mean_squared_error(y, all_preds), r2_score(y, all_preds)])\n",
    "        \n",
    "    return all_results"
   ]
  },
  {
   "cell_type": "code",
   "execution_count": 19,
   "id": "39cde7a6",
   "metadata": {},
   "outputs": [],
   "source": [
    "def theLinearRegressionFuncAll(grouped_za_data_df, grouped_za_test_data_df):\n",
    "    all_results = []\n",
    "    pred_df_one = grouped_za_data_df\n",
    "\n",
    "    pred_df_one = pred_df_one.drop([\"main_artist\", \"track_name\", \"main_art_track\"], axis=1)\n",
    "\n",
    "    predictors = list(pred_df_one.columns)\n",
    "    X = pred_df_one[predictors]\n",
    "    X = X.drop(['Min Position per Song'],axis=1)\n",
    "    y = pred_df_one['Min Position per Song']\n",
    "\n",
    "    # Initialise and fit model\n",
    "    lm = LinearRegression()\n",
    "    model = lm.fit(X, y)\n",
    "\n",
    "    print(f'alpha = {model.intercept_}')\n",
    "    print(f'betas = {model.coef_}')\n",
    "\n",
    "    y = grouped_za_test_data_df['Min Position per Song']\n",
    "    grouped_za_test_data_df_minus = grouped_za_test_data_df.drop([\"main_artist\", \"track_name\", \"main_art_track\",'Min Position per Song'], axis=1)\n",
    "    all_preds = model.predict(grouped_za_test_data_df_minus)\n",
    "\n",
    "\n",
    "    print(\"Mean squared error: %.2f\" % mean_squared_error(y, all_preds))\n",
    "    # The coefficient of determination: 1 is perfect prediction\n",
    "    print(\"Coefficient of determination: %.2f\" % r2_score(y, all_preds))\n",
    "    \n",
    "    all_results.append([\"All\", mean_squared_error(y, all_preds), r2_score(y, all_preds)])\n",
    "    \n",
    "    return all_results"
   ]
  },
  {
   "cell_type": "markdown",
   "id": "1e0d3574",
   "metadata": {},
   "source": [
    "# Call the functions"
   ]
  },
  {
   "cell_type": "code",
   "execution_count": 20,
   "id": "dd545754",
   "metadata": {},
   "outputs": [],
   "source": [
    "scaler = StandardScaler()"
   ]
  },
  {
   "cell_type": "code",
   "execution_count": 21,
   "id": "5003a511",
   "metadata": {},
   "outputs": [],
   "source": [
    "some_artists_of_interest = [\"6LACK\", \"9umba\", \"BNXN fka Buju\", \"Black Coffee\", \"Big Zulu\"]\n",
    "groupednum_songs_df, first_track_position_df_relevant = findingtheentrypos(za_data)\n",
    "groupedmax_streams_df, groupedmin_streams_df, groupedsum_streams_df, groupedmean_streams_df = findtheMinMaxMeanStreams(za_data)\n",
    "groupedpos_streams_df, groupedposmax_streams_df = findtheMinMaxPositions(za_data)\n",
    "groupeddf, groupeddf_startpos_regress = combinedataframes(groupedmax_streams_df, groupedmin_streams_df, groupedsum_streams_df, groupedmean_streams_df, groupedpos_streams_df, groupedposmax_streams_df, groupednum_songs_df)\n",
    "filenname = \"zaall\""
   ]
  },
  {
   "cell_type": "code",
   "execution_count": 22,
   "id": "297f0858",
   "metadata": {},
   "outputs": [
    {
     "data": {
      "text/plain": [
       "['main_artist', 'track_name']"
      ]
     },
     "execution_count": 22,
     "metadata": {},
     "output_type": "execute_result"
    }
   ],
   "source": [
    "groupby_cols"
   ]
  },
  {
   "cell_type": "code",
   "execution_count": 23,
   "id": "68ba7832",
   "metadata": {},
   "outputs": [],
   "source": [
    "# train_za_data_df = za_data_df.drop(groupby_cols, axis=1)\n",
    "# train_za_data_df_cols = list(train_za_data_df.columns)\n",
    "# scaler.fit(train_za_data_df)\n",
    "# train_za_data_df = scaler.transform(train_za_data_df)\n",
    "# thedf = pd.DataFrame(train_za_data_df)\n",
    "# thedf.columns = train_za_data_df_cols\n",
    "# thedf[\"main_artist\"] = za_data_df[\"main_artist\"]\n",
    "# thedf[\"track_name\"] = za_data_df[\"track_name\"]"
   ]
  },
  {
   "cell_type": "code",
   "execution_count": 24,
   "id": "0145ebe5",
   "metadata": {},
   "outputs": [
    {
     "name": "stdout",
     "output_type": "stream",
     "text": [
      "43686 43686\n",
      "(3797, 25)\n"
     ]
    }
   ],
   "source": [
    "grouped_za_data_df = thekmeansfunc(za_data_df, groupeddf, groupeddf_startpos_regress, groupby_cols, filenname)\n",
    "thelabelsmade = grouped_za_data_df[\"Labels\"].unique().tolist()"
   ]
  },
  {
   "cell_type": "code",
   "execution_count": 25,
   "id": "25fd4484",
   "metadata": {},
   "outputs": [
    {
     "name": "stdout",
     "output_type": "stream",
     "text": [
      "9273 9273\n",
      "(759, 25)\n"
     ]
    }
   ],
   "source": [
    "some_artists_of_interest = [\"6LACK\", \"9umba\", \"BNXN fka Buju\", \"Black Coffee\", \"Big Zulu\"]\n",
    "groupednum_songs_df, first_track_position_df_relevant = findingtheentrypos(za_data_test)\n",
    "groupedmax_streams_df, groupedmin_streams_df, groupedsum_streams_df, groupedmean_streams_df = findtheMinMaxMeanStreams(za_data_test)\n",
    "groupedpos_streams_df, groupedposmax_streams_df = findtheMinMaxPositions(za_data_test)\n",
    "groupeddf, groupeddf_startpos_regress = combinedataframes(groupedmax_streams_df, groupedmin_streams_df, groupedsum_streams_df, groupedmean_streams_df, groupedpos_streams_df, groupedposmax_streams_df, groupednum_songs_df)\n",
    "filenname = \"zatest\"\n",
    "grouped_za_test_data_df = thekmeansfunc(za_data_test_df, groupeddf, groupeddf_startpos_regress, groupby_cols, filenname)\n",
    "thelabelsmade_test = grouped_za_data_df[\"Labels\"].unique().tolist()"
   ]
  },
  {
   "cell_type": "code",
   "execution_count": 26,
   "id": "3b4f7a2a",
   "metadata": {},
   "outputs": [
    {
     "data": {
      "text/plain": [
       "Index(['main_artist', 'track_name', 'trackAppearanceCount',\n",
       "       'artistAppearanceCount', 'rank', 'peak_rank', 'previous_rank',\n",
       "       'weeks_on_chart', 'streams', 'ArtistCount', 'isTopTen',\n",
       "       'rank difference', 'Max Streams per Song', 'Min Streams per Song',\n",
       "       'Total Streams per Song', 'Mean Streams per Song',\n",
       "       'Min Position per Song', 'Artist Song Count',\n",
       "       'MaxMin Difference Position', 'MaxMin Difference Streams',\n",
       "       'MaxMin Ratio Position', 'MaxMin Ratio Streams', 'Labels',\n",
       "       'main_art_track', 'entry rank'],\n",
       "      dtype='object')"
      ]
     },
     "execution_count": 26,
     "metadata": {},
     "output_type": "execute_result"
    }
   ],
   "source": [
    "grouped_za_test_data_df.columns"
   ]
  },
  {
   "cell_type": "code",
   "execution_count": 27,
   "id": "04bf7bef",
   "metadata": {},
   "outputs": [
    {
     "data": {
      "text/plain": [
       "Index(['main_artist', 'track_name', 'trackAppearanceCount',\n",
       "       'artistAppearanceCount', 'rank', 'peak_rank', 'previous_rank',\n",
       "       'weeks_on_chart', 'streams', 'ArtistCount', 'isTopTen',\n",
       "       'rank difference', 'Max Streams per Song', 'Min Streams per Song',\n",
       "       'Total Streams per Song', 'Mean Streams per Song',\n",
       "       'Min Position per Song', 'Artist Song Count',\n",
       "       'MaxMin Difference Position', 'MaxMin Difference Streams',\n",
       "       'MaxMin Ratio Position', 'MaxMin Ratio Streams', 'Labels',\n",
       "       'main_art_track', 'entry rank'],\n",
       "      dtype='object')"
      ]
     },
     "execution_count": 27,
     "metadata": {},
     "output_type": "execute_result"
    }
   ],
   "source": [
    "grouped_za_data_df.columns"
   ]
  },
  {
   "cell_type": "code",
   "execution_count": 50,
   "id": "b596909a",
   "metadata": {},
   "outputs": [
    {
     "data": {
      "text/plain": [
       "[2, 3, 1, 0]"
      ]
     },
     "execution_count": 50,
     "metadata": {},
     "output_type": "execute_result"
    }
   ],
   "source": [
    "grouped_za_data_df['Labels'].unique().tolist()"
   ]
  },
  {
   "cell_type": "code",
   "execution_count": 51,
   "id": "b7beba3a",
   "metadata": {},
   "outputs": [
    {
     "data": {
      "text/html": [
       "<div>\n",
       "<style scoped>\n",
       "    .dataframe tbody tr th:only-of-type {\n",
       "        vertical-align: middle;\n",
       "    }\n",
       "\n",
       "    .dataframe tbody tr th {\n",
       "        vertical-align: top;\n",
       "    }\n",
       "\n",
       "    .dataframe thead th {\n",
       "        text-align: right;\n",
       "    }\n",
       "</style>\n",
       "<table border=\"1\" class=\"dataframe\">\n",
       "  <thead>\n",
       "    <tr style=\"text-align: right;\">\n",
       "      <th></th>\n",
       "      <th>main_artist</th>\n",
       "      <th>track_name</th>\n",
       "      <th>trackAppearanceCount</th>\n",
       "      <th>artistAppearanceCount</th>\n",
       "      <th>rank</th>\n",
       "      <th>peak_rank</th>\n",
       "      <th>previous_rank</th>\n",
       "      <th>weeks_on_chart</th>\n",
       "      <th>streams</th>\n",
       "      <th>ArtistCount</th>\n",
       "      <th>...</th>\n",
       "      <th>Mean Streams per Song</th>\n",
       "      <th>Min Position per Song</th>\n",
       "      <th>Artist Song Count</th>\n",
       "      <th>MaxMin Difference Position</th>\n",
       "      <th>MaxMin Difference Streams</th>\n",
       "      <th>MaxMin Ratio Position</th>\n",
       "      <th>MaxMin Ratio Streams</th>\n",
       "      <th>Labels</th>\n",
       "      <th>main_art_track</th>\n",
       "      <th>entry rank</th>\n",
       "    </tr>\n",
       "  </thead>\n",
       "  <tbody>\n",
       "    <tr>\n",
       "      <th>0</th>\n",
       "      <td>$NOT</td>\n",
       "      <td>Doja</td>\n",
       "      <td>0</td>\n",
       "      <td>0</td>\n",
       "      <td>194</td>\n",
       "      <td>194</td>\n",
       "      <td>-1</td>\n",
       "      <td>1</td>\n",
       "      <td>23789</td>\n",
       "      <td>1</td>\n",
       "      <td>...</td>\n",
       "      <td>23789.000000</td>\n",
       "      <td>194.0</td>\n",
       "      <td>1.0</td>\n",
       "      <td>0.0</td>\n",
       "      <td>0.0</td>\n",
       "      <td>1.000000</td>\n",
       "      <td>1.000000</td>\n",
       "      <td>2</td>\n",
       "      <td>$NOTDoja</td>\n",
       "      <td>194</td>\n",
       "    </tr>\n",
       "    <tr>\n",
       "      <th>1</th>\n",
       "      <td>$uicideboy$</td>\n",
       "      <td>...And to Those I Love, Thanks for Sticking Ar...</td>\n",
       "      <td>0</td>\n",
       "      <td>0</td>\n",
       "      <td>182</td>\n",
       "      <td>182</td>\n",
       "      <td>-1</td>\n",
       "      <td>1</td>\n",
       "      <td>23341</td>\n",
       "      <td>1</td>\n",
       "      <td>...</td>\n",
       "      <td>23341.000000</td>\n",
       "      <td>182.0</td>\n",
       "      <td>1.0</td>\n",
       "      <td>0.0</td>\n",
       "      <td>0.0</td>\n",
       "      <td>1.000000</td>\n",
       "      <td>1.000000</td>\n",
       "      <td>2</td>\n",
       "      <td>$uicideboy$...And to Those I Love, Thanks for ...</td>\n",
       "      <td>182</td>\n",
       "    </tr>\n",
       "    <tr>\n",
       "      <th>2</th>\n",
       "      <td>2 Chainz</td>\n",
       "      <td>Bigger Than You (feat. Drake &amp; Quavo)</td>\n",
       "      <td>0</td>\n",
       "      <td>0</td>\n",
       "      <td>78</td>\n",
       "      <td>78</td>\n",
       "      <td>-1</td>\n",
       "      <td>1</td>\n",
       "      <td>5994</td>\n",
       "      <td>3</td>\n",
       "      <td>...</td>\n",
       "      <td>4577.714286</td>\n",
       "      <td>78.0</td>\n",
       "      <td>7.0</td>\n",
       "      <td>86.0</td>\n",
       "      <td>2030.0</td>\n",
       "      <td>2.102564</td>\n",
       "      <td>1.512109</td>\n",
       "      <td>2</td>\n",
       "      <td>2 ChainzBigger Than You (feat. Drake &amp; Quavo)</td>\n",
       "      <td>78</td>\n",
       "    </tr>\n",
       "    <tr>\n",
       "      <th>3</th>\n",
       "      <td>2 Chainz</td>\n",
       "      <td>Bigger Than You (feat. Drake &amp; Quavo)</td>\n",
       "      <td>1</td>\n",
       "      <td>1</td>\n",
       "      <td>90</td>\n",
       "      <td>78</td>\n",
       "      <td>78</td>\n",
       "      <td>2</td>\n",
       "      <td>5265</td>\n",
       "      <td>3</td>\n",
       "      <td>...</td>\n",
       "      <td>8536.000000</td>\n",
       "      <td>148.0</td>\n",
       "      <td>1.0</td>\n",
       "      <td>0.0</td>\n",
       "      <td>0.0</td>\n",
       "      <td>1.000000</td>\n",
       "      <td>1.000000</td>\n",
       "      <td>2</td>\n",
       "      <td>2 ChainzBigger Than You (feat. Drake &amp; Quavo)</td>\n",
       "      <td>78</td>\n",
       "    </tr>\n",
       "    <tr>\n",
       "      <th>4</th>\n",
       "      <td>2 Chainz</td>\n",
       "      <td>Bigger Than You (feat. Drake &amp; Quavo)</td>\n",
       "      <td>2</td>\n",
       "      <td>2</td>\n",
       "      <td>146</td>\n",
       "      <td>78</td>\n",
       "      <td>90</td>\n",
       "      <td>3</td>\n",
       "      <td>3964</td>\n",
       "      <td>3</td>\n",
       "      <td>...</td>\n",
       "      <td>8030.500000</td>\n",
       "      <td>127.0</td>\n",
       "      <td>2.0</td>\n",
       "      <td>70.0</td>\n",
       "      <td>2213.0</td>\n",
       "      <td>1.551181</td>\n",
       "      <td>1.319613</td>\n",
       "      <td>2</td>\n",
       "      <td>2 ChainzBigger Than You (feat. Drake &amp; Quavo)</td>\n",
       "      <td>78</td>\n",
       "    </tr>\n",
       "    <tr>\n",
       "      <th>...</th>\n",
       "      <td>...</td>\n",
       "      <td>...</td>\n",
       "      <td>...</td>\n",
       "      <td>...</td>\n",
       "      <td>...</td>\n",
       "      <td>...</td>\n",
       "      <td>...</td>\n",
       "      <td>...</td>\n",
       "      <td>...</td>\n",
       "      <td>...</td>\n",
       "      <td>...</td>\n",
       "      <td>...</td>\n",
       "      <td>...</td>\n",
       "      <td>...</td>\n",
       "      <td>...</td>\n",
       "      <td>...</td>\n",
       "      <td>...</td>\n",
       "      <td>...</td>\n",
       "      <td>...</td>\n",
       "      <td>...</td>\n",
       "      <td>...</td>\n",
       "    </tr>\n",
       "    <tr>\n",
       "      <th>3792</th>\n",
       "      <td>Bernice West</td>\n",
       "      <td>Sonop-Blom</td>\n",
       "      <td>10</td>\n",
       "      <td>10</td>\n",
       "      <td>122</td>\n",
       "      <td>120</td>\n",
       "      <td>128</td>\n",
       "      <td>11</td>\n",
       "      <td>20539</td>\n",
       "      <td>1</td>\n",
       "      <td>...</td>\n",
       "      <td>16448.000000</td>\n",
       "      <td>200.0</td>\n",
       "      <td>1.0</td>\n",
       "      <td>0.0</td>\n",
       "      <td>0.0</td>\n",
       "      <td>1.000000</td>\n",
       "      <td>1.000000</td>\n",
       "      <td>2</td>\n",
       "      <td>Bernice WestSonop-Blom</td>\n",
       "      <td>145</td>\n",
       "    </tr>\n",
       "    <tr>\n",
       "      <th>3793</th>\n",
       "      <td>Bernice West</td>\n",
       "      <td>Sonop-Blom</td>\n",
       "      <td>11</td>\n",
       "      <td>11</td>\n",
       "      <td>123</td>\n",
       "      <td>120</td>\n",
       "      <td>122</td>\n",
       "      <td>12</td>\n",
       "      <td>22196</td>\n",
       "      <td>1</td>\n",
       "      <td>...</td>\n",
       "      <td>30397.285714</td>\n",
       "      <td>73.0</td>\n",
       "      <td>7.0</td>\n",
       "      <td>84.0</td>\n",
       "      <td>14264.0</td>\n",
       "      <td>2.150685</td>\n",
       "      <td>1.597145</td>\n",
       "      <td>2</td>\n",
       "      <td>Bernice WestSonop-Blom</td>\n",
       "      <td>145</td>\n",
       "    </tr>\n",
       "    <tr>\n",
       "      <th>3794</th>\n",
       "      <td>Bernice West</td>\n",
       "      <td>Sonop-Blom</td>\n",
       "      <td>12</td>\n",
       "      <td>12</td>\n",
       "      <td>122</td>\n",
       "      <td>120</td>\n",
       "      <td>123</td>\n",
       "      <td>13</td>\n",
       "      <td>23110</td>\n",
       "      <td>1</td>\n",
       "      <td>...</td>\n",
       "      <td>5829.000000</td>\n",
       "      <td>191.0</td>\n",
       "      <td>1.0</td>\n",
       "      <td>0.0</td>\n",
       "      <td>0.0</td>\n",
       "      <td>1.000000</td>\n",
       "      <td>1.000000</td>\n",
       "      <td>2</td>\n",
       "      <td>Bernice WestSonop-Blom</td>\n",
       "      <td>145</td>\n",
       "    </tr>\n",
       "    <tr>\n",
       "      <th>3795</th>\n",
       "      <td>Bernice West</td>\n",
       "      <td>Sonop-Blom</td>\n",
       "      <td>13</td>\n",
       "      <td>13</td>\n",
       "      <td>109</td>\n",
       "      <td>109</td>\n",
       "      <td>122</td>\n",
       "      <td>14</td>\n",
       "      <td>25412</td>\n",
       "      <td>1</td>\n",
       "      <td>...</td>\n",
       "      <td>21336.250000</td>\n",
       "      <td>53.0</td>\n",
       "      <td>12.0</td>\n",
       "      <td>133.0</td>\n",
       "      <td>13157.0</td>\n",
       "      <td>3.509434</td>\n",
       "      <td>1.815786</td>\n",
       "      <td>2</td>\n",
       "      <td>Bernice WestSonop-Blom</td>\n",
       "      <td>145</td>\n",
       "    </tr>\n",
       "    <tr>\n",
       "      <th>3796</th>\n",
       "      <td>Bernice West</td>\n",
       "      <td>Sonop-Blom</td>\n",
       "      <td>14</td>\n",
       "      <td>14</td>\n",
       "      <td>105</td>\n",
       "      <td>105</td>\n",
       "      <td>109</td>\n",
       "      <td>15</td>\n",
       "      <td>24994</td>\n",
       "      <td>1</td>\n",
       "      <td>...</td>\n",
       "      <td>16489.000000</td>\n",
       "      <td>196.0</td>\n",
       "      <td>2.0</td>\n",
       "      <td>1.0</td>\n",
       "      <td>18.0</td>\n",
       "      <td>1.005102</td>\n",
       "      <td>1.001092</td>\n",
       "      <td>2</td>\n",
       "      <td>Bernice WestSonop-Blom</td>\n",
       "      <td>145</td>\n",
       "    </tr>\n",
       "  </tbody>\n",
       "</table>\n",
       "<p>3797 rows × 25 columns</p>\n",
       "</div>"
      ],
      "text/plain": [
       "       main_artist                                         track_name  \\\n",
       "0             $NOT                                               Doja   \n",
       "1      $uicideboy$  ...And to Those I Love, Thanks for Sticking Ar...   \n",
       "2         2 Chainz              Bigger Than You (feat. Drake & Quavo)   \n",
       "3         2 Chainz              Bigger Than You (feat. Drake & Quavo)   \n",
       "4         2 Chainz              Bigger Than You (feat. Drake & Quavo)   \n",
       "...            ...                                                ...   \n",
       "3792  Bernice West                                         Sonop-Blom   \n",
       "3793  Bernice West                                         Sonop-Blom   \n",
       "3794  Bernice West                                         Sonop-Blom   \n",
       "3795  Bernice West                                         Sonop-Blom   \n",
       "3796  Bernice West                                         Sonop-Blom   \n",
       "\n",
       "      trackAppearanceCount  artistAppearanceCount  rank  peak_rank  \\\n",
       "0                        0                      0   194        194   \n",
       "1                        0                      0   182        182   \n",
       "2                        0                      0    78         78   \n",
       "3                        1                      1    90         78   \n",
       "4                        2                      2   146         78   \n",
       "...                    ...                    ...   ...        ...   \n",
       "3792                    10                     10   122        120   \n",
       "3793                    11                     11   123        120   \n",
       "3794                    12                     12   122        120   \n",
       "3795                    13                     13   109        109   \n",
       "3796                    14                     14   105        105   \n",
       "\n",
       "      previous_rank  weeks_on_chart  streams  ArtistCount  ...  \\\n",
       "0                -1               1    23789            1  ...   \n",
       "1                -1               1    23341            1  ...   \n",
       "2                -1               1     5994            3  ...   \n",
       "3                78               2     5265            3  ...   \n",
       "4                90               3     3964            3  ...   \n",
       "...             ...             ...      ...          ...  ...   \n",
       "3792            128              11    20539            1  ...   \n",
       "3793            122              12    22196            1  ...   \n",
       "3794            123              13    23110            1  ...   \n",
       "3795            122              14    25412            1  ...   \n",
       "3796            109              15    24994            1  ...   \n",
       "\n",
       "      Mean Streams per Song  Min Position per Song  Artist Song Count  \\\n",
       "0              23789.000000                  194.0                1.0   \n",
       "1              23341.000000                  182.0                1.0   \n",
       "2               4577.714286                   78.0                7.0   \n",
       "3               8536.000000                  148.0                1.0   \n",
       "4               8030.500000                  127.0                2.0   \n",
       "...                     ...                    ...                ...   \n",
       "3792           16448.000000                  200.0                1.0   \n",
       "3793           30397.285714                   73.0                7.0   \n",
       "3794            5829.000000                  191.0                1.0   \n",
       "3795           21336.250000                   53.0               12.0   \n",
       "3796           16489.000000                  196.0                2.0   \n",
       "\n",
       "      MaxMin Difference Position  MaxMin Difference Streams  \\\n",
       "0                            0.0                        0.0   \n",
       "1                            0.0                        0.0   \n",
       "2                           86.0                     2030.0   \n",
       "3                            0.0                        0.0   \n",
       "4                           70.0                     2213.0   \n",
       "...                          ...                        ...   \n",
       "3792                         0.0                        0.0   \n",
       "3793                        84.0                    14264.0   \n",
       "3794                         0.0                        0.0   \n",
       "3795                       133.0                    13157.0   \n",
       "3796                         1.0                       18.0   \n",
       "\n",
       "      MaxMin Ratio Position  MaxMin Ratio Streams  Labels  \\\n",
       "0                  1.000000              1.000000       2   \n",
       "1                  1.000000              1.000000       2   \n",
       "2                  2.102564              1.512109       2   \n",
       "3                  1.000000              1.000000       2   \n",
       "4                  1.551181              1.319613       2   \n",
       "...                     ...                   ...     ...   \n",
       "3792               1.000000              1.000000       2   \n",
       "3793               2.150685              1.597145       2   \n",
       "3794               1.000000              1.000000       2   \n",
       "3795               3.509434              1.815786       2   \n",
       "3796               1.005102              1.001092       2   \n",
       "\n",
       "                                         main_art_track  entry rank  \n",
       "0                                              $NOTDoja         194  \n",
       "1     $uicideboy$...And to Those I Love, Thanks for ...         182  \n",
       "2         2 ChainzBigger Than You (feat. Drake & Quavo)          78  \n",
       "3         2 ChainzBigger Than You (feat. Drake & Quavo)          78  \n",
       "4         2 ChainzBigger Than You (feat. Drake & Quavo)          78  \n",
       "...                                                 ...         ...  \n",
       "3792                             Bernice WestSonop-Blom         145  \n",
       "3793                             Bernice WestSonop-Blom         145  \n",
       "3794                             Bernice WestSonop-Blom         145  \n",
       "3795                             Bernice WestSonop-Blom         145  \n",
       "3796                             Bernice WestSonop-Blom         145  \n",
       "\n",
       "[3797 rows x 25 columns]"
      ]
     },
     "execution_count": 51,
     "metadata": {},
     "output_type": "execute_result"
    }
   ],
   "source": [
    "grouped_za_data_df"
   ]
  },
  {
   "cell_type": "markdown",
   "id": "17a5e824",
   "metadata": {},
   "source": [
    "##### Calling Linear Regression"
   ]
  },
  {
   "cell_type": "code",
   "execution_count": 28,
   "id": "c45a7960",
   "metadata": {},
   "outputs": [
    {
     "data": {
      "text/plain": [
       "[2, 3, 1, 0]"
      ]
     },
     "execution_count": 28,
     "metadata": {},
     "output_type": "execute_result"
    }
   ],
   "source": [
    "thelabelsmade"
   ]
  },
  {
   "cell_type": "code",
   "execution_count": 29,
   "id": "840449e9",
   "metadata": {},
   "outputs": [
    {
     "name": "stdout",
     "output_type": "stream",
     "text": [
      "2 Mean squared error: 3396.54\n",
      "2 Coefficient of determination: -0.06\n",
      "3 Mean squared error: 3279.64\n",
      "3 Coefficient of determination: -0.02\n",
      "1 Mean squared error: 1895.61\n",
      "1 Coefficient of determination: 0.41\n",
      "0 Mean squared error: 3312.37\n",
      "0 Coefficient of determination: -0.03\n"
     ]
    }
   ],
   "source": [
    "grouped_za_data_df_few = grouped_za_data_df[['Min Position per Song', 'Artist Song Count', 'Total Streams per Song', 'Min Streams per Song', 'MaxMin Difference Position', 'MaxMin Ratio Streams', \"Labels\"]]\n",
    "results = theLinearRegressionFuncFewGrouped(grouped_za_data_df_few, grouped_za_test_data_df, thelabelsmade)\n",
    "theLinearRegressionFuncFewGrouped_results = pd.DataFrame(results, columns=[\"Cluster\", \"Mean squared error\", \"r-squared\"])"
   ]
  },
  {
   "cell_type": "code",
   "execution_count": 30,
   "id": "61306630",
   "metadata": {},
   "outputs": [
    {
     "name": "stdout",
     "output_type": "stream",
     "text": [
      "2 Mean squared error: 3014.04\n",
      "2 Coefficient of determination: 0.06\n",
      "3 Mean squared error: 2717938.98\n",
      "3 Coefficient of determination: -843.75\n",
      "1 Mean squared error: 2114.05\n",
      "1 Coefficient of determination: 0.34\n",
      "0 Mean squared error: 8036.99\n",
      "0 Coefficient of determination: -1.50\n"
     ]
    }
   ],
   "source": [
    "results = theLinearRegressionFuncAllGrouped(grouped_za_data_df, grouped_za_test_data_df, thelabelsmade)\n",
    "theLinearRegressionFuncAllGrouped_results = pd.DataFrame(results, columns=[\"Cluster\", \"Mean squared error\", \"r-squared\"])"
   ]
  },
  {
   "cell_type": "code",
   "execution_count": 31,
   "id": "ee58b02a",
   "metadata": {},
   "outputs": [
    {
     "name": "stdout",
     "output_type": "stream",
     "text": [
      "alpha = 165.77502657081098\n",
      "betas = [-5.02935824e-01 -3.22411320e-02  3.65028107e-03  2.41446080e-02\n",
      "  1.78788780e-02  5.20300419e-01  6.68285005e-05  2.38869789e+00\n",
      "  3.18080406e+00  8.90997813e-03 -6.87549891e-05 -1.29177090e-03\n",
      " -5.01494974e-07 -3.91668525e-04  1.29346834e-01 -7.08732641e-01\n",
      "  1.73442021e-04 -6.30029832e-02 -2.89255681e+00  4.47299769e-01\n",
      " -2.51982035e-02]\n",
      "Mean squared error: 3771.73\n",
      "Coefficient of determination: -0.17\n"
     ]
    }
   ],
   "source": [
    "results = theLinearRegressionFuncAll(grouped_za_data_df, grouped_za_test_data_df)\n",
    "theLinearRegressionFuncAll_results = pd.DataFrame(results, columns=[\"Cluster\", \"Mean squared error\", \"r-squared\"])"
   ]
  },
  {
   "cell_type": "code",
   "execution_count": 32,
   "id": "cf4c9023",
   "metadata": {},
   "outputs": [],
   "source": [
    "theLinearRegressionFuncFewGrouped_results[\"method\"] = len(theLinearRegressionFuncFewGrouped_results) * [\"few select features, k-means groups and linear regression\"]"
   ]
  },
  {
   "cell_type": "code",
   "execution_count": 33,
   "id": "3cfe2810",
   "metadata": {},
   "outputs": [],
   "source": [
    "theLinearRegressionFuncAllGrouped_results[\"method\"] = len(theLinearRegressionFuncAllGrouped_results) * [\"all numeric features, k-means groups and linear regression\"]"
   ]
  },
  {
   "cell_type": "code",
   "execution_count": 34,
   "id": "b3ecaee0",
   "metadata": {},
   "outputs": [],
   "source": [
    "theLinearRegressionFuncAllGrouped_results.to_csv(\"theLinearRegressionFuncAllGrouped_results.csv\",index=False)"
   ]
  },
  {
   "cell_type": "code",
   "execution_count": 35,
   "id": "3dc949ea",
   "metadata": {},
   "outputs": [],
   "source": [
    "theLinearRegressionFuncAll_results[\"method\"] = len(theLinearRegressionFuncAll_results) * [\"all numeric features, no groupings, linear regression\"]"
   ]
  },
  {
   "cell_type": "code",
   "execution_count": 36,
   "id": "7ae5b5db",
   "metadata": {},
   "outputs": [],
   "source": [
    "theLinearRegressionFuncAll_results.to_csv(\"theLinearRegressionFuncAll_results.csv\",index=False)"
   ]
  },
  {
   "cell_type": "code",
   "execution_count": 37,
   "id": "c9c2fc4a",
   "metadata": {},
   "outputs": [
    {
     "data": {
      "text/html": [
       "<div>\n",
       "<style scoped>\n",
       "    .dataframe tbody tr th:only-of-type {\n",
       "        vertical-align: middle;\n",
       "    }\n",
       "\n",
       "    .dataframe tbody tr th {\n",
       "        vertical-align: top;\n",
       "    }\n",
       "\n",
       "    .dataframe thead th {\n",
       "        text-align: right;\n",
       "    }\n",
       "</style>\n",
       "<table border=\"1\" class=\"dataframe\">\n",
       "  <thead>\n",
       "    <tr style=\"text-align: right;\">\n",
       "      <th></th>\n",
       "      <th>Cluster</th>\n",
       "      <th>Mean squared error</th>\n",
       "      <th>r-squared</th>\n",
       "      <th>method</th>\n",
       "    </tr>\n",
       "  </thead>\n",
       "  <tbody>\n",
       "    <tr>\n",
       "      <th>0</th>\n",
       "      <td>2</td>\n",
       "      <td>3.014036e+03</td>\n",
       "      <td>0.063226</td>\n",
       "      <td>all numeric features, k-means groups and linea...</td>\n",
       "    </tr>\n",
       "    <tr>\n",
       "      <th>1</th>\n",
       "      <td>3</td>\n",
       "      <td>2.717939e+06</td>\n",
       "      <td>-843.746226</td>\n",
       "      <td>all numeric features, k-means groups and linea...</td>\n",
       "    </tr>\n",
       "    <tr>\n",
       "      <th>2</th>\n",
       "      <td>1</td>\n",
       "      <td>2.114050e+03</td>\n",
       "      <td>0.342945</td>\n",
       "      <td>all numeric features, k-means groups and linea...</td>\n",
       "    </tr>\n",
       "    <tr>\n",
       "      <th>3</th>\n",
       "      <td>0</td>\n",
       "      <td>8.036986e+03</td>\n",
       "      <td>-1.497927</td>\n",
       "      <td>all numeric features, k-means groups and linea...</td>\n",
       "    </tr>\n",
       "  </tbody>\n",
       "</table>\n",
       "</div>"
      ],
      "text/plain": [
       "   Cluster  Mean squared error   r-squared  \\\n",
       "0        2        3.014036e+03    0.063226   \n",
       "1        3        2.717939e+06 -843.746226   \n",
       "2        1        2.114050e+03    0.342945   \n",
       "3        0        8.036986e+03   -1.497927   \n",
       "\n",
       "                                              method  \n",
       "0  all numeric features, k-means groups and linea...  \n",
       "1  all numeric features, k-means groups and linea...  \n",
       "2  all numeric features, k-means groups and linea...  \n",
       "3  all numeric features, k-means groups and linea...  "
      ]
     },
     "execution_count": 37,
     "metadata": {},
     "output_type": "execute_result"
    }
   ],
   "source": [
    "theLinearRegressionFuncAllGrouped_results"
   ]
  },
  {
   "cell_type": "code",
   "execution_count": 38,
   "id": "9109c7d6",
   "metadata": {},
   "outputs": [],
   "source": [
    "the_results = pd.concat([theLinearRegressionFuncFewGrouped_results, theLinearRegressionFuncAllGrouped_results])"
   ]
  },
  {
   "cell_type": "code",
   "execution_count": 39,
   "id": "df6ec89f",
   "metadata": {},
   "outputs": [
    {
     "data": {
      "text/html": [
       "<div>\n",
       "<style scoped>\n",
       "    .dataframe tbody tr th:only-of-type {\n",
       "        vertical-align: middle;\n",
       "    }\n",
       "\n",
       "    .dataframe tbody tr th {\n",
       "        vertical-align: top;\n",
       "    }\n",
       "\n",
       "    .dataframe thead th {\n",
       "        text-align: right;\n",
       "    }\n",
       "</style>\n",
       "<table border=\"1\" class=\"dataframe\">\n",
       "  <thead>\n",
       "    <tr style=\"text-align: right;\">\n",
       "      <th></th>\n",
       "      <th>Cluster</th>\n",
       "      <th>Mean squared error</th>\n",
       "      <th>r-squared</th>\n",
       "      <th>method</th>\n",
       "    </tr>\n",
       "  </thead>\n",
       "  <tbody>\n",
       "    <tr>\n",
       "      <th>0</th>\n",
       "      <td>2</td>\n",
       "      <td>3.396537e+03</td>\n",
       "      <td>-0.055657</td>\n",
       "      <td>few select features, k-means groups and linear...</td>\n",
       "    </tr>\n",
       "    <tr>\n",
       "      <th>1</th>\n",
       "      <td>3</td>\n",
       "      <td>3.279635e+03</td>\n",
       "      <td>-0.019324</td>\n",
       "      <td>few select features, k-means groups and linear...</td>\n",
       "    </tr>\n",
       "    <tr>\n",
       "      <th>2</th>\n",
       "      <td>1</td>\n",
       "      <td>1.895614e+03</td>\n",
       "      <td>0.410836</td>\n",
       "      <td>few select features, k-means groups and linear...</td>\n",
       "    </tr>\n",
       "    <tr>\n",
       "      <th>3</th>\n",
       "      <td>0</td>\n",
       "      <td>3.312367e+03</td>\n",
       "      <td>-0.029497</td>\n",
       "      <td>few select features, k-means groups and linear...</td>\n",
       "    </tr>\n",
       "    <tr>\n",
       "      <th>0</th>\n",
       "      <td>2</td>\n",
       "      <td>3.014036e+03</td>\n",
       "      <td>0.063226</td>\n",
       "      <td>all numeric features, k-means groups and linea...</td>\n",
       "    </tr>\n",
       "    <tr>\n",
       "      <th>1</th>\n",
       "      <td>3</td>\n",
       "      <td>2.717939e+06</td>\n",
       "      <td>-843.746226</td>\n",
       "      <td>all numeric features, k-means groups and linea...</td>\n",
       "    </tr>\n",
       "    <tr>\n",
       "      <th>2</th>\n",
       "      <td>1</td>\n",
       "      <td>2.114050e+03</td>\n",
       "      <td>0.342945</td>\n",
       "      <td>all numeric features, k-means groups and linea...</td>\n",
       "    </tr>\n",
       "    <tr>\n",
       "      <th>3</th>\n",
       "      <td>0</td>\n",
       "      <td>8.036986e+03</td>\n",
       "      <td>-1.497927</td>\n",
       "      <td>all numeric features, k-means groups and linea...</td>\n",
       "    </tr>\n",
       "  </tbody>\n",
       "</table>\n",
       "</div>"
      ],
      "text/plain": [
       "   Cluster  Mean squared error   r-squared  \\\n",
       "0        2        3.396537e+03   -0.055657   \n",
       "1        3        3.279635e+03   -0.019324   \n",
       "2        1        1.895614e+03    0.410836   \n",
       "3        0        3.312367e+03   -0.029497   \n",
       "0        2        3.014036e+03    0.063226   \n",
       "1        3        2.717939e+06 -843.746226   \n",
       "2        1        2.114050e+03    0.342945   \n",
       "3        0        8.036986e+03   -1.497927   \n",
       "\n",
       "                                              method  \n",
       "0  few select features, k-means groups and linear...  \n",
       "1  few select features, k-means groups and linear...  \n",
       "2  few select features, k-means groups and linear...  \n",
       "3  few select features, k-means groups and linear...  \n",
       "0  all numeric features, k-means groups and linea...  \n",
       "1  all numeric features, k-means groups and linea...  \n",
       "2  all numeric features, k-means groups and linea...  \n",
       "3  all numeric features, k-means groups and linea...  "
      ]
     },
     "execution_count": 39,
     "metadata": {},
     "output_type": "execute_result"
    }
   ],
   "source": [
    "the_results"
   ]
  },
  {
   "cell_type": "code",
   "execution_count": 40,
   "id": "34af8166",
   "metadata": {},
   "outputs": [],
   "source": [
    "the_results.to_csv(\"the_results.csv\",index=False)"
   ]
  },
  {
   "cell_type": "code",
   "execution_count": 41,
   "id": "80dd91ed",
   "metadata": {},
   "outputs": [
    {
     "data": {
      "image/png": "[encoded data removed]",
      "text/plain": [
       "<Figure size 960.625x500 with 1 Axes>"
      ]
     },
     "metadata": {},
     "output_type": "display_data"
    }
   ],
   "source": [
    "import seaborn as sns\n",
    "\n",
    "\n",
    "results_plt = sns.catplot(x = \"Cluster\",       # x variable name\n",
    "            y = \"r-squared\",       # y variable name\n",
    "            hue = \"method\",  # group variable name\n",
    "            data = theLinearRegressionFuncAllGrouped_results,     # dataframe to plot\n",
    "            kind = \"bar\").set(title=\"all features r_squared on the OOT test data\")\n",
    "\n",
    "results_plt.figure.savefig(\"the_resultsrsquared.png\")"
   ]
  },
  {
   "cell_type": "code",
   "execution_count": 42,
   "id": "66f408cb",
   "metadata": {},
   "outputs": [
    {
     "data": {
      "image/png": "[encoded data removed]",
      "text/plain": [
       "<Figure size 953.5x500 with 1 Axes>"
      ]
     },
     "metadata": {},
     "output_type": "display_data"
    }
   ],
   "source": [
    "import seaborn as sns\n",
    "\n",
    "\n",
    "results_plt = sns.catplot(x = \"Cluster\",       # x variable name\n",
    "            y = \"r-squared\",       # y variable name\n",
    "            hue = \"method\",  # group variable name\n",
    "            data = theLinearRegressionFuncFewGrouped_results,     # dataframe to plot\n",
    "            kind = \"bar\").set(title=\"select columns and grouped r_squared on the OOT test data\")\n",
    "\n",
    "results_plt.figure.savefig(\"setcolumnsgrouped.png\")"
   ]
  },
  {
   "cell_type": "code",
   "execution_count": 43,
   "id": "4d482b4d",
   "metadata": {},
   "outputs": [
    {
     "data": {
      "image/png": "[encoded data removed]",
      "text/plain": [
       "<Figure size 913.625x500 with 1 Axes>"
      ]
     },
     "metadata": {},
     "output_type": "display_data"
    }
   ],
   "source": [
    "import seaborn as sns\n",
    "\n",
    "\n",
    "results_plt = sns.catplot(x = \"Cluster\",       # x variable name\n",
    "            y = \"r-squared\",       # y variable name\n",
    "            hue = \"method\",  # group variable name\n",
    "            data = theLinearRegressionFuncAll_results,     # dataframe to plot\n",
    "            kind = \"bar\").set(title=\"all columns no groupings select columns and groupedr_squared on the OOT test data\")\n",
    "\n",
    "results_plt.figure.savefig(\"allcolumnsnogroups.png\")"
   ]
  },
  {
   "cell_type": "code",
   "execution_count": 44,
   "id": "2bd3b9b4",
   "metadata": {},
   "outputs": [
    {
     "data": {
      "image/png": "[encoded data removed]",
      "text/plain": [
       "<Figure size 960.625x500 with 1 Axes>"
      ]
     },
     "metadata": {},
     "output_type": "display_data"
    }
   ],
   "source": [
    "import seaborn as sns\n",
    "\n",
    "\n",
    "results_plt = sns.catplot(x = \"Cluster\",       # x variable name\n",
    "            y = \"r-squared\",       # y variable name\n",
    "            hue = \"method\",  # group variable name\n",
    "            data = theLinearRegressionFuncAllGrouped_results,     # dataframe to plot\n",
    "            kind = \"bar\").set(title=\"all columns groupings r_squared on the OOT test data\")\n",
    "\n",
    "results_plt.figure.savefig(\"allcolumnswithgroupings.png\")"
   ]
  },
  {
   "cell_type": "code",
   "execution_count": 45,
   "id": "36d3be85",
   "metadata": {},
   "outputs": [
    {
     "data": {
      "image/png": "[encoded data removed]",
      "text/plain": [
       "<Figure size 960.625x500 with 1 Axes>"
      ]
     },
     "metadata": {},
     "output_type": "display_data"
    }
   ],
   "source": [
    "import seaborn as sns\n",
    "\n",
    "\n",
    "results_plt = sns.catplot(x = \"Cluster\",       # x variable name\n",
    "            y = \"Mean squared error\",       # y variable name\n",
    "            hue = \"method\",  # group variable name\n",
    "            data = the_results,     # dataframe to plot\n",
    "            kind = \"bar\").set(title=\"r_squared on the OOT test data\")\n",
    "\n",
    "results_plt.figure.savefig(\"the_resultsmeansquareerror.png\")"
   ]
  },
  {
   "cell_type": "code",
   "execution_count": 46,
   "id": "ad1a0f0e",
   "metadata": {},
   "outputs": [
    {
     "data": {
      "text/plain": [
       "Index(['main_artist', 'track_name', 'trackAppearanceCount',\n",
       "       'artistAppearanceCount', 'rank', 'peak_rank', 'previous_rank',\n",
       "       'weeks_on_chart', 'streams', 'ArtistCount', 'isTopTen',\n",
       "       'rank difference', 'Max Streams per Song', 'Min Streams per Song',\n",
       "       'Total Streams per Song', 'Mean Streams per Song',\n",
       "       'Min Position per Song', 'Artist Song Count',\n",
       "       'MaxMin Difference Position', 'MaxMin Difference Streams',\n",
       "       'MaxMin Ratio Position', 'MaxMin Ratio Streams', 'Labels',\n",
       "       'main_art_track', 'entry rank'],\n",
       "      dtype='object')"
      ]
     },
     "execution_count": 46,
     "metadata": {},
     "output_type": "execute_result"
    }
   ],
   "source": [
    "grouped_za_data_df.columns"
   ]
  },
  {
   "cell_type": "code",
   "execution_count": 47,
   "id": "0c119bfc",
   "metadata": {},
   "outputs": [
    {
     "name": "stdout",
     "output_type": "stream",
     "text": [
      "0.0\n",
      "[0. 0. 0. 0. 0. 0. 0. 0. 0. 0. 0. 0. 0. 0. 0. 0. 0. 0. 0. 0. 0.]\n",
      "4.468006787043089\n",
      "Mean squared error: 3217.61\n",
      "Coefficient of determination: -0.00\n"
     ]
    },
    {
     "name": "stderr",
     "output_type": "stream",
     "text": [
      "C:\\Users\\User\\anaconda3\\lib\\site-packages\\sklearn\\_loss\\glm_distribution.py:132: RuntimeWarning: divide by zero encountered in true_divide\n",
      "  return -2 * (y - y_pred) / self.unit_variance(y_pred)\n",
      "C:\\Users\\User\\anaconda3\\lib\\site-packages\\sklearn\\linear_model\\_glm\\glm.py:42: RuntimeWarning: invalid value encountered in multiply\n",
      "  temp = d1 * family.deviance_derivative(y, y_pred, weights)\n",
      "C:\\Users\\User\\anaconda3\\lib\\site-packages\\sklearn\\_loss\\glm_distribution.py:323: RuntimeWarning: divide by zero encountered in true_divide\n",
      "  dev = 2 * (xlogy(y, y / y_pred) - y + y_pred)\n"
     ]
    }
   ],
   "source": [
    "clf = linear_model.PoissonRegressor()\n",
    "\n",
    "\n",
    "pred_df_one = grouped_za_data_df\n",
    "\n",
    "y = pred_df_one['Min Position per Song']\n",
    "X = pred_df_one.drop([\"main_artist\", \"track_name\", \"main_art_track\",'Min Position per Song'], axis=1)\n",
    "\n",
    "clf.fit(X, y)\n",
    "\n",
    "print(clf.score(X, y))\n",
    "\n",
    "print(clf.coef_)\n",
    "\n",
    "print(clf.intercept_)\n",
    "grouped_za_test_data_df_one = grouped_za_test_data_df\n",
    "y = grouped_za_test_data_df_one['Min Position per Song']\n",
    "grouped_za_test_data_df_minusone = grouped_za_test_data_df_one.drop([\"main_artist\", \"track_name\", \"main_art_track\",'Min Position per Song'], axis=1)\n",
    "\n",
    "all_preds = clf.predict(grouped_za_test_data_df_minusone)\n",
    "\n",
    "print(\"Mean squared error: %.2f\" % mean_squared_error(y, all_preds))\n",
    "# The coefficient of determination: 1 is perfect prediction\n",
    "print(\"Coefficient of determination: %.2f\" % r2_score(y, all_preds))"
   ]
  },
  {
   "cell_type": "code",
   "execution_count": 48,
   "id": "94f4051b",
   "metadata": {},
   "outputs": [
    {
     "name": "stderr",
     "output_type": "stream",
     "text": [
      "C:\\Users\\User\\anaconda3\\lib\\site-packages\\sklearn\\_loss\\glm_distribution.py:132: RuntimeWarning: divide by zero encountered in true_divide\n",
      "  return -2 * (y - y_pred) / self.unit_variance(y_pred)\n",
      "C:\\Users\\User\\anaconda3\\lib\\site-packages\\sklearn\\linear_model\\_glm\\glm.py:42: RuntimeWarning: invalid value encountered in multiply\n",
      "  temp = d1 * family.deviance_derivative(y, y_pred, weights)\n",
      "C:\\Users\\User\\anaconda3\\lib\\site-packages\\sklearn\\_loss\\glm_distribution.py:323: RuntimeWarning: divide by zero encountered in true_divide\n",
      "  dev = 2 * (xlogy(y, y / y_pred) - y + y_pred)\n",
      "C:\\Users\\User\\anaconda3\\lib\\site-packages\\sklearn\\_loss\\glm_distribution.py:132: RuntimeWarning: divide by zero encountered in true_divide\n",
      "  return -2 * (y - y_pred) / self.unit_variance(y_pred)\n",
      "C:\\Users\\User\\anaconda3\\lib\\site-packages\\sklearn\\linear_model\\_glm\\glm.py:42: RuntimeWarning: invalid value encountered in multiply\n",
      "  temp = d1 * family.deviance_derivative(y, y_pred, weights)\n",
      "C:\\Users\\User\\anaconda3\\lib\\site-packages\\sklearn\\_loss\\glm_distribution.py:323: RuntimeWarning: divide by zero encountered in true_divide\n",
      "  dev = 2 * (xlogy(y, y / y_pred) - y + y_pred)\n",
      "C:\\Users\\User\\anaconda3\\lib\\site-packages\\sklearn\\_loss\\glm_distribution.py:132: RuntimeWarning: divide by zero encountered in true_divide\n",
      "  return -2 * (y - y_pred) / self.unit_variance(y_pred)\n",
      "C:\\Users\\User\\anaconda3\\lib\\site-packages\\sklearn\\linear_model\\_glm\\glm.py:42: RuntimeWarning: invalid value encountered in multiply\n",
      "  temp = d1 * family.deviance_derivative(y, y_pred, weights)\n",
      "C:\\Users\\User\\anaconda3\\lib\\site-packages\\sklearn\\_loss\\glm_distribution.py:323: RuntimeWarning: divide by zero encountered in true_divide\n",
      "  dev = 2 * (xlogy(y, y / y_pred) - y + y_pred)\n"
     ]
    },
    {
     "name": "stdout",
     "output_type": "stream",
     "text": [
      "-2.220446049250313e-16\n",
      "[0. 0. 0. 0. 0. 0. 0. 0. 0. 0. 0. 0. 0. 0. 0. 0. 0. 0. 0. 0. 0.]\n",
      "4.467077829138427\n",
      "Mean squared error: 3330.14\n",
      "Coefficient of determination: -0.00\n",
      "0.0\n",
      "[0. 0. 0. 0. 0. 0. 0. 0. 0. 0. 0. 0. 0. 0. 0. 0. 0. 0. 0. 0. 0.]\n",
      "4.487869988292151\n",
      "Mean squared error: 2883.46\n",
      "Coefficient of determination: -0.00\n",
      "0.0\n",
      "[0. 0. 0. 0. 0. 0. 0. 0. 0. 0. 0. 0. 0. 0. 0. 0. 0. 0. 0. 0. 0.]\n",
      "4.468705149411813\n"
     ]
    },
    {
     "ename": "ValueError",
     "evalue": "Found array with 0 sample(s) (shape=(0, 21)) while a minimum of 1 is required.",
     "output_type": "error",
     "traceback": [
      "\u001b[1;31m---------------------------------------------------------------------------\u001b[0m",
      "\u001b[1;31mValueError\u001b[0m                                Traceback (most recent call last)",
      "\u001b[1;32m~\\AppData\\Local\\Temp\\ipykernel_16500\\3989337665.py\u001b[0m in \u001b[0;36m<module>\u001b[1;34m\u001b[0m\n\u001b[0;32m     18\u001b[0m     \u001b[0mgrouped_za_test_data_df_minusone\u001b[0m \u001b[1;33m=\u001b[0m \u001b[0mgrouped_za_test_data_df_one\u001b[0m\u001b[1;33m.\u001b[0m\u001b[0mdrop\u001b[0m\u001b[1;33m(\u001b[0m\u001b[1;33m[\u001b[0m\u001b[1;34m\"main_artist\"\u001b[0m\u001b[1;33m,\u001b[0m \u001b[1;34m\"track_name\"\u001b[0m\u001b[1;33m,\u001b[0m \u001b[1;34m\"main_art_track\"\u001b[0m\u001b[1;33m,\u001b[0m\u001b[1;34m'Min Position per Song'\u001b[0m\u001b[1;33m]\u001b[0m\u001b[1;33m,\u001b[0m \u001b[0maxis\u001b[0m\u001b[1;33m=\u001b[0m\u001b[1;36m1\u001b[0m\u001b[1;33m)\u001b[0m\u001b[1;33m\u001b[0m\u001b[1;33m\u001b[0m\u001b[0m\n\u001b[0;32m     19\u001b[0m \u001b[1;33m\u001b[0m\u001b[0m\n\u001b[1;32m---> 20\u001b[1;33m     \u001b[0mall_preds\u001b[0m \u001b[1;33m=\u001b[0m \u001b[0mclf\u001b[0m\u001b[1;33m.\u001b[0m\u001b[0mpredict\u001b[0m\u001b[1;33m(\u001b[0m\u001b[0mgrouped_za_test_data_df_minusone\u001b[0m\u001b[1;33m)\u001b[0m\u001b[1;33m\u001b[0m\u001b[1;33m\u001b[0m\u001b[0m\n\u001b[0m\u001b[0;32m     21\u001b[0m \u001b[1;33m\u001b[0m\u001b[0m\n\u001b[0;32m     22\u001b[0m     \u001b[0mprint\u001b[0m\u001b[1;33m(\u001b[0m\u001b[1;34m\"Mean squared error: %.2f\"\u001b[0m \u001b[1;33m%\u001b[0m \u001b[0mmean_squared_error\u001b[0m\u001b[1;33m(\u001b[0m\u001b[0my\u001b[0m\u001b[1;33m,\u001b[0m \u001b[0mall_preds\u001b[0m\u001b[1;33m)\u001b[0m\u001b[1;33m)\u001b[0m\u001b[1;33m\u001b[0m\u001b[1;33m\u001b[0m\u001b[0m\n",
      "\u001b[1;32m~\\anaconda3\\lib\\site-packages\\sklearn\\linear_model\\_glm\\glm.py\u001b[0m in \u001b[0;36mpredict\u001b[1;34m(self, X)\u001b[0m\n\u001b[0;32m    372\u001b[0m         \"\"\"\n\u001b[0;32m    373\u001b[0m         \u001b[1;31m# check_array is done in _linear_predictor\u001b[0m\u001b[1;33m\u001b[0m\u001b[1;33m\u001b[0m\u001b[0m\n\u001b[1;32m--> 374\u001b[1;33m         \u001b[0meta\u001b[0m \u001b[1;33m=\u001b[0m \u001b[0mself\u001b[0m\u001b[1;33m.\u001b[0m\u001b[0m_linear_predictor\u001b[0m\u001b[1;33m(\u001b[0m\u001b[0mX\u001b[0m\u001b[1;33m)\u001b[0m\u001b[1;33m\u001b[0m\u001b[1;33m\u001b[0m\u001b[0m\n\u001b[0m\u001b[0;32m    375\u001b[0m         \u001b[0my_pred\u001b[0m \u001b[1;33m=\u001b[0m \u001b[0mself\u001b[0m\u001b[1;33m.\u001b[0m\u001b[0m_link_instance\u001b[0m\u001b[1;33m.\u001b[0m\u001b[0minverse\u001b[0m\u001b[1;33m(\u001b[0m\u001b[0meta\u001b[0m\u001b[1;33m)\u001b[0m\u001b[1;33m\u001b[0m\u001b[1;33m\u001b[0m\u001b[0m\n\u001b[0;32m    376\u001b[0m         \u001b[1;32mreturn\u001b[0m \u001b[0my_pred\u001b[0m\u001b[1;33m\u001b[0m\u001b[1;33m\u001b[0m\u001b[0m\n",
      "\u001b[1;32m~\\anaconda3\\lib\\site-packages\\sklearn\\linear_model\\_glm\\glm.py\u001b[0m in \u001b[0;36m_linear_predictor\u001b[1;34m(self, X)\u001b[0m\n\u001b[0;32m    348\u001b[0m         \"\"\"\n\u001b[0;32m    349\u001b[0m         \u001b[0mcheck_is_fitted\u001b[0m\u001b[1;33m(\u001b[0m\u001b[0mself\u001b[0m\u001b[1;33m)\u001b[0m\u001b[1;33m\u001b[0m\u001b[1;33m\u001b[0m\u001b[0m\n\u001b[1;32m--> 350\u001b[1;33m         X = self._validate_data(\n\u001b[0m\u001b[0;32m    351\u001b[0m             \u001b[0mX\u001b[0m\u001b[1;33m,\u001b[0m\u001b[1;33m\u001b[0m\u001b[1;33m\u001b[0m\u001b[0m\n\u001b[0;32m    352\u001b[0m             \u001b[0maccept_sparse\u001b[0m\u001b[1;33m=\u001b[0m\u001b[1;33m[\u001b[0m\u001b[1;34m\"csr\"\u001b[0m\u001b[1;33m,\u001b[0m \u001b[1;34m\"csc\"\u001b[0m\u001b[1;33m,\u001b[0m \u001b[1;34m\"coo\"\u001b[0m\u001b[1;33m]\u001b[0m\u001b[1;33m,\u001b[0m\u001b[1;33m\u001b[0m\u001b[1;33m\u001b[0m\u001b[0m\n",
      "\u001b[1;32m~\\anaconda3\\lib\\site-packages\\sklearn\\base.py\u001b[0m in \u001b[0;36m_validate_data\u001b[1;34m(self, X, y, reset, validate_separately, **check_params)\u001b[0m\n\u001b[0;32m    564\u001b[0m             \u001b[1;32mraise\u001b[0m \u001b[0mValueError\u001b[0m\u001b[1;33m(\u001b[0m\u001b[1;34m\"Validation should be done on X, y or both.\"\u001b[0m\u001b[1;33m)\u001b[0m\u001b[1;33m\u001b[0m\u001b[1;33m\u001b[0m\u001b[0m\n\u001b[0;32m    565\u001b[0m         \u001b[1;32melif\u001b[0m \u001b[1;32mnot\u001b[0m \u001b[0mno_val_X\u001b[0m \u001b[1;32mand\u001b[0m \u001b[0mno_val_y\u001b[0m\u001b[1;33m:\u001b[0m\u001b[1;33m\u001b[0m\u001b[1;33m\u001b[0m\u001b[0m\n\u001b[1;32m--> 566\u001b[1;33m             \u001b[0mX\u001b[0m \u001b[1;33m=\u001b[0m \u001b[0mcheck_array\u001b[0m\u001b[1;33m(\u001b[0m\u001b[0mX\u001b[0m\u001b[1;33m,\u001b[0m \u001b[1;33m**\u001b[0m\u001b[0mcheck_params\u001b[0m\u001b[1;33m)\u001b[0m\u001b[1;33m\u001b[0m\u001b[1;33m\u001b[0m\u001b[0m\n\u001b[0m\u001b[0;32m    567\u001b[0m             \u001b[0mout\u001b[0m \u001b[1;33m=\u001b[0m \u001b[0mX\u001b[0m\u001b[1;33m\u001b[0m\u001b[1;33m\u001b[0m\u001b[0m\n\u001b[0;32m    568\u001b[0m         \u001b[1;32melif\u001b[0m \u001b[0mno_val_X\u001b[0m \u001b[1;32mand\u001b[0m \u001b[1;32mnot\u001b[0m \u001b[0mno_val_y\u001b[0m\u001b[1;33m:\u001b[0m\u001b[1;33m\u001b[0m\u001b[1;33m\u001b[0m\u001b[0m\n",
      "\u001b[1;32m~\\anaconda3\\lib\\site-packages\\sklearn\\utils\\validation.py\u001b[0m in \u001b[0;36mcheck_array\u001b[1;34m(array, accept_sparse, accept_large_sparse, dtype, order, copy, force_all_finite, ensure_2d, allow_nd, ensure_min_samples, ensure_min_features, estimator)\u001b[0m\n\u001b[0;32m    803\u001b[0m         \u001b[0mn_samples\u001b[0m \u001b[1;33m=\u001b[0m \u001b[0m_num_samples\u001b[0m\u001b[1;33m(\u001b[0m\u001b[0marray\u001b[0m\u001b[1;33m)\u001b[0m\u001b[1;33m\u001b[0m\u001b[1;33m\u001b[0m\u001b[0m\n\u001b[0;32m    804\u001b[0m         \u001b[1;32mif\u001b[0m \u001b[0mn_samples\u001b[0m \u001b[1;33m<\u001b[0m \u001b[0mensure_min_samples\u001b[0m\u001b[1;33m:\u001b[0m\u001b[1;33m\u001b[0m\u001b[1;33m\u001b[0m\u001b[0m\n\u001b[1;32m--> 805\u001b[1;33m             raise ValueError(\n\u001b[0m\u001b[0;32m    806\u001b[0m                 \u001b[1;34m\"Found array with %d sample(s) (shape=%s) while a\"\u001b[0m\u001b[1;33m\u001b[0m\u001b[1;33m\u001b[0m\u001b[0m\n\u001b[0;32m    807\u001b[0m                 \u001b[1;34m\" minimum of %d is required%s.\"\u001b[0m\u001b[1;33m\u001b[0m\u001b[1;33m\u001b[0m\u001b[0m\n",
      "\u001b[1;31mValueError\u001b[0m: Found array with 0 sample(s) (shape=(0, 21)) while a minimum of 1 is required."
     ]
    }
   ],
   "source": [
    "clf = linear_model.PoissonRegressor()\n",
    "\n",
    "for alabel in thelabelsmade:\n",
    "    pred_df_one = grouped_za_data_df[grouped_za_data_df[\"Labels\"] == alabel]\n",
    "    \n",
    "    y = pred_df_one['Min Position per Song']\n",
    "    X = pred_df_one.drop([\"main_artist\", \"track_name\", \"main_art_track\",'Min Position per Song'], axis=1)\n",
    "\n",
    "    clf.fit(X, y)\n",
    "\n",
    "    print(clf.score(X, y))\n",
    "\n",
    "    print(clf.coef_)\n",
    "\n",
    "    print(clf.intercept_)\n",
    "    grouped_za_test_data_df_one = grouped_za_test_data_df[grouped_za_test_data_df[\"Labels\"] == alabel]\n",
    "    y = grouped_za_test_data_df_one['Min Position per Song']\n",
    "    grouped_za_test_data_df_minusone = grouped_za_test_data_df_one.drop([\"main_artist\", \"track_name\", \"main_art_track\",'Min Position per Song'], axis=1)\n",
    "\n",
    "    all_preds = clf.predict(grouped_za_test_data_df_minusone)\n",
    "\n",
    "    print(\"Mean squared error: %.2f\" % mean_squared_error(y, all_preds))\n",
    "    # The coefficient of determination: 1 is perfect prediction\n",
    "    print(\"Coefficient of determination: %.2f\" % r2_score(y, all_preds))"
   ]
  },
  {
   "cell_type": "code",
   "execution_count": null,
   "id": "e5810220",
   "metadata": {},
   "outputs": [],
   "source": [
    "za_data_test_first_time"
   ]
  },
  {
   "cell_type": "markdown",
   "id": "2aaa2e76",
   "metadata": {},
   "source": [
    "### Calling Linear Regression on first timers"
   ]
  },
  {
   "cell_type": "code",
   "execution_count": null,
   "id": "7b3421be",
   "metadata": {},
   "outputs": [],
   "source": [
    "some_artists_of_interest = [\"6LACK\", \"9umba\", \"BNXN fka Buju\", \"Black Coffee\", \"Big Zulu\"]\n",
    "\n",
    "groupednum_songs_df, first_track_position_df_relevant = findingtheentrypos(za_data_test_first_time)\n",
    "groupedmax_streams_df, groupedmin_streams_df, groupedsum_streams_df, groupedmean_streams_df = findtheMinMaxMeanStreams(za_data_test_first_time)\n",
    "groupedpos_streams_df, groupedposmax_streams_df = findtheMinMaxPositions(za_data_test_first_time)\n",
    "groupeddf, groupeddf_startpos_regress = combinedataframes(groupedmax_streams_df, groupedmin_streams_df, groupedsum_streams_df, groupedmean_streams_df, groupedpos_streams_df, groupedposmax_streams_df, groupednum_songs_df)\n",
    "filenname = \"za_test_first_time\"\n",
    "grouped_za_test_data_first_time_df = thekmeansfunc(za_data_test_first_time_df, groupeddf, groupeddf_startpos_regress, groupby_cols, filenname)\n",
    "thelabelsmade_first_time_test = grouped_za_test_data_first_time_df[\"Labels\"].unique().tolist()"
   ]
  },
  {
   "cell_type": "code",
   "execution_count": null,
   "id": "1fee75b0",
   "metadata": {},
   "outputs": [],
   "source": [
    "# model = theLinearRegressionFuncFewGrouped(grouped_za_data_df, thelabelsmade)\n",
    "\n",
    "# y = grouped_za_test_data_first_time_df['Min Position per Song']\n",
    "# grouped_za_test_data_first_time_df_minus = grouped_za_test_data_first_time_df.drop([\"main_artist\", \"track_name\", \"main_art_track\",'Min Position per Song'], axis=1)\n",
    "# all_preds = model.predict(grouped_za_test_data_first_time_df_minus)\n",
    "\n",
    "# print(\"Mean squared error: %.2f\" % mean_squared_error(y, all_preds))\n",
    "# # The coefficient of determination: 1 is perfect prediction\n",
    "# print(\"Coefficient of determination: %.2f\" % r2_score(y, all_preds))\n",
    "\n",
    "model = theLinearRegressionFuncAllGrouped(grouped_za_data_df, grouped_za_test_data_df, thelabelsmade)\n",
    "\n",
    "y = grouped_za_test_data_first_time_df['Min Position per Song']\n",
    "grouped_za_test_data_first_time_df_minus = grouped_za_test_data_first_time_df.drop([\"main_artist\", \"track_name\", \"main_art_track\",'Min Position per Song'], axis=1)\n",
    "all_preds = model.predict(grouped_za_test_data_first_time_df_minus)\n",
    "\n",
    "\n",
    "print(\"Mean squared error: %.2f\" % mean_squared_error(y, all_preds))\n",
    "# The coefficient of determination: 1 is perfect prediction\n",
    "print(\"Coefficient of determination: %.2f\" % r2_score(y, all_preds))\n",
    "\n",
    "\n",
    "\n",
    "# model = theLinearRegressionFuncAll(grouped_za_data_df, grouped_za_test_data_df)\n",
    "\n",
    "# y = grouped_za_test_data_first_time_df['Min Position per Song']\n",
    "# grouped_za_test_data_first_time_df_minus = grouped_za_test_data_first_time_df.drop([\"main_artist\", \"track_name\", \"main_art_track\",'Min Position per Song'], axis=1)\n",
    "# all_preds = model.predict(grouped_za_test_data_first_time_df_minus)\n",
    "\n",
    "\n",
    "# print(\"Mean squared error: %.2f\" % mean_squared_error(y, all_preds))\n",
    "# # The coefficient of determination: 1 is perfect prediction\n",
    "# print(\"Coefficient of determination: %.2f\" % r2_score(y, all_preds))"
   ]
  },
  {
   "cell_type": "markdown",
   "id": "d06e6704",
   "metadata": {},
   "source": [
    "### Descriptions"
   ]
  },
  {
   "cell_type": "code",
   "execution_count": null,
   "id": "be5fc570",
   "metadata": {},
   "outputs": [],
   "source": [
    "for thelabel in labels_kmeans:\n",
    "    number_ones = grouped_za_data_df[grouped_za_data_df['Labels'] == thelabel]\n",
    "    print(number_ones.shape)\n",
    "    x = number_ones['entry rank'].tolist()\n",
    "    y = number_ones['Min Position per Song'].tolist()\n",
    "\n",
    "    plt.title(thelabel)\n",
    "    plt.xlabel('entry rank')\n",
    "    plt.ylabel('Min Position per Song')\n",
    "    plt.scatter(x, y)\n",
    "    plt.show()"
   ]
  },
  {
   "cell_type": "code",
   "execution_count": null,
   "id": "27e5d8e6",
   "metadata": {},
   "outputs": [],
   "source": [
    "the_labels_more = grouped_za_data_df[\"Labels\"].unique().tolist()"
   ]
  },
  {
   "cell_type": "code",
   "execution_count": null,
   "id": "2458bde4",
   "metadata": {},
   "outputs": [],
   "source": [
    "for alabel in the_labels_more:\n",
    "    kmeans_df_zero = grouped_za_data_df[grouped_za_data_df[\"Labels\"] == alabel]\n",
    "    description = kmeans_df_zero.describe()"
   ]
  },
  {
   "cell_type": "markdown",
   "id": "6b72bf49",
   "metadata": {},
   "source": [
    "number of artists in label\n",
    "number of top 10 songs in label\n"
   ]
  },
  {
   "cell_type": "markdown",
   "id": "d2438d8f",
   "metadata": {},
   "source": [
    "### do it at an artist level but maybe in groups so that you do not need a lot of data for everyone."
   ]
  },
  {
   "cell_type": "code",
   "execution_count": null,
   "id": "f84895d0",
   "metadata": {},
   "outputs": [],
   "source": [
    "# for theartist in some_artists_of_interest:\n",
    "#     number_ones = groupeddf_startpos_regress[groupeddf_startpos_regress['main_artist'] == theartist]\n",
    "\n",
    "#     x = number_ones['entry rank'].tolist()\n",
    "#     y = number_ones['Min Position per Song'].tolist()\n",
    "\n",
    "#     plt.scatter(x, y)\n",
    "#     plt.title(theartist)\n",
    "#     plt.xlabel('entry rank')\n",
    "#     plt.ylabel('Min Position per Song')\n",
    "#     plt.show()"
   ]
  },
  {
   "cell_type": "code",
   "execution_count": null,
   "id": "cf3c7104",
   "metadata": {},
   "outputs": [],
   "source": [
    "# number_ones = groupeddf_startpos_regress[groupeddf_startpos_regress['main_artist'] == \"salem ilese\"]\n",
    "# print(number_ones.shape)\n",
    "# x = number_ones['entry rank'].tolist()\n",
    "# y = number_ones['Min Position per Song'].tolist()\n",
    "\n",
    "# plt.scatter(x, y)\n",
    "# plt.show()"
   ]
  },
  {
   "cell_type": "code",
   "execution_count": null,
   "id": "e3290d8c",
   "metadata": {},
   "outputs": [],
   "source": []
  },
  {
   "cell_type": "code",
   "execution_count": null,
   "id": "90d720c7",
   "metadata": {},
   "outputs": [],
   "source": []
  },
  {
   "cell_type": "code",
   "execution_count": null,
   "id": "06fc8d76",
   "metadata": {},
   "outputs": [],
   "source": []
  }
 ],
 "metadata": {
  "kernelspec": {
   "display_name": "Python 3 (ipykernel)",
   "language": "python",
   "name": "python3"
  },
  "language_info": {
   "codemirror_mode": {
    "name": "ipython",
    "version": 3
   },
   "file_extension": ".py",
   "mimetype": "text/x-python",
   "name": "python",
   "nbconvert_exporter": "python",
   "pygments_lexer": "ipython3",
   "version": "3.9.13"
  }
 },
 "nbformat": 4,
 "nbformat_minor": 5
}
