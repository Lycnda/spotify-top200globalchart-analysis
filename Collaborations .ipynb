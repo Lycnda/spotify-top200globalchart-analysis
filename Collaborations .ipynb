{
 "cells": [
  {
   "cell_type": "markdown",
   "id": "21138c3f",
   "metadata": {},
   "source": [
    "### Collaborators of an artist"
   ]
  },
  {
   "cell_type": "code",
   "execution_count": 2,
   "id": "0dd905f9",
   "metadata": {},
   "outputs": [],
   "source": [
    "import pandas as pd"
   ]
  },
  {
   "cell_type": "code",
   "execution_count": 3,
   "id": "d7d3a99e-a502-479d-ad1b-f2e021ac19c4",
   "metadata": {},
   "outputs": [],
   "source": [
    "locale_name = \"globalv1\""
   ]
  },
  {
   "cell_type": "code",
   "execution_count": 4,
   "id": "ad5eb25b-a380-477c-b738-65f389d15e66",
   "metadata": {},
   "outputs": [],
   "source": [
    "mainartist = \"Ed Sheeran\""
   ]
  },
  {
   "cell_type": "code",
   "execution_count": 5,
   "id": "aef05463",
   "metadata": {},
   "outputs": [],
   "source": [
    "allfilesclass = pd.read_csv(\"Classification/all_files_\" + locale_name + \".csv\")"
   ]
  },
  {
   "cell_type": "code",
   "execution_count": 6,
   "id": "7bcea737",
   "metadata": {},
   "outputs": [
    {
     "data": {
      "text/plain": [
       "(86782, 25)"
      ]
     },
     "execution_count": 6,
     "metadata": {},
     "output_type": "execute_result"
    }
   ],
   "source": [
    "allfilesclass.shape"
   ]
  },
  {
   "cell_type": "code",
   "execution_count": 7,
   "id": "a284dc14",
   "metadata": {},
   "outputs": [],
   "source": [
    "collabsdf = allfilesclass[[\"main_artist\", \"artist_names\"]].drop_duplicates()"
   ]
  },
  {
   "cell_type": "code",
   "execution_count": 8,
   "id": "69771011",
   "metadata": {},
   "outputs": [
    {
     "data": {
      "text/plain": [
       "(3364, 2)"
      ]
     },
     "execution_count": 8,
     "metadata": {},
     "output_type": "execute_result"
    }
   ],
   "source": [
    "collabsdf.shape"
   ]
  },
  {
   "cell_type": "markdown",
   "id": "a5733e61",
   "metadata": {},
   "source": [
    "#### Functions"
   ]
  },
  {
   "cell_type": "code",
   "execution_count": 10,
   "id": "97ba60e7",
   "metadata": {},
   "outputs": [],
   "source": [
    "##### Remove the main artist\n",
    "def theremovalofmainartist(x):\n",
    "    y = list(set(x[\"artist_names\"].split(\", \")) - set([x[\"main_artist\"]]))\n",
    "    \n",
    "    y = ' - '.join(map(str,y))\n",
    "    \n",
    "    return y\n",
    "\n",
    "def splitanddict(x):\n",
    "    art_dict = {}\n",
    "    xsplit = x[\"artist_names\"].split(\"-\")\n",
    "    xsplit = list(set(xsplit) - set(list(x[\"main_artist\"])))\n",
    "    \n",
    "    art_dict[x[\"main_artist\"]] = xsplit\n",
    "\n",
    "    return art_dict\n",
    "\n",
    "import itertools\n",
    "from collections import defaultdict\n",
    "\n",
    "def flatten_list(nested_list):\n",
    "    return list(itertools.chain(*nested_list))\n",
    "\n",
    "def theconjuction(x):\n",
    "    xpslit = x.split(\"-\")\n",
    "    \n",
    "    thels.append(xpslit)"
   ]
  },
  {
   "cell_type": "code",
   "execution_count": 11,
   "id": "3a5ff457",
   "metadata": {},
   "outputs": [
    {
     "name": "stdout",
     "output_type": "stream",
     "text": [
      "defaultdict(<class 'list'>, {'$': [[' Ty Dolla $ign', 'Kanye West '], [' Playboi Carti ', 'Kanye West ', ' Rich The Kid', ' Ty Dolla $ign ']]})\n"
     ]
    }
   ],
   "source": [
    "collabsdf[\"artist_names\"] = collabsdf.apply(lambda x : theremovalofmainartist(x),axis=1)\n",
    "collabsdf = collabsdf[collabsdf[\"artist_names\"] != mainartist]\n",
    "\n",
    "collabsdf.to_csv(\"Classification/Collaborations_data_\" + locale_name + \".csv\", index=False)\n",
    "\n",
    "### Get a collaboration count for all artists\n",
    "collabsdf[\"art_dict\"] = collabsdf.apply(lambda x : splitanddict(x), axis=1)\n",
    "\n",
    "ls = collabsdf[collabsdf[\"main_artist\"]==\"$\"][\"art_dict\"].tolist()\n",
    "dd = defaultdict(list)\n",
    "\n",
    "for d in ls: # you can list as many input dicts as you want here\n",
    "    for key, value in d.items():\n",
    "        dd[key].append(value)\n",
    "    \n",
    "print(dd) # result: defaultdict(<type 'list'>, {1: [2, 6], 3: [4, 7]})\n",
    "\n",
    "flatone = flatten_list(list(dd.values()))\n",
    "flattwo = flatten_list(flatone)\n",
    "\n",
    "thedict = {}\n",
    "\n",
    "for aval in flattwo:\n",
    "    thedict[aval]=0\n",
    "\n",
    "for aval in flattwo:\n",
    "    thedict[aval]+=1\n",
    "\n",
    "##### Select a main artist and get their collaborators\n",
    "thels = []\n",
    "thelsdict = {}\n",
    "\n",
    "thecolasdjmaphorisa = collabsdf[collabsdf[\"main_artist\"] == mainartist]\n",
    "\n",
    "thecolasdjmaphorisa['artist_names'].apply(lambda x : theconjuction(x))\n",
    "\n",
    "res_list = [y for x in thels for y in x]\n",
    "rest_list_vf = list(set(res_list))\n",
    "\n",
    "all_rest_list_vf = []\n",
    "for ares in rest_list_vf:\n",
    "    theares = ares.strip()\n",
    "    \n",
    "    all_rest_list_vf.append(theares)\n",
    "    \n",
    "    all_rest_list_vf = list(set(all_rest_list_vf))\n",
    "\n",
    "thecolasdjmaphorisa = collabsdf[collabsdf[\"main_artist\"] == mainartist]\n",
    "\n",
    "thecolasdjmaphorisa['artist_names'].apply(lambda x : theconjuction(x))\n",
    "\n",
    "res_list = [y for x in thels for y in x]\n",
    "rest_list_vf = list(set(res_list))\n",
    "\n",
    "all_rest_list_vf1 = []\n",
    "for ares in rest_list_vf:\n",
    "    theares = ares.strip()\n",
    "    \n",
    "    all_rest_list_vf1.append(theares)\n",
    "    \n",
    "    all_rest_list_vf1 = list(set(all_rest_list_vf1))\n",
    "    \n",
    "# all_rest_list_vf1\n",
    "\n",
    "###### Create a dictionary with 0 counts\n",
    "\n",
    "keys=all_rest_list_vf1\n",
    "values=[0]*len(all_rest_list_vf1)\n",
    "res = dict(map(lambda i,j : (i,j) , keys,values))\n",
    "\n",
    "###### Loop through the collaborators and add to the count at every appearance count\n",
    "res_list = [y for x in thels for y in x]\n",
    "rest_list_vf = list(set(res_list))\n",
    "\n",
    "all_rest_list_vf1 = []\n",
    "for ares in rest_list_vf:\n",
    "    theares = ares.strip()\n",
    "    \n",
    "    res[theares] +=1\n",
    "    \n",
    "\n",
    "##### write the dataframe to a csv\n",
    "thecollabsdf = pd.DataFrame.from_dict(res, orient=\"index\")\n",
    "thecollabsdf = thecollabsdf.reset_index()\n",
    "\n",
    "thecollabsdf.columns = [\"artist\", \"number of times\"]\n",
    "\n",
    "thecollabsdf.to_csv(\"artists_\" +locale_name + \"_collaborators/\"+ mainartist +\".csv\", index=False)"
   ]
  }
 ],
 "metadata": {
  "kernelspec": {
   "display_name": "Python 3 (ipykernel)",
   "language": "python",
   "name": "python3"
  },
  "language_info": {
   "codemirror_mode": {
    "name": "ipython",
    "version": 3
   },
   "file_extension": ".py",
   "mimetype": "text/x-python",
   "name": "python",
   "nbconvert_exporter": "python",
   "pygments_lexer": "ipython3",
   "version": "3.12.7"
  }
 },
 "nbformat": 4,
 "nbformat_minor": 5
}
