{
 "cells": [
  {
   "cell_type": "markdown",
   "id": "21138c3f",
   "metadata": {},
   "source": [
    "### Collaborators of an artist"
   ]
  },
  {
   "cell_type": "code",
   "execution_count": 1,
   "id": "0dd905f9",
   "metadata": {},
   "outputs": [],
   "source": [
    "import pandas as pd"
   ]
  },
  {
   "cell_type": "code",
   "execution_count": 2,
   "id": "aef05463",
   "metadata": {},
   "outputs": [],
   "source": [
    "allfilesclass = pd.read_csv(\"Classification/all_files_ZAv1.csv\")"
   ]
  },
  {
   "cell_type": "code",
   "execution_count": 3,
   "id": "7bcea737",
   "metadata": {},
   "outputs": [
    {
     "data": {
      "text/plain": [
       "(62086, 23)"
      ]
     },
     "execution_count": 3,
     "metadata": {},
     "output_type": "execute_result"
    }
   ],
   "source": [
    "allfilesclass.shape"
   ]
  },
  {
   "cell_type": "code",
   "execution_count": 4,
   "id": "a284dc14",
   "metadata": {},
   "outputs": [],
   "source": [
    "collabsdf = allfilesclass[[\"main_artist\", \"artist_names\"]].drop_duplicates()"
   ]
  },
  {
   "cell_type": "code",
   "execution_count": 5,
   "id": "69771011",
   "metadata": {},
   "outputs": [
    {
     "data": {
      "text/plain": [
       "(3026, 2)"
      ]
     },
     "execution_count": 5,
     "metadata": {},
     "output_type": "execute_result"
    }
   ],
   "source": [
    "collabsdf.shape"
   ]
  },
  {
   "cell_type": "markdown",
   "id": "a5733e61",
   "metadata": {},
   "source": [
    "##### Remove the main artist"
   ]
  },
  {
   "cell_type": "code",
   "execution_count": 6,
   "id": "97ba60e7",
   "metadata": {},
   "outputs": [],
   "source": [
    "def theremovalofmainartist(x):\n",
    "    y = list(set(x[\"artist_names\"].split(\", \")) - set([x[\"main_artist\"]]))\n",
    "    \n",
    "    y = ' - '.join(map(str,y))\n",
    "    \n",
    "    return y"
   ]
  },
  {
   "cell_type": "code",
   "execution_count": 7,
   "id": "3a5ff457",
   "metadata": {},
   "outputs": [],
   "source": [
    "mainartist = \"Busiswa\""
   ]
  },
  {
   "cell_type": "code",
   "execution_count": 8,
   "id": "b7653dfa",
   "metadata": {},
   "outputs": [],
   "source": [
    "collabsdf[\"artist_names\"] = collabsdf.apply(lambda x : theremovalofmainartist(x),axis=1)\n",
    "collabsdf = collabsdf[collabsdf[\"artist_names\"] != mainartist]"
   ]
  },
  {
   "cell_type": "code",
   "execution_count": 9,
   "id": "b9397a52",
   "metadata": {},
   "outputs": [
    {
     "data": {
      "text/plain": [
       "(3026, 2)"
      ]
     },
     "execution_count": 9,
     "metadata": {},
     "output_type": "execute_result"
    }
   ],
   "source": [
    "collabsdf.shape"
   ]
  },
  {
   "cell_type": "code",
   "execution_count": 10,
   "id": "ef464a55",
   "metadata": {},
   "outputs": [],
   "source": [
    "# collabsdf=collabsdf.drop_duplicates()"
   ]
  },
  {
   "cell_type": "code",
   "execution_count": 11,
   "id": "a9859e81",
   "metadata": {},
   "outputs": [],
   "source": [
    "collabsdf.to_csv(\"Classification/Collaborations_data.csv\", index=False)"
   ]
  },
  {
   "cell_type": "markdown",
   "id": "9a08fc3a",
   "metadata": {},
   "source": [
    "### Get a collaboration count for all artists"
   ]
  },
  {
   "cell_type": "code",
   "execution_count": 36,
   "id": "cf4bc94c",
   "metadata": {},
   "outputs": [],
   "source": [
    "def splitanddict(x):\n",
    "    art_dict = {}\n",
    "    xsplit = x[\"artist_names\"].split(\"-\")\n",
    "    xsplit = list(set(xsplit) - set(list(x[\"main_artist\"])))\n",
    "    \n",
    "    art_dict[x[\"main_artist\"]] = xsplit\n",
    "\n",
    "    return art_dict"
   ]
  },
  {
   "cell_type": "code",
   "execution_count": 37,
   "id": "4d03aec0",
   "metadata": {},
   "outputs": [
    {
     "name": "stdout",
     "output_type": "stream",
     "text": [
      "defaultdict(<class 'list'>, {'$': [[' Kanye West', 'Ty Dolla $ign '], [' Kanye West', 'Rich The Kid ', ' Playboi Carti ', ' Ty Dolla $ign ']]})\n"
     ]
    }
   ],
   "source": [
    "collabsdf[\"art_dict\"] = collabsdf.apply(lambda x : splitanddict(x), axis=1)\n",
    "\n",
    "ls = collabsdf[collabsdf[\"main_artist\"]==\"$\"][\"art_dict\"].tolist()\n",
    "\n",
    "from collections import defaultdict\n",
    "\n",
    "\n",
    "dd = defaultdict(list)\n",
    "\n",
    "for d in ls: # you can list as many input dicts as you want here\n",
    "    for key, value in d.items():\n",
    "        dd[key].append(value)\n",
    "    \n",
    "print(dd) # result: defaultdict(<type 'list'>, {1: [2, 6], 3: [4, 7]})\n",
    "\n",
    "import itertools\n",
    "\n",
    "def flatten_list(nested_list):\n",
    "    return list(itertools.chain(*nested_list))\n",
    "\n",
    "flatone = flatten_list(list(dd.values()))\n",
    "flattwo = flatten_list(flatone)\n",
    "\n",
    "thedict = {}\n",
    "\n",
    "for aval in flattwo:\n",
    "    thedict[aval]=0\n",
    "\n",
    "for aval in flattwo:\n",
    "    thedict[aval]+=1"
   ]
  },
  {
   "cell_type": "code",
   "execution_count": 38,
   "id": "a174ec59",
   "metadata": {},
   "outputs": [
    {
     "data": {
      "text/plain": [
       "{' Kanye West': 2,\n",
       " 'Ty Dolla $ign ': 1,\n",
       " 'Rich The Kid ': 1,\n",
       " ' Playboi Carti ': 1,\n",
       " ' Ty Dolla $ign ': 1}"
      ]
     },
     "execution_count": 38,
     "metadata": {},
     "output_type": "execute_result"
    }
   ],
   "source": [
    "thedict"
   ]
  },
  {
   "cell_type": "markdown",
   "id": "03ba925a",
   "metadata": {},
   "source": [
    "##### Select a main artist and get their collaborators"
   ]
  },
  {
   "cell_type": "code",
   "execution_count": 60,
   "id": "ce448050",
   "metadata": {},
   "outputs": [
    {
     "data": {
      "text/plain": [
       "Index(['main_artist', 'artist_names', 'art_dict'], dtype='object')"
      ]
     },
     "execution_count": 60,
     "metadata": {},
     "output_type": "execute_result"
    }
   ],
   "source": [
    "collabsdf.columns"
   ]
  },
  {
   "cell_type": "code",
   "execution_count": 61,
   "id": "a9f633b2",
   "metadata": {},
   "outputs": [],
   "source": [
    "thels = []\n",
    "thelsdict = {}\n",
    "def theconjuction(x):\n",
    "    xpslit = x.split(\"-\")\n",
    "    \n",
    "    thels.append(xpslit)"
   ]
  },
  {
   "cell_type": "code",
   "execution_count": 62,
   "id": "60143d82",
   "metadata": {},
   "outputs": [],
   "source": [
    "thecolasdjmaphorisa = collabsdf[collabsdf[\"main_artist\"] == mainartist]\n",
    "\n",
    "thecolasdjmaphorisa['artist_names'].apply(lambda x : theconjuction(x))\n",
    "\n",
    "res_list = [y for x in thels for y in x]\n",
    "rest_list_vf = list(set(res_list))\n",
    "\n",
    "all_rest_list_vf = []\n",
    "for ares in rest_list_vf:\n",
    "    theares = ares.strip()\n",
    "    \n",
    "    all_rest_list_vf.append(theares)\n",
    "    \n",
    "    all_rest_list_vf = list(set(all_rest_list_vf))"
   ]
  },
  {
   "cell_type": "code",
   "execution_count": 63,
   "id": "0b375bba",
   "metadata": {},
   "outputs": [],
   "source": [
    "thecolasdjmaphorisa = collabsdf[collabsdf[\"main_artist\"] == mainartist]\n",
    "\n",
    "thecolasdjmaphorisa['artist_names'].apply(lambda x : theconjuction(x))\n",
    "\n",
    "res_list = [y for x in thels for y in x]\n",
    "rest_list_vf = list(set(res_list))\n",
    "\n",
    "all_rest_list_vf1 = []\n",
    "for ares in rest_list_vf:\n",
    "    theares = ares.strip()\n",
    "    \n",
    "    all_rest_list_vf1.append(theares)\n",
    "    \n",
    "    all_rest_list_vf1 = list(set(all_rest_list_vf1))\n",
    "    \n",
    "# all_rest_list_vf1"
   ]
  },
  {
   "cell_type": "markdown",
   "id": "582afe78",
   "metadata": {},
   "source": [
    "###### Create a dictionary with 0 counts"
   ]
  },
  {
   "cell_type": "code",
   "execution_count": 15,
   "id": "8884a266",
   "metadata": {},
   "outputs": [],
   "source": [
    "keys=all_rest_list_vf1\n",
    "values=[0]*len(all_rest_list_vf1)\n",
    "res = dict(map(lambda i,j : (i,j) , keys,values))"
   ]
  },
  {
   "cell_type": "markdown",
   "id": "89b91ec1",
   "metadata": {},
   "source": [
    "###### Loop through the collaborators and add to the count at every appearance count"
   ]
  },
  {
   "cell_type": "code",
   "execution_count": 16,
   "id": "cd0611e5",
   "metadata": {},
   "outputs": [],
   "source": [
    "res_list = [y for x in thels for y in x]\n",
    "rest_list_vf = list(set(res_list))\n",
    "\n",
    "all_rest_list_vf1 = []\n",
    "for ares in rest_list_vf:\n",
    "    theares = ares.strip()\n",
    "    \n",
    "    res[theares] +=1\n",
    "    \n",
    "#     all_rest_list_vf1.append(theares)\n",
    "    \n",
    "#     all_rest_list_vf1 = list(set(all_rest_list_vf1))"
   ]
  },
  {
   "cell_type": "markdown",
   "id": "02c07d4a",
   "metadata": {},
   "source": [
    "##### write the dataframe to a csv"
   ]
  },
  {
   "cell_type": "code",
   "execution_count": 17,
   "id": "7e26eded",
   "metadata": {},
   "outputs": [],
   "source": [
    "thecollabsdf = pd.DataFrame.from_dict(res, orient=\"index\")"
   ]
  },
  {
   "cell_type": "code",
   "execution_count": 18,
   "id": "d9c9472a",
   "metadata": {},
   "outputs": [],
   "source": [
    "thecollabsdf = thecollabsdf.reset_index()"
   ]
  },
  {
   "cell_type": "code",
   "execution_count": 19,
   "id": "a286a881",
   "metadata": {},
   "outputs": [
    {
     "data": {
      "text/html": [
       "<div>\n",
       "<style scoped>\n",
       "    .dataframe tbody tr th:only-of-type {\n",
       "        vertical-align: middle;\n",
       "    }\n",
       "\n",
       "    .dataframe tbody tr th {\n",
       "        vertical-align: top;\n",
       "    }\n",
       "\n",
       "    .dataframe thead th {\n",
       "        text-align: right;\n",
       "    }\n",
       "</style>\n",
       "<table border=\"1\" class=\"dataframe\">\n",
       "  <thead>\n",
       "    <tr style=\"text-align: right;\">\n",
       "      <th></th>\n",
       "      <th>index</th>\n",
       "      <th>0</th>\n",
       "    </tr>\n",
       "  </thead>\n",
       "  <tbody>\n",
       "    <tr>\n",
       "      <th>0</th>\n",
       "      <td>DJ Maphorisa</td>\n",
       "      <td>1</td>\n",
       "    </tr>\n",
       "    <tr>\n",
       "      <th>1</th>\n",
       "      <td>Mas Musiq</td>\n",
       "      <td>1</td>\n",
       "    </tr>\n",
       "    <tr>\n",
       "      <th>2</th>\n",
       "      <td>Vyno Miller</td>\n",
       "      <td>1</td>\n",
       "    </tr>\n",
       "    <tr>\n",
       "      <th>3</th>\n",
       "      <td>Kabza De Small</td>\n",
       "      <td>1</td>\n",
       "    </tr>\n",
       "  </tbody>\n",
       "</table>\n",
       "</div>"
      ],
      "text/plain": [
       "            index  0\n",
       "0    DJ Maphorisa  1\n",
       "1       Mas Musiq  1\n",
       "2     Vyno Miller  1\n",
       "3  Kabza De Small  1"
      ]
     },
     "execution_count": 19,
     "metadata": {},
     "output_type": "execute_result"
    }
   ],
   "source": [
    "thecollabsdf"
   ]
  },
  {
   "cell_type": "code",
   "execution_count": 20,
   "id": "e906baee",
   "metadata": {},
   "outputs": [],
   "source": [
    "thecollabsdf.columns = [\"artist\", \"number of times\"]"
   ]
  },
  {
   "cell_type": "code",
   "execution_count": 21,
   "id": "bb3912f9",
   "metadata": {},
   "outputs": [],
   "source": [
    "thecollabsdf.to_csv(\"artists_za_collaborators/\"+ mainartist +\".csv\", index=False)"
   ]
  }
 ],
 "metadata": {
  "kernelspec": {
   "display_name": "Python 3 (ipykernel)",
   "language": "python",
   "name": "python3"
  },
  "language_info": {
   "codemirror_mode": {
    "name": "ipython",
    "version": 3
   },
   "file_extension": ".py",
   "mimetype": "text/x-python",
   "name": "python",
   "nbconvert_exporter": "python",
   "pygments_lexer": "ipython3",
   "version": "3.9.13"
  }
 },
 "nbformat": 4,
 "nbformat_minor": 5
}
