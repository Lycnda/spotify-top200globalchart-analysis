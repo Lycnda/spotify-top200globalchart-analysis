{
 "cells": [
  {
   "cell_type": "code",
   "execution_count": 1,
   "id": "f1dc0566-d293-4437-ab25-0c71d603dd6f",
   "metadata": {},
   "outputs": [],
   "source": [
    "import matplotlib.pyplot as plt\n",
    "import matplotlib.animation as animation\n",
    "import pandas as pd\n",
    "import random # For generating sample data"
   ]
  },
  {
   "cell_type": "code",
   "execution_count": 68,
   "id": "969dff80-8d76-4b09-9e14-57c415033a5a",
   "metadata": {},
   "outputs": [],
   "source": [
    "df = pd.read_csv(\"SabrinaNumberofStreamsPerMonthforArtist.csv\")"
   ]
  },
  {
   "cell_type": "code",
   "execution_count": 70,
   "id": "23987de1-5d5e-4523-bade-1cd1a2f3bc80",
   "metadata": {},
   "outputs": [
    {
     "data": {
      "text/html": [
       "<div>\n",
       "<style scoped>\n",
       "    .dataframe tbody tr th:only-of-type {\n",
       "        vertical-align: middle;\n",
       "    }\n",
       "\n",
       "    .dataframe tbody tr th {\n",
       "        vertical-align: top;\n",
       "    }\n",
       "\n",
       "    .dataframe thead th {\n",
       "        text-align: right;\n",
       "    }\n",
       "</style>\n",
       "<table border=\"1\" class=\"dataframe\">\n",
       "  <thead>\n",
       "    <tr style=\"text-align: right;\">\n",
       "      <th></th>\n",
       "      <th>End Date</th>\n",
       "      <th>track_name</th>\n",
       "      <th>streams</th>\n",
       "    </tr>\n",
       "  </thead>\n",
       "  <tbody>\n",
       "    <tr>\n",
       "      <th>0</th>\n",
       "      <td>2017/02/16</td>\n",
       "      <td>Thumbs</td>\n",
       "      <td>3039572</td>\n",
       "    </tr>\n",
       "    <tr>\n",
       "      <th>1</th>\n",
       "      <td>2017/02/23</td>\n",
       "      <td>Thumbs</td>\n",
       "      <td>3192398</td>\n",
       "    </tr>\n",
       "    <tr>\n",
       "      <th>2</th>\n",
       "      <td>2017/03/02</td>\n",
       "      <td>Thumbs</td>\n",
       "      <td>3249099</td>\n",
       "    </tr>\n",
       "  </tbody>\n",
       "</table>\n",
       "</div>"
      ],
      "text/plain": [
       "     End Date track_name  streams\n",
       "0  2017/02/16     Thumbs  3039572\n",
       "1  2017/02/23     Thumbs  3192398\n",
       "2  2017/03/02     Thumbs  3249099"
      ]
     },
     "execution_count": 70,
     "metadata": {},
     "output_type": "execute_result"
    }
   ],
   "source": [
    "df.head(3)"
   ]
  },
  {
   "cell_type": "code",
   "execution_count": 72,
   "id": "9d76978f-431b-4557-b2d0-d21a16baf7bd",
   "metadata": {},
   "outputs": [],
   "source": [
    "df[\"Year\"] = df[\"End Date\"].apply(lambda x : x.split(\"/\")[0])\n",
    "df[\"Month\"] = df[\"End Date\"].apply(lambda x : x.split(\"/\")[1])\n",
    "df[\"Day\"] = df[\"End Date\"].apply(lambda x : x.split(\"/\")[2])"
   ]
  },
  {
   "cell_type": "code",
   "execution_count": 78,
   "id": "d7845365-0457-441b-83eb-d7395282c4d7",
   "metadata": {},
   "outputs": [],
   "source": [
    "df = df[[\"Year\", \"track_name\", \"streams\"]]"
   ]
  },
  {
   "cell_type": "code",
   "execution_count": 80,
   "id": "bd58cdf4-6b97-4a84-93ed-f7f35456e945",
   "metadata": {},
   "outputs": [],
   "source": [
    "dfgrped = pd.DataFrame(df.groupby([\"Year\",\"track_name\"])[\"streams\"].sum())"
   ]
  },
  {
   "cell_type": "code",
   "execution_count": 82,
   "id": "ec4433a4-d87a-4319-9896-03ae153e9ffe",
   "metadata": {},
   "outputs": [],
   "source": [
    "dfgrped = dfgrped.reset_index()"
   ]
  },
  {
   "cell_type": "code",
   "execution_count": 84,
   "id": "18f1d683-9e74-4ae1-be43-d7aba18c3d0f",
   "metadata": {},
   "outputs": [
    {
     "data": {
      "text/html": [
       "<div>\n",
       "<style scoped>\n",
       "    .dataframe tbody tr th:only-of-type {\n",
       "        vertical-align: middle;\n",
       "    }\n",
       "\n",
       "    .dataframe tbody tr th {\n",
       "        vertical-align: top;\n",
       "    }\n",
       "\n",
       "    .dataframe thead th {\n",
       "        text-align: right;\n",
       "    }\n",
       "</style>\n",
       "<table border=\"1\" class=\"dataframe\">\n",
       "  <thead>\n",
       "    <tr style=\"text-align: right;\">\n",
       "      <th></th>\n",
       "      <th>Year</th>\n",
       "      <th>track_name</th>\n",
       "      <th>streams</th>\n",
       "    </tr>\n",
       "  </thead>\n",
       "  <tbody>\n",
       "    <tr>\n",
       "      <th>6</th>\n",
       "      <td>2024</td>\n",
       "      <td>A Nonsense Christmas</td>\n",
       "      <td>54117711</td>\n",
       "    </tr>\n",
       "    <tr>\n",
       "      <th>7</th>\n",
       "      <td>2024</td>\n",
       "      <td>Bed Chem</td>\n",
       "      <td>367955268</td>\n",
       "    </tr>\n",
       "    <tr>\n",
       "      <th>8</th>\n",
       "      <td>2024</td>\n",
       "      <td>Coincidence</td>\n",
       "      <td>72271477</td>\n",
       "    </tr>\n",
       "    <tr>\n",
       "      <th>9</th>\n",
       "      <td>2024</td>\n",
       "      <td>Dont Smile</td>\n",
       "      <td>24975804</td>\n",
       "    </tr>\n",
       "    <tr>\n",
       "      <th>10</th>\n",
       "      <td>2024</td>\n",
       "      <td>Dumb &amp; Poetic</td>\n",
       "      <td>25941396</td>\n",
       "    </tr>\n",
       "    <tr>\n",
       "      <th>11</th>\n",
       "      <td>2024</td>\n",
       "      <td>Espresso</td>\n",
       "      <td>1726145700</td>\n",
       "    </tr>\n",
       "    <tr>\n",
       "      <th>12</th>\n",
       "      <td>2024</td>\n",
       "      <td>Feather</td>\n",
       "      <td>545384005</td>\n",
       "    </tr>\n",
       "    <tr>\n",
       "      <th>13</th>\n",
       "      <td>2024</td>\n",
       "      <td>Good Graces</td>\n",
       "      <td>169746050</td>\n",
       "    </tr>\n",
       "    <tr>\n",
       "      <th>14</th>\n",
       "      <td>2024</td>\n",
       "      <td>Juno</td>\n",
       "      <td>224610145</td>\n",
       "    </tr>\n",
       "    <tr>\n",
       "      <th>15</th>\n",
       "      <td>2024</td>\n",
       "      <td>Lie To Girls</td>\n",
       "      <td>23320463</td>\n",
       "    </tr>\n",
       "    <tr>\n",
       "      <th>16</th>\n",
       "      <td>2024</td>\n",
       "      <td>Nonsense</td>\n",
       "      <td>566928044</td>\n",
       "    </tr>\n",
       "    <tr>\n",
       "      <th>17</th>\n",
       "      <td>2024</td>\n",
       "      <td>Please Please Please</td>\n",
       "      <td>1112557524</td>\n",
       "    </tr>\n",
       "    <tr>\n",
       "      <th>18</th>\n",
       "      <td>2024</td>\n",
       "      <td>Sharpest Tool</td>\n",
       "      <td>44820053</td>\n",
       "    </tr>\n",
       "    <tr>\n",
       "      <th>19</th>\n",
       "      <td>2024</td>\n",
       "      <td>Slim Pickins</td>\n",
       "      <td>30133615</td>\n",
       "    </tr>\n",
       "    <tr>\n",
       "      <th>20</th>\n",
       "      <td>2024</td>\n",
       "      <td>Taste</td>\n",
       "      <td>665430251</td>\n",
       "    </tr>\n",
       "  </tbody>\n",
       "</table>\n",
       "</div>"
      ],
      "text/plain": [
       "    Year            track_name     streams\n",
       "6   2024  A Nonsense Christmas    54117711\n",
       "7   2024              Bed Chem   367955268\n",
       "8   2024           Coincidence    72271477\n",
       "9   2024            Dont Smile    24975804\n",
       "10  2024         Dumb & Poetic    25941396\n",
       "11  2024              Espresso  1726145700\n",
       "12  2024               Feather   545384005\n",
       "13  2024           Good Graces   169746050\n",
       "14  2024                  Juno   224610145\n",
       "15  2024          Lie To Girls    23320463\n",
       "16  2024              Nonsense   566928044\n",
       "17  2024  Please Please Please  1112557524\n",
       "18  2024         Sharpest Tool    44820053\n",
       "19  2024          Slim Pickins    30133615\n",
       "20  2024                 Taste   665430251"
      ]
     },
     "execution_count": 84,
     "metadata": {},
     "output_type": "execute_result"
    }
   ],
   "source": [
    "dfgrped[dfgrped[\"Year\"]=='2024']"
   ]
  },
  {
   "cell_type": "code",
   "execution_count": 86,
   "id": "e8b17a4a-afb7-4ea7-9352-562de59681b3",
   "metadata": {},
   "outputs": [],
   "source": [
    "data = {\n",
    "    2017 : {\"Thumbs\":28072743, \"Why\" :28362414},\n",
    "    2018 : {\"Alien\":16466009},\n",
    "    2021 : {\"Skin\" : 37080517}, \n",
    "    2023 : {\"Feather\":40248518, \"Nonsense\" : 495449608},\n",
    "    2024 : {\"A Nonsense Christmas\":54117711, \"Bed Chem\":367955268,\"Coincidence\":72271477, \"Dont Smile\":24975804, \"Dumb & Poetic\":25941396}\n",
    "}"
   ]
  },
  {
   "cell_type": "code",
   "execution_count": 88,
   "id": "de51501c-564f-4ab5-ae7d-bb1575600e0f",
   "metadata": {},
   "outputs": [],
   "source": [
    "yrls = dfgrped[\"Year\"].tolist()\n",
    "track_namels = dfgrped[\"track_name\"].tolist()\n",
    "streamsls = dfgrped[\"streams\"].tolist()"
   ]
  },
  {
   "cell_type": "code",
   "execution_count": 90,
   "id": "ef188d41-3f97-4b0a-8636-e76fd969f4f9",
   "metadata": {},
   "outputs": [],
   "source": [
    "num_songs = len(dfgrped[\"track_name\"].unique().tolist())"
   ]
  },
  {
   "cell_type": "code",
   "execution_count": 110,
   "id": "29b4a1de-eeb0-4fcf-98a0-b1251ecb7603",
   "metadata": {},
   "outputs": [],
   "source": [
    "num_countries = 11\n",
    "num_years = 5"
   ]
  },
  {
   "cell_type": "code",
   "execution_count": 112,
   "id": "cf8dd6e5-8a0e-4689-b71a-45c5494cf3a0",
   "metadata": {},
   "outputs": [],
   "source": [
    "df = pd.DataFrame(data).T # Transpose to have years as index, countries as columns\n",
    "df = df.fillna(0)"
   ]
  },
  {
   "cell_type": "code",
   "execution_count": 114,
   "id": "e69e032c-638d-46bc-b3d8-5ed94a342679",
   "metadata": {},
   "outputs": [
    {
     "data": {
      "text/html": [
       "<div>\n",
       "<style scoped>\n",
       "    .dataframe tbody tr th:only-of-type {\n",
       "        vertical-align: middle;\n",
       "    }\n",
       "\n",
       "    .dataframe tbody tr th {\n",
       "        vertical-align: top;\n",
       "    }\n",
       "\n",
       "    .dataframe thead th {\n",
       "        text-align: right;\n",
       "    }\n",
       "</style>\n",
       "<table border=\"1\" class=\"dataframe\">\n",
       "  <thead>\n",
       "    <tr style=\"text-align: right;\">\n",
       "      <th></th>\n",
       "      <th>Thumbs</th>\n",
       "      <th>Why</th>\n",
       "      <th>Alien</th>\n",
       "      <th>Skin</th>\n",
       "      <th>Feather</th>\n",
       "      <th>Nonsense</th>\n",
       "      <th>A Nonsense Christmas</th>\n",
       "      <th>Bed Chem</th>\n",
       "      <th>Coincidence</th>\n",
       "      <th>Dont Smile</th>\n",
       "      <th>Dumb &amp; Poetic</th>\n",
       "    </tr>\n",
       "  </thead>\n",
       "  <tbody>\n",
       "    <tr>\n",
       "      <th>2017</th>\n",
       "      <td>28072743.0</td>\n",
       "      <td>28362414.0</td>\n",
       "      <td>0.0</td>\n",
       "      <td>0.0</td>\n",
       "      <td>0.0</td>\n",
       "      <td>0.0</td>\n",
       "      <td>0.0</td>\n",
       "      <td>0.0</td>\n",
       "      <td>0.0</td>\n",
       "      <td>0.0</td>\n",
       "      <td>0.0</td>\n",
       "    </tr>\n",
       "    <tr>\n",
       "      <th>2018</th>\n",
       "      <td>0.0</td>\n",
       "      <td>0.0</td>\n",
       "      <td>16466009.0</td>\n",
       "      <td>0.0</td>\n",
       "      <td>0.0</td>\n",
       "      <td>0.0</td>\n",
       "      <td>0.0</td>\n",
       "      <td>0.0</td>\n",
       "      <td>0.0</td>\n",
       "      <td>0.0</td>\n",
       "      <td>0.0</td>\n",
       "    </tr>\n",
       "    <tr>\n",
       "      <th>2021</th>\n",
       "      <td>0.0</td>\n",
       "      <td>0.0</td>\n",
       "      <td>0.0</td>\n",
       "      <td>37080517.0</td>\n",
       "      <td>0.0</td>\n",
       "      <td>0.0</td>\n",
       "      <td>0.0</td>\n",
       "      <td>0.0</td>\n",
       "      <td>0.0</td>\n",
       "      <td>0.0</td>\n",
       "      <td>0.0</td>\n",
       "    </tr>\n",
       "    <tr>\n",
       "      <th>2023</th>\n",
       "      <td>0.0</td>\n",
       "      <td>0.0</td>\n",
       "      <td>0.0</td>\n",
       "      <td>0.0</td>\n",
       "      <td>40248518.0</td>\n",
       "      <td>495449608.0</td>\n",
       "      <td>0.0</td>\n",
       "      <td>0.0</td>\n",
       "      <td>0.0</td>\n",
       "      <td>0.0</td>\n",
       "      <td>0.0</td>\n",
       "    </tr>\n",
       "    <tr>\n",
       "      <th>2024</th>\n",
       "      <td>0.0</td>\n",
       "      <td>0.0</td>\n",
       "      <td>0.0</td>\n",
       "      <td>0.0</td>\n",
       "      <td>0.0</td>\n",
       "      <td>0.0</td>\n",
       "      <td>54117711.0</td>\n",
       "      <td>367955268.0</td>\n",
       "      <td>72271477.0</td>\n",
       "      <td>24975804.0</td>\n",
       "      <td>25941396.0</td>\n",
       "    </tr>\n",
       "  </tbody>\n",
       "</table>\n",
       "</div>"
      ],
      "text/plain": [
       "          Thumbs         Why       Alien        Skin     Feather     Nonsense  \\\n",
       "2017  28072743.0  28362414.0         0.0         0.0         0.0          0.0   \n",
       "2018         0.0         0.0  16466009.0         0.0         0.0          0.0   \n",
       "2021         0.0         0.0         0.0  37080517.0         0.0          0.0   \n",
       "2023         0.0         0.0         0.0         0.0  40248518.0  495449608.0   \n",
       "2024         0.0         0.0         0.0         0.0         0.0          0.0   \n",
       "\n",
       "      A Nonsense Christmas     Bed Chem  Coincidence  Dont Smile  \\\n",
       "2017                   0.0          0.0          0.0         0.0   \n",
       "2018                   0.0          0.0          0.0         0.0   \n",
       "2021                   0.0          0.0          0.0         0.0   \n",
       "2023                   0.0          0.0          0.0         0.0   \n",
       "2024            54117711.0  367955268.0   72271477.0  24975804.0   \n",
       "\n",
       "      Dumb & Poetic  \n",
       "2017            0.0  \n",
       "2018            0.0  \n",
       "2021            0.0  \n",
       "2023            0.0  \n",
       "2024     25941396.0  "
      ]
     },
     "execution_count": 114,
     "metadata": {},
     "output_type": "execute_result"
    }
   ],
   "source": [
    "df"
   ]
  },
  {
   "cell_type": "code",
   "execution_count": 116,
   "id": "4bb9ced9-d613-4a17-883c-ca0b2660e136",
   "metadata": {},
   "outputs": [
    {
     "data": {
      "image/png": "[encoded data removed]",
      "text/plain": [
       "<Figure size 1000x600 with 1 Axes>"
      ]
     },
     "metadata": {},
     "output_type": "display_data"
    }
   ],
   "source": [
    "# --- 2. Set up the plot ---\n",
    "fig, ax = plt.subplots(figsize=(10, 6))\n",
    "bars = ax.bar(df.columns, df.iloc[0], color='skyblue') # Initial bars\n",
    "title = ax.set_title('') # Placeholder for the year title\n",
    "value_labels = [] # To store text labels for bar values\n",
    "\n",
    "# Function to update the bar heights and labels for each frame\n",
    "def update(frame):\n",
    "    current_year = df.index[frame]\n",
    "    current_data = df.iloc[frame].sort_values(ascending=False) # Sort for better visualization\n",
    "\n",
    "    # Clear previous value labels\n",
    "    for label in value_labels:\n",
    "        label.remove()\n",
    "    value_labels.clear()\n",
    "\n",
    "    # Update bar heights and colors\n",
    "    for i, country in enumerate(current_data.index):\n",
    "        bars[i].set_height(current_data[country])\n",
    "        bars[i].set_color(plt.cm.viridis(i / num_countries)) # Example: assign colors\n",
    "\n",
    "        # Update bar positions and width (for sorted data, not strictly necessary if order fixed)\n",
    "        # However, for a *race* chart, bars often re-order and move.\n",
    "        # For simplicity here, we're just updating heights of pre-existing bars.\n",
    "        # For a true race, you'd re-draw bars or update x-positions.\n",
    "\n",
    "        # Add value labels on top of bars\n",
    "        label = ax.text(bars[i].get_x() + bars[i].get_width() / 2,\n",
    "                        bars[i].get_height(),\n",
    "                        f'{current_data[country]:,.0f}',\n",
    "                        ha='center', va='bottom', fontsize=9)\n",
    "        value_labels.append(label)\n",
    "\n",
    "    # Update x-axis labels if bars reorder (for a true race chart)\n",
    "    ax.set_xticks(range(num_countries))\n",
    "    ax.set_xticklabels(current_data.index, rotation=45, ha='right')\n",
    "\n",
    "    ax.set_ylim(0, df.values.max() * 1.1) # Adjust y-axis limit\n",
    "    title.set_text(f'Year: {current_year}')\n",
    "\n",
    "    return bars, title, *value_labels # Return all updated artists\n",
    "\n",
    "# Create the animation\n",
    "ani = animation.FuncAnimation(\n",
    "    fig,\n",
    "    update,\n",
    "    frames=len(df),\n",
    "    blit=False, # Set to True for performance, but can be tricky with text updates\n",
    "    repeat=False,\n",
    "    interval=500 # Milliseconds between frames (e.g., 500ms = 0.5 seconds)\n",
    ")\n",
    "\n"
   ]
  },
  {
   "cell_type": "code",
   "execution_count": 117,
   "id": "b9a22795-a76b-461c-970b-6b58dd2f2fd5",
   "metadata": {
    "scrolled": true
   },
   "outputs": [
    {
     "name": "stdout",
     "output_type": "stream",
     "text": [
      "Saving MP4... This might take a moment.\n",
      "MP4 saved as running_bar_chart.mp4\n"
     ]
    },
    {
     "data": {
      "text/plain": [
       "<Figure size 640x480 with 0 Axes>"
      ]
     },
     "metadata": {},
     "output_type": "display_data"
    }
   ],
   "source": [
    "# --- 3. Save the animation (optional) ---\n",
    "# You need 'ffmpeg' or 'imagemagick' installed for these writers.\n",
    "# For ffmpeg: https://ffmpeg.org/download.html\n",
    "# For imagemagick: https://imagemagick.org/script/download.php\n",
    "\n",
    "# To save as a GIF (requires imagemagick writer)\n",
    "# try:\n",
    "#     print(\"Saving GIF... This might take a moment.\")\n",
    "#     ani.save('running_bar_chart.gif', writer='imagemagick', fps=2)\n",
    "#     print(\"GIF saved as running_bar_chart.gif\")\n",
    "# except Exception as e:\n",
    "#     print(f\"Error saving GIF: {e}. Make sure 'imagemagick' is installed and in your PATH.\")\n",
    "\n",
    "# To save as an MP4 (requires ffmpeg writer)\n",
    "try:\n",
    "    print(\"Saving MP4... This might take a moment.\")\n",
    "    ani.save('running_bar_chart.mp4', writer='ffmpeg', fps=2)\n",
    "    print(\"MP4 saved as running_bar_chart.mp4\")\n",
    "except Exception as e:\n",
    "    print(f\"Error saving MP4: {e}. Make sure 'ffmpeg' is installed and in your PATH.\")\n",
    "\n",
    "plt.tight_layout() # Adjust layout to prevent labels overlapping\n",
    "plt.show() # Display the animation (if not saving, this is how you see it)"
   ]
  },
  {
   "cell_type": "code",
   "execution_count": 55,
   "id": "5e9b0a40-a79d-4b24-b792-cb5a1d42b8f1",
   "metadata": {},
   "outputs": [],
   "source": [
    "# !pip install ffmpeg"
   ]
  },
  {
   "cell_type": "code",
   "execution_count": null,
   "id": "9e4505ca-db6e-4e18-be57-677904cd18c8",
   "metadata": {},
   "outputs": [],
   "source": []
  }
 ],
 "metadata": {
  "kernelspec": {
   "display_name": "Python 3 (ipykernel)",
   "language": "python",
   "name": "python3"
  },
  "language_info": {
   "codemirror_mode": {
    "name": "ipython",
    "version": 3
   },
   "file_extension": ".py",
   "mimetype": "text/x-python",
   "name": "python",
   "nbconvert_exporter": "python",
   "pygments_lexer": "ipython3",
   "version": "3.12.7"
  }
 },
 "nbformat": 4,
 "nbformat_minor": 5
}
