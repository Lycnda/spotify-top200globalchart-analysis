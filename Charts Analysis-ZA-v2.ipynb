{
 "cells": [
  {
   "cell_type": "code",
   "execution_count": 1,
   "metadata": {},
   "outputs": [],
   "source": [
    "import pandas as pd\n",
    "import glob2\n",
    "import matplotlib.pyplot as plt\n",
    "import datetime\n",
    "import re\n",
    "from datetime import datetime, timedelta\n",
    "%matplotlib inline"
   ]
  },
  {
   "cell_type": "code",
   "execution_count": 2,
   "metadata": {},
   "outputs": [],
   "source": [
    "global_music_file_paths = glob2.glob('spotify za v2/*.csv')"
   ]
  },
  {
   "cell_type": "code",
   "execution_count": 3,
   "metadata": {
    "scrolled": true
   },
   "outputs": [
    {
     "name": "stdout",
     "output_type": "stream",
     "text": [
      "233\n"
     ]
    }
   ],
   "source": [
    "print(len(global_music_file_paths))"
   ]
  },
  {
   "cell_type": "code",
   "execution_count": 4,
   "metadata": {},
   "outputs": [
    {
     "name": "stdout",
     "output_type": "stream",
     "text": [
      "['spotify za v2\\\\regional-za-weekly-2018-03-15.csv', 'spotify za v2\\\\regional-za-weekly-2018-03-22.csv', 'spotify za v2\\\\regional-za-weekly-2018-03-29.csv', 'spotify za v2\\\\regional-za-weekly-2018-04-05.csv']\n"
     ]
    }
   ],
   "source": [
    "print(global_music_file_paths[:4])"
   ]
  },
  {
   "cell_type": "code",
   "execution_count": 5,
   "metadata": {},
   "outputs": [],
   "source": [
    "# global_music_file_paths"
   ]
  },
  {
   "cell_type": "code",
   "execution_count": 6,
   "metadata": {},
   "outputs": [],
   "source": [
    "#Add the dates to the files - run once\n",
    "def addsDatesToData():\n",
    "    to_remove_front = \"spotify za v2\\\\regional-na-weekly-\"\n",
    "    to_remove_back = \".csv\"\n",
    "\n",
    "    len_front_remove = len(to_remove_front)\n",
    "    len_back_remove = len(to_remove_back)\n",
    "\n",
    "    for file in global_music_file_paths: \n",
    "#         print(file)\n",
    "        the_data_in_file = pd.read_csv(file)\n",
    "#         the_data_in_file = the_data_in_file.iloc[1: , :]\n",
    "#         the_data_in_file.columns = [\"Position\", \"Track Name\", \"Artist\", \"Streams\", \"URL\"]\n",
    "        \n",
    "        \n",
    "        the_dates = file[len_front_remove:]\n",
    "        the_dates = the_dates[:-len_back_remove]\n",
    "\n",
    "        split_dates = the_dates.split(\"-\")\n",
    "\n",
    "        start_date = split_dates[0] + \"-\" + split_dates[1] + \"-\" + split_dates[2]\n",
    "        \n",
    "\n",
    "        len_dates = the_data_in_file.shape[0]\n",
    "        start_dates = len_dates * [start_date]\n",
    "\n",
    "        date_columns = {\"End Date\": start_dates}   \n",
    "\n",
    "        the_data_in_file[\"End Date\"] = start_dates\n",
    "\n",
    "        #write the data back to the File\n",
    "        the_data_in_file.to_csv(file, index=False)\n",
    "        \n",
    "#remove dates in existing files\n",
    "def removeExistingDates():\n",
    "    for file in global_music_file_paths:\n",
    "        \n",
    "        the_data_in_file = pd.read_csv(file)\n",
    "\n",
    "        the_data_in_file.drop([\"Start Date\", \"End Date\"], axis=1, inplace=True) \n",
    "\n",
    "        the_data_in_file.to_csv(file, index=False)\n",
    "    \n",
    "#check for dates ... opting for removal and putting them back on\n"
   ]
  },
  {
   "cell_type": "code",
   "execution_count": 7,
   "metadata": {},
   "outputs": [],
   "source": [
    "# all_files_dates = pd.DataFrame()\n",
    "# def findmissingDates():\n",
    "#     all_files_dates = pd.read_csv(\"all_files.csv\", encoding=\"utf-8\")\n",
    "    \n",
    "#     all_files_dates = all_files_dates[[\"Start Date\", \"End Date\"]] \n",
    "    \n",
    "#     all_files_dates = all_files_dates.drop_duplicates().reset_index().drop([\"index\"], axis=1)\n",
    "    \n",
    "#     return all_files_dates   "
   ]
  },
  {
   "cell_type": "code",
   "execution_count": 8,
   "metadata": {},
   "outputs": [],
   "source": [
    "# all_files_dates = findmissingDates()"
   ]
  },
  {
   "cell_type": "code",
   "execution_count": 9,
   "metadata": {},
   "outputs": [],
   "source": [
    "# all_files_dates"
   ]
  },
  {
   "cell_type": "code",
   "execution_count": 10,
   "metadata": {
    "scrolled": true
   },
   "outputs": [],
   "source": [
    "# removeExistingDates()\n",
    "addsDatesToData()"
   ]
  },
  {
   "cell_type": "code",
   "execution_count": 11,
   "metadata": {},
   "outputs": [],
   "source": [
    "# the_data_in_file"
   ]
  },
  {
   "cell_type": "code",
   "execution_count": 12,
   "metadata": {},
   "outputs": [],
   "source": [
    "# pd.date_range(start ='2019-11-01', end = '2019-12-27').difference(all_files_dates.index)"
   ]
  },
  {
   "cell_type": "code",
   "execution_count": 13,
   "metadata": {},
   "outputs": [],
   "source": [
    "#Combine the files and sort by dates\n",
    "all_files = []\n",
    "trouble_files = []\n",
    "for file in global_music_file_paths:\n",
    "    the_data_in_file = pd.read_csv(file)\n",
    "    \n",
    "    if(\"URL\" in list(the_data_in_file.columns)):\n",
    "    \n",
    "        the_data_in_file = the_data_in_file.drop([\"URL\"], axis=1)\n",
    "    \n",
    "    list_vals = sum(list(the_data_in_file.isnull().sum()))\n",
    "    \n",
    "    if(list_vals > 0):\n",
    "        trouble_files.append(file)\n",
    "    all_files.append(the_data_in_file)\n",
    "    \n",
    "the_spotify_data = pd.concat(all_files) \n",
    "# trouble_files_df = pd.concat(trouble_files)"
   ]
  },
  {
   "cell_type": "code",
   "execution_count": 14,
   "metadata": {},
   "outputs": [],
   "source": [
    "# the_spotify_data[\"Start Date\"].unique().tolist()"
   ]
  },
  {
   "cell_type": "code",
   "execution_count": 15,
   "metadata": {},
   "outputs": [],
   "source": [
    "all_cols = list(the_spotify_data.columns)\n",
    "drop_cols = []\n",
    "\n",
    "for col in all_cols:\n",
    "    if(\"Unnamed\" in col or \"artificial\" in col):\n",
    "        drop_cols.append(col)\n",
    "        \n",
    "the_spotify_data.drop(drop_cols, axis=1, inplace = True)"
   ]
  },
  {
   "cell_type": "code",
   "execution_count": 16,
   "metadata": {},
   "outputs": [
    {
     "data": {
      "text/plain": [
       "Index(['rank', 'uri', 'artist_names', 'track_name', 'source', 'peak_rank',\n",
       "       'previous_rank', 'weeks_on_chart', 'streams', 'End Date'],\n",
       "      dtype='object')"
      ]
     },
     "execution_count": 16,
     "metadata": {},
     "output_type": "execute_result"
    }
   ],
   "source": [
    "the_spotify_data.columns"
   ]
  },
  {
   "cell_type": "code",
   "execution_count": 17,
   "metadata": {},
   "outputs": [
    {
     "data": {
      "text/html": [
       "<div>\n",
       "<style scoped>\n",
       "    .dataframe tbody tr th:only-of-type {\n",
       "        vertical-align: middle;\n",
       "    }\n",
       "\n",
       "    .dataframe tbody tr th {\n",
       "        vertical-align: top;\n",
       "    }\n",
       "\n",
       "    .dataframe thead th {\n",
       "        text-align: right;\n",
       "    }\n",
       "</style>\n",
       "<table border=\"1\" class=\"dataframe\">\n",
       "  <thead>\n",
       "    <tr style=\"text-align: right;\">\n",
       "      <th></th>\n",
       "      <th>rank</th>\n",
       "      <th>uri</th>\n",
       "      <th>artist_names</th>\n",
       "      <th>track_name</th>\n",
       "      <th>source</th>\n",
       "      <th>peak_rank</th>\n",
       "      <th>previous_rank</th>\n",
       "      <th>weeks_on_chart</th>\n",
       "      <th>streams</th>\n",
       "      <th>End Date</th>\n",
       "    </tr>\n",
       "  </thead>\n",
       "  <tbody>\n",
       "    <tr>\n",
       "      <th>0</th>\n",
       "      <td>1</td>\n",
       "      <td>spotify:track:2XW4DbS6NddZxRPm5rMCeY</td>\n",
       "      <td>Drake</td>\n",
       "      <td>God's Plan</td>\n",
       "      <td>Cash Money/Drake LP6</td>\n",
       "      <td>1</td>\n",
       "      <td>-1</td>\n",
       "      <td>1</td>\n",
       "      <td>10313</td>\n",
       "      <td>2018-03-15</td>\n",
       "    </tr>\n",
       "    <tr>\n",
       "      <th>1</th>\n",
       "      <td>2</td>\n",
       "      <td>spotify:track:65NwOZqoXny4JxqAPlfxRF</td>\n",
       "      <td>Post Malone, Ty Dolla $ign</td>\n",
       "      <td>Psycho (feat. Ty Dolla $ign)</td>\n",
       "      <td>Republic Records</td>\n",
       "      <td>2</td>\n",
       "      <td>-1</td>\n",
       "      <td>1</td>\n",
       "      <td>6588</td>\n",
       "      <td>2018-03-15</td>\n",
       "    </tr>\n",
       "    <tr>\n",
       "      <th>2</th>\n",
       "      <td>3</td>\n",
       "      <td>spotify:track:2U7Hu2RaNQNRi7izoJyZaX</td>\n",
       "      <td>Post Malone, 21 Savage</td>\n",
       "      <td>rockstar (feat. 21 Savage)</td>\n",
       "      <td>Republic Records</td>\n",
       "      <td>3</td>\n",
       "      <td>-1</td>\n",
       "      <td>1</td>\n",
       "      <td>5738</td>\n",
       "      <td>2018-03-15</td>\n",
       "    </tr>\n",
       "    <tr>\n",
       "      <th>3</th>\n",
       "      <td>4</td>\n",
       "      <td>spotify:track:3GCdLUSnKSMJhs4Tj6CV3s</td>\n",
       "      <td>Kendrick Lamar, SZA</td>\n",
       "      <td>All The Stars (with SZA)</td>\n",
       "      <td>Black Panther (TDE/DMG) PS</td>\n",
       "      <td>4</td>\n",
       "      <td>-1</td>\n",
       "      <td>1</td>\n",
       "      <td>5585</td>\n",
       "      <td>2018-03-15</td>\n",
       "    </tr>\n",
       "    <tr>\n",
       "      <th>4</th>\n",
       "      <td>5</td>\n",
       "      <td>spotify:track:45Egmo7icyopuzJN0oMEdk</td>\n",
       "      <td>Khalid, Normani</td>\n",
       "      <td>Love Lies (with Normani)</td>\n",
       "      <td>RCA Records Label</td>\n",
       "      <td>5</td>\n",
       "      <td>-1</td>\n",
       "      <td>1</td>\n",
       "      <td>5535</td>\n",
       "      <td>2018-03-15</td>\n",
       "    </tr>\n",
       "    <tr>\n",
       "      <th>...</th>\n",
       "      <td>...</td>\n",
       "      <td>...</td>\n",
       "      <td>...</td>\n",
       "      <td>...</td>\n",
       "      <td>...</td>\n",
       "      <td>...</td>\n",
       "      <td>...</td>\n",
       "      <td>...</td>\n",
       "      <td>...</td>\n",
       "      <td>...</td>\n",
       "    </tr>\n",
       "    <tr>\n",
       "      <th>195</th>\n",
       "      <td>196</td>\n",
       "      <td>spotify:track:285pBltuF7vW8TeWk8hdRR</td>\n",
       "      <td>Juice WRLD</td>\n",
       "      <td>Lucid Dreams</td>\n",
       "      <td>Juice WRLD Mixtape / ISR P&amp;D</td>\n",
       "      <td>5</td>\n",
       "      <td>170</td>\n",
       "      <td>220</td>\n",
       "      <td>29979</td>\n",
       "      <td>2022-09-01</td>\n",
       "    </tr>\n",
       "    <tr>\n",
       "      <th>196</th>\n",
       "      <td>197</td>\n",
       "      <td>spotify:track:0xzI1KAr0Yd9tv8jlIk3sn</td>\n",
       "      <td>benny blanco, BTS, Snoop Dogg</td>\n",
       "      <td>Bad Decisions (with BTS &amp; Snoop Dogg)</td>\n",
       "      <td>Friends Keep Secrets/Interscope Records</td>\n",
       "      <td>63</td>\n",
       "      <td>129</td>\n",
       "      <td>4</td>\n",
       "      <td>29971</td>\n",
       "      <td>2022-09-01</td>\n",
       "    </tr>\n",
       "    <tr>\n",
       "      <th>197</th>\n",
       "      <td>198</td>\n",
       "      <td>spotify:track:0e8nrvls4Qqv5Rfa2UhqmO</td>\n",
       "      <td>Lil Nas X</td>\n",
       "      <td>THATS WHAT I WANT</td>\n",
       "      <td>Columbia</td>\n",
       "      <td>14</td>\n",
       "      <td>175</td>\n",
       "      <td>50</td>\n",
       "      <td>29916</td>\n",
       "      <td>2022-09-01</td>\n",
       "    </tr>\n",
       "    <tr>\n",
       "      <th>198</th>\n",
       "      <td>199</td>\n",
       "      <td>spotify:track:06JvOZ39sK8D8SqiqfaxDU</td>\n",
       "      <td>Kanye West, XXXTENTACION</td>\n",
       "      <td>True Love</td>\n",
       "      <td>Columbia</td>\n",
       "      <td>18</td>\n",
       "      <td>182</td>\n",
       "      <td>14</td>\n",
       "      <td>29885</td>\n",
       "      <td>2022-09-01</td>\n",
       "    </tr>\n",
       "    <tr>\n",
       "      <th>199</th>\n",
       "      <td>200</td>\n",
       "      <td>spotify:track:1rhnPEViVPs9W3CW5HmneQ</td>\n",
       "      <td>DJ Jaivane, Record L Jones, Slenda Vocals</td>\n",
       "      <td>Ubusha Bethu</td>\n",
       "      <td>Simnandi Records</td>\n",
       "      <td>153</td>\n",
       "      <td>-1</td>\n",
       "      <td>6</td>\n",
       "      <td>29883</td>\n",
       "      <td>2022-09-01</td>\n",
       "    </tr>\n",
       "  </tbody>\n",
       "</table>\n",
       "<p>46486 rows × 10 columns</p>\n",
       "</div>"
      ],
      "text/plain": [
       "     rank                                   uri  \\\n",
       "0       1  spotify:track:2XW4DbS6NddZxRPm5rMCeY   \n",
       "1       2  spotify:track:65NwOZqoXny4JxqAPlfxRF   \n",
       "2       3  spotify:track:2U7Hu2RaNQNRi7izoJyZaX   \n",
       "3       4  spotify:track:3GCdLUSnKSMJhs4Tj6CV3s   \n",
       "4       5  spotify:track:45Egmo7icyopuzJN0oMEdk   \n",
       "..    ...                                   ...   \n",
       "195   196  spotify:track:285pBltuF7vW8TeWk8hdRR   \n",
       "196   197  spotify:track:0xzI1KAr0Yd9tv8jlIk3sn   \n",
       "197   198  spotify:track:0e8nrvls4Qqv5Rfa2UhqmO   \n",
       "198   199  spotify:track:06JvOZ39sK8D8SqiqfaxDU   \n",
       "199   200  spotify:track:1rhnPEViVPs9W3CW5HmneQ   \n",
       "\n",
       "                                  artist_names  \\\n",
       "0                                        Drake   \n",
       "1                   Post Malone, Ty Dolla $ign   \n",
       "2                       Post Malone, 21 Savage   \n",
       "3                          Kendrick Lamar, SZA   \n",
       "4                              Khalid, Normani   \n",
       "..                                         ...   \n",
       "195                                 Juice WRLD   \n",
       "196              benny blanco, BTS, Snoop Dogg   \n",
       "197                                  Lil Nas X   \n",
       "198                   Kanye West, XXXTENTACION   \n",
       "199  DJ Jaivane, Record L Jones, Slenda Vocals   \n",
       "\n",
       "                                track_name  \\\n",
       "0                               God's Plan   \n",
       "1             Psycho (feat. Ty Dolla $ign)   \n",
       "2               rockstar (feat. 21 Savage)   \n",
       "3                 All The Stars (with SZA)   \n",
       "4                 Love Lies (with Normani)   \n",
       "..                                     ...   \n",
       "195                           Lucid Dreams   \n",
       "196  Bad Decisions (with BTS & Snoop Dogg)   \n",
       "197                      THATS WHAT I WANT   \n",
       "198                              True Love   \n",
       "199                           Ubusha Bethu   \n",
       "\n",
       "                                      source  peak_rank  previous_rank  \\\n",
       "0                       Cash Money/Drake LP6          1             -1   \n",
       "1                           Republic Records          2             -1   \n",
       "2                           Republic Records          3             -1   \n",
       "3                 Black Panther (TDE/DMG) PS          4             -1   \n",
       "4                          RCA Records Label          5             -1   \n",
       "..                                       ...        ...            ...   \n",
       "195             Juice WRLD Mixtape / ISR P&D          5            170   \n",
       "196  Friends Keep Secrets/Interscope Records         63            129   \n",
       "197                                 Columbia         14            175   \n",
       "198                                 Columbia         18            182   \n",
       "199                         Simnandi Records        153             -1   \n",
       "\n",
       "     weeks_on_chart  streams    End Date  \n",
       "0                 1    10313  2018-03-15  \n",
       "1                 1     6588  2018-03-15  \n",
       "2                 1     5738  2018-03-15  \n",
       "3                 1     5585  2018-03-15  \n",
       "4                 1     5535  2018-03-15  \n",
       "..              ...      ...         ...  \n",
       "195             220    29979  2022-09-01  \n",
       "196               4    29971  2022-09-01  \n",
       "197              50    29916  2022-09-01  \n",
       "198              14    29885  2022-09-01  \n",
       "199               6    29883  2022-09-01  \n",
       "\n",
       "[46486 rows x 10 columns]"
      ]
     },
     "execution_count": 17,
     "metadata": {},
     "output_type": "execute_result"
    }
   ],
   "source": [
    "the_spotify_data"
   ]
  },
  {
   "cell_type": "code",
   "execution_count": 18,
   "metadata": {},
   "outputs": [],
   "source": [
    "# the_spotify_data[\"End Date\"].unique().tolist()"
   ]
  },
  {
   "cell_type": "code",
   "execution_count": 19,
   "metadata": {},
   "outputs": [],
   "source": [
    "the_spotify_data[\"Week\"] = the_spotify_data[\"End Date\"].apply(lambda x : datetime.strptime(x, '%Y-%m-%d'))\n",
    "the_spotify_data[\"Year\"] = the_spotify_data[\"Week\"]\n",
    "\n",
    "the_spotify_data['Week'] = the_spotify_data['Week'].apply(lambda x : x.isocalendar()[1] )\n",
    "the_spotify_data['Year'] = the_spotify_data['Year'].apply(lambda x : x.isocalendar()[0] )\n",
    "\n",
    "# the_spotify_data[\"Start Date Dt\"] = the_spotify_data[\"Start Date\"].apply(lambda x : datetime.strptime(x, '%Y-%m-%d'))\n",
    "the_spotify_data[\"End Date Dt\"] = the_spotify_data[\"End Date\"].apply(lambda x : datetime.strptime(x, '%Y-%m-%d'))\n",
    "the_spotify_data['Seconds since Epoch'] = the_spotify_data['End Date Dt'].apply(lambda x : round(x.timestamp(), 0))"
   ]
  },
  {
   "cell_type": "code",
   "execution_count": 20,
   "metadata": {},
   "outputs": [],
   "source": [
    "#get the month when this happened\n",
    "def changedaytotheFirst(x):\n",
    "    x = x[:-2] + \"01\"\n",
    "    \n",
    "    return x"
   ]
  },
  {
   "cell_type": "code",
   "execution_count": 21,
   "metadata": {},
   "outputs": [],
   "source": [
    "the_spotify_data[\"End Date Aggregated\"] = the_spotify_data[\"End Date\"].apply(lambda x : changedaytotheFirst(x) )"
   ]
  },
  {
   "cell_type": "code",
   "execution_count": 22,
   "metadata": {},
   "outputs": [],
   "source": [
    "#find the number of artists on the track\n",
    "the_spotify_data.dropna(inplace=True)\n",
    "\n",
    "the_spotify_data[\"artist_names\"] = the_spotify_data[\"artist_names\"].apply(lambda x : x.encode(\"utf-8\").decode(\"latin-1\"))\n",
    "the_spotify_data[\"artist_names\"] = the_spotify_data[\"artist_names\"].apply(lambda x : re.sub(r'[^\\x00-\\x7F]+','', x))\n",
    "the_spotify_data[\"artist_names\"] = the_spotify_data.apply(lambda x : x[\"artist_names\"] + \"Artist_NA\" if(x[\"artist_names\"] == \"\") else x[\"artist_names\"], axis=1)\n",
    "\n",
    "the_spotify_data[\"track_name\"] = the_spotify_data[\"track_name\"].apply(lambda x : x.encode(\"utf-8\").decode(\"latin-1\"))\n",
    "the_spotify_data[\"track_name\"] = the_spotify_data[\"track_name\"].apply(lambda x : re.sub(r'[^\\x00-\\x7F]+','', x))\n",
    "the_spotify_data[\"track_name\"] = the_spotify_data.apply(lambda x : x[\"artist_names\"] + \"_NA\" if(x[\"track_name\"] == \"\") else x[\"track_name\"], axis=1)\n",
    "\n",
    "def countNumberArtists(x):\n",
    "    len_all_featured_artists = 0\n",
    "    num_artists = 0\n",
    "    xvals = x.split(\"feat\")\n",
    "    len_xvals = len(xvals)\n",
    "    \n",
    "    if(len_xvals > 1):\n",
    "        featured_artists = xvals[1:]\n",
    "        featured_artists_str = ' '.join(featured_artists)\n",
    "        all_featured_artists = featured_artists_str.split(\"& \")\n",
    "        len_all_featured_artists = len(all_featured_artists)\n",
    "        \n",
    "    num_artists = 1 + len_all_featured_artists\n",
    "    \n",
    "    return num_artists\n",
    "        \n",
    "    \n",
    "the_spotify_data['ArtistCount'] = the_spotify_data['track_name'].apply(lambda x : countNumberArtists(x))"
   ]
  },
  {
   "cell_type": "code",
   "execution_count": 23,
   "metadata": {},
   "outputs": [
    {
     "data": {
      "text/plain": [
       "(46486, 16)"
      ]
     },
     "execution_count": 23,
     "metadata": {},
     "output_type": "execute_result"
    }
   ],
   "source": [
    "the_spotify_data.shape"
   ]
  },
  {
   "cell_type": "code",
   "execution_count": 24,
   "metadata": {},
   "outputs": [],
   "source": [
    "the_spotify_data[\"main_artist\"] = the_spotify_data.apply(lambda x : x[\"artist_names\"].split(\",\")[0], axis=1)"
   ]
  },
  {
   "cell_type": "code",
   "execution_count": 25,
   "metadata": {},
   "outputs": [],
   "source": [
    "the_spotify_data = the_spotify_data.reset_index()\n",
    "the_spotify_data.drop([\"index\"], axis=1, inplace=True)"
   ]
  },
  {
   "cell_type": "code",
   "execution_count": 26,
   "metadata": {},
   "outputs": [
    {
     "data": {
      "text/plain": [
       "(46486, 17)"
      ]
     },
     "execution_count": 26,
     "metadata": {},
     "output_type": "execute_result"
    }
   ],
   "source": [
    "the_spotify_data.shape"
   ]
  },
  {
   "cell_type": "code",
   "execution_count": 27,
   "metadata": {},
   "outputs": [],
   "source": [
    "def everInTopTen(x):\n",
    "    position_vals = list(x[\"rank\"])\n",
    "    position_vals = list(set(position_vals))\n",
    "    \n",
    "#     print(position_vals)\n",
    "    \n",
    "    min_pos = min(position_vals)\n",
    "    existence_val = 0\n",
    "    \n",
    "    if(min_pos <= 10):\n",
    "        existence_val = 1\n",
    "    \n",
    "    x[\"isTopTen\"] = [existence_val] * len(x)\n",
    "    \n",
    "    return x\n",
    "    \n",
    "the_spotify_data = the_spotify_data[~the_spotify_data.index.duplicated()]\n",
    "the_spotify_data = the_spotify_data.groupby([\"artist_names\", \"track_name\"]).apply(lambda x : everInTopTen(x))"
   ]
  },
  {
   "cell_type": "code",
   "execution_count": 28,
   "metadata": {},
   "outputs": [
    {
     "data": {
      "text/html": [
       "<div>\n",
       "<style scoped>\n",
       "    .dataframe tbody tr th:only-of-type {\n",
       "        vertical-align: middle;\n",
       "    }\n",
       "\n",
       "    .dataframe tbody tr th {\n",
       "        vertical-align: top;\n",
       "    }\n",
       "\n",
       "    .dataframe thead th {\n",
       "        text-align: right;\n",
       "    }\n",
       "</style>\n",
       "<table border=\"1\" class=\"dataframe\">\n",
       "  <thead>\n",
       "    <tr style=\"text-align: right;\">\n",
       "      <th></th>\n",
       "      <th>rank</th>\n",
       "      <th>uri</th>\n",
       "      <th>artist_names</th>\n",
       "      <th>track_name</th>\n",
       "      <th>source</th>\n",
       "      <th>peak_rank</th>\n",
       "      <th>previous_rank</th>\n",
       "      <th>weeks_on_chart</th>\n",
       "      <th>streams</th>\n",
       "      <th>End Date</th>\n",
       "      <th>Week</th>\n",
       "      <th>Year</th>\n",
       "      <th>End Date Dt</th>\n",
       "      <th>Seconds since Epoch</th>\n",
       "      <th>End Date Aggregated</th>\n",
       "      <th>ArtistCount</th>\n",
       "      <th>main_artist</th>\n",
       "      <th>isTopTen</th>\n",
       "    </tr>\n",
       "  </thead>\n",
       "  <tbody>\n",
       "    <tr>\n",
       "      <th>0</th>\n",
       "      <td>1</td>\n",
       "      <td>spotify:track:2XW4DbS6NddZxRPm5rMCeY</td>\n",
       "      <td>Drake</td>\n",
       "      <td>God's Plan</td>\n",
       "      <td>Cash Money/Drake LP6</td>\n",
       "      <td>1</td>\n",
       "      <td>-1</td>\n",
       "      <td>1</td>\n",
       "      <td>10313</td>\n",
       "      <td>2018-03-15</td>\n",
       "      <td>11</td>\n",
       "      <td>2018</td>\n",
       "      <td>2018-03-15</td>\n",
       "      <td>1.521072e+09</td>\n",
       "      <td>2018-03-01</td>\n",
       "      <td>1</td>\n",
       "      <td>Drake</td>\n",
       "      <td>1</td>\n",
       "    </tr>\n",
       "    <tr>\n",
       "      <th>1</th>\n",
       "      <td>2</td>\n",
       "      <td>spotify:track:65NwOZqoXny4JxqAPlfxRF</td>\n",
       "      <td>Post Malone, Ty Dolla $ign</td>\n",
       "      <td>Psycho (feat. Ty Dolla $ign)</td>\n",
       "      <td>Republic Records</td>\n",
       "      <td>2</td>\n",
       "      <td>-1</td>\n",
       "      <td>1</td>\n",
       "      <td>6588</td>\n",
       "      <td>2018-03-15</td>\n",
       "      <td>11</td>\n",
       "      <td>2018</td>\n",
       "      <td>2018-03-15</td>\n",
       "      <td>1.521072e+09</td>\n",
       "      <td>2018-03-01</td>\n",
       "      <td>2</td>\n",
       "      <td>Post Malone</td>\n",
       "      <td>1</td>\n",
       "    </tr>\n",
       "    <tr>\n",
       "      <th>2</th>\n",
       "      <td>3</td>\n",
       "      <td>spotify:track:2U7Hu2RaNQNRi7izoJyZaX</td>\n",
       "      <td>Post Malone, 21 Savage</td>\n",
       "      <td>rockstar (feat. 21 Savage)</td>\n",
       "      <td>Republic Records</td>\n",
       "      <td>3</td>\n",
       "      <td>-1</td>\n",
       "      <td>1</td>\n",
       "      <td>5738</td>\n",
       "      <td>2018-03-15</td>\n",
       "      <td>11</td>\n",
       "      <td>2018</td>\n",
       "      <td>2018-03-15</td>\n",
       "      <td>1.521072e+09</td>\n",
       "      <td>2018-03-01</td>\n",
       "      <td>2</td>\n",
       "      <td>Post Malone</td>\n",
       "      <td>1</td>\n",
       "    </tr>\n",
       "    <tr>\n",
       "      <th>3</th>\n",
       "      <td>4</td>\n",
       "      <td>spotify:track:3GCdLUSnKSMJhs4Tj6CV3s</td>\n",
       "      <td>Kendrick Lamar, SZA</td>\n",
       "      <td>All The Stars (with SZA)</td>\n",
       "      <td>Black Panther (TDE/DMG) PS</td>\n",
       "      <td>4</td>\n",
       "      <td>-1</td>\n",
       "      <td>1</td>\n",
       "      <td>5585</td>\n",
       "      <td>2018-03-15</td>\n",
       "      <td>11</td>\n",
       "      <td>2018</td>\n",
       "      <td>2018-03-15</td>\n",
       "      <td>1.521072e+09</td>\n",
       "      <td>2018-03-01</td>\n",
       "      <td>1</td>\n",
       "      <td>Kendrick Lamar</td>\n",
       "      <td>1</td>\n",
       "    </tr>\n",
       "    <tr>\n",
       "      <th>4</th>\n",
       "      <td>5</td>\n",
       "      <td>spotify:track:45Egmo7icyopuzJN0oMEdk</td>\n",
       "      <td>Khalid, Normani</td>\n",
       "      <td>Love Lies (with Normani)</td>\n",
       "      <td>RCA Records Label</td>\n",
       "      <td>5</td>\n",
       "      <td>-1</td>\n",
       "      <td>1</td>\n",
       "      <td>5535</td>\n",
       "      <td>2018-03-15</td>\n",
       "      <td>11</td>\n",
       "      <td>2018</td>\n",
       "      <td>2018-03-15</td>\n",
       "      <td>1.521072e+09</td>\n",
       "      <td>2018-03-01</td>\n",
       "      <td>1</td>\n",
       "      <td>Khalid</td>\n",
       "      <td>1</td>\n",
       "    </tr>\n",
       "  </tbody>\n",
       "</table>\n",
       "</div>"
      ],
      "text/plain": [
       "   rank                                   uri                artist_names  \\\n",
       "0     1  spotify:track:2XW4DbS6NddZxRPm5rMCeY                       Drake   \n",
       "1     2  spotify:track:65NwOZqoXny4JxqAPlfxRF  Post Malone, Ty Dolla $ign   \n",
       "2     3  spotify:track:2U7Hu2RaNQNRi7izoJyZaX      Post Malone, 21 Savage   \n",
       "3     4  spotify:track:3GCdLUSnKSMJhs4Tj6CV3s         Kendrick Lamar, SZA   \n",
       "4     5  spotify:track:45Egmo7icyopuzJN0oMEdk             Khalid, Normani   \n",
       "\n",
       "                     track_name                      source  peak_rank  \\\n",
       "0                    God's Plan        Cash Money/Drake LP6          1   \n",
       "1  Psycho (feat. Ty Dolla $ign)            Republic Records          2   \n",
       "2    rockstar (feat. 21 Savage)            Republic Records          3   \n",
       "3      All The Stars (with SZA)  Black Panther (TDE/DMG) PS          4   \n",
       "4      Love Lies (with Normani)           RCA Records Label          5   \n",
       "\n",
       "   previous_rank  weeks_on_chart  streams    End Date  Week  Year End Date Dt  \\\n",
       "0             -1               1    10313  2018-03-15    11  2018  2018-03-15   \n",
       "1             -1               1     6588  2018-03-15    11  2018  2018-03-15   \n",
       "2             -1               1     5738  2018-03-15    11  2018  2018-03-15   \n",
       "3             -1               1     5585  2018-03-15    11  2018  2018-03-15   \n",
       "4             -1               1     5535  2018-03-15    11  2018  2018-03-15   \n",
       "\n",
       "   Seconds since Epoch End Date Aggregated  ArtistCount     main_artist  \\\n",
       "0         1.521072e+09          2018-03-01            1           Drake   \n",
       "1         1.521072e+09          2018-03-01            2     Post Malone   \n",
       "2         1.521072e+09          2018-03-01            2     Post Malone   \n",
       "3         1.521072e+09          2018-03-01            1  Kendrick Lamar   \n",
       "4         1.521072e+09          2018-03-01            1          Khalid   \n",
       "\n",
       "   isTopTen  \n",
       "0         1  \n",
       "1         1  \n",
       "2         1  \n",
       "3         1  \n",
       "4         1  "
      ]
     },
     "execution_count": 28,
     "metadata": {},
     "output_type": "execute_result"
    }
   ],
   "source": [
    "the_spotify_data.head()"
   ]
  },
  {
   "cell_type": "markdown",
   "metadata": {},
   "source": [
    "### When did the track reach the Top 10 "
   ]
  },
  {
   "cell_type": "markdown",
   "metadata": {},
   "source": [
    "### how long does a song last on the charts?"
   ]
  },
  {
   "cell_type": "code",
   "execution_count": 29,
   "metadata": {},
   "outputs": [],
   "source": [
    "# def lengthSong(x):\n",
    "#     min_date = min(x[\"Start Date\"])\n",
    "#     max_date = max(x[\"End Date\"])\n",
    "    \n",
    "#     def convertStrToDate(y):\n",
    "#         split_date = y.split(\"-\")\n",
    "#         dateindtformat = datetime(int(split_date[0]), int(split_date[1]), int(split_date[2]))\n",
    "        \n",
    "#         return dateindtformat\n",
    "    \n",
    "#     x[\"lenOnCharts\"] = [int(((convertStrToDate(max_date) - convertStrToDate(min_date)).total_seconds() / 604800)) ] * len(x)\n",
    "#     x[\"lenOnCharts\"] = x[\"lenOnCharts\"]\n",
    "    \n",
    "#     return x\n",
    "    \n",
    "# the_spotify_data = the_spotify_data.groupby([\"Artist\", \"Track Name\"], as_index=False).apply(lambda x : lengthSong(x))"
   ]
  },
  {
   "cell_type": "code",
   "execution_count": 30,
   "metadata": {},
   "outputs": [
    {
     "data": {
      "text/html": [
       "<div>\n",
       "<style scoped>\n",
       "    .dataframe tbody tr th:only-of-type {\n",
       "        vertical-align: middle;\n",
       "    }\n",
       "\n",
       "    .dataframe tbody tr th {\n",
       "        vertical-align: top;\n",
       "    }\n",
       "\n",
       "    .dataframe thead th {\n",
       "        text-align: right;\n",
       "    }\n",
       "</style>\n",
       "<table border=\"1\" class=\"dataframe\">\n",
       "  <thead>\n",
       "    <tr style=\"text-align: right;\">\n",
       "      <th></th>\n",
       "      <th>rank</th>\n",
       "      <th>uri</th>\n",
       "      <th>artist_names</th>\n",
       "      <th>track_name</th>\n",
       "      <th>source</th>\n",
       "      <th>peak_rank</th>\n",
       "      <th>previous_rank</th>\n",
       "      <th>weeks_on_chart</th>\n",
       "      <th>streams</th>\n",
       "      <th>End Date</th>\n",
       "      <th>Week</th>\n",
       "      <th>Year</th>\n",
       "      <th>End Date Dt</th>\n",
       "      <th>Seconds since Epoch</th>\n",
       "      <th>End Date Aggregated</th>\n",
       "      <th>ArtistCount</th>\n",
       "      <th>main_artist</th>\n",
       "      <th>isTopTen</th>\n",
       "    </tr>\n",
       "  </thead>\n",
       "  <tbody>\n",
       "    <tr>\n",
       "      <th>0</th>\n",
       "      <td>1</td>\n",
       "      <td>spotify:track:2XW4DbS6NddZxRPm5rMCeY</td>\n",
       "      <td>Drake</td>\n",
       "      <td>God's Plan</td>\n",
       "      <td>Cash Money/Drake LP6</td>\n",
       "      <td>1</td>\n",
       "      <td>-1</td>\n",
       "      <td>1</td>\n",
       "      <td>10313</td>\n",
       "      <td>2018-03-15</td>\n",
       "      <td>11</td>\n",
       "      <td>2018</td>\n",
       "      <td>2018-03-15</td>\n",
       "      <td>1.521072e+09</td>\n",
       "      <td>2018-03-01</td>\n",
       "      <td>1</td>\n",
       "      <td>Drake</td>\n",
       "      <td>1</td>\n",
       "    </tr>\n",
       "    <tr>\n",
       "      <th>1</th>\n",
       "      <td>2</td>\n",
       "      <td>spotify:track:65NwOZqoXny4JxqAPlfxRF</td>\n",
       "      <td>Post Malone, Ty Dolla $ign</td>\n",
       "      <td>Psycho (feat. Ty Dolla $ign)</td>\n",
       "      <td>Republic Records</td>\n",
       "      <td>2</td>\n",
       "      <td>-1</td>\n",
       "      <td>1</td>\n",
       "      <td>6588</td>\n",
       "      <td>2018-03-15</td>\n",
       "      <td>11</td>\n",
       "      <td>2018</td>\n",
       "      <td>2018-03-15</td>\n",
       "      <td>1.521072e+09</td>\n",
       "      <td>2018-03-01</td>\n",
       "      <td>2</td>\n",
       "      <td>Post Malone</td>\n",
       "      <td>1</td>\n",
       "    </tr>\n",
       "    <tr>\n",
       "      <th>2</th>\n",
       "      <td>3</td>\n",
       "      <td>spotify:track:2U7Hu2RaNQNRi7izoJyZaX</td>\n",
       "      <td>Post Malone, 21 Savage</td>\n",
       "      <td>rockstar (feat. 21 Savage)</td>\n",
       "      <td>Republic Records</td>\n",
       "      <td>3</td>\n",
       "      <td>-1</td>\n",
       "      <td>1</td>\n",
       "      <td>5738</td>\n",
       "      <td>2018-03-15</td>\n",
       "      <td>11</td>\n",
       "      <td>2018</td>\n",
       "      <td>2018-03-15</td>\n",
       "      <td>1.521072e+09</td>\n",
       "      <td>2018-03-01</td>\n",
       "      <td>2</td>\n",
       "      <td>Post Malone</td>\n",
       "      <td>1</td>\n",
       "    </tr>\n",
       "    <tr>\n",
       "      <th>3</th>\n",
       "      <td>4</td>\n",
       "      <td>spotify:track:3GCdLUSnKSMJhs4Tj6CV3s</td>\n",
       "      <td>Kendrick Lamar, SZA</td>\n",
       "      <td>All The Stars (with SZA)</td>\n",
       "      <td>Black Panther (TDE/DMG) PS</td>\n",
       "      <td>4</td>\n",
       "      <td>-1</td>\n",
       "      <td>1</td>\n",
       "      <td>5585</td>\n",
       "      <td>2018-03-15</td>\n",
       "      <td>11</td>\n",
       "      <td>2018</td>\n",
       "      <td>2018-03-15</td>\n",
       "      <td>1.521072e+09</td>\n",
       "      <td>2018-03-01</td>\n",
       "      <td>1</td>\n",
       "      <td>Kendrick Lamar</td>\n",
       "      <td>1</td>\n",
       "    </tr>\n",
       "    <tr>\n",
       "      <th>4</th>\n",
       "      <td>5</td>\n",
       "      <td>spotify:track:45Egmo7icyopuzJN0oMEdk</td>\n",
       "      <td>Khalid, Normani</td>\n",
       "      <td>Love Lies (with Normani)</td>\n",
       "      <td>RCA Records Label</td>\n",
       "      <td>5</td>\n",
       "      <td>-1</td>\n",
       "      <td>1</td>\n",
       "      <td>5535</td>\n",
       "      <td>2018-03-15</td>\n",
       "      <td>11</td>\n",
       "      <td>2018</td>\n",
       "      <td>2018-03-15</td>\n",
       "      <td>1.521072e+09</td>\n",
       "      <td>2018-03-01</td>\n",
       "      <td>1</td>\n",
       "      <td>Khalid</td>\n",
       "      <td>1</td>\n",
       "    </tr>\n",
       "  </tbody>\n",
       "</table>\n",
       "</div>"
      ],
      "text/plain": [
       "   rank                                   uri                artist_names  \\\n",
       "0     1  spotify:track:2XW4DbS6NddZxRPm5rMCeY                       Drake   \n",
       "1     2  spotify:track:65NwOZqoXny4JxqAPlfxRF  Post Malone, Ty Dolla $ign   \n",
       "2     3  spotify:track:2U7Hu2RaNQNRi7izoJyZaX      Post Malone, 21 Savage   \n",
       "3     4  spotify:track:3GCdLUSnKSMJhs4Tj6CV3s         Kendrick Lamar, SZA   \n",
       "4     5  spotify:track:45Egmo7icyopuzJN0oMEdk             Khalid, Normani   \n",
       "\n",
       "                     track_name                      source  peak_rank  \\\n",
       "0                    God's Plan        Cash Money/Drake LP6          1   \n",
       "1  Psycho (feat. Ty Dolla $ign)            Republic Records          2   \n",
       "2    rockstar (feat. 21 Savage)            Republic Records          3   \n",
       "3      All The Stars (with SZA)  Black Panther (TDE/DMG) PS          4   \n",
       "4      Love Lies (with Normani)           RCA Records Label          5   \n",
       "\n",
       "   previous_rank  weeks_on_chart  streams    End Date  Week  Year End Date Dt  \\\n",
       "0             -1               1    10313  2018-03-15    11  2018  2018-03-15   \n",
       "1             -1               1     6588  2018-03-15    11  2018  2018-03-15   \n",
       "2             -1               1     5738  2018-03-15    11  2018  2018-03-15   \n",
       "3             -1               1     5585  2018-03-15    11  2018  2018-03-15   \n",
       "4             -1               1     5535  2018-03-15    11  2018  2018-03-15   \n",
       "\n",
       "   Seconds since Epoch End Date Aggregated  ArtistCount     main_artist  \\\n",
       "0         1.521072e+09          2018-03-01            1           Drake   \n",
       "1         1.521072e+09          2018-03-01            2     Post Malone   \n",
       "2         1.521072e+09          2018-03-01            2     Post Malone   \n",
       "3         1.521072e+09          2018-03-01            1  Kendrick Lamar   \n",
       "4         1.521072e+09          2018-03-01            1          Khalid   \n",
       "\n",
       "   isTopTen  \n",
       "0         1  \n",
       "1         1  \n",
       "2         1  \n",
       "3         1  \n",
       "4         1  "
      ]
     },
     "execution_count": 30,
     "metadata": {},
     "output_type": "execute_result"
    }
   ],
   "source": [
    "the_spotify_data.head()"
   ]
  },
  {
   "cell_type": "code",
   "execution_count": 31,
   "metadata": {},
   "outputs": [],
   "source": [
    "# the_spotify_data[\"lenOnCharts\"].unique().tolist()"
   ]
  },
  {
   "cell_type": "code",
   "execution_count": 32,
   "metadata": {},
   "outputs": [],
   "source": [
    "# def getWeeksOnChart(x):\n",
    "#     min_top_ten_date = min(x[\"Start Date\"])\n",
    "    \n",
    "#     x[\"firstWeekOnChartTopTen\"] = x.apply(lambda x : True if(x[\"isTopTen\"] == 1 and x[\"Start Date\"] == min_top_ten_date) else False , axis=1)    \n",
    "    \n",
    "#     def convertStrToDate(y):\n",
    "#         split_date = y.split(\"-\")\n",
    "#         dateindtformat = datetime(int(split_date[0]), int(split_date[1]), int(split_date[2]))\n",
    "        \n",
    "#         return dateindtformat\n",
    "        \n",
    "#     firstweekdate = x[x[\"firstWeekOnChartTopTen\"] == True][\"Start Date\"].unique().tolist()\n",
    "#     if(len(firstweekdate) == 0):\n",
    "#         firstweekdate = x[\"Start Date\"].unique().tolist()\n",
    "        \n",
    "#     firstweekdate = firstweekdate[0]\n",
    "    \n",
    "   \n",
    "# GET WEEK ON CHART\n",
    "#     x[\"weeksOnChartToTopTen\"] = x.apply(lambda art : convertStrToDate(firstweekdate) - convertStrToDate(min_top_ten_date), axis=1)\n",
    "    \n",
    "#     return x         \n",
    "    \n",
    "# the_spotify_data =the_spotify_data.groupby([\"Artist\", \"Track Name\"], as_index=False).apply(lambda x : getWeeksOnChart(x))"
   ]
  },
  {
   "cell_type": "code",
   "execution_count": 33,
   "metadata": {},
   "outputs": [],
   "source": [
    "# the_spotify_data_top_ten = the_spotify_data_top_ten.reset_index()"
   ]
  },
  {
   "cell_type": "code",
   "execution_count": 34,
   "metadata": {},
   "outputs": [],
   "source": [
    "# the_spotify_data_top_ten.columns"
   ]
  },
  {
   "cell_type": "code",
   "execution_count": 35,
   "metadata": {},
   "outputs": [],
   "source": [
    "# the_spotify_data_top_ten.drop(['index'], axis=1, inplace=True)\n",
    "# the_spotify_data_top_ten.head()"
   ]
  },
  {
   "cell_type": "code",
   "execution_count": 36,
   "metadata": {},
   "outputs": [],
   "source": [
    "# the_spotify_data_top_ten.columns = [\"Artist\", \"Track Name\", \"isTopTen\"]"
   ]
  },
  {
   "cell_type": "code",
   "execution_count": 37,
   "metadata": {},
   "outputs": [],
   "source": [
    "# the_spotify_data.shape, the_spotify_data.shape"
   ]
  },
  {
   "cell_type": "code",
   "execution_count": 38,
   "metadata": {},
   "outputs": [],
   "source": [
    "# the_spotify_data_new = the_spotify_data.merge(the_spotify_data_top_ten, left_on=[\"Artist\", \"Track Name\"], right_on=[\"Artist\", \"Track Name\"], how=\"outer\")"
   ]
  },
  {
   "cell_type": "code",
   "execution_count": 39,
   "metadata": {},
   "outputs": [],
   "source": [
    "# the_spotify_data.shape, the_spotify_data_top_ten.shape"
   ]
  },
  {
   "cell_type": "code",
   "execution_count": 40,
   "metadata": {},
   "outputs": [],
   "source": [
    "# the_spotify_data = the_spotify_data_top_ten"
   ]
  },
  {
   "cell_type": "code",
   "execution_count": 41,
   "metadata": {},
   "outputs": [
    {
     "data": {
      "text/plain": [
       "0    30838\n",
       "1    15648\n",
       "Name: isTopTen, dtype: int64"
      ]
     },
     "execution_count": 41,
     "metadata": {},
     "output_type": "execute_result"
    }
   ],
   "source": [
    "the_spotify_data[\"isTopTen\"].value_counts()"
   ]
  },
  {
   "cell_type": "code",
   "execution_count": 42,
   "metadata": {},
   "outputs": [
    {
     "data": {
      "text/plain": [
       "rank                   0\n",
       "uri                    0\n",
       "artist_names           0\n",
       "track_name             0\n",
       "source                 0\n",
       "peak_rank              0\n",
       "previous_rank          0\n",
       "weeks_on_chart         0\n",
       "streams                0\n",
       "End Date               0\n",
       "Week                   0\n",
       "Year                   0\n",
       "End Date Dt            0\n",
       "Seconds since Epoch    0\n",
       "End Date Aggregated    0\n",
       "ArtistCount            0\n",
       "main_artist            0\n",
       "isTopTen               0\n",
       "dtype: int64"
      ]
     },
     "execution_count": 42,
     "metadata": {},
     "output_type": "execute_result"
    }
   ],
   "source": [
    "the_spotify_data.isnull().sum()"
   ]
  },
  {
   "cell_type": "code",
   "execution_count": 43,
   "metadata": {},
   "outputs": [
    {
     "name": "stdout",
     "output_type": "stream",
     "text": [
      "890\n"
     ]
    }
   ],
   "source": [
    "unique_artists = the_spotify_data[\"main_artist\"].unique().tolist()\n",
    "num_artists = len(unique_artists)\n",
    "print(num_artists)"
   ]
  },
  {
   "cell_type": "code",
   "execution_count": 44,
   "metadata": {},
   "outputs": [],
   "source": [
    "### find new artists in that week"
   ]
  },
  {
   "cell_type": "code",
   "execution_count": 45,
   "metadata": {},
   "outputs": [],
   "source": [
    "# the_spotify_data.head(12)\n",
    "def getArtistAppearanceCount(x):\n",
    "    \n",
    "    x = x.reset_index()\n",
    "    x.drop([\"index\"],axis=1,inplace=True)\n",
    "    x = x.reset_index()\n",
    "    \n",
    "    x_cols = x.columns\n",
    "    \n",
    "    x_cols = [w.replace('index', 'artistAppearanceCount') for w in x_cols]\n",
    "    \n",
    "    x.columns = x_cols\n",
    "    \n",
    "    return x        \n",
    "    \n",
    "the_spotify_data =the_spotify_data.groupby([\"main_artist\"], as_index=False).apply(lambda x : getArtistAppearanceCount(x))\n",
    "the_spotify_data = the_spotify_data.reset_index()\n",
    "the_spotify_data.drop([\"level_0\", \"level_1\"], inplace=True, axis=1)"
   ]
  },
  {
   "cell_type": "code",
   "execution_count": 46,
   "metadata": {},
   "outputs": [
    {
     "data": {
      "text/html": [
       "<div>\n",
       "<style scoped>\n",
       "    .dataframe tbody tr th:only-of-type {\n",
       "        vertical-align: middle;\n",
       "    }\n",
       "\n",
       "    .dataframe tbody tr th {\n",
       "        vertical-align: top;\n",
       "    }\n",
       "\n",
       "    .dataframe thead th {\n",
       "        text-align: right;\n",
       "    }\n",
       "</style>\n",
       "<table border=\"1\" class=\"dataframe\">\n",
       "  <thead>\n",
       "    <tr style=\"text-align: right;\">\n",
       "      <th></th>\n",
       "      <th>artistAppearanceCount</th>\n",
       "      <th>rank</th>\n",
       "      <th>uri</th>\n",
       "      <th>artist_names</th>\n",
       "      <th>track_name</th>\n",
       "      <th>source</th>\n",
       "      <th>peak_rank</th>\n",
       "      <th>previous_rank</th>\n",
       "      <th>weeks_on_chart</th>\n",
       "      <th>streams</th>\n",
       "      <th>End Date</th>\n",
       "      <th>Week</th>\n",
       "      <th>Year</th>\n",
       "      <th>End Date Dt</th>\n",
       "      <th>Seconds since Epoch</th>\n",
       "      <th>End Date Aggregated</th>\n",
       "      <th>ArtistCount</th>\n",
       "      <th>main_artist</th>\n",
       "      <th>isTopTen</th>\n",
       "    </tr>\n",
       "  </thead>\n",
       "  <tbody>\n",
       "    <tr>\n",
       "      <th>0</th>\n",
       "      <td>0</td>\n",
       "      <td>194</td>\n",
       "      <td>spotify:track:3zpGLSQ8QbbUnNjweWPLMD</td>\n",
       "      <td>$NOT, A$AP Rocky</td>\n",
       "      <td>Doja</td>\n",
       "      <td>300 Entertainment</td>\n",
       "      <td>194</td>\n",
       "      <td>-1</td>\n",
       "      <td>1</td>\n",
       "      <td>23789</td>\n",
       "      <td>2022-02-10</td>\n",
       "      <td>6</td>\n",
       "      <td>2022</td>\n",
       "      <td>2022-02-10</td>\n",
       "      <td>1.644451e+09</td>\n",
       "      <td>2022-02-01</td>\n",
       "      <td>1</td>\n",
       "      <td>$NOT</td>\n",
       "      <td>0</td>\n",
       "    </tr>\n",
       "    <tr>\n",
       "      <th>1</th>\n",
       "      <td>0</td>\n",
       "      <td>182</td>\n",
       "      <td>spotify:track:30QR0ndUdiiMQMA9g1PGCm</td>\n",
       "      <td>$uicideboy$</td>\n",
       "      <td>...And to Those I Love, Thanks for Sticking Ar...</td>\n",
       "      <td>G59 Records</td>\n",
       "      <td>182</td>\n",
       "      <td>-1</td>\n",
       "      <td>1</td>\n",
       "      <td>23341</td>\n",
       "      <td>2021-10-07</td>\n",
       "      <td>40</td>\n",
       "      <td>2021</td>\n",
       "      <td>2021-10-07</td>\n",
       "      <td>1.633565e+09</td>\n",
       "      <td>2021-10-01</td>\n",
       "      <td>1</td>\n",
       "      <td>$uicideboy$</td>\n",
       "      <td>0</td>\n",
       "    </tr>\n",
       "    <tr>\n",
       "      <th>2</th>\n",
       "      <td>0</td>\n",
       "      <td>78</td>\n",
       "      <td>spotify:track:5S1IUPueD0xE0vj4zU3nSf</td>\n",
       "      <td>2 Chainz, Drake, Quavo</td>\n",
       "      <td>Bigger Than You (feat. Drake &amp; Quavo)</td>\n",
       "      <td>Def Jam Recordings</td>\n",
       "      <td>78</td>\n",
       "      <td>-1</td>\n",
       "      <td>1</td>\n",
       "      <td>5994</td>\n",
       "      <td>2018-06-21</td>\n",
       "      <td>25</td>\n",
       "      <td>2018</td>\n",
       "      <td>2018-06-21</td>\n",
       "      <td>1.529539e+09</td>\n",
       "      <td>2018-06-01</td>\n",
       "      <td>3</td>\n",
       "      <td>2 Chainz</td>\n",
       "      <td>0</td>\n",
       "    </tr>\n",
       "    <tr>\n",
       "      <th>3</th>\n",
       "      <td>1</td>\n",
       "      <td>90</td>\n",
       "      <td>spotify:track:5S1IUPueD0xE0vj4zU3nSf</td>\n",
       "      <td>2 Chainz, Drake, Quavo</td>\n",
       "      <td>Bigger Than You (feat. Drake &amp; Quavo)</td>\n",
       "      <td>Def Jam Recordings</td>\n",
       "      <td>78</td>\n",
       "      <td>78</td>\n",
       "      <td>2</td>\n",
       "      <td>5265</td>\n",
       "      <td>2018-06-28</td>\n",
       "      <td>26</td>\n",
       "      <td>2018</td>\n",
       "      <td>2018-06-28</td>\n",
       "      <td>1.530144e+09</td>\n",
       "      <td>2018-06-01</td>\n",
       "      <td>3</td>\n",
       "      <td>2 Chainz</td>\n",
       "      <td>0</td>\n",
       "    </tr>\n",
       "    <tr>\n",
       "      <th>4</th>\n",
       "      <td>2</td>\n",
       "      <td>146</td>\n",
       "      <td>spotify:track:5S1IUPueD0xE0vj4zU3nSf</td>\n",
       "      <td>2 Chainz, Drake, Quavo</td>\n",
       "      <td>Bigger Than You (feat. Drake &amp; Quavo)</td>\n",
       "      <td>Def Jam Recordings</td>\n",
       "      <td>78</td>\n",
       "      <td>90</td>\n",
       "      <td>3</td>\n",
       "      <td>3964</td>\n",
       "      <td>2018-07-05</td>\n",
       "      <td>27</td>\n",
       "      <td>2018</td>\n",
       "      <td>2018-07-05</td>\n",
       "      <td>1.530749e+09</td>\n",
       "      <td>2018-07-01</td>\n",
       "      <td>3</td>\n",
       "      <td>2 Chainz</td>\n",
       "      <td>0</td>\n",
       "    </tr>\n",
       "  </tbody>\n",
       "</table>\n",
       "</div>"
      ],
      "text/plain": [
       "   artistAppearanceCount  rank                                   uri  \\\n",
       "0                      0   194  spotify:track:3zpGLSQ8QbbUnNjweWPLMD   \n",
       "1                      0   182  spotify:track:30QR0ndUdiiMQMA9g1PGCm   \n",
       "2                      0    78  spotify:track:5S1IUPueD0xE0vj4zU3nSf   \n",
       "3                      1    90  spotify:track:5S1IUPueD0xE0vj4zU3nSf   \n",
       "4                      2   146  spotify:track:5S1IUPueD0xE0vj4zU3nSf   \n",
       "\n",
       "             artist_names                                         track_name  \\\n",
       "0        $NOT, A$AP Rocky                                               Doja   \n",
       "1             $uicideboy$  ...And to Those I Love, Thanks for Sticking Ar...   \n",
       "2  2 Chainz, Drake, Quavo              Bigger Than You (feat. Drake & Quavo)   \n",
       "3  2 Chainz, Drake, Quavo              Bigger Than You (feat. Drake & Quavo)   \n",
       "4  2 Chainz, Drake, Quavo              Bigger Than You (feat. Drake & Quavo)   \n",
       "\n",
       "               source  peak_rank  previous_rank  weeks_on_chart  streams  \\\n",
       "0   300 Entertainment        194             -1               1    23789   \n",
       "1         G59 Records        182             -1               1    23341   \n",
       "2  Def Jam Recordings         78             -1               1     5994   \n",
       "3  Def Jam Recordings         78             78               2     5265   \n",
       "4  Def Jam Recordings         78             90               3     3964   \n",
       "\n",
       "     End Date  Week  Year End Date Dt  Seconds since Epoch  \\\n",
       "0  2022-02-10     6  2022  2022-02-10         1.644451e+09   \n",
       "1  2021-10-07    40  2021  2021-10-07         1.633565e+09   \n",
       "2  2018-06-21    25  2018  2018-06-21         1.529539e+09   \n",
       "3  2018-06-28    26  2018  2018-06-28         1.530144e+09   \n",
       "4  2018-07-05    27  2018  2018-07-05         1.530749e+09   \n",
       "\n",
       "  End Date Aggregated  ArtistCount  main_artist  isTopTen  \n",
       "0          2022-02-01            1         $NOT         0  \n",
       "1          2021-10-01            1  $uicideboy$         0  \n",
       "2          2018-06-01            3     2 Chainz         0  \n",
       "3          2018-06-01            3     2 Chainz         0  \n",
       "4          2018-07-01            3     2 Chainz         0  "
      ]
     },
     "execution_count": 46,
     "metadata": {},
     "output_type": "execute_result"
    }
   ],
   "source": [
    "the_spotify_data.head()"
   ]
  },
  {
   "cell_type": "code",
   "execution_count": 47,
   "metadata": {},
   "outputs": [],
   "source": [
    "def getTrackAppearanceCount(x):\n",
    "    \n",
    "    x = x.reset_index()\n",
    "    x.drop([\"index\"],axis=1,inplace=True)\n",
    "    x = x.reset_index()\n",
    "    \n",
    "    x_cols = x.columns\n",
    "    \n",
    "    x_cols = [w.replace('index', 'trackAppearanceCount') for w in x_cols]\n",
    "    \n",
    "    x.columns = x_cols\n",
    "    \n",
    "    return x         \n",
    "    \n",
    "the_spotify_data =the_spotify_data.groupby([\"artist_names\", \"track_name\"], as_index=False).apply(lambda x : getTrackAppearanceCount(x))\n",
    "the_spotify_data = the_spotify_data.reset_index()\n",
    "the_spotify_data.drop([\"level_0\", \"level_1\"], inplace=True, axis=1)"
   ]
  },
  {
   "cell_type": "code",
   "execution_count": 48,
   "metadata": {},
   "outputs": [
    {
     "data": {
      "text/html": [
       "<div>\n",
       "<style scoped>\n",
       "    .dataframe tbody tr th:only-of-type {\n",
       "        vertical-align: middle;\n",
       "    }\n",
       "\n",
       "    .dataframe tbody tr th {\n",
       "        vertical-align: top;\n",
       "    }\n",
       "\n",
       "    .dataframe thead th {\n",
       "        text-align: right;\n",
       "    }\n",
       "</style>\n",
       "<table border=\"1\" class=\"dataframe\">\n",
       "  <thead>\n",
       "    <tr style=\"text-align: right;\">\n",
       "      <th></th>\n",
       "      <th>trackAppearanceCount</th>\n",
       "      <th>artistAppearanceCount</th>\n",
       "      <th>rank</th>\n",
       "      <th>uri</th>\n",
       "      <th>artist_names</th>\n",
       "      <th>track_name</th>\n",
       "      <th>source</th>\n",
       "      <th>peak_rank</th>\n",
       "      <th>previous_rank</th>\n",
       "      <th>weeks_on_chart</th>\n",
       "      <th>streams</th>\n",
       "      <th>End Date</th>\n",
       "      <th>Week</th>\n",
       "      <th>Year</th>\n",
       "      <th>End Date Dt</th>\n",
       "      <th>Seconds since Epoch</th>\n",
       "      <th>End Date Aggregated</th>\n",
       "      <th>ArtistCount</th>\n",
       "      <th>main_artist</th>\n",
       "      <th>isTopTen</th>\n",
       "    </tr>\n",
       "  </thead>\n",
       "  <tbody>\n",
       "    <tr>\n",
       "      <th>0</th>\n",
       "      <td>0</td>\n",
       "      <td>0</td>\n",
       "      <td>194</td>\n",
       "      <td>spotify:track:3zpGLSQ8QbbUnNjweWPLMD</td>\n",
       "      <td>$NOT, A$AP Rocky</td>\n",
       "      <td>Doja</td>\n",
       "      <td>300 Entertainment</td>\n",
       "      <td>194</td>\n",
       "      <td>-1</td>\n",
       "      <td>1</td>\n",
       "      <td>23789</td>\n",
       "      <td>2022-02-10</td>\n",
       "      <td>6</td>\n",
       "      <td>2022</td>\n",
       "      <td>2022-02-10</td>\n",
       "      <td>1.644451e+09</td>\n",
       "      <td>2022-02-01</td>\n",
       "      <td>1</td>\n",
       "      <td>$NOT</td>\n",
       "      <td>0</td>\n",
       "    </tr>\n",
       "    <tr>\n",
       "      <th>1</th>\n",
       "      <td>0</td>\n",
       "      <td>0</td>\n",
       "      <td>182</td>\n",
       "      <td>spotify:track:30QR0ndUdiiMQMA9g1PGCm</td>\n",
       "      <td>$uicideboy$</td>\n",
       "      <td>...And to Those I Love, Thanks for Sticking Ar...</td>\n",
       "      <td>G59 Records</td>\n",
       "      <td>182</td>\n",
       "      <td>-1</td>\n",
       "      <td>1</td>\n",
       "      <td>23341</td>\n",
       "      <td>2021-10-07</td>\n",
       "      <td>40</td>\n",
       "      <td>2021</td>\n",
       "      <td>2021-10-07</td>\n",
       "      <td>1.633565e+09</td>\n",
       "      <td>2021-10-01</td>\n",
       "      <td>1</td>\n",
       "      <td>$uicideboy$</td>\n",
       "      <td>0</td>\n",
       "    </tr>\n",
       "    <tr>\n",
       "      <th>2</th>\n",
       "      <td>0</td>\n",
       "      <td>8</td>\n",
       "      <td>148</td>\n",
       "      <td>spotify:track:1R6VwZ8TuHRzxZUxe88n4I</td>\n",
       "      <td>2 Chainz, Ariana Grande</td>\n",
       "      <td>Rule The World (feat. Ariana Grande)</td>\n",
       "      <td>Gamebread, LLC / Def Jam Recordings</td>\n",
       "      <td>148</td>\n",
       "      <td>-1</td>\n",
       "      <td>1</td>\n",
       "      <td>8536</td>\n",
       "      <td>2019-03-07</td>\n",
       "      <td>10</td>\n",
       "      <td>2019</td>\n",
       "      <td>2019-03-07</td>\n",
       "      <td>1.551917e+09</td>\n",
       "      <td>2019-03-01</td>\n",
       "      <td>2</td>\n",
       "      <td>2 Chainz</td>\n",
       "      <td>0</td>\n",
       "    </tr>\n",
       "    <tr>\n",
       "      <th>3</th>\n",
       "      <td>0</td>\n",
       "      <td>0</td>\n",
       "      <td>78</td>\n",
       "      <td>spotify:track:5S1IUPueD0xE0vj4zU3nSf</td>\n",
       "      <td>2 Chainz, Drake, Quavo</td>\n",
       "      <td>Bigger Than You (feat. Drake &amp; Quavo)</td>\n",
       "      <td>Def Jam Recordings</td>\n",
       "      <td>78</td>\n",
       "      <td>-1</td>\n",
       "      <td>1</td>\n",
       "      <td>5994</td>\n",
       "      <td>2018-06-21</td>\n",
       "      <td>25</td>\n",
       "      <td>2018</td>\n",
       "      <td>2018-06-21</td>\n",
       "      <td>1.529539e+09</td>\n",
       "      <td>2018-06-01</td>\n",
       "      <td>3</td>\n",
       "      <td>2 Chainz</td>\n",
       "      <td>0</td>\n",
       "    </tr>\n",
       "    <tr>\n",
       "      <th>4</th>\n",
       "      <td>1</td>\n",
       "      <td>1</td>\n",
       "      <td>90</td>\n",
       "      <td>spotify:track:5S1IUPueD0xE0vj4zU3nSf</td>\n",
       "      <td>2 Chainz, Drake, Quavo</td>\n",
       "      <td>Bigger Than You (feat. Drake &amp; Quavo)</td>\n",
       "      <td>Def Jam Recordings</td>\n",
       "      <td>78</td>\n",
       "      <td>78</td>\n",
       "      <td>2</td>\n",
       "      <td>5265</td>\n",
       "      <td>2018-06-28</td>\n",
       "      <td>26</td>\n",
       "      <td>2018</td>\n",
       "      <td>2018-06-28</td>\n",
       "      <td>1.530144e+09</td>\n",
       "      <td>2018-06-01</td>\n",
       "      <td>3</td>\n",
       "      <td>2 Chainz</td>\n",
       "      <td>0</td>\n",
       "    </tr>\n",
       "  </tbody>\n",
       "</table>\n",
       "</div>"
      ],
      "text/plain": [
       "   trackAppearanceCount  artistAppearanceCount  rank  \\\n",
       "0                     0                      0   194   \n",
       "1                     0                      0   182   \n",
       "2                     0                      8   148   \n",
       "3                     0                      0    78   \n",
       "4                     1                      1    90   \n",
       "\n",
       "                                    uri             artist_names  \\\n",
       "0  spotify:track:3zpGLSQ8QbbUnNjweWPLMD         $NOT, A$AP Rocky   \n",
       "1  spotify:track:30QR0ndUdiiMQMA9g1PGCm              $uicideboy$   \n",
       "2  spotify:track:1R6VwZ8TuHRzxZUxe88n4I  2 Chainz, Ariana Grande   \n",
       "3  spotify:track:5S1IUPueD0xE0vj4zU3nSf   2 Chainz, Drake, Quavo   \n",
       "4  spotify:track:5S1IUPueD0xE0vj4zU3nSf   2 Chainz, Drake, Quavo   \n",
       "\n",
       "                                          track_name  \\\n",
       "0                                               Doja   \n",
       "1  ...And to Those I Love, Thanks for Sticking Ar...   \n",
       "2               Rule The World (feat. Ariana Grande)   \n",
       "3              Bigger Than You (feat. Drake & Quavo)   \n",
       "4              Bigger Than You (feat. Drake & Quavo)   \n",
       "\n",
       "                                source  peak_rank  previous_rank  \\\n",
       "0                    300 Entertainment        194             -1   \n",
       "1                          G59 Records        182             -1   \n",
       "2  Gamebread, LLC / Def Jam Recordings        148             -1   \n",
       "3                   Def Jam Recordings         78             -1   \n",
       "4                   Def Jam Recordings         78             78   \n",
       "\n",
       "   weeks_on_chart  streams    End Date  Week  Year End Date Dt  \\\n",
       "0               1    23789  2022-02-10     6  2022  2022-02-10   \n",
       "1               1    23341  2021-10-07    40  2021  2021-10-07   \n",
       "2               1     8536  2019-03-07    10  2019  2019-03-07   \n",
       "3               1     5994  2018-06-21    25  2018  2018-06-21   \n",
       "4               2     5265  2018-06-28    26  2018  2018-06-28   \n",
       "\n",
       "   Seconds since Epoch End Date Aggregated  ArtistCount  main_artist  isTopTen  \n",
       "0         1.644451e+09          2022-02-01            1         $NOT         0  \n",
       "1         1.633565e+09          2021-10-01            1  $uicideboy$         0  \n",
       "2         1.551917e+09          2019-03-01            2     2 Chainz         0  \n",
       "3         1.529539e+09          2018-06-01            3     2 Chainz         0  \n",
       "4         1.530144e+09          2018-06-01            3     2 Chainz         0  "
      ]
     },
     "execution_count": 48,
     "metadata": {},
     "output_type": "execute_result"
    }
   ],
   "source": [
    "the_spotify_data.head()"
   ]
  },
  {
   "cell_type": "code",
   "execution_count": 49,
   "metadata": {},
   "outputs": [],
   "source": [
    "# artists = the_spotify_data[\"Artist\"]\n",
    "# the_spotify_data.drop([\"Artist\"],axis=1,inplace=True)\n",
    "# the_spotify_data.reset_index(inplace=True)\n",
    "# the_spotify_data.drop([\"level_1\"], axis=1, inplace=True)\n",
    "# the_spotify_data[\"Artist\"] = list(artists)"
   ]
  },
  {
   "cell_type": "code",
   "execution_count": 50,
   "metadata": {},
   "outputs": [],
   "source": [
    "# the_spotify_data.drop(['index'], inplace=True, axis=1)"
   ]
  },
  {
   "cell_type": "code",
   "execution_count": 51,
   "metadata": {},
   "outputs": [],
   "source": [
    "# the_spotify_data[[\"Position\", \"Start Date\", \"End Date\"]].to_csv(\"the_spotify_data_val.csv\", index=False)"
   ]
  },
  {
   "cell_type": "code",
   "execution_count": 52,
   "metadata": {},
   "outputs": [],
   "source": [
    "the_spotify_data.to_csv(\"the_spotify_data.csv\")"
   ]
  },
  {
   "cell_type": "code",
   "execution_count": 53,
   "metadata": {},
   "outputs": [],
   "source": [
    "the_spotify_data[\"rank\"] = the_spotify_data[\"rank\"].astype(int)\n",
    "the_spotify_data[\"streams\"] = the_spotify_data[\"streams\"].astype(int)\n",
    "the_spotify_data[\"ArtistCount\"] = the_spotify_data[\"ArtistCount\"].astype(int)\n",
    "\n",
    "the_spotify_data[\"isTopTen\"] = the_spotify_data[\"isTopTen\"].astype(int)\n",
    "# the_spotify_data[\"lenOnCharts\"] = the_spotify_data[\"lenOnCharts\"].astype(int)\n",
    "the_spotify_data[\"Year\"] = the_spotify_data[\"Year\"].astype(int)\n",
    "the_spotify_data[\"Week\"] = the_spotify_data[\"Week\"].astype(int)"
   ]
  },
  {
   "cell_type": "code",
   "execution_count": 54,
   "metadata": {},
   "outputs": [],
   "source": [
    "all_cols = list(the_spotify_data.columns)\n",
    "drop_cols = []\n",
    "\n",
    "for col in all_cols:\n",
    "    if(\"Unnamed\" in col or \"artificial\" in col):\n",
    "        drop_cols.append(col)\n",
    "        \n",
    "the_spotify_data.drop(drop_cols, axis=1, inplace = True)"
   ]
  },
  {
   "cell_type": "code",
   "execution_count": 55,
   "metadata": {},
   "outputs": [],
   "source": [
    "the_spotify_data[\"Artist and Track\"] = the_spotify_data[\"artist_names\"] + \"; \" + the_spotify_data[\"track_name\"]"
   ]
  },
  {
   "cell_type": "code",
   "execution_count": 56,
   "metadata": {},
   "outputs": [],
   "source": [
    "# the_spotify_data.to_csv(\"Classification/all_files.csv\", index=False)"
   ]
  },
  {
   "cell_type": "markdown",
   "metadata": {},
   "source": [
    "### Getting the list of Artists and Tracks"
   ]
  },
  {
   "cell_type": "code",
   "execution_count": 58,
   "metadata": {},
   "outputs": [],
   "source": [
    "import pandas as pd\n",
    "import pymongo\n",
    "import getlyrics"
   ]
  },
  {
   "cell_type": "code",
   "execution_count": 60,
   "metadata": {},
   "outputs": [],
   "source": [
    "def trackAppearance(x):\n",
    "#     x = x.reset_index()\n",
    "\n",
    "    x = x.sort_values(by=[\"End Date\"])\n",
    "#     x.set_index([\"Position\"])\n",
    "\n",
    "    x[\"rank\"] = x[\"rank\"].astype(int)\n",
    "#     print(list(x[\"Position\"]))\n",
    "    \n",
    "    x[\"rank difference\"] = x[\"rank\"].diff().fillna(0)\n",
    "    x[\"rank difference\"] = x[\"rank difference\"].astype(int)\n",
    "    \n",
    "#     x[\"Position Difference\"] = x[\"Position\"].sub(x[\"Position\"].shift())\n",
    "#     x.drop([\"index\"], inplace=True)\n",
    "    \n",
    "    return x\n",
    "    \n",
    "all_files_grouped = the_spotify_data.groupby([\"main_artist\", \"track_name\"]).apply(lambda x: trackAppearance(x))"
   ]
  },
  {
   "cell_type": "code",
   "execution_count": 61,
   "metadata": {},
   "outputs": [
    {
     "data": {
      "text/plain": [
       "184"
      ]
     },
     "execution_count": 61,
     "metadata": {},
     "output_type": "execute_result"
    }
   ],
   "source": [
    "all_files_grouped[\"rank difference\"].max()"
   ]
  },
  {
   "cell_type": "markdown",
   "metadata": {},
   "source": [
    "### Position over time"
   ]
  },
  {
   "cell_type": "code",
   "execution_count": 62,
   "metadata": {},
   "outputs": [],
   "source": [
    "def positionvertime(x):\n",
    "    posovertime = 0\n",
    "    #new track\n",
    "    if(x[\"rank difference\"] == 0 and x[\"trackAppearanceCount\"]==0):\n",
    "        posovertime = 0\n",
    "    #track stayed in the same position\n",
    "    elif(x[\"rank difference\"] == 0 and x[\"trackAppearanceCount\"]!=0):\n",
    "        posovertime = 50\n",
    "    #track went up the chart\n",
    "    elif(x[\"rank difference\"] < 0):\n",
    "        posovertime = 75\n",
    "    #track fell down the chart\n",
    "    else:\n",
    "        posovertime = 100\n",
    "    return posovertime"
   ]
  },
  {
   "cell_type": "code",
   "execution_count": 63,
   "metadata": {},
   "outputs": [],
   "source": [
    "all_files_grouped[\"Position over Time\"] = all_files_grouped.apply(lambda x : positionvertime(x), axis=1)"
   ]
  },
  {
   "cell_type": "code",
   "execution_count": 64,
   "metadata": {},
   "outputs": [],
   "source": [
    "all_files_grouped.to_csv(\"Classification/all_files_ZAv1.csv\", index=False)"
   ]
  },
  {
   "cell_type": "code",
   "execution_count": 65,
   "metadata": {},
   "outputs": [
    {
     "data": {
      "text/plain": [
       "Index(['trackAppearanceCount', 'artistAppearanceCount', 'rank', 'uri',\n",
       "       'artist_names', 'track_name', 'source', 'peak_rank', 'previous_rank',\n",
       "       'weeks_on_chart', 'streams', 'End Date', 'Week', 'Year', 'End Date Dt',\n",
       "       'Seconds since Epoch', 'End Date Aggregated', 'ArtistCount',\n",
       "       'main_artist', 'isTopTen', 'Artist and Track', 'rank difference',\n",
       "       'Position over Time'],\n",
       "      dtype='object')"
      ]
     },
     "execution_count": 65,
     "metadata": {},
     "output_type": "execute_result"
    }
   ],
   "source": [
    "all_files_grouped.columns"
   ]
  },
  {
   "cell_type": "code",
   "execution_count": 66,
   "metadata": {},
   "outputs": [],
   "source": [
    "# new_all_files_grouped = all_files_grouped.reset_index(drop=True)"
   ]
  },
  {
   "cell_type": "code",
   "execution_count": 67,
   "metadata": {},
   "outputs": [],
   "source": [
    "def newstuff(x):\n",
    "#     x = x.reset_index()\n",
    "\n",
    "    x = x.sort_values(by=['Seconds since Epoch'])\n",
    "#     x.set_index([\"Position\"])\n",
    "    print(x)\n",
    "    \n",
    "    return x\n",
    "    \n"
   ]
  },
  {
   "cell_type": "code",
   "execution_count": 68,
   "metadata": {},
   "outputs": [],
   "source": [
    "# all_files_grouped = new_all_files_grouped.groupby([\"Artist\", \"Track Name\"]).apply(lambda x: newstuff(x))"
   ]
  },
  {
   "cell_type": "code",
   "execution_count": 69,
   "metadata": {},
   "outputs": [],
   "source": [
    "# all_files_grouped.min()"
   ]
  },
  {
   "cell_type": "code",
   "execution_count": 70,
   "metadata": {},
   "outputs": [],
   "source": [
    "# df = pd.DataFrame({'A': 'a a b'.split(), 'B': [1,2,3], 'C': [4,6, 5]})"
   ]
  },
  {
   "cell_type": "code",
   "execution_count": 71,
   "metadata": {},
   "outputs": [],
   "source": [
    "# new_all_files_grouped.groupby([])"
   ]
  },
  {
   "cell_type": "code",
   "execution_count": 72,
   "metadata": {},
   "outputs": [],
   "source": [
    "# all_files_grouped.apply(lambda x : print(type(x)) )"
   ]
  },
  {
   "cell_type": "code",
   "execution_count": 73,
   "metadata": {},
   "outputs": [],
   "source": [
    "# # new_all_files_grouped.h'Track Name', 'Artist'ead(5)\n",
    "# cols_ = ['Start Date', 'Seconds since Epoch', 'Position']\n",
    "# new_test_df = pd.DataFrame()"
   ]
  },
  {
   "cell_type": "code",
   "execution_count": 74,
   "metadata": {},
   "outputs": [],
   "source": [
    "# 604800\n",
    "def weekonweekposition(x):\n",
    "    \n",
    "#     print(x.values)\n",
    "    \n",
    "    pd.DataFrame({'email':x.index, 'list':x.values})\n",
    "    \n",
    "    \n",
    "#     return x_\n",
    "    \n",
    "#     x_ = pd.DataFrame(x, columns=['Start Date'])\n",
    "    \n",
    "#     x_ = x.to_frame()\n",
    "    \n",
    "#     print(x_.columns)\n",
    "    \n",
    "#     for n in range(0, fin_len):\n",
    "#         for col in cols_:\n",
    "#             print(len(x[n]), x[n], col)\n",
    "        \n",
    "    \n",
    "#     x_ = pd.DataFrame(x, columns=cols_)\n",
    "#     print(x_.shape)\n",
    "#     print(x.columns)"
   ]
  },
  {
   "cell_type": "code",
   "execution_count": 75,
   "metadata": {},
   "outputs": [],
   "source": [
    "# all_files_gr = new_all_files_grouped[['Artist', 'Track Name', 'Seconds since Epoch', 'Position']]"
   ]
  },
  {
   "cell_type": "code",
   "execution_count": 76,
   "metadata": {
    "scrolled": true
   },
   "outputs": [],
   "source": [
    "# all_files_grouped[cols_].apply( lambda x : weekonweekposition(x) )"
   ]
  },
  {
   "cell_type": "code",
   "execution_count": 77,
   "metadata": {},
   "outputs": [],
   "source": [
    "# new_test_df"
   ]
  },
  {
   "cell_type": "markdown",
   "metadata": {},
   "source": [
    "### South African Artists"
   ]
  },
  {
   "cell_type": "code",
   "execution_count": 78,
   "metadata": {},
   "outputs": [
    {
     "data": {
      "text/plain": [
       "(46486, 23)"
      ]
     },
     "execution_count": 78,
     "metadata": {},
     "output_type": "execute_result"
    }
   ],
   "source": [
    "all_files_grouped.shape"
   ]
  },
  {
   "cell_type": "code",
   "execution_count": 79,
   "metadata": {},
   "outputs": [
    {
     "data": {
      "text/plain": [
       "Index(['trackAppearanceCount', 'artistAppearanceCount', 'rank', 'uri',\n",
       "       'artist_names', 'track_name', 'source', 'peak_rank', 'previous_rank',\n",
       "       'weeks_on_chart', 'streams', 'End Date', 'Week', 'Year', 'End Date Dt',\n",
       "       'Seconds since Epoch', 'End Date Aggregated', 'ArtistCount',\n",
       "       'main_artist', 'isTopTen', 'Artist and Track', 'rank difference',\n",
       "       'Position over Time'],\n",
       "      dtype='object')"
      ]
     },
     "execution_count": 79,
     "metadata": {},
     "output_type": "execute_result"
    }
   ],
   "source": [
    "all_files_grouped.columns"
   ]
  },
  {
   "cell_type": "code",
   "execution_count": 80,
   "metadata": {},
   "outputs": [],
   "source": [
    "narrowing_df = all_files_grouped[['End Date', \"rank difference\"]]"
   ]
  },
  {
   "cell_type": "code",
   "execution_count": 81,
   "metadata": {},
   "outputs": [],
   "source": [
    "narrowing_df.reset_index(inplace=True)"
   ]
  },
  {
   "cell_type": "code",
   "execution_count": 82,
   "metadata": {},
   "outputs": [
    {
     "name": "stderr",
     "output_type": "stream",
     "text": [
      "C:\\Users\\lkhum\\anaconda3\\envs\\tfenviron\\lib\\site-packages\\pandas\\core\\frame.py:4308: SettingWithCopyWarning: \n",
      "A value is trying to be set on a copy of a slice from a DataFrame\n",
      "\n",
      "See the caveats in the documentation: https://pandas.pydata.org/pandas-docs/stable/user_guide/indexing.html#returning-a-view-versus-a-copy\n",
      "  return super().drop(\n"
     ]
    }
   ],
   "source": [
    "narrowing_df.drop([\"level_2\"], axis=1, inplace=True)"
   ]
  },
  {
   "cell_type": "code",
   "execution_count": 83,
   "metadata": {},
   "outputs": [],
   "source": [
    "narrowing_df = narrowing_df[narrowing_df[\"rank difference\"] == 0]"
   ]
  },
  {
   "cell_type": "code",
   "execution_count": 84,
   "metadata": {},
   "outputs": [],
   "source": [
    "narrowing_df.to_csv(\"narrow_uniq.csv\", index=False)"
   ]
  },
  {
   "cell_type": "code",
   "execution_count": 85,
   "metadata": {},
   "outputs": [],
   "source": [
    "# narow_artists_unique"
   ]
  },
  {
   "cell_type": "code",
   "execution_count": 87,
   "metadata": {},
   "outputs": [],
   "source": [
    "uniquartists_cat_df = pd.read_csv(\"Classification/uniquartists_cat.csv\")"
   ]
  },
  {
   "cell_type": "code",
   "execution_count": 88,
   "metadata": {},
   "outputs": [
    {
     "name": "stderr",
     "output_type": "stream",
     "text": [
      "<ipython-input-88-bdc7042f4a86>:4: SettingWithCopyWarning: \n",
      "A value is trying to be set on a copy of a slice from a DataFrame\n",
      "\n",
      "See the caveats in the documentation: https://pandas.pydata.org/pandas-docs/stable/user_guide/indexing.html#returning-a-view-versus-a-copy\n",
      "  narrowing_df_art.drop_duplicates(inplace=True)\n",
      "<ipython-input-88-bdc7042f4a86>:5: SettingWithCopyWarning: \n",
      "A value is trying to be set on a copy of a slice from a DataFrame\n",
      "\n",
      "See the caveats in the documentation: https://pandas.pydata.org/pandas-docs/stable/user_guide/indexing.html#returning-a-view-versus-a-copy\n",
      "  uniquartists_cat_df_art.drop_duplicates(inplace=True)\n"
     ]
    }
   ],
   "source": [
    "narrowing_df_art = narrowing_df[[\"main_artist\"]]\n",
    "uniquartists_cat_df_art = uniquartists_cat_df[[\"main_artist\"]]\n",
    "\n",
    "narrowing_df_art.drop_duplicates(inplace=True)\n",
    "uniquartists_cat_df_art.drop_duplicates(inplace=True)"
   ]
  },
  {
   "cell_type": "code",
   "execution_count": 89,
   "metadata": {},
   "outputs": [
    {
     "data": {
      "text/plain": [
       "(890, 915)"
      ]
     },
     "execution_count": 89,
     "metadata": {},
     "output_type": "execute_result"
    }
   ],
   "source": [
    "len(narrowing_df_art), len(uniquartists_cat_df_art)"
   ]
  },
  {
   "cell_type": "code",
   "execution_count": 90,
   "metadata": {},
   "outputs": [],
   "source": [
    "minus_list = list(set(narrowing_df_art[\"main_artist\"]) - set(uniquartists_cat_df_art[\"main_artist\"]))"
   ]
  },
  {
   "cell_type": "code",
   "execution_count": 91,
   "metadata": {},
   "outputs": [],
   "source": [
    "minus_list_df = pd.DataFrame()\n",
    "minus_list_df[\"main_artist\"] = minus_list\n",
    "minus_list_df[\"country\"] = [\"\"]*len(minus_list)\n",
    "minus_list_df.to_csv(\"Classification/New Artist to Cat.csv\", index=False)"
   ]
  },
  {
   "cell_type": "code",
   "execution_count": 92,
   "metadata": {},
   "outputs": [],
   "source": [
    "edited_minus_list_df = pd.read_csv(\"Classification/New Artist to Cat.csv\")\n",
    "uniquartists_cat_df = pd.read_csv(\"Classification/uniquartists_cat.csv\")\n",
    "\n",
    "added_files = [edited_minus_list_df, uniquartists_cat_df]\n",
    "added_files_df = pd.concat(added_files)\n",
    "added_files_df.to_csv(\"Classification/uniquartists_cat.csv\", index=False)"
   ]
  },
  {
   "cell_type": "code",
   "execution_count": 93,
   "metadata": {},
   "outputs": [],
   "source": [
    "south_african_artists_df = added_files_df[added_files_df[\"country\"] == \"ZA\"]\n",
    "south_african_artists = south_african_artists_df[\"main_artist\"].tolist()"
   ]
  },
  {
   "cell_type": "code",
   "execution_count": 94,
   "metadata": {},
   "outputs": [
    {
     "data": {
      "text/plain": [
       "247"
      ]
     },
     "execution_count": 94,
     "metadata": {},
     "output_type": "execute_result"
    }
   ],
   "source": [
    "len(south_african_artists)"
   ]
  },
  {
   "cell_type": "code",
   "execution_count": 95,
   "metadata": {},
   "outputs": [],
   "source": [
    "south_african_artists_lower = []\n",
    "for sartists in south_african_artists:\n",
    "    south_african_artists_lower.append(sartists.lower())"
   ]
  },
  {
   "cell_type": "code",
   "execution_count": 96,
   "metadata": {},
   "outputs": [],
   "source": [
    "uniq_sans = south_african_artists_lower"
   ]
  },
  {
   "cell_type": "code",
   "execution_count": 97,
   "metadata": {},
   "outputs": [
    {
     "data": {
      "text/plain": [
       "247"
      ]
     },
     "execution_count": 97,
     "metadata": {},
     "output_type": "execute_result"
    }
   ],
   "source": [
    "len(uniq_sans)"
   ]
  },
  {
   "cell_type": "code",
   "execution_count": 98,
   "metadata": {},
   "outputs": [
    {
     "data": {
      "text/plain": [
       "247"
      ]
     },
     "execution_count": 98,
     "metadata": {},
     "output_type": "execute_result"
    }
   ],
   "source": [
    "len(south_african_artists)"
   ]
  },
  {
   "cell_type": "code",
   "execution_count": 99,
   "metadata": {},
   "outputs": [],
   "source": [
    "all_files_grouped['Lower Artist'] = all_files_grouped['main_artist'].apply(lambda x : x.lower() )"
   ]
  },
  {
   "cell_type": "code",
   "execution_count": 100,
   "metadata": {},
   "outputs": [],
   "source": [
    "boolean_series = all_files_grouped[\"Lower Artist\"].isin(uniq_sans)\n",
    "all_files_grouped_filtered_df = all_files_grouped[boolean_series]"
   ]
  },
  {
   "cell_type": "code",
   "execution_count": 101,
   "metadata": {},
   "outputs": [],
   "source": [
    "# df_sa = pd.read_csv(\"SA Musicians List.csv\")"
   ]
  },
  {
   "cell_type": "code",
   "execution_count": 102,
   "metadata": {},
   "outputs": [],
   "source": [
    "# sa_artists_scrapped = df_sa[\"Artist\"].unique().tolist()"
   ]
  },
  {
   "cell_type": "code",
   "execution_count": 103,
   "metadata": {},
   "outputs": [],
   "source": [
    "# sa_artists_scrapped_lower = []\n",
    "# for uniqart in sa_artists_scrapped:\n",
    "#     sa_artists_scrapped_lower.append(uniqart.lower())"
   ]
  },
  {
   "cell_type": "code",
   "execution_count": 104,
   "metadata": {},
   "outputs": [],
   "source": [
    "# non_uniq = list(set(sa_artists_scrapped_lower) - set(south_african_artists_lower) )\n",
    "\n",
    "# uniq_sans = list(set(sa_artists_scrapped_lower) - set(non_uniq) )"
   ]
  },
  {
   "cell_type": "code",
   "execution_count": 105,
   "metadata": {},
   "outputs": [],
   "source": [
    "# len(uniq_sans)"
   ]
  },
  {
   "cell_type": "code",
   "execution_count": 106,
   "metadata": {},
   "outputs": [],
   "source": [
    "all_files_grouped_filtered_df.to_csv(\"Classification/JustSouthAfricansOnZAChart.csv\", index=False)"
   ]
  },
  {
   "cell_type": "code",
   "execution_count": 107,
   "metadata": {
    "scrolled": true
   },
   "outputs": [
    {
     "name": "stderr",
     "output_type": "stream",
     "text": [
      "C:\\Users\\lkhum\\anaconda3\\envs\\tfenviron\\lib\\site-packages\\pandas\\core\\frame.py:4308: SettingWithCopyWarning: \n",
      "A value is trying to be set on a copy of a slice from a DataFrame\n",
      "\n",
      "See the caveats in the documentation: https://pandas.pydata.org/pandas-docs/stable/user_guide/indexing.html#returning-a-view-versus-a-copy\n",
      "  return super().drop(\n"
     ]
    }
   ],
   "source": [
    "all_files_grouped_filtered_df.drop([\"main_artist\", \"track_name\"], inplace=True, axis=1)"
   ]
  },
  {
   "cell_type": "code",
   "execution_count": 108,
   "metadata": {},
   "outputs": [],
   "source": [
    "all_files_grouped_filtered_df = all_files_grouped_filtered_df.reset_index()"
   ]
  },
  {
   "cell_type": "code",
   "execution_count": 109,
   "metadata": {},
   "outputs": [],
   "source": [
    "all_files_grouped_filtered_df.drop([\"level_2\"], axis=1, inplace = True)"
   ]
  },
  {
   "cell_type": "code",
   "execution_count": 110,
   "metadata": {},
   "outputs": [],
   "source": [
    "# treemap_df = all_files_grouped_filtered_df[[\"Streams\", \"Year\", \"Position\"]]"
   ]
  },
  {
   "cell_type": "code",
   "execution_count": 111,
   "metadata": {},
   "outputs": [],
   "source": [
    "# treemap_df_spec = treemap_df.groupby([ \"Year\"])[\"Streams\", \"Position\"].agg('sum')"
   ]
  },
  {
   "cell_type": "code",
   "execution_count": 112,
   "metadata": {},
   "outputs": [],
   "source": [
    "# treemap_df_spec = treemap_df_spec.reset_index()"
   ]
  },
  {
   "cell_type": "code",
   "execution_count": 113,
   "metadata": {},
   "outputs": [],
   "source": [
    "# len_v = treemap_df_spec.shape[0]"
   ]
  },
  {
   "cell_type": "code",
   "execution_count": 114,
   "metadata": {},
   "outputs": [],
   "source": [
    "# treemap_df_spec[\"side\"] = [\"right\"] * len_v"
   ]
  },
  {
   "cell_type": "code",
   "execution_count": 115,
   "metadata": {},
   "outputs": [],
   "source": [
    "# treemap_df_spec.columns = [\"year\", \"gas\", \"miles\", \"side\"]"
   ]
  },
  {
   "cell_type": "code",
   "execution_count": 116,
   "metadata": {},
   "outputs": [],
   "source": [
    "# treemap_df_spec.to_csv(\"scatterp.csv\", index=False)"
   ]
  },
  {
   "cell_type": "code",
   "execution_count": 117,
   "metadata": {},
   "outputs": [],
   "source": [
    "# treemap_df_val = treemap_df_spec.pivot(columns=[\"End Date\"], values=\"Streams\", index=\"Artist\")\n",
    "# treemap_df_val = treemap_df_val.fillna(0)"
   ]
  },
  {
   "cell_type": "code",
   "execution_count": 118,
   "metadata": {},
   "outputs": [],
   "source": [
    "# treemap_df.melt(columns=[\"Artist\", \"End Date\"], values=\"Streams\")"
   ]
  },
  {
   "cell_type": "code",
   "execution_count": 119,
   "metadata": {},
   "outputs": [],
   "source": [
    "# treemap_df_val"
   ]
  },
  {
   "cell_type": "code",
   "execution_count": 120,
   "metadata": {},
   "outputs": [],
   "source": [
    "# treemap_df_csv = all_files_grouped_filtered_df[[\"Artist\"]]\n",
    "# treemap_df_csv[\"Region\"] = \"ZA\"\n",
    "# treemap_df_csv[\"State\"] = all_files_grouped_filtered_df[\"Artist\"]\n",
    "# treemap_df_csv[\"Division\"] = all_files_grouped_filtered_df[\"Artist\"]\n",
    "# treemap_df_csv.to_csv(\"treemap-region.csv\", index=False)"
   ]
  },
  {
   "cell_type": "code",
   "execution_count": 121,
   "metadata": {},
   "outputs": [],
   "source": [
    "tot_streams_all_files_grouped_filtered_df = all_files_grouped_filtered_df[['main_artist', 'streams']]"
   ]
  },
  {
   "cell_type": "code",
   "execution_count": 122,
   "metadata": {},
   "outputs": [],
   "source": [
    "tot_streams_all_files_grouped_filtered_df_fin = tot_streams_all_files_grouped_filtered_df.groupby([\"main_artist\"]).sum()"
   ]
  },
  {
   "cell_type": "code",
   "execution_count": 123,
   "metadata": {},
   "outputs": [],
   "source": [
    "tot_streams_all_files_grouped_filtered_df_fin.reset_index(inplace=True)"
   ]
  },
  {
   "cell_type": "code",
   "execution_count": 124,
   "metadata": {},
   "outputs": [],
   "source": [
    "tot_streams_all_files_grouped_filtered_df_fin = tot_streams_all_files_grouped_filtered_df_fin.sort_values(by='streams', ascending=False)"
   ]
  },
  {
   "cell_type": "code",
   "execution_count": 125,
   "metadata": {},
   "outputs": [
    {
     "data": {
      "text/html": [
       "<div>\n",
       "<style scoped>\n",
       "    .dataframe tbody tr th:only-of-type {\n",
       "        vertical-align: middle;\n",
       "    }\n",
       "\n",
       "    .dataframe tbody tr th {\n",
       "        vertical-align: top;\n",
       "    }\n",
       "\n",
       "    .dataframe thead th {\n",
       "        text-align: right;\n",
       "    }\n",
       "</style>\n",
       "<table border=\"1\" class=\"dataframe\">\n",
       "  <thead>\n",
       "    <tr style=\"text-align: right;\">\n",
       "      <th></th>\n",
       "      <th>main_artist</th>\n",
       "      <th>streams</th>\n",
       "    </tr>\n",
       "  </thead>\n",
       "  <tbody>\n",
       "    <tr>\n",
       "      <th>99</th>\n",
       "      <td>Kabza De Small</td>\n",
       "      <td>24315887</td>\n",
       "    </tr>\n",
       "    <tr>\n",
       "      <th>28</th>\n",
       "      <td>Busta 929</td>\n",
       "      <td>13550875</td>\n",
       "    </tr>\n",
       "    <tr>\n",
       "      <th>49</th>\n",
       "      <td>De Mthuda</td>\n",
       "      <td>9752664</td>\n",
       "    </tr>\n",
       "    <tr>\n",
       "      <th>144</th>\n",
       "      <td>Mr JazziQ</td>\n",
       "      <td>9523108</td>\n",
       "    </tr>\n",
       "    <tr>\n",
       "      <th>39</th>\n",
       "      <td>DJ Maphorisa</td>\n",
       "      <td>9044465</td>\n",
       "    </tr>\n",
       "    <tr>\n",
       "      <th>223</th>\n",
       "      <td>Young Stunna</td>\n",
       "      <td>6761025</td>\n",
       "    </tr>\n",
       "    <tr>\n",
       "      <th>34</th>\n",
       "      <td>DBN Gogo</td>\n",
       "      <td>6464705</td>\n",
       "    </tr>\n",
       "    <tr>\n",
       "      <th>131</th>\n",
       "      <td>Mas Musiq</td>\n",
       "      <td>5624681</td>\n",
       "    </tr>\n",
       "    <tr>\n",
       "      <th>172</th>\n",
       "      <td>Riaan Benad</td>\n",
       "      <td>5466984</td>\n",
       "    </tr>\n",
       "    <tr>\n",
       "      <th>220</th>\n",
       "      <td>Wanitwa Mos</td>\n",
       "      <td>5424744</td>\n",
       "    </tr>\n",
       "    <tr>\n",
       "      <th>148</th>\n",
       "      <td>Musa Keys</td>\n",
       "      <td>5378298</td>\n",
       "    </tr>\n",
       "  </tbody>\n",
       "</table>\n",
       "</div>"
      ],
      "text/plain": [
       "        main_artist   streams\n",
       "99   Kabza De Small  24315887\n",
       "28        Busta 929  13550875\n",
       "49        De Mthuda   9752664\n",
       "144       Mr JazziQ   9523108\n",
       "39     DJ Maphorisa   9044465\n",
       "223    Young Stunna   6761025\n",
       "34         DBN Gogo   6464705\n",
       "131       Mas Musiq   5624681\n",
       "172     Riaan Benad   5466984\n",
       "220     Wanitwa Mos   5424744\n",
       "148       Musa Keys   5378298"
      ]
     },
     "execution_count": 125,
     "metadata": {},
     "output_type": "execute_result"
    }
   ],
   "source": [
    "tot_streams_all_files_grouped_filtered_df_fin.head(11)"
   ]
  },
  {
   "cell_type": "code",
   "execution_count": 126,
   "metadata": {},
   "outputs": [],
   "source": [
    "top_10_ZA_artists = tot_streams_all_files_grouped_filtered_df_fin[\"main_artist\"].tolist()"
   ]
  },
  {
   "cell_type": "code",
   "execution_count": 127,
   "metadata": {},
   "outputs": [],
   "source": [
    "# top_10_ZA_artists"
   ]
  },
  {
   "cell_type": "code",
   "execution_count": 130,
   "metadata": {},
   "outputs": [],
   "source": [
    "for artist in top_10_ZA_artists:\n",
    "    kabza_de_small = all_files_grouped_filtered_df[all_files_grouped_filtered_df[\"main_artist\"] == artist]\n",
    "\n",
    "    kb_racing_bar_df = kabza_de_small[['End Date Aggregated', \"track_name\", 'Year', 'streams']]\n",
    "\n",
    "    kb_racing_bar_df.columns = ['date', \"name\", 'category', 'value']\n",
    "    kb_racing_bar_df = kb_racing_bar_df.groupby(['date', \"name\", 'category']).sum()\n",
    "    kb_racing_bar_df.reset_index(inplace=True)\n",
    "    \n",
    "    kb_racing_bar_df.to_csv(\"Classification/topten/_\" + artist + \"_ZAChartracing_bar.csv\", index=False)"
   ]
  },
  {
   "cell_type": "markdown",
   "metadata": {},
   "source": [
    "### For the bar chart race"
   ]
  },
  {
   "cell_type": "code",
   "execution_count": 131,
   "metadata": {},
   "outputs": [
    {
     "data": {
      "text/plain": [
       "7256"
      ]
     },
     "execution_count": 131,
     "metadata": {},
     "output_type": "execute_result"
    }
   ],
   "source": [
    "len(all_files_grouped_filtered_df)"
   ]
  },
  {
   "cell_type": "code",
   "execution_count": 132,
   "metadata": {},
   "outputs": [],
   "source": [
    "racing_bar_df = all_files_grouped_filtered_df[['End Date Aggregated', \"main_artist\", 'Year', 'streams']]"
   ]
  },
  {
   "cell_type": "code",
   "execution_count": 133,
   "metadata": {},
   "outputs": [],
   "source": [
    "racing_bar_df.columns = ['date', \"name\", 'category', 'value']"
   ]
  },
  {
   "cell_type": "code",
   "execution_count": 134,
   "metadata": {},
   "outputs": [],
   "source": [
    "racing_bar_df.to_csv(\"Classification/JustSouthAfricansOnZAChartracing_bar.csv\", index=False)"
   ]
  },
  {
   "cell_type": "code",
   "execution_count": 135,
   "metadata": {},
   "outputs": [],
   "source": [
    "# len(racing_bar_df[\"End Date Dt\"].unique().tolist())"
   ]
  },
  {
   "cell_type": "markdown",
   "metadata": {},
   "source": [
    "#### Monthly bar chart race"
   ]
  },
  {
   "cell_type": "code",
   "execution_count": 136,
   "metadata": {},
   "outputs": [],
   "source": [
    "monthly_racing_bar_df = all_files_grouped_filtered_df[['End Date Dt', \"main_artist\", 'Year', 'streams']]\n",
    "\n",
    "# monthly_racing_bar_df.groupby([\"Artist\", 'End Date Dt']).sum('Streams')"
   ]
  },
  {
   "cell_type": "code",
   "execution_count": 137,
   "metadata": {},
   "outputs": [
    {
     "name": "stderr",
     "output_type": "stream",
     "text": [
      "<ipython-input-137-a99b727b1bd9>:1: SettingWithCopyWarning: \n",
      "A value is trying to be set on a copy of a slice from a DataFrame.\n",
      "Try using .loc[row_indexer,col_indexer] = value instead\n",
      "\n",
      "See the caveats in the documentation: https://pandas.pydata.org/pandas-docs/stable/user_guide/indexing.html#returning-a-view-versus-a-copy\n",
      "  monthly_racing_bar_df[\"Month\"] = monthly_racing_bar_df[\"End Date Dt\"].apply(lambda x : x.month)\n"
     ]
    }
   ],
   "source": [
    "monthly_racing_bar_df[\"Month\"] = monthly_racing_bar_df[\"End Date Dt\"].apply(lambda x : x.month)"
   ]
  },
  {
   "cell_type": "code",
   "execution_count": 138,
   "metadata": {},
   "outputs": [],
   "source": [
    "monthly_racing_bar_agg_df = monthly_racing_bar_df.groupby([\"main_artist\", \"Month\", \"Year\"]).sum(\"streams\").reset_index()"
   ]
  },
  {
   "cell_type": "code",
   "execution_count": 139,
   "metadata": {},
   "outputs": [],
   "source": [
    "monthly_racing_bar_agg_df[\"date\"] = monthly_racing_bar_agg_df.apply( lambda x : datetime(int(x[\"Year\"]), int(x[\"Month\"]), 1), axis=1)"
   ]
  },
  {
   "cell_type": "code",
   "execution_count": 140,
   "metadata": {},
   "outputs": [],
   "source": [
    "monthly_racing_bar_agg_df.drop([\"Year\"], inplace = True, axis=1)"
   ]
  },
  {
   "cell_type": "code",
   "execution_count": 141,
   "metadata": {},
   "outputs": [],
   "source": [
    "monthly_racing_bar_fin = pd.DataFrame()\n",
    "monthly_racing_bar_fin['date'] = monthly_racing_bar_agg_df[\"date\"]\n",
    "monthly_racing_bar_fin['name'] = monthly_racing_bar_agg_df[\"main_artist\"]\n",
    "monthly_racing_bar_fin['category'] = monthly_racing_bar_agg_df[\"Month\"]\n",
    "monthly_racing_bar_fin['value'] = monthly_racing_bar_agg_df[\"streams\"]"
   ]
  },
  {
   "cell_type": "code",
   "execution_count": 142,
   "metadata": {},
   "outputs": [],
   "source": [
    "monthly_racing_bar_fin.to_csv(\"Classification/JustSouthAfricansOnZAChartMonthlyracing_bar.csv\", index=False)"
   ]
  },
  {
   "cell_type": "markdown",
   "metadata": {},
   "source": [
    "### animated tree map"
   ]
  },
  {
   "cell_type": "code",
   "execution_count": null,
   "metadata": {},
   "outputs": [],
   "source": []
  },
  {
   "cell_type": "code",
   "execution_count": 143,
   "metadata": {},
   "outputs": [],
   "source": [
    "# anim_tree_map_df = all_files_grouped_filtered_df[['Year', 'Streams']]"
   ]
  },
  {
   "cell_type": "code",
   "execution_count": 144,
   "metadata": {},
   "outputs": [],
   "source": [
    "# anim_tree_map_df = anim_tree_map_df.reset_index()"
   ]
  },
  {
   "cell_type": "code",
   "execution_count": 145,
   "metadata": {},
   "outputs": [],
   "source": [
    "# anim_tree_map_df.drop([\"Track Name\", \"level_2\"], axis=1, inplace=True)"
   ]
  },
  {
   "cell_type": "code",
   "execution_count": 146,
   "metadata": {},
   "outputs": [],
   "source": [
    "# anim_tree_map_df_more = anim_tree_map_df.groupby(['Artist', 'Year']).agg(['sum']).reset_index()"
   ]
  },
  {
   "cell_type": "code",
   "execution_count": 147,
   "metadata": {},
   "outputs": [],
   "source": [
    "# anim_tree_map_df_more.columns"
   ]
  },
  {
   "cell_type": "code",
   "execution_count": 148,
   "metadata": {},
   "outputs": [],
   "source": [
    "# anim_tree_map_df_more.columns = [\"name\", \"year\", \"income\"]"
   ]
  },
  {
   "cell_type": "code",
   "execution_count": 149,
   "metadata": {},
   "outputs": [],
   "source": [
    "# anim_tree_map_df_more['income'] = anim_tree_map_df_more['income'].astype(int)\n",
    "# anim_tree_map_df_more['year'] = anim_tree_map_df_more['year'].astype(int)"
   ]
  },
  {
   "cell_type": "code",
   "execution_count": 150,
   "metadata": {},
   "outputs": [],
   "source": [
    "# anim_tree_map_df_more.dtypes"
   ]
  },
  {
   "cell_type": "code",
   "execution_count": 151,
   "metadata": {},
   "outputs": [],
   "source": [
    "# names = anim_tree_map_df_more.name\n",
    "# years = anim_tree_map_df_more.year\n",
    "# streams = anim_tree_map_df_more.income"
   ]
  },
  {
   "cell_type": "code",
   "execution_count": 152,
   "metadata": {},
   "outputs": [],
   "source": [
    "# anim_tree_map_ls_more = []\n",
    "\n",
    "# for n in range(0,len(names)):\n",
    "#     anim_tree_map_ls = [int(years[n]), int(streams[n])]\n",
    "#     anim_tree_map_dict_more = {}\n",
    "#     anim_tree_map_dict_more[names[n]] = anim_tree_map_ls\n",
    "#     anim_tree_map_ls_more.append(anim_tree_map_dict_more)"
   ]
  },
  {
   "cell_type": "code",
   "execution_count": 153,
   "metadata": {},
   "outputs": [],
   "source": [
    "# anim_tree_map_ls_more"
   ]
  },
  {
   "cell_type": "code",
   "execution_count": 154,
   "metadata": {},
   "outputs": [],
   "source": [
    "# from collections import defaultdict\n",
    "\n",
    "# dd = defaultdict(list)\n",
    "\n",
    "# for d in (anim_tree_map_ls_more): # you can list as many input dicts as you want here\n",
    "#     for key, value in d.items():\n",
    "#         dd[key].append(value)"
   ]
  },
  {
   "cell_type": "code",
   "execution_count": 155,
   "metadata": {},
   "outputs": [],
   "source": [
    "# dict_dd = dict(dd)"
   ]
  },
  {
   "cell_type": "code",
   "execution_count": 156,
   "metadata": {},
   "outputs": [],
   "source": [
    "# d_keys = list(dict_dd.keys())\n",
    "# d_values = list(dict_dd.values())\n",
    "# the_dd = []\n",
    "\n",
    "# for n in range(0,len(d_keys)):\n",
    "#     anim_tree_map_dict_more = {}\n",
    "#     anim_tree_map_dict_more[\"name\"] = d_keys[n]\n",
    "#     anim_tree_map_dict_more[\"income\"] = d_values[n]\n",
    "#     anim_tree_map_dict_more[\"region\"] = \"ZA\"\n",
    "#     anim_tree_map_dict_more[\"population\"] = d_values[n]\n",
    "#     anim_tree_map_dict_more[\"lifeExpectancy\"] = d_values[n]\n",
    "    \n",
    "    \n",
    "    \n",
    "#     the_dd.append(anim_tree_map_dict_more)"
   ]
  },
  {
   "cell_type": "code",
   "execution_count": 157,
   "metadata": {},
   "outputs": [],
   "source": [
    "# the_dd"
   ]
  },
  {
   "cell_type": "code",
   "execution_count": 158,
   "metadata": {},
   "outputs": [],
   "source": [
    "# import json\n",
    "# with open('zaartists.json', 'w') as fp:\n",
    "#     json.dump(the_dd, fp)"
   ]
  },
  {
   "cell_type": "code",
   "execution_count": null,
   "metadata": {},
   "outputs": [],
   "source": []
  },
  {
   "cell_type": "code",
   "execution_count": null,
   "metadata": {},
   "outputs": [],
   "source": []
  },
  {
   "cell_type": "code",
   "execution_count": null,
   "metadata": {},
   "outputs": [],
   "source": []
  },
  {
   "cell_type": "code",
   "execution_count": null,
   "metadata": {},
   "outputs": [],
   "source": []
  },
  {
   "cell_type": "code",
   "execution_count": null,
   "metadata": {},
   "outputs": [],
   "source": []
  },
  {
   "cell_type": "code",
   "execution_count": null,
   "metadata": {},
   "outputs": [],
   "source": []
  },
  {
   "cell_type": "code",
   "execution_count": null,
   "metadata": {},
   "outputs": [],
   "source": []
  }
 ],
 "metadata": {
  "kernelspec": {
   "display_name": "Python 3",
   "language": "python",
   "name": "python3"
  },
  "language_info": {
   "codemirror_mode": {
    "name": "ipython",
    "version": 3
   },
   "file_extension": ".py",
   "mimetype": "text/x-python",
   "name": "python",
   "nbconvert_exporter": "python",
   "pygments_lexer": "ipython3",
   "version": "3.8.10"
  }
 },
 "nbformat": 4,
 "nbformat_minor": 4
}
