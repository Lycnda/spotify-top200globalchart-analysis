{
 "cells": [
  {
   "cell_type": "code",
   "execution_count": 1,
   "metadata": {},
   "outputs": [],
   "source": [
    "import pandas as pd\n",
    "import glob2\n",
    "import matplotlib.pyplot as plt\n",
    "import datetime\n",
    "import re\n",
    "from datetime import datetime, timedelta\n",
    "%matplotlib inline"
   ]
  },
  {
   "cell_type": "code",
   "execution_count": 2,
   "metadata": {},
   "outputs": [],
   "source": [
    "global_music_file_paths = glob2.glob('spotify za v2/*.csv')"
   ]
  },
  {
   "cell_type": "code",
   "execution_count": 3,
   "metadata": {
    "scrolled": true
   },
   "outputs": [
    {
     "name": "stdout",
     "output_type": "stream",
     "text": [
      "345\n"
     ]
    }
   ],
   "source": [
    "print(len(global_music_file_paths))"
   ]
  },
  {
   "cell_type": "code",
   "execution_count": 4,
   "metadata": {},
   "outputs": [
    {
     "name": "stdout",
     "output_type": "stream",
     "text": [
      "['spotify za v2\\\\regional-za-weekly-2018-03-15.csv', 'spotify za v2\\\\regional-za-weekly-2018-03-22.csv', 'spotify za v2\\\\regional-za-weekly-2018-03-29.csv', 'spotify za v2\\\\regional-za-weekly-2018-04-05.csv']\n"
     ]
    }
   ],
   "source": [
    "print(global_music_file_paths[:4])"
   ]
  },
  {
   "cell_type": "code",
   "execution_count": 5,
   "metadata": {},
   "outputs": [],
   "source": [
    "# global_music_file_paths"
   ]
  },
  {
   "cell_type": "code",
   "execution_count": 6,
   "metadata": {},
   "outputs": [],
   "source": [
    "#Add the dates to the files - run once\n",
    "def addsDatesToData():\n",
    "    to_remove_front = \"spotify za v2\\\\regional-za-weekly-\"\n",
    "    to_remove_back = \".csv\"\n",
    "\n",
    "    len_front_remove = len(to_remove_front)\n",
    "    len_back_remove = len(to_remove_back)\n",
    "\n",
    "    for file in global_music_file_paths: \n",
    "#         print(file)\n",
    "        the_data_in_file = pd.read_csv(file)\n",
    "#         the_data_in_file = the_data_in_file.iloc[1: , :]\n",
    "#         the_data_in_file.columns = [\"Position\", \"Track Name\", \"Artist\", \"Streams\", \"URL\"]\n",
    "        \n",
    "        \n",
    "        the_dates = file[len_front_remove:]\n",
    "        the_dates = the_dates[:-len_back_remove]\n",
    "\n",
    "        split_dates = the_dates.split(\"-\")\n",
    "\n",
    "        start_date = split_dates[0] + \"-\" + split_dates[1] + \"-\" + split_dates[2]\n",
    "        \n",
    "\n",
    "        len_dates = the_data_in_file.shape[0]\n",
    "        start_dates = len_dates * [start_date]\n",
    "\n",
    "        date_columns = {\"End Date\": start_dates}   \n",
    "\n",
    "        the_data_in_file[\"End Date\"] = start_dates\n",
    "\n",
    "        #write the data back to the File\n",
    "        the_data_in_file.to_csv(file, index=False)\n",
    "        \n",
    "#remove dates in existing files\n",
    "def removeExistingDates():\n",
    "    for file in global_music_file_paths:\n",
    "        \n",
    "        the_data_in_file = pd.read_csv(file)\n",
    "\n",
    "        the_data_in_file.drop([\"Start Date\", \"End Date\"], axis=1, inplace=True) \n",
    "\n",
    "        the_data_in_file.to_csv(file, index=False)\n",
    "    \n",
    "#check for dates ... opting for removal and putting them back on\n"
   ]
  },
  {
   "cell_type": "code",
   "execution_count": 7,
   "metadata": {
    "scrolled": true
   },
   "outputs": [],
   "source": [
    "# removeExistingDates()\n",
    "addsDatesToData()"
   ]
  },
  {
   "cell_type": "code",
   "execution_count": 8,
   "metadata": {},
   "outputs": [],
   "source": [
    "#Combine the files and sort by dates\n",
    "all_files = []\n",
    "trouble_files = []\n",
    "for file in global_music_file_paths:\n",
    "    the_data_in_file = pd.read_csv(file)\n",
    "    \n",
    "    if(\"URL\" in list(the_data_in_file.columns)):\n",
    "    \n",
    "        the_data_in_file = the_data_in_file.drop([\"URL\"], axis=1)\n",
    "    \n",
    "    list_vals = sum(list(the_data_in_file.isnull().sum()))\n",
    "    \n",
    "    if(list_vals > 0):\n",
    "        trouble_files.append(file)\n",
    "    all_files.append(the_data_in_file)\n",
    "    \n",
    "the_spotify_data = pd.concat(all_files) \n",
    "# trouble_files_df = pd.concat(trouble_files)"
   ]
  },
  {
   "cell_type": "code",
   "execution_count": 9,
   "metadata": {},
   "outputs": [],
   "source": [
    "# the_spotify_data[\"Start Date\"].unique().tolist()"
   ]
  },
  {
   "cell_type": "code",
   "execution_count": 10,
   "metadata": {},
   "outputs": [],
   "source": [
    "all_cols = list(the_spotify_data.columns)\n",
    "drop_cols = []\n",
    "\n",
    "for col in all_cols:\n",
    "    if(\"Unnamed\" in col or \"artificial\" in col):\n",
    "        drop_cols.append(col)\n",
    "        \n",
    "the_spotify_data.drop(drop_cols, axis=1, inplace = True)"
   ]
  },
  {
   "cell_type": "code",
   "execution_count": 11,
   "metadata": {},
   "outputs": [
    {
     "data": {
      "text/plain": [
       "Index(['rank', 'uri', 'artist_names', 'track_name', 'source', 'peak_rank',\n",
       "       'previous_rank', 'weeks_on_chart', 'streams', 'End Date'],\n",
       "      dtype='object')"
      ]
     },
     "execution_count": 11,
     "metadata": {},
     "output_type": "execute_result"
    }
   ],
   "source": [
    "the_spotify_data.columns"
   ]
  },
  {
   "cell_type": "code",
   "execution_count": 12,
   "metadata": {},
   "outputs": [
    {
     "data": {
      "text/html": [
       "<div>\n",
       "<style scoped>\n",
       "    .dataframe tbody tr th:only-of-type {\n",
       "        vertical-align: middle;\n",
       "    }\n",
       "\n",
       "    .dataframe tbody tr th {\n",
       "        vertical-align: top;\n",
       "    }\n",
       "\n",
       "    .dataframe thead th {\n",
       "        text-align: right;\n",
       "    }\n",
       "</style>\n",
       "<table border=\"1\" class=\"dataframe\">\n",
       "  <thead>\n",
       "    <tr style=\"text-align: right;\">\n",
       "      <th></th>\n",
       "      <th>rank</th>\n",
       "      <th>uri</th>\n",
       "      <th>artist_names</th>\n",
       "      <th>track_name</th>\n",
       "      <th>source</th>\n",
       "      <th>peak_rank</th>\n",
       "      <th>previous_rank</th>\n",
       "      <th>weeks_on_chart</th>\n",
       "      <th>streams</th>\n",
       "      <th>End Date</th>\n",
       "    </tr>\n",
       "  </thead>\n",
       "  <tbody>\n",
       "    <tr>\n",
       "      <th>0</th>\n",
       "      <td>1</td>\n",
       "      <td>spotify:track:2XW4DbS6NddZxRPm5rMCeY</td>\n",
       "      <td>Drake</td>\n",
       "      <td>God's Plan</td>\n",
       "      <td>Cash Money/Drake LP6</td>\n",
       "      <td>1</td>\n",
       "      <td>-1</td>\n",
       "      <td>1</td>\n",
       "      <td>10313</td>\n",
       "      <td>2018-03-15</td>\n",
       "    </tr>\n",
       "    <tr>\n",
       "      <th>1</th>\n",
       "      <td>2</td>\n",
       "      <td>spotify:track:65NwOZqoXny4JxqAPlfxRF</td>\n",
       "      <td>Post Malone, Ty Dolla $ign</td>\n",
       "      <td>Psycho (feat. Ty Dolla $ign)</td>\n",
       "      <td>Republic Records</td>\n",
       "      <td>2</td>\n",
       "      <td>-1</td>\n",
       "      <td>1</td>\n",
       "      <td>6588</td>\n",
       "      <td>2018-03-15</td>\n",
       "    </tr>\n",
       "    <tr>\n",
       "      <th>2</th>\n",
       "      <td>3</td>\n",
       "      <td>spotify:track:2U7Hu2RaNQNRi7izoJyZaX</td>\n",
       "      <td>Post Malone, 21 Savage</td>\n",
       "      <td>rockstar (feat. 21 Savage)</td>\n",
       "      <td>Republic Records</td>\n",
       "      <td>3</td>\n",
       "      <td>-1</td>\n",
       "      <td>1</td>\n",
       "      <td>5738</td>\n",
       "      <td>2018-03-15</td>\n",
       "    </tr>\n",
       "    <tr>\n",
       "      <th>3</th>\n",
       "      <td>4</td>\n",
       "      <td>spotify:track:3GCdLUSnKSMJhs4Tj6CV3s</td>\n",
       "      <td>Kendrick Lamar, SZA</td>\n",
       "      <td>All The Stars (with SZA)</td>\n",
       "      <td>Black Panther (TDE/DMG) PS</td>\n",
       "      <td>4</td>\n",
       "      <td>-1</td>\n",
       "      <td>1</td>\n",
       "      <td>5585</td>\n",
       "      <td>2018-03-15</td>\n",
       "    </tr>\n",
       "    <tr>\n",
       "      <th>4</th>\n",
       "      <td>5</td>\n",
       "      <td>spotify:track:45Egmo7icyopuzJN0oMEdk</td>\n",
       "      <td>Khalid, Normani</td>\n",
       "      <td>Love Lies (with Normani)</td>\n",
       "      <td>RCA Records Label</td>\n",
       "      <td>5</td>\n",
       "      <td>-1</td>\n",
       "      <td>1</td>\n",
       "      <td>5535</td>\n",
       "      <td>2018-03-15</td>\n",
       "    </tr>\n",
       "    <tr>\n",
       "      <th>...</th>\n",
       "      <td>...</td>\n",
       "      <td>...</td>\n",
       "      <td>...</td>\n",
       "      <td>...</td>\n",
       "      <td>...</td>\n",
       "      <td>...</td>\n",
       "      <td>...</td>\n",
       "      <td>...</td>\n",
       "      <td>...</td>\n",
       "      <td>...</td>\n",
       "    </tr>\n",
       "    <tr>\n",
       "      <th>195</th>\n",
       "      <td>196</td>\n",
       "      <td>spotify:track:4C9q7Zd0RtMoZgh1ptIAbw</td>\n",
       "      <td>Wanitwa Mos, Nkosazana Daughter, Master KG, Da...</td>\n",
       "      <td>Keneilwe (feat. Dalom Kids)</td>\n",
       "      <td>Wanitwa Mos Entertainment</td>\n",
       "      <td>2</td>\n",
       "      <td>186</td>\n",
       "      <td>48</td>\n",
       "      <td>88679</td>\n",
       "      <td>2024-10-17</td>\n",
       "    </tr>\n",
       "    <tr>\n",
       "      <th>196</th>\n",
       "      <td>197</td>\n",
       "      <td>spotify:track:2qxgejJTaZIHNSHDD22Uhl</td>\n",
       "      <td>Kabza De Small, DJ Maphorisa, Ami Faku</td>\n",
       "      <td>Abalele</td>\n",
       "      <td>Piano Hub</td>\n",
       "      <td>1</td>\n",
       "      <td>189</td>\n",
       "      <td>133</td>\n",
       "      <td>87892</td>\n",
       "      <td>2024-10-17</td>\n",
       "    </tr>\n",
       "    <tr>\n",
       "      <th>197</th>\n",
       "      <td>198</td>\n",
       "      <td>spotify:track:76Updb7OaDsoOHuqFbsuYr</td>\n",
       "      <td>Elaine</td>\n",
       "      <td>Risky</td>\n",
       "      <td>Columbia</td>\n",
       "      <td>45</td>\n",
       "      <td>-1</td>\n",
       "      <td>50</td>\n",
       "      <td>87795</td>\n",
       "      <td>2024-10-17</td>\n",
       "    </tr>\n",
       "    <tr>\n",
       "      <th>198</th>\n",
       "      <td>199</td>\n",
       "      <td>spotify:track:6OJblc63vbMcC9uEIY1Hpq</td>\n",
       "      <td>Da Mabusa, Ama Grootman</td>\n",
       "      <td>Ithuba</td>\n",
       "      <td>Major Role Music</td>\n",
       "      <td>97</td>\n",
       "      <td>143</td>\n",
       "      <td>11</td>\n",
       "      <td>87706</td>\n",
       "      <td>2024-10-17</td>\n",
       "    </tr>\n",
       "    <tr>\n",
       "      <th>199</th>\n",
       "      <td>200</td>\n",
       "      <td>spotify:track:5jOBkF36FUThJIHEJ3Zac5</td>\n",
       "      <td>Bandros, ZANI, Zee Nxumalo</td>\n",
       "      <td>Nguwe</td>\n",
       "      <td>Jive Hub Productions Pty (Ltd)</td>\n",
       "      <td>55</td>\n",
       "      <td>-1</td>\n",
       "      <td>34</td>\n",
       "      <td>87380</td>\n",
       "      <td>2024-10-17</td>\n",
       "    </tr>\n",
       "  </tbody>\n",
       "</table>\n",
       "<p>68886 rows × 10 columns</p>\n",
       "</div>"
      ],
      "text/plain": [
       "     rank                                   uri  \\\n",
       "0       1  spotify:track:2XW4DbS6NddZxRPm5rMCeY   \n",
       "1       2  spotify:track:65NwOZqoXny4JxqAPlfxRF   \n",
       "2       3  spotify:track:2U7Hu2RaNQNRi7izoJyZaX   \n",
       "3       4  spotify:track:3GCdLUSnKSMJhs4Tj6CV3s   \n",
       "4       5  spotify:track:45Egmo7icyopuzJN0oMEdk   \n",
       "..    ...                                   ...   \n",
       "195   196  spotify:track:4C9q7Zd0RtMoZgh1ptIAbw   \n",
       "196   197  spotify:track:2qxgejJTaZIHNSHDD22Uhl   \n",
       "197   198  spotify:track:76Updb7OaDsoOHuqFbsuYr   \n",
       "198   199  spotify:track:6OJblc63vbMcC9uEIY1Hpq   \n",
       "199   200  spotify:track:5jOBkF36FUThJIHEJ3Zac5   \n",
       "\n",
       "                                          artist_names  \\\n",
       "0                                                Drake   \n",
       "1                           Post Malone, Ty Dolla $ign   \n",
       "2                               Post Malone, 21 Savage   \n",
       "3                                  Kendrick Lamar, SZA   \n",
       "4                                      Khalid, Normani   \n",
       "..                                                 ...   \n",
       "195  Wanitwa Mos, Nkosazana Daughter, Master KG, Da...   \n",
       "196             Kabza De Small, DJ Maphorisa, Ami Faku   \n",
       "197                                             Elaine   \n",
       "198                            Da Mabusa, Ama Grootman   \n",
       "199                         Bandros, ZANI, Zee Nxumalo   \n",
       "\n",
       "                       track_name                          source  peak_rank  \\\n",
       "0                      God's Plan            Cash Money/Drake LP6          1   \n",
       "1    Psycho (feat. Ty Dolla $ign)                Republic Records          2   \n",
       "2      rockstar (feat. 21 Savage)                Republic Records          3   \n",
       "3        All The Stars (with SZA)      Black Panther (TDE/DMG) PS          4   \n",
       "4        Love Lies (with Normani)               RCA Records Label          5   \n",
       "..                            ...                             ...        ...   \n",
       "195   Keneilwe (feat. Dalom Kids)       Wanitwa Mos Entertainment          2   \n",
       "196                       Abalele                       Piano Hub          1   \n",
       "197                         Risky                        Columbia         45   \n",
       "198                        Ithuba                Major Role Music         97   \n",
       "199                         Nguwe  Jive Hub Productions Pty (Ltd)         55   \n",
       "\n",
       "     previous_rank  weeks_on_chart  streams    End Date  \n",
       "0               -1               1    10313  2018-03-15  \n",
       "1               -1               1     6588  2018-03-15  \n",
       "2               -1               1     5738  2018-03-15  \n",
       "3               -1               1     5585  2018-03-15  \n",
       "4               -1               1     5535  2018-03-15  \n",
       "..             ...             ...      ...         ...  \n",
       "195            186              48    88679  2024-10-17  \n",
       "196            189             133    87892  2024-10-17  \n",
       "197             -1              50    87795  2024-10-17  \n",
       "198            143              11    87706  2024-10-17  \n",
       "199             -1              34    87380  2024-10-17  \n",
       "\n",
       "[68886 rows x 10 columns]"
      ]
     },
     "execution_count": 12,
     "metadata": {},
     "output_type": "execute_result"
    }
   ],
   "source": [
    "the_spotify_data"
   ]
  },
  {
   "cell_type": "markdown",
   "metadata": {},
   "source": [
    "### Error checking that all the Thursday dates are present"
   ]
  },
  {
   "cell_type": "code",
   "execution_count": 13,
   "metadata": {},
   "outputs": [],
   "source": [
    "date_list = the_spotify_data[\"End Date\"].unique().tolist()\n",
    "start_date = date_list[0]\n",
    "end_date = date_list[len(date_list)-1]"
   ]
  },
  {
   "cell_type": "code",
   "execution_count": 14,
   "metadata": {},
   "outputs": [
    {
     "data": {
      "text/plain": [
       "345"
      ]
     },
     "execution_count": 14,
     "metadata": {},
     "output_type": "execute_result"
    }
   ],
   "source": [
    "len(date_list)"
   ]
  },
  {
   "cell_type": "code",
   "execution_count": 15,
   "metadata": {},
   "outputs": [
    {
     "data": {
      "text/plain": [
       "('2018-03-15', '2024-10-17')"
      ]
     },
     "execution_count": 15,
     "metadata": {},
     "output_type": "execute_result"
    }
   ],
   "source": [
    "start_date, end_date"
   ]
  },
  {
   "cell_type": "code",
   "execution_count": 16,
   "metadata": {},
   "outputs": [
    {
     "name": "stdout",
     "output_type": "stream",
     "text": [
      "thursdays_in_range:  345\n",
      "date_set:  345\n",
      "All Thursdays are present in the range.\n",
      "All Thursdays present: True\n"
     ]
    }
   ],
   "source": [
    "def check_thursdays_in_range(date_list, start_date, end_date):\n",
    "    # Convert start_date and end_date strings to datetime objects\n",
    "    start_date = datetime.strptime(start_date, \"%Y-%m-%d\")\n",
    "    end_date = datetime.strptime(end_date, \"%Y-%m-%d\")\n",
    "    \n",
    "    # Initialize a set to store Thursdays in the range\n",
    "    thursdays_in_range = set()\n",
    "    \n",
    "    # Iterate through the range of dates and add Thursdays to the set\n",
    "    current_date = start_date\n",
    "    while current_date <= end_date:\n",
    "        if current_date.weekday() == 3:  # Thursday\n",
    "            thursdays_in_range.add(current_date.strftime(\"%Y-%m-%d\"))\n",
    "        current_date += timedelta(days=1)\n",
    "    \n",
    "    # Convert date_list to a set for efficient membership checking\n",
    "    date_set = set(date_list)\n",
    "    \n",
    "    # Find missing Thursdays\n",
    "    missing_thursdays = sorted(thursdays_in_range - date_set)\n",
    "    print(\"thursdays_in_range: \", len(thursdays_in_range))\n",
    "    print(\"date_set: \", len(date_set))\n",
    "    \n",
    "    if missing_thursdays:\n",
    "        print(\"Missing Thursdays in the range:\")\n",
    "        for thursday in missing_thursdays:\n",
    "            print(thursday)\n",
    "        return False\n",
    "    else:\n",
    "        print(\"All Thursdays are present in the range.\")\n",
    "        return True\n",
    "\n",
    "result = check_thursdays_in_range(date_list, start_date, end_date)\n",
    "print(\"All Thursdays present:\", result)\n"
   ]
  },
  {
   "cell_type": "code",
   "execution_count": 17,
   "metadata": {},
   "outputs": [],
   "source": [
    "# the_spotify_data[\"End Date\"].unique().tolist()"
   ]
  },
  {
   "cell_type": "code",
   "execution_count": 18,
   "metadata": {},
   "outputs": [],
   "source": [
    "the_spotify_data[\"Week\"] = the_spotify_data[\"End Date\"].apply(lambda x : datetime.strptime(x, '%Y-%m-%d'))\n",
    "the_spotify_data[\"Year\"] = the_spotify_data[\"Week\"]\n",
    "\n",
    "the_spotify_data['Week'] = the_spotify_data['Week'].apply(lambda x : x.isocalendar()[1] )\n",
    "the_spotify_data['Year'] = the_spotify_data['Year'].apply(lambda x : x.isocalendar()[0] )\n",
    "\n",
    "# the_spotify_data[\"Start Date Dt\"] = the_spotify_data[\"Start Date\"].apply(lambda x : datetime.strptime(x, '%Y-%m-%d'))\n",
    "the_spotify_data[\"End Date Dt\"] = the_spotify_data[\"End Date\"].apply(lambda x : datetime.strptime(x, '%Y-%m-%d'))\n",
    "the_spotify_data['Seconds since Epoch'] = the_spotify_data['End Date Dt'].apply(lambda x : round(x.timestamp(), 0))"
   ]
  },
  {
   "cell_type": "code",
   "execution_count": 19,
   "metadata": {},
   "outputs": [],
   "source": [
    "#get the month when this happened\n",
    "def changedaytotheFirst(x):\n",
    "    x = x[:-2] + \"01\"\n",
    "    \n",
    "    return x"
   ]
  },
  {
   "cell_type": "code",
   "execution_count": 20,
   "metadata": {},
   "outputs": [],
   "source": [
    "the_spotify_data[\"End Date Aggregated\"] = the_spotify_data[\"End Date\"].apply(lambda x : changedaytotheFirst(x) )"
   ]
  },
  {
   "cell_type": "code",
   "execution_count": 21,
   "metadata": {},
   "outputs": [],
   "source": [
    "#find the number of artists on the track\n",
    "the_spotify_data.dropna(inplace=True)\n",
    "\n",
    "the_spotify_data[\"artist_names\"] = the_spotify_data[\"artist_names\"].apply(lambda x : x.encode(\"utf-8\").decode(\"latin-1\"))\n",
    "the_spotify_data[\"artist_names\"] = the_spotify_data[\"artist_names\"].apply(lambda x : re.sub(r'[^\\x00-\\x7F]+','', x))\n",
    "the_spotify_data[\"artist_names\"] = the_spotify_data.apply(lambda x : x[\"artist_names\"] + \"Artist_NA\" if(x[\"artist_names\"] == \"\") else x[\"artist_names\"], axis=1)\n",
    "\n",
    "the_spotify_data[\"track_name\"] = the_spotify_data[\"track_name\"].apply(lambda x : x.encode(\"utf-8\").decode(\"latin-1\"))\n",
    "the_spotify_data[\"track_name\"] = the_spotify_data[\"track_name\"].apply(lambda x : re.sub(r'[^\\x00-\\x7F]+','', x))\n",
    "the_spotify_data[\"track_name\"] = the_spotify_data.apply(lambda x : x[\"artist_names\"] + \"_NA\" if(x[\"track_name\"] == \"\") else x[\"track_name\"], axis=1)\n",
    "\n",
    "def countNumberArtists(x):\n",
    "    len_all_featured_artists = 0\n",
    "    num_artists = 0\n",
    "    xvals = x.split(\"feat\")\n",
    "    len_xvals = len(xvals)\n",
    "    \n",
    "    if(len_xvals > 1):\n",
    "        featured_artists = xvals[1:]\n",
    "        featured_artists_str = ' '.join(featured_artists)\n",
    "        all_featured_artists = featured_artists_str.split(\"& \")\n",
    "        len_all_featured_artists = len(all_featured_artists)\n",
    "        \n",
    "    num_artists = 1 + len_all_featured_artists\n",
    "    \n",
    "    return num_artists\n",
    "        \n",
    "    \n",
    "the_spotify_data['ArtistCount'] = the_spotify_data['track_name'].apply(lambda x : countNumberArtists(x))"
   ]
  },
  {
   "cell_type": "code",
   "execution_count": 22,
   "metadata": {},
   "outputs": [
    {
     "data": {
      "text/plain": [
       "(68886, 16)"
      ]
     },
     "execution_count": 22,
     "metadata": {},
     "output_type": "execute_result"
    }
   ],
   "source": [
    "the_spotify_data.shape"
   ]
  },
  {
   "cell_type": "code",
   "execution_count": 23,
   "metadata": {},
   "outputs": [],
   "source": [
    "the_spotify_data[\"main_artist\"] = the_spotify_data.apply(lambda x : x[\"artist_names\"].split(\",\")[0], axis=1)"
   ]
  },
  {
   "cell_type": "code",
   "execution_count": 24,
   "metadata": {},
   "outputs": [],
   "source": [
    "the_spotify_data = the_spotify_data.reset_index()\n",
    "the_spotify_data.drop([\"index\"], axis=1, inplace=True)"
   ]
  },
  {
   "cell_type": "code",
   "execution_count": 25,
   "metadata": {},
   "outputs": [
    {
     "data": {
      "text/plain": [
       "(68886, 17)"
      ]
     },
     "execution_count": 25,
     "metadata": {},
     "output_type": "execute_result"
    }
   ],
   "source": [
    "the_spotify_data.shape"
   ]
  },
  {
   "cell_type": "code",
   "execution_count": 26,
   "metadata": {},
   "outputs": [],
   "source": [
    "def everInTopTen(x):\n",
    "    position_vals = list(x[\"rank\"])\n",
    "    position_vals = list(set(position_vals))\n",
    "    \n",
    "#     print(position_vals)\n",
    "    \n",
    "    min_pos = min(position_vals)\n",
    "    existence_val = 0\n",
    "    \n",
    "    if(min_pos <= 10):\n",
    "        existence_val = 1\n",
    "    \n",
    "    x[\"isTopTen\"] = [existence_val] * len(x)\n",
    "    \n",
    "    return x\n",
    "    \n",
    "the_spotify_data = the_spotify_data[~the_spotify_data.index.duplicated()]\n",
    "the_spotify_data = the_spotify_data.groupby([\"artist_names\", \"track_name\"]).apply(lambda x : everInTopTen(x))"
   ]
  },
  {
   "cell_type": "code",
   "execution_count": 27,
   "metadata": {},
   "outputs": [
    {
     "data": {
      "text/html": [
       "<div>\n",
       "<style scoped>\n",
       "    .dataframe tbody tr th:only-of-type {\n",
       "        vertical-align: middle;\n",
       "    }\n",
       "\n",
       "    .dataframe tbody tr th {\n",
       "        vertical-align: top;\n",
       "    }\n",
       "\n",
       "    .dataframe thead th {\n",
       "        text-align: right;\n",
       "    }\n",
       "</style>\n",
       "<table border=\"1\" class=\"dataframe\">\n",
       "  <thead>\n",
       "    <tr style=\"text-align: right;\">\n",
       "      <th></th>\n",
       "      <th>rank</th>\n",
       "      <th>uri</th>\n",
       "      <th>artist_names</th>\n",
       "      <th>track_name</th>\n",
       "      <th>source</th>\n",
       "      <th>peak_rank</th>\n",
       "      <th>previous_rank</th>\n",
       "      <th>weeks_on_chart</th>\n",
       "      <th>streams</th>\n",
       "      <th>End Date</th>\n",
       "      <th>Week</th>\n",
       "      <th>Year</th>\n",
       "      <th>End Date Dt</th>\n",
       "      <th>Seconds since Epoch</th>\n",
       "      <th>End Date Aggregated</th>\n",
       "      <th>ArtistCount</th>\n",
       "      <th>main_artist</th>\n",
       "      <th>isTopTen</th>\n",
       "    </tr>\n",
       "  </thead>\n",
       "  <tbody>\n",
       "    <tr>\n",
       "      <th>0</th>\n",
       "      <td>1</td>\n",
       "      <td>spotify:track:2XW4DbS6NddZxRPm5rMCeY</td>\n",
       "      <td>Drake</td>\n",
       "      <td>God's Plan</td>\n",
       "      <td>Cash Money/Drake LP6</td>\n",
       "      <td>1</td>\n",
       "      <td>-1</td>\n",
       "      <td>1</td>\n",
       "      <td>10313</td>\n",
       "      <td>2018-03-15</td>\n",
       "      <td>11</td>\n",
       "      <td>2018</td>\n",
       "      <td>2018-03-15</td>\n",
       "      <td>1.521072e+09</td>\n",
       "      <td>2018-03-01</td>\n",
       "      <td>1</td>\n",
       "      <td>Drake</td>\n",
       "      <td>1</td>\n",
       "    </tr>\n",
       "    <tr>\n",
       "      <th>1</th>\n",
       "      <td>2</td>\n",
       "      <td>spotify:track:65NwOZqoXny4JxqAPlfxRF</td>\n",
       "      <td>Post Malone, Ty Dolla $ign</td>\n",
       "      <td>Psycho (feat. Ty Dolla $ign)</td>\n",
       "      <td>Republic Records</td>\n",
       "      <td>2</td>\n",
       "      <td>-1</td>\n",
       "      <td>1</td>\n",
       "      <td>6588</td>\n",
       "      <td>2018-03-15</td>\n",
       "      <td>11</td>\n",
       "      <td>2018</td>\n",
       "      <td>2018-03-15</td>\n",
       "      <td>1.521072e+09</td>\n",
       "      <td>2018-03-01</td>\n",
       "      <td>2</td>\n",
       "      <td>Post Malone</td>\n",
       "      <td>1</td>\n",
       "    </tr>\n",
       "    <tr>\n",
       "      <th>2</th>\n",
       "      <td>3</td>\n",
       "      <td>spotify:track:2U7Hu2RaNQNRi7izoJyZaX</td>\n",
       "      <td>Post Malone, 21 Savage</td>\n",
       "      <td>rockstar (feat. 21 Savage)</td>\n",
       "      <td>Republic Records</td>\n",
       "      <td>3</td>\n",
       "      <td>-1</td>\n",
       "      <td>1</td>\n",
       "      <td>5738</td>\n",
       "      <td>2018-03-15</td>\n",
       "      <td>11</td>\n",
       "      <td>2018</td>\n",
       "      <td>2018-03-15</td>\n",
       "      <td>1.521072e+09</td>\n",
       "      <td>2018-03-01</td>\n",
       "      <td>2</td>\n",
       "      <td>Post Malone</td>\n",
       "      <td>1</td>\n",
       "    </tr>\n",
       "    <tr>\n",
       "      <th>3</th>\n",
       "      <td>4</td>\n",
       "      <td>spotify:track:3GCdLUSnKSMJhs4Tj6CV3s</td>\n",
       "      <td>Kendrick Lamar, SZA</td>\n",
       "      <td>All The Stars (with SZA)</td>\n",
       "      <td>Black Panther (TDE/DMG) PS</td>\n",
       "      <td>4</td>\n",
       "      <td>-1</td>\n",
       "      <td>1</td>\n",
       "      <td>5585</td>\n",
       "      <td>2018-03-15</td>\n",
       "      <td>11</td>\n",
       "      <td>2018</td>\n",
       "      <td>2018-03-15</td>\n",
       "      <td>1.521072e+09</td>\n",
       "      <td>2018-03-01</td>\n",
       "      <td>1</td>\n",
       "      <td>Kendrick Lamar</td>\n",
       "      <td>1</td>\n",
       "    </tr>\n",
       "    <tr>\n",
       "      <th>4</th>\n",
       "      <td>5</td>\n",
       "      <td>spotify:track:45Egmo7icyopuzJN0oMEdk</td>\n",
       "      <td>Khalid, Normani</td>\n",
       "      <td>Love Lies (with Normani)</td>\n",
       "      <td>RCA Records Label</td>\n",
       "      <td>5</td>\n",
       "      <td>-1</td>\n",
       "      <td>1</td>\n",
       "      <td>5535</td>\n",
       "      <td>2018-03-15</td>\n",
       "      <td>11</td>\n",
       "      <td>2018</td>\n",
       "      <td>2018-03-15</td>\n",
       "      <td>1.521072e+09</td>\n",
       "      <td>2018-03-01</td>\n",
       "      <td>1</td>\n",
       "      <td>Khalid</td>\n",
       "      <td>1</td>\n",
       "    </tr>\n",
       "  </tbody>\n",
       "</table>\n",
       "</div>"
      ],
      "text/plain": [
       "   rank                                   uri                artist_names  \\\n",
       "0     1  spotify:track:2XW4DbS6NddZxRPm5rMCeY                       Drake   \n",
       "1     2  spotify:track:65NwOZqoXny4JxqAPlfxRF  Post Malone, Ty Dolla $ign   \n",
       "2     3  spotify:track:2U7Hu2RaNQNRi7izoJyZaX      Post Malone, 21 Savage   \n",
       "3     4  spotify:track:3GCdLUSnKSMJhs4Tj6CV3s         Kendrick Lamar, SZA   \n",
       "4     5  spotify:track:45Egmo7icyopuzJN0oMEdk             Khalid, Normani   \n",
       "\n",
       "                     track_name                      source  peak_rank  \\\n",
       "0                    God's Plan        Cash Money/Drake LP6          1   \n",
       "1  Psycho (feat. Ty Dolla $ign)            Republic Records          2   \n",
       "2    rockstar (feat. 21 Savage)            Republic Records          3   \n",
       "3      All The Stars (with SZA)  Black Panther (TDE/DMG) PS          4   \n",
       "4      Love Lies (with Normani)           RCA Records Label          5   \n",
       "\n",
       "   previous_rank  weeks_on_chart  streams    End Date  Week  Year End Date Dt  \\\n",
       "0             -1               1    10313  2018-03-15    11  2018  2018-03-15   \n",
       "1             -1               1     6588  2018-03-15    11  2018  2018-03-15   \n",
       "2             -1               1     5738  2018-03-15    11  2018  2018-03-15   \n",
       "3             -1               1     5585  2018-03-15    11  2018  2018-03-15   \n",
       "4             -1               1     5535  2018-03-15    11  2018  2018-03-15   \n",
       "\n",
       "   Seconds since Epoch End Date Aggregated  ArtistCount     main_artist  \\\n",
       "0         1.521072e+09          2018-03-01            1           Drake   \n",
       "1         1.521072e+09          2018-03-01            2     Post Malone   \n",
       "2         1.521072e+09          2018-03-01            2     Post Malone   \n",
       "3         1.521072e+09          2018-03-01            1  Kendrick Lamar   \n",
       "4         1.521072e+09          2018-03-01            1          Khalid   \n",
       "\n",
       "   isTopTen  \n",
       "0         1  \n",
       "1         1  \n",
       "2         1  \n",
       "3         1  \n",
       "4         1  "
      ]
     },
     "execution_count": 27,
     "metadata": {},
     "output_type": "execute_result"
    }
   ],
   "source": [
    "the_spotify_data.head()"
   ]
  },
  {
   "cell_type": "markdown",
   "metadata": {},
   "source": [
    "### When did the track reach the Top 10 "
   ]
  },
  {
   "cell_type": "code",
   "execution_count": 28,
   "metadata": {},
   "outputs": [
    {
     "data": {
      "text/html": [
       "<div>\n",
       "<style scoped>\n",
       "    .dataframe tbody tr th:only-of-type {\n",
       "        vertical-align: middle;\n",
       "    }\n",
       "\n",
       "    .dataframe tbody tr th {\n",
       "        vertical-align: top;\n",
       "    }\n",
       "\n",
       "    .dataframe thead th {\n",
       "        text-align: right;\n",
       "    }\n",
       "</style>\n",
       "<table border=\"1\" class=\"dataframe\">\n",
       "  <thead>\n",
       "    <tr style=\"text-align: right;\">\n",
       "      <th></th>\n",
       "      <th>rank</th>\n",
       "      <th>uri</th>\n",
       "      <th>artist_names</th>\n",
       "      <th>track_name</th>\n",
       "      <th>source</th>\n",
       "      <th>peak_rank</th>\n",
       "      <th>previous_rank</th>\n",
       "      <th>weeks_on_chart</th>\n",
       "      <th>streams</th>\n",
       "      <th>End Date</th>\n",
       "      <th>Week</th>\n",
       "      <th>Year</th>\n",
       "      <th>End Date Dt</th>\n",
       "      <th>Seconds since Epoch</th>\n",
       "      <th>End Date Aggregated</th>\n",
       "      <th>ArtistCount</th>\n",
       "      <th>main_artist</th>\n",
       "      <th>isTopTen</th>\n",
       "    </tr>\n",
       "  </thead>\n",
       "  <tbody>\n",
       "    <tr>\n",
       "      <th>0</th>\n",
       "      <td>1</td>\n",
       "      <td>spotify:track:2XW4DbS6NddZxRPm5rMCeY</td>\n",
       "      <td>Drake</td>\n",
       "      <td>God's Plan</td>\n",
       "      <td>Cash Money/Drake LP6</td>\n",
       "      <td>1</td>\n",
       "      <td>-1</td>\n",
       "      <td>1</td>\n",
       "      <td>10313</td>\n",
       "      <td>2018-03-15</td>\n",
       "      <td>11</td>\n",
       "      <td>2018</td>\n",
       "      <td>2018-03-15</td>\n",
       "      <td>1.521072e+09</td>\n",
       "      <td>2018-03-01</td>\n",
       "      <td>1</td>\n",
       "      <td>Drake</td>\n",
       "      <td>1</td>\n",
       "    </tr>\n",
       "    <tr>\n",
       "      <th>1</th>\n",
       "      <td>2</td>\n",
       "      <td>spotify:track:65NwOZqoXny4JxqAPlfxRF</td>\n",
       "      <td>Post Malone, Ty Dolla $ign</td>\n",
       "      <td>Psycho (feat. Ty Dolla $ign)</td>\n",
       "      <td>Republic Records</td>\n",
       "      <td>2</td>\n",
       "      <td>-1</td>\n",
       "      <td>1</td>\n",
       "      <td>6588</td>\n",
       "      <td>2018-03-15</td>\n",
       "      <td>11</td>\n",
       "      <td>2018</td>\n",
       "      <td>2018-03-15</td>\n",
       "      <td>1.521072e+09</td>\n",
       "      <td>2018-03-01</td>\n",
       "      <td>2</td>\n",
       "      <td>Post Malone</td>\n",
       "      <td>1</td>\n",
       "    </tr>\n",
       "    <tr>\n",
       "      <th>2</th>\n",
       "      <td>3</td>\n",
       "      <td>spotify:track:2U7Hu2RaNQNRi7izoJyZaX</td>\n",
       "      <td>Post Malone, 21 Savage</td>\n",
       "      <td>rockstar (feat. 21 Savage)</td>\n",
       "      <td>Republic Records</td>\n",
       "      <td>3</td>\n",
       "      <td>-1</td>\n",
       "      <td>1</td>\n",
       "      <td>5738</td>\n",
       "      <td>2018-03-15</td>\n",
       "      <td>11</td>\n",
       "      <td>2018</td>\n",
       "      <td>2018-03-15</td>\n",
       "      <td>1.521072e+09</td>\n",
       "      <td>2018-03-01</td>\n",
       "      <td>2</td>\n",
       "      <td>Post Malone</td>\n",
       "      <td>1</td>\n",
       "    </tr>\n",
       "    <tr>\n",
       "      <th>3</th>\n",
       "      <td>4</td>\n",
       "      <td>spotify:track:3GCdLUSnKSMJhs4Tj6CV3s</td>\n",
       "      <td>Kendrick Lamar, SZA</td>\n",
       "      <td>All The Stars (with SZA)</td>\n",
       "      <td>Black Panther (TDE/DMG) PS</td>\n",
       "      <td>4</td>\n",
       "      <td>-1</td>\n",
       "      <td>1</td>\n",
       "      <td>5585</td>\n",
       "      <td>2018-03-15</td>\n",
       "      <td>11</td>\n",
       "      <td>2018</td>\n",
       "      <td>2018-03-15</td>\n",
       "      <td>1.521072e+09</td>\n",
       "      <td>2018-03-01</td>\n",
       "      <td>1</td>\n",
       "      <td>Kendrick Lamar</td>\n",
       "      <td>1</td>\n",
       "    </tr>\n",
       "    <tr>\n",
       "      <th>4</th>\n",
       "      <td>5</td>\n",
       "      <td>spotify:track:45Egmo7icyopuzJN0oMEdk</td>\n",
       "      <td>Khalid, Normani</td>\n",
       "      <td>Love Lies (with Normani)</td>\n",
       "      <td>RCA Records Label</td>\n",
       "      <td>5</td>\n",
       "      <td>-1</td>\n",
       "      <td>1</td>\n",
       "      <td>5535</td>\n",
       "      <td>2018-03-15</td>\n",
       "      <td>11</td>\n",
       "      <td>2018</td>\n",
       "      <td>2018-03-15</td>\n",
       "      <td>1.521072e+09</td>\n",
       "      <td>2018-03-01</td>\n",
       "      <td>1</td>\n",
       "      <td>Khalid</td>\n",
       "      <td>1</td>\n",
       "    </tr>\n",
       "  </tbody>\n",
       "</table>\n",
       "</div>"
      ],
      "text/plain": [
       "   rank                                   uri                artist_names  \\\n",
       "0     1  spotify:track:2XW4DbS6NddZxRPm5rMCeY                       Drake   \n",
       "1     2  spotify:track:65NwOZqoXny4JxqAPlfxRF  Post Malone, Ty Dolla $ign   \n",
       "2     3  spotify:track:2U7Hu2RaNQNRi7izoJyZaX      Post Malone, 21 Savage   \n",
       "3     4  spotify:track:3GCdLUSnKSMJhs4Tj6CV3s         Kendrick Lamar, SZA   \n",
       "4     5  spotify:track:45Egmo7icyopuzJN0oMEdk             Khalid, Normani   \n",
       "\n",
       "                     track_name                      source  peak_rank  \\\n",
       "0                    God's Plan        Cash Money/Drake LP6          1   \n",
       "1  Psycho (feat. Ty Dolla $ign)            Republic Records          2   \n",
       "2    rockstar (feat. 21 Savage)            Republic Records          3   \n",
       "3      All The Stars (with SZA)  Black Panther (TDE/DMG) PS          4   \n",
       "4      Love Lies (with Normani)           RCA Records Label          5   \n",
       "\n",
       "   previous_rank  weeks_on_chart  streams    End Date  Week  Year End Date Dt  \\\n",
       "0             -1               1    10313  2018-03-15    11  2018  2018-03-15   \n",
       "1             -1               1     6588  2018-03-15    11  2018  2018-03-15   \n",
       "2             -1               1     5738  2018-03-15    11  2018  2018-03-15   \n",
       "3             -1               1     5585  2018-03-15    11  2018  2018-03-15   \n",
       "4             -1               1     5535  2018-03-15    11  2018  2018-03-15   \n",
       "\n",
       "   Seconds since Epoch End Date Aggregated  ArtistCount     main_artist  \\\n",
       "0         1.521072e+09          2018-03-01            1           Drake   \n",
       "1         1.521072e+09          2018-03-01            2     Post Malone   \n",
       "2         1.521072e+09          2018-03-01            2     Post Malone   \n",
       "3         1.521072e+09          2018-03-01            1  Kendrick Lamar   \n",
       "4         1.521072e+09          2018-03-01            1          Khalid   \n",
       "\n",
       "   isTopTen  \n",
       "0         1  \n",
       "1         1  \n",
       "2         1  \n",
       "3         1  \n",
       "4         1  "
      ]
     },
     "execution_count": 28,
     "metadata": {},
     "output_type": "execute_result"
    }
   ],
   "source": [
    "the_spotify_data.head()"
   ]
  },
  {
   "cell_type": "code",
   "execution_count": 29,
   "metadata": {},
   "outputs": [
    {
     "data": {
      "text/plain": [
       "0    46591\n",
       "1    22295\n",
       "Name: isTopTen, dtype: int64"
      ]
     },
     "execution_count": 29,
     "metadata": {},
     "output_type": "execute_result"
    }
   ],
   "source": [
    "the_spotify_data[\"isTopTen\"].value_counts()"
   ]
  },
  {
   "cell_type": "code",
   "execution_count": 30,
   "metadata": {},
   "outputs": [
    {
     "data": {
      "text/plain": [
       "rank                   0\n",
       "uri                    0\n",
       "artist_names           0\n",
       "track_name             0\n",
       "source                 0\n",
       "peak_rank              0\n",
       "previous_rank          0\n",
       "weeks_on_chart         0\n",
       "streams                0\n",
       "End Date               0\n",
       "Week                   0\n",
       "Year                   0\n",
       "End Date Dt            0\n",
       "Seconds since Epoch    0\n",
       "End Date Aggregated    0\n",
       "ArtistCount            0\n",
       "main_artist            0\n",
       "isTopTen               0\n",
       "dtype: int64"
      ]
     },
     "execution_count": 30,
     "metadata": {},
     "output_type": "execute_result"
    }
   ],
   "source": [
    "the_spotify_data.isnull().sum()"
   ]
  },
  {
   "cell_type": "code",
   "execution_count": 31,
   "metadata": {},
   "outputs": [
    {
     "name": "stdout",
     "output_type": "stream",
     "text": [
      "1202\n"
     ]
    }
   ],
   "source": [
    "unique_artists = the_spotify_data[\"main_artist\"].unique().tolist()\n",
    "num_artists = len(unique_artists)\n",
    "print(num_artists)"
   ]
  },
  {
   "cell_type": "code",
   "execution_count": 32,
   "metadata": {},
   "outputs": [],
   "source": [
    "### find new artists in that week"
   ]
  },
  {
   "cell_type": "code",
   "execution_count": 33,
   "metadata": {},
   "outputs": [],
   "source": [
    "# the_spotify_data.head(12)\n",
    "def getArtistAppearanceCount(x):\n",
    "    \n",
    "    x = x.reset_index()\n",
    "    x.drop([\"index\"],axis=1,inplace=True)\n",
    "    x = x.reset_index()\n",
    "    \n",
    "    x_cols = x.columns\n",
    "    \n",
    "    x_cols = [w.replace('index', 'artistAppearanceCount') for w in x_cols]\n",
    "    \n",
    "    x.columns = x_cols\n",
    "    \n",
    "    return x        \n",
    "    \n",
    "the_spotify_data =the_spotify_data.groupby([\"main_artist\"], as_index=False).apply(lambda x : getArtistAppearanceCount(x))\n",
    "the_spotify_data = the_spotify_data.reset_index()\n",
    "the_spotify_data.drop([\"level_0\", \"level_1\"], inplace=True, axis=1)"
   ]
  },
  {
   "cell_type": "code",
   "execution_count": 34,
   "metadata": {},
   "outputs": [
    {
     "data": {
      "text/html": [
       "<div>\n",
       "<style scoped>\n",
       "    .dataframe tbody tr th:only-of-type {\n",
       "        vertical-align: middle;\n",
       "    }\n",
       "\n",
       "    .dataframe tbody tr th {\n",
       "        vertical-align: top;\n",
       "    }\n",
       "\n",
       "    .dataframe thead th {\n",
       "        text-align: right;\n",
       "    }\n",
       "</style>\n",
       "<table border=\"1\" class=\"dataframe\">\n",
       "  <thead>\n",
       "    <tr style=\"text-align: right;\">\n",
       "      <th></th>\n",
       "      <th>artistAppearanceCount</th>\n",
       "      <th>rank</th>\n",
       "      <th>uri</th>\n",
       "      <th>artist_names</th>\n",
       "      <th>track_name</th>\n",
       "      <th>source</th>\n",
       "      <th>peak_rank</th>\n",
       "      <th>previous_rank</th>\n",
       "      <th>weeks_on_chart</th>\n",
       "      <th>streams</th>\n",
       "      <th>End Date</th>\n",
       "      <th>Week</th>\n",
       "      <th>Year</th>\n",
       "      <th>End Date Dt</th>\n",
       "      <th>Seconds since Epoch</th>\n",
       "      <th>End Date Aggregated</th>\n",
       "      <th>ArtistCount</th>\n",
       "      <th>main_artist</th>\n",
       "      <th>isTopTen</th>\n",
       "    </tr>\n",
       "  </thead>\n",
       "  <tbody>\n",
       "    <tr>\n",
       "      <th>0</th>\n",
       "      <td>0</td>\n",
       "      <td>14</td>\n",
       "      <td>spotify:track:3w0w2T288dec0mgeZZqoNN</td>\n",
       "      <td>$, Kanye West, Ty Dolla $ign</td>\n",
       "      <td>CARNIVAL</td>\n",
       "      <td>Ye</td>\n",
       "      <td>14</td>\n",
       "      <td>-1</td>\n",
       "      <td>1</td>\n",
       "      <td>203139</td>\n",
       "      <td>2024-02-15</td>\n",
       "      <td>7</td>\n",
       "      <td>2024</td>\n",
       "      <td>2024-02-15</td>\n",
       "      <td>1.707955e+09</td>\n",
       "      <td>2024-02-01</td>\n",
       "      <td>1</td>\n",
       "      <td>$</td>\n",
       "      <td>0</td>\n",
       "    </tr>\n",
       "    <tr>\n",
       "      <th>1</th>\n",
       "      <td>1</td>\n",
       "      <td>30</td>\n",
       "      <td>spotify:track:347AQK5Lyhn6RvB8tBGYxt</td>\n",
       "      <td>$, Kanye West, Ty Dolla $ign</td>\n",
       "      <td>STARS</td>\n",
       "      <td>Ye</td>\n",
       "      <td>30</td>\n",
       "      <td>-1</td>\n",
       "      <td>1</td>\n",
       "      <td>143990</td>\n",
       "      <td>2024-02-15</td>\n",
       "      <td>7</td>\n",
       "      <td>2024</td>\n",
       "      <td>2024-02-15</td>\n",
       "      <td>1.707955e+09</td>\n",
       "      <td>2024-02-01</td>\n",
       "      <td>1</td>\n",
       "      <td>$</td>\n",
       "      <td>0</td>\n",
       "    </tr>\n",
       "    <tr>\n",
       "      <th>2</th>\n",
       "      <td>2</td>\n",
       "      <td>31</td>\n",
       "      <td>spotify:track:1eaqMiiUn2P7MnqJK4XeK0</td>\n",
       "      <td>$, Kanye West, Ty Dolla $ign</td>\n",
       "      <td>TALKING</td>\n",
       "      <td>Ye</td>\n",
       "      <td>31</td>\n",
       "      <td>-1</td>\n",
       "      <td>1</td>\n",
       "      <td>143905</td>\n",
       "      <td>2024-02-15</td>\n",
       "      <td>7</td>\n",
       "      <td>2024</td>\n",
       "      <td>2024-02-15</td>\n",
       "      <td>1.707955e+09</td>\n",
       "      <td>2024-02-01</td>\n",
       "      <td>1</td>\n",
       "      <td>$</td>\n",
       "      <td>0</td>\n",
       "    </tr>\n",
       "    <tr>\n",
       "      <th>3</th>\n",
       "      <td>3</td>\n",
       "      <td>38</td>\n",
       "      <td>spotify:track:1icgLGTpX2fQXKRe4D7w2b</td>\n",
       "      <td>$, Kanye West, Ty Dolla $ign</td>\n",
       "      <td>BACK TO ME</td>\n",
       "      <td>Ye</td>\n",
       "      <td>38</td>\n",
       "      <td>-1</td>\n",
       "      <td>1</td>\n",
       "      <td>133735</td>\n",
       "      <td>2024-02-15</td>\n",
       "      <td>7</td>\n",
       "      <td>2024</td>\n",
       "      <td>2024-02-15</td>\n",
       "      <td>1.707955e+09</td>\n",
       "      <td>2024-02-01</td>\n",
       "      <td>1</td>\n",
       "      <td>$</td>\n",
       "      <td>0</td>\n",
       "    </tr>\n",
       "    <tr>\n",
       "      <th>4</th>\n",
       "      <td>4</td>\n",
       "      <td>49</td>\n",
       "      <td>spotify:track:5tEaVciE2GnR28aN6W9cLS</td>\n",
       "      <td>$, Kanye West, Ty Dolla $ign</td>\n",
       "      <td>FUK SUMN</td>\n",
       "      <td>Ye</td>\n",
       "      <td>49</td>\n",
       "      <td>-1</td>\n",
       "      <td>1</td>\n",
       "      <td>114081</td>\n",
       "      <td>2024-02-15</td>\n",
       "      <td>7</td>\n",
       "      <td>2024</td>\n",
       "      <td>2024-02-15</td>\n",
       "      <td>1.707955e+09</td>\n",
       "      <td>2024-02-01</td>\n",
       "      <td>1</td>\n",
       "      <td>$</td>\n",
       "      <td>0</td>\n",
       "    </tr>\n",
       "  </tbody>\n",
       "</table>\n",
       "</div>"
      ],
      "text/plain": [
       "   artistAppearanceCount  rank                                   uri  \\\n",
       "0                      0    14  spotify:track:3w0w2T288dec0mgeZZqoNN   \n",
       "1                      1    30  spotify:track:347AQK5Lyhn6RvB8tBGYxt   \n",
       "2                      2    31  spotify:track:1eaqMiiUn2P7MnqJK4XeK0   \n",
       "3                      3    38  spotify:track:1icgLGTpX2fQXKRe4D7w2b   \n",
       "4                      4    49  spotify:track:5tEaVciE2GnR28aN6W9cLS   \n",
       "\n",
       "                   artist_names  track_name source  peak_rank  previous_rank  \\\n",
       "0  $, Kanye West, Ty Dolla $ign    CARNIVAL     Ye         14             -1   \n",
       "1  $, Kanye West, Ty Dolla $ign       STARS     Ye         30             -1   \n",
       "2  $, Kanye West, Ty Dolla $ign     TALKING     Ye         31             -1   \n",
       "3  $, Kanye West, Ty Dolla $ign  BACK TO ME     Ye         38             -1   \n",
       "4  $, Kanye West, Ty Dolla $ign    FUK SUMN     Ye         49             -1   \n",
       "\n",
       "   weeks_on_chart  streams    End Date  Week  Year End Date Dt  \\\n",
       "0               1   203139  2024-02-15     7  2024  2024-02-15   \n",
       "1               1   143990  2024-02-15     7  2024  2024-02-15   \n",
       "2               1   143905  2024-02-15     7  2024  2024-02-15   \n",
       "3               1   133735  2024-02-15     7  2024  2024-02-15   \n",
       "4               1   114081  2024-02-15     7  2024  2024-02-15   \n",
       "\n",
       "   Seconds since Epoch End Date Aggregated  ArtistCount main_artist  isTopTen  \n",
       "0         1.707955e+09          2024-02-01            1           $         0  \n",
       "1         1.707955e+09          2024-02-01            1           $         0  \n",
       "2         1.707955e+09          2024-02-01            1           $         0  \n",
       "3         1.707955e+09          2024-02-01            1           $         0  \n",
       "4         1.707955e+09          2024-02-01            1           $         0  "
      ]
     },
     "execution_count": 34,
     "metadata": {},
     "output_type": "execute_result"
    }
   ],
   "source": [
    "the_spotify_data.head()"
   ]
  },
  {
   "cell_type": "code",
   "execution_count": 35,
   "metadata": {},
   "outputs": [],
   "source": [
    "def getTrackAppearanceCount(x):\n",
    "    \n",
    "    x = x.reset_index()\n",
    "    x.drop([\"index\"],axis=1,inplace=True)\n",
    "    x = x.reset_index()\n",
    "    \n",
    "    x_cols = x.columns\n",
    "    \n",
    "    x_cols = [w.replace('index', 'trackAppearanceCount') for w in x_cols]\n",
    "    \n",
    "    x.columns = x_cols\n",
    "    \n",
    "    return x         \n",
    "    \n",
    "the_spotify_data =the_spotify_data.groupby([\"artist_names\", \"track_name\"], as_index=False).apply(lambda x : getTrackAppearanceCount(x))\n",
    "the_spotify_data = the_spotify_data.reset_index()\n",
    "the_spotify_data.drop([\"level_0\", \"level_1\"], inplace=True, axis=1)"
   ]
  },
  {
   "cell_type": "code",
   "execution_count": 36,
   "metadata": {},
   "outputs": [
    {
     "data": {
      "text/html": [
       "<div>\n",
       "<style scoped>\n",
       "    .dataframe tbody tr th:only-of-type {\n",
       "        vertical-align: middle;\n",
       "    }\n",
       "\n",
       "    .dataframe tbody tr th {\n",
       "        vertical-align: top;\n",
       "    }\n",
       "\n",
       "    .dataframe thead th {\n",
       "        text-align: right;\n",
       "    }\n",
       "</style>\n",
       "<table border=\"1\" class=\"dataframe\">\n",
       "  <thead>\n",
       "    <tr style=\"text-align: right;\">\n",
       "      <th></th>\n",
       "      <th>trackAppearanceCount</th>\n",
       "      <th>artistAppearanceCount</th>\n",
       "      <th>rank</th>\n",
       "      <th>uri</th>\n",
       "      <th>artist_names</th>\n",
       "      <th>track_name</th>\n",
       "      <th>source</th>\n",
       "      <th>peak_rank</th>\n",
       "      <th>previous_rank</th>\n",
       "      <th>weeks_on_chart</th>\n",
       "      <th>streams</th>\n",
       "      <th>End Date</th>\n",
       "      <th>Week</th>\n",
       "      <th>Year</th>\n",
       "      <th>End Date Dt</th>\n",
       "      <th>Seconds since Epoch</th>\n",
       "      <th>End Date Aggregated</th>\n",
       "      <th>ArtistCount</th>\n",
       "      <th>main_artist</th>\n",
       "      <th>isTopTen</th>\n",
       "    </tr>\n",
       "  </thead>\n",
       "  <tbody>\n",
       "    <tr>\n",
       "      <th>0</th>\n",
       "      <td>0</td>\n",
       "      <td>3</td>\n",
       "      <td>38</td>\n",
       "      <td>spotify:track:1icgLGTpX2fQXKRe4D7w2b</td>\n",
       "      <td>$, Kanye West, Ty Dolla $ign</td>\n",
       "      <td>BACK TO ME</td>\n",
       "      <td>Ye</td>\n",
       "      <td>38</td>\n",
       "      <td>-1</td>\n",
       "      <td>1</td>\n",
       "      <td>133735</td>\n",
       "      <td>2024-02-15</td>\n",
       "      <td>7</td>\n",
       "      <td>2024</td>\n",
       "      <td>2024-02-15</td>\n",
       "      <td>1.707955e+09</td>\n",
       "      <td>2024-02-01</td>\n",
       "      <td>1</td>\n",
       "      <td>$</td>\n",
       "      <td>0</td>\n",
       "    </tr>\n",
       "    <tr>\n",
       "      <th>1</th>\n",
       "      <td>1</td>\n",
       "      <td>15</td>\n",
       "      <td>85</td>\n",
       "      <td>spotify:track:1icgLGTpX2fQXKRe4D7w2b</td>\n",
       "      <td>$, Kanye West, Ty Dolla $ign</td>\n",
       "      <td>BACK TO ME</td>\n",
       "      <td>Ye</td>\n",
       "      <td>38</td>\n",
       "      <td>38</td>\n",
       "      <td>2</td>\n",
       "      <td>88457</td>\n",
       "      <td>2024-02-22</td>\n",
       "      <td>8</td>\n",
       "      <td>2024</td>\n",
       "      <td>2024-02-22</td>\n",
       "      <td>1.708560e+09</td>\n",
       "      <td>2024-02-01</td>\n",
       "      <td>1</td>\n",
       "      <td>$</td>\n",
       "      <td>0</td>\n",
       "    </tr>\n",
       "    <tr>\n",
       "      <th>2</th>\n",
       "      <td>0</td>\n",
       "      <td>7</td>\n",
       "      <td>74</td>\n",
       "      <td>spotify:track:4ihV1wv7QmjbkLHaT9lA4s</td>\n",
       "      <td>$, Kanye West, Ty Dolla $ign</td>\n",
       "      <td>BEG FORGIVENESS</td>\n",
       "      <td>Ye</td>\n",
       "      <td>74</td>\n",
       "      <td>-1</td>\n",
       "      <td>1</td>\n",
       "      <td>95997</td>\n",
       "      <td>2024-02-15</td>\n",
       "      <td>7</td>\n",
       "      <td>2024</td>\n",
       "      <td>2024-02-15</td>\n",
       "      <td>1.707955e+09</td>\n",
       "      <td>2024-02-01</td>\n",
       "      <td>1</td>\n",
       "      <td>$</td>\n",
       "      <td>0</td>\n",
       "    </tr>\n",
       "    <tr>\n",
       "      <th>3</th>\n",
       "      <td>0</td>\n",
       "      <td>8</td>\n",
       "      <td>79</td>\n",
       "      <td>spotify:track:04CyMEHliadfQWMUJb1w99</td>\n",
       "      <td>$, Kanye West, Ty Dolla $ign</td>\n",
       "      <td>BURN</td>\n",
       "      <td>Ye</td>\n",
       "      <td>79</td>\n",
       "      <td>-1</td>\n",
       "      <td>1</td>\n",
       "      <td>91850</td>\n",
       "      <td>2024-02-15</td>\n",
       "      <td>7</td>\n",
       "      <td>2024</td>\n",
       "      <td>2024-02-15</td>\n",
       "      <td>1.707955e+09</td>\n",
       "      <td>2024-02-01</td>\n",
       "      <td>1</td>\n",
       "      <td>$</td>\n",
       "      <td>0</td>\n",
       "    </tr>\n",
       "    <tr>\n",
       "      <th>4</th>\n",
       "      <td>1</td>\n",
       "      <td>17</td>\n",
       "      <td>117</td>\n",
       "      <td>spotify:track:04CyMEHliadfQWMUJb1w99</td>\n",
       "      <td>$, Kanye West, Ty Dolla $ign</td>\n",
       "      <td>BURN</td>\n",
       "      <td>Ye</td>\n",
       "      <td>79</td>\n",
       "      <td>79</td>\n",
       "      <td>2</td>\n",
       "      <td>79620</td>\n",
       "      <td>2024-02-22</td>\n",
       "      <td>8</td>\n",
       "      <td>2024</td>\n",
       "      <td>2024-02-22</td>\n",
       "      <td>1.708560e+09</td>\n",
       "      <td>2024-02-01</td>\n",
       "      <td>1</td>\n",
       "      <td>$</td>\n",
       "      <td>0</td>\n",
       "    </tr>\n",
       "  </tbody>\n",
       "</table>\n",
       "</div>"
      ],
      "text/plain": [
       "   trackAppearanceCount  artistAppearanceCount  rank  \\\n",
       "0                     0                      3    38   \n",
       "1                     1                     15    85   \n",
       "2                     0                      7    74   \n",
       "3                     0                      8    79   \n",
       "4                     1                     17   117   \n",
       "\n",
       "                                    uri                  artist_names  \\\n",
       "0  spotify:track:1icgLGTpX2fQXKRe4D7w2b  $, Kanye West, Ty Dolla $ign   \n",
       "1  spotify:track:1icgLGTpX2fQXKRe4D7w2b  $, Kanye West, Ty Dolla $ign   \n",
       "2  spotify:track:4ihV1wv7QmjbkLHaT9lA4s  $, Kanye West, Ty Dolla $ign   \n",
       "3  spotify:track:04CyMEHliadfQWMUJb1w99  $, Kanye West, Ty Dolla $ign   \n",
       "4  spotify:track:04CyMEHliadfQWMUJb1w99  $, Kanye West, Ty Dolla $ign   \n",
       "\n",
       "        track_name source  peak_rank  previous_rank  weeks_on_chart  streams  \\\n",
       "0       BACK TO ME     Ye         38             -1               1   133735   \n",
       "1       BACK TO ME     Ye         38             38               2    88457   \n",
       "2  BEG FORGIVENESS     Ye         74             -1               1    95997   \n",
       "3             BURN     Ye         79             -1               1    91850   \n",
       "4             BURN     Ye         79             79               2    79620   \n",
       "\n",
       "     End Date  Week  Year End Date Dt  Seconds since Epoch  \\\n",
       "0  2024-02-15     7  2024  2024-02-15         1.707955e+09   \n",
       "1  2024-02-22     8  2024  2024-02-22         1.708560e+09   \n",
       "2  2024-02-15     7  2024  2024-02-15         1.707955e+09   \n",
       "3  2024-02-15     7  2024  2024-02-15         1.707955e+09   \n",
       "4  2024-02-22     8  2024  2024-02-22         1.708560e+09   \n",
       "\n",
       "  End Date Aggregated  ArtistCount main_artist  isTopTen  \n",
       "0          2024-02-01            1           $         0  \n",
       "1          2024-02-01            1           $         0  \n",
       "2          2024-02-01            1           $         0  \n",
       "3          2024-02-01            1           $         0  \n",
       "4          2024-02-01            1           $         0  "
      ]
     },
     "execution_count": 36,
     "metadata": {},
     "output_type": "execute_result"
    }
   ],
   "source": [
    "the_spotify_data.head()"
   ]
  },
  {
   "cell_type": "code",
   "execution_count": 37,
   "metadata": {},
   "outputs": [],
   "source": [
    "the_spotify_data.to_csv(\"the_spotify_data.csv\")"
   ]
  },
  {
   "cell_type": "code",
   "execution_count": 38,
   "metadata": {},
   "outputs": [],
   "source": [
    "the_spotify_data[\"rank\"] = the_spotify_data[\"rank\"].astype(int)\n",
    "the_spotify_data[\"streams\"] = the_spotify_data[\"streams\"].astype(int)\n",
    "the_spotify_data[\"ArtistCount\"] = the_spotify_data[\"ArtistCount\"].astype(int)\n",
    "\n",
    "the_spotify_data[\"isTopTen\"] = the_spotify_data[\"isTopTen\"].astype(int)\n",
    "# the_spotify_data[\"lenOnCharts\"] = the_spotify_data[\"lenOnCharts\"].astype(int)\n",
    "the_spotify_data[\"Year\"] = the_spotify_data[\"Year\"].astype(int)\n",
    "the_spotify_data[\"Week\"] = the_spotify_data[\"Week\"].astype(int)"
   ]
  },
  {
   "cell_type": "code",
   "execution_count": 39,
   "metadata": {},
   "outputs": [],
   "source": [
    "all_cols = list(the_spotify_data.columns)\n",
    "drop_cols = []\n",
    "\n",
    "for col in all_cols:\n",
    "    if(\"Unnamed\" in col or \"artificial\" in col):\n",
    "        drop_cols.append(col)\n",
    "        \n",
    "the_spotify_data.drop(drop_cols, axis=1, inplace = True)"
   ]
  },
  {
   "cell_type": "code",
   "execution_count": 40,
   "metadata": {},
   "outputs": [],
   "source": [
    "the_spotify_data[\"Artist and Track\"] = the_spotify_data[\"artist_names\"] + \"; \" + the_spotify_data[\"track_name\"]"
   ]
  },
  {
   "cell_type": "markdown",
   "metadata": {},
   "source": [
    "### Getting the list of Artists and Tracks"
   ]
  },
  {
   "cell_type": "code",
   "execution_count": 41,
   "metadata": {},
   "outputs": [],
   "source": [
    "import pandas as pd\n",
    "# import pymongo\n",
    "# import getlyrics"
   ]
  },
  {
   "cell_type": "code",
   "execution_count": 42,
   "metadata": {},
   "outputs": [],
   "source": [
    "def trackAppearance(x):\n",
    "#     x = x.reset_index()\n",
    "\n",
    "    x = x.sort_values(by=[\"End Date\"])\n",
    "#     x.set_index([\"Position\"])\n",
    "\n",
    "    x[\"rank\"] = x[\"rank\"].astype(int)\n",
    "#     print(list(x[\"Position\"]))\n",
    "    \n",
    "    x[\"rank difference\"] = x[\"rank\"].diff().fillna(0)\n",
    "    x[\"rank difference\"] = x[\"rank difference\"].astype(int)\n",
    "    \n",
    "#     x[\"Position Difference\"] = x[\"Position\"].sub(x[\"Position\"].shift())\n",
    "#     x.drop([\"index\"], inplace=True)\n",
    "    \n",
    "    return x\n",
    "    \n",
    "all_files_grouped = the_spotify_data.groupby([\"main_artist\", \"track_name\"]).apply(lambda x: trackAppearance(x))"
   ]
  },
  {
   "cell_type": "code",
   "execution_count": 43,
   "metadata": {},
   "outputs": [
    {
     "data": {
      "text/plain": [
       "187"
      ]
     },
     "execution_count": 43,
     "metadata": {},
     "output_type": "execute_result"
    }
   ],
   "source": [
    "all_files_grouped[\"rank difference\"].max()"
   ]
  },
  {
   "cell_type": "markdown",
   "metadata": {},
   "source": [
    "### Position over time"
   ]
  },
  {
   "cell_type": "code",
   "execution_count": 44,
   "metadata": {},
   "outputs": [],
   "source": [
    "def positionvertime(x):\n",
    "    posovertime = 0\n",
    "    #new track\n",
    "    if(x[\"rank difference\"] == 0 and x[\"trackAppearanceCount\"]==0):\n",
    "        posovertime = 0\n",
    "    #track stayed in the same position\n",
    "    elif(x[\"rank difference\"] == 0 and x[\"trackAppearanceCount\"]!=0):\n",
    "        posovertime = 50\n",
    "    #track went up the chart\n",
    "    elif(x[\"rank difference\"] < 0):\n",
    "        posovertime = 75\n",
    "    #track fell down the chart\n",
    "    else:\n",
    "        posovertime = 100\n",
    "    return posovertime"
   ]
  },
  {
   "cell_type": "code",
   "execution_count": 45,
   "metadata": {},
   "outputs": [],
   "source": [
    "all_files_grouped[\"Position over Time\"] = all_files_grouped.apply(lambda x : positionvertime(x), axis=1)"
   ]
  },
  {
   "cell_type": "markdown",
   "metadata": {},
   "source": [
    "##### Add a Girl Group and Boy Group"
   ]
  },
  {
   "cell_type": "code",
   "execution_count": 46,
   "metadata": {},
   "outputs": [],
   "source": [
    "ggdf = pd.read_csv(\"Classification/ListofGirlGroups.csv\", encoding='ANSI')\n",
    "bgdf = pd.read_csv(\"Classification/ListofBoyGroups.csv\", on_bad_lines='skip', encoding='ANSI')"
   ]
  },
  {
   "cell_type": "code",
   "execution_count": 47,
   "metadata": {},
   "outputs": [],
   "source": [
    "def IsGG(ggdf, y):\n",
    "    ggdf[\"Artist\"] = ggdf[\"Artist\"].astype(str)\n",
    "    ggs = [x.lower().strip() for x in ggdf[\"Artist\"]]\n",
    "    y = y.lower().strip()\n",
    "    \n",
    "    if y in ggs:\n",
    "        return True\n",
    "    else:\n",
    "        return False\n",
    "\n",
    "def IsBG(bgdf, y):\n",
    "    bgdf[\"Artist\"] = bgdf[\"Artist\"].astype(str)\n",
    "    bgs = [x.lower().strip() for x in bgdf[\"Artist\"]]\n",
    "    y = y.lower().strip()\n",
    "    \n",
    "    if y in bgs:\n",
    "        return True\n",
    "    else:\n",
    "        return False"
   ]
  },
  {
   "cell_type": "code",
   "execution_count": 48,
   "metadata": {},
   "outputs": [
    {
     "data": {
      "text/html": [
       "<div>\n",
       "<style scoped>\n",
       "    .dataframe tbody tr th:only-of-type {\n",
       "        vertical-align: middle;\n",
       "    }\n",
       "\n",
       "    .dataframe tbody tr th {\n",
       "        vertical-align: top;\n",
       "    }\n",
       "\n",
       "    .dataframe thead th {\n",
       "        text-align: right;\n",
       "    }\n",
       "</style>\n",
       "<table border=\"1\" class=\"dataframe\">\n",
       "  <thead>\n",
       "    <tr style=\"text-align: right;\">\n",
       "      <th></th>\n",
       "      <th>Artist</th>\n",
       "      <th>Debut Year</th>\n",
       "      <th>Members</th>\n",
       "    </tr>\n",
       "  </thead>\n",
       "  <tbody>\n",
       "    <tr>\n",
       "      <th>0</th>\n",
       "      <td>257</td>\n",
       "      <td>NaN</td>\n",
       "      <td>NaN</td>\n",
       "    </tr>\n",
       "    <tr>\n",
       "      <th>1</th>\n",
       "      <td>(G)I-dle</td>\n",
       "      <td>NaN</td>\n",
       "      <td>NaN</td>\n",
       "    </tr>\n",
       "    <tr>\n",
       "      <th>2</th>\n",
       "      <td>+(KR)ystal Eyes</td>\n",
       "      <td>NaN</td>\n",
       "      <td>NaN</td>\n",
       "    </tr>\n",
       "    <tr>\n",
       "      <th>3</th>\n",
       "      <td>2Eyes</td>\n",
       "      <td>NaN</td>\n",
       "      <td>NaN</td>\n",
       "    </tr>\n",
       "    <tr>\n",
       "      <th>4</th>\n",
       "      <td>2NE1</td>\n",
       "      <td>NaN</td>\n",
       "      <td>NaN</td>\n",
       "    </tr>\n",
       "    <tr>\n",
       "      <th>...</th>\n",
       "      <td>...</td>\n",
       "      <td>...</td>\n",
       "      <td>...</td>\n",
       "    </tr>\n",
       "    <tr>\n",
       "      <th>363</th>\n",
       "      <td>NaN</td>\n",
       "      <td>2024.0</td>\n",
       "      <td>NaN</td>\n",
       "    </tr>\n",
       "    <tr>\n",
       "      <th>364</th>\n",
       "      <td>NaN</td>\n",
       "      <td>2024.0</td>\n",
       "      <td>NaN</td>\n",
       "    </tr>\n",
       "    <tr>\n",
       "      <th>365</th>\n",
       "      <td>NaN</td>\n",
       "      <td>2024.0</td>\n",
       "      <td>NaN</td>\n",
       "    </tr>\n",
       "    <tr>\n",
       "      <th>366</th>\n",
       "      <td>NaN</td>\n",
       "      <td>2024.0</td>\n",
       "      <td>NaN</td>\n",
       "    </tr>\n",
       "    <tr>\n",
       "      <th>367</th>\n",
       "      <td>NaN</td>\n",
       "      <td>2024.0</td>\n",
       "      <td>NaN</td>\n",
       "    </tr>\n",
       "  </tbody>\n",
       "</table>\n",
       "<p>368 rows × 3 columns</p>\n",
       "</div>"
      ],
      "text/plain": [
       "              Artist  Debut Year  Members\n",
       "0                257         NaN      NaN\n",
       "1           (G)I-dle         NaN      NaN\n",
       "2    +(KR)ystal Eyes         NaN      NaN\n",
       "3              2Eyes         NaN      NaN\n",
       "4               2NE1         NaN      NaN\n",
       "..               ...         ...      ...\n",
       "363              NaN      2024.0      NaN\n",
       "364              NaN      2024.0      NaN\n",
       "365              NaN      2024.0      NaN\n",
       "366              NaN      2024.0      NaN\n",
       "367              NaN      2024.0      NaN\n",
       "\n",
       "[368 rows x 3 columns]"
      ]
     },
     "execution_count": 48,
     "metadata": {},
     "output_type": "execute_result"
    }
   ],
   "source": [
    "ggdf"
   ]
  },
  {
   "cell_type": "code",
   "execution_count": 49,
   "metadata": {},
   "outputs": [],
   "source": [
    "all_files_grouped[\"IsGirlGroup\"] = all_files_grouped[\"main_artist\"].apply(lambda x : IsGG(ggdf, x))\n",
    "all_files_grouped[\"IsBoyGroup\"] = all_files_grouped[\"main_artist\"].apply(lambda x : IsGG(bgdf, x))\n",
    "\n",
    "ggs = all_files_grouped[all_files_grouped[\"IsGirlGroup\"]==True][\"main_artist\"].unique().tolist()\n",
    "bgs = all_files_grouped[all_files_grouped[\"IsBoyGroup\"]==True][\"main_artist\"].unique().tolist()"
   ]
  },
  {
   "cell_type": "code",
   "execution_count": 50,
   "metadata": {},
   "outputs": [],
   "source": [
    "all_files_grouped.to_csv(\"Classification/all_files_ZAv1.csv\", index=False)"
   ]
  },
  {
   "cell_type": "code",
   "execution_count": 51,
   "metadata": {},
   "outputs": [
    {
     "data": {
      "text/plain": [
       "Index(['trackAppearanceCount', 'artistAppearanceCount', 'rank', 'uri',\n",
       "       'artist_names', 'track_name', 'source', 'peak_rank', 'previous_rank',\n",
       "       'weeks_on_chart', 'streams', 'End Date', 'Week', 'Year', 'End Date Dt',\n",
       "       'Seconds since Epoch', 'End Date Aggregated', 'ArtistCount',\n",
       "       'main_artist', 'isTopTen', 'Artist and Track', 'rank difference',\n",
       "       'Position over Time', 'IsGirlGroup', 'IsBoyGroup'],\n",
       "      dtype='object')"
      ]
     },
     "execution_count": 51,
     "metadata": {},
     "output_type": "execute_result"
    }
   ],
   "source": [
    "all_files_grouped.columns"
   ]
  },
  {
   "cell_type": "code",
   "execution_count": 52,
   "metadata": {},
   "outputs": [],
   "source": [
    "# new_all_files_grouped = all_files_grouped.reset_index(drop=True)"
   ]
  },
  {
   "cell_type": "code",
   "execution_count": 53,
   "metadata": {},
   "outputs": [],
   "source": [
    "def newstuff(x):\n",
    "#     x = x.reset_index()\n",
    "\n",
    "    x = x.sort_values(by=['Seconds since Epoch'])\n",
    "#     x.set_index([\"Position\"])\n",
    "    print(x)\n",
    "    \n",
    "    return x\n",
    "    \n"
   ]
  },
  {
   "cell_type": "markdown",
   "metadata": {},
   "source": [
    "### South African Artists"
   ]
  },
  {
   "cell_type": "code",
   "execution_count": 54,
   "metadata": {},
   "outputs": [
    {
     "data": {
      "text/plain": [
       "(68886, 25)"
      ]
     },
     "execution_count": 54,
     "metadata": {},
     "output_type": "execute_result"
    }
   ],
   "source": [
    "all_files_grouped.shape"
   ]
  },
  {
   "cell_type": "code",
   "execution_count": 55,
   "metadata": {},
   "outputs": [
    {
     "data": {
      "text/plain": [
       "Index(['trackAppearanceCount', 'artistAppearanceCount', 'rank', 'uri',\n",
       "       'artist_names', 'track_name', 'source', 'peak_rank', 'previous_rank',\n",
       "       'weeks_on_chart', 'streams', 'End Date', 'Week', 'Year', 'End Date Dt',\n",
       "       'Seconds since Epoch', 'End Date Aggregated', 'ArtistCount',\n",
       "       'main_artist', 'isTopTen', 'Artist and Track', 'rank difference',\n",
       "       'Position over Time', 'IsGirlGroup', 'IsBoyGroup'],\n",
       "      dtype='object')"
      ]
     },
     "execution_count": 55,
     "metadata": {},
     "output_type": "execute_result"
    }
   ],
   "source": [
    "all_files_grouped.columns"
   ]
  },
  {
   "cell_type": "code",
   "execution_count": 56,
   "metadata": {},
   "outputs": [],
   "source": [
    "narrowing_df = all_files_grouped[['End Date', \"rank difference\"]]"
   ]
  },
  {
   "cell_type": "code",
   "execution_count": 57,
   "metadata": {},
   "outputs": [],
   "source": [
    "narrowing_df.reset_index(inplace=True)"
   ]
  },
  {
   "cell_type": "code",
   "execution_count": 58,
   "metadata": {},
   "outputs": [
    {
     "name": "stderr",
     "output_type": "stream",
     "text": [
      "C:\\Users\\User\\AppData\\Local\\Temp\\ipykernel_21088\\3213521647.py:1: SettingWithCopyWarning: \n",
      "A value is trying to be set on a copy of a slice from a DataFrame\n",
      "\n",
      "See the caveats in the documentation: https://pandas.pydata.org/pandas-docs/stable/user_guide/indexing.html#returning-a-view-versus-a-copy\n",
      "  narrowing_df.drop([\"level_2\"], axis=1, inplace=True)\n"
     ]
    }
   ],
   "source": [
    "narrowing_df.drop([\"level_2\"], axis=1, inplace=True)"
   ]
  },
  {
   "cell_type": "code",
   "execution_count": 59,
   "metadata": {},
   "outputs": [],
   "source": [
    "narrowing_df = narrowing_df[narrowing_df[\"rank difference\"] == 0]"
   ]
  },
  {
   "cell_type": "code",
   "execution_count": 60,
   "metadata": {},
   "outputs": [],
   "source": [
    "narrowing_df.to_csv(\"narrow_uniq.csv\", index=False)"
   ]
  },
  {
   "cell_type": "code",
   "execution_count": 61,
   "metadata": {},
   "outputs": [],
   "source": [
    "# narow_artists_unique"
   ]
  },
  {
   "cell_type": "code",
   "execution_count": 62,
   "metadata": {},
   "outputs": [],
   "source": [
    "uniquartists_cat_df = pd.read_csv(\"Classification/uniquartists_cat.csv\")"
   ]
  },
  {
   "cell_type": "code",
   "execution_count": 63,
   "metadata": {},
   "outputs": [
    {
     "name": "stderr",
     "output_type": "stream",
     "text": [
      "C:\\Users\\User\\AppData\\Local\\Temp\\ipykernel_21088\\1985272047.py:4: SettingWithCopyWarning: \n",
      "A value is trying to be set on a copy of a slice from a DataFrame\n",
      "\n",
      "See the caveats in the documentation: https://pandas.pydata.org/pandas-docs/stable/user_guide/indexing.html#returning-a-view-versus-a-copy\n",
      "  narrowing_df_art.drop_duplicates(inplace=True)\n",
      "C:\\Users\\User\\AppData\\Local\\Temp\\ipykernel_21088\\1985272047.py:5: SettingWithCopyWarning: \n",
      "A value is trying to be set on a copy of a slice from a DataFrame\n",
      "\n",
      "See the caveats in the documentation: https://pandas.pydata.org/pandas-docs/stable/user_guide/indexing.html#returning-a-view-versus-a-copy\n",
      "  uniquartists_cat_df_art.drop_duplicates(inplace=True)\n"
     ]
    }
   ],
   "source": [
    "narrowing_df_art = narrowing_df[[\"main_artist\"]]\n",
    "uniquartists_cat_df_art = uniquartists_cat_df[[\"main_artist\"]]\n",
    "\n",
    "narrowing_df_art.drop_duplicates(inplace=True)\n",
    "uniquartists_cat_df_art.drop_duplicates(inplace=True)"
   ]
  },
  {
   "cell_type": "code",
   "execution_count": 64,
   "metadata": {},
   "outputs": [
    {
     "data": {
      "text/plain": [
       "(1202, 1264)"
      ]
     },
     "execution_count": 64,
     "metadata": {},
     "output_type": "execute_result"
    }
   ],
   "source": [
    "len(narrowing_df_art), len(uniquartists_cat_df_art)"
   ]
  },
  {
   "cell_type": "code",
   "execution_count": 65,
   "metadata": {},
   "outputs": [],
   "source": [
    "minus_list = list(set(narrowing_df_art[\"main_artist\"]) - set(uniquartists_cat_df_art[\"main_artist\"]))"
   ]
  },
  {
   "cell_type": "code",
   "execution_count": 66,
   "metadata": {},
   "outputs": [],
   "source": [
    "minus_list_df = pd.DataFrame()\n",
    "minus_list_df[\"main_artist\"] = minus_list\n",
    "minus_list_df[\"country\"] = [\"\"]*len(minus_list)\n",
    "minus_list_df.to_csv(\"Classification/New Artist to Cat.csv\", index=False)"
   ]
  },
  {
   "cell_type": "code",
   "execution_count": 67,
   "metadata": {},
   "outputs": [],
   "source": [
    "edited_minus_list_df = pd.read_csv(\"Classification/New Artist to Cat.csv\")\n",
    "uniquartists_cat_df = pd.read_csv(\"Classification/uniquartists_cat.csv\")\n",
    "\n",
    "added_files = [edited_minus_list_df, uniquartists_cat_df]\n",
    "added_files_df = pd.concat(added_files)\n",
    "added_files_df.to_csv(\"Classification/uniquartists_cat.csv\", index=False)"
   ]
  },
  {
   "cell_type": "code",
   "execution_count": 68,
   "metadata": {},
   "outputs": [],
   "source": [
    "south_african_artists_df = added_files_df[added_files_df[\"country\"] == \"ZA\"]\n",
    "south_african_artists = south_african_artists_df[\"main_artist\"].tolist()"
   ]
  },
  {
   "cell_type": "code",
   "execution_count": 69,
   "metadata": {},
   "outputs": [
    {
     "data": {
      "text/plain": [
       "414"
      ]
     },
     "execution_count": 69,
     "metadata": {},
     "output_type": "execute_result"
    }
   ],
   "source": [
    "len(south_african_artists)"
   ]
  },
  {
   "cell_type": "code",
   "execution_count": 70,
   "metadata": {},
   "outputs": [],
   "source": [
    "south_african_artists_lower = []\n",
    "for sartists in south_african_artists:\n",
    "    south_african_artists_lower.append(sartists.lower())"
   ]
  },
  {
   "cell_type": "code",
   "execution_count": 71,
   "metadata": {},
   "outputs": [],
   "source": [
    "uniq_sans = south_african_artists_lower"
   ]
  },
  {
   "cell_type": "code",
   "execution_count": 72,
   "metadata": {},
   "outputs": [
    {
     "data": {
      "text/plain": [
       "414"
      ]
     },
     "execution_count": 72,
     "metadata": {},
     "output_type": "execute_result"
    }
   ],
   "source": [
    "len(uniq_sans)"
   ]
  },
  {
   "cell_type": "code",
   "execution_count": 73,
   "metadata": {},
   "outputs": [
    {
     "data": {
      "text/plain": [
       "414"
      ]
     },
     "execution_count": 73,
     "metadata": {},
     "output_type": "execute_result"
    }
   ],
   "source": [
    "len(south_african_artists)"
   ]
  },
  {
   "cell_type": "code",
   "execution_count": 74,
   "metadata": {},
   "outputs": [],
   "source": [
    "all_files_grouped['Lower Artist'] = all_files_grouped['main_artist'].apply(lambda x : x.lower() )"
   ]
  },
  {
   "cell_type": "code",
   "execution_count": 75,
   "metadata": {},
   "outputs": [],
   "source": [
    "boolean_series = all_files_grouped[\"Lower Artist\"].isin(uniq_sans)\n",
    "all_files_grouped_filtered_df = all_files_grouped[boolean_series]"
   ]
  },
  {
   "cell_type": "code",
   "execution_count": 76,
   "metadata": {},
   "outputs": [],
   "source": [
    "all_files_grouped_filtered_df.to_csv(\"Classification/JustSouthAfricansOnZAChart.csv\", index=False)"
   ]
  },
  {
   "cell_type": "code",
   "execution_count": 77,
   "metadata": {
    "scrolled": true
   },
   "outputs": [
    {
     "name": "stderr",
     "output_type": "stream",
     "text": [
      "C:\\Users\\User\\AppData\\Local\\Temp\\ipykernel_21088\\2304093722.py:1: SettingWithCopyWarning: \n",
      "A value is trying to be set on a copy of a slice from a DataFrame\n",
      "\n",
      "See the caveats in the documentation: https://pandas.pydata.org/pandas-docs/stable/user_guide/indexing.html#returning-a-view-versus-a-copy\n",
      "  all_files_grouped_filtered_df.drop([\"main_artist\", \"track_name\"], inplace=True, axis=1)\n"
     ]
    }
   ],
   "source": [
    "all_files_grouped_filtered_df.drop([\"main_artist\", \"track_name\"], inplace=True, axis=1)"
   ]
  },
  {
   "cell_type": "code",
   "execution_count": 78,
   "metadata": {},
   "outputs": [],
   "source": [
    "all_files_grouped_filtered_df = all_files_grouped_filtered_df.reset_index()"
   ]
  },
  {
   "cell_type": "code",
   "execution_count": 79,
   "metadata": {},
   "outputs": [],
   "source": [
    "all_files_grouped_filtered_df.drop([\"level_2\"], axis=1, inplace = True)"
   ]
  },
  {
   "cell_type": "code",
   "execution_count": 80,
   "metadata": {},
   "outputs": [],
   "source": [
    "tot_streams_all_files_grouped_filtered_df = all_files_grouped_filtered_df[['main_artist', 'streams']]"
   ]
  },
  {
   "cell_type": "code",
   "execution_count": 81,
   "metadata": {},
   "outputs": [],
   "source": [
    "tot_streams_all_files_grouped_filtered_df_fin = tot_streams_all_files_grouped_filtered_df.groupby([\"main_artist\"]).sum()"
   ]
  },
  {
   "cell_type": "code",
   "execution_count": 82,
   "metadata": {},
   "outputs": [],
   "source": [
    "tot_streams_all_files_grouped_filtered_df_fin.reset_index(inplace=True)"
   ]
  },
  {
   "cell_type": "code",
   "execution_count": 83,
   "metadata": {},
   "outputs": [],
   "source": [
    "tot_streams_all_files_grouped_filtered_df_fin = tot_streams_all_files_grouped_filtered_df_fin.sort_values(by='streams', ascending=False)"
   ]
  },
  {
   "cell_type": "code",
   "execution_count": 84,
   "metadata": {},
   "outputs": [
    {
     "data": {
      "text/html": [
       "<div>\n",
       "<style scoped>\n",
       "    .dataframe tbody tr th:only-of-type {\n",
       "        vertical-align: middle;\n",
       "    }\n",
       "\n",
       "    .dataframe tbody tr th {\n",
       "        vertical-align: top;\n",
       "    }\n",
       "\n",
       "    .dataframe thead th {\n",
       "        text-align: right;\n",
       "    }\n",
       "</style>\n",
       "<table border=\"1\" class=\"dataframe\">\n",
       "  <thead>\n",
       "    <tr style=\"text-align: right;\">\n",
       "      <th></th>\n",
       "      <th>main_artist</th>\n",
       "      <th>streams</th>\n",
       "    </tr>\n",
       "  </thead>\n",
       "  <tbody>\n",
       "    <tr>\n",
       "      <th>151</th>\n",
       "      <td>Kabza De Small</td>\n",
       "      <td>94631699</td>\n",
       "    </tr>\n",
       "    <tr>\n",
       "      <th>157</th>\n",
       "      <td>Kelvin Momo</td>\n",
       "      <td>51010299</td>\n",
       "    </tr>\n",
       "    <tr>\n",
       "      <th>367</th>\n",
       "      <td>Tyler ICU</td>\n",
       "      <td>38306338</td>\n",
       "    </tr>\n",
       "    <tr>\n",
       "      <th>225</th>\n",
       "      <td>Mellow &amp; Sleazy</td>\n",
       "      <td>34583355</td>\n",
       "    </tr>\n",
       "    <tr>\n",
       "      <th>63</th>\n",
       "      <td>DJ Stokie</td>\n",
       "      <td>34444440</td>\n",
       "    </tr>\n",
       "    <tr>\n",
       "      <th>195</th>\n",
       "      <td>Lwah Ndlunkulu</td>\n",
       "      <td>33684074</td>\n",
       "    </tr>\n",
       "    <tr>\n",
       "      <th>381</th>\n",
       "      <td>Wanitwa Mos</td>\n",
       "      <td>31055855</td>\n",
       "    </tr>\n",
       "    <tr>\n",
       "      <th>303</th>\n",
       "      <td>Sam Deep</td>\n",
       "      <td>29096093</td>\n",
       "    </tr>\n",
       "    <tr>\n",
       "      <th>93</th>\n",
       "      <td>Dlala Thukzin</td>\n",
       "      <td>26116718</td>\n",
       "    </tr>\n",
       "    <tr>\n",
       "      <th>214</th>\n",
       "      <td>Mas Musiq</td>\n",
       "      <td>24527460</td>\n",
       "    </tr>\n",
       "    <tr>\n",
       "      <th>366</th>\n",
       "      <td>Tyla</td>\n",
       "      <td>23932136</td>\n",
       "    </tr>\n",
       "  </tbody>\n",
       "</table>\n",
       "</div>"
      ],
      "text/plain": [
       "         main_artist   streams\n",
       "151   Kabza De Small  94631699\n",
       "157      Kelvin Momo  51010299\n",
       "367        Tyler ICU  38306338\n",
       "225  Mellow & Sleazy  34583355\n",
       "63         DJ Stokie  34444440\n",
       "195   Lwah Ndlunkulu  33684074\n",
       "381      Wanitwa Mos  31055855\n",
       "303         Sam Deep  29096093\n",
       "93     Dlala Thukzin  26116718\n",
       "214        Mas Musiq  24527460\n",
       "366             Tyla  23932136"
      ]
     },
     "execution_count": 84,
     "metadata": {},
     "output_type": "execute_result"
    }
   ],
   "source": [
    "tot_streams_all_files_grouped_filtered_df_fin.head(11)"
   ]
  },
  {
   "cell_type": "code",
   "execution_count": 85,
   "metadata": {},
   "outputs": [],
   "source": [
    "top_10_ZA_artists = tot_streams_all_files_grouped_filtered_df_fin[\"main_artist\"].tolist()"
   ]
  },
  {
   "cell_type": "code",
   "execution_count": 86,
   "metadata": {},
   "outputs": [],
   "source": [
    "# top_10_ZA_artists"
   ]
  },
  {
   "cell_type": "code",
   "execution_count": 87,
   "metadata": {},
   "outputs": [],
   "source": [
    "for artist in top_10_ZA_artists:\n",
    "    kabza_de_small = all_files_grouped_filtered_df[all_files_grouped_filtered_df[\"main_artist\"] == artist]\n",
    "\n",
    "    kb_racing_bar_df = kabza_de_small[['End Date Aggregated', \"track_name\", 'Year', 'streams']]\n",
    "\n",
    "    kb_racing_bar_df.columns = ['date', \"name\", 'category', 'value']\n",
    "    kb_racing_bar_df = kb_racing_bar_df.groupby(['date', \"name\", 'category']).sum()\n",
    "    kb_racing_bar_df.reset_index(inplace=True)\n",
    "    \n",
    "    kb_racing_bar_df.to_csv(\"Classification/topten/_\" + artist + \"_ZAChartracing_bar.csv\", index=False)"
   ]
  },
  {
   "cell_type": "markdown",
   "metadata": {},
   "source": [
    "### For the bar chart race"
   ]
  },
  {
   "cell_type": "code",
   "execution_count": 88,
   "metadata": {},
   "outputs": [
    {
     "data": {
      "text/plain": [
       "16685"
      ]
     },
     "execution_count": 88,
     "metadata": {},
     "output_type": "execute_result"
    }
   ],
   "source": [
    "len(all_files_grouped_filtered_df)"
   ]
  },
  {
   "cell_type": "code",
   "execution_count": 89,
   "metadata": {},
   "outputs": [],
   "source": [
    "racing_bar_df = all_files_grouped_filtered_df[['End Date Aggregated', \"main_artist\", 'Year', 'streams']]"
   ]
  },
  {
   "cell_type": "code",
   "execution_count": 90,
   "metadata": {},
   "outputs": [],
   "source": [
    "racing_bar_df.columns = ['date', \"name\", 'category', 'value']"
   ]
  },
  {
   "cell_type": "code",
   "execution_count": 91,
   "metadata": {},
   "outputs": [],
   "source": [
    "racing_bar_df.to_csv(\"Classification/JustSouthAfricansOnZAChartracing_bar.csv\", index=False)"
   ]
  },
  {
   "cell_type": "code",
   "execution_count": 92,
   "metadata": {},
   "outputs": [],
   "source": [
    "# len(racing_bar_df[\"End Date Dt\"].unique().tolist())"
   ]
  },
  {
   "cell_type": "markdown",
   "metadata": {},
   "source": [
    "#### Monthly bar chart race"
   ]
  },
  {
   "cell_type": "code",
   "execution_count": 93,
   "metadata": {},
   "outputs": [],
   "source": [
    "monthly_racing_bar_df = all_files_grouped_filtered_df[['End Date Dt', \"main_artist\", 'Year', 'streams']]\n",
    "\n",
    "# monthly_racing_bar_df.groupby([\"Artist\", 'End Date Dt']).sum('Streams')"
   ]
  },
  {
   "cell_type": "code",
   "execution_count": 94,
   "metadata": {},
   "outputs": [
    {
     "name": "stderr",
     "output_type": "stream",
     "text": [
      "C:\\Users\\User\\AppData\\Local\\Temp\\ipykernel_21088\\1086615051.py:1: SettingWithCopyWarning: \n",
      "A value is trying to be set on a copy of a slice from a DataFrame.\n",
      "Try using .loc[row_indexer,col_indexer] = value instead\n",
      "\n",
      "See the caveats in the documentation: https://pandas.pydata.org/pandas-docs/stable/user_guide/indexing.html#returning-a-view-versus-a-copy\n",
      "  monthly_racing_bar_df[\"Month\"] = monthly_racing_bar_df[\"End Date Dt\"].apply(lambda x : x.month)\n"
     ]
    }
   ],
   "source": [
    "monthly_racing_bar_df[\"Month\"] = monthly_racing_bar_df[\"End Date Dt\"].apply(lambda x : x.month)"
   ]
  },
  {
   "cell_type": "code",
   "execution_count": 95,
   "metadata": {},
   "outputs": [],
   "source": [
    "monthly_racing_bar_agg_df = monthly_racing_bar_df.groupby([\"main_artist\", \"Month\", \"Year\"]).sum(\"streams\").reset_index()"
   ]
  },
  {
   "cell_type": "code",
   "execution_count": 96,
   "metadata": {},
   "outputs": [],
   "source": [
    "monthly_racing_bar_agg_df[\"date\"] = monthly_racing_bar_agg_df.apply( lambda x : datetime(int(x[\"Year\"]), int(x[\"Month\"]), 1), axis=1)"
   ]
  },
  {
   "cell_type": "code",
   "execution_count": 97,
   "metadata": {},
   "outputs": [],
   "source": [
    "monthly_racing_bar_agg_df.drop([\"Year\"], inplace = True, axis=1)"
   ]
  },
  {
   "cell_type": "code",
   "execution_count": 98,
   "metadata": {},
   "outputs": [],
   "source": [
    "monthly_racing_bar_fin = pd.DataFrame()\n",
    "monthly_racing_bar_fin['date'] = monthly_racing_bar_agg_df[\"date\"]\n",
    "monthly_racing_bar_fin['name'] = monthly_racing_bar_agg_df[\"main_artist\"]\n",
    "monthly_racing_bar_fin['category'] = monthly_racing_bar_agg_df[\"Month\"]\n",
    "monthly_racing_bar_fin['value'] = monthly_racing_bar_agg_df[\"streams\"]"
   ]
  },
  {
   "cell_type": "code",
   "execution_count": 99,
   "metadata": {},
   "outputs": [],
   "source": [
    "monthly_racing_bar_fin.to_csv(\"Classification/JustSouthAfricansOnZAChartMonthlyracing_bar.csv\", index=False)"
   ]
  },
  {
   "cell_type": "code",
   "execution_count": null,
   "metadata": {},
   "outputs": [],
   "source": []
  },
  {
   "cell_type": "code",
   "execution_count": null,
   "metadata": {},
   "outputs": [],
   "source": []
  }
 ],
 "metadata": {
  "kernelspec": {
   "display_name": "Python 3 (ipykernel)",
   "language": "python",
   "name": "python3"
  },
  "language_info": {
   "codemirror_mode": {
    "name": "ipython",
    "version": 3
   },
   "file_extension": ".py",
   "mimetype": "text/x-python",
   "name": "python",
   "nbconvert_exporter": "python",
   "pygments_lexer": "ipython3",
   "version": "3.9.13"
  }
 },
 "nbformat": 4,
 "nbformat_minor": 4
}
