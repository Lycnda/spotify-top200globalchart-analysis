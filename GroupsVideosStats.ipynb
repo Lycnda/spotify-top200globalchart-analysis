{
 "cells": [
  {
   "cell_type": "code",
   "execution_count": 1,
   "id": "4c524d9d",
   "metadata": {},
   "outputs": [],
   "source": [
    "import pandas as pd\n",
    "import json\n",
    "import string"
   ]
  },
  {
   "cell_type": "code",
   "execution_count": 2,
   "id": "55b939da",
   "metadata": {},
   "outputs": [],
   "source": [
    "df = pd.read_csv(\"Classification/all_files_SKRv1.csv\")"
   ]
  },
  {
   "cell_type": "code",
   "execution_count": 3,
   "id": "aaef3050",
   "metadata": {},
   "outputs": [
    {
     "data": {
      "text/plain": [
       "Index(['trackAppearanceCount', 'artistAppearanceCount', 'rank', 'uri',\n",
       "       'artist_names', 'track_name', 'source', 'peak_rank', 'previous_rank',\n",
       "       'weeks_on_chart', 'streams', 'End Date', 'Week', 'Year', 'End Date Dt',\n",
       "       'Seconds since Epoch', 'End Date Aggregated', 'ArtistCount',\n",
       "       'main_artist', 'isTopTen', 'Artist and Track', 'rank difference',\n",
       "       'Position over Time', 'IsGirlGroup', 'IsBoyGroup'],\n",
       "      dtype='object')"
      ]
     },
     "execution_count": 3,
     "metadata": {},
     "output_type": "execute_result"
    }
   ],
   "source": [
    "df.columns"
   ]
  },
  {
   "cell_type": "code",
   "execution_count": 4,
   "id": "cfe4af4c",
   "metadata": {},
   "outputs": [],
   "source": [
    "ggdf = df[df[\"IsGirlGroup\"]==True]"
   ]
  },
  {
   "cell_type": "code",
   "execution_count": 5,
   "id": "0c07dafb",
   "metadata": {},
   "outputs": [],
   "source": [
    "def getanartistsjson(all_files_za, artist_name):\n",
    "\n",
    "    artist_df = all_files_za[all_files_za[\"main_artist\"] == artist_name]\n",
    "    \n",
    "    num_of_streams = artist_df['streams'].sum()\n",
    "    min_date = artist_df['End Date'].min()\n",
    "    max_date = artist_df['End Date'].max()\n",
    "    artistAppearanceCount = artist_df['artistAppearanceCount'].max()\n",
    "\n",
    "    unique_songs = artist_df['track_name'].unique().tolist()\n",
    "    num_unique_songs = len(unique_songs)\n",
    "    \n",
    "    source_end_date = artist_df[['End Date', \"source\"]].drop_duplicates()\n",
    "    source_end_date_latest = pd.DataFrame(source_end_date.groupby(\"source\")[\"End Date\"].max())\n",
    "    source_end_date_latest = source_end_date_latest.reset_index()\n",
    "    \n",
    "    rank_max_end_date = artist_df[['End Date', 'track_name', \"rank\"]].drop_duplicates()\n",
    "\n",
    "    min_rank = rank_max_end_date[\"rank\"].min()\n",
    "    max_rank = rank_max_end_date[\"rank\"].max()\n",
    "\n",
    "    min_rank_song_dt = rank_max_end_date[rank_max_end_date[\"rank\"] == min_rank]\n",
    "    max_rank_song_dt = rank_max_end_date[rank_max_end_date[\"rank\"] == max_rank]\n",
    "\n",
    "    min_rank_song_unique_dt = min_rank_song_dt[[\"End Date\", \"track_name\"]].drop_duplicates()\n",
    "    max_rank_song_unique_dt = max_rank_song_dt[[\"End Date\", \"track_name\"]].drop_duplicates()\n",
    "\n",
    "    source_end_date_latest_ls = source_end_date_latest.values.tolist()\n",
    "\n",
    "    min_rank_song_unique_dt_ls = min_rank_song_unique_dt.values.tolist()\n",
    "    max_rank_song_unique_dt_ls = max_rank_song_unique_dt.values.tolist()\n",
    "    \n",
    "    artist_inner_json = {}\n",
    "    \n",
    "    artist_inner_json[\"num_of_streams\"] = str(num_of_streams)\n",
    "    artist_inner_json[\"min_rank\"] = str(min_rank)\n",
    "    artist_inner_json[\"max_rank\"] = str(max_rank)\n",
    "    artist_inner_json[\"min_date\"] = min_date\n",
    "    artist_inner_json[\"max_date\"] = max_date\n",
    "    artist_inner_json[\"num_unique_songs\"] = str(num_unique_songs)\n",
    "    artist_inner_json[\"artistappearanceCount\"] = str(artistAppearanceCount+1)\n",
    "\n",
    "    artist_inner_json[\"unique_songs\"] = unique_songs\n",
    "\n",
    "    artist_inner_json[\"source_end_date_latest_ls\"] = dict(source_end_date_latest_ls)\n",
    "    artist_inner_json[\"min_rank_song_unique_dt_ls\"] = dict(min_rank_song_unique_dt_ls)\n",
    "    artist_inner_json[\"max_rank_song_unique_dt_ls\"] = dict(max_rank_song_unique_dt_ls)\n",
    "    \n",
    "    artist_json = {}\n",
    "    artist_json[artist_name] = artist_inner_json\n",
    "    \n",
    "    return artist_json"
   ]
  },
  {
   "cell_type": "code",
   "execution_count": 6,
   "id": "3b1c9b68",
   "metadata": {},
   "outputs": [],
   "source": [
    "# ggdf[\"main_artist\"].unique().tolist()"
   ]
  },
  {
   "cell_type": "code",
   "execution_count": 7,
   "id": "e0a6376f",
   "metadata": {},
   "outputs": [
    {
     "name": "stdout",
     "output_type": "stream",
     "text": [
      "gg_artists/GIDLE_script.json\n",
      "gg_artists/BABYMONSTER_script.json\n",
      "gg_artists/BLACKPINK_script.json\n",
      "gg_artists/Billlie_script.json\n",
      "gg_artists/DAVICHI_script.json\n",
      "gg_artists/EXID_script.json\n",
      "gg_artists/FIFTY FIFTY_script.json\n",
      "gg_artists/GFRIEND_script.json\n",
      "gg_artists/GOT the beat_script.json\n",
      "gg_artists/Girls Generation_script.json\n",
      "gg_artists/H1KEY_script.json\n",
      "gg_artists/ILLIT_script.json\n",
      "gg_artists/ITZY_script.json\n",
      "gg_artists/IVE_script.json\n",
      "gg_artists/IZONE_script.json\n",
      "gg_artists/KATSEYE_script.json\n",
      "gg_artists/KISS OF LIFE_script.json\n",
      "gg_artists/Kep1er_script.json\n",
      "gg_artists/LABOUM_script.json\n",
      "gg_artists/LE SSERAFIM_script.json\n",
      "gg_artists/LOONA_script.json\n",
      "gg_artists/MAMAMOO_script.json\n",
      "gg_artists/MAVE_script.json\n",
      "gg_artists/MEOVV_script.json\n",
      "gg_artists/NMIXX_script.json\n",
      "gg_artists/NewJeans_script.json\n",
      "gg_artists/OH MY GIRL_script.json\n",
      "gg_artists/QWER_script.json\n",
      "gg_artists/Red Velvet_script.json\n",
      "gg_artists/STAYC_script.json\n",
      "gg_artists/TWICE_script.json\n",
      "gg_artists/The Ronettes_script.json\n",
      "gg_artists/VIVIZ_script.json\n",
      "gg_artists/WJSN_script.json\n",
      "gg_artists/WSG WANNABE OASISO_script.json\n",
      "gg_artists/Weeekly_script.json\n",
      "gg_artists/XG_script.json\n",
      "gg_artists/aespa_script.json\n",
      "gg_artists/tripleS_script.json\n"
     ]
    }
   ],
   "source": [
    "allggs = ggdf[\"main_artist\"].unique().tolist()\n",
    "\n",
    "for artist_name in allggs:\n",
    "    thesartistsum = getanartistsjson(ggdf, artist_name)\n",
    "    \n",
    "    voiceover_str_json = {}\n",
    "\n",
    "    # Serializing json\n",
    "    json_object = json.dumps(thesartistsum, indent=4)\n",
    "\n",
    "    new_artist_name = artist_name.translate(str.maketrans('', '', string.punctuation))\n",
    "\n",
    "    #     Writing to sample.json\n",
    "    print(\"gg_artists/\" + new_artist_name +\"_script.json\")\n",
    "    with open(\"gg_artists/\" + new_artist_name +\"_script.json\", \"w\") as outfile:\n",
    "        outfile.write(json_object)"
   ]
  },
  {
   "cell_type": "code",
   "execution_count": null,
   "id": "dd45c86c",
   "metadata": {},
   "outputs": [],
   "source": []
  }
 ],
 "metadata": {
  "kernelspec": {
   "display_name": "Python 3 (ipykernel)",
   "language": "python",
   "name": "python3"
  },
  "language_info": {
   "codemirror_mode": {
    "name": "ipython",
    "version": 3
   },
   "file_extension": ".py",
   "mimetype": "text/x-python",
   "name": "python",
   "nbconvert_exporter": "python",
   "pygments_lexer": "ipython3",
   "version": "3.12.7"
  }
 },
 "nbformat": 4,
 "nbformat_minor": 5
}
