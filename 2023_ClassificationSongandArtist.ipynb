{
 "cells": [
  {
   "cell_type": "markdown",
   "id": "d29e0f48",
   "metadata": {},
   "source": [
    "# Feature Engineering for Classification"
   ]
  },
  {
   "cell_type": "code",
   "execution_count": 1,
   "id": "99467b43",
   "metadata": {},
   "outputs": [],
   "source": [
    "import pandas as pd\n",
    "import matplotlib.pyplot as plt\n",
    "from sklearn.metrics import mean_squared_error, r2_score\n",
    "from sklearn.linear_model import LinearRegression\n",
    "import datetime\n",
    "import re\n",
    "from datetime import datetime, timedelta\n",
    "import matplotlib.pyplot as plt\n",
    "from sklearn.cluster import KMeans\n",
    "from sklearn import linear_model\n",
    "from sklearn.preprocessing import StandardScaler, MinMaxScaler\n",
    "%matplotlib inline"
   ]
  },
  {
   "cell_type": "code",
   "execution_count": 2,
   "id": "31354213",
   "metadata": {},
   "outputs": [],
   "source": [
    "za_data = pd.read_csv(\"Classification/all_files_skrv1.csv\")"
   ]
  },
  {
   "cell_type": "code",
   "execution_count": 3,
   "id": "b1295b4b",
   "metadata": {},
   "outputs": [
    {
     "data": {
      "text/plain": [
       "Index(['trackAppearanceCount', 'artistAppearanceCount', 'rank', 'uri',\n",
       "       'artist_names', 'track_name', 'source', 'peak_rank', 'previous_rank',\n",
       "       'weeks_on_chart', 'streams', 'End Date', 'Week', 'Year', 'End Date Dt',\n",
       "       'Seconds since Epoch', 'End Date Aggregated', 'ArtistCount',\n",
       "       'main_artist', 'isTopTen', 'Artist and Track', 'rank difference',\n",
       "       'Position over Time', 'IsGirlGroup', 'IsBoyGroup'],\n",
       "      dtype='object')"
      ]
     },
     "execution_count": 3,
     "metadata": {},
     "output_type": "execute_result"
    }
   ],
   "source": [
    "za_data.columns"
   ]
  },
  {
   "cell_type": "code",
   "execution_count": 4,
   "id": "0ee6f42e",
   "metadata": {},
   "outputs": [
    {
     "data": {
      "text/plain": [
       "25"
      ]
     },
     "execution_count": 4,
     "metadata": {},
     "output_type": "execute_result"
    }
   ],
   "source": [
    "len(list(za_data.columns))"
   ]
  },
  {
   "cell_type": "code",
   "execution_count": 5,
   "id": "537d20de",
   "metadata": {},
   "outputs": [],
   "source": [
    "za_data[\"End Date Dt\"] = za_data[\"End Date Dt\"].apply(lambda x : datetime.strptime(x, '%Y-%m-%d'))"
   ]
  },
  {
   "cell_type": "code",
   "execution_count": 6,
   "id": "14f21b1f",
   "metadata": {},
   "outputs": [
    {
     "data": {
      "text/plain": [
       "(37200, 25)"
      ]
     },
     "execution_count": 6,
     "metadata": {},
     "output_type": "execute_result"
    }
   ],
   "source": [
    "za_data.shape"
   ]
  },
  {
   "cell_type": "code",
   "execution_count": 7,
   "id": "c6b8b1fd",
   "metadata": {},
   "outputs": [],
   "source": [
    "za_data_test = za_data[za_data['End Date Dt'] > datetime(2023, 5, 31)]\n",
    "\n",
    "za_data_test_first_time = za_data_test[za_data_test[\"trackAppearanceCount\"] == 0]\n",
    "za_data_test_first_time_df = za_data_test_first_time[['main_artist', 'track_name', \"trackAppearanceCount\", \"artistAppearanceCount\", \"rank\", \"peak_rank\", 'previous_rank', 'weeks_on_chart', 'streams', 'ArtistCount', 'isTopTen', 'rank difference']]\n",
    "\n",
    "\n",
    "za_data_test = za_data_test[za_data_test[\"trackAppearanceCount\"] != 0]\n",
    "za_data = za_data[za_data['End Date Dt'] <= datetime(2023, 5, 31)]"
   ]
  },
  {
   "cell_type": "code",
   "execution_count": 8,
   "id": "ccd6cfe1",
   "metadata": {},
   "outputs": [],
   "source": [
    "za_data_df = za_data[['main_artist', 'track_name', \"trackAppearanceCount\", \"artistAppearanceCount\", \"rank\", \"peak_rank\", 'previous_rank', 'weeks_on_chart', 'streams', 'ArtistCount', 'isTopTen', 'rank difference']]\n",
    "za_data_test_df = za_data_test[['main_artist', 'track_name', \"trackAppearanceCount\", \"artistAppearanceCount\", \"rank\", \"peak_rank\", 'previous_rank', 'weeks_on_chart', 'streams', 'ArtistCount', 'isTopTen', 'rank difference']]"
   ]
  },
  {
   "cell_type": "code",
   "execution_count": 9,
   "id": "c0bd9ec0",
   "metadata": {},
   "outputs": [],
   "source": [
    "# za_data[\"End Date\"].unique().tolist()"
   ]
  },
  {
   "cell_type": "code",
   "execution_count": 10,
   "id": "cad1d76b",
   "metadata": {},
   "outputs": [
    {
     "data": {
      "text/html": [
       "<div>\n",
       "<style scoped>\n",
       "    .dataframe tbody tr th:only-of-type {\n",
       "        vertical-align: middle;\n",
       "    }\n",
       "\n",
       "    .dataframe tbody tr th {\n",
       "        vertical-align: top;\n",
       "    }\n",
       "\n",
       "    .dataframe thead th {\n",
       "        text-align: right;\n",
       "    }\n",
       "</style>\n",
       "<table border=\"1\" class=\"dataframe\">\n",
       "  <thead>\n",
       "    <tr style=\"text-align: right;\">\n",
       "      <th></th>\n",
       "      <th>main_artist</th>\n",
       "      <th>track_name</th>\n",
       "      <th>trackAppearanceCount</th>\n",
       "      <th>artistAppearanceCount</th>\n",
       "      <th>rank</th>\n",
       "      <th>peak_rank</th>\n",
       "      <th>previous_rank</th>\n",
       "      <th>weeks_on_chart</th>\n",
       "      <th>streams</th>\n",
       "      <th>ArtistCount</th>\n",
       "      <th>isTopTen</th>\n",
       "      <th>rank difference</th>\n",
       "    </tr>\n",
       "  </thead>\n",
       "  <tbody>\n",
       "    <tr>\n",
       "      <th>104</th>\n",
       "      <td>$</td>\n",
       "      <td>530</td>\n",
       "      <td>0</td>\n",
       "      <td>40</td>\n",
       "      <td>148</td>\n",
       "      <td>148</td>\n",
       "      <td>-1</td>\n",
       "      <td>1</td>\n",
       "      <td>34252</td>\n",
       "      <td>1</td>\n",
       "      <td>0</td>\n",
       "      <td>0</td>\n",
       "    </tr>\n",
       "    <tr>\n",
       "      <th>106</th>\n",
       "      <td>$</td>\n",
       "      <td>BACK TO ME</td>\n",
       "      <td>0</td>\n",
       "      <td>4</td>\n",
       "      <td>85</td>\n",
       "      <td>85</td>\n",
       "      <td>-1</td>\n",
       "      <td>1</td>\n",
       "      <td>45808</td>\n",
       "      <td>1</td>\n",
       "      <td>0</td>\n",
       "      <td>0</td>\n",
       "    </tr>\n",
       "    <tr>\n",
       "      <th>108</th>\n",
       "      <td>$</td>\n",
       "      <td>BEG FORGIVENESS</td>\n",
       "      <td>0</td>\n",
       "      <td>12</td>\n",
       "      <td>190</td>\n",
       "      <td>190</td>\n",
       "      <td>-1</td>\n",
       "      <td>1</td>\n",
       "      <td>27301</td>\n",
       "      <td>1</td>\n",
       "      <td>0</td>\n",
       "      <td>0</td>\n",
       "    </tr>\n",
       "    <tr>\n",
       "      <th>109</th>\n",
       "      <td>$</td>\n",
       "      <td>BURN</td>\n",
       "      <td>0</td>\n",
       "      <td>3</td>\n",
       "      <td>84</td>\n",
       "      <td>84</td>\n",
       "      <td>-1</td>\n",
       "      <td>1</td>\n",
       "      <td>46299</td>\n",
       "      <td>1</td>\n",
       "      <td>0</td>\n",
       "      <td>0</td>\n",
       "    </tr>\n",
       "    <tr>\n",
       "      <th>115</th>\n",
       "      <td>$</td>\n",
       "      <td>CARNIVAL</td>\n",
       "      <td>0</td>\n",
       "      <td>0</td>\n",
       "      <td>45</td>\n",
       "      <td>45</td>\n",
       "      <td>-1</td>\n",
       "      <td>1</td>\n",
       "      <td>67375</td>\n",
       "      <td>1</td>\n",
       "      <td>0</td>\n",
       "      <td>0</td>\n",
       "    </tr>\n",
       "    <tr>\n",
       "      <th>...</th>\n",
       "      <td>...</td>\n",
       "      <td>...</td>\n",
       "      <td>...</td>\n",
       "      <td>...</td>\n",
       "      <td>...</td>\n",
       "      <td>...</td>\n",
       "      <td>...</td>\n",
       "      <td>...</td>\n",
       "      <td>...</td>\n",
       "      <td>...</td>\n",
       "      <td>...</td>\n",
       "      <td>...</td>\n",
       "    </tr>\n",
       "    <tr>\n",
       "      <th>36927</th>\n",
       "      <td>j-hope</td>\n",
       "      <td>what if (dance mix)</td>\n",
       "      <td>0</td>\n",
       "      <td>133</td>\n",
       "      <td>107</td>\n",
       "      <td>107</td>\n",
       "      <td>-1</td>\n",
       "      <td>1</td>\n",
       "      <td>42255</td>\n",
       "      <td>1</td>\n",
       "      <td>0</td>\n",
       "      <td>0</td>\n",
       "    </tr>\n",
       "    <tr>\n",
       "      <th>36930</th>\n",
       "      <td>keshi</td>\n",
       "      <td>Say</td>\n",
       "      <td>0</td>\n",
       "      <td>12</td>\n",
       "      <td>112</td>\n",
       "      <td>112</td>\n",
       "      <td>-1</td>\n",
       "      <td>1</td>\n",
       "      <td>46271</td>\n",
       "      <td>1</td>\n",
       "      <td>0</td>\n",
       "      <td>0</td>\n",
       "    </tr>\n",
       "    <tr>\n",
       "      <th>37157</th>\n",
       "      <td>tripleS</td>\n",
       "      <td>Girls Never Die</td>\n",
       "      <td>0</td>\n",
       "      <td>28</td>\n",
       "      <td>25</td>\n",
       "      <td>25</td>\n",
       "      <td>-1</td>\n",
       "      <td>1</td>\n",
       "      <td>115270</td>\n",
       "      <td>1</td>\n",
       "      <td>0</td>\n",
       "      <td>0</td>\n",
       "    </tr>\n",
       "    <tr>\n",
       "      <th>37182</th>\n",
       "      <td>tuki.</td>\n",
       "      <td>tuki._NA</td>\n",
       "      <td>0</td>\n",
       "      <td>0</td>\n",
       "      <td>139</td>\n",
       "      <td>139</td>\n",
       "      <td>-1</td>\n",
       "      <td>1</td>\n",
       "      <td>34920</td>\n",
       "      <td>1</td>\n",
       "      <td>0</td>\n",
       "      <td>0</td>\n",
       "    </tr>\n",
       "    <tr>\n",
       "      <th>37193</th>\n",
       "      <td>wave to earth</td>\n",
       "      <td>seasons</td>\n",
       "      <td>0</td>\n",
       "      <td>0</td>\n",
       "      <td>197</td>\n",
       "      <td>197</td>\n",
       "      <td>-1</td>\n",
       "      <td>2</td>\n",
       "      <td>29755</td>\n",
       "      <td>1</td>\n",
       "      <td>0</td>\n",
       "      <td>0</td>\n",
       "    </tr>\n",
       "  </tbody>\n",
       "</table>\n",
       "<p>768 rows × 12 columns</p>\n",
       "</div>"
      ],
      "text/plain": [
       "         main_artist           track_name  trackAppearanceCount  \\\n",
       "104                $                  530                     0   \n",
       "106                $           BACK TO ME                     0   \n",
       "108                $      BEG FORGIVENESS                     0   \n",
       "109                $                 BURN                     0   \n",
       "115                $             CARNIVAL                     0   \n",
       "...              ...                  ...                   ...   \n",
       "36927         j-hope  what if (dance mix)                     0   \n",
       "36930          keshi                  Say                     0   \n",
       "37157        tripleS      Girls Never Die                     0   \n",
       "37182          tuki.             tuki._NA                     0   \n",
       "37193  wave to earth              seasons                     0   \n",
       "\n",
       "       artistAppearanceCount  rank  peak_rank  previous_rank  weeks_on_chart  \\\n",
       "104                       40   148        148             -1               1   \n",
       "106                        4    85         85             -1               1   \n",
       "108                       12   190        190             -1               1   \n",
       "109                        3    84         84             -1               1   \n",
       "115                        0    45         45             -1               1   \n",
       "...                      ...   ...        ...            ...             ...   \n",
       "36927                    133   107        107             -1               1   \n",
       "36930                     12   112        112             -1               1   \n",
       "37157                     28    25         25             -1               1   \n",
       "37182                      0   139        139             -1               1   \n",
       "37193                      0   197        197             -1               2   \n",
       "\n",
       "       streams  ArtistCount  isTopTen  rank difference  \n",
       "104      34252            1         0                0  \n",
       "106      45808            1         0                0  \n",
       "108      27301            1         0                0  \n",
       "109      46299            1         0                0  \n",
       "115      67375            1         0                0  \n",
       "...        ...          ...       ...              ...  \n",
       "36927    42255            1         0                0  \n",
       "36930    46271            1         0                0  \n",
       "37157   115270            1         0                0  \n",
       "37182    34920            1         0                0  \n",
       "37193    29755            1         0                0  \n",
       "\n",
       "[768 rows x 12 columns]"
      ]
     },
     "execution_count": 10,
     "metadata": {},
     "output_type": "execute_result"
    }
   ],
   "source": [
    "za_data_test_first_time_df"
   ]
  },
  {
   "cell_type": "code",
   "execution_count": 11,
   "id": "a098d4cc",
   "metadata": {},
   "outputs": [],
   "source": [
    "groupby_cols = ['main_artist', 'track_name']"
   ]
  },
  {
   "cell_type": "code",
   "execution_count": 12,
   "id": "2676061d",
   "metadata": {},
   "outputs": [
    {
     "data": {
      "text/html": [
       "<div>\n",
       "<style scoped>\n",
       "    .dataframe tbody tr th:only-of-type {\n",
       "        vertical-align: middle;\n",
       "    }\n",
       "\n",
       "    .dataframe tbody tr th {\n",
       "        vertical-align: top;\n",
       "    }\n",
       "\n",
       "    .dataframe thead th {\n",
       "        text-align: right;\n",
       "    }\n",
       "</style>\n",
       "<table border=\"1\" class=\"dataframe\">\n",
       "  <thead>\n",
       "    <tr style=\"text-align: right;\">\n",
       "      <th></th>\n",
       "      <th>trackAppearanceCount</th>\n",
       "      <th>artistAppearanceCount</th>\n",
       "      <th>rank</th>\n",
       "      <th>uri</th>\n",
       "      <th>artist_names</th>\n",
       "      <th>track_name</th>\n",
       "      <th>source</th>\n",
       "      <th>peak_rank</th>\n",
       "      <th>previous_rank</th>\n",
       "      <th>weeks_on_chart</th>\n",
       "      <th>...</th>\n",
       "      <th>Seconds since Epoch</th>\n",
       "      <th>End Date Aggregated</th>\n",
       "      <th>ArtistCount</th>\n",
       "      <th>main_artist</th>\n",
       "      <th>isTopTen</th>\n",
       "      <th>Artist and Track</th>\n",
       "      <th>rank difference</th>\n",
       "      <th>Position over Time</th>\n",
       "      <th>IsGirlGroup</th>\n",
       "      <th>IsBoyGroup</th>\n",
       "    </tr>\n",
       "  </thead>\n",
       "  <tbody>\n",
       "    <tr>\n",
       "      <th>104</th>\n",
       "      <td>0</td>\n",
       "      <td>40</td>\n",
       "      <td>148</td>\n",
       "      <td>spotify:track:4hm8BZ7nLceFNZUexWTxx4</td>\n",
       "      <td>$, Kanye West, Ty Dolla $ign</td>\n",
       "      <td>530</td>\n",
       "      <td>YZY</td>\n",
       "      <td>148</td>\n",
       "      <td>-1</td>\n",
       "      <td>1</td>\n",
       "      <td>...</td>\n",
       "      <td>1.723075e+09</td>\n",
       "      <td>2024-08-01</td>\n",
       "      <td>1</td>\n",
       "      <td>$</td>\n",
       "      <td>0</td>\n",
       "      <td>$, Kanye West, Ty Dolla $ign; 530</td>\n",
       "      <td>0</td>\n",
       "      <td>0</td>\n",
       "      <td>False</td>\n",
       "      <td>False</td>\n",
       "    </tr>\n",
       "    <tr>\n",
       "      <th>106</th>\n",
       "      <td>0</td>\n",
       "      <td>4</td>\n",
       "      <td>85</td>\n",
       "      <td>spotify:track:1icgLGTpX2fQXKRe4D7w2b</td>\n",
       "      <td>$, Kanye West, Ty Dolla $ign</td>\n",
       "      <td>BACK TO ME</td>\n",
       "      <td>Ye</td>\n",
       "      <td>85</td>\n",
       "      <td>-1</td>\n",
       "      <td>1</td>\n",
       "      <td>...</td>\n",
       "      <td>1.707955e+09</td>\n",
       "      <td>2024-02-01</td>\n",
       "      <td>1</td>\n",
       "      <td>$</td>\n",
       "      <td>0</td>\n",
       "      <td>$, Kanye West, Ty Dolla $ign; BACK TO ME</td>\n",
       "      <td>0</td>\n",
       "      <td>0</td>\n",
       "      <td>False</td>\n",
       "      <td>False</td>\n",
       "    </tr>\n",
       "    <tr>\n",
       "      <th>108</th>\n",
       "      <td>0</td>\n",
       "      <td>12</td>\n",
       "      <td>190</td>\n",
       "      <td>spotify:track:4ihV1wv7QmjbkLHaT9lA4s</td>\n",
       "      <td>$, Kanye West, Ty Dolla $ign</td>\n",
       "      <td>BEG FORGIVENESS</td>\n",
       "      <td>Ye</td>\n",
       "      <td>190</td>\n",
       "      <td>-1</td>\n",
       "      <td>1</td>\n",
       "      <td>...</td>\n",
       "      <td>1.707955e+09</td>\n",
       "      <td>2024-02-01</td>\n",
       "      <td>1</td>\n",
       "      <td>$</td>\n",
       "      <td>0</td>\n",
       "      <td>$, Kanye West, Ty Dolla $ign; BEG FORGIVENESS</td>\n",
       "      <td>0</td>\n",
       "      <td>0</td>\n",
       "      <td>False</td>\n",
       "      <td>False</td>\n",
       "    </tr>\n",
       "    <tr>\n",
       "      <th>109</th>\n",
       "      <td>0</td>\n",
       "      <td>3</td>\n",
       "      <td>84</td>\n",
       "      <td>spotify:track:04CyMEHliadfQWMUJb1w99</td>\n",
       "      <td>$, Kanye West, Ty Dolla $ign</td>\n",
       "      <td>BURN</td>\n",
       "      <td>Ye</td>\n",
       "      <td>84</td>\n",
       "      <td>-1</td>\n",
       "      <td>1</td>\n",
       "      <td>...</td>\n",
       "      <td>1.707955e+09</td>\n",
       "      <td>2024-02-01</td>\n",
       "      <td>1</td>\n",
       "      <td>$</td>\n",
       "      <td>0</td>\n",
       "      <td>$, Kanye West, Ty Dolla $ign; BURN</td>\n",
       "      <td>0</td>\n",
       "      <td>0</td>\n",
       "      <td>False</td>\n",
       "      <td>False</td>\n",
       "    </tr>\n",
       "    <tr>\n",
       "      <th>115</th>\n",
       "      <td>0</td>\n",
       "      <td>0</td>\n",
       "      <td>45</td>\n",
       "      <td>spotify:track:3w0w2T288dec0mgeZZqoNN</td>\n",
       "      <td>$, Kanye West, Ty Dolla $ign, Rich The Kid, Pl...</td>\n",
       "      <td>CARNIVAL</td>\n",
       "      <td>Ye</td>\n",
       "      <td>45</td>\n",
       "      <td>-1</td>\n",
       "      <td>1</td>\n",
       "      <td>...</td>\n",
       "      <td>1.707955e+09</td>\n",
       "      <td>2024-02-01</td>\n",
       "      <td>1</td>\n",
       "      <td>$</td>\n",
       "      <td>0</td>\n",
       "      <td>$, Kanye West, Ty Dolla $ign, Rich The Kid, Pl...</td>\n",
       "      <td>0</td>\n",
       "      <td>0</td>\n",
       "      <td>False</td>\n",
       "      <td>False</td>\n",
       "    </tr>\n",
       "    <tr>\n",
       "      <th>...</th>\n",
       "      <td>...</td>\n",
       "      <td>...</td>\n",
       "      <td>...</td>\n",
       "      <td>...</td>\n",
       "      <td>...</td>\n",
       "      <td>...</td>\n",
       "      <td>...</td>\n",
       "      <td>...</td>\n",
       "      <td>...</td>\n",
       "      <td>...</td>\n",
       "      <td>...</td>\n",
       "      <td>...</td>\n",
       "      <td>...</td>\n",
       "      <td>...</td>\n",
       "      <td>...</td>\n",
       "      <td>...</td>\n",
       "      <td>...</td>\n",
       "      <td>...</td>\n",
       "      <td>...</td>\n",
       "      <td>...</td>\n",
       "      <td>...</td>\n",
       "    </tr>\n",
       "    <tr>\n",
       "      <th>36927</th>\n",
       "      <td>0</td>\n",
       "      <td>133</td>\n",
       "      <td>107</td>\n",
       "      <td>spotify:track:6W6kWAXbMS2aOJXoUpw7iI</td>\n",
       "      <td>j-hope, JINBO the SuperFreak</td>\n",
       "      <td>what if (dance mix)</td>\n",
       "      <td>BIGHIT MUSIC</td>\n",
       "      <td>107</td>\n",
       "      <td>-1</td>\n",
       "      <td>1</td>\n",
       "      <td>...</td>\n",
       "      <td>1.712189e+09</td>\n",
       "      <td>2024-04-01</td>\n",
       "      <td>1</td>\n",
       "      <td>j-hope</td>\n",
       "      <td>0</td>\n",
       "      <td>j-hope, JINBO the SuperFreak; what if (dance mix)</td>\n",
       "      <td>0</td>\n",
       "      <td>0</td>\n",
       "      <td>False</td>\n",
       "      <td>False</td>\n",
       "    </tr>\n",
       "    <tr>\n",
       "      <th>36930</th>\n",
       "      <td>0</td>\n",
       "      <td>12</td>\n",
       "      <td>112</td>\n",
       "      <td>spotify:track:0kQANryNS3gaQ1OAA1yPNg</td>\n",
       "      <td>keshi</td>\n",
       "      <td>Say</td>\n",
       "      <td>Island Records</td>\n",
       "      <td>112</td>\n",
       "      <td>-1</td>\n",
       "      <td>1</td>\n",
       "      <td>...</td>\n",
       "      <td>1.721261e+09</td>\n",
       "      <td>2024-07-01</td>\n",
       "      <td>1</td>\n",
       "      <td>keshi</td>\n",
       "      <td>0</td>\n",
       "      <td>keshi; Say</td>\n",
       "      <td>0</td>\n",
       "      <td>0</td>\n",
       "      <td>False</td>\n",
       "      <td>False</td>\n",
       "    </tr>\n",
       "    <tr>\n",
       "      <th>37157</th>\n",
       "      <td>0</td>\n",
       "      <td>28</td>\n",
       "      <td>25</td>\n",
       "      <td>spotify:track:45OflED18VsURGw2z0Y6Cv</td>\n",
       "      <td>tripleS</td>\n",
       "      <td>Girls Never Die</td>\n",
       "      <td>MODHAUS</td>\n",
       "      <td>25</td>\n",
       "      <td>-1</td>\n",
       "      <td>1</td>\n",
       "      <td>...</td>\n",
       "      <td>1.715818e+09</td>\n",
       "      <td>2024-05-01</td>\n",
       "      <td>1</td>\n",
       "      <td>tripleS</td>\n",
       "      <td>0</td>\n",
       "      <td>tripleS; Girls Never Die</td>\n",
       "      <td>0</td>\n",
       "      <td>0</td>\n",
       "      <td>True</td>\n",
       "      <td>False</td>\n",
       "    </tr>\n",
       "    <tr>\n",
       "      <th>37182</th>\n",
       "      <td>0</td>\n",
       "      <td>0</td>\n",
       "      <td>139</td>\n",
       "      <td>spotify:track:2cxcqKwQtfKq7giphxjzOu</td>\n",
       "      <td>tuki.</td>\n",
       "      <td>tuki._NA</td>\n",
       "      <td>月面着陸計画</td>\n",
       "      <td>139</td>\n",
       "      <td>-1</td>\n",
       "      <td>1</td>\n",
       "      <td>...</td>\n",
       "      <td>1.715213e+09</td>\n",
       "      <td>2024-05-01</td>\n",
       "      <td>1</td>\n",
       "      <td>tuki.</td>\n",
       "      <td>0</td>\n",
       "      <td>tuki.; tuki._NA</td>\n",
       "      <td>0</td>\n",
       "      <td>0</td>\n",
       "      <td>False</td>\n",
       "      <td>False</td>\n",
       "    </tr>\n",
       "    <tr>\n",
       "      <th>37193</th>\n",
       "      <td>0</td>\n",
       "      <td>0</td>\n",
       "      <td>197</td>\n",
       "      <td>spotify:track:5VBjyOQzqlPNgdRPMM6prF</td>\n",
       "      <td>wave to earth</td>\n",
       "      <td>seasons</td>\n",
       "      <td>ADA Korea</td>\n",
       "      <td>197</td>\n",
       "      <td>-1</td>\n",
       "      <td>2</td>\n",
       "      <td>...</td>\n",
       "      <td>1.720051e+09</td>\n",
       "      <td>2024-07-01</td>\n",
       "      <td>1</td>\n",
       "      <td>wave to earth</td>\n",
       "      <td>0</td>\n",
       "      <td>wave to earth; seasons</td>\n",
       "      <td>0</td>\n",
       "      <td>0</td>\n",
       "      <td>False</td>\n",
       "      <td>False</td>\n",
       "    </tr>\n",
       "  </tbody>\n",
       "</table>\n",
       "<p>768 rows × 25 columns</p>\n",
       "</div>"
      ],
      "text/plain": [
       "       trackAppearanceCount  artistAppearanceCount  rank  \\\n",
       "104                       0                     40   148   \n",
       "106                       0                      4    85   \n",
       "108                       0                     12   190   \n",
       "109                       0                      3    84   \n",
       "115                       0                      0    45   \n",
       "...                     ...                    ...   ...   \n",
       "36927                     0                    133   107   \n",
       "36930                     0                     12   112   \n",
       "37157                     0                     28    25   \n",
       "37182                     0                      0   139   \n",
       "37193                     0                      0   197   \n",
       "\n",
       "                                        uri  \\\n",
       "104    spotify:track:4hm8BZ7nLceFNZUexWTxx4   \n",
       "106    spotify:track:1icgLGTpX2fQXKRe4D7w2b   \n",
       "108    spotify:track:4ihV1wv7QmjbkLHaT9lA4s   \n",
       "109    spotify:track:04CyMEHliadfQWMUJb1w99   \n",
       "115    spotify:track:3w0w2T288dec0mgeZZqoNN   \n",
       "...                                     ...   \n",
       "36927  spotify:track:6W6kWAXbMS2aOJXoUpw7iI   \n",
       "36930  spotify:track:0kQANryNS3gaQ1OAA1yPNg   \n",
       "37157  spotify:track:45OflED18VsURGw2z0Y6Cv   \n",
       "37182  spotify:track:2cxcqKwQtfKq7giphxjzOu   \n",
       "37193  spotify:track:5VBjyOQzqlPNgdRPMM6prF   \n",
       "\n",
       "                                            artist_names           track_name  \\\n",
       "104                         $, Kanye West, Ty Dolla $ign                  530   \n",
       "106                         $, Kanye West, Ty Dolla $ign           BACK TO ME   \n",
       "108                         $, Kanye West, Ty Dolla $ign      BEG FORGIVENESS   \n",
       "109                         $, Kanye West, Ty Dolla $ign                 BURN   \n",
       "115    $, Kanye West, Ty Dolla $ign, Rich The Kid, Pl...             CARNIVAL   \n",
       "...                                                  ...                  ...   \n",
       "36927                       j-hope, JINBO the SuperFreak  what if (dance mix)   \n",
       "36930                                              keshi                  Say   \n",
       "37157                                            tripleS      Girls Never Die   \n",
       "37182                                              tuki.             tuki._NA   \n",
       "37193                                      wave to earth              seasons   \n",
       "\n",
       "               source  peak_rank  previous_rank  weeks_on_chart  ...  \\\n",
       "104               YZY        148             -1               1  ...   \n",
       "106                Ye         85             -1               1  ...   \n",
       "108                Ye        190             -1               1  ...   \n",
       "109                Ye         84             -1               1  ...   \n",
       "115                Ye         45             -1               1  ...   \n",
       "...               ...        ...            ...             ...  ...   \n",
       "36927    BIGHIT MUSIC        107             -1               1  ...   \n",
       "36930  Island Records        112             -1               1  ...   \n",
       "37157         MODHAUS         25             -1               1  ...   \n",
       "37182          月面着陸計画        139             -1               1  ...   \n",
       "37193       ADA Korea        197             -1               2  ...   \n",
       "\n",
       "       Seconds since Epoch End Date Aggregated  ArtistCount    main_artist  \\\n",
       "104           1.723075e+09          2024-08-01            1              $   \n",
       "106           1.707955e+09          2024-02-01            1              $   \n",
       "108           1.707955e+09          2024-02-01            1              $   \n",
       "109           1.707955e+09          2024-02-01            1              $   \n",
       "115           1.707955e+09          2024-02-01            1              $   \n",
       "...                    ...                 ...          ...            ...   \n",
       "36927         1.712189e+09          2024-04-01            1         j-hope   \n",
       "36930         1.721261e+09          2024-07-01            1          keshi   \n",
       "37157         1.715818e+09          2024-05-01            1        tripleS   \n",
       "37182         1.715213e+09          2024-05-01            1          tuki.   \n",
       "37193         1.720051e+09          2024-07-01            1  wave to earth   \n",
       "\n",
       "      isTopTen                                   Artist and Track  \\\n",
       "104          0                  $, Kanye West, Ty Dolla $ign; 530   \n",
       "106          0           $, Kanye West, Ty Dolla $ign; BACK TO ME   \n",
       "108          0      $, Kanye West, Ty Dolla $ign; BEG FORGIVENESS   \n",
       "109          0                 $, Kanye West, Ty Dolla $ign; BURN   \n",
       "115          0  $, Kanye West, Ty Dolla $ign, Rich The Kid, Pl...   \n",
       "...        ...                                                ...   \n",
       "36927        0  j-hope, JINBO the SuperFreak; what if (dance mix)   \n",
       "36930        0                                         keshi; Say   \n",
       "37157        0                           tripleS; Girls Never Die   \n",
       "37182        0                                    tuki.; tuki._NA   \n",
       "37193        0                             wave to earth; seasons   \n",
       "\n",
       "      rank difference  Position over Time IsGirlGroup  IsBoyGroup  \n",
       "104                 0                   0       False       False  \n",
       "106                 0                   0       False       False  \n",
       "108                 0                   0       False       False  \n",
       "109                 0                   0       False       False  \n",
       "115                 0                   0       False       False  \n",
       "...               ...                 ...         ...         ...  \n",
       "36927               0                   0       False       False  \n",
       "36930               0                   0       False       False  \n",
       "37157               0                   0        True       False  \n",
       "37182               0                   0       False       False  \n",
       "37193               0                   0       False       False  \n",
       "\n",
       "[768 rows x 25 columns]"
      ]
     },
     "execution_count": 12,
     "metadata": {},
     "output_type": "execute_result"
    }
   ],
   "source": [
    "za_data_test_first_time"
   ]
  },
  {
   "cell_type": "markdown",
   "id": "713f4af7",
   "metadata": {},
   "source": [
    "### 0. Entry Position into Chart"
   ]
  },
  {
   "cell_type": "code",
   "execution_count": 13,
   "id": "8646c4ea",
   "metadata": {},
   "outputs": [],
   "source": [
    "def findingtheentrypos(za_data):\n",
    "    \n",
    "    groupednum_songs = za_data.groupby(groupby_cols)[\"End Date\"].agg(\"min\")\n",
    "    groupednum_songs_df = pd.DataFrame(groupednum_songs).reset_index()\n",
    "    groupednum_songs_df.columns = groupby_cols + [\"Artist Song Start Date\"]\n",
    "    \n",
    "    groupednum_songs_df = groupednum_songs_df.drop_duplicates()\n",
    "    groupednum_songs_df.shape\n",
    "    \n",
    "    groupednum_songs_ls = groupednum_songs_df.values.tolist()\n",
    "    \n",
    "    thefirstones = []\n",
    "    for artsongls in groupednum_songs_ls:\n",
    "        theartist = artsongls[0]\n",
    "        thetrack = artsongls[1]\n",
    "        thestartdate = artsongls[2]\n",
    "        thefirstones.append(za_data[(za_data[\"main_artist\"] == theartist) & (za_data[\"track_name\"] == thetrack) & (za_data[\"End Date\"] == thestartdate)])\n",
    "        \n",
    "    first_track_position_df = pd.concat(thefirstones)\n",
    "    \n",
    "    first_track_position_df_relevant = first_track_position_df[[\"main_artist\", \"track_name\", \"rank\", \"End Date\"]]\n",
    "    first_track_position_df_relevant.columns = [\"main_artist\", \"track_name\", \"entry rank\", \"End Date\"]\n",
    "    \n",
    "    groupednum_songs = za_data.groupby(groupby_cols)[\"End Date\"].agg(\"count\")\n",
    "    groupednum_songs_df = pd.DataFrame(groupednum_songs).reset_index()\n",
    "    groupednum_songs_df.columns = groupby_cols + [\"Artist Song Count\"]\n",
    "    \n",
    "    return groupednum_songs_df, first_track_position_df_relevant"
   ]
  },
  {
   "cell_type": "markdown",
   "id": "2681298a",
   "metadata": {},
   "source": [
    "### 1. Streams"
   ]
  },
  {
   "cell_type": "code",
   "execution_count": 14,
   "id": "946c6ce1",
   "metadata": {},
   "outputs": [],
   "source": [
    "def findtheMinMaxMeanStreams(za_data):\n",
    "    groupedmax_streams = za_data.groupby(groupby_cols)[\"streams\"].agg(\"max\")\n",
    "    groupedmax_streams_df = pd.DataFrame(groupedmax_streams).reset_index()\n",
    "    groupedmax_streams_df.columns = groupby_cols + [\"Max Streams per Song\"]\n",
    "    \n",
    "    groupedmin_streams = za_data.groupby(groupby_cols)[\"streams\"].agg(\"min\")\n",
    "    groupedmin_streams_df = pd.DataFrame(groupedmin_streams).reset_index()\n",
    "    groupedmin_streams_df.columns = groupby_cols + [\"Min Streams per Song\"]\n",
    "    \n",
    "    groupedsum_streams = za_data.groupby(groupby_cols)[\"streams\"].agg(\"sum\")\n",
    "    groupedsum_streams_df = pd.DataFrame(groupedsum_streams).reset_index()\n",
    "    groupedsum_streams_df.columns = groupby_cols + [\"Total Streams per Song\"]\n",
    "\n",
    "    groupedmean_streams = za_data.groupby(groupby_cols)[\"streams\"].agg(\"mean\")\n",
    "    groupedmean_streams_df = pd.DataFrame(groupedmean_streams).reset_index()\n",
    "    groupedmean_streams_df.columns = groupby_cols + [\"Mean Streams per Song\"]\n",
    "    \n",
    "    return groupedmax_streams_df, groupedmin_streams_df, groupedsum_streams_df, groupedmean_streams_df"
   ]
  },
  {
   "cell_type": "markdown",
   "id": "fe7fb879",
   "metadata": {},
   "source": [
    "### 2. Positions"
   ]
  },
  {
   "cell_type": "code",
   "execution_count": 15,
   "id": "37b2e784",
   "metadata": {},
   "outputs": [],
   "source": [
    "def findtheMinMaxPositions(za_data):\n",
    "    groupedpos_streams = za_data.groupby(groupby_cols)[\"rank\"].agg(\"min\")\n",
    "    groupedpos_streams_df = pd.DataFrame(groupedpos_streams).reset_index()\n",
    "    groupedpos_streams_df.columns = groupby_cols + [\"Min Position per Song\"]\n",
    "\n",
    "    groupedposmax_streams = za_data.groupby(groupby_cols)[\"rank\"].agg(\"max\")\n",
    "    groupedposmax_streams_df = pd.DataFrame(groupedposmax_streams).reset_index()\n",
    "    groupedposmax_streams_df.columns = groupby_cols + [\"Max Position per Song\"]\n",
    "    \n",
    "    return groupedpos_streams_df, groupedposmax_streams_df"
   ]
  },
  {
   "cell_type": "markdown",
   "id": "da075820",
   "metadata": {},
   "source": [
    "### Number of songs per artist"
   ]
  },
  {
   "cell_type": "code",
   "execution_count": 16,
   "id": "8e63f9fb",
   "metadata": {},
   "outputs": [],
   "source": [
    "def findtheMaxArtistAppearanceTimes(za_data):\n",
    "    \n",
    "    groupedpos_streams = za_data.groupby([\"main_artist\"])[\"artistAppearanceCount\"].agg(\"max\")\n",
    "    groupedmin_songs_df = pd.DataFrame(groupedpos_streams).reset_index()\n",
    "    groupedmin_songs_df.columns = [\"main_artist\"] + [\"Max Artist Appearance\"]\n",
    "    \n",
    "    return groupedmin_songs_df"
   ]
  },
  {
   "cell_type": "markdown",
   "id": "356c1c82",
   "metadata": {},
   "source": [
    "#### Maximum number of times an artist has appeared on the chart"
   ]
  },
  {
   "cell_type": "code",
   "execution_count": 17,
   "id": "4ca64a41",
   "metadata": {},
   "outputs": [],
   "source": [
    "def findtheMinMaxNumofSongs(za_data):\n",
    "    \n",
    "    groupedpos_streams = za_data.groupby([\"main_artist\"])[\"Artist Song Count\"].agg(\"max\")\n",
    "    groupedmin_songs_df = pd.DataFrame(groupedpos_streams).reset_index()\n",
    "    groupedmin_songs_df.columns = [\"main_artist\"] + [\"Max Song Count per artist\"]\n",
    "    \n",
    "    return groupedmin_songs_df"
   ]
  },
  {
   "cell_type": "markdown",
   "id": "9ecfa763",
   "metadata": {},
   "source": [
    "#### Number of weeks a song spent on the chart per artist"
   ]
  },
  {
   "cell_type": "code",
   "execution_count": 18,
   "id": "bcc9d4f2",
   "metadata": {},
   "outputs": [],
   "source": [
    "def findtheWeeksonChartperSong(za_data):\n",
    "    \n",
    "    groupedpos_streams = za_data.groupby(groupby_cols)[\"weeks_on_chart\"].agg(\"max\")\n",
    "    groupedmin_songs_df = pd.DataFrame(groupedpos_streams).reset_index()\n",
    "    groupedmin_songs_df.columns = groupby_cols + [\"Max Weeks on Chart per song\"]\n",
    "    \n",
    "    return groupedmin_songs_df"
   ]
  },
  {
   "cell_type": "markdown",
   "id": "8f771d74",
   "metadata": {},
   "source": [
    "#### First week streams and first week positions"
   ]
  },
  {
   "cell_type": "code",
   "execution_count": 19,
   "id": "11470002",
   "metadata": {},
   "outputs": [],
   "source": [
    "def findthePosonWeeksonChartperSong(za_data):\n",
    "    \n",
    "    za_data_first_time = za_data[za_data[\"trackAppearanceCount\"] == 0]\n",
    "    za_data_first_time_df = za_data_first_time[['main_artist', 'track_name', \"rank\", 'streams']]\n",
    "    za_data_first_time_df.columns = ['main_artist', 'track_name', \"first_week_rank\", 'first_week_streams']\n",
    "    \n",
    "    return za_data_first_time_df"
   ]
  },
  {
   "cell_type": "code",
   "execution_count": null,
   "id": "e3bc1098",
   "metadata": {},
   "outputs": [],
   "source": []
  },
  {
   "cell_type": "markdown",
   "id": "c7413f3f",
   "metadata": {},
   "source": [
    "### 3. Dates"
   ]
  },
  {
   "cell_type": "markdown",
   "id": "b6b9acbd",
   "metadata": {},
   "source": [
    "## Combine the dfs"
   ]
  },
  {
   "cell_type": "code",
   "execution_count": 20,
   "id": "80ca1cdc",
   "metadata": {},
   "outputs": [],
   "source": [
    "def combinedataframes(groupedmax_streams_df, groupedmin_streams_df, groupedsum_streams_df, groupedmean_streams_df, groupedpos_streams_df, groupedposmax_streams_df, groupednum_songs_df):\n",
    "    groupeddf = groupedmax_streams_df\n",
    "    \n",
    "    groupeddf[\"Min Streams per Song\"] = groupedmin_streams_df[\"Min Streams per Song\"]\n",
    "    groupeddf[\"Total Streams per Song\"] = groupedsum_streams_df[\"Total Streams per Song\"]\n",
    "    groupeddf[\"Mean Streams per Song\"]= groupedmean_streams_df[\"Mean Streams per Song\"]\n",
    "    groupeddf[\"Min Position per Song\"] = groupedpos_streams_df[\"Min Position per Song\"]\n",
    "    groupeddf[\"Max Position per Song\"] = groupedposmax_streams_df[\"Max Position per Song\"]\n",
    "    groupeddf[\"Artist Song Count\"] = groupednum_songs_df[\"Artist Song Count\"]\n",
    "    \n",
    "    groupeddf[\"MaxMin Difference Position\"] = groupeddf[\"Max Position per Song\"] - groupeddf[\"Min Position per Song\"]\n",
    "    groupeddf[\"MaxMin Difference Streams\"] = groupeddf[\"Max Streams per Song\"] - groupeddf[\"Min Streams per Song\"]\n",
    "    \n",
    "    groupeddf[\"MaxMin Ratio Position\"] = groupeddf[\"Max Position per Song\"] / groupeddf[\"Min Position per Song\"]\n",
    "    groupeddf[\"MaxMin Ratio Streams\"] = groupeddf[\"Max Streams per Song\"] / groupeddf[\"Min Streams per Song\"]\n",
    "    \n",
    "    groupeddf.drop([\"Max Position per Song\"], inplace=True, axis=1)\n",
    "    \n",
    "    groupeddf_startpos = groupeddf.merge(first_track_position_df_relevant[[\"main_artist\", \"track_name\", \"entry rank\"]], left_on=[\"main_artist\", \"track_name\"], right_on=[\"main_artist\", \"track_name\"], how=\"inner\")\n",
    "    \n",
    "    groupeddf_startpos[\"main_art_track\"] = groupeddf_startpos[\"main_artist\"] + groupeddf_startpos[\"track_name\"]\n",
    "    \n",
    "    groupeddf_startpos_regress = groupeddf_startpos[['main_artist', \"main_art_track\", 'entry rank', 'Min Position per Song']].drop_duplicates()\n",
    "    \n",
    "    return groupeddf, groupeddf_startpos_regress\n",
    "    "
   ]
  },
  {
   "cell_type": "code",
   "execution_count": 21,
   "id": "5003a511",
   "metadata": {},
   "outputs": [],
   "source": [
    "some_artists_of_interest = [\"6LACK\", \"9umba\", \"BNXN fka Buju\", \"Black Coffee\", \"Big Zulu\"]\n",
    "groupednum_songs_df, first_track_position_df_relevant = findingtheentrypos(za_data)\n",
    "groupedmax_streams_df, groupedmin_streams_df, groupedsum_streams_df, groupedmean_streams_df = findtheMinMaxMeanStreams(za_data)\n",
    "groupedpos_streams_df, groupedposmax_streams_df = findtheMinMaxPositions(za_data)\n",
    "groupeddf, groupeddf_startpos_regress = combinedataframes(groupedmax_streams_df, groupedmin_streams_df, groupedsum_streams_df, groupedmean_streams_df, groupedpos_streams_df, groupedposmax_streams_df, groupednum_songs_df)\n",
    "filenname = \"zaall\""
   ]
  },
  {
   "cell_type": "code",
   "execution_count": 22,
   "id": "297f0858",
   "metadata": {},
   "outputs": [
    {
     "data": {
      "text/plain": [
       "['main_artist', 'track_name']"
      ]
     },
     "execution_count": 22,
     "metadata": {},
     "output_type": "execute_result"
    }
   ],
   "source": [
    "groupby_cols"
   ]
  },
  {
   "cell_type": "code",
   "execution_count": 23,
   "id": "9727756a",
   "metadata": {},
   "outputs": [],
   "source": [
    "maxsongperartistdf = findtheMinMaxNumofSongs(groupeddf)"
   ]
  },
  {
   "cell_type": "code",
   "execution_count": 24,
   "id": "90d720c7",
   "metadata": {},
   "outputs": [],
   "source": [
    "weeksonchartpersong = findtheWeeksonChartperSong(za_data)"
   ]
  },
  {
   "cell_type": "code",
   "execution_count": 25,
   "id": "467a5b06",
   "metadata": {},
   "outputs": [],
   "source": [
    "firstweekstreamsandrank = findthePosonWeeksonChartperSong(za_data)"
   ]
  },
  {
   "cell_type": "code",
   "execution_count": 26,
   "id": "2b42cc05",
   "metadata": {},
   "outputs": [],
   "source": [
    "maxartistappearances = findtheMaxArtistAppearanceTimes(za_data)"
   ]
  },
  {
   "cell_type": "code",
   "execution_count": 27,
   "id": "eb298725",
   "metadata": {},
   "outputs": [],
   "source": [
    "fingroupeddf = groupeddf.merge(maxsongperartistdf, left_on=[\"main_artist\"], right_on=[\"main_artist\"], how=\"inner\")\n",
    "fingroupeddf = fingroupeddf.drop([\"Artist Song Count\"],axis=1)"
   ]
  },
  {
   "cell_type": "code",
   "execution_count": 28,
   "id": "f4057951",
   "metadata": {},
   "outputs": [],
   "source": [
    "fingroupeddf = fingroupeddf.merge(weeksonchartpersong, left_on=groupby_cols, right_on=groupby_cols, how=\"inner\")"
   ]
  },
  {
   "cell_type": "code",
   "execution_count": 29,
   "id": "301d31ef",
   "metadata": {},
   "outputs": [],
   "source": [
    "fingroupeddf = fingroupeddf.merge(firstweekstreamsandrank, left_on=groupby_cols, right_on=groupby_cols, how=\"inner\")"
   ]
  },
  {
   "cell_type": "code",
   "execution_count": 30,
   "id": "c892a3fc",
   "metadata": {},
   "outputs": [],
   "source": [
    "fingroupeddf = fingroupeddf.merge(maxartistappearances, left_on=[\"main_artist\"], right_on=[\"main_artist\"], how=\"inner\")"
   ]
  },
  {
   "cell_type": "code",
   "execution_count": 31,
   "id": "e3916012",
   "metadata": {},
   "outputs": [],
   "source": [
    "from sklearn import preprocessing\n",
    "le = preprocessing.LabelEncoder()\n",
    "le.fit(za_data[\"source\"])\n",
    "\n",
    "za_encoded_source = le.transform(za_data[\"source\"])\n",
    "za_data[\"encoded_source\"] = za_encoded_source\n",
    "zarelevantsource = za_data[[\"main_artist\", \"track_name\", \"encoded_source\"]]\n",
    "zarelevantsource = zarelevantsource.drop_duplicates()"
   ]
  },
  {
   "cell_type": "code",
   "execution_count": 32,
   "id": "e977527c",
   "metadata": {},
   "outputs": [],
   "source": [
    "fingroupeddf = fingroupeddf.merge(zarelevantsource, left_on=groupby_cols, right_on=groupby_cols, how=\"inner\")"
   ]
  },
  {
   "cell_type": "code",
   "execution_count": 33,
   "id": "7d909b35",
   "metadata": {},
   "outputs": [
    {
     "data": {
      "text/plain": [
       "Index(['main_artist', 'track_name', 'Max Streams per Song',\n",
       "       'Min Streams per Song', 'Total Streams per Song',\n",
       "       'Mean Streams per Song', 'Min Position per Song',\n",
       "       'MaxMin Difference Position', 'MaxMin Difference Streams',\n",
       "       'MaxMin Ratio Position', 'MaxMin Ratio Streams',\n",
       "       'Max Song Count per artist', 'Max Weeks on Chart per song',\n",
       "       'first_week_rank', 'first_week_streams', 'Max Artist Appearance',\n",
       "       'encoded_source'],\n",
       "      dtype='object')"
      ]
     },
     "execution_count": 33,
     "metadata": {},
     "output_type": "execute_result"
    }
   ],
   "source": [
    "fingroupeddf.columns"
   ]
  },
  {
   "cell_type": "code",
   "execution_count": 34,
   "id": "182e68e1",
   "metadata": {},
   "outputs": [],
   "source": [
    "fingroupeddf.to_csv(\"Classification/cleanedartistsong.csv\", index=False)"
   ]
  },
  {
   "cell_type": "markdown",
   "id": "f6b8fdd8",
   "metadata": {},
   "source": [
    "##### LINEAR REGRESSION NUMBER OF WEEKS"
   ]
  },
  {
   "cell_type": "code",
   "execution_count": 35,
   "id": "bbc5a358",
   "metadata": {},
   "outputs": [],
   "source": [
    "import numpy as np\n",
    "from sklearn.linear_model import LinearRegression"
   ]
  },
  {
   "cell_type": "code",
   "execution_count": 36,
   "id": "f3688d99",
   "metadata": {},
   "outputs": [],
   "source": [
    "from sklearn.metrics import mean_absolute_error, mean_squared_error"
   ]
  },
  {
   "cell_type": "code",
   "execution_count": 37,
   "id": "55cf8efa",
   "metadata": {},
   "outputs": [],
   "source": [
    "fingroupeddf = fingroupeddf.reset_index()\n",
    "fingroupeddf = fingroupeddf.drop([\"index\"], axis=1)"
   ]
  },
  {
   "cell_type": "code",
   "execution_count": 38,
   "id": "c73cd219",
   "metadata": {},
   "outputs": [
    {
     "data": {
      "text/plain": [
       "(2153, 17)"
      ]
     },
     "execution_count": 38,
     "metadata": {},
     "output_type": "execute_result"
    }
   ],
   "source": [
    "fingroupeddf.shape"
   ]
  },
  {
   "cell_type": "code",
   "execution_count": 39,
   "id": "5b8fd23d",
   "metadata": {},
   "outputs": [
    {
     "data": {
      "text/plain": [
       "Index(['main_artist', 'track_name', 'Max Streams per Song',\n",
       "       'Min Streams per Song', 'Total Streams per Song',\n",
       "       'Mean Streams per Song', 'Min Position per Song',\n",
       "       'MaxMin Difference Position', 'MaxMin Difference Streams',\n",
       "       'MaxMin Ratio Position', 'MaxMin Ratio Streams',\n",
       "       'Max Song Count per artist', 'Max Weeks on Chart per song',\n",
       "       'first_week_rank', 'first_week_streams', 'Max Artist Appearance',\n",
       "       'encoded_source'],\n",
       "      dtype='object')"
      ]
     },
     "execution_count": 39,
     "metadata": {},
     "output_type": "execute_result"
    }
   ],
   "source": [
    "fingroupeddf.columns"
   ]
  },
  {
   "cell_type": "code",
   "execution_count": 40,
   "id": "9daa6dec",
   "metadata": {
    "scrolled": true
   },
   "outputs": [],
   "source": [
    "numsongsperartist = pd.DataFrame(fingroupeddf.groupby([\"main_artist\"])[\"track_name\"].count())\n",
    "numsongsperartist = numsongsperartist.reset_index()\n",
    "numsongsperartist.columns = [\"main_artist\", \"num_songs\"]\n",
    "\n",
    "totstreamsperartist = pd.DataFrame(fingroupeddf.groupby([\"main_artist\"])[\"Total Streams per Song\"].sum())\n",
    "totstreamsperartist = totstreamsperartist.reset_index()\n",
    "totstreamsperartist.columns = [\"main_artist\", \"total_streams\"]\n",
    "\n",
    "maxstreamsontrack = pd.DataFrame(fingroupeddf.groupby([\"main_artist\"])[\"Max Streams per Song\"].max())\n",
    "maxstreamsontrack = maxstreamsontrack.reset_index()\n",
    "maxstreamsontrack.columns = [\"main_artist\", \"max_streams\"]\n",
    "\n",
    "highestposperartist = pd.DataFrame(fingroupeddf.groupby([\"main_artist\"])[\"Min Position per Song\"].min())\n",
    "highestposperartist = highestposperartist.reset_index()\n",
    "highestposperartist.columns = [\"main_artist\", \"highest_position\"]\n",
    "\n",
    "maxweeksperartist = pd.DataFrame(fingroupeddf.groupby([\"main_artist\"])[\"Max Weeks on Chart per song\"].max())\n",
    "maxweeksperartist = maxweeksperartist.reset_index()\n",
    "maxweeksperartist.columns = [\"main_artist\", \"max_weeks\"]"
   ]
  },
  {
   "cell_type": "code",
   "execution_count": 41,
   "id": "11d164a2",
   "metadata": {},
   "outputs": [],
   "source": [
    "numtot = numsongsperartist.merge(totstreamsperartist, left_on=[\"main_artist\"], right_on=[\"main_artist\"], how=\"inner\")\n",
    "numtotmax = numtot.merge(maxstreamsontrack, left_on=[\"main_artist\"], right_on=[\"main_artist\"], how=\"inner\")\n",
    "numtotmaxhighest = numtotmax.merge(highestposperartist, left_on=[\"main_artist\"], right_on=[\"main_artist\"], how=\"inner\")\n",
    "numtotmaxhighestmaxweeks = numtotmaxhighest.merge(maxweeksperartist, left_on=[\"main_artist\"], right_on=[\"main_artist\"], how=\"inner\")"
   ]
  },
  {
   "cell_type": "code",
   "execution_count": 42,
   "id": "64b7aa0f",
   "metadata": {},
   "outputs": [
    {
     "data": {
      "text/html": [
       "<div>\n",
       "<style scoped>\n",
       "    .dataframe tbody tr th:only-of-type {\n",
       "        vertical-align: middle;\n",
       "    }\n",
       "\n",
       "    .dataframe tbody tr th {\n",
       "        vertical-align: top;\n",
       "    }\n",
       "\n",
       "    .dataframe thead th {\n",
       "        text-align: right;\n",
       "    }\n",
       "</style>\n",
       "<table border=\"1\" class=\"dataframe\">\n",
       "  <thead>\n",
       "    <tr style=\"text-align: right;\">\n",
       "      <th></th>\n",
       "      <th>main_artist</th>\n",
       "      <th>num_songs</th>\n",
       "      <th>total_streams</th>\n",
       "      <th>max_streams</th>\n",
       "      <th>highest_position</th>\n",
       "      <th>max_weeks</th>\n",
       "    </tr>\n",
       "  </thead>\n",
       "  <tbody>\n",
       "    <tr>\n",
       "      <th>0</th>\n",
       "      <td>Damons year</td>\n",
       "      <td>2</td>\n",
       "      <td>1192682</td>\n",
       "      <td>45416</td>\n",
       "      <td>48</td>\n",
       "      <td>40</td>\n",
       "    </tr>\n",
       "    <tr>\n",
       "      <th>1</th>\n",
       "      <td>(G)I-DLE</td>\n",
       "      <td>19</td>\n",
       "      <td>9166639</td>\n",
       "      <td>322340</td>\n",
       "      <td>1</td>\n",
       "      <td>63</td>\n",
       "    </tr>\n",
       "    <tr>\n",
       "      <th>2</th>\n",
       "      <td>-</td>\n",
       "      <td>1</td>\n",
       "      <td>7767</td>\n",
       "      <td>7767</td>\n",
       "      <td>182</td>\n",
       "      <td>1</td>\n",
       "    </tr>\n",
       "    <tr>\n",
       "      <th>3</th>\n",
       "      <td>10-FEET</td>\n",
       "      <td>1</td>\n",
       "      <td>797802</td>\n",
       "      <td>76361</td>\n",
       "      <td>20</td>\n",
       "      <td>17</td>\n",
       "    </tr>\n",
       "    <tr>\n",
       "      <th>4</th>\n",
       "      <td>104</td>\n",
       "      <td>1</td>\n",
       "      <td>135384</td>\n",
       "      <td>22911</td>\n",
       "      <td>107</td>\n",
       "      <td>7</td>\n",
       "    </tr>\n",
       "    <tr>\n",
       "      <th>...</th>\n",
       "      <td>...</td>\n",
       "      <td>...</td>\n",
       "      <td>...</td>\n",
       "      <td>...</td>\n",
       "      <td>...</td>\n",
       "      <td>...</td>\n",
       "    </tr>\n",
       "    <tr>\n",
       "      <th>610</th>\n",
       "      <td>pH-1</td>\n",
       "      <td>2</td>\n",
       "      <td>200780</td>\n",
       "      <td>23120</td>\n",
       "      <td>60</td>\n",
       "      <td>7</td>\n",
       "    </tr>\n",
       "    <tr>\n",
       "      <th>611</th>\n",
       "      <td>salem ilese</td>\n",
       "      <td>1</td>\n",
       "      <td>253450</td>\n",
       "      <td>28097</td>\n",
       "      <td>39</td>\n",
       "      <td>12</td>\n",
       "    </tr>\n",
       "    <tr>\n",
       "      <th>612</th>\n",
       "      <td>sokodomo</td>\n",
       "      <td>2</td>\n",
       "      <td>2263504</td>\n",
       "      <td>177110</td>\n",
       "      <td>1</td>\n",
       "      <td>42</td>\n",
       "    </tr>\n",
       "    <tr>\n",
       "      <th>613</th>\n",
       "      <td>toigo</td>\n",
       "      <td>2</td>\n",
       "      <td>263887</td>\n",
       "      <td>37025</td>\n",
       "      <td>86</td>\n",
       "      <td>9</td>\n",
       "    </tr>\n",
       "    <tr>\n",
       "      <th>614</th>\n",
       "      <td>tripleS</td>\n",
       "      <td>2</td>\n",
       "      <td>922449</td>\n",
       "      <td>57432</td>\n",
       "      <td>41</td>\n",
       "      <td>18</td>\n",
       "    </tr>\n",
       "  </tbody>\n",
       "</table>\n",
       "<p>615 rows × 6 columns</p>\n",
       "</div>"
      ],
      "text/plain": [
       "       main_artist  num_songs  total_streams  max_streams  highest_position  \\\n",
       "0      Damons year          2        1192682        45416                48   \n",
       "1         (G)I-DLE         19        9166639       322340                 1   \n",
       "2                -          1           7767         7767               182   \n",
       "3          10-FEET          1         797802        76361                20   \n",
       "4              104          1         135384        22911               107   \n",
       "..             ...        ...            ...          ...               ...   \n",
       "610           pH-1          2         200780        23120                60   \n",
       "611    salem ilese          1         253450        28097                39   \n",
       "612       sokodomo          2        2263504       177110                 1   \n",
       "613          toigo          2         263887        37025                86   \n",
       "614        tripleS          2         922449        57432                41   \n",
       "\n",
       "     max_weeks  \n",
       "0           40  \n",
       "1           63  \n",
       "2            1  \n",
       "3           17  \n",
       "4            7  \n",
       "..         ...  \n",
       "610          7  \n",
       "611         12  \n",
       "612         42  \n",
       "613          9  \n",
       "614         18  \n",
       "\n",
       "[615 rows x 6 columns]"
      ]
     },
     "execution_count": 42,
     "metadata": {},
     "output_type": "execute_result"
    }
   ],
   "source": [
    "numtotmaxhighestmaxweeks"
   ]
  },
  {
   "cell_type": "code",
   "execution_count": 43,
   "id": "56a0075e",
   "metadata": {},
   "outputs": [],
   "source": [
    "groupsdf = numtotmaxhighestmaxweeks[[\"num_songs\", \"total_streams\", \"max_streams\", \"highest_position\", \"max_weeks\"]]\n",
    "scaler = StandardScaler()\n",
    "groupsdf1 = scaler.fit_transform(groupsdf)"
   ]
  },
  {
   "cell_type": "code",
   "execution_count": 62,
   "id": "7b07563b",
   "metadata": {},
   "outputs": [],
   "source": [
    "kmeans = KMeans(n_clusters=9, random_state=0).fit(groupsdf1)"
   ]
  },
  {
   "cell_type": "code",
   "execution_count": 63,
   "id": "7f8278c8",
   "metadata": {},
   "outputs": [],
   "source": [
    "numtotmaxhighestmaxweeks[\"cluster\"] = kmeans.labels_"
   ]
  },
  {
   "cell_type": "code",
   "execution_count": 64,
   "id": "1837d20e",
   "metadata": {},
   "outputs": [
    {
     "data": {
      "text/plain": [
       "cluster\n",
       "0          190\n",
       "5          167\n",
       "3          155\n",
       "6           45\n",
       "1           39\n",
       "4           11\n",
       "7            6\n",
       "2            1\n",
       "8            1\n",
       "dtype: int64"
      ]
     },
     "execution_count": 64,
     "metadata": {},
     "output_type": "execute_result"
    }
   ],
   "source": [
    "numtotmaxhighestmaxweeks[[\"cluster\"]].value_counts()"
   ]
  },
  {
   "cell_type": "code",
   "execution_count": 68,
   "id": "34049334",
   "metadata": {},
   "outputs": [
    {
     "data": {
      "text/html": [
       "<div>\n",
       "<style scoped>\n",
       "    .dataframe tbody tr th:only-of-type {\n",
       "        vertical-align: middle;\n",
       "    }\n",
       "\n",
       "    .dataframe tbody tr th {\n",
       "        vertical-align: top;\n",
       "    }\n",
       "\n",
       "    .dataframe thead th {\n",
       "        text-align: right;\n",
       "    }\n",
       "</style>\n",
       "<table border=\"1\" class=\"dataframe\">\n",
       "  <thead>\n",
       "    <tr style=\"text-align: right;\">\n",
       "      <th></th>\n",
       "      <th>main_artist</th>\n",
       "      <th>num_songs</th>\n",
       "      <th>total_streams</th>\n",
       "      <th>max_streams</th>\n",
       "      <th>highest_position</th>\n",
       "      <th>max_weeks</th>\n",
       "      <th>cluster</th>\n",
       "    </tr>\n",
       "  </thead>\n",
       "  <tbody>\n",
       "    <tr>\n",
       "      <th>159</th>\n",
       "      <td>Drake</td>\n",
       "      <td>42</td>\n",
       "      <td>2738663</td>\n",
       "      <td>51546</td>\n",
       "      <td>6</td>\n",
       "      <td>23</td>\n",
       "      <td>7</td>\n",
       "    </tr>\n",
       "    <tr>\n",
       "      <th>296</th>\n",
       "      <td>Kanye West</td>\n",
       "      <td>28</td>\n",
       "      <td>1152764</td>\n",
       "      <td>51228</td>\n",
       "      <td>9</td>\n",
       "      <td>10</td>\n",
       "      <td>7</td>\n",
       "    </tr>\n",
       "    <tr>\n",
       "      <th>385</th>\n",
       "      <td>NCT 127</td>\n",
       "      <td>35</td>\n",
       "      <td>2284272</td>\n",
       "      <td>74963</td>\n",
       "      <td>5</td>\n",
       "      <td>20</td>\n",
       "      <td>7</td>\n",
       "    </tr>\n",
       "    <tr>\n",
       "      <th>388</th>\n",
       "      <td>NCT DREAM</td>\n",
       "      <td>38</td>\n",
       "      <td>6123976</td>\n",
       "      <td>224102</td>\n",
       "      <td>3</td>\n",
       "      <td>23</td>\n",
       "      <td>7</td>\n",
       "    </tr>\n",
       "    <tr>\n",
       "      <th>459</th>\n",
       "      <td>SEVENTEEN</td>\n",
       "      <td>33</td>\n",
       "      <td>6056790</td>\n",
       "      <td>188100</td>\n",
       "      <td>6</td>\n",
       "      <td>44</td>\n",
       "      <td>7</td>\n",
       "    </tr>\n",
       "    <tr>\n",
       "      <th>520</th>\n",
       "      <td>Taylor Swift</td>\n",
       "      <td>30</td>\n",
       "      <td>4359406</td>\n",
       "      <td>155936</td>\n",
       "      <td>6</td>\n",
       "      <td>31</td>\n",
       "      <td>7</td>\n",
       "    </tr>\n",
       "  </tbody>\n",
       "</table>\n",
       "</div>"
      ],
      "text/plain": [
       "      main_artist  num_songs  total_streams  max_streams  highest_position  \\\n",
       "159         Drake         42        2738663        51546                 6   \n",
       "296    Kanye West         28        1152764        51228                 9   \n",
       "385       NCT 127         35        2284272        74963                 5   \n",
       "388     NCT DREAM         38        6123976       224102                 3   \n",
       "459     SEVENTEEN         33        6056790       188100                 6   \n",
       "520  Taylor Swift         30        4359406       155936                 6   \n",
       "\n",
       "     max_weeks  cluster  \n",
       "159         23        7  \n",
       "296         10        7  \n",
       "385         20        7  \n",
       "388         23        7  \n",
       "459         44        7  \n",
       "520         31        7  "
      ]
     },
     "execution_count": 68,
     "metadata": {},
     "output_type": "execute_result"
    }
   ],
   "source": [
    "numtotmaxhighestmaxweeks[numtotmaxhighestmaxweeks[\"cluster\"]==7]"
   ]
  },
  {
   "cell_type": "code",
   "execution_count": 48,
   "id": "561bceee",
   "metadata": {},
   "outputs": [],
   "source": [
    "X = fingroupeddf.drop([\"main_artist\", \"track_name\", \"Max Weeks on Chart per song\", 'Max Artist Appearance'], axis=1)\n",
    "# X = X[['first_week_rank', 'first_week_streams','Total Streams per Song', 'Min Position per Song', 'MaxMin Difference Position', 'MaxMin Ratio Position', 'MaxMin Ratio Streams']]\n",
    "# X = X[['MaxMin Difference Position', 'MaxMin Ratio Streams', \"first_week_streams\"]]\n",
    "y = fingroupeddf[\"Max Weeks on Chart per song\"]"
   ]
  },
  {
   "cell_type": "code",
   "execution_count": 49,
   "id": "53bc3f3b",
   "metadata": {},
   "outputs": [],
   "source": [
    "thecols = list(X.columns)"
   ]
  },
  {
   "cell_type": "code",
   "execution_count": 50,
   "id": "97c86f87",
   "metadata": {},
   "outputs": [],
   "source": [
    "scaler = StandardScaler()\n",
    "X = scaler.fit_transform(X)"
   ]
  },
  {
   "cell_type": "code",
   "execution_count": 51,
   "id": "1181af36",
   "metadata": {},
   "outputs": [],
   "source": [
    "X = pd.DataFrame(X)"
   ]
  },
  {
   "cell_type": "code",
   "execution_count": 52,
   "id": "e3fe7997",
   "metadata": {},
   "outputs": [],
   "source": [
    "X.columns = thecols"
   ]
  },
  {
   "cell_type": "code",
   "execution_count": 53,
   "id": "dd04859f",
   "metadata": {},
   "outputs": [
    {
     "data": {
      "text/html": [
       "<div>\n",
       "<style scoped>\n",
       "    .dataframe tbody tr th:only-of-type {\n",
       "        vertical-align: middle;\n",
       "    }\n",
       "\n",
       "    .dataframe tbody tr th {\n",
       "        vertical-align: top;\n",
       "    }\n",
       "\n",
       "    .dataframe thead th {\n",
       "        text-align: right;\n",
       "    }\n",
       "</style>\n",
       "<table border=\"1\" class=\"dataframe\">\n",
       "  <thead>\n",
       "    <tr style=\"text-align: right;\">\n",
       "      <th></th>\n",
       "      <th>Max Streams per Song</th>\n",
       "      <th>Min Streams per Song</th>\n",
       "      <th>Total Streams per Song</th>\n",
       "      <th>Mean Streams per Song</th>\n",
       "      <th>Min Position per Song</th>\n",
       "      <th>MaxMin Difference Position</th>\n",
       "      <th>MaxMin Difference Streams</th>\n",
       "      <th>MaxMin Ratio Position</th>\n",
       "      <th>MaxMin Ratio Streams</th>\n",
       "      <th>Max Song Count per artist</th>\n",
       "      <th>first_week_rank</th>\n",
       "      <th>first_week_streams</th>\n",
       "      <th>encoded_source</th>\n",
       "    </tr>\n",
       "  </thead>\n",
       "  <tbody>\n",
       "    <tr>\n",
       "      <th>0</th>\n",
       "      <td>-0.157453</td>\n",
       "      <td>0.096126</td>\n",
       "      <td>-0.296451</td>\n",
       "      <td>-0.022915</td>\n",
       "      <td>0.272788</td>\n",
       "      <td>0.216548</td>\n",
       "      <td>-0.229008</td>\n",
       "      <td>-0.256796</td>\n",
       "      <td>-0.336833</td>\n",
       "      <td>0.012228</td>\n",
       "      <td>0.976507</td>\n",
       "      <td>-0.151805</td>\n",
       "      <td>-1.516394</td>\n",
       "    </tr>\n",
       "    <tr>\n",
       "      <th>1</th>\n",
       "      <td>0.200543</td>\n",
       "      <td>-0.045504</td>\n",
       "      <td>0.974855</td>\n",
       "      <td>0.152864</td>\n",
       "      <td>-0.671249</td>\n",
       "      <td>1.201734</td>\n",
       "      <td>0.261906</td>\n",
       "      <td>-0.150641</td>\n",
       "      <td>0.419879</td>\n",
       "      <td>0.012228</td>\n",
       "      <td>1.279110</td>\n",
       "      <td>-0.314106</td>\n",
       "      <td>-1.516394</td>\n",
       "    </tr>\n",
       "    <tr>\n",
       "      <th>2</th>\n",
       "      <td>-0.424346</td>\n",
       "      <td>-0.155905</td>\n",
       "      <td>-0.407864</td>\n",
       "      <td>-0.362983</td>\n",
       "      <td>0.500057</td>\n",
       "      <td>-1.128310</td>\n",
       "      <td>-0.456584</td>\n",
       "      <td>-0.295964</td>\n",
       "      <td>-0.622469</td>\n",
       "      <td>0.645631</td>\n",
       "      <td>0.219999</td>\n",
       "      <td>-0.359855</td>\n",
       "      <td>-0.981801</td>\n",
       "    </tr>\n",
       "    <tr>\n",
       "      <th>3</th>\n",
       "      <td>0.905075</td>\n",
       "      <td>2.843884</td>\n",
       "      <td>-0.261191</td>\n",
       "      <td>1.961879</td>\n",
       "      <td>-0.950964</td>\n",
       "      <td>-0.831190</td>\n",
       "      <td>0.001865</td>\n",
       "      <td>-0.265359</td>\n",
       "      <td>-0.466360</td>\n",
       "      <td>0.645631</td>\n",
       "      <td>-0.855923</td>\n",
       "      <td>0.883231</td>\n",
       "      <td>-0.981801</td>\n",
       "    </tr>\n",
       "    <tr>\n",
       "      <th>4</th>\n",
       "      <td>-0.074448</td>\n",
       "      <td>0.642968</td>\n",
       "      <td>-0.369070</td>\n",
       "      <td>0.251934</td>\n",
       "      <td>-0.164266</td>\n",
       "      <td>-0.471519</td>\n",
       "      <td>-0.339537</td>\n",
       "      <td>-0.270129</td>\n",
       "      <td>-0.532159</td>\n",
       "      <td>0.645631</td>\n",
       "      <td>-0.469264</td>\n",
       "      <td>0.113331</td>\n",
       "      <td>-0.981801</td>\n",
       "    </tr>\n",
       "    <tr>\n",
       "      <th>...</th>\n",
       "      <td>...</td>\n",
       "      <td>...</td>\n",
       "      <td>...</td>\n",
       "      <td>...</td>\n",
       "      <td>...</td>\n",
       "      <td>...</td>\n",
       "      <td>...</td>\n",
       "      <td>...</td>\n",
       "      <td>...</td>\n",
       "      <td>...</td>\n",
       "      <td>...</td>\n",
       "      <td>...</td>\n",
       "      <td>...</td>\n",
       "    </tr>\n",
       "    <tr>\n",
       "      <th>2148</th>\n",
       "      <td>2.900303</td>\n",
       "      <td>-0.091187</td>\n",
       "      <td>2.417121</td>\n",
       "      <td>1.187841</td>\n",
       "      <td>-1.492911</td>\n",
       "      <td>1.874163</td>\n",
       "      <td>3.568343</td>\n",
       "      <td>8.725990</td>\n",
       "      <td>5.501094</td>\n",
       "      <td>0.067307</td>\n",
       "      <td>-1.746921</td>\n",
       "      <td>3.029748</td>\n",
       "      <td>-0.555796</td>\n",
       "    </tr>\n",
       "    <tr>\n",
       "      <th>2149</th>\n",
       "      <td>0.028525</td>\n",
       "      <td>0.221110</td>\n",
       "      <td>-0.123589</td>\n",
       "      <td>0.163483</td>\n",
       "      <td>-0.006926</td>\n",
       "      <td>0.576219</td>\n",
       "      <td>-0.050828</td>\n",
       "      <td>-0.236909</td>\n",
       "      <td>-0.160732</td>\n",
       "      <td>-0.841488</td>\n",
       "      <td>-0.317962</td>\n",
       "      <td>0.247637</td>\n",
       "      <td>-0.555796</td>\n",
       "    </tr>\n",
       "    <tr>\n",
       "      <th>2150</th>\n",
       "      <td>-0.344006</td>\n",
       "      <td>0.137551</td>\n",
       "      <td>-0.421546</td>\n",
       "      <td>-0.186186</td>\n",
       "      <td>1.671362</td>\n",
       "      <td>-1.175223</td>\n",
       "      <td>-0.472292</td>\n",
       "      <td>-0.297171</td>\n",
       "      <td>-0.648050</td>\n",
       "      <td>-0.841488</td>\n",
       "      <td>1.295921</td>\n",
       "      <td>-0.238250</td>\n",
       "      <td>-0.547443</td>\n",
       "    </tr>\n",
       "    <tr>\n",
       "      <th>2151</th>\n",
       "      <td>0.147221</td>\n",
       "      <td>0.238531</td>\n",
       "      <td>0.224016</td>\n",
       "      <td>0.207182</td>\n",
       "      <td>-0.688731</td>\n",
       "      <td>1.154821</td>\n",
       "      <td>0.087022</td>\n",
       "      <td>-0.150477</td>\n",
       "      <td>-0.009895</td>\n",
       "      <td>-0.593635</td>\n",
       "      <td>0.253622</td>\n",
       "      <td>-0.031430</td>\n",
       "      <td>0.070681</td>\n",
       "    </tr>\n",
       "    <tr>\n",
       "      <th>2152</th>\n",
       "      <td>0.446874</td>\n",
       "      <td>0.675875</td>\n",
       "      <td>0.098399</td>\n",
       "      <td>0.753514</td>\n",
       "      <td>-0.793624</td>\n",
       "      <td>0.795149</td>\n",
       "      <td>0.282783</td>\n",
       "      <td>-0.154967</td>\n",
       "      <td>-0.001252</td>\n",
       "      <td>-0.593635</td>\n",
       "      <td>0.287244</td>\n",
       "      <td>-0.015173</td>\n",
       "      <td>0.070681</td>\n",
       "    </tr>\n",
       "  </tbody>\n",
       "</table>\n",
       "<p>2153 rows × 13 columns</p>\n",
       "</div>"
      ],
      "text/plain": [
       "      Max Streams per Song  Min Streams per Song  Total Streams per Song  \\\n",
       "0                -0.157453              0.096126               -0.296451   \n",
       "1                 0.200543             -0.045504                0.974855   \n",
       "2                -0.424346             -0.155905               -0.407864   \n",
       "3                 0.905075              2.843884               -0.261191   \n",
       "4                -0.074448              0.642968               -0.369070   \n",
       "...                    ...                   ...                     ...   \n",
       "2148              2.900303             -0.091187                2.417121   \n",
       "2149              0.028525              0.221110               -0.123589   \n",
       "2150             -0.344006              0.137551               -0.421546   \n",
       "2151              0.147221              0.238531                0.224016   \n",
       "2152              0.446874              0.675875                0.098399   \n",
       "\n",
       "      Mean Streams per Song  Min Position per Song  \\\n",
       "0                 -0.022915               0.272788   \n",
       "1                  0.152864              -0.671249   \n",
       "2                 -0.362983               0.500057   \n",
       "3                  1.961879              -0.950964   \n",
       "4                  0.251934              -0.164266   \n",
       "...                     ...                    ...   \n",
       "2148               1.187841              -1.492911   \n",
       "2149               0.163483              -0.006926   \n",
       "2150              -0.186186               1.671362   \n",
       "2151               0.207182              -0.688731   \n",
       "2152               0.753514              -0.793624   \n",
       "\n",
       "      MaxMin Difference Position  MaxMin Difference Streams  \\\n",
       "0                       0.216548                  -0.229008   \n",
       "1                       1.201734                   0.261906   \n",
       "2                      -1.128310                  -0.456584   \n",
       "3                      -0.831190                   0.001865   \n",
       "4                      -0.471519                  -0.339537   \n",
       "...                          ...                        ...   \n",
       "2148                    1.874163                   3.568343   \n",
       "2149                    0.576219                  -0.050828   \n",
       "2150                   -1.175223                  -0.472292   \n",
       "2151                    1.154821                   0.087022   \n",
       "2152                    0.795149                   0.282783   \n",
       "\n",
       "      MaxMin Ratio Position  MaxMin Ratio Streams  Max Song Count per artist  \\\n",
       "0                 -0.256796             -0.336833                   0.012228   \n",
       "1                 -0.150641              0.419879                   0.012228   \n",
       "2                 -0.295964             -0.622469                   0.645631   \n",
       "3                 -0.265359             -0.466360                   0.645631   \n",
       "4                 -0.270129             -0.532159                   0.645631   \n",
       "...                     ...                   ...                        ...   \n",
       "2148               8.725990              5.501094                   0.067307   \n",
       "2149              -0.236909             -0.160732                  -0.841488   \n",
       "2150              -0.297171             -0.648050                  -0.841488   \n",
       "2151              -0.150477             -0.009895                  -0.593635   \n",
       "2152              -0.154967             -0.001252                  -0.593635   \n",
       "\n",
       "      first_week_rank  first_week_streams  encoded_source  \n",
       "0            0.976507           -0.151805       -1.516394  \n",
       "1            1.279110           -0.314106       -1.516394  \n",
       "2            0.219999           -0.359855       -0.981801  \n",
       "3           -0.855923            0.883231       -0.981801  \n",
       "4           -0.469264            0.113331       -0.981801  \n",
       "...               ...                 ...             ...  \n",
       "2148        -1.746921            3.029748       -0.555796  \n",
       "2149        -0.317962            0.247637       -0.555796  \n",
       "2150         1.295921           -0.238250       -0.547443  \n",
       "2151         0.253622           -0.031430        0.070681  \n",
       "2152         0.287244           -0.015173        0.070681  \n",
       "\n",
       "[2153 rows x 13 columns]"
      ]
     },
     "execution_count": 53,
     "metadata": {},
     "output_type": "execute_result"
    }
   ],
   "source": [
    "X"
   ]
  },
  {
   "cell_type": "code",
   "execution_count": 55,
   "id": "d51c2f69",
   "metadata": {},
   "outputs": [],
   "source": [
    "X_train = X.head(4000)\n",
    "y_train = y.head(4000)\n",
    "\n",
    "X_test = X.iloc[4001:]\n",
    "y_test = y.iloc[4001:]\n",
    "\n",
    "# X_train = X.head(1800)\n",
    "# y_train = y.head(1800)\n",
    "\n",
    "# X_test = X.iloc[1801:]\n",
    "# y_test = y.iloc[1801:]"
   ]
  },
  {
   "cell_type": "code",
   "execution_count": 56,
   "id": "912c2d07",
   "metadata": {},
   "outputs": [
    {
     "name": "stdout",
     "output_type": "stream",
     "text": [
      "0.7895190731801885\n",
      "[ 8.50315261e+13 -2.70157703e+13  1.73171863e+01 -7.35401434e+00\n",
      " -2.39804935e-01  5.98830076e+00 -6.98028859e+13  1.04660204e-01\n",
      "  4.32350334e+00  1.88425883e+00  1.85953827e+00  1.20664655e-01\n",
      "  7.05174038e-02]\n",
      "11.491523700292051\n"
     ]
    }
   ],
   "source": [
    "reg = LinearRegression().fit(X_train, y_train)\n",
    "print(reg.score(X, y))\n",
    "print(reg.coef_)\n",
    "print(reg.intercept_)"
   ]
  },
  {
   "cell_type": "code",
   "execution_count": 69,
   "id": "a31f374c",
   "metadata": {},
   "outputs": [],
   "source": [
    "# all_preds = reg.predict(X_test)\n",
    "# thepredsy = pd.DataFrame(all_preds)\n",
    "\n",
    "# thepredsy.columns = [\"predictions\"]\n",
    "# thepredsy[\"actuals\"] = list(y_test)\n",
    "# thepredsy[\"predictions\"] = thepredsy[\"predictions\"].astype(int)\n",
    "# thepredsy[\"diff\"] = thepredsy[\"predictions\"] - thepredsy[\"actuals\"]\n",
    "\n",
    "# truepreds = thepredsy[thepredsy[\"diff\"]==0]\n",
    "# truepreds1 = thepredsy[thepredsy[\"diff\"]==1]\n",
    "# truepreds2 = thepredsy[thepredsy[\"diff\"]==-1]\n",
    "# fintruepeds = pd.concat([truepreds,truepreds1,truepreds2])\n",
    "\n",
    "# print(\"Coefficient of determination: %.2f\" % r2_score(y_test, all_preds))"
   ]
  },
  {
   "cell_type": "code",
   "execution_count": null,
   "id": "b1d7510b",
   "metadata": {},
   "outputs": [],
   "source": [
    "mae = mean_absolute_error(y_test, all_preds)"
   ]
  },
  {
   "cell_type": "code",
   "execution_count": null,
   "id": "c8470d1c",
   "metadata": {},
   "outputs": [],
   "source": [
    "mae"
   ]
  },
  {
   "cell_type": "code",
   "execution_count": null,
   "id": "ba52432a",
   "metadata": {},
   "outputs": [],
   "source": [
    "truepreds.shape[0], fintruepeds.shape[0], all_preds.shape[0]"
   ]
  },
  {
   "cell_type": "code",
   "execution_count": null,
   "id": "a3d65405",
   "metadata": {},
   "outputs": [],
   "source": [
    "(truepreds.shape[0] / thepredsy.shape[0]) * 100, (fintruepeds.shape[0] / thepredsy.shape[0]) * 100"
   ]
  },
  {
   "cell_type": "code",
   "execution_count": null,
   "id": "6dd27a2f",
   "metadata": {},
   "outputs": [],
   "source": [
    "# X[[\"first_week_rank\", \"first_week_streams\"]] - 7 , 1.26%\n",
    "# [\"first_week_rank\", \"first_week_streams\", \"Max Streams per Song\"] - 15 , 2.69%\n",
    "# [all] - 48 , 8.62%\n",
    "# X[[\"first_week_rank\", \"first_week_streams\", \"Max Streams per Song\", \"Total Streams per Song\"]] - 28 , 5.02%\n",
    "\n",
    "# X[[\"first_week_rank\", \"first_week_streams\", \"Max Streams per Song\", \"Total Streams per Song\", 'Max Song Count per artist']] - 37, 6.64% \n",
    "\n",
    "# X[[\"Mean Streams per Song\", \"first_week_rank\"]]- 8 , 1.44%\n",
    "\n",
    "# [\"MaxMin Ratio Position\", \"first_week_rank\", \"Max Song Count per artist\" - 7 , 1.26%"
   ]
  },
  {
   "cell_type": "code",
   "execution_count": 70,
   "id": "8f47a29c",
   "metadata": {},
   "outputs": [],
   "source": [
    "from sklearn import linear_model\n",
    "reglinear_model = linear_model.RidgeCV(alphas=np.logspace(-6, 6, 13))\n",
    "reglinear_modelvf = reglinear_model.fit(X_train, y_train)"
   ]
  },
  {
   "cell_type": "code",
   "execution_count": 71,
   "id": "288dca09",
   "metadata": {},
   "outputs": [
    {
     "ename": "ValueError",
     "evalue": "Found array with 0 sample(s) (shape=(0, 13)) while a minimum of 1 is required.",
     "output_type": "error",
     "traceback": [
      "\u001b[1;31m---------------------------------------------------------------------------\u001b[0m",
      "\u001b[1;31mValueError\u001b[0m                                Traceback (most recent call last)",
      "\u001b[1;32m~\\AppData\\Local\\Temp\\ipykernel_11512\\3493702899.py\u001b[0m in \u001b[0;36m<module>\u001b[1;34m\u001b[0m\n\u001b[1;32m----> 1\u001b[1;33m \u001b[0mall_preds\u001b[0m \u001b[1;33m=\u001b[0m \u001b[0mreglinear_modelvf\u001b[0m\u001b[1;33m.\u001b[0m\u001b[0mpredict\u001b[0m\u001b[1;33m(\u001b[0m\u001b[0mX_test\u001b[0m\u001b[1;33m)\u001b[0m\u001b[1;33m\u001b[0m\u001b[1;33m\u001b[0m\u001b[0m\n\u001b[0m\u001b[0;32m      2\u001b[0m \u001b[0mthepredsy\u001b[0m \u001b[1;33m=\u001b[0m \u001b[0mpd\u001b[0m\u001b[1;33m.\u001b[0m\u001b[0mDataFrame\u001b[0m\u001b[1;33m(\u001b[0m\u001b[0mall_preds\u001b[0m\u001b[1;33m)\u001b[0m\u001b[1;33m\u001b[0m\u001b[1;33m\u001b[0m\u001b[0m\n\u001b[0;32m      3\u001b[0m \u001b[1;33m\u001b[0m\u001b[0m\n\u001b[0;32m      4\u001b[0m \u001b[0mthepredsy\u001b[0m\u001b[1;33m.\u001b[0m\u001b[0mcolumns\u001b[0m \u001b[1;33m=\u001b[0m \u001b[1;33m[\u001b[0m\u001b[1;34m\"predictions\"\u001b[0m\u001b[1;33m]\u001b[0m\u001b[1;33m\u001b[0m\u001b[1;33m\u001b[0m\u001b[0m\n\u001b[0;32m      5\u001b[0m \u001b[0mthepredsy\u001b[0m\u001b[1;33m[\u001b[0m\u001b[1;34m\"actuals\"\u001b[0m\u001b[1;33m]\u001b[0m \u001b[1;33m=\u001b[0m \u001b[0mlist\u001b[0m\u001b[1;33m(\u001b[0m\u001b[0my_test\u001b[0m\u001b[1;33m)\u001b[0m\u001b[1;33m\u001b[0m\u001b[1;33m\u001b[0m\u001b[0m\n",
      "\u001b[1;32m~\\anaconda3\\lib\\site-packages\\sklearn\\linear_model\\_base.py\u001b[0m in \u001b[0;36mpredict\u001b[1;34m(self, X)\u001b[0m\n\u001b[0;32m    360\u001b[0m             \u001b[0mReturns\u001b[0m \u001b[0mpredicted\u001b[0m \u001b[0mvalues\u001b[0m\u001b[1;33m.\u001b[0m\u001b[1;33m\u001b[0m\u001b[1;33m\u001b[0m\u001b[0m\n\u001b[0;32m    361\u001b[0m         \"\"\"\n\u001b[1;32m--> 362\u001b[1;33m         \u001b[1;32mreturn\u001b[0m \u001b[0mself\u001b[0m\u001b[1;33m.\u001b[0m\u001b[0m_decision_function\u001b[0m\u001b[1;33m(\u001b[0m\u001b[0mX\u001b[0m\u001b[1;33m)\u001b[0m\u001b[1;33m\u001b[0m\u001b[1;33m\u001b[0m\u001b[0m\n\u001b[0m\u001b[0;32m    363\u001b[0m \u001b[1;33m\u001b[0m\u001b[0m\n\u001b[0;32m    364\u001b[0m     \u001b[0m_preprocess_data\u001b[0m \u001b[1;33m=\u001b[0m \u001b[0mstaticmethod\u001b[0m\u001b[1;33m(\u001b[0m\u001b[0m_preprocess_data\u001b[0m\u001b[1;33m)\u001b[0m\u001b[1;33m\u001b[0m\u001b[1;33m\u001b[0m\u001b[0m\n",
      "\u001b[1;32m~\\anaconda3\\lib\\site-packages\\sklearn\\linear_model\\_base.py\u001b[0m in \u001b[0;36m_decision_function\u001b[1;34m(self, X)\u001b[0m\n\u001b[0;32m    343\u001b[0m         \u001b[0mcheck_is_fitted\u001b[0m\u001b[1;33m(\u001b[0m\u001b[0mself\u001b[0m\u001b[1;33m)\u001b[0m\u001b[1;33m\u001b[0m\u001b[1;33m\u001b[0m\u001b[0m\n\u001b[0;32m    344\u001b[0m \u001b[1;33m\u001b[0m\u001b[0m\n\u001b[1;32m--> 345\u001b[1;33m         \u001b[0mX\u001b[0m \u001b[1;33m=\u001b[0m \u001b[0mself\u001b[0m\u001b[1;33m.\u001b[0m\u001b[0m_validate_data\u001b[0m\u001b[1;33m(\u001b[0m\u001b[0mX\u001b[0m\u001b[1;33m,\u001b[0m \u001b[0maccept_sparse\u001b[0m\u001b[1;33m=\u001b[0m\u001b[1;33m[\u001b[0m\u001b[1;34m\"csr\"\u001b[0m\u001b[1;33m,\u001b[0m \u001b[1;34m\"csc\"\u001b[0m\u001b[1;33m,\u001b[0m \u001b[1;34m\"coo\"\u001b[0m\u001b[1;33m]\u001b[0m\u001b[1;33m,\u001b[0m \u001b[0mreset\u001b[0m\u001b[1;33m=\u001b[0m\u001b[1;32mFalse\u001b[0m\u001b[1;33m)\u001b[0m\u001b[1;33m\u001b[0m\u001b[1;33m\u001b[0m\u001b[0m\n\u001b[0m\u001b[0;32m    346\u001b[0m         \u001b[1;32mreturn\u001b[0m \u001b[0msafe_sparse_dot\u001b[0m\u001b[1;33m(\u001b[0m\u001b[0mX\u001b[0m\u001b[1;33m,\u001b[0m \u001b[0mself\u001b[0m\u001b[1;33m.\u001b[0m\u001b[0mcoef_\u001b[0m\u001b[1;33m.\u001b[0m\u001b[0mT\u001b[0m\u001b[1;33m,\u001b[0m \u001b[0mdense_output\u001b[0m\u001b[1;33m=\u001b[0m\u001b[1;32mTrue\u001b[0m\u001b[1;33m)\u001b[0m \u001b[1;33m+\u001b[0m \u001b[0mself\u001b[0m\u001b[1;33m.\u001b[0m\u001b[0mintercept_\u001b[0m\u001b[1;33m\u001b[0m\u001b[1;33m\u001b[0m\u001b[0m\n\u001b[0;32m    347\u001b[0m \u001b[1;33m\u001b[0m\u001b[0m\n",
      "\u001b[1;32m~\\anaconda3\\lib\\site-packages\\sklearn\\base.py\u001b[0m in \u001b[0;36m_validate_data\u001b[1;34m(self, X, y, reset, validate_separately, **check_params)\u001b[0m\n\u001b[0;32m    564\u001b[0m             \u001b[1;32mraise\u001b[0m \u001b[0mValueError\u001b[0m\u001b[1;33m(\u001b[0m\u001b[1;34m\"Validation should be done on X, y or both.\"\u001b[0m\u001b[1;33m)\u001b[0m\u001b[1;33m\u001b[0m\u001b[1;33m\u001b[0m\u001b[0m\n\u001b[0;32m    565\u001b[0m         \u001b[1;32melif\u001b[0m \u001b[1;32mnot\u001b[0m \u001b[0mno_val_X\u001b[0m \u001b[1;32mand\u001b[0m \u001b[0mno_val_y\u001b[0m\u001b[1;33m:\u001b[0m\u001b[1;33m\u001b[0m\u001b[1;33m\u001b[0m\u001b[0m\n\u001b[1;32m--> 566\u001b[1;33m             \u001b[0mX\u001b[0m \u001b[1;33m=\u001b[0m \u001b[0mcheck_array\u001b[0m\u001b[1;33m(\u001b[0m\u001b[0mX\u001b[0m\u001b[1;33m,\u001b[0m \u001b[1;33m**\u001b[0m\u001b[0mcheck_params\u001b[0m\u001b[1;33m)\u001b[0m\u001b[1;33m\u001b[0m\u001b[1;33m\u001b[0m\u001b[0m\n\u001b[0m\u001b[0;32m    567\u001b[0m             \u001b[0mout\u001b[0m \u001b[1;33m=\u001b[0m \u001b[0mX\u001b[0m\u001b[1;33m\u001b[0m\u001b[1;33m\u001b[0m\u001b[0m\n\u001b[0;32m    568\u001b[0m         \u001b[1;32melif\u001b[0m \u001b[0mno_val_X\u001b[0m \u001b[1;32mand\u001b[0m \u001b[1;32mnot\u001b[0m \u001b[0mno_val_y\u001b[0m\u001b[1;33m:\u001b[0m\u001b[1;33m\u001b[0m\u001b[1;33m\u001b[0m\u001b[0m\n",
      "\u001b[1;32m~\\anaconda3\\lib\\site-packages\\sklearn\\utils\\validation.py\u001b[0m in \u001b[0;36mcheck_array\u001b[1;34m(array, accept_sparse, accept_large_sparse, dtype, order, copy, force_all_finite, ensure_2d, allow_nd, ensure_min_samples, ensure_min_features, estimator)\u001b[0m\n\u001b[0;32m    803\u001b[0m         \u001b[0mn_samples\u001b[0m \u001b[1;33m=\u001b[0m \u001b[0m_num_samples\u001b[0m\u001b[1;33m(\u001b[0m\u001b[0marray\u001b[0m\u001b[1;33m)\u001b[0m\u001b[1;33m\u001b[0m\u001b[1;33m\u001b[0m\u001b[0m\n\u001b[0;32m    804\u001b[0m         \u001b[1;32mif\u001b[0m \u001b[0mn_samples\u001b[0m \u001b[1;33m<\u001b[0m \u001b[0mensure_min_samples\u001b[0m\u001b[1;33m:\u001b[0m\u001b[1;33m\u001b[0m\u001b[1;33m\u001b[0m\u001b[0m\n\u001b[1;32m--> 805\u001b[1;33m             raise ValueError(\n\u001b[0m\u001b[0;32m    806\u001b[0m                 \u001b[1;34m\"Found array with %d sample(s) (shape=%s) while a\"\u001b[0m\u001b[1;33m\u001b[0m\u001b[1;33m\u001b[0m\u001b[0m\n\u001b[0;32m    807\u001b[0m                 \u001b[1;34m\" minimum of %d is required%s.\"\u001b[0m\u001b[1;33m\u001b[0m\u001b[1;33m\u001b[0m\u001b[0m\n",
      "\u001b[1;31mValueError\u001b[0m: Found array with 0 sample(s) (shape=(0, 13)) while a minimum of 1 is required."
     ]
    }
   ],
   "source": [
    "all_preds = reglinear_modelvf.predict(X_test)\n",
    "thepredsy = pd.DataFrame(all_preds)\n",
    "\n",
    "thepredsy.columns = [\"predictions\"]\n",
    "thepredsy[\"actuals\"] = list(y_test)\n",
    "thepredsy[\"predictions\"] = thepredsy[\"predictions\"].astype(int)\n",
    "thepredsy[\"diff\"] = thepredsy[\"predictions\"] - thepredsy[\"actuals\"]\n",
    "\n",
    "truepreds = thepredsy[thepredsy[\"diff\"]==0]\n",
    "truepreds1 = thepredsy[thepredsy[\"diff\"]==1]\n",
    "truepreds2 = thepredsy[thepredsy[\"diff\"]==-1]\n",
    "fintruepeds = pd.concat([truepreds,truepreds1,truepreds2])"
   ]
  },
  {
   "cell_type": "code",
   "execution_count": 72,
   "id": "d9921589",
   "metadata": {},
   "outputs": [
    {
     "ename": "NameError",
     "evalue": "name 'all_preds' is not defined",
     "output_type": "error",
     "traceback": [
      "\u001b[1;31m---------------------------------------------------------------------------\u001b[0m",
      "\u001b[1;31mNameError\u001b[0m                                 Traceback (most recent call last)",
      "\u001b[1;32m~\\AppData\\Local\\Temp\\ipykernel_11512\\576115797.py\u001b[0m in \u001b[0;36m<module>\u001b[1;34m\u001b[0m\n\u001b[1;32m----> 1\u001b[1;33m \u001b[0mprint\u001b[0m\u001b[1;33m(\u001b[0m\u001b[1;34m\"Coefficient of determination: %.2f\"\u001b[0m \u001b[1;33m%\u001b[0m \u001b[0mr2_score\u001b[0m\u001b[1;33m(\u001b[0m\u001b[0my_test\u001b[0m\u001b[1;33m,\u001b[0m \u001b[0mall_preds\u001b[0m\u001b[1;33m)\u001b[0m\u001b[1;33m)\u001b[0m\u001b[1;33m\u001b[0m\u001b[1;33m\u001b[0m\u001b[0m\n\u001b[0m",
      "\u001b[1;31mNameError\u001b[0m: name 'all_preds' is not defined"
     ]
    }
   ],
   "source": [
    "print(\"Coefficient of determination: %.2f\" % r2_score(y_test, all_preds))"
   ]
  },
  {
   "cell_type": "code",
   "execution_count": 73,
   "id": "d1f5053c",
   "metadata": {},
   "outputs": [
    {
     "ename": "NameError",
     "evalue": "name 'all_preds' is not defined",
     "output_type": "error",
     "traceback": [
      "\u001b[1;31m---------------------------------------------------------------------------\u001b[0m",
      "\u001b[1;31mNameError\u001b[0m                                 Traceback (most recent call last)",
      "\u001b[1;32m~\\AppData\\Local\\Temp\\ipykernel_11512\\3825141216.py\u001b[0m in \u001b[0;36m<module>\u001b[1;34m\u001b[0m\n\u001b[1;32m----> 1\u001b[1;33m \u001b[0mmae\u001b[0m \u001b[1;33m=\u001b[0m \u001b[0mmean_absolute_error\u001b[0m\u001b[1;33m(\u001b[0m\u001b[0my_test\u001b[0m\u001b[1;33m,\u001b[0m \u001b[0mall_preds\u001b[0m\u001b[1;33m)\u001b[0m\u001b[1;33m\u001b[0m\u001b[1;33m\u001b[0m\u001b[0m\n\u001b[0m\u001b[0;32m      2\u001b[0m \u001b[0mmae\u001b[0m\u001b[1;33m\u001b[0m\u001b[1;33m\u001b[0m\u001b[0m\n",
      "\u001b[1;31mNameError\u001b[0m: name 'all_preds' is not defined"
     ]
    }
   ],
   "source": [
    "mae = mean_absolute_error(y_test, all_preds)\n",
    "mae"
   ]
  },
  {
   "cell_type": "code",
   "execution_count": 74,
   "id": "f22425fe",
   "metadata": {},
   "outputs": [
    {
     "ename": "NameError",
     "evalue": "name 'truepreds' is not defined",
     "output_type": "error",
     "traceback": [
      "\u001b[1;31m---------------------------------------------------------------------------\u001b[0m",
      "\u001b[1;31mNameError\u001b[0m                                 Traceback (most recent call last)",
      "\u001b[1;32m~\\AppData\\Local\\Temp\\ipykernel_11512\\3460379918.py\u001b[0m in \u001b[0;36m<module>\u001b[1;34m\u001b[0m\n\u001b[1;32m----> 1\u001b[1;33m \u001b[0mtruepreds\u001b[0m\u001b[1;33m.\u001b[0m\u001b[0mshape\u001b[0m\u001b[1;33m[\u001b[0m\u001b[1;36m0\u001b[0m\u001b[1;33m]\u001b[0m\u001b[1;33m,\u001b[0m \u001b[0mfintruepeds\u001b[0m\u001b[1;33m.\u001b[0m\u001b[0mshape\u001b[0m\u001b[1;33m[\u001b[0m\u001b[1;36m0\u001b[0m\u001b[1;33m]\u001b[0m\u001b[1;33m\u001b[0m\u001b[1;33m\u001b[0m\u001b[0m\n\u001b[0m",
      "\u001b[1;31mNameError\u001b[0m: name 'truepreds' is not defined"
     ]
    }
   ],
   "source": [
    "truepreds.shape[0], fintruepeds.shape[0]"
   ]
  },
  {
   "cell_type": "code",
   "execution_count": 75,
   "id": "198e2d9e",
   "metadata": {},
   "outputs": [
    {
     "ename": "NameError",
     "evalue": "name 'truepreds' is not defined",
     "output_type": "error",
     "traceback": [
      "\u001b[1;31m---------------------------------------------------------------------------\u001b[0m",
      "\u001b[1;31mNameError\u001b[0m                                 Traceback (most recent call last)",
      "\u001b[1;32m~\\AppData\\Local\\Temp\\ipykernel_11512\\507168475.py\u001b[0m in \u001b[0;36m<module>\u001b[1;34m\u001b[0m\n\u001b[1;32m----> 1\u001b[1;33m \u001b[1;33m(\u001b[0m\u001b[0mtruepreds\u001b[0m\u001b[1;33m.\u001b[0m\u001b[0mshape\u001b[0m\u001b[1;33m[\u001b[0m\u001b[1;36m0\u001b[0m\u001b[1;33m]\u001b[0m \u001b[1;33m/\u001b[0m \u001b[0mthepredsy\u001b[0m\u001b[1;33m.\u001b[0m\u001b[0mshape\u001b[0m\u001b[1;33m[\u001b[0m\u001b[1;36m0\u001b[0m\u001b[1;33m]\u001b[0m\u001b[1;33m)\u001b[0m \u001b[1;33m*\u001b[0m \u001b[1;36m100\u001b[0m\u001b[1;33m,\u001b[0m \u001b[1;33m(\u001b[0m\u001b[0mfintruepeds\u001b[0m\u001b[1;33m.\u001b[0m\u001b[0mshape\u001b[0m\u001b[1;33m[\u001b[0m\u001b[1;36m0\u001b[0m\u001b[1;33m]\u001b[0m \u001b[1;33m/\u001b[0m \u001b[0mthepredsy\u001b[0m\u001b[1;33m.\u001b[0m\u001b[0mshape\u001b[0m\u001b[1;33m[\u001b[0m\u001b[1;36m0\u001b[0m\u001b[1;33m]\u001b[0m\u001b[1;33m)\u001b[0m \u001b[1;33m*\u001b[0m \u001b[1;36m100\u001b[0m\u001b[1;33m\u001b[0m\u001b[1;33m\u001b[0m\u001b[0m\n\u001b[0m",
      "\u001b[1;31mNameError\u001b[0m: name 'truepreds' is not defined"
     ]
    }
   ],
   "source": [
    "(truepreds.shape[0] / thepredsy.shape[0]) * 100, (fintruepeds.shape[0] / thepredsy.shape[0]) * 100"
   ]
  },
  {
   "cell_type": "code",
   "execution_count": 76,
   "id": "5782f572",
   "metadata": {},
   "outputs": [
    {
     "ename": "ValueError",
     "evalue": "Found array with 0 sample(s) (shape=(0, 13)) while a minimum of 1 is required.",
     "output_type": "error",
     "traceback": [
      "\u001b[1;31m---------------------------------------------------------------------------\u001b[0m",
      "\u001b[1;31mValueError\u001b[0m                                Traceback (most recent call last)",
      "\u001b[1;32m~\\AppData\\Local\\Temp\\ipykernel_11512\\1217447936.py\u001b[0m in \u001b[0;36m<module>\u001b[1;34m\u001b[0m\n\u001b[0;32m      2\u001b[0m \u001b[0mbayesianregvf\u001b[0m \u001b[1;33m=\u001b[0m \u001b[0mbayesianreg\u001b[0m\u001b[1;33m.\u001b[0m\u001b[0mfit\u001b[0m\u001b[1;33m(\u001b[0m\u001b[0mX_train\u001b[0m\u001b[1;33m,\u001b[0m \u001b[0my_train\u001b[0m\u001b[1;33m)\u001b[0m\u001b[1;33m\u001b[0m\u001b[1;33m\u001b[0m\u001b[0m\n\u001b[0;32m      3\u001b[0m \u001b[1;33m\u001b[0m\u001b[0m\n\u001b[1;32m----> 4\u001b[1;33m \u001b[0mall_preds\u001b[0m \u001b[1;33m=\u001b[0m \u001b[0mbayesianregvf\u001b[0m\u001b[1;33m.\u001b[0m\u001b[0mpredict\u001b[0m\u001b[1;33m(\u001b[0m\u001b[0mX_test\u001b[0m\u001b[1;33m)\u001b[0m\u001b[1;33m\u001b[0m\u001b[1;33m\u001b[0m\u001b[0m\n\u001b[0m\u001b[0;32m      5\u001b[0m \u001b[0mthepredsy\u001b[0m \u001b[1;33m=\u001b[0m \u001b[0mpd\u001b[0m\u001b[1;33m.\u001b[0m\u001b[0mDataFrame\u001b[0m\u001b[1;33m(\u001b[0m\u001b[0mall_preds\u001b[0m\u001b[1;33m)\u001b[0m\u001b[1;33m\u001b[0m\u001b[1;33m\u001b[0m\u001b[0m\n\u001b[0;32m      6\u001b[0m \u001b[1;33m\u001b[0m\u001b[0m\n",
      "\u001b[1;32m~\\anaconda3\\lib\\site-packages\\sklearn\\linear_model\\_bayes.py\u001b[0m in \u001b[0;36mpredict\u001b[1;34m(self, X, return_std)\u001b[0m\n\u001b[0;32m    360\u001b[0m             \u001b[0mStandard\u001b[0m \u001b[0mdeviation\u001b[0m \u001b[0mof\u001b[0m \u001b[0mpredictive\u001b[0m \u001b[0mdistribution\u001b[0m \u001b[0mof\u001b[0m \u001b[0mquery\u001b[0m \u001b[0mpoints\u001b[0m\u001b[1;33m.\u001b[0m\u001b[1;33m\u001b[0m\u001b[1;33m\u001b[0m\u001b[0m\n\u001b[0;32m    361\u001b[0m         \"\"\"\n\u001b[1;32m--> 362\u001b[1;33m         \u001b[0my_mean\u001b[0m \u001b[1;33m=\u001b[0m \u001b[0mself\u001b[0m\u001b[1;33m.\u001b[0m\u001b[0m_decision_function\u001b[0m\u001b[1;33m(\u001b[0m\u001b[0mX\u001b[0m\u001b[1;33m)\u001b[0m\u001b[1;33m\u001b[0m\u001b[1;33m\u001b[0m\u001b[0m\n\u001b[0m\u001b[0;32m    363\u001b[0m         \u001b[1;32mif\u001b[0m \u001b[0mreturn_std\u001b[0m \u001b[1;32mis\u001b[0m \u001b[1;32mFalse\u001b[0m\u001b[1;33m:\u001b[0m\u001b[1;33m\u001b[0m\u001b[1;33m\u001b[0m\u001b[0m\n\u001b[0;32m    364\u001b[0m             \u001b[1;32mreturn\u001b[0m \u001b[0my_mean\u001b[0m\u001b[1;33m\u001b[0m\u001b[1;33m\u001b[0m\u001b[0m\n",
      "\u001b[1;32m~\\anaconda3\\lib\\site-packages\\sklearn\\linear_model\\_base.py\u001b[0m in \u001b[0;36m_decision_function\u001b[1;34m(self, X)\u001b[0m\n\u001b[0;32m    343\u001b[0m         \u001b[0mcheck_is_fitted\u001b[0m\u001b[1;33m(\u001b[0m\u001b[0mself\u001b[0m\u001b[1;33m)\u001b[0m\u001b[1;33m\u001b[0m\u001b[1;33m\u001b[0m\u001b[0m\n\u001b[0;32m    344\u001b[0m \u001b[1;33m\u001b[0m\u001b[0m\n\u001b[1;32m--> 345\u001b[1;33m         \u001b[0mX\u001b[0m \u001b[1;33m=\u001b[0m \u001b[0mself\u001b[0m\u001b[1;33m.\u001b[0m\u001b[0m_validate_data\u001b[0m\u001b[1;33m(\u001b[0m\u001b[0mX\u001b[0m\u001b[1;33m,\u001b[0m \u001b[0maccept_sparse\u001b[0m\u001b[1;33m=\u001b[0m\u001b[1;33m[\u001b[0m\u001b[1;34m\"csr\"\u001b[0m\u001b[1;33m,\u001b[0m \u001b[1;34m\"csc\"\u001b[0m\u001b[1;33m,\u001b[0m \u001b[1;34m\"coo\"\u001b[0m\u001b[1;33m]\u001b[0m\u001b[1;33m,\u001b[0m \u001b[0mreset\u001b[0m\u001b[1;33m=\u001b[0m\u001b[1;32mFalse\u001b[0m\u001b[1;33m)\u001b[0m\u001b[1;33m\u001b[0m\u001b[1;33m\u001b[0m\u001b[0m\n\u001b[0m\u001b[0;32m    346\u001b[0m         \u001b[1;32mreturn\u001b[0m \u001b[0msafe_sparse_dot\u001b[0m\u001b[1;33m(\u001b[0m\u001b[0mX\u001b[0m\u001b[1;33m,\u001b[0m \u001b[0mself\u001b[0m\u001b[1;33m.\u001b[0m\u001b[0mcoef_\u001b[0m\u001b[1;33m.\u001b[0m\u001b[0mT\u001b[0m\u001b[1;33m,\u001b[0m \u001b[0mdense_output\u001b[0m\u001b[1;33m=\u001b[0m\u001b[1;32mTrue\u001b[0m\u001b[1;33m)\u001b[0m \u001b[1;33m+\u001b[0m \u001b[0mself\u001b[0m\u001b[1;33m.\u001b[0m\u001b[0mintercept_\u001b[0m\u001b[1;33m\u001b[0m\u001b[1;33m\u001b[0m\u001b[0m\n\u001b[0;32m    347\u001b[0m \u001b[1;33m\u001b[0m\u001b[0m\n",
      "\u001b[1;32m~\\anaconda3\\lib\\site-packages\\sklearn\\base.py\u001b[0m in \u001b[0;36m_validate_data\u001b[1;34m(self, X, y, reset, validate_separately, **check_params)\u001b[0m\n\u001b[0;32m    564\u001b[0m             \u001b[1;32mraise\u001b[0m \u001b[0mValueError\u001b[0m\u001b[1;33m(\u001b[0m\u001b[1;34m\"Validation should be done on X, y or both.\"\u001b[0m\u001b[1;33m)\u001b[0m\u001b[1;33m\u001b[0m\u001b[1;33m\u001b[0m\u001b[0m\n\u001b[0;32m    565\u001b[0m         \u001b[1;32melif\u001b[0m \u001b[1;32mnot\u001b[0m \u001b[0mno_val_X\u001b[0m \u001b[1;32mand\u001b[0m \u001b[0mno_val_y\u001b[0m\u001b[1;33m:\u001b[0m\u001b[1;33m\u001b[0m\u001b[1;33m\u001b[0m\u001b[0m\n\u001b[1;32m--> 566\u001b[1;33m             \u001b[0mX\u001b[0m \u001b[1;33m=\u001b[0m \u001b[0mcheck_array\u001b[0m\u001b[1;33m(\u001b[0m\u001b[0mX\u001b[0m\u001b[1;33m,\u001b[0m \u001b[1;33m**\u001b[0m\u001b[0mcheck_params\u001b[0m\u001b[1;33m)\u001b[0m\u001b[1;33m\u001b[0m\u001b[1;33m\u001b[0m\u001b[0m\n\u001b[0m\u001b[0;32m    567\u001b[0m             \u001b[0mout\u001b[0m \u001b[1;33m=\u001b[0m \u001b[0mX\u001b[0m\u001b[1;33m\u001b[0m\u001b[1;33m\u001b[0m\u001b[0m\n\u001b[0;32m    568\u001b[0m         \u001b[1;32melif\u001b[0m \u001b[0mno_val_X\u001b[0m \u001b[1;32mand\u001b[0m \u001b[1;32mnot\u001b[0m \u001b[0mno_val_y\u001b[0m\u001b[1;33m:\u001b[0m\u001b[1;33m\u001b[0m\u001b[1;33m\u001b[0m\u001b[0m\n",
      "\u001b[1;32m~\\anaconda3\\lib\\site-packages\\sklearn\\utils\\validation.py\u001b[0m in \u001b[0;36mcheck_array\u001b[1;34m(array, accept_sparse, accept_large_sparse, dtype, order, copy, force_all_finite, ensure_2d, allow_nd, ensure_min_samples, ensure_min_features, estimator)\u001b[0m\n\u001b[0;32m    803\u001b[0m         \u001b[0mn_samples\u001b[0m \u001b[1;33m=\u001b[0m \u001b[0m_num_samples\u001b[0m\u001b[1;33m(\u001b[0m\u001b[0marray\u001b[0m\u001b[1;33m)\u001b[0m\u001b[1;33m\u001b[0m\u001b[1;33m\u001b[0m\u001b[0m\n\u001b[0;32m    804\u001b[0m         \u001b[1;32mif\u001b[0m \u001b[0mn_samples\u001b[0m \u001b[1;33m<\u001b[0m \u001b[0mensure_min_samples\u001b[0m\u001b[1;33m:\u001b[0m\u001b[1;33m\u001b[0m\u001b[1;33m\u001b[0m\u001b[0m\n\u001b[1;32m--> 805\u001b[1;33m             raise ValueError(\n\u001b[0m\u001b[0;32m    806\u001b[0m                 \u001b[1;34m\"Found array with %d sample(s) (shape=%s) while a\"\u001b[0m\u001b[1;33m\u001b[0m\u001b[1;33m\u001b[0m\u001b[0m\n\u001b[0;32m    807\u001b[0m                 \u001b[1;34m\" minimum of %d is required%s.\"\u001b[0m\u001b[1;33m\u001b[0m\u001b[1;33m\u001b[0m\u001b[0m\n",
      "\u001b[1;31mValueError\u001b[0m: Found array with 0 sample(s) (shape=(0, 13)) while a minimum of 1 is required."
     ]
    }
   ],
   "source": [
    "bayesianreg = linear_model.BayesianRidge()\n",
    "bayesianregvf = bayesianreg.fit(X_train, y_train)\n",
    "\n",
    "all_preds = bayesianregvf.predict(X_test)\n",
    "thepredsy = pd.DataFrame(all_preds)\n",
    "\n",
    "thepredsy.columns = [\"predictions\"]\n",
    "thepredsy[\"actuals\"] = list(y_test)\n",
    "thepredsy[\"predictions\"] = thepredsy[\"predictions\"].astype(int)\n",
    "thepredsy[\"diff\"] = thepredsy[\"predictions\"] - thepredsy[\"actuals\"]\n",
    "\n",
    "truepreds = thepredsy[thepredsy[\"diff\"]==0]\n",
    "truepreds1 = thepredsy[thepredsy[\"diff\"]==1]\n",
    "truepreds2 = thepredsy[thepredsy[\"diff\"]==-1]\n",
    "fintruepeds = pd.concat([truepreds,truepreds1,truepreds2])\n",
    "\n",
    "truepreds.shape[0], fintruepeds.shape[0]"
   ]
  },
  {
   "cell_type": "code",
   "execution_count": 77,
   "id": "e782a7f6",
   "metadata": {},
   "outputs": [
    {
     "ename": "NameError",
     "evalue": "name 'all_preds' is not defined",
     "output_type": "error",
     "traceback": [
      "\u001b[1;31m---------------------------------------------------------------------------\u001b[0m",
      "\u001b[1;31mNameError\u001b[0m                                 Traceback (most recent call last)",
      "\u001b[1;32m~\\AppData\\Local\\Temp\\ipykernel_11512\\576115797.py\u001b[0m in \u001b[0;36m<module>\u001b[1;34m\u001b[0m\n\u001b[1;32m----> 1\u001b[1;33m \u001b[0mprint\u001b[0m\u001b[1;33m(\u001b[0m\u001b[1;34m\"Coefficient of determination: %.2f\"\u001b[0m \u001b[1;33m%\u001b[0m \u001b[0mr2_score\u001b[0m\u001b[1;33m(\u001b[0m\u001b[0my_test\u001b[0m\u001b[1;33m,\u001b[0m \u001b[0mall_preds\u001b[0m\u001b[1;33m)\u001b[0m\u001b[1;33m)\u001b[0m\u001b[1;33m\u001b[0m\u001b[1;33m\u001b[0m\u001b[0m\n\u001b[0m",
      "\u001b[1;31mNameError\u001b[0m: name 'all_preds' is not defined"
     ]
    }
   ],
   "source": [
    "print(\"Coefficient of determination: %.2f\" % r2_score(y_test, all_preds))"
   ]
  },
  {
   "cell_type": "code",
   "execution_count": 78,
   "id": "713d47cb",
   "metadata": {},
   "outputs": [
    {
     "ename": "NameError",
     "evalue": "name 'all_preds' is not defined",
     "output_type": "error",
     "traceback": [
      "\u001b[1;31m---------------------------------------------------------------------------\u001b[0m",
      "\u001b[1;31mNameError\u001b[0m                                 Traceback (most recent call last)",
      "\u001b[1;32m~\\AppData\\Local\\Temp\\ipykernel_11512\\3825141216.py\u001b[0m in \u001b[0;36m<module>\u001b[1;34m\u001b[0m\n\u001b[1;32m----> 1\u001b[1;33m \u001b[0mmae\u001b[0m \u001b[1;33m=\u001b[0m \u001b[0mmean_absolute_error\u001b[0m\u001b[1;33m(\u001b[0m\u001b[0my_test\u001b[0m\u001b[1;33m,\u001b[0m \u001b[0mall_preds\u001b[0m\u001b[1;33m)\u001b[0m\u001b[1;33m\u001b[0m\u001b[1;33m\u001b[0m\u001b[0m\n\u001b[0m\u001b[0;32m      2\u001b[0m \u001b[0mmae\u001b[0m\u001b[1;33m\u001b[0m\u001b[1;33m\u001b[0m\u001b[0m\n",
      "\u001b[1;31mNameError\u001b[0m: name 'all_preds' is not defined"
     ]
    }
   ],
   "source": [
    "mae = mean_absolute_error(y_test, all_preds)\n",
    "mae"
   ]
  },
  {
   "cell_type": "code",
   "execution_count": 79,
   "id": "9df2a7bc",
   "metadata": {},
   "outputs": [
    {
     "ename": "NameError",
     "evalue": "name 'truepreds' is not defined",
     "output_type": "error",
     "traceback": [
      "\u001b[1;31m---------------------------------------------------------------------------\u001b[0m",
      "\u001b[1;31mNameError\u001b[0m                                 Traceback (most recent call last)",
      "\u001b[1;32m~\\AppData\\Local\\Temp\\ipykernel_11512\\507168475.py\u001b[0m in \u001b[0;36m<module>\u001b[1;34m\u001b[0m\n\u001b[1;32m----> 1\u001b[1;33m \u001b[1;33m(\u001b[0m\u001b[0mtruepreds\u001b[0m\u001b[1;33m.\u001b[0m\u001b[0mshape\u001b[0m\u001b[1;33m[\u001b[0m\u001b[1;36m0\u001b[0m\u001b[1;33m]\u001b[0m \u001b[1;33m/\u001b[0m \u001b[0mthepredsy\u001b[0m\u001b[1;33m.\u001b[0m\u001b[0mshape\u001b[0m\u001b[1;33m[\u001b[0m\u001b[1;36m0\u001b[0m\u001b[1;33m]\u001b[0m\u001b[1;33m)\u001b[0m \u001b[1;33m*\u001b[0m \u001b[1;36m100\u001b[0m\u001b[1;33m,\u001b[0m \u001b[1;33m(\u001b[0m\u001b[0mfintruepeds\u001b[0m\u001b[1;33m.\u001b[0m\u001b[0mshape\u001b[0m\u001b[1;33m[\u001b[0m\u001b[1;36m0\u001b[0m\u001b[1;33m]\u001b[0m \u001b[1;33m/\u001b[0m \u001b[0mthepredsy\u001b[0m\u001b[1;33m.\u001b[0m\u001b[0mshape\u001b[0m\u001b[1;33m[\u001b[0m\u001b[1;36m0\u001b[0m\u001b[1;33m]\u001b[0m\u001b[1;33m)\u001b[0m \u001b[1;33m*\u001b[0m \u001b[1;36m100\u001b[0m\u001b[1;33m\u001b[0m\u001b[1;33m\u001b[0m\u001b[0m\n\u001b[0m",
      "\u001b[1;31mNameError\u001b[0m: name 'truepreds' is not defined"
     ]
    }
   ],
   "source": [
    "(truepreds.shape[0] / thepredsy.shape[0]) * 100, (fintruepeds.shape[0] / thepredsy.shape[0]) * 100"
   ]
  },
  {
   "cell_type": "code",
   "execution_count": 80,
   "id": "94484e14",
   "metadata": {},
   "outputs": [
    {
     "name": "stdout",
     "output_type": "stream",
     "text": [
      "Feature: 0, Score: 85031526149149.78125\n",
      "Feature: 1, Score: -27015770269992.49219\n",
      "Feature: 2, Score: 17.31719\n",
      "Feature: 3, Score: -7.35401\n",
      "Feature: 4, Score: -0.23980\n",
      "Feature: 5, Score: 5.98830\n",
      "Feature: 6, Score: -69802885883541.40625\n",
      "Feature: 7, Score: 0.10466\n",
      "Feature: 8, Score: 4.32350\n",
      "Feature: 9, Score: 1.88426\n",
      "Feature: 10, Score: 1.85954\n",
      "Feature: 11, Score: 0.12066\n",
      "Feature: 12, Score: 0.07052\n"
     ]
    },
    {
     "data": {
      "image/png": "[encoded data removed]",
      "text/plain": [
       "<Figure size 640x480 with 1 Axes>"
      ]
     },
     "metadata": {},
     "output_type": "display_data"
    }
   ],
   "source": [
    "# linear regression feature importance\n",
    "from sklearn.datasets import make_regression\n",
    "from sklearn.linear_model import LinearRegression\n",
    "from matplotlib import pyplot\n",
    "\n",
    "importance = reg.coef_\n",
    "# summarize feature importance\n",
    "for i,v in enumerate(importance):\n",
    "    print('Feature: %0d, Score: %.5f' % (i,v))\n",
    "# plot feature importance\n",
    "pyplot.bar([x for x in range(len(importance))], importance)\n",
    "pyplot.show()"
   ]
  },
  {
   "cell_type": "code",
   "execution_count": null,
   "id": "5472f21c",
   "metadata": {},
   "outputs": [],
   "source": []
  },
  {
   "cell_type": "code",
   "execution_count": null,
   "id": "4f391aff",
   "metadata": {},
   "outputs": [],
   "source": []
  }
 ],
 "metadata": {
  "kernelspec": {
   "display_name": "Python 3 (ipykernel)",
   "language": "python",
   "name": "python3"
  },
  "language_info": {
   "codemirror_mode": {
    "name": "ipython",
    "version": 3
   },
   "file_extension": ".py",
   "mimetype": "text/x-python",
   "name": "python",
   "nbconvert_exporter": "python",
   "pygments_lexer": "ipython3",
   "version": "3.9.13"
  }
 },
 "nbformat": 4,
 "nbformat_minor": 5
}
