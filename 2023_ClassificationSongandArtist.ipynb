{
 "cells": [
  {
   "cell_type": "markdown",
   "id": "d29e0f48",
   "metadata": {},
   "source": [
    "# Feature Engineering for Classification"
   ]
  },
  {
   "cell_type": "code",
   "execution_count": 2,
   "id": "99467b43",
   "metadata": {},
   "outputs": [],
   "source": [
    "import pandas as pd\n",
    "import matplotlib.pyplot as plt\n",
    "from sklearn.metrics import mean_squared_error, r2_score\n",
    "from sklearn.linear_model import LinearRegression\n",
    "import datetime\n",
    "import re\n",
    "from datetime import datetime, timedelta\n",
    "import matplotlib.pyplot as plt\n",
    "from sklearn.cluster import KMeans\n",
    "from sklearn import linear_model\n",
    "from sklearn.preprocessing import StandardScaler, MinMaxScaler\n",
    "%matplotlib inline"
   ]
  },
  {
   "cell_type": "code",
   "execution_count": 3,
   "id": "31354213",
   "metadata": {},
   "outputs": [],
   "source": [
    "za_data = pd.read_csv(\"Classification/all_files_ZAv1.csv\")"
   ]
  },
  {
   "cell_type": "code",
   "execution_count": 4,
   "id": "b1295b4b",
   "metadata": {},
   "outputs": [
    {
     "data": {
      "text/plain": [
       "Index(['trackAppearanceCount', 'artistAppearanceCount', 'artist_names',\n",
       "       'track_name', 'rank', 'uri', 'source', 'peak_rank', 'previous_rank',\n",
       "       'weeks_on_chart', 'streams', 'End Date', 'Week', 'Year', 'End Date Dt',\n",
       "       'Seconds since Epoch', 'End Date Aggregated', 'ArtistCount',\n",
       "       'main_artist', 'isTopTen', 'Artist and Track', 'rank difference',\n",
       "       'Position over Time', 'IsGirlGroup', 'IsBoyGroup'],\n",
       "      dtype='object')"
      ]
     },
     "execution_count": 4,
     "metadata": {},
     "output_type": "execute_result"
    }
   ],
   "source": [
    "za_data.columns"
   ]
  },
  {
   "cell_type": "code",
   "execution_count": 5,
   "id": "0ee6f42e",
   "metadata": {},
   "outputs": [
    {
     "data": {
      "text/plain": [
       "25"
      ]
     },
     "execution_count": 5,
     "metadata": {},
     "output_type": "execute_result"
    }
   ],
   "source": [
    "len(list(za_data.columns))"
   ]
  },
  {
   "cell_type": "code",
   "execution_count": 6,
   "id": "537d20de",
   "metadata": {},
   "outputs": [],
   "source": [
    "za_data[\"End Date Dt\"] = za_data[\"End Date Dt\"].apply(lambda x : datetime.strptime(x, '%Y-%m-%d'))"
   ]
  },
  {
   "cell_type": "code",
   "execution_count": 7,
   "id": "14f21b1f",
   "metadata": {},
   "outputs": [
    {
     "data": {
      "text/plain": [
       "(70686, 25)"
      ]
     },
     "execution_count": 7,
     "metadata": {},
     "output_type": "execute_result"
    }
   ],
   "source": [
    "za_data.shape"
   ]
  },
  {
   "cell_type": "code",
   "execution_count": 8,
   "id": "c6b8b1fd",
   "metadata": {},
   "outputs": [],
   "source": [
    "za_data_test = za_data[za_data['End Date Dt'] > datetime(2023, 5, 31)]\n",
    "\n",
    "za_data_test_first_time = za_data_test[za_data_test[\"trackAppearanceCount\"] == 0]\n",
    "za_data_test_first_time_df = za_data_test_first_time[['main_artist', 'track_name', \"trackAppearanceCount\", \"artistAppearanceCount\", \"rank\", \"peak_rank\", 'previous_rank', 'weeks_on_chart', 'streams', 'ArtistCount', 'isTopTen', 'rank difference']]\n",
    "\n",
    "\n",
    "za_data_test = za_data_test[za_data_test[\"trackAppearanceCount\"] != 0]\n",
    "za_data = za_data[za_data['End Date Dt'] <= datetime(2023, 5, 31)]"
   ]
  },
  {
   "cell_type": "code",
   "execution_count": 9,
   "id": "ccd6cfe1",
   "metadata": {},
   "outputs": [],
   "source": [
    "za_data_df = za_data[['main_artist', 'track_name', \"trackAppearanceCount\", \"artistAppearanceCount\", \"rank\", \"peak_rank\", 'previous_rank', 'weeks_on_chart', 'streams', 'ArtistCount', 'isTopTen', 'rank difference']]\n",
    "za_data_test_df = za_data_test[['main_artist', 'track_name', \"trackAppearanceCount\", \"artistAppearanceCount\", \"rank\", \"peak_rank\", 'previous_rank', 'weeks_on_chart', 'streams', 'ArtistCount', 'isTopTen', 'rank difference']]"
   ]
  },
  {
   "cell_type": "code",
   "execution_count": 10,
   "id": "c0bd9ec0",
   "metadata": {},
   "outputs": [],
   "source": [
    "# za_data[\"End Date\"].unique().tolist()"
   ]
  },
  {
   "cell_type": "code",
   "execution_count": 11,
   "id": "cad1d76b",
   "metadata": {},
   "outputs": [
    {
     "data": {
      "text/html": [
       "<div>\n",
       "<style scoped>\n",
       "    .dataframe tbody tr th:only-of-type {\n",
       "        vertical-align: middle;\n",
       "    }\n",
       "\n",
       "    .dataframe tbody tr th {\n",
       "        vertical-align: top;\n",
       "    }\n",
       "\n",
       "    .dataframe thead th {\n",
       "        text-align: right;\n",
       "    }\n",
       "</style>\n",
       "<table border=\"1\" class=\"dataframe\">\n",
       "  <thead>\n",
       "    <tr style=\"text-align: right;\">\n",
       "      <th></th>\n",
       "      <th>main_artist</th>\n",
       "      <th>track_name</th>\n",
       "      <th>trackAppearanceCount</th>\n",
       "      <th>artistAppearanceCount</th>\n",
       "      <th>rank</th>\n",
       "      <th>peak_rank</th>\n",
       "      <th>previous_rank</th>\n",
       "      <th>weeks_on_chart</th>\n",
       "      <th>streams</th>\n",
       "      <th>ArtistCount</th>\n",
       "      <th>isTopTen</th>\n",
       "      <th>rank difference</th>\n",
       "    </tr>\n",
       "  </thead>\n",
       "  <tbody>\n",
       "    <tr>\n",
       "      <th>0</th>\n",
       "      <td>$</td>\n",
       "      <td>BACK TO ME</td>\n",
       "      <td>0</td>\n",
       "      <td>0</td>\n",
       "      <td>38</td>\n",
       "      <td>38</td>\n",
       "      <td>-1</td>\n",
       "      <td>1</td>\n",
       "      <td>133735</td>\n",
       "      <td>1</td>\n",
       "      <td>0</td>\n",
       "      <td>0</td>\n",
       "    </tr>\n",
       "    <tr>\n",
       "      <th>2</th>\n",
       "      <td>$</td>\n",
       "      <td>BEG FORGIVENESS</td>\n",
       "      <td>0</td>\n",
       "      <td>2</td>\n",
       "      <td>74</td>\n",
       "      <td>74</td>\n",
       "      <td>-1</td>\n",
       "      <td>1</td>\n",
       "      <td>95997</td>\n",
       "      <td>1</td>\n",
       "      <td>0</td>\n",
       "      <td>0</td>\n",
       "    </tr>\n",
       "    <tr>\n",
       "      <th>3</th>\n",
       "      <td>$</td>\n",
       "      <td>BURN</td>\n",
       "      <td>0</td>\n",
       "      <td>3</td>\n",
       "      <td>79</td>\n",
       "      <td>79</td>\n",
       "      <td>-1</td>\n",
       "      <td>1</td>\n",
       "      <td>91850</td>\n",
       "      <td>1</td>\n",
       "      <td>0</td>\n",
       "      <td>0</td>\n",
       "    </tr>\n",
       "    <tr>\n",
       "      <th>6</th>\n",
       "      <td>$</td>\n",
       "      <td>CARNIVAL</td>\n",
       "      <td>0</td>\n",
       "      <td>6</td>\n",
       "      <td>14</td>\n",
       "      <td>14</td>\n",
       "      <td>-1</td>\n",
       "      <td>1</td>\n",
       "      <td>203139</td>\n",
       "      <td>1</td>\n",
       "      <td>0</td>\n",
       "      <td>0</td>\n",
       "    </tr>\n",
       "    <tr>\n",
       "      <th>7</th>\n",
       "      <td>$</td>\n",
       "      <td>CARNIVAL</td>\n",
       "      <td>0</td>\n",
       "      <td>22</td>\n",
       "      <td>12</td>\n",
       "      <td>12</td>\n",
       "      <td>14</td>\n",
       "      <td>2</td>\n",
       "      <td>223967</td>\n",
       "      <td>1</td>\n",
       "      <td>1</td>\n",
       "      <td>-2</td>\n",
       "    </tr>\n",
       "    <tr>\n",
       "      <th>...</th>\n",
       "      <td>...</td>\n",
       "      <td>...</td>\n",
       "      <td>...</td>\n",
       "      <td>...</td>\n",
       "      <td>...</td>\n",
       "      <td>...</td>\n",
       "      <td>...</td>\n",
       "      <td>...</td>\n",
       "      <td>...</td>\n",
       "      <td>...</td>\n",
       "      <td>...</td>\n",
       "      <td>...</td>\n",
       "    </tr>\n",
       "    <tr>\n",
       "      <th>70109</th>\n",
       "      <td>Zee Nxumalo</td>\n",
       "      <td>Thula Mabota</td>\n",
       "      <td>0</td>\n",
       "      <td>0</td>\n",
       "      <td>23</td>\n",
       "      <td>23</td>\n",
       "      <td>-1</td>\n",
       "      <td>1</td>\n",
       "      <td>197091</td>\n",
       "      <td>1</td>\n",
       "      <td>0</td>\n",
       "      <td>0</td>\n",
       "    </tr>\n",
       "    <tr>\n",
       "      <th>70162</th>\n",
       "      <td>Zoli White Smoke</td>\n",
       "      <td>Re Hwela Eng</td>\n",
       "      <td>0</td>\n",
       "      <td>0</td>\n",
       "      <td>183</td>\n",
       "      <td>183</td>\n",
       "      <td>-1</td>\n",
       "      <td>1</td>\n",
       "      <td>92034</td>\n",
       "      <td>1</td>\n",
       "      <td>0</td>\n",
       "      <td>0</td>\n",
       "    </tr>\n",
       "    <tr>\n",
       "      <th>70172</th>\n",
       "      <td>Zoli White Smoke</td>\n",
       "      <td>Re Pluggeng</td>\n",
       "      <td>0</td>\n",
       "      <td>10</td>\n",
       "      <td>160</td>\n",
       "      <td>160</td>\n",
       "      <td>-1</td>\n",
       "      <td>1</td>\n",
       "      <td>109800</td>\n",
       "      <td>1</td>\n",
       "      <td>0</td>\n",
       "      <td>0</td>\n",
       "    </tr>\n",
       "    <tr>\n",
       "      <th>70185</th>\n",
       "      <td>Zwide</td>\n",
       "      <td>Wenhliziyo Yami</td>\n",
       "      <td>0</td>\n",
       "      <td>0</td>\n",
       "      <td>64</td>\n",
       "      <td>64</td>\n",
       "      <td>-1</td>\n",
       "      <td>1</td>\n",
       "      <td>103484</td>\n",
       "      <td>1</td>\n",
       "      <td>0</td>\n",
       "      <td>0</td>\n",
       "    </tr>\n",
       "    <tr>\n",
       "      <th>70649</th>\n",
       "      <td>the King will come</td>\n",
       "      <td>Yet</td>\n",
       "      <td>0</td>\n",
       "      <td>0</td>\n",
       "      <td>192</td>\n",
       "      <td>192</td>\n",
       "      <td>-1</td>\n",
       "      <td>1</td>\n",
       "      <td>42319</td>\n",
       "      <td>1</td>\n",
       "      <td>0</td>\n",
       "      <td>0</td>\n",
       "    </tr>\n",
       "  </tbody>\n",
       "</table>\n",
       "<p>1249 rows × 12 columns</p>\n",
       "</div>"
      ],
      "text/plain": [
       "              main_artist       track_name  trackAppearanceCount  \\\n",
       "0                       $       BACK TO ME                     0   \n",
       "2                       $  BEG FORGIVENESS                     0   \n",
       "3                       $             BURN                     0   \n",
       "6                       $         CARNIVAL                     0   \n",
       "7                       $         CARNIVAL                     0   \n",
       "...                   ...              ...                   ...   \n",
       "70109         Zee Nxumalo     Thula Mabota                     0   \n",
       "70162    Zoli White Smoke     Re Hwela Eng                     0   \n",
       "70172    Zoli White Smoke      Re Pluggeng                     0   \n",
       "70185               Zwide  Wenhliziyo Yami                     0   \n",
       "70649  the King will come              Yet                     0   \n",
       "\n",
       "       artistAppearanceCount  rank  peak_rank  previous_rank  weeks_on_chart  \\\n",
       "0                          0    38         38             -1               1   \n",
       "2                          2    74         74             -1               1   \n",
       "3                          3    79         79             -1               1   \n",
       "6                          6    14         14             -1               1   \n",
       "7                         22    12         12             14               2   \n",
       "...                      ...   ...        ...            ...             ...   \n",
       "70109                      0    23         23             -1               1   \n",
       "70162                      0   183        183             -1               1   \n",
       "70172                     10   160        160             -1               1   \n",
       "70185                      0    64         64             -1               1   \n",
       "70649                      0   192        192             -1               1   \n",
       "\n",
       "       streams  ArtistCount  isTopTen  rank difference  \n",
       "0       133735            1         0                0  \n",
       "2        95997            1         0                0  \n",
       "3        91850            1         0                0  \n",
       "6       203139            1         0                0  \n",
       "7       223967            1         1               -2  \n",
       "...        ...          ...       ...              ...  \n",
       "70109   197091            1         0                0  \n",
       "70162    92034            1         0                0  \n",
       "70172   109800            1         0                0  \n",
       "70185   103484            1         0                0  \n",
       "70649    42319            1         0                0  \n",
       "\n",
       "[1249 rows x 12 columns]"
      ]
     },
     "execution_count": 11,
     "metadata": {},
     "output_type": "execute_result"
    }
   ],
   "source": [
    "za_data_test_first_time_df"
   ]
  },
  {
   "cell_type": "code",
   "execution_count": 12,
   "id": "a098d4cc",
   "metadata": {},
   "outputs": [],
   "source": [
    "groupby_cols = ['main_artist', 'track_name']"
   ]
  },
  {
   "cell_type": "code",
   "execution_count": 13,
   "id": "2676061d",
   "metadata": {},
   "outputs": [
    {
     "data": {
      "text/html": [
       "<div>\n",
       "<style scoped>\n",
       "    .dataframe tbody tr th:only-of-type {\n",
       "        vertical-align: middle;\n",
       "    }\n",
       "\n",
       "    .dataframe tbody tr th {\n",
       "        vertical-align: top;\n",
       "    }\n",
       "\n",
       "    .dataframe thead th {\n",
       "        text-align: right;\n",
       "    }\n",
       "</style>\n",
       "<table border=\"1\" class=\"dataframe\">\n",
       "  <thead>\n",
       "    <tr style=\"text-align: right;\">\n",
       "      <th></th>\n",
       "      <th>trackAppearanceCount</th>\n",
       "      <th>artistAppearanceCount</th>\n",
       "      <th>artist_names</th>\n",
       "      <th>track_name</th>\n",
       "      <th>rank</th>\n",
       "      <th>uri</th>\n",
       "      <th>source</th>\n",
       "      <th>peak_rank</th>\n",
       "      <th>previous_rank</th>\n",
       "      <th>weeks_on_chart</th>\n",
       "      <th>...</th>\n",
       "      <th>Seconds since Epoch</th>\n",
       "      <th>End Date Aggregated</th>\n",
       "      <th>ArtistCount</th>\n",
       "      <th>main_artist</th>\n",
       "      <th>isTopTen</th>\n",
       "      <th>Artist and Track</th>\n",
       "      <th>rank difference</th>\n",
       "      <th>Position over Time</th>\n",
       "      <th>IsGirlGroup</th>\n",
       "      <th>IsBoyGroup</th>\n",
       "    </tr>\n",
       "  </thead>\n",
       "  <tbody>\n",
       "    <tr>\n",
       "      <th>0</th>\n",
       "      <td>0</td>\n",
       "      <td>0</td>\n",
       "      <td>$, Kanye West, Ty Dolla $ign</td>\n",
       "      <td>BACK TO ME</td>\n",
       "      <td>38</td>\n",
       "      <td>spotify:track:1icgLGTpX2fQXKRe4D7w2b</td>\n",
       "      <td>Ye</td>\n",
       "      <td>38</td>\n",
       "      <td>-1</td>\n",
       "      <td>1</td>\n",
       "      <td>...</td>\n",
       "      <td>1.707955e+09</td>\n",
       "      <td>2024-02-01</td>\n",
       "      <td>1</td>\n",
       "      <td>$</td>\n",
       "      <td>0</td>\n",
       "      <td>$, Kanye West, Ty Dolla $ign; BACK TO ME</td>\n",
       "      <td>0</td>\n",
       "      <td>0</td>\n",
       "      <td>False</td>\n",
       "      <td>False</td>\n",
       "    </tr>\n",
       "    <tr>\n",
       "      <th>2</th>\n",
       "      <td>0</td>\n",
       "      <td>2</td>\n",
       "      <td>$, Kanye West, Ty Dolla $ign</td>\n",
       "      <td>BEG FORGIVENESS</td>\n",
       "      <td>74</td>\n",
       "      <td>spotify:track:4ihV1wv7QmjbkLHaT9lA4s</td>\n",
       "      <td>Ye</td>\n",
       "      <td>74</td>\n",
       "      <td>-1</td>\n",
       "      <td>1</td>\n",
       "      <td>...</td>\n",
       "      <td>1.707955e+09</td>\n",
       "      <td>2024-02-01</td>\n",
       "      <td>1</td>\n",
       "      <td>$</td>\n",
       "      <td>0</td>\n",
       "      <td>$, Kanye West, Ty Dolla $ign; BEG FORGIVENESS</td>\n",
       "      <td>0</td>\n",
       "      <td>0</td>\n",
       "      <td>False</td>\n",
       "      <td>False</td>\n",
       "    </tr>\n",
       "    <tr>\n",
       "      <th>3</th>\n",
       "      <td>0</td>\n",
       "      <td>3</td>\n",
       "      <td>$, Kanye West, Ty Dolla $ign</td>\n",
       "      <td>BURN</td>\n",
       "      <td>79</td>\n",
       "      <td>spotify:track:04CyMEHliadfQWMUJb1w99</td>\n",
       "      <td>Ye</td>\n",
       "      <td>79</td>\n",
       "      <td>-1</td>\n",
       "      <td>1</td>\n",
       "      <td>...</td>\n",
       "      <td>1.707955e+09</td>\n",
       "      <td>2024-02-01</td>\n",
       "      <td>1</td>\n",
       "      <td>$</td>\n",
       "      <td>0</td>\n",
       "      <td>$, Kanye West, Ty Dolla $ign; BURN</td>\n",
       "      <td>0</td>\n",
       "      <td>0</td>\n",
       "      <td>False</td>\n",
       "      <td>False</td>\n",
       "    </tr>\n",
       "    <tr>\n",
       "      <th>6</th>\n",
       "      <td>0</td>\n",
       "      <td>6</td>\n",
       "      <td>$, Kanye West, Ty Dolla $ign</td>\n",
       "      <td>CARNIVAL</td>\n",
       "      <td>14</td>\n",
       "      <td>spotify:track:3w0w2T288dec0mgeZZqoNN</td>\n",
       "      <td>Ye</td>\n",
       "      <td>14</td>\n",
       "      <td>-1</td>\n",
       "      <td>1</td>\n",
       "      <td>...</td>\n",
       "      <td>1.707955e+09</td>\n",
       "      <td>2024-02-01</td>\n",
       "      <td>1</td>\n",
       "      <td>$</td>\n",
       "      <td>0</td>\n",
       "      <td>$, Kanye West, Ty Dolla $ign; CARNIVAL</td>\n",
       "      <td>0</td>\n",
       "      <td>0</td>\n",
       "      <td>False</td>\n",
       "      <td>False</td>\n",
       "    </tr>\n",
       "    <tr>\n",
       "      <th>7</th>\n",
       "      <td>0</td>\n",
       "      <td>22</td>\n",
       "      <td>$, Kanye West, Ty Dolla $ign, Rich The Kid, Pl...</td>\n",
       "      <td>CARNIVAL</td>\n",
       "      <td>12</td>\n",
       "      <td>spotify:track:3w0w2T288dec0mgeZZqoNN</td>\n",
       "      <td>Ye</td>\n",
       "      <td>12</td>\n",
       "      <td>14</td>\n",
       "      <td>2</td>\n",
       "      <td>...</td>\n",
       "      <td>1.708560e+09</td>\n",
       "      <td>2024-02-01</td>\n",
       "      <td>1</td>\n",
       "      <td>$</td>\n",
       "      <td>1</td>\n",
       "      <td>$, Kanye West, Ty Dolla $ign, Rich The Kid, Pl...</td>\n",
       "      <td>-2</td>\n",
       "      <td>75</td>\n",
       "      <td>False</td>\n",
       "      <td>False</td>\n",
       "    </tr>\n",
       "    <tr>\n",
       "      <th>...</th>\n",
       "      <td>...</td>\n",
       "      <td>...</td>\n",
       "      <td>...</td>\n",
       "      <td>...</td>\n",
       "      <td>...</td>\n",
       "      <td>...</td>\n",
       "      <td>...</td>\n",
       "      <td>...</td>\n",
       "      <td>...</td>\n",
       "      <td>...</td>\n",
       "      <td>...</td>\n",
       "      <td>...</td>\n",
       "      <td>...</td>\n",
       "      <td>...</td>\n",
       "      <td>...</td>\n",
       "      <td>...</td>\n",
       "      <td>...</td>\n",
       "      <td>...</td>\n",
       "      <td>...</td>\n",
       "      <td>...</td>\n",
       "      <td>...</td>\n",
       "    </tr>\n",
       "    <tr>\n",
       "      <th>70109</th>\n",
       "      <td>0</td>\n",
       "      <td>0</td>\n",
       "      <td>Zee Nxumalo, Pabi Cooper, 031CHOPPA, Shakes &amp; Les</td>\n",
       "      <td>Thula Mabota</td>\n",
       "      <td>23</td>\n",
       "      <td>spotify:track:4xXHrIiIeW7dMh5FoYI5m1</td>\n",
       "      <td>KwaNxumalo</td>\n",
       "      <td>23</td>\n",
       "      <td>-1</td>\n",
       "      <td>1</td>\n",
       "      <td>...</td>\n",
       "      <td>1.712189e+09</td>\n",
       "      <td>2024-04-01</td>\n",
       "      <td>1</td>\n",
       "      <td>Zee Nxumalo</td>\n",
       "      <td>0</td>\n",
       "      <td>Zee Nxumalo, Pabi Cooper, 031CHOPPA, Shakes &amp; ...</td>\n",
       "      <td>0</td>\n",
       "      <td>0</td>\n",
       "      <td>False</td>\n",
       "      <td>False</td>\n",
       "    </tr>\n",
       "    <tr>\n",
       "      <th>70162</th>\n",
       "      <td>0</td>\n",
       "      <td>0</td>\n",
       "      <td>Zoli White Smoke, SmeezyOn The Beat, Kharishma</td>\n",
       "      <td>Re Hwela Eng</td>\n",
       "      <td>183</td>\n",
       "      <td>spotify:track:67usqaeLDTKzzTVCIM84Xe</td>\n",
       "      <td>5542405 Records DK</td>\n",
       "      <td>183</td>\n",
       "      <td>-1</td>\n",
       "      <td>1</td>\n",
       "      <td>...</td>\n",
       "      <td>1.729123e+09</td>\n",
       "      <td>2024-10-01</td>\n",
       "      <td>1</td>\n",
       "      <td>Zoli White Smoke</td>\n",
       "      <td>0</td>\n",
       "      <td>Zoli White Smoke, SmeezyOn The Beat, Kharishma...</td>\n",
       "      <td>0</td>\n",
       "      <td>0</td>\n",
       "      <td>False</td>\n",
       "      <td>False</td>\n",
       "    </tr>\n",
       "    <tr>\n",
       "      <th>70172</th>\n",
       "      <td>0</td>\n",
       "      <td>10</td>\n",
       "      <td>Zoli White Smoke, SmeezyOn The Beat, Tribby Wa...</td>\n",
       "      <td>Re Pluggeng</td>\n",
       "      <td>160</td>\n",
       "      <td>spotify:track:6vSTXKCmQybvAjQwRB8aHa</td>\n",
       "      <td>5542405 Records DK</td>\n",
       "      <td>160</td>\n",
       "      <td>-1</td>\n",
       "      <td>1</td>\n",
       "      <td>...</td>\n",
       "      <td>1.734566e+09</td>\n",
       "      <td>2024-12-01</td>\n",
       "      <td>1</td>\n",
       "      <td>Zoli White Smoke</td>\n",
       "      <td>0</td>\n",
       "      <td>Zoli White Smoke, SmeezyOn The Beat, Tribby Wa...</td>\n",
       "      <td>0</td>\n",
       "      <td>0</td>\n",
       "      <td>False</td>\n",
       "      <td>False</td>\n",
       "    </tr>\n",
       "    <tr>\n",
       "      <th>70185</th>\n",
       "      <td>0</td>\n",
       "      <td>0</td>\n",
       "      <td>Zwide, Umafikizolo, uMehlabomvu</td>\n",
       "      <td>Wenhliziyo Yami</td>\n",
       "      <td>64</td>\n",
       "      <td>spotify:track:1tvDDR0ZAowEqKLN15g7tH</td>\n",
       "      <td>6551244 Records DK</td>\n",
       "      <td>64</td>\n",
       "      <td>-1</td>\n",
       "      <td>1</td>\n",
       "      <td>...</td>\n",
       "      <td>1.709165e+09</td>\n",
       "      <td>2024-02-01</td>\n",
       "      <td>1</td>\n",
       "      <td>Zwide</td>\n",
       "      <td>0</td>\n",
       "      <td>Zwide, Umafikizolo, uMehlabomvu; Wenhliziyo Yami</td>\n",
       "      <td>0</td>\n",
       "      <td>0</td>\n",
       "      <td>False</td>\n",
       "      <td>False</td>\n",
       "    </tr>\n",
       "    <tr>\n",
       "      <th>70649</th>\n",
       "      <td>0</td>\n",
       "      <td>0</td>\n",
       "      <td>the King will come</td>\n",
       "      <td>Yet</td>\n",
       "      <td>192</td>\n",
       "      <td>spotify:track:6I2GrwoJw23AKpqpE14KFq</td>\n",
       "      <td>the King will come</td>\n",
       "      <td>192</td>\n",
       "      <td>-1</td>\n",
       "      <td>1</td>\n",
       "      <td>...</td>\n",
       "      <td>1.689811e+09</td>\n",
       "      <td>2023-07-01</td>\n",
       "      <td>1</td>\n",
       "      <td>the King will come</td>\n",
       "      <td>0</td>\n",
       "      <td>the King will come; Yet</td>\n",
       "      <td>0</td>\n",
       "      <td>0</td>\n",
       "      <td>False</td>\n",
       "      <td>False</td>\n",
       "    </tr>\n",
       "  </tbody>\n",
       "</table>\n",
       "<p>1249 rows × 25 columns</p>\n",
       "</div>"
      ],
      "text/plain": [
       "       trackAppearanceCount  artistAppearanceCount  \\\n",
       "0                         0                      0   \n",
       "2                         0                      2   \n",
       "3                         0                      3   \n",
       "6                         0                      6   \n",
       "7                         0                     22   \n",
       "...                     ...                    ...   \n",
       "70109                     0                      0   \n",
       "70162                     0                      0   \n",
       "70172                     0                     10   \n",
       "70185                     0                      0   \n",
       "70649                     0                      0   \n",
       "\n",
       "                                            artist_names       track_name  \\\n",
       "0                           $, Kanye West, Ty Dolla $ign       BACK TO ME   \n",
       "2                           $, Kanye West, Ty Dolla $ign  BEG FORGIVENESS   \n",
       "3                           $, Kanye West, Ty Dolla $ign             BURN   \n",
       "6                           $, Kanye West, Ty Dolla $ign         CARNIVAL   \n",
       "7      $, Kanye West, Ty Dolla $ign, Rich The Kid, Pl...         CARNIVAL   \n",
       "...                                                  ...              ...   \n",
       "70109  Zee Nxumalo, Pabi Cooper, 031CHOPPA, Shakes & Les     Thula Mabota   \n",
       "70162     Zoli White Smoke, SmeezyOn The Beat, Kharishma     Re Hwela Eng   \n",
       "70172  Zoli White Smoke, SmeezyOn The Beat, Tribby Wa...      Re Pluggeng   \n",
       "70185                    Zwide, Umafikizolo, uMehlabomvu  Wenhliziyo Yami   \n",
       "70649                                 the King will come              Yet   \n",
       "\n",
       "       rank                                   uri              source  \\\n",
       "0        38  spotify:track:1icgLGTpX2fQXKRe4D7w2b                  Ye   \n",
       "2        74  spotify:track:4ihV1wv7QmjbkLHaT9lA4s                  Ye   \n",
       "3        79  spotify:track:04CyMEHliadfQWMUJb1w99                  Ye   \n",
       "6        14  spotify:track:3w0w2T288dec0mgeZZqoNN                  Ye   \n",
       "7        12  spotify:track:3w0w2T288dec0mgeZZqoNN                  Ye   \n",
       "...     ...                                   ...                 ...   \n",
       "70109    23  spotify:track:4xXHrIiIeW7dMh5FoYI5m1          KwaNxumalo   \n",
       "70162   183  spotify:track:67usqaeLDTKzzTVCIM84Xe  5542405 Records DK   \n",
       "70172   160  spotify:track:6vSTXKCmQybvAjQwRB8aHa  5542405 Records DK   \n",
       "70185    64  spotify:track:1tvDDR0ZAowEqKLN15g7tH  6551244 Records DK   \n",
       "70649   192  spotify:track:6I2GrwoJw23AKpqpE14KFq  the King will come   \n",
       "\n",
       "       peak_rank  previous_rank  weeks_on_chart  ...  Seconds since Epoch  \\\n",
       "0             38             -1               1  ...         1.707955e+09   \n",
       "2             74             -1               1  ...         1.707955e+09   \n",
       "3             79             -1               1  ...         1.707955e+09   \n",
       "6             14             -1               1  ...         1.707955e+09   \n",
       "7             12             14               2  ...         1.708560e+09   \n",
       "...          ...            ...             ...  ...                  ...   \n",
       "70109         23             -1               1  ...         1.712189e+09   \n",
       "70162        183             -1               1  ...         1.729123e+09   \n",
       "70172        160             -1               1  ...         1.734566e+09   \n",
       "70185         64             -1               1  ...         1.709165e+09   \n",
       "70649        192             -1               1  ...         1.689811e+09   \n",
       "\n",
       "      End Date Aggregated  ArtistCount         main_artist isTopTen  \\\n",
       "0              2024-02-01            1                   $        0   \n",
       "2              2024-02-01            1                   $        0   \n",
       "3              2024-02-01            1                   $        0   \n",
       "6              2024-02-01            1                   $        0   \n",
       "7              2024-02-01            1                   $        1   \n",
       "...                   ...          ...                 ...      ...   \n",
       "70109          2024-04-01            1         Zee Nxumalo        0   \n",
       "70162          2024-10-01            1    Zoli White Smoke        0   \n",
       "70172          2024-12-01            1    Zoli White Smoke        0   \n",
       "70185          2024-02-01            1               Zwide        0   \n",
       "70649          2023-07-01            1  the King will come        0   \n",
       "\n",
       "                                        Artist and Track rank difference  \\\n",
       "0               $, Kanye West, Ty Dolla $ign; BACK TO ME               0   \n",
       "2          $, Kanye West, Ty Dolla $ign; BEG FORGIVENESS               0   \n",
       "3                     $, Kanye West, Ty Dolla $ign; BURN               0   \n",
       "6                 $, Kanye West, Ty Dolla $ign; CARNIVAL               0   \n",
       "7      $, Kanye West, Ty Dolla $ign, Rich The Kid, Pl...              -2   \n",
       "...                                                  ...             ...   \n",
       "70109  Zee Nxumalo, Pabi Cooper, 031CHOPPA, Shakes & ...               0   \n",
       "70162  Zoli White Smoke, SmeezyOn The Beat, Kharishma...               0   \n",
       "70172  Zoli White Smoke, SmeezyOn The Beat, Tribby Wa...               0   \n",
       "70185   Zwide, Umafikizolo, uMehlabomvu; Wenhliziyo Yami               0   \n",
       "70649                            the King will come; Yet               0   \n",
       "\n",
       "       Position over Time IsGirlGroup  IsBoyGroup  \n",
       "0                       0       False       False  \n",
       "2                       0       False       False  \n",
       "3                       0       False       False  \n",
       "6                       0       False       False  \n",
       "7                      75       False       False  \n",
       "...                   ...         ...         ...  \n",
       "70109                   0       False       False  \n",
       "70162                   0       False       False  \n",
       "70172                   0       False       False  \n",
       "70185                   0       False       False  \n",
       "70649                   0       False       False  \n",
       "\n",
       "[1249 rows x 25 columns]"
      ]
     },
     "execution_count": 13,
     "metadata": {},
     "output_type": "execute_result"
    }
   ],
   "source": [
    "za_data_test_first_time"
   ]
  },
  {
   "cell_type": "markdown",
   "id": "713f4af7",
   "metadata": {},
   "source": [
    "### 0. Entry Position into Chart"
   ]
  },
  {
   "cell_type": "code",
   "execution_count": 15,
   "id": "8646c4ea",
   "metadata": {},
   "outputs": [],
   "source": [
    "def findingtheentrypos(za_data):\n",
    "    \n",
    "    groupednum_songs = za_data.groupby(groupby_cols)[\"End Date\"].agg(\"min\")\n",
    "    groupednum_songs_df = pd.DataFrame(groupednum_songs).reset_index()\n",
    "    groupednum_songs_df.columns = groupby_cols + [\"Artist Song Start Date\"]\n",
    "    \n",
    "    groupednum_songs_df = groupednum_songs_df.drop_duplicates()\n",
    "    groupednum_songs_df.shape\n",
    "    \n",
    "    groupednum_songs_ls = groupednum_songs_df.values.tolist()\n",
    "    \n",
    "    thefirstones = []\n",
    "    for artsongls in groupednum_songs_ls:\n",
    "        theartist = artsongls[0]\n",
    "        thetrack = artsongls[1]\n",
    "        thestartdate = artsongls[2]\n",
    "        thefirstones.append(za_data[(za_data[\"main_artist\"] == theartist) & (za_data[\"track_name\"] == thetrack) & (za_data[\"End Date\"] == thestartdate)])\n",
    "        \n",
    "    first_track_position_df = pd.concat(thefirstones)\n",
    "    \n",
    "    first_track_position_df_relevant = first_track_position_df[[\"main_artist\", \"track_name\", \"rank\", \"End Date\"]]\n",
    "    first_track_position_df_relevant.columns = [\"main_artist\", \"track_name\", \"entry rank\", \"End Date\"]\n",
    "    \n",
    "    groupednum_songs = za_data.groupby(groupby_cols)[\"End Date\"].agg(\"count\")\n",
    "    groupednum_songs_df = pd.DataFrame(groupednum_songs).reset_index()\n",
    "    groupednum_songs_df.columns = groupby_cols + [\"Artist Song Count\"]\n",
    "    \n",
    "    return groupednum_songs_df, first_track_position_df_relevant"
   ]
  },
  {
   "cell_type": "markdown",
   "id": "2681298a",
   "metadata": {},
   "source": [
    "### 1. Streams"
   ]
  },
  {
   "cell_type": "code",
   "execution_count": 17,
   "id": "946c6ce1",
   "metadata": {},
   "outputs": [],
   "source": [
    "def findtheMinMaxMeanStreams(za_data):\n",
    "    groupedmax_streams = za_data.groupby(groupby_cols)[\"streams\"].agg(\"max\")\n",
    "    groupedmax_streams_df = pd.DataFrame(groupedmax_streams).reset_index()\n",
    "    groupedmax_streams_df.columns = groupby_cols + [\"Max Streams per Song\"]\n",
    "    \n",
    "    groupedmin_streams = za_data.groupby(groupby_cols)[\"streams\"].agg(\"min\")\n",
    "    groupedmin_streams_df = pd.DataFrame(groupedmin_streams).reset_index()\n",
    "    groupedmin_streams_df.columns = groupby_cols + [\"Min Streams per Song\"]\n",
    "    \n",
    "    groupedsum_streams = za_data.groupby(groupby_cols)[\"streams\"].agg(\"sum\")\n",
    "    groupedsum_streams_df = pd.DataFrame(groupedsum_streams).reset_index()\n",
    "    groupedsum_streams_df.columns = groupby_cols + [\"Total Streams per Song\"]\n",
    "\n",
    "    groupedmean_streams = za_data.groupby(groupby_cols)[\"streams\"].agg(\"mean\")\n",
    "    groupedmean_streams_df = pd.DataFrame(groupedmean_streams).reset_index()\n",
    "    groupedmean_streams_df.columns = groupby_cols + [\"Mean Streams per Song\"]\n",
    "    \n",
    "    return groupedmax_streams_df, groupedmin_streams_df, groupedsum_streams_df, groupedmean_streams_df"
   ]
  },
  {
   "cell_type": "markdown",
   "id": "fe7fb879",
   "metadata": {},
   "source": [
    "### 2. Positions"
   ]
  },
  {
   "cell_type": "code",
   "execution_count": 19,
   "id": "37b2e784",
   "metadata": {},
   "outputs": [],
   "source": [
    "def findtheMinMaxPositions(za_data):\n",
    "    groupedpos_streams = za_data.groupby(groupby_cols)[\"rank\"].agg(\"min\")\n",
    "    groupedpos_streams_df = pd.DataFrame(groupedpos_streams).reset_index()\n",
    "    groupedpos_streams_df.columns = groupby_cols + [\"Min Position per Song\"]\n",
    "\n",
    "    groupedposmax_streams = za_data.groupby(groupby_cols)[\"rank\"].agg(\"max\")\n",
    "    groupedposmax_streams_df = pd.DataFrame(groupedposmax_streams).reset_index()\n",
    "    groupedposmax_streams_df.columns = groupby_cols + [\"Max Position per Song\"]\n",
    "    \n",
    "    return groupedpos_streams_df, groupedposmax_streams_df"
   ]
  },
  {
   "cell_type": "markdown",
   "id": "da075820",
   "metadata": {},
   "source": [
    "### Number of songs per artist"
   ]
  },
  {
   "cell_type": "code",
   "execution_count": 21,
   "id": "8e63f9fb",
   "metadata": {},
   "outputs": [],
   "source": [
    "def findtheMaxArtistAppearanceTimes(za_data):\n",
    "    \n",
    "    groupedpos_streams = za_data.groupby([\"main_artist\"])[\"artistAppearanceCount\"].agg(\"max\")\n",
    "    groupedmin_songs_df = pd.DataFrame(groupedpos_streams).reset_index()\n",
    "    groupedmin_songs_df.columns = [\"main_artist\"] + [\"Max Artist Appearance\"]\n",
    "    \n",
    "    return groupedmin_songs_df"
   ]
  },
  {
   "cell_type": "markdown",
   "id": "356c1c82",
   "metadata": {},
   "source": [
    "#### Maximum number of times an artist has appeared on the chart"
   ]
  },
  {
   "cell_type": "code",
   "execution_count": 23,
   "id": "4ca64a41",
   "metadata": {},
   "outputs": [],
   "source": [
    "def findtheMinMaxNumofSongs(za_data):\n",
    "    \n",
    "    groupedpos_streams = za_data.groupby([\"main_artist\"])[\"Artist Song Count\"].agg(\"max\")\n",
    "    groupedmin_songs_df = pd.DataFrame(groupedpos_streams).reset_index()\n",
    "    groupedmin_songs_df.columns = [\"main_artist\"] + [\"Max Song Count per artist\"]\n",
    "    \n",
    "    return groupedmin_songs_df"
   ]
  },
  {
   "cell_type": "markdown",
   "id": "9ecfa763",
   "metadata": {},
   "source": [
    "#### Number of weeks a song spent on the chart per artist"
   ]
  },
  {
   "cell_type": "code",
   "execution_count": 25,
   "id": "bcc9d4f2",
   "metadata": {},
   "outputs": [],
   "source": [
    "def findtheWeeksonChartperSong(za_data):\n",
    "    \n",
    "    groupedpos_streams = za_data.groupby(groupby_cols)[\"weeks_on_chart\"].agg(\"max\")\n",
    "    groupedmin_songs_df = pd.DataFrame(groupedpos_streams).reset_index()\n",
    "    groupedmin_songs_df.columns = groupby_cols + [\"Max Weeks on Chart per song\"]\n",
    "    \n",
    "    return groupedmin_songs_df"
   ]
  },
  {
   "cell_type": "markdown",
   "id": "8f771d74",
   "metadata": {},
   "source": [
    "#### First week streams and first week positions"
   ]
  },
  {
   "cell_type": "code",
   "execution_count": 27,
   "id": "11470002",
   "metadata": {},
   "outputs": [],
   "source": [
    "def findthePosonWeeksonChartperSong(za_data):\n",
    "    \n",
    "    za_data_first_time = za_data[za_data[\"trackAppearanceCount\"] == 0]\n",
    "    za_data_first_time_df = za_data_first_time[['main_artist', 'track_name', \"rank\", 'streams']]\n",
    "    za_data_first_time_df.columns = ['main_artist', 'track_name', \"first_week_rank\", 'first_week_streams']\n",
    "    \n",
    "    return za_data_first_time_df"
   ]
  },
  {
   "cell_type": "code",
   "execution_count": null,
   "id": "e3bc1098",
   "metadata": {},
   "outputs": [],
   "source": []
  },
  {
   "cell_type": "markdown",
   "id": "c7413f3f",
   "metadata": {},
   "source": [
    "### 3. Dates"
   ]
  },
  {
   "cell_type": "markdown",
   "id": "b6b9acbd",
   "metadata": {},
   "source": [
    "## Combine the dfs"
   ]
  },
  {
   "cell_type": "code",
   "execution_count": 30,
   "id": "80ca1cdc",
   "metadata": {},
   "outputs": [],
   "source": [
    "def combinedataframes(groupedmax_streams_df, groupedmin_streams_df, groupedsum_streams_df, groupedmean_streams_df, groupedpos_streams_df, groupedposmax_streams_df, groupednum_songs_df):\n",
    "    groupeddf = groupedmax_streams_df\n",
    "    \n",
    "    groupeddf[\"Min Streams per Song\"] = groupedmin_streams_df[\"Min Streams per Song\"]\n",
    "    groupeddf[\"Total Streams per Song\"] = groupedsum_streams_df[\"Total Streams per Song\"]\n",
    "    groupeddf[\"Mean Streams per Song\"]= groupedmean_streams_df[\"Mean Streams per Song\"]\n",
    "    groupeddf[\"Min Position per Song\"] = groupedpos_streams_df[\"Min Position per Song\"]\n",
    "    groupeddf[\"Max Position per Song\"] = groupedposmax_streams_df[\"Max Position per Song\"]\n",
    "    groupeddf[\"Artist Song Count\"] = groupednum_songs_df[\"Artist Song Count\"]\n",
    "    \n",
    "    groupeddf[\"MaxMin Difference Position\"] = groupeddf[\"Max Position per Song\"] - groupeddf[\"Min Position per Song\"]\n",
    "    groupeddf[\"MaxMin Difference Streams\"] = groupeddf[\"Max Streams per Song\"] - groupeddf[\"Min Streams per Song\"]\n",
    "    \n",
    "    groupeddf[\"MaxMin Ratio Position\"] = groupeddf[\"Max Position per Song\"] / groupeddf[\"Min Position per Song\"]\n",
    "    groupeddf[\"MaxMin Ratio Streams\"] = groupeddf[\"Max Streams per Song\"] / groupeddf[\"Min Streams per Song\"]\n",
    "    \n",
    "    groupeddf.drop([\"Max Position per Song\"], inplace=True, axis=1)\n",
    "    \n",
    "    groupeddf_startpos = groupeddf.merge(first_track_position_df_relevant[[\"main_artist\", \"track_name\", \"entry rank\"]], left_on=[\"main_artist\", \"track_name\"], right_on=[\"main_artist\", \"track_name\"], how=\"inner\")\n",
    "    \n",
    "    groupeddf_startpos[\"main_art_track\"] = groupeddf_startpos[\"main_artist\"] + groupeddf_startpos[\"track_name\"]\n",
    "    \n",
    "    groupeddf_startpos_regress = groupeddf_startpos[['main_artist', \"main_art_track\", 'entry rank', 'Min Position per Song']].drop_duplicates()\n",
    "    \n",
    "    return groupeddf, groupeddf_startpos_regress\n",
    "    "
   ]
  },
  {
   "cell_type": "code",
   "execution_count": 31,
   "id": "5003a511",
   "metadata": {},
   "outputs": [],
   "source": [
    "some_artists_of_interest = [\"6LACK\", \"9umba\", \"BNXN fka Buju\", \"Black Coffee\", \"Big Zulu\"]\n",
    "groupednum_songs_df, first_track_position_df_relevant = findingtheentrypos(za_data)\n",
    "groupedmax_streams_df, groupedmin_streams_df, groupedsum_streams_df, groupedmean_streams_df = findtheMinMaxMeanStreams(za_data)\n",
    "groupedpos_streams_df, groupedposmax_streams_df = findtheMinMaxPositions(za_data)\n",
    "groupeddf, groupeddf_startpos_regress = combinedataframes(groupedmax_streams_df, groupedmin_streams_df, groupedsum_streams_df, groupedmean_streams_df, groupedpos_streams_df, groupedposmax_streams_df, groupednum_songs_df)\n",
    "filenname = \"zaall\""
   ]
  },
  {
   "cell_type": "code",
   "execution_count": 32,
   "id": "297f0858",
   "metadata": {},
   "outputs": [
    {
     "data": {
      "text/plain": [
       "['main_artist', 'track_name']"
      ]
     },
     "execution_count": 32,
     "metadata": {},
     "output_type": "execute_result"
    }
   ],
   "source": [
    "groupby_cols"
   ]
  },
  {
   "cell_type": "code",
   "execution_count": 33,
   "id": "9727756a",
   "metadata": {},
   "outputs": [],
   "source": [
    "maxsongperartistdf = findtheMinMaxNumofSongs(groupeddf)"
   ]
  },
  {
   "cell_type": "code",
   "execution_count": 34,
   "id": "90d720c7",
   "metadata": {},
   "outputs": [],
   "source": [
    "weeksonchartpersong = findtheWeeksonChartperSong(za_data)"
   ]
  },
  {
   "cell_type": "code",
   "execution_count": 35,
   "id": "467a5b06",
   "metadata": {},
   "outputs": [],
   "source": [
    "firstweekstreamsandrank = findthePosonWeeksonChartperSong(za_data)"
   ]
  },
  {
   "cell_type": "code",
   "execution_count": 36,
   "id": "2b42cc05",
   "metadata": {},
   "outputs": [],
   "source": [
    "maxartistappearances = findtheMaxArtistAppearanceTimes(za_data)"
   ]
  },
  {
   "cell_type": "code",
   "execution_count": 37,
   "id": "eb298725",
   "metadata": {},
   "outputs": [],
   "source": [
    "fingroupeddf = groupeddf.merge(maxsongperartistdf, left_on=[\"main_artist\"], right_on=[\"main_artist\"], how=\"inner\")\n",
    "fingroupeddf = fingroupeddf.drop([\"Artist Song Count\"],axis=1)"
   ]
  },
  {
   "cell_type": "code",
   "execution_count": 38,
   "id": "f4057951",
   "metadata": {},
   "outputs": [],
   "source": [
    "fingroupeddf = fingroupeddf.merge(weeksonchartpersong, left_on=groupby_cols, right_on=groupby_cols, how=\"inner\")"
   ]
  },
  {
   "cell_type": "code",
   "execution_count": 39,
   "id": "301d31ef",
   "metadata": {},
   "outputs": [],
   "source": [
    "fingroupeddf = fingroupeddf.merge(firstweekstreamsandrank, left_on=groupby_cols, right_on=groupby_cols, how=\"inner\")"
   ]
  },
  {
   "cell_type": "code",
   "execution_count": 40,
   "id": "c892a3fc",
   "metadata": {},
   "outputs": [],
   "source": [
    "fingroupeddf = fingroupeddf.merge(maxartistappearances, left_on=[\"main_artist\"], right_on=[\"main_artist\"], how=\"inner\")"
   ]
  },
  {
   "cell_type": "code",
   "execution_count": 41,
   "id": "e3916012",
   "metadata": {},
   "outputs": [],
   "source": [
    "from sklearn import preprocessing\n",
    "le = preprocessing.LabelEncoder()\n",
    "le.fit(za_data[\"source\"])\n",
    "\n",
    "za_encoded_source = le.transform(za_data[\"source\"])\n",
    "za_data[\"encoded_source\"] = za_encoded_source\n",
    "zarelevantsource = za_data[[\"main_artist\", \"track_name\", \"encoded_source\"]]\n",
    "zarelevantsource = zarelevantsource.drop_duplicates()"
   ]
  },
  {
   "cell_type": "code",
   "execution_count": 42,
   "id": "e977527c",
   "metadata": {},
   "outputs": [],
   "source": [
    "fingroupeddf = fingroupeddf.merge(zarelevantsource, left_on=groupby_cols, right_on=groupby_cols, how=\"inner\")"
   ]
  },
  {
   "cell_type": "code",
   "execution_count": 43,
   "id": "7d909b35",
   "metadata": {},
   "outputs": [
    {
     "data": {
      "text/plain": [
       "Index(['main_artist', 'track_name', 'Max Streams per Song',\n",
       "       'Min Streams per Song', 'Total Streams per Song',\n",
       "       'Mean Streams per Song', 'Min Position per Song',\n",
       "       'MaxMin Difference Position', 'MaxMin Difference Streams',\n",
       "       'MaxMin Ratio Position', 'MaxMin Ratio Streams',\n",
       "       'Max Song Count per artist', 'Max Weeks on Chart per song',\n",
       "       'first_week_rank', 'first_week_streams', 'Max Artist Appearance',\n",
       "       'encoded_source'],\n",
       "      dtype='object')"
      ]
     },
     "execution_count": 43,
     "metadata": {},
     "output_type": "execute_result"
    }
   ],
   "source": [
    "fingroupeddf.columns"
   ]
  },
  {
   "cell_type": "code",
   "execution_count": 44,
   "id": "182e68e1",
   "metadata": {},
   "outputs": [],
   "source": [
    "fingroupeddf.to_csv(\"Classification/cleanedartistsong.csv\", index=False)"
   ]
  },
  {
   "cell_type": "markdown",
   "id": "f6b8fdd8",
   "metadata": {},
   "source": [
    "##### LINEAR REGRESSION NUMBER OF WEEKS"
   ]
  },
  {
   "cell_type": "code",
   "execution_count": 46,
   "id": "bbc5a358",
   "metadata": {},
   "outputs": [],
   "source": [
    "import numpy as np\n",
    "from sklearn.linear_model import LinearRegression"
   ]
  },
  {
   "cell_type": "code",
   "execution_count": 47,
   "id": "f3688d99",
   "metadata": {},
   "outputs": [],
   "source": [
    "from sklearn.metrics import mean_absolute_error, mean_squared_error"
   ]
  },
  {
   "cell_type": "code",
   "execution_count": 48,
   "id": "55cf8efa",
   "metadata": {},
   "outputs": [],
   "source": [
    "fingroupeddf = fingroupeddf.reset_index()\n",
    "fingroupeddf = fingroupeddf.drop([\"index\"], axis=1)"
   ]
  },
  {
   "cell_type": "code",
   "execution_count": 49,
   "id": "c73cd219",
   "metadata": {},
   "outputs": [
    {
     "data": {
      "text/plain": [
       "(4631, 17)"
      ]
     },
     "execution_count": 49,
     "metadata": {},
     "output_type": "execute_result"
    }
   ],
   "source": [
    "fingroupeddf.shape"
   ]
  },
  {
   "cell_type": "code",
   "execution_count": 50,
   "id": "5b8fd23d",
   "metadata": {},
   "outputs": [
    {
     "data": {
      "text/plain": [
       "Index(['main_artist', 'track_name', 'Max Streams per Song',\n",
       "       'Min Streams per Song', 'Total Streams per Song',\n",
       "       'Mean Streams per Song', 'Min Position per Song',\n",
       "       'MaxMin Difference Position', 'MaxMin Difference Streams',\n",
       "       'MaxMin Ratio Position', 'MaxMin Ratio Streams',\n",
       "       'Max Song Count per artist', 'Max Weeks on Chart per song',\n",
       "       'first_week_rank', 'first_week_streams', 'Max Artist Appearance',\n",
       "       'encoded_source'],\n",
       "      dtype='object')"
      ]
     },
     "execution_count": 50,
     "metadata": {},
     "output_type": "execute_result"
    }
   ],
   "source": [
    "fingroupeddf.columns"
   ]
  },
  {
   "cell_type": "code",
   "execution_count": 51,
   "id": "561bceee",
   "metadata": {},
   "outputs": [],
   "source": [
    "X = fingroupeddf.drop([\"main_artist\", \"track_name\", \"Max Weeks on Chart per song\", 'Max Artist Appearance'], axis=1)\n",
    "# X = X[['first_week_rank', 'first_week_streams','Total Streams per Song', 'Min Position per Song', 'MaxMin Difference Position', 'MaxMin Ratio Position', 'MaxMin Ratio Streams']]\n",
    "# X = X[['MaxMin Difference Position', 'MaxMin Ratio Streams', \"first_week_streams\"]]\n",
    "y = fingroupeddf[\"Max Weeks on Chart per song\"]"
   ]
  },
  {
   "cell_type": "code",
   "execution_count": 52,
   "id": "53bc3f3b",
   "metadata": {},
   "outputs": [],
   "source": [
    "thecols = list(X.columns)"
   ]
  },
  {
   "cell_type": "code",
   "execution_count": 53,
   "id": "97c86f87",
   "metadata": {},
   "outputs": [],
   "source": [
    "scaler = StandardScaler()\n",
    "X = scaler.fit_transform(X)"
   ]
  },
  {
   "cell_type": "code",
   "execution_count": 54,
   "id": "1181af36",
   "metadata": {},
   "outputs": [],
   "source": [
    "X = pd.DataFrame(X)"
   ]
  },
  {
   "cell_type": "code",
   "execution_count": 55,
   "id": "e3fe7997",
   "metadata": {},
   "outputs": [],
   "source": [
    "X.columns = thecols"
   ]
  },
  {
   "cell_type": "code",
   "execution_count": 56,
   "id": "dd04859f",
   "metadata": {},
   "outputs": [
    {
     "data": {
      "text/html": [
       "<div>\n",
       "<style scoped>\n",
       "    .dataframe tbody tr th:only-of-type {\n",
       "        vertical-align: middle;\n",
       "    }\n",
       "\n",
       "    .dataframe tbody tr th {\n",
       "        vertical-align: top;\n",
       "    }\n",
       "\n",
       "    .dataframe thead th {\n",
       "        text-align: right;\n",
       "    }\n",
       "</style>\n",
       "<table border=\"1\" class=\"dataframe\">\n",
       "  <thead>\n",
       "    <tr style=\"text-align: right;\">\n",
       "      <th></th>\n",
       "      <th>Max Streams per Song</th>\n",
       "      <th>Min Streams per Song</th>\n",
       "      <th>Total Streams per Song</th>\n",
       "      <th>Mean Streams per Song</th>\n",
       "      <th>Min Position per Song</th>\n",
       "      <th>MaxMin Difference Position</th>\n",
       "      <th>MaxMin Difference Streams</th>\n",
       "      <th>MaxMin Ratio Position</th>\n",
       "      <th>MaxMin Ratio Streams</th>\n",
       "      <th>Max Song Count per artist</th>\n",
       "      <th>first_week_rank</th>\n",
       "      <th>first_week_streams</th>\n",
       "      <th>encoded_source</th>\n",
       "    </tr>\n",
       "  </thead>\n",
       "  <tbody>\n",
       "    <tr>\n",
       "      <th>0</th>\n",
       "      <td>-0.331234</td>\n",
       "      <td>0.186282</td>\n",
       "      <td>-0.404976</td>\n",
       "      <td>-0.132425</td>\n",
       "      <td>1.837073</td>\n",
       "      <td>-1.055797</td>\n",
       "      <td>-0.502720</td>\n",
       "      <td>-0.304818</td>\n",
       "      <td>-0.476282</td>\n",
       "      <td>-0.985745</td>\n",
       "      <td>1.478325</td>\n",
       "      <td>-0.205705</td>\n",
       "      <td>-1.634947</td>\n",
       "    </tr>\n",
       "    <tr>\n",
       "      <th>1</th>\n",
       "      <td>-0.340682</td>\n",
       "      <td>0.162576</td>\n",
       "      <td>-0.405487</td>\n",
       "      <td>-0.149479</td>\n",
       "      <td>1.635373</td>\n",
       "      <td>-1.055797</td>\n",
       "      <td>-0.502720</td>\n",
       "      <td>-0.304818</td>\n",
       "      <td>-0.476282</td>\n",
       "      <td>-0.985745</td>\n",
       "      <td>1.283677</td>\n",
       "      <td>-0.216648</td>\n",
       "      <td>-0.581670</td>\n",
       "    </tr>\n",
       "    <tr>\n",
       "      <th>2</th>\n",
       "      <td>-0.074403</td>\n",
       "      <td>0.830760</td>\n",
       "      <td>-0.391083</td>\n",
       "      <td>0.331191</td>\n",
       "      <td>0.727723</td>\n",
       "      <td>-1.055797</td>\n",
       "      <td>-0.502720</td>\n",
       "      <td>-0.304818</td>\n",
       "      <td>-0.476282</td>\n",
       "      <td>-0.985745</td>\n",
       "      <td>0.407764</td>\n",
       "      <td>0.091806</td>\n",
       "      <td>-1.721281</td>\n",
       "    </tr>\n",
       "    <tr>\n",
       "      <th>3</th>\n",
       "      <td>-0.706496</td>\n",
       "      <td>-0.862799</td>\n",
       "      <td>-0.395559</td>\n",
       "      <td>-0.863738</td>\n",
       "      <td>-0.112693</td>\n",
       "      <td>0.181835</td>\n",
       "      <td>-0.449644</td>\n",
       "      <td>-0.262327</td>\n",
       "      <td>-0.277380</td>\n",
       "      <td>-0.884700</td>\n",
       "      <td>-0.403267</td>\n",
       "      <td>-0.640404</td>\n",
       "      <td>-0.939957</td>\n",
       "    </tr>\n",
       "    <tr>\n",
       "      <th>4</th>\n",
       "      <td>-0.652890</td>\n",
       "      <td>-0.620862</td>\n",
       "      <td>-0.422376</td>\n",
       "      <td>-0.713059</td>\n",
       "      <td>1.063890</td>\n",
       "      <td>-1.055797</td>\n",
       "      <td>-0.502720</td>\n",
       "      <td>-0.304818</td>\n",
       "      <td>-0.476282</td>\n",
       "      <td>-0.884700</td>\n",
       "      <td>0.732176</td>\n",
       "      <td>-0.578308</td>\n",
       "      <td>-0.564403</td>\n",
       "    </tr>\n",
       "    <tr>\n",
       "      <th>...</th>\n",
       "      <td>...</td>\n",
       "      <td>...</td>\n",
       "      <td>...</td>\n",
       "      <td>...</td>\n",
       "      <td>...</td>\n",
       "      <td>...</td>\n",
       "      <td>...</td>\n",
       "      <td>...</td>\n",
       "      <td>...</td>\n",
       "      <td>...</td>\n",
       "      <td>...</td>\n",
       "      <td>...</td>\n",
       "      <td>...</td>\n",
       "    </tr>\n",
       "    <tr>\n",
       "      <th>4626</th>\n",
       "      <td>-0.195027</td>\n",
       "      <td>0.252217</td>\n",
       "      <td>-0.172410</td>\n",
       "      <td>0.045276</td>\n",
       "      <td>1.131123</td>\n",
       "      <td>-0.365026</td>\n",
       "      <td>-0.366421</td>\n",
       "      <td>-0.292648</td>\n",
       "      <td>-0.395407</td>\n",
       "      <td>-0.867859</td>\n",
       "      <td>1.007927</td>\n",
       "      <td>-0.073255</td>\n",
       "      <td>-0.089565</td>\n",
       "    </tr>\n",
       "    <tr>\n",
       "      <th>4627</th>\n",
       "      <td>-0.215335</td>\n",
       "      <td>-0.219115</td>\n",
       "      <td>-0.140038</td>\n",
       "      <td>-0.225793</td>\n",
       "      <td>-0.532901</td>\n",
       "      <td>0.858216</td>\n",
       "      <td>-0.158719</td>\n",
       "      <td>-0.208109</td>\n",
       "      <td>-0.159433</td>\n",
       "      <td>-0.800495</td>\n",
       "      <td>0.067131</td>\n",
       "      <td>-0.298141</td>\n",
       "      <td>-0.452169</td>\n",
       "    </tr>\n",
       "    <tr>\n",
       "      <th>4628</th>\n",
       "      <td>-0.484987</td>\n",
       "      <td>-0.200489</td>\n",
       "      <td>-0.394493</td>\n",
       "      <td>-0.410313</td>\n",
       "      <td>1.870689</td>\n",
       "      <td>-1.041406</td>\n",
       "      <td>-0.502249</td>\n",
       "      <td>-0.304622</td>\n",
       "      <td>-0.475858</td>\n",
       "      <td>-0.968904</td>\n",
       "      <td>1.510766</td>\n",
       "      <td>-0.383811</td>\n",
       "      <td>1.391066</td>\n",
       "    </tr>\n",
       "    <tr>\n",
       "      <th>4629</th>\n",
       "      <td>-0.272040</td>\n",
       "      <td>0.334821</td>\n",
       "      <td>-0.401774</td>\n",
       "      <td>-0.025571</td>\n",
       "      <td>1.887498</td>\n",
       "      <td>-1.055797</td>\n",
       "      <td>-0.502720</td>\n",
       "      <td>-0.304818</td>\n",
       "      <td>-0.476282</td>\n",
       "      <td>-0.867859</td>\n",
       "      <td>1.526987</td>\n",
       "      <td>-0.137135</td>\n",
       "      <td>0.121954</td>\n",
       "    </tr>\n",
       "    <tr>\n",
       "      <th>4630</th>\n",
       "      <td>1.848951</td>\n",
       "      <td>1.945088</td>\n",
       "      <td>0.487983</td>\n",
       "      <td>2.799903</td>\n",
       "      <td>-1.070768</td>\n",
       "      <td>0.340137</td>\n",
       "      <td>1.331361</td>\n",
       "      <td>-0.126808</td>\n",
       "      <td>0.001487</td>\n",
       "      <td>-0.867859</td>\n",
       "      <td>0.245558</td>\n",
       "      <td>0.606215</td>\n",
       "      <td>0.121954</td>\n",
       "    </tr>\n",
       "  </tbody>\n",
       "</table>\n",
       "<p>4631 rows × 13 columns</p>\n",
       "</div>"
      ],
      "text/plain": [
       "      Max Streams per Song  Min Streams per Song  Total Streams per Song  \\\n",
       "0                -0.331234              0.186282               -0.404976   \n",
       "1                -0.340682              0.162576               -0.405487   \n",
       "2                -0.074403              0.830760               -0.391083   \n",
       "3                -0.706496             -0.862799               -0.395559   \n",
       "4                -0.652890             -0.620862               -0.422376   \n",
       "...                    ...                   ...                     ...   \n",
       "4626             -0.195027              0.252217               -0.172410   \n",
       "4627             -0.215335             -0.219115               -0.140038   \n",
       "4628             -0.484987             -0.200489               -0.394493   \n",
       "4629             -0.272040              0.334821               -0.401774   \n",
       "4630              1.848951              1.945088                0.487983   \n",
       "\n",
       "      Mean Streams per Song  Min Position per Song  \\\n",
       "0                 -0.132425               1.837073   \n",
       "1                 -0.149479               1.635373   \n",
       "2                  0.331191               0.727723   \n",
       "3                 -0.863738              -0.112693   \n",
       "4                 -0.713059               1.063890   \n",
       "...                     ...                    ...   \n",
       "4626               0.045276               1.131123   \n",
       "4627              -0.225793              -0.532901   \n",
       "4628              -0.410313               1.870689   \n",
       "4629              -0.025571               1.887498   \n",
       "4630               2.799903              -1.070768   \n",
       "\n",
       "      MaxMin Difference Position  MaxMin Difference Streams  \\\n",
       "0                      -1.055797                  -0.502720   \n",
       "1                      -1.055797                  -0.502720   \n",
       "2                      -1.055797                  -0.502720   \n",
       "3                       0.181835                  -0.449644   \n",
       "4                      -1.055797                  -0.502720   \n",
       "...                          ...                        ...   \n",
       "4626                   -0.365026                  -0.366421   \n",
       "4627                    0.858216                  -0.158719   \n",
       "4628                   -1.041406                  -0.502249   \n",
       "4629                   -1.055797                  -0.502720   \n",
       "4630                    0.340137                   1.331361   \n",
       "\n",
       "      MaxMin Ratio Position  MaxMin Ratio Streams  Max Song Count per artist  \\\n",
       "0                 -0.304818             -0.476282                  -0.985745   \n",
       "1                 -0.304818             -0.476282                  -0.985745   \n",
       "2                 -0.304818             -0.476282                  -0.985745   \n",
       "3                 -0.262327             -0.277380                  -0.884700   \n",
       "4                 -0.304818             -0.476282                  -0.884700   \n",
       "...                     ...                   ...                        ...   \n",
       "4626              -0.292648             -0.395407                  -0.867859   \n",
       "4627              -0.208109             -0.159433                  -0.800495   \n",
       "4628              -0.304622             -0.475858                  -0.968904   \n",
       "4629              -0.304818             -0.476282                  -0.867859   \n",
       "4630              -0.126808              0.001487                  -0.867859   \n",
       "\n",
       "      first_week_rank  first_week_streams  encoded_source  \n",
       "0            1.478325           -0.205705       -1.634947  \n",
       "1            1.283677           -0.216648       -0.581670  \n",
       "2            0.407764            0.091806       -1.721281  \n",
       "3           -0.403267           -0.640404       -0.939957  \n",
       "4            0.732176           -0.578308       -0.564403  \n",
       "...               ...                 ...             ...  \n",
       "4626         1.007927           -0.073255       -0.089565  \n",
       "4627         0.067131           -0.298141       -0.452169  \n",
       "4628         1.510766           -0.383811        1.391066  \n",
       "4629         1.526987           -0.137135        0.121954  \n",
       "4630         0.245558            0.606215        0.121954  \n",
       "\n",
       "[4631 rows x 13 columns]"
      ]
     },
     "execution_count": 56,
     "metadata": {},
     "output_type": "execute_result"
    }
   ],
   "source": [
    "X"
   ]
  },
  {
   "cell_type": "code",
   "execution_count": 57,
   "id": "d51c2f69",
   "metadata": {},
   "outputs": [],
   "source": [
    "X_train = X.head(4000)\n",
    "y_train = y.head(4000)\n",
    "\n",
    "X_test = X.iloc[4001:]\n",
    "y_test = y.iloc[4001:]\n",
    "\n",
    "# X_train = X.head(1800)\n",
    "# y_train = y.head(1800)\n",
    "\n",
    "# X_test = X.iloc[1801:]\n",
    "# y_test = y.iloc[1801:]"
   ]
  },
  {
   "cell_type": "code",
   "execution_count": 58,
   "id": "912c2d07",
   "metadata": {},
   "outputs": [
    {
     "name": "stdout",
     "output_type": "stream",
     "text": [
      "0.8063589553136903\n",
      "[ -3.37836758   6.20669559  20.79203385 -10.37708618  -2.35338262\n",
      "   5.26662309  -7.25532603   0.47412005   6.54270159   1.45583625\n",
      "   2.77566573   4.65409221   0.30083115]\n",
      "12.407563418712195\n"
     ]
    }
   ],
   "source": [
    "reg = LinearRegression().fit(X_train, y_train)\n",
    "print(reg.score(X, y))\n",
    "print(reg.coef_)\n",
    "print(reg.intercept_)"
   ]
  },
  {
   "cell_type": "code",
   "execution_count": 59,
   "id": "a31f374c",
   "metadata": {},
   "outputs": [
    {
     "name": "stdout",
     "output_type": "stream",
     "text": [
      "Coefficient of determination: 0.79\n"
     ]
    }
   ],
   "source": [
    "all_preds = reg.predict(X_test)\n",
    "thepredsy = pd.DataFrame(all_preds)\n",
    "\n",
    "thepredsy.columns = [\"predictions\"]\n",
    "thepredsy[\"actuals\"] = list(y_test)\n",
    "thepredsy[\"predictions\"] = thepredsy[\"predictions\"].astype(int)\n",
    "thepredsy[\"diff\"] = thepredsy[\"predictions\"] - thepredsy[\"actuals\"]\n",
    "\n",
    "truepreds = thepredsy[thepredsy[\"diff\"]==0]\n",
    "truepreds1 = thepredsy[thepredsy[\"diff\"]==1]\n",
    "truepreds2 = thepredsy[thepredsy[\"diff\"]==-1]\n",
    "fintruepeds = pd.concat([truepreds,truepreds1,truepreds2])\n",
    "\n",
    "print(\"Coefficient of determination: %.2f\" % r2_score(y_test, all_preds))"
   ]
  },
  {
   "cell_type": "code",
   "execution_count": 60,
   "id": "b1d7510b",
   "metadata": {},
   "outputs": [],
   "source": [
    "mae = mean_absolute_error(y_test, all_preds)"
   ]
  },
  {
   "cell_type": "code",
   "execution_count": 61,
   "id": "c8470d1c",
   "metadata": {},
   "outputs": [
    {
     "data": {
      "text/plain": [
       "5.5563417836198665"
      ]
     },
     "execution_count": 61,
     "metadata": {},
     "output_type": "execute_result"
    }
   ],
   "source": [
    "mae"
   ]
  },
  {
   "cell_type": "code",
   "execution_count": 62,
   "id": "ba52432a",
   "metadata": {},
   "outputs": [
    {
     "data": {
      "text/plain": [
       "(81, 289, 630)"
      ]
     },
     "execution_count": 62,
     "metadata": {},
     "output_type": "execute_result"
    }
   ],
   "source": [
    "truepreds.shape[0], fintruepeds.shape[0], all_preds.shape[0]"
   ]
  },
  {
   "cell_type": "code",
   "execution_count": 63,
   "id": "a3d65405",
   "metadata": {},
   "outputs": [
    {
     "data": {
      "text/plain": [
       "(12.857142857142856, 45.87301587301587)"
      ]
     },
     "execution_count": 63,
     "metadata": {},
     "output_type": "execute_result"
    }
   ],
   "source": [
    "(truepreds.shape[0] / thepredsy.shape[0]) * 100, (fintruepeds.shape[0] / thepredsy.shape[0]) * 100"
   ]
  },
  {
   "cell_type": "code",
   "execution_count": 64,
   "id": "6dd27a2f",
   "metadata": {},
   "outputs": [],
   "source": [
    "# X[[\"first_week_rank\", \"first_week_streams\"]] - 7 , 1.26%\n",
    "# [\"first_week_rank\", \"first_week_streams\", \"Max Streams per Song\"] - 15 , 2.69%\n",
    "# [all] - 48 , 8.62%\n",
    "# X[[\"first_week_rank\", \"first_week_streams\", \"Max Streams per Song\", \"Total Streams per Song\"]] - 28 , 5.02%\n",
    "\n",
    "# X[[\"first_week_rank\", \"first_week_streams\", \"Max Streams per Song\", \"Total Streams per Song\", 'Max Song Count per artist']] - 37, 6.64% \n",
    "\n",
    "# X[[\"Mean Streams per Song\", \"first_week_rank\"]]- 8 , 1.44%\n",
    "\n",
    "# [\"MaxMin Ratio Position\", \"first_week_rank\", \"Max Song Count per artist\" - 7 , 1.26%"
   ]
  },
  {
   "cell_type": "code",
   "execution_count": 65,
   "id": "8f47a29c",
   "metadata": {},
   "outputs": [],
   "source": [
    "from sklearn import linear_model\n",
    "reglinear_model = linear_model.RidgeCV(alphas=np.logspace(-6, 6, 13))\n",
    "reglinear_modelvf = reglinear_model.fit(X_train, y_train)"
   ]
  },
  {
   "cell_type": "code",
   "execution_count": 66,
   "id": "288dca09",
   "metadata": {},
   "outputs": [],
   "source": [
    "all_preds = reglinear_modelvf.predict(X_test)\n",
    "thepredsy = pd.DataFrame(all_preds)\n",
    "\n",
    "thepredsy.columns = [\"predictions\"]\n",
    "thepredsy[\"actuals\"] = list(y_test)\n",
    "thepredsy[\"predictions\"] = thepredsy[\"predictions\"].astype(int)\n",
    "thepredsy[\"diff\"] = thepredsy[\"predictions\"] - thepredsy[\"actuals\"]\n",
    "\n",
    "truepreds = thepredsy[thepredsy[\"diff\"]==0]\n",
    "truepreds1 = thepredsy[thepredsy[\"diff\"]==1]\n",
    "truepreds2 = thepredsy[thepredsy[\"diff\"]==-1]\n",
    "fintruepeds = pd.concat([truepreds,truepreds1,truepreds2])"
   ]
  },
  {
   "cell_type": "code",
   "execution_count": 67,
   "id": "d9921589",
   "metadata": {},
   "outputs": [
    {
     "name": "stdout",
     "output_type": "stream",
     "text": [
      "Coefficient of determination: 0.79\n"
     ]
    }
   ],
   "source": [
    "print(\"Coefficient of determination: %.2f\" % r2_score(y_test, all_preds))"
   ]
  },
  {
   "cell_type": "code",
   "execution_count": 68,
   "id": "d1f5053c",
   "metadata": {},
   "outputs": [
    {
     "data": {
      "text/plain": [
       "5.566393571653642"
      ]
     },
     "execution_count": 68,
     "metadata": {},
     "output_type": "execute_result"
    }
   ],
   "source": [
    "mae = mean_absolute_error(y_test, all_preds)\n",
    "mae"
   ]
  },
  {
   "cell_type": "code",
   "execution_count": 69,
   "id": "f22425fe",
   "metadata": {},
   "outputs": [
    {
     "data": {
      "text/plain": [
       "(84, 287)"
      ]
     },
     "execution_count": 69,
     "metadata": {},
     "output_type": "execute_result"
    }
   ],
   "source": [
    "truepreds.shape[0], fintruepeds.shape[0]"
   ]
  },
  {
   "cell_type": "code",
   "execution_count": 70,
   "id": "198e2d9e",
   "metadata": {},
   "outputs": [
    {
     "data": {
      "text/plain": [
       "(13.333333333333334, 45.55555555555556)"
      ]
     },
     "execution_count": 70,
     "metadata": {},
     "output_type": "execute_result"
    }
   ],
   "source": [
    "(truepreds.shape[0] / thepredsy.shape[0]) * 100, (fintruepeds.shape[0] / thepredsy.shape[0]) * 100"
   ]
  },
  {
   "cell_type": "code",
   "execution_count": 71,
   "id": "5782f572",
   "metadata": {},
   "outputs": [
    {
     "data": {
      "text/plain": [
       "(82, 288)"
      ]
     },
     "execution_count": 71,
     "metadata": {},
     "output_type": "execute_result"
    }
   ],
   "source": [
    "bayesianreg = linear_model.BayesianRidge()\n",
    "bayesianregvf = bayesianreg.fit(X_train, y_train)\n",
    "\n",
    "all_preds = bayesianregvf.predict(X_test)\n",
    "thepredsy = pd.DataFrame(all_preds)\n",
    "\n",
    "thepredsy.columns = [\"predictions\"]\n",
    "thepredsy[\"actuals\"] = list(y_test)\n",
    "thepredsy[\"predictions\"] = thepredsy[\"predictions\"].astype(int)\n",
    "thepredsy[\"diff\"] = thepredsy[\"predictions\"] - thepredsy[\"actuals\"]\n",
    "\n",
    "truepreds = thepredsy[thepredsy[\"diff\"]==0]\n",
    "truepreds1 = thepredsy[thepredsy[\"diff\"]==1]\n",
    "truepreds2 = thepredsy[thepredsy[\"diff\"]==-1]\n",
    "fintruepeds = pd.concat([truepreds,truepreds1,truepreds2])\n",
    "\n",
    "truepreds.shape[0], fintruepeds.shape[0]"
   ]
  },
  {
   "cell_type": "code",
   "execution_count": 72,
   "id": "e782a7f6",
   "metadata": {},
   "outputs": [
    {
     "name": "stdout",
     "output_type": "stream",
     "text": [
      "Coefficient of determination: 0.79\n"
     ]
    }
   ],
   "source": [
    "print(\"Coefficient of determination: %.2f\" % r2_score(y_test, all_preds))"
   ]
  },
  {
   "cell_type": "code",
   "execution_count": 73,
   "id": "713d47cb",
   "metadata": {},
   "outputs": [
    {
     "data": {
      "text/plain": [
       "5.558045415834288"
      ]
     },
     "execution_count": 73,
     "metadata": {},
     "output_type": "execute_result"
    }
   ],
   "source": [
    "mae = mean_absolute_error(y_test, all_preds)\n",
    "mae"
   ]
  },
  {
   "cell_type": "code",
   "execution_count": 74,
   "id": "9df2a7bc",
   "metadata": {},
   "outputs": [
    {
     "data": {
      "text/plain": [
       "(13.015873015873018, 45.714285714285715)"
      ]
     },
     "execution_count": 74,
     "metadata": {},
     "output_type": "execute_result"
    }
   ],
   "source": [
    "(truepreds.shape[0] / thepredsy.shape[0]) * 100, (fintruepeds.shape[0] / thepredsy.shape[0]) * 100"
   ]
  },
  {
   "cell_type": "code",
   "execution_count": 75,
   "id": "94484e14",
   "metadata": {},
   "outputs": [
    {
     "name": "stdout",
     "output_type": "stream",
     "text": [
      "Feature: 0, Score: -3.37837\n",
      "Feature: 1, Score: 6.20670\n",
      "Feature: 2, Score: 20.79203\n",
      "Feature: 3, Score: -10.37709\n",
      "Feature: 4, Score: -2.35338\n",
      "Feature: 5, Score: 5.26662\n",
      "Feature: 6, Score: -7.25533\n",
      "Feature: 7, Score: 0.47412\n",
      "Feature: 8, Score: 6.54270\n",
      "Feature: 9, Score: 1.45584\n",
      "Feature: 10, Score: 2.77567\n",
      "Feature: 11, Score: 4.65409\n",
      "Feature: 12, Score: 0.30083\n"
     ]
    },
    {
     "data": {
      "image/png": "[encoded data removed]",
      "text/plain": [
       "<Figure size 640x480 with 1 Axes>"
      ]
     },
     "metadata": {},
     "output_type": "display_data"
    }
   ],
   "source": [
    "# linear regression feature importance\n",
    "from sklearn.datasets import make_regression\n",
    "from sklearn.linear_model import LinearRegression\n",
    "from matplotlib import pyplot\n",
    "\n",
    "importance = reg.coef_\n",
    "# summarize feature importance\n",
    "for i,v in enumerate(importance):\n",
    "    print('Feature: %0d, Score: %.5f' % (i,v))\n",
    "# plot feature importance\n",
    "pyplot.bar([x for x in range(len(importance))], importance)\n",
    "pyplot.show()"
   ]
  }
 ],
 "metadata": {
  "kernelspec": {
   "display_name": "Python 3 (ipykernel)",
   "language": "python",
   "name": "python3"
  },
  "language_info": {
   "codemirror_mode": {
    "name": "ipython",
    "version": 3
   },
   "file_extension": ".py",
   "mimetype": "text/x-python",
   "name": "python",
   "nbconvert_exporter": "python",
   "pygments_lexer": "ipython3",
   "version": "3.12.7"
  }
 },
 "nbformat": 4,
 "nbformat_minor": 5
}
