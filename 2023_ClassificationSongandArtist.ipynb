{
 "cells": [
  {
   "cell_type": "markdown",
   "id": "d29e0f48",
   "metadata": {},
   "source": [
    "# Feature Engineering for Classification"
   ]
  },
  {
   "cell_type": "code",
   "execution_count": 1,
   "id": "99467b43",
   "metadata": {},
   "outputs": [],
   "source": [
    "import pandas as pd\n",
    "import matplotlib.pyplot as plt\n",
    "from sklearn.metrics import mean_squared_error, r2_score\n",
    "from sklearn.linear_model import LinearRegression\n",
    "import datetime\n",
    "import re\n",
    "from datetime import datetime, timedelta\n",
    "import matplotlib.pyplot as plt\n",
    "from sklearn.cluster import KMeans\n",
    "from sklearn import linear_model\n",
    "from sklearn.preprocessing import StandardScaler, MinMaxScaler\n",
    "%matplotlib inline"
   ]
  },
  {
   "cell_type": "code",
   "execution_count": 2,
   "id": "31354213",
   "metadata": {},
   "outputs": [],
   "source": [
    "za_data = pd.read_csv(\"Classification/all_files_ZAv1.csv\")"
   ]
  },
  {
   "cell_type": "code",
   "execution_count": 3,
   "id": "b1295b4b",
   "metadata": {},
   "outputs": [
    {
     "data": {
      "text/plain": [
       "Index(['trackAppearanceCount', 'artistAppearanceCount', 'rank', 'uri',\n",
       "       'artist_names', 'track_name', 'source', 'peak_rank', 'previous_rank',\n",
       "       'weeks_on_chart', 'streams', 'End Date', 'Week', 'Year', 'End Date Dt',\n",
       "       'Seconds since Epoch', 'End Date Aggregated', 'ArtistCount',\n",
       "       'main_artist', 'isTopTen', 'Artist and Track', 'rank difference',\n",
       "       'Position over Time'],\n",
       "      dtype='object')"
      ]
     },
     "execution_count": 3,
     "metadata": {},
     "output_type": "execute_result"
    }
   ],
   "source": [
    "za_data.columns"
   ]
  },
  {
   "cell_type": "code",
   "execution_count": 4,
   "id": "0ee6f42e",
   "metadata": {},
   "outputs": [
    {
     "data": {
      "text/plain": [
       "23"
      ]
     },
     "execution_count": 4,
     "metadata": {},
     "output_type": "execute_result"
    }
   ],
   "source": [
    "len(list(za_data.columns))"
   ]
  },
  {
   "cell_type": "code",
   "execution_count": 5,
   "id": "537d20de",
   "metadata": {},
   "outputs": [],
   "source": [
    "za_data[\"End Date Dt\"] = za_data[\"End Date Dt\"].apply(lambda x : datetime.strptime(x, '%Y-%m-%d'))"
   ]
  },
  {
   "cell_type": "code",
   "execution_count": 6,
   "id": "14f21b1f",
   "metadata": {},
   "outputs": [
    {
     "data": {
      "text/plain": [
       "(57686, 23)"
      ]
     },
     "execution_count": 6,
     "metadata": {},
     "output_type": "execute_result"
    }
   ],
   "source": [
    "za_data.shape"
   ]
  },
  {
   "cell_type": "code",
   "execution_count": 7,
   "id": "c6b8b1fd",
   "metadata": {},
   "outputs": [],
   "source": [
    "za_data_test = za_data[za_data['End Date Dt'] > datetime(2023, 5, 31)]\n",
    "\n",
    "za_data_test_first_time = za_data_test[za_data_test[\"trackAppearanceCount\"] == 0]\n",
    "za_data_test_first_time_df = za_data_test_first_time[['main_artist', 'track_name', \"trackAppearanceCount\", \"artistAppearanceCount\", \"rank\", \"peak_rank\", 'previous_rank', 'weeks_on_chart', 'streams', 'ArtistCount', 'isTopTen', 'rank difference']]\n",
    "\n",
    "\n",
    "za_data_test = za_data_test[za_data_test[\"trackAppearanceCount\"] != 0]\n",
    "za_data = za_data[za_data['End Date Dt'] <= datetime(2023, 5, 31)]"
   ]
  },
  {
   "cell_type": "code",
   "execution_count": 8,
   "id": "ccd6cfe1",
   "metadata": {},
   "outputs": [],
   "source": [
    "za_data_df = za_data[['main_artist', 'track_name', \"trackAppearanceCount\", \"artistAppearanceCount\", \"rank\", \"peak_rank\", 'previous_rank', 'weeks_on_chart', 'streams', 'ArtistCount', 'isTopTen', 'rank difference']]\n",
    "za_data_test_df = za_data_test[['main_artist', 'track_name', \"trackAppearanceCount\", \"artistAppearanceCount\", \"rank\", \"peak_rank\", 'previous_rank', 'weeks_on_chart', 'streams', 'ArtistCount', 'isTopTen', 'rank difference']]"
   ]
  },
  {
   "cell_type": "code",
   "execution_count": 9,
   "id": "c0bd9ec0",
   "metadata": {},
   "outputs": [],
   "source": [
    "# za_data[\"End Date\"].unique().tolist()"
   ]
  },
  {
   "cell_type": "code",
   "execution_count": 10,
   "id": "cad1d76b",
   "metadata": {},
   "outputs": [
    {
     "data": {
      "text/html": [
       "<div>\n",
       "<style scoped>\n",
       "    .dataframe tbody tr th:only-of-type {\n",
       "        vertical-align: middle;\n",
       "    }\n",
       "\n",
       "    .dataframe tbody tr th {\n",
       "        vertical-align: top;\n",
       "    }\n",
       "\n",
       "    .dataframe thead th {\n",
       "        text-align: right;\n",
       "    }\n",
       "</style>\n",
       "<table border=\"1\" class=\"dataframe\">\n",
       "  <thead>\n",
       "    <tr style=\"text-align: right;\">\n",
       "      <th></th>\n",
       "      <th>main_artist</th>\n",
       "      <th>track_name</th>\n",
       "      <th>trackAppearanceCount</th>\n",
       "      <th>artistAppearanceCount</th>\n",
       "      <th>rank</th>\n",
       "      <th>peak_rank</th>\n",
       "      <th>previous_rank</th>\n",
       "      <th>weeks_on_chart</th>\n",
       "      <th>streams</th>\n",
       "      <th>ArtistCount</th>\n",
       "      <th>isTopTen</th>\n",
       "      <th>rank difference</th>\n",
       "    </tr>\n",
       "  </thead>\n",
       "  <tbody>\n",
       "    <tr>\n",
       "      <th>1949</th>\n",
       "      <td>Alicia Keys</td>\n",
       "      <td>Un-thinkable (I'm Ready)</td>\n",
       "      <td>0</td>\n",
       "      <td>11</td>\n",
       "      <td>176</td>\n",
       "      <td>176</td>\n",
       "      <td>-1</td>\n",
       "      <td>1</td>\n",
       "      <td>52716</td>\n",
       "      <td>1</td>\n",
       "      <td>0</td>\n",
       "      <td>0</td>\n",
       "    </tr>\n",
       "    <tr>\n",
       "      <th>2937</th>\n",
       "      <td>Asanda Mkhize</td>\n",
       "      <td>Buya Ekhaya Bakulindile</td>\n",
       "      <td>0</td>\n",
       "      <td>0</td>\n",
       "      <td>161</td>\n",
       "      <td>161</td>\n",
       "      <td>-1</td>\n",
       "      <td>1</td>\n",
       "      <td>52843</td>\n",
       "      <td>1</td>\n",
       "      <td>0</td>\n",
       "      <td>0</td>\n",
       "    </tr>\n",
       "    <tr>\n",
       "      <th>3455</th>\n",
       "      <td>Aymos</td>\n",
       "      <td>Amandla</td>\n",
       "      <td>0</td>\n",
       "      <td>87</td>\n",
       "      <td>118</td>\n",
       "      <td>118</td>\n",
       "      <td>-1</td>\n",
       "      <td>1</td>\n",
       "      <td>63887</td>\n",
       "      <td>1</td>\n",
       "      <td>0</td>\n",
       "      <td>0</td>\n",
       "    </tr>\n",
       "    <tr>\n",
       "      <th>3909</th>\n",
       "      <td>BTS</td>\n",
       "      <td>Take Two</td>\n",
       "      <td>0</td>\n",
       "      <td>145</td>\n",
       "      <td>67</td>\n",
       "      <td>67</td>\n",
       "      <td>-1</td>\n",
       "      <td>1</td>\n",
       "      <td>80460</td>\n",
       "      <td>1</td>\n",
       "      <td>0</td>\n",
       "      <td>0</td>\n",
       "    </tr>\n",
       "    <tr>\n",
       "      <th>3917</th>\n",
       "      <td>Baby Keem</td>\n",
       "      <td>The Hillbillies</td>\n",
       "      <td>0</td>\n",
       "      <td>76</td>\n",
       "      <td>155</td>\n",
       "      <td>155</td>\n",
       "      <td>-1</td>\n",
       "      <td>1</td>\n",
       "      <td>53827</td>\n",
       "      <td>1</td>\n",
       "      <td>0</td>\n",
       "      <td>0</td>\n",
       "    </tr>\n",
       "    <tr>\n",
       "      <th>...</th>\n",
       "      <td>...</td>\n",
       "      <td>...</td>\n",
       "      <td>...</td>\n",
       "      <td>...</td>\n",
       "      <td>...</td>\n",
       "      <td>...</td>\n",
       "      <td>...</td>\n",
       "      <td>...</td>\n",
       "      <td>...</td>\n",
       "      <td>...</td>\n",
       "      <td>...</td>\n",
       "      <td>...</td>\n",
       "    </tr>\n",
       "    <tr>\n",
       "      <th>56766</th>\n",
       "      <td>Young Thug</td>\n",
       "      <td>Went Thru It</td>\n",
       "      <td>0</td>\n",
       "      <td>128</td>\n",
       "      <td>197</td>\n",
       "      <td>197</td>\n",
       "      <td>-1</td>\n",
       "      <td>1</td>\n",
       "      <td>46852</td>\n",
       "      <td>1</td>\n",
       "      <td>0</td>\n",
       "      <td>0</td>\n",
       "    </tr>\n",
       "    <tr>\n",
       "      <th>56767</th>\n",
       "      <td>Young Thug</td>\n",
       "      <td>Wit Da Racks (feat. 21 Savage, Travis Scott &amp; ...</td>\n",
       "      <td>0</td>\n",
       "      <td>119</td>\n",
       "      <td>85</td>\n",
       "      <td>85</td>\n",
       "      <td>-1</td>\n",
       "      <td>1</td>\n",
       "      <td>71251</td>\n",
       "      <td>3</td>\n",
       "      <td>0</td>\n",
       "      <td>0</td>\n",
       "    </tr>\n",
       "    <tr>\n",
       "      <th>56886</th>\n",
       "      <td>Zakwe</td>\n",
       "      <td>Thixo Wami</td>\n",
       "      <td>0</td>\n",
       "      <td>0</td>\n",
       "      <td>149</td>\n",
       "      <td>149</td>\n",
       "      <td>-1</td>\n",
       "      <td>1</td>\n",
       "      <td>53564</td>\n",
       "      <td>1</td>\n",
       "      <td>0</td>\n",
       "      <td>0</td>\n",
       "    </tr>\n",
       "    <tr>\n",
       "      <th>56887</th>\n",
       "      <td>Zan'Ten</td>\n",
       "      <td>I like your style (feat. Kyika DeSoul)</td>\n",
       "      <td>0</td>\n",
       "      <td>0</td>\n",
       "      <td>96</td>\n",
       "      <td>96</td>\n",
       "      <td>-1</td>\n",
       "      <td>1</td>\n",
       "      <td>61002</td>\n",
       "      <td>2</td>\n",
       "      <td>0</td>\n",
       "      <td>0</td>\n",
       "    </tr>\n",
       "    <tr>\n",
       "      <th>57655</th>\n",
       "      <td>the King will come</td>\n",
       "      <td>Yet</td>\n",
       "      <td>0</td>\n",
       "      <td>0</td>\n",
       "      <td>192</td>\n",
       "      <td>192</td>\n",
       "      <td>-1</td>\n",
       "      <td>1</td>\n",
       "      <td>42319</td>\n",
       "      <td>1</td>\n",
       "      <td>0</td>\n",
       "      <td>0</td>\n",
       "    </tr>\n",
       "  </tbody>\n",
       "</table>\n",
       "<p>262 rows × 12 columns</p>\n",
       "</div>"
      ],
      "text/plain": [
       "              main_artist                                         track_name  \\\n",
       "1949          Alicia Keys                           Un-thinkable (I'm Ready)   \n",
       "2937        Asanda Mkhize                            Buya Ekhaya Bakulindile   \n",
       "3455                Aymos                                            Amandla   \n",
       "3909                  BTS                                           Take Two   \n",
       "3917            Baby Keem                                    The Hillbillies   \n",
       "...                   ...                                                ...   \n",
       "56766          Young Thug                                       Went Thru It   \n",
       "56767          Young Thug  Wit Da Racks (feat. 21 Savage, Travis Scott & ...   \n",
       "56886               Zakwe                                         Thixo Wami   \n",
       "56887             Zan'Ten             I like your style (feat. Kyika DeSoul)   \n",
       "57655  the King will come                                                Yet   \n",
       "\n",
       "       trackAppearanceCount  artistAppearanceCount  rank  peak_rank  \\\n",
       "1949                      0                     11   176        176   \n",
       "2937                      0                      0   161        161   \n",
       "3455                      0                     87   118        118   \n",
       "3909                      0                    145    67         67   \n",
       "3917                      0                     76   155        155   \n",
       "...                     ...                    ...   ...        ...   \n",
       "56766                     0                    128   197        197   \n",
       "56767                     0                    119    85         85   \n",
       "56886                     0                      0   149        149   \n",
       "56887                     0                      0    96         96   \n",
       "57655                     0                      0   192        192   \n",
       "\n",
       "       previous_rank  weeks_on_chart  streams  ArtistCount  isTopTen  \\\n",
       "1949              -1               1    52716            1         0   \n",
       "2937              -1               1    52843            1         0   \n",
       "3455              -1               1    63887            1         0   \n",
       "3909              -1               1    80460            1         0   \n",
       "3917              -1               1    53827            1         0   \n",
       "...              ...             ...      ...          ...       ...   \n",
       "56766             -1               1    46852            1         0   \n",
       "56767             -1               1    71251            3         0   \n",
       "56886             -1               1    53564            1         0   \n",
       "56887             -1               1    61002            2         0   \n",
       "57655             -1               1    42319            1         0   \n",
       "\n",
       "       rank difference  \n",
       "1949                 0  \n",
       "2937                 0  \n",
       "3455                 0  \n",
       "3909                 0  \n",
       "3917                 0  \n",
       "...                ...  \n",
       "56766                0  \n",
       "56767                0  \n",
       "56886                0  \n",
       "56887                0  \n",
       "57655                0  \n",
       "\n",
       "[262 rows x 12 columns]"
      ]
     },
     "execution_count": 10,
     "metadata": {},
     "output_type": "execute_result"
    }
   ],
   "source": [
    "za_data_test_first_time_df"
   ]
  },
  {
   "cell_type": "code",
   "execution_count": 11,
   "id": "a098d4cc",
   "metadata": {},
   "outputs": [],
   "source": [
    "groupby_cols = ['main_artist', 'track_name']"
   ]
  },
  {
   "cell_type": "code",
   "execution_count": 12,
   "id": "2676061d",
   "metadata": {},
   "outputs": [
    {
     "data": {
      "text/html": [
       "<div>\n",
       "<style scoped>\n",
       "    .dataframe tbody tr th:only-of-type {\n",
       "        vertical-align: middle;\n",
       "    }\n",
       "\n",
       "    .dataframe tbody tr th {\n",
       "        vertical-align: top;\n",
       "    }\n",
       "\n",
       "    .dataframe thead th {\n",
       "        text-align: right;\n",
       "    }\n",
       "</style>\n",
       "<table border=\"1\" class=\"dataframe\">\n",
       "  <thead>\n",
       "    <tr style=\"text-align: right;\">\n",
       "      <th></th>\n",
       "      <th>trackAppearanceCount</th>\n",
       "      <th>artistAppearanceCount</th>\n",
       "      <th>rank</th>\n",
       "      <th>uri</th>\n",
       "      <th>artist_names</th>\n",
       "      <th>track_name</th>\n",
       "      <th>source</th>\n",
       "      <th>peak_rank</th>\n",
       "      <th>previous_rank</th>\n",
       "      <th>weeks_on_chart</th>\n",
       "      <th>...</th>\n",
       "      <th>Year</th>\n",
       "      <th>End Date Dt</th>\n",
       "      <th>Seconds since Epoch</th>\n",
       "      <th>End Date Aggregated</th>\n",
       "      <th>ArtistCount</th>\n",
       "      <th>main_artist</th>\n",
       "      <th>isTopTen</th>\n",
       "      <th>Artist and Track</th>\n",
       "      <th>rank difference</th>\n",
       "      <th>Position over Time</th>\n",
       "    </tr>\n",
       "  </thead>\n",
       "  <tbody>\n",
       "    <tr>\n",
       "      <th>1949</th>\n",
       "      <td>0</td>\n",
       "      <td>11</td>\n",
       "      <td>176</td>\n",
       "      <td>spotify:track:4JOP8ELK6AaeySe7sKe996</td>\n",
       "      <td>Alicia Keys</td>\n",
       "      <td>Un-thinkable (I'm Ready)</td>\n",
       "      <td>J Records</td>\n",
       "      <td>176</td>\n",
       "      <td>-1</td>\n",
       "      <td>1</td>\n",
       "      <td>...</td>\n",
       "      <td>2023</td>\n",
       "      <td>2023-08-10</td>\n",
       "      <td>1.691626e+09</td>\n",
       "      <td>2023-08-01</td>\n",
       "      <td>1</td>\n",
       "      <td>Alicia Keys</td>\n",
       "      <td>0</td>\n",
       "      <td>Alicia Keys; Un-thinkable (I'm Ready)</td>\n",
       "      <td>0</td>\n",
       "      <td>0</td>\n",
       "    </tr>\n",
       "    <tr>\n",
       "      <th>2937</th>\n",
       "      <td>0</td>\n",
       "      <td>0</td>\n",
       "      <td>161</td>\n",
       "      <td>spotify:track:03UyKs3LHcluXW76ZKuWhy</td>\n",
       "      <td>Asanda Mkhize</td>\n",
       "      <td>Buya Ekhaya Bakulindile</td>\n",
       "      <td>Asanda Mkhize</td>\n",
       "      <td>161</td>\n",
       "      <td>-1</td>\n",
       "      <td>1</td>\n",
       "      <td>...</td>\n",
       "      <td>2023</td>\n",
       "      <td>2023-06-08</td>\n",
       "      <td>1.686182e+09</td>\n",
       "      <td>2023-06-01</td>\n",
       "      <td>1</td>\n",
       "      <td>Asanda Mkhize</td>\n",
       "      <td>0</td>\n",
       "      <td>Asanda Mkhize; Buya Ekhaya Bakulindile</td>\n",
       "      <td>0</td>\n",
       "      <td>0</td>\n",
       "    </tr>\n",
       "    <tr>\n",
       "      <th>3455</th>\n",
       "      <td>0</td>\n",
       "      <td>87</td>\n",
       "      <td>118</td>\n",
       "      <td>spotify:track:4SHBNhM1S8QZgsx8pCdthw</td>\n",
       "      <td>Aymos, Jessica LM</td>\n",
       "      <td>Amandla</td>\n",
       "      <td>Lyf Styl Entertainment</td>\n",
       "      <td>118</td>\n",
       "      <td>-1</td>\n",
       "      <td>1</td>\n",
       "      <td>...</td>\n",
       "      <td>2023</td>\n",
       "      <td>2023-06-15</td>\n",
       "      <td>1.686787e+09</td>\n",
       "      <td>2023-06-01</td>\n",
       "      <td>1</td>\n",
       "      <td>Aymos</td>\n",
       "      <td>0</td>\n",
       "      <td>Aymos, Jessica LM; Amandla</td>\n",
       "      <td>0</td>\n",
       "      <td>0</td>\n",
       "    </tr>\n",
       "    <tr>\n",
       "      <th>3909</th>\n",
       "      <td>0</td>\n",
       "      <td>145</td>\n",
       "      <td>67</td>\n",
       "      <td>spotify:track:5IAESfJjmOYu7cHyX557kz</td>\n",
       "      <td>BTS</td>\n",
       "      <td>Take Two</td>\n",
       "      <td>BIGHIT MUSIC</td>\n",
       "      <td>67</td>\n",
       "      <td>-1</td>\n",
       "      <td>1</td>\n",
       "      <td>...</td>\n",
       "      <td>2023</td>\n",
       "      <td>2023-06-15</td>\n",
       "      <td>1.686787e+09</td>\n",
       "      <td>2023-06-01</td>\n",
       "      <td>1</td>\n",
       "      <td>BTS</td>\n",
       "      <td>0</td>\n",
       "      <td>BTS; Take Two</td>\n",
       "      <td>0</td>\n",
       "      <td>0</td>\n",
       "    </tr>\n",
       "    <tr>\n",
       "      <th>3917</th>\n",
       "      <td>0</td>\n",
       "      <td>76</td>\n",
       "      <td>155</td>\n",
       "      <td>spotify:track:1h6w4POXM2LfG4ZD4xUfZQ</td>\n",
       "      <td>Baby Keem, Kendrick Lamar</td>\n",
       "      <td>The Hillbillies</td>\n",
       "      <td>pgLang/Columbia</td>\n",
       "      <td>155</td>\n",
       "      <td>-1</td>\n",
       "      <td>1</td>\n",
       "      <td>...</td>\n",
       "      <td>2023</td>\n",
       "      <td>2023-06-08</td>\n",
       "      <td>1.686182e+09</td>\n",
       "      <td>2023-06-01</td>\n",
       "      <td>1</td>\n",
       "      <td>Baby Keem</td>\n",
       "      <td>0</td>\n",
       "      <td>Baby Keem, Kendrick Lamar; The Hillbillies</td>\n",
       "      <td>0</td>\n",
       "      <td>0</td>\n",
       "    </tr>\n",
       "    <tr>\n",
       "      <th>...</th>\n",
       "      <td>...</td>\n",
       "      <td>...</td>\n",
       "      <td>...</td>\n",
       "      <td>...</td>\n",
       "      <td>...</td>\n",
       "      <td>...</td>\n",
       "      <td>...</td>\n",
       "      <td>...</td>\n",
       "      <td>...</td>\n",
       "      <td>...</td>\n",
       "      <td>...</td>\n",
       "      <td>...</td>\n",
       "      <td>...</td>\n",
       "      <td>...</td>\n",
       "      <td>...</td>\n",
       "      <td>...</td>\n",
       "      <td>...</td>\n",
       "      <td>...</td>\n",
       "      <td>...</td>\n",
       "      <td>...</td>\n",
       "      <td>...</td>\n",
       "    </tr>\n",
       "    <tr>\n",
       "      <th>56766</th>\n",
       "      <td>0</td>\n",
       "      <td>128</td>\n",
       "      <td>197</td>\n",
       "      <td>spotify:track:7fYI5lJNkyJMtTdhIVPy07</td>\n",
       "      <td>Young Thug</td>\n",
       "      <td>Went Thru It</td>\n",
       "      <td>300 Entertainment/Atl</td>\n",
       "      <td>197</td>\n",
       "      <td>-1</td>\n",
       "      <td>1</td>\n",
       "      <td>...</td>\n",
       "      <td>2023</td>\n",
       "      <td>2023-06-29</td>\n",
       "      <td>1.687997e+09</td>\n",
       "      <td>2023-06-01</td>\n",
       "      <td>1</td>\n",
       "      <td>Young Thug</td>\n",
       "      <td>0</td>\n",
       "      <td>Young Thug; Went Thru It</td>\n",
       "      <td>0</td>\n",
       "      <td>0</td>\n",
       "    </tr>\n",
       "    <tr>\n",
       "      <th>56767</th>\n",
       "      <td>0</td>\n",
       "      <td>119</td>\n",
       "      <td>85</td>\n",
       "      <td>spotify:track:0r75DNlHu4recmKUdZeMfG</td>\n",
       "      <td>Young Thug, Yak Gotti, Travis Scott, 21 Savage</td>\n",
       "      <td>Wit Da Racks (feat. 21 Savage, Travis Scott &amp; ...</td>\n",
       "      <td>300 Entertainment/Atl</td>\n",
       "      <td>85</td>\n",
       "      <td>-1</td>\n",
       "      <td>1</td>\n",
       "      <td>...</td>\n",
       "      <td>2023</td>\n",
       "      <td>2023-06-29</td>\n",
       "      <td>1.687997e+09</td>\n",
       "      <td>2023-06-01</td>\n",
       "      <td>3</td>\n",
       "      <td>Young Thug</td>\n",
       "      <td>0</td>\n",
       "      <td>Young Thug, Yak Gotti, Travis Scott, 21 Savage...</td>\n",
       "      <td>0</td>\n",
       "      <td>0</td>\n",
       "    </tr>\n",
       "    <tr>\n",
       "      <th>56886</th>\n",
       "      <td>0</td>\n",
       "      <td>0</td>\n",
       "      <td>149</td>\n",
       "      <td>spotify:track:4txtAWhrRwxQeMXU87XG8O</td>\n",
       "      <td>Zakwe, Big Zulu, Zola, Riot</td>\n",
       "      <td>Thixo Wami</td>\n",
       "      <td>iTsotsi By Nature</td>\n",
       "      <td>149</td>\n",
       "      <td>-1</td>\n",
       "      <td>1</td>\n",
       "      <td>...</td>\n",
       "      <td>2023</td>\n",
       "      <td>2023-06-29</td>\n",
       "      <td>1.687997e+09</td>\n",
       "      <td>2023-06-01</td>\n",
       "      <td>1</td>\n",
       "      <td>Zakwe</td>\n",
       "      <td>0</td>\n",
       "      <td>Zakwe, Big Zulu, Zola, Riot; Thixo Wami</td>\n",
       "      <td>0</td>\n",
       "      <td>0</td>\n",
       "    </tr>\n",
       "    <tr>\n",
       "      <th>56887</th>\n",
       "      <td>0</td>\n",
       "      <td>0</td>\n",
       "      <td>96</td>\n",
       "      <td>spotify:track:4vRE28THNRQoTzZLuwaGmh</td>\n",
       "      <td>Zan'Ten, Kyika DeSoul</td>\n",
       "      <td>I like your style (feat. Kyika DeSoul)</td>\n",
       "      <td>Sound African Recordings</td>\n",
       "      <td>96</td>\n",
       "      <td>-1</td>\n",
       "      <td>1</td>\n",
       "      <td>...</td>\n",
       "      <td>2023</td>\n",
       "      <td>2023-07-27</td>\n",
       "      <td>1.690416e+09</td>\n",
       "      <td>2023-07-01</td>\n",
       "      <td>2</td>\n",
       "      <td>Zan'Ten</td>\n",
       "      <td>0</td>\n",
       "      <td>Zan'Ten, Kyika DeSoul; I like your style (feat...</td>\n",
       "      <td>0</td>\n",
       "      <td>0</td>\n",
       "    </tr>\n",
       "    <tr>\n",
       "      <th>57655</th>\n",
       "      <td>0</td>\n",
       "      <td>0</td>\n",
       "      <td>192</td>\n",
       "      <td>spotify:track:6I2GrwoJw23AKpqpE14KFq</td>\n",
       "      <td>the King will come</td>\n",
       "      <td>Yet</td>\n",
       "      <td>the King will come</td>\n",
       "      <td>192</td>\n",
       "      <td>-1</td>\n",
       "      <td>1</td>\n",
       "      <td>...</td>\n",
       "      <td>2023</td>\n",
       "      <td>2023-07-20</td>\n",
       "      <td>1.689811e+09</td>\n",
       "      <td>2023-07-01</td>\n",
       "      <td>1</td>\n",
       "      <td>the King will come</td>\n",
       "      <td>0</td>\n",
       "      <td>the King will come; Yet</td>\n",
       "      <td>0</td>\n",
       "      <td>0</td>\n",
       "    </tr>\n",
       "  </tbody>\n",
       "</table>\n",
       "<p>262 rows × 23 columns</p>\n",
       "</div>"
      ],
      "text/plain": [
       "       trackAppearanceCount  artistAppearanceCount  rank  \\\n",
       "1949                      0                     11   176   \n",
       "2937                      0                      0   161   \n",
       "3455                      0                     87   118   \n",
       "3909                      0                    145    67   \n",
       "3917                      0                     76   155   \n",
       "...                     ...                    ...   ...   \n",
       "56766                     0                    128   197   \n",
       "56767                     0                    119    85   \n",
       "56886                     0                      0   149   \n",
       "56887                     0                      0    96   \n",
       "57655                     0                      0   192   \n",
       "\n",
       "                                        uri  \\\n",
       "1949   spotify:track:4JOP8ELK6AaeySe7sKe996   \n",
       "2937   spotify:track:03UyKs3LHcluXW76ZKuWhy   \n",
       "3455   spotify:track:4SHBNhM1S8QZgsx8pCdthw   \n",
       "3909   spotify:track:5IAESfJjmOYu7cHyX557kz   \n",
       "3917   spotify:track:1h6w4POXM2LfG4ZD4xUfZQ   \n",
       "...                                     ...   \n",
       "56766  spotify:track:7fYI5lJNkyJMtTdhIVPy07   \n",
       "56767  spotify:track:0r75DNlHu4recmKUdZeMfG   \n",
       "56886  spotify:track:4txtAWhrRwxQeMXU87XG8O   \n",
       "56887  spotify:track:4vRE28THNRQoTzZLuwaGmh   \n",
       "57655  spotify:track:6I2GrwoJw23AKpqpE14KFq   \n",
       "\n",
       "                                         artist_names  \\\n",
       "1949                                      Alicia Keys   \n",
       "2937                                    Asanda Mkhize   \n",
       "3455                                Aymos, Jessica LM   \n",
       "3909                                              BTS   \n",
       "3917                        Baby Keem, Kendrick Lamar   \n",
       "...                                               ...   \n",
       "56766                                      Young Thug   \n",
       "56767  Young Thug, Yak Gotti, Travis Scott, 21 Savage   \n",
       "56886                     Zakwe, Big Zulu, Zola, Riot   \n",
       "56887                           Zan'Ten, Kyika DeSoul   \n",
       "57655                              the King will come   \n",
       "\n",
       "                                              track_name  \\\n",
       "1949                            Un-thinkable (I'm Ready)   \n",
       "2937                             Buya Ekhaya Bakulindile   \n",
       "3455                                             Amandla   \n",
       "3909                                            Take Two   \n",
       "3917                                     The Hillbillies   \n",
       "...                                                  ...   \n",
       "56766                                       Went Thru It   \n",
       "56767  Wit Da Racks (feat. 21 Savage, Travis Scott & ...   \n",
       "56886                                         Thixo Wami   \n",
       "56887             I like your style (feat. Kyika DeSoul)   \n",
       "57655                                                Yet   \n",
       "\n",
       "                         source  peak_rank  previous_rank  weeks_on_chart  \\\n",
       "1949                  J Records        176             -1               1   \n",
       "2937              Asanda Mkhize        161             -1               1   \n",
       "3455     Lyf Styl Entertainment        118             -1               1   \n",
       "3909               BIGHIT MUSIC         67             -1               1   \n",
       "3917            pgLang/Columbia        155             -1               1   \n",
       "...                         ...        ...            ...             ...   \n",
       "56766     300 Entertainment/Atl        197             -1               1   \n",
       "56767     300 Entertainment/Atl         85             -1               1   \n",
       "56886         iTsotsi By Nature        149             -1               1   \n",
       "56887  Sound African Recordings         96             -1               1   \n",
       "57655        the King will come        192             -1               1   \n",
       "\n",
       "       ...  Year End Date Dt  Seconds since Epoch  End Date Aggregated  \\\n",
       "1949   ...  2023  2023-08-10         1.691626e+09           2023-08-01   \n",
       "2937   ...  2023  2023-06-08         1.686182e+09           2023-06-01   \n",
       "3455   ...  2023  2023-06-15         1.686787e+09           2023-06-01   \n",
       "3909   ...  2023  2023-06-15         1.686787e+09           2023-06-01   \n",
       "3917   ...  2023  2023-06-08         1.686182e+09           2023-06-01   \n",
       "...    ...   ...         ...                  ...                  ...   \n",
       "56766  ...  2023  2023-06-29         1.687997e+09           2023-06-01   \n",
       "56767  ...  2023  2023-06-29         1.687997e+09           2023-06-01   \n",
       "56886  ...  2023  2023-06-29         1.687997e+09           2023-06-01   \n",
       "56887  ...  2023  2023-07-27         1.690416e+09           2023-07-01   \n",
       "57655  ...  2023  2023-07-20         1.689811e+09           2023-07-01   \n",
       "\n",
       "      ArtistCount         main_artist isTopTen  \\\n",
       "1949            1         Alicia Keys        0   \n",
       "2937            1       Asanda Mkhize        0   \n",
       "3455            1               Aymos        0   \n",
       "3909            1                 BTS        0   \n",
       "3917            1           Baby Keem        0   \n",
       "...           ...                 ...      ...   \n",
       "56766           1          Young Thug        0   \n",
       "56767           3          Young Thug        0   \n",
       "56886           1               Zakwe        0   \n",
       "56887           2             Zan'Ten        0   \n",
       "57655           1  the King will come        0   \n",
       "\n",
       "                                        Artist and Track rank difference  \\\n",
       "1949               Alicia Keys; Un-thinkable (I'm Ready)               0   \n",
       "2937              Asanda Mkhize; Buya Ekhaya Bakulindile               0   \n",
       "3455                          Aymos, Jessica LM; Amandla               0   \n",
       "3909                                       BTS; Take Two               0   \n",
       "3917          Baby Keem, Kendrick Lamar; The Hillbillies               0   \n",
       "...                                                  ...             ...   \n",
       "56766                           Young Thug; Went Thru It               0   \n",
       "56767  Young Thug, Yak Gotti, Travis Scott, 21 Savage...               0   \n",
       "56886            Zakwe, Big Zulu, Zola, Riot; Thixo Wami               0   \n",
       "56887  Zan'Ten, Kyika DeSoul; I like your style (feat...               0   \n",
       "57655                            the King will come; Yet               0   \n",
       "\n",
       "       Position over Time  \n",
       "1949                    0  \n",
       "2937                    0  \n",
       "3455                    0  \n",
       "3909                    0  \n",
       "3917                    0  \n",
       "...                   ...  \n",
       "56766                   0  \n",
       "56767                   0  \n",
       "56886                   0  \n",
       "56887                   0  \n",
       "57655                   0  \n",
       "\n",
       "[262 rows x 23 columns]"
      ]
     },
     "execution_count": 12,
     "metadata": {},
     "output_type": "execute_result"
    }
   ],
   "source": [
    "za_data_test_first_time"
   ]
  },
  {
   "cell_type": "markdown",
   "id": "713f4af7",
   "metadata": {},
   "source": [
    "### 0. Entry Position into Chart"
   ]
  },
  {
   "cell_type": "code",
   "execution_count": 13,
   "id": "8646c4ea",
   "metadata": {},
   "outputs": [],
   "source": [
    "def findingtheentrypos(za_data):\n",
    "    \n",
    "    groupednum_songs = za_data.groupby(groupby_cols)[\"End Date\"].agg(\"min\")\n",
    "    groupednum_songs_df = pd.DataFrame(groupednum_songs).reset_index()\n",
    "    groupednum_songs_df.columns = groupby_cols + [\"Artist Song Start Date\"]\n",
    "    \n",
    "    groupednum_songs_df = groupednum_songs_df.drop_duplicates()\n",
    "    groupednum_songs_df.shape\n",
    "    \n",
    "    groupednum_songs_ls = groupednum_songs_df.values.tolist()\n",
    "    \n",
    "    thefirstones = []\n",
    "    for artsongls in groupednum_songs_ls:\n",
    "        theartist = artsongls[0]\n",
    "        thetrack = artsongls[1]\n",
    "        thestartdate = artsongls[2]\n",
    "        thefirstones.append(za_data[(za_data[\"main_artist\"] == theartist) & (za_data[\"track_name\"] == thetrack) & (za_data[\"End Date\"] == thestartdate)])\n",
    "        \n",
    "    first_track_position_df = pd.concat(thefirstones)\n",
    "    \n",
    "    first_track_position_df_relevant = first_track_position_df[[\"main_artist\", \"track_name\", \"rank\", \"End Date\"]]\n",
    "    first_track_position_df_relevant.columns = [\"main_artist\", \"track_name\", \"entry rank\", \"End Date\"]\n",
    "    \n",
    "    groupednum_songs = za_data.groupby(groupby_cols)[\"End Date\"].agg(\"count\")\n",
    "    groupednum_songs_df = pd.DataFrame(groupednum_songs).reset_index()\n",
    "    groupednum_songs_df.columns = groupby_cols + [\"Artist Song Count\"]\n",
    "    \n",
    "    return groupednum_songs_df, first_track_position_df_relevant"
   ]
  },
  {
   "cell_type": "markdown",
   "id": "2681298a",
   "metadata": {},
   "source": [
    "### 1. Streams"
   ]
  },
  {
   "cell_type": "code",
   "execution_count": 14,
   "id": "946c6ce1",
   "metadata": {},
   "outputs": [],
   "source": [
    "def findtheMinMaxMeanStreams(za_data):\n",
    "    groupedmax_streams = za_data.groupby(groupby_cols)[\"streams\"].agg(\"max\")\n",
    "    groupedmax_streams_df = pd.DataFrame(groupedmax_streams).reset_index()\n",
    "    groupedmax_streams_df.columns = groupby_cols + [\"Max Streams per Song\"]\n",
    "    \n",
    "    groupedmin_streams = za_data.groupby(groupby_cols)[\"streams\"].agg(\"min\")\n",
    "    groupedmin_streams_df = pd.DataFrame(groupedmin_streams).reset_index()\n",
    "    groupedmin_streams_df.columns = groupby_cols + [\"Min Streams per Song\"]\n",
    "    \n",
    "    groupedsum_streams = za_data.groupby(groupby_cols)[\"streams\"].agg(\"sum\")\n",
    "    groupedsum_streams_df = pd.DataFrame(groupedsum_streams).reset_index()\n",
    "    groupedsum_streams_df.columns = groupby_cols + [\"Total Streams per Song\"]\n",
    "\n",
    "    groupedmean_streams = za_data.groupby(groupby_cols)[\"streams\"].agg(\"mean\")\n",
    "    groupedmean_streams_df = pd.DataFrame(groupedmean_streams).reset_index()\n",
    "    groupedmean_streams_df.columns = groupby_cols + [\"Mean Streams per Song\"]\n",
    "    \n",
    "    return groupedmax_streams_df, groupedmin_streams_df, groupedsum_streams_df, groupedmean_streams_df"
   ]
  },
  {
   "cell_type": "markdown",
   "id": "fe7fb879",
   "metadata": {},
   "source": [
    "### 2. Positions"
   ]
  },
  {
   "cell_type": "code",
   "execution_count": 15,
   "id": "37b2e784",
   "metadata": {},
   "outputs": [],
   "source": [
    "def findtheMinMaxPositions(za_data):\n",
    "    groupedpos_streams = za_data.groupby(groupby_cols)[\"rank\"].agg(\"min\")\n",
    "    groupedpos_streams_df = pd.DataFrame(groupedpos_streams).reset_index()\n",
    "    groupedpos_streams_df.columns = groupby_cols + [\"Min Position per Song\"]\n",
    "\n",
    "    groupedposmax_streams = za_data.groupby(groupby_cols)[\"rank\"].agg(\"max\")\n",
    "    groupedposmax_streams_df = pd.DataFrame(groupedposmax_streams).reset_index()\n",
    "    groupedposmax_streams_df.columns = groupby_cols + [\"Max Position per Song\"]\n",
    "    \n",
    "    return groupedpos_streams_df, groupedposmax_streams_df"
   ]
  },
  {
   "cell_type": "markdown",
   "id": "da075820",
   "metadata": {},
   "source": [
    "### Number of songs per artist"
   ]
  },
  {
   "cell_type": "code",
   "execution_count": 16,
   "id": "8e63f9fb",
   "metadata": {},
   "outputs": [],
   "source": [
    "def findtheMaxArtistAppearanceTimes(za_data):\n",
    "    \n",
    "    groupedpos_streams = za_data.groupby([\"main_artist\"])[\"artistAppearanceCount\"].agg(\"max\")\n",
    "    groupedmin_songs_df = pd.DataFrame(groupedpos_streams).reset_index()\n",
    "    groupedmin_songs_df.columns = [\"main_artist\"] + [\"Max Artist Appearance\"]\n",
    "    \n",
    "    return groupedmin_songs_df"
   ]
  },
  {
   "cell_type": "markdown",
   "id": "356c1c82",
   "metadata": {},
   "source": [
    "#### Maximum number of times an artist has appeared on the chart"
   ]
  },
  {
   "cell_type": "code",
   "execution_count": 17,
   "id": "4ca64a41",
   "metadata": {},
   "outputs": [],
   "source": [
    "def findtheMinMaxNumofSongs(za_data):\n",
    "    \n",
    "    groupedpos_streams = za_data.groupby([\"main_artist\"])[\"Artist Song Count\"].agg(\"max\")\n",
    "    groupedmin_songs_df = pd.DataFrame(groupedpos_streams).reset_index()\n",
    "    groupedmin_songs_df.columns = [\"main_artist\"] + [\"Max Song Count per artist\"]\n",
    "    \n",
    "    return groupedmin_songs_df"
   ]
  },
  {
   "cell_type": "markdown",
   "id": "9ecfa763",
   "metadata": {},
   "source": [
    "#### Number of weeks a song spent on the chart per artist"
   ]
  },
  {
   "cell_type": "code",
   "execution_count": 18,
   "id": "bcc9d4f2",
   "metadata": {},
   "outputs": [],
   "source": [
    "def findtheWeeksonChartperSong(za_data):\n",
    "    \n",
    "    groupedpos_streams = za_data.groupby(groupby_cols)[\"weeks_on_chart\"].agg(\"max\")\n",
    "    groupedmin_songs_df = pd.DataFrame(groupedpos_streams).reset_index()\n",
    "    groupedmin_songs_df.columns = groupby_cols + [\"Max Weeks on Chart per song\"]\n",
    "    \n",
    "    return groupedmin_songs_df"
   ]
  },
  {
   "cell_type": "markdown",
   "id": "8f771d74",
   "metadata": {},
   "source": [
    "#### First week streams and first week positions"
   ]
  },
  {
   "cell_type": "code",
   "execution_count": 19,
   "id": "11470002",
   "metadata": {},
   "outputs": [],
   "source": [
    "def findthePosonWeeksonChartperSong(za_data):\n",
    "    \n",
    "    za_data_first_time = za_data[za_data[\"trackAppearanceCount\"] == 0]\n",
    "    za_data_first_time_df = za_data_first_time[['main_artist', 'track_name', \"rank\", 'streams']]\n",
    "    za_data_first_time_df.columns = ['main_artist', 'track_name', \"first_week_rank\", 'first_week_streams']\n",
    "    \n",
    "    return za_data_first_time_df"
   ]
  },
  {
   "cell_type": "code",
   "execution_count": null,
   "id": "e3bc1098",
   "metadata": {},
   "outputs": [],
   "source": []
  },
  {
   "cell_type": "markdown",
   "id": "c7413f3f",
   "metadata": {},
   "source": [
    "### 3. Dates"
   ]
  },
  {
   "cell_type": "markdown",
   "id": "b6b9acbd",
   "metadata": {},
   "source": [
    "## Combine the dfs"
   ]
  },
  {
   "cell_type": "code",
   "execution_count": 20,
   "id": "80ca1cdc",
   "metadata": {},
   "outputs": [],
   "source": [
    "def combinedataframes(groupedmax_streams_df, groupedmin_streams_df, groupedsum_streams_df, groupedmean_streams_df, groupedpos_streams_df, groupedposmax_streams_df, groupednum_songs_df):\n",
    "    groupeddf = groupedmax_streams_df\n",
    "    \n",
    "    groupeddf[\"Min Streams per Song\"] = groupedmin_streams_df[\"Min Streams per Song\"]\n",
    "    groupeddf[\"Total Streams per Song\"] = groupedsum_streams_df[\"Total Streams per Song\"]\n",
    "    groupeddf[\"Mean Streams per Song\"]= groupedmean_streams_df[\"Mean Streams per Song\"]\n",
    "    groupeddf[\"Min Position per Song\"] = groupedpos_streams_df[\"Min Position per Song\"]\n",
    "    groupeddf[\"Max Position per Song\"] = groupedposmax_streams_df[\"Max Position per Song\"]\n",
    "    groupeddf[\"Artist Song Count\"] = groupednum_songs_df[\"Artist Song Count\"]\n",
    "    \n",
    "    groupeddf[\"MaxMin Difference Position\"] = groupeddf[\"Max Position per Song\"] - groupeddf[\"Min Position per Song\"]\n",
    "    groupeddf[\"MaxMin Difference Streams\"] = groupeddf[\"Max Streams per Song\"] - groupeddf[\"Min Streams per Song\"]\n",
    "    \n",
    "    groupeddf[\"MaxMin Ratio Position\"] = groupeddf[\"Max Position per Song\"] / groupeddf[\"Min Position per Song\"]\n",
    "    groupeddf[\"MaxMin Ratio Streams\"] = groupeddf[\"Max Streams per Song\"] / groupeddf[\"Min Streams per Song\"]\n",
    "    \n",
    "    groupeddf.drop([\"Max Position per Song\"], inplace=True, axis=1)\n",
    "    \n",
    "    groupeddf_startpos = groupeddf.merge(first_track_position_df_relevant[[\"main_artist\", \"track_name\", \"entry rank\"]], left_on=[\"main_artist\", \"track_name\"], right_on=[\"main_artist\", \"track_name\"], how=\"inner\")\n",
    "    \n",
    "    groupeddf_startpos[\"main_art_track\"] = groupeddf_startpos[\"main_artist\"] + groupeddf_startpos[\"track_name\"]\n",
    "    \n",
    "    groupeddf_startpos_regress = groupeddf_startpos[['main_artist', \"main_art_track\", 'entry rank', 'Min Position per Song']].drop_duplicates()\n",
    "    \n",
    "    return groupeddf, groupeddf_startpos_regress\n",
    "    "
   ]
  },
  {
   "cell_type": "code",
   "execution_count": 21,
   "id": "5003a511",
   "metadata": {},
   "outputs": [],
   "source": [
    "some_artists_of_interest = [\"6LACK\", \"9umba\", \"BNXN fka Buju\", \"Black Coffee\", \"Big Zulu\"]\n",
    "groupednum_songs_df, first_track_position_df_relevant = findingtheentrypos(za_data)\n",
    "groupedmax_streams_df, groupedmin_streams_df, groupedsum_streams_df, groupedmean_streams_df = findtheMinMaxMeanStreams(za_data)\n",
    "groupedpos_streams_df, groupedposmax_streams_df = findtheMinMaxPositions(za_data)\n",
    "groupeddf, groupeddf_startpos_regress = combinedataframes(groupedmax_streams_df, groupedmin_streams_df, groupedsum_streams_df, groupedmean_streams_df, groupedpos_streams_df, groupedposmax_streams_df, groupednum_songs_df)\n",
    "filenname = \"zaall\""
   ]
  },
  {
   "cell_type": "code",
   "execution_count": 22,
   "id": "297f0858",
   "metadata": {},
   "outputs": [
    {
     "data": {
      "text/plain": [
       "['main_artist', 'track_name']"
      ]
     },
     "execution_count": 22,
     "metadata": {},
     "output_type": "execute_result"
    }
   ],
   "source": [
    "groupby_cols"
   ]
  },
  {
   "cell_type": "code",
   "execution_count": 23,
   "id": "9727756a",
   "metadata": {},
   "outputs": [],
   "source": [
    "maxsongperartistdf = findtheMinMaxNumofSongs(groupeddf)"
   ]
  },
  {
   "cell_type": "code",
   "execution_count": 24,
   "id": "90d720c7",
   "metadata": {},
   "outputs": [],
   "source": [
    "weeksonchartpersong = findtheWeeksonChartperSong(za_data)"
   ]
  },
  {
   "cell_type": "code",
   "execution_count": 25,
   "id": "467a5b06",
   "metadata": {},
   "outputs": [],
   "source": [
    "firstweekstreamsandrank = findthePosonWeeksonChartperSong(za_data)"
   ]
  },
  {
   "cell_type": "code",
   "execution_count": 26,
   "id": "2b42cc05",
   "metadata": {},
   "outputs": [],
   "source": [
    "maxartistappearances = findtheMaxArtistAppearanceTimes(za_data)"
   ]
  },
  {
   "cell_type": "code",
   "execution_count": 27,
   "id": "eb298725",
   "metadata": {},
   "outputs": [],
   "source": [
    "fingroupeddf = groupeddf.merge(maxsongperartistdf, left_on=[\"main_artist\"], right_on=[\"main_artist\"], how=\"inner\")\n",
    "fingroupeddf = fingroupeddf.drop([\"Artist Song Count\"],axis=1)"
   ]
  },
  {
   "cell_type": "code",
   "execution_count": 28,
   "id": "f4057951",
   "metadata": {},
   "outputs": [],
   "source": [
    "fingroupeddf = fingroupeddf.merge(weeksonchartpersong, left_on=groupby_cols, right_on=groupby_cols, how=\"inner\")"
   ]
  },
  {
   "cell_type": "code",
   "execution_count": 29,
   "id": "301d31ef",
   "metadata": {},
   "outputs": [],
   "source": [
    "fingroupeddf = fingroupeddf.merge(firstweekstreamsandrank, left_on=groupby_cols, right_on=groupby_cols, how=\"inner\")"
   ]
  },
  {
   "cell_type": "code",
   "execution_count": 30,
   "id": "c892a3fc",
   "metadata": {},
   "outputs": [],
   "source": [
    "fingroupeddf = fingroupeddf.merge(maxartistappearances, left_on=[\"main_artist\"], right_on=[\"main_artist\"], how=\"inner\")"
   ]
  },
  {
   "cell_type": "code",
   "execution_count": 31,
   "id": "e3916012",
   "metadata": {},
   "outputs": [],
   "source": [
    "from sklearn import preprocessing\n",
    "le = preprocessing.LabelEncoder()\n",
    "le.fit(za_data[\"source\"])\n",
    "\n",
    "za_encoded_source = le.transform(za_data[\"source\"])\n",
    "za_data[\"encoded_source\"] = za_encoded_source\n",
    "zarelevantsource = za_data[[\"main_artist\", \"track_name\", \"encoded_source\"]]\n",
    "zarelevantsource = zarelevantsource.drop_duplicates()"
   ]
  },
  {
   "cell_type": "code",
   "execution_count": 32,
   "id": "e977527c",
   "metadata": {},
   "outputs": [],
   "source": [
    "fingroupeddf = fingroupeddf.merge(zarelevantsource, left_on=groupby_cols, right_on=groupby_cols, how=\"inner\")"
   ]
  },
  {
   "cell_type": "code",
   "execution_count": 33,
   "id": "7d909b35",
   "metadata": {},
   "outputs": [
    {
     "data": {
      "text/plain": [
       "Index(['main_artist', 'track_name', 'Max Streams per Song',\n",
       "       'Min Streams per Song', 'Total Streams per Song',\n",
       "       'Mean Streams per Song', 'Min Position per Song',\n",
       "       'MaxMin Difference Position', 'MaxMin Difference Streams',\n",
       "       'MaxMin Ratio Position', 'MaxMin Ratio Streams',\n",
       "       'Max Song Count per artist', 'Max Weeks on Chart per song',\n",
       "       'first_week_rank', 'first_week_streams', 'Max Artist Appearance',\n",
       "       'encoded_source'],\n",
       "      dtype='object')"
      ]
     },
     "execution_count": 33,
     "metadata": {},
     "output_type": "execute_result"
    }
   ],
   "source": [
    "fingroupeddf.columns"
   ]
  },
  {
   "cell_type": "code",
   "execution_count": 64,
   "id": "182e68e1",
   "metadata": {},
   "outputs": [],
   "source": [
    "fingroupeddf.to_csv(\"Classification/cleanedartistsong.csv\", index=False)"
   ]
  },
  {
   "cell_type": "markdown",
   "id": "f6b8fdd8",
   "metadata": {},
   "source": [
    "##### LINEAR REGRESSION NUMBER OF WEEKS"
   ]
  },
  {
   "cell_type": "code",
   "execution_count": 34,
   "id": "bbc5a358",
   "metadata": {},
   "outputs": [],
   "source": [
    "import numpy as np\n",
    "from sklearn.linear_model import LinearRegression"
   ]
  },
  {
   "cell_type": "code",
   "execution_count": 35,
   "id": "f3688d99",
   "metadata": {},
   "outputs": [],
   "source": [
    "from sklearn.metrics import mean_absolute_error, mean_squared_error"
   ]
  },
  {
   "cell_type": "code",
   "execution_count": 36,
   "id": "55cf8efa",
   "metadata": {},
   "outputs": [],
   "source": [
    "fingroupeddf = fingroupeddf.reset_index()\n",
    "fingroupeddf = fingroupeddf.drop([\"index\"], axis=1)"
   ]
  },
  {
   "cell_type": "code",
   "execution_count": 37,
   "id": "c73cd219",
   "metadata": {},
   "outputs": [
    {
     "data": {
      "text/plain": [
       "(4607, 17)"
      ]
     },
     "execution_count": 37,
     "metadata": {},
     "output_type": "execute_result"
    }
   ],
   "source": [
    "fingroupeddf.shape"
   ]
  },
  {
   "cell_type": "code",
   "execution_count": 38,
   "id": "5b8fd23d",
   "metadata": {},
   "outputs": [
    {
     "data": {
      "text/plain": [
       "Index(['main_artist', 'track_name', 'Max Streams per Song',\n",
       "       'Min Streams per Song', 'Total Streams per Song',\n",
       "       'Mean Streams per Song', 'Min Position per Song',\n",
       "       'MaxMin Difference Position', 'MaxMin Difference Streams',\n",
       "       'MaxMin Ratio Position', 'MaxMin Ratio Streams',\n",
       "       'Max Song Count per artist', 'Max Weeks on Chart per song',\n",
       "       'first_week_rank', 'first_week_streams', 'Max Artist Appearance',\n",
       "       'encoded_source'],\n",
       "      dtype='object')"
      ]
     },
     "execution_count": 38,
     "metadata": {},
     "output_type": "execute_result"
    }
   ],
   "source": [
    "fingroupeddf.columns"
   ]
  },
  {
   "cell_type": "code",
   "execution_count": 39,
   "id": "561bceee",
   "metadata": {},
   "outputs": [],
   "source": [
    "X = fingroupeddf.drop([\"main_artist\", \"track_name\", \"Max Weeks on Chart per song\", 'Max Artist Appearance'], axis=1)\n",
    "# X = X[['first_week_rank', 'first_week_streams','Total Streams per Song', 'Min Position per Song', 'MaxMin Difference Position', 'MaxMin Ratio Position', 'MaxMin Ratio Streams']]\n",
    "# X = X[['MaxMin Difference Position', 'MaxMin Ratio Streams', \"first_week_streams\"]]\n",
    "y = fingroupeddf[\"Max Weeks on Chart per song\"]"
   ]
  },
  {
   "cell_type": "code",
   "execution_count": 40,
   "id": "53bc3f3b",
   "metadata": {},
   "outputs": [],
   "source": [
    "thecols = list(X.columns)"
   ]
  },
  {
   "cell_type": "code",
   "execution_count": 41,
   "id": "97c86f87",
   "metadata": {},
   "outputs": [],
   "source": [
    "scaler = StandardScaler()\n",
    "X = scaler.fit_transform(X)"
   ]
  },
  {
   "cell_type": "code",
   "execution_count": 42,
   "id": "1181af36",
   "metadata": {},
   "outputs": [],
   "source": [
    "X = pd.DataFrame(X)"
   ]
  },
  {
   "cell_type": "code",
   "execution_count": 43,
   "id": "e3fe7997",
   "metadata": {},
   "outputs": [],
   "source": [
    "X.columns = thecols"
   ]
  },
  {
   "cell_type": "code",
   "execution_count": 44,
   "id": "dd04859f",
   "metadata": {},
   "outputs": [
    {
     "data": {
      "text/html": [
       "<div>\n",
       "<style scoped>\n",
       "    .dataframe tbody tr th:only-of-type {\n",
       "        vertical-align: middle;\n",
       "    }\n",
       "\n",
       "    .dataframe tbody tr th {\n",
       "        vertical-align: top;\n",
       "    }\n",
       "\n",
       "    .dataframe thead th {\n",
       "        text-align: right;\n",
       "    }\n",
       "</style>\n",
       "<table border=\"1\" class=\"dataframe\">\n",
       "  <thead>\n",
       "    <tr style=\"text-align: right;\">\n",
       "      <th></th>\n",
       "      <th>Max Streams per Song</th>\n",
       "      <th>Min Streams per Song</th>\n",
       "      <th>Total Streams per Song</th>\n",
       "      <th>Mean Streams per Song</th>\n",
       "      <th>Min Position per Song</th>\n",
       "      <th>MaxMin Difference Position</th>\n",
       "      <th>MaxMin Difference Streams</th>\n",
       "      <th>MaxMin Ratio Position</th>\n",
       "      <th>MaxMin Ratio Streams</th>\n",
       "      <th>Max Song Count per artist</th>\n",
       "      <th>first_week_rank</th>\n",
       "      <th>first_week_streams</th>\n",
       "      <th>encoded_source</th>\n",
       "    </tr>\n",
       "  </thead>\n",
       "  <tbody>\n",
       "    <tr>\n",
       "      <th>0</th>\n",
       "      <td>-0.333646</td>\n",
       "      <td>0.181721</td>\n",
       "      <td>-0.404911</td>\n",
       "      <td>-0.136315</td>\n",
       "      <td>1.839870</td>\n",
       "      <td>-1.055591</td>\n",
       "      <td>-0.503109</td>\n",
       "      <td>-0.304235</td>\n",
       "      <td>-0.475454</td>\n",
       "      <td>-0.987278</td>\n",
       "      <td>1.479385</td>\n",
       "      <td>-0.208264</td>\n",
       "      <td>-1.633072</td>\n",
       "    </tr>\n",
       "    <tr>\n",
       "      <th>1</th>\n",
       "      <td>-0.343079</td>\n",
       "      <td>0.158036</td>\n",
       "      <td>-0.405422</td>\n",
       "      <td>-0.153351</td>\n",
       "      <td>1.637991</td>\n",
       "      <td>-1.055591</td>\n",
       "      <td>-0.503109</td>\n",
       "      <td>-0.304235</td>\n",
       "      <td>-0.475454</td>\n",
       "      <td>-0.987278</td>\n",
       "      <td>1.284676</td>\n",
       "      <td>-0.219190</td>\n",
       "      <td>-0.583195</td>\n",
       "    </tr>\n",
       "    <tr>\n",
       "      <th>2</th>\n",
       "      <td>-0.077221</td>\n",
       "      <td>0.825590</td>\n",
       "      <td>-0.391016</td>\n",
       "      <td>0.326815</td>\n",
       "      <td>0.729535</td>\n",
       "      <td>-1.055591</td>\n",
       "      <td>-0.503109</td>\n",
       "      <td>-0.304235</td>\n",
       "      <td>-0.475454</td>\n",
       "      <td>-0.987278</td>\n",
       "      <td>0.408486</td>\n",
       "      <td>0.088748</td>\n",
       "      <td>-1.719838</td>\n",
       "    </tr>\n",
       "    <tr>\n",
       "      <th>3</th>\n",
       "      <td>-0.708315</td>\n",
       "      <td>-0.866371</td>\n",
       "      <td>-0.395493</td>\n",
       "      <td>-0.866861</td>\n",
       "      <td>-0.111628</td>\n",
       "      <td>0.182819</td>\n",
       "      <td>-0.450147</td>\n",
       "      <td>-0.261506</td>\n",
       "      <td>-0.276870</td>\n",
       "      <td>-0.885939</td>\n",
       "      <td>-0.402801</td>\n",
       "      <td>-0.642235</td>\n",
       "      <td>-0.943277</td>\n",
       "    </tr>\n",
       "    <tr>\n",
       "      <th>4</th>\n",
       "      <td>-0.654794</td>\n",
       "      <td>-0.624663</td>\n",
       "      <td>-0.422312</td>\n",
       "      <td>-0.716340</td>\n",
       "      <td>1.066000</td>\n",
       "      <td>-1.055591</td>\n",
       "      <td>-0.503109</td>\n",
       "      <td>-0.304235</td>\n",
       "      <td>-0.475454</td>\n",
       "      <td>-0.885939</td>\n",
       "      <td>0.733001</td>\n",
       "      <td>-0.580243</td>\n",
       "      <td>-0.565842</td>\n",
       "    </tr>\n",
       "    <tr>\n",
       "      <th>...</th>\n",
       "      <td>...</td>\n",
       "      <td>...</td>\n",
       "      <td>...</td>\n",
       "      <td>...</td>\n",
       "      <td>...</td>\n",
       "      <td>...</td>\n",
       "      <td>...</td>\n",
       "      <td>...</td>\n",
       "      <td>...</td>\n",
       "      <td>...</td>\n",
       "      <td>...</td>\n",
       "      <td>...</td>\n",
       "      <td>...</td>\n",
       "    </tr>\n",
       "    <tr>\n",
       "      <th>4602</th>\n",
       "      <td>-0.197654</td>\n",
       "      <td>0.247593</td>\n",
       "      <td>-0.172326</td>\n",
       "      <td>0.041199</td>\n",
       "      <td>1.133293</td>\n",
       "      <td>-0.364385</td>\n",
       "      <td>-0.367104</td>\n",
       "      <td>-0.291997</td>\n",
       "      <td>-0.394708</td>\n",
       "      <td>-0.869049</td>\n",
       "      <td>1.008838</td>\n",
       "      <td>-0.076037</td>\n",
       "      <td>-0.092964</td>\n",
       "    </tr>\n",
       "    <tr>\n",
       "      <th>4603</th>\n",
       "      <td>-0.217930</td>\n",
       "      <td>-0.223295</td>\n",
       "      <td>-0.139951</td>\n",
       "      <td>-0.229586</td>\n",
       "      <td>-0.532209</td>\n",
       "      <td>0.859625</td>\n",
       "      <td>-0.159849</td>\n",
       "      <td>-0.206985</td>\n",
       "      <td>-0.159111</td>\n",
       "      <td>-0.801489</td>\n",
       "      <td>0.067745</td>\n",
       "      <td>-0.300546</td>\n",
       "      <td>-0.453045</td>\n",
       "    </tr>\n",
       "    <tr>\n",
       "      <th>4604</th>\n",
       "      <td>-0.487156</td>\n",
       "      <td>-0.204686</td>\n",
       "      <td>-0.394427</td>\n",
       "      <td>-0.413912</td>\n",
       "      <td>1.873517</td>\n",
       "      <td>-1.041191</td>\n",
       "      <td>-0.502639</td>\n",
       "      <td>-0.304037</td>\n",
       "      <td>-0.475031</td>\n",
       "      <td>-0.970388</td>\n",
       "      <td>1.511836</td>\n",
       "      <td>-0.386072</td>\n",
       "      <td>1.390746</td>\n",
       "    </tr>\n",
       "    <tr>\n",
       "      <th>4605</th>\n",
       "      <td>-0.274546</td>\n",
       "      <td>0.330119</td>\n",
       "      <td>-0.401708</td>\n",
       "      <td>-0.029574</td>\n",
       "      <td>1.890340</td>\n",
       "      <td>-1.055591</td>\n",
       "      <td>-0.503109</td>\n",
       "      <td>-0.304235</td>\n",
       "      <td>-0.475454</td>\n",
       "      <td>-0.869049</td>\n",
       "      <td>1.528062</td>\n",
       "      <td>-0.139809</td>\n",
       "      <td>0.119614</td>\n",
       "    </tr>\n",
       "    <tr>\n",
       "      <th>4606</th>\n",
       "      <td>1.843094</td>\n",
       "      <td>1.938868</td>\n",
       "      <td>0.488120</td>\n",
       "      <td>2.792936</td>\n",
       "      <td>-1.070554</td>\n",
       "      <td>0.341221</td>\n",
       "      <td>1.327018</td>\n",
       "      <td>-0.125229</td>\n",
       "      <td>0.001553</td>\n",
       "      <td>-0.869049</td>\n",
       "      <td>0.246228</td>\n",
       "      <td>0.602295</td>\n",
       "      <td>0.119614</td>\n",
       "    </tr>\n",
       "  </tbody>\n",
       "</table>\n",
       "<p>4607 rows × 13 columns</p>\n",
       "</div>"
      ],
      "text/plain": [
       "      Max Streams per Song  Min Streams per Song  Total Streams per Song  \\\n",
       "0                -0.333646              0.181721               -0.404911   \n",
       "1                -0.343079              0.158036               -0.405422   \n",
       "2                -0.077221              0.825590               -0.391016   \n",
       "3                -0.708315             -0.866371               -0.395493   \n",
       "4                -0.654794             -0.624663               -0.422312   \n",
       "...                    ...                   ...                     ...   \n",
       "4602             -0.197654              0.247593               -0.172326   \n",
       "4603             -0.217930             -0.223295               -0.139951   \n",
       "4604             -0.487156             -0.204686               -0.394427   \n",
       "4605             -0.274546              0.330119               -0.401708   \n",
       "4606              1.843094              1.938868                0.488120   \n",
       "\n",
       "      Mean Streams per Song  Min Position per Song  \\\n",
       "0                 -0.136315               1.839870   \n",
       "1                 -0.153351               1.637991   \n",
       "2                  0.326815               0.729535   \n",
       "3                 -0.866861              -0.111628   \n",
       "4                 -0.716340               1.066000   \n",
       "...                     ...                    ...   \n",
       "4602               0.041199               1.133293   \n",
       "4603              -0.229586              -0.532209   \n",
       "4604              -0.413912               1.873517   \n",
       "4605              -0.029574               1.890340   \n",
       "4606               2.792936              -1.070554   \n",
       "\n",
       "      MaxMin Difference Position  MaxMin Difference Streams  \\\n",
       "0                      -1.055591                  -0.503109   \n",
       "1                      -1.055591                  -0.503109   \n",
       "2                      -1.055591                  -0.503109   \n",
       "3                       0.182819                  -0.450147   \n",
       "4                      -1.055591                  -0.503109   \n",
       "...                          ...                        ...   \n",
       "4602                   -0.364385                  -0.367104   \n",
       "4603                    0.859625                  -0.159849   \n",
       "4604                   -1.041191                  -0.502639   \n",
       "4605                   -1.055591                  -0.503109   \n",
       "4606                    0.341221                   1.327018   \n",
       "\n",
       "      MaxMin Ratio Position  MaxMin Ratio Streams  Max Song Count per artist  \\\n",
       "0                 -0.304235             -0.475454                  -0.987278   \n",
       "1                 -0.304235             -0.475454                  -0.987278   \n",
       "2                 -0.304235             -0.475454                  -0.987278   \n",
       "3                 -0.261506             -0.276870                  -0.885939   \n",
       "4                 -0.304235             -0.475454                  -0.885939   \n",
       "...                     ...                   ...                        ...   \n",
       "4602              -0.291997             -0.394708                  -0.869049   \n",
       "4603              -0.206985             -0.159111                  -0.801489   \n",
       "4604              -0.304037             -0.475031                  -0.970388   \n",
       "4605              -0.304235             -0.475454                  -0.869049   \n",
       "4606              -0.125229              0.001553                  -0.869049   \n",
       "\n",
       "      first_week_rank  first_week_streams  encoded_source  \n",
       "0            1.479385           -0.208264       -1.633072  \n",
       "1            1.284676           -0.219190       -0.583195  \n",
       "2            0.408486            0.088748       -1.719838  \n",
       "3           -0.402801           -0.642235       -0.943277  \n",
       "4            0.733001           -0.580243       -0.565842  \n",
       "...               ...                 ...             ...  \n",
       "4602         1.008838           -0.076037       -0.092964  \n",
       "4603         0.067745           -0.300546       -0.453045  \n",
       "4604         1.511836           -0.386072        1.390746  \n",
       "4605         1.528062           -0.139809        0.119614  \n",
       "4606         0.246228            0.602295        0.119614  \n",
       "\n",
       "[4607 rows x 13 columns]"
      ]
     },
     "execution_count": 44,
     "metadata": {},
     "output_type": "execute_result"
    }
   ],
   "source": [
    "X"
   ]
  },
  {
   "cell_type": "code",
   "execution_count": 45,
   "id": "d51c2f69",
   "metadata": {},
   "outputs": [],
   "source": [
    "X_train = X.head(4000)\n",
    "y_train = y.head(4000)\n",
    "\n",
    "X_test = X.iloc[4001:]\n",
    "y_test = y.iloc[4001:]\n",
    "\n",
    "# X_train = X.head(1800)\n",
    "# y_train = y.head(1800)\n",
    "\n",
    "# X_test = X.iloc[1801:]\n",
    "# y_test = y.iloc[1801:]"
   ]
  },
  {
   "cell_type": "code",
   "execution_count": 46,
   "id": "912c2d07",
   "metadata": {},
   "outputs": [
    {
     "name": "stdout",
     "output_type": "stream",
     "text": [
      "0.80611278475358\n",
      "[ -3.37984125   6.2010446   20.76669329 -10.3820194   -2.31511534\n",
      "   5.30255332  -7.2482248    0.37620305   6.59004689   1.39622931\n",
      "   2.74527665   4.67514235   0.30526382]\n",
      "12.35920167547952\n"
     ]
    }
   ],
   "source": [
    "reg = LinearRegression().fit(X_train, y_train)\n",
    "print(reg.score(X, y))\n",
    "print(reg.coef_)\n",
    "print(reg.intercept_)"
   ]
  },
  {
   "cell_type": "code",
   "execution_count": 47,
   "id": "a31f374c",
   "metadata": {},
   "outputs": [
    {
     "name": "stdout",
     "output_type": "stream",
     "text": [
      "Coefficient of determination: 0.79\n"
     ]
    }
   ],
   "source": [
    "all_preds = reg.predict(X_test)\n",
    "thepredsy = pd.DataFrame(all_preds)\n",
    "\n",
    "thepredsy.columns = [\"predictions\"]\n",
    "thepredsy[\"actuals\"] = list(y_test)\n",
    "thepredsy[\"predictions\"] = thepredsy[\"predictions\"].astype(int)\n",
    "thepredsy[\"diff\"] = thepredsy[\"predictions\"] - thepredsy[\"actuals\"]\n",
    "\n",
    "truepreds = thepredsy[thepredsy[\"diff\"]==0]\n",
    "truepreds1 = thepredsy[thepredsy[\"diff\"]==1]\n",
    "truepreds2 = thepredsy[thepredsy[\"diff\"]==-1]\n",
    "fintruepeds = pd.concat([truepreds,truepreds1,truepreds2])\n",
    "\n",
    "print(\"Coefficient of determination: %.2f\" % r2_score(y_test, all_preds))"
   ]
  },
  {
   "cell_type": "code",
   "execution_count": 48,
   "id": "b1d7510b",
   "metadata": {},
   "outputs": [],
   "source": [
    "mae = mean_absolute_error(y_test, all_preds)"
   ]
  },
  {
   "cell_type": "code",
   "execution_count": 49,
   "id": "c8470d1c",
   "metadata": {},
   "outputs": [
    {
     "data": {
      "text/plain": [
       "5.542034406565804"
      ]
     },
     "execution_count": 49,
     "metadata": {},
     "output_type": "execute_result"
    }
   ],
   "source": [
    "mae"
   ]
  },
  {
   "cell_type": "code",
   "execution_count": 50,
   "id": "ba52432a",
   "metadata": {},
   "outputs": [
    {
     "data": {
      "text/plain": [
       "(76, 286, 606)"
      ]
     },
     "execution_count": 50,
     "metadata": {},
     "output_type": "execute_result"
    }
   ],
   "source": [
    "truepreds.shape[0], fintruepeds.shape[0], all_preds.shape[0]"
   ]
  },
  {
   "cell_type": "code",
   "execution_count": 51,
   "id": "a3d65405",
   "metadata": {},
   "outputs": [
    {
     "data": {
      "text/plain": [
       "(12.541254125412541, 47.194719471947195)"
      ]
     },
     "execution_count": 51,
     "metadata": {},
     "output_type": "execute_result"
    }
   ],
   "source": [
    "(truepreds.shape[0] / thepredsy.shape[0]) * 100, (fintruepeds.shape[0] / thepredsy.shape[0]) * 100"
   ]
  },
  {
   "cell_type": "code",
   "execution_count": 52,
   "id": "6dd27a2f",
   "metadata": {},
   "outputs": [],
   "source": [
    "# X[[\"first_week_rank\", \"first_week_streams\"]] - 7 , 1.26%\n",
    "# [\"first_week_rank\", \"first_week_streams\", \"Max Streams per Song\"] - 15 , 2.69%\n",
    "# [all] - 48 , 8.62%\n",
    "# X[[\"first_week_rank\", \"first_week_streams\", \"Max Streams per Song\", \"Total Streams per Song\"]] - 28 , 5.02%\n",
    "\n",
    "# X[[\"first_week_rank\", \"first_week_streams\", \"Max Streams per Song\", \"Total Streams per Song\", 'Max Song Count per artist']] - 37, 6.64% \n",
    "\n",
    "# X[[\"Mean Streams per Song\", \"first_week_rank\"]]- 8 , 1.44%\n",
    "\n",
    "# [\"MaxMin Ratio Position\", \"first_week_rank\", \"Max Song Count per artist\" - 7 , 1.26%"
   ]
  },
  {
   "cell_type": "code",
   "execution_count": 53,
   "id": "8f47a29c",
   "metadata": {},
   "outputs": [],
   "source": [
    "from sklearn import linear_model\n",
    "reglinear_model = linear_model.RidgeCV(alphas=np.logspace(-6, 6, 13))\n",
    "reglinear_modelvf = reglinear_model.fit(X_train, y_train)"
   ]
  },
  {
   "cell_type": "code",
   "execution_count": 54,
   "id": "288dca09",
   "metadata": {},
   "outputs": [],
   "source": [
    "all_preds = reglinear_modelvf.predict(X_test)\n",
    "thepredsy = pd.DataFrame(all_preds)\n",
    "\n",
    "thepredsy.columns = [\"predictions\"]\n",
    "thepredsy[\"actuals\"] = list(y_test)\n",
    "thepredsy[\"predictions\"] = thepredsy[\"predictions\"].astype(int)\n",
    "thepredsy[\"diff\"] = thepredsy[\"predictions\"] - thepredsy[\"actuals\"]\n",
    "\n",
    "truepreds = thepredsy[thepredsy[\"diff\"]==0]\n",
    "truepreds1 = thepredsy[thepredsy[\"diff\"]==1]\n",
    "truepreds2 = thepredsy[thepredsy[\"diff\"]==-1]\n",
    "fintruepeds = pd.concat([truepreds,truepreds1,truepreds2])"
   ]
  },
  {
   "cell_type": "code",
   "execution_count": 55,
   "id": "d9921589",
   "metadata": {},
   "outputs": [
    {
     "name": "stdout",
     "output_type": "stream",
     "text": [
      "Coefficient of determination: 0.78\n"
     ]
    }
   ],
   "source": [
    "print(\"Coefficient of determination: %.2f\" % r2_score(y_test, all_preds))"
   ]
  },
  {
   "cell_type": "code",
   "execution_count": 56,
   "id": "d1f5053c",
   "metadata": {},
   "outputs": [
    {
     "data": {
      "text/plain": [
       "5.5523987014838765"
      ]
     },
     "execution_count": 56,
     "metadata": {},
     "output_type": "execute_result"
    }
   ],
   "source": [
    "mae = mean_absolute_error(y_test, all_preds)\n",
    "mae"
   ]
  },
  {
   "cell_type": "code",
   "execution_count": 57,
   "id": "f22425fe",
   "metadata": {},
   "outputs": [
    {
     "data": {
      "text/plain": [
       "(77, 281)"
      ]
     },
     "execution_count": 57,
     "metadata": {},
     "output_type": "execute_result"
    }
   ],
   "source": [
    "truepreds.shape[0], fintruepeds.shape[0]"
   ]
  },
  {
   "cell_type": "code",
   "execution_count": 58,
   "id": "198e2d9e",
   "metadata": {},
   "outputs": [
    {
     "data": {
      "text/plain": [
       "(12.706270627062707, 46.36963696369637)"
      ]
     },
     "execution_count": 58,
     "metadata": {},
     "output_type": "execute_result"
    }
   ],
   "source": [
    "(truepreds.shape[0] / thepredsy.shape[0]) * 100, (fintruepeds.shape[0] / thepredsy.shape[0]) * 100"
   ]
  },
  {
   "cell_type": "code",
   "execution_count": 59,
   "id": "5782f572",
   "metadata": {},
   "outputs": [
    {
     "data": {
      "text/plain": [
       "(76, 286)"
      ]
     },
     "execution_count": 59,
     "metadata": {},
     "output_type": "execute_result"
    }
   ],
   "source": [
    "bayesianreg = linear_model.BayesianRidge()\n",
    "bayesianregvf = bayesianreg.fit(X_train, y_train)\n",
    "\n",
    "all_preds = bayesianregvf.predict(X_test)\n",
    "thepredsy = pd.DataFrame(all_preds)\n",
    "\n",
    "thepredsy.columns = [\"predictions\"]\n",
    "thepredsy[\"actuals\"] = list(y_test)\n",
    "thepredsy[\"predictions\"] = thepredsy[\"predictions\"].astype(int)\n",
    "thepredsy[\"diff\"] = thepredsy[\"predictions\"] - thepredsy[\"actuals\"]\n",
    "\n",
    "truepreds = thepredsy[thepredsy[\"diff\"]==0]\n",
    "truepreds1 = thepredsy[thepredsy[\"diff\"]==1]\n",
    "truepreds2 = thepredsy[thepredsy[\"diff\"]==-1]\n",
    "fintruepeds = pd.concat([truepreds,truepreds1,truepreds2])\n",
    "\n",
    "truepreds.shape[0], fintruepeds.shape[0]"
   ]
  },
  {
   "cell_type": "code",
   "execution_count": 60,
   "id": "e782a7f6",
   "metadata": {},
   "outputs": [
    {
     "name": "stdout",
     "output_type": "stream",
     "text": [
      "Coefficient of determination: 0.79\n"
     ]
    }
   ],
   "source": [
    "print(\"Coefficient of determination: %.2f\" % r2_score(y_test, all_preds))"
   ]
  },
  {
   "cell_type": "code",
   "execution_count": 61,
   "id": "713d47cb",
   "metadata": {},
   "outputs": [
    {
     "data": {
      "text/plain": [
       "5.543735694581037"
      ]
     },
     "execution_count": 61,
     "metadata": {},
     "output_type": "execute_result"
    }
   ],
   "source": [
    "mae = mean_absolute_error(y_test, all_preds)\n",
    "mae"
   ]
  },
  {
   "cell_type": "code",
   "execution_count": 62,
   "id": "9df2a7bc",
   "metadata": {},
   "outputs": [
    {
     "data": {
      "text/plain": [
       "(12.541254125412541, 47.194719471947195)"
      ]
     },
     "execution_count": 62,
     "metadata": {},
     "output_type": "execute_result"
    }
   ],
   "source": [
    "(truepreds.shape[0] / thepredsy.shape[0]) * 100, (fintruepeds.shape[0] / thepredsy.shape[0]) * 100"
   ]
  },
  {
   "cell_type": "code",
   "execution_count": 63,
   "id": "94484e14",
   "metadata": {},
   "outputs": [
    {
     "name": "stdout",
     "output_type": "stream",
     "text": [
      "Feature: 0, Score: -3.37984\n",
      "Feature: 1, Score: 6.20104\n",
      "Feature: 2, Score: 20.76669\n",
      "Feature: 3, Score: -10.38202\n",
      "Feature: 4, Score: -2.31512\n",
      "Feature: 5, Score: 5.30255\n",
      "Feature: 6, Score: -7.24822\n",
      "Feature: 7, Score: 0.37620\n",
      "Feature: 8, Score: 6.59005\n",
      "Feature: 9, Score: 1.39623\n",
      "Feature: 10, Score: 2.74528\n",
      "Feature: 11, Score: 4.67514\n",
      "Feature: 12, Score: 0.30526\n"
     ]
    },
    {
     "data": {
      "image/png": "[encoded data removed]",
      "text/plain": [
       "<Figure size 640x480 with 1 Axes>"
      ]
     },
     "metadata": {},
     "output_type": "display_data"
    }
   ],
   "source": [
    "# linear regression feature importance\n",
    "from sklearn.datasets import make_regression\n",
    "from sklearn.linear_model import LinearRegression\n",
    "from matplotlib import pyplot\n",
    "\n",
    "importance = reg.coef_\n",
    "# summarize feature importance\n",
    "for i,v in enumerate(importance):\n",
    "    print('Feature: %0d, Score: %.5f' % (i,v))\n",
    "# plot feature importance\n",
    "pyplot.bar([x for x in range(len(importance))], importance)\n",
    "pyplot.show()"
   ]
  }
 ],
 "metadata": {
  "kernelspec": {
   "display_name": "Python 3 (ipykernel)",
   "language": "python",
   "name": "python3"
  },
  "language_info": {
   "codemirror_mode": {
    "name": "ipython",
    "version": 3
   },
   "file_extension": ".py",
   "mimetype": "text/x-python",
   "name": "python",
   "nbconvert_exporter": "python",
   "pygments_lexer": "ipython3",
   "version": "3.9.13"
  }
 },
 "nbformat": 4,
 "nbformat_minor": 5
}
