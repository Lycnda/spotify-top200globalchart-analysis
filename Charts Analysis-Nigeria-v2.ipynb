{
 "cells": [
  {
   "cell_type": "code",
   "execution_count": 1,
   "metadata": {},
   "outputs": [],
   "source": [
    "import pandas as pd\n",
    "import glob2\n",
    "import matplotlib.pyplot as plt\n",
    "import datetime\n",
    "import re\n",
    "from datetime import datetime, timedelta\n",
    "%matplotlib inline"
   ]
  },
  {
   "cell_type": "code",
   "execution_count": 2,
   "metadata": {},
   "outputs": [],
   "source": [
    "global_music_file_paths = glob2.glob('spotify ng v2/*.csv')"
   ]
  },
  {
   "cell_type": "code",
   "execution_count": 3,
   "metadata": {
    "scrolled": true
   },
   "outputs": [
    {
     "name": "stdout",
     "output_type": "stream",
     "text": [
      "29\n"
     ]
    }
   ],
   "source": [
    "print(len(global_music_file_paths))"
   ]
  },
  {
   "cell_type": "code",
   "execution_count": 4,
   "metadata": {},
   "outputs": [
    {
     "name": "stdout",
     "output_type": "stream",
     "text": [
      "['spotify ng v2\\\\regional-ng-weekly-2022-02-17.csv', 'spotify ng v2\\\\regional-ng-weekly-2022-02-24.csv', 'spotify ng v2\\\\regional-ng-weekly-2022-03-03.csv', 'spotify ng v2\\\\regional-ng-weekly-2022-03-10.csv']\n"
     ]
    }
   ],
   "source": [
    "print(global_music_file_paths[:4])"
   ]
  },
  {
   "cell_type": "code",
   "execution_count": 5,
   "metadata": {},
   "outputs": [],
   "source": [
    "# global_music_file_paths"
   ]
  },
  {
   "cell_type": "code",
   "execution_count": 6,
   "metadata": {},
   "outputs": [],
   "source": [
    "#Add the dates to the files - run once\n",
    "def addsDatesToData():\n",
    "    to_remove_front = \"spotify ng v2\\\\regional-ng-weekly-\"\n",
    "    to_remove_back = \".csv\"\n",
    "\n",
    "    len_front_remove = len(to_remove_front)\n",
    "    len_back_remove = len(to_remove_back)\n",
    "\n",
    "    for file in global_music_file_paths: \n",
    "#         print(file)\n",
    "        the_data_in_file = pd.read_csv(file)\n",
    "#         the_data_in_file = the_data_in_file.iloc[1: , :]\n",
    "#         the_data_in_file.columns = [\"Position\", \"Track Name\", \"Artist\", \"Streams\", \"URL\"]\n",
    "        \n",
    "        \n",
    "        the_dates = file[len_front_remove:]\n",
    "        the_dates = the_dates[:-len_back_remove]\n",
    "\n",
    "        split_dates = the_dates.split(\"-\")\n",
    "\n",
    "        start_date = split_dates[0] + \"-\" + split_dates[1] + \"-\" + split_dates[2]\n",
    "        \n",
    "\n",
    "        len_dates = the_data_in_file.shape[0]\n",
    "        start_dates = len_dates * [start_date]\n",
    "\n",
    "        date_columns = {\"End Date\": start_dates}   \n",
    "\n",
    "        the_data_in_file[\"End Date\"] = start_dates\n",
    "\n",
    "        #write the data back to the File\n",
    "        the_data_in_file.to_csv(file, index=False)\n",
    "        \n",
    "#remove dates in existing files\n",
    "def removeExistingDates():\n",
    "    for file in global_music_file_paths:\n",
    "        \n",
    "        the_data_in_file = pd.read_csv(file)\n",
    "\n",
    "        the_data_in_file.drop([\"Start Date\", \"End Date\"], axis=1, inplace=True) \n",
    "\n",
    "        the_data_in_file.to_csv(file, index=False)\n",
    "    \n",
    "#check for dates ... opting for removal and putting them back on\n"
   ]
  },
  {
   "cell_type": "code",
   "execution_count": 7,
   "metadata": {},
   "outputs": [],
   "source": [
    "# all_files_dates = pd.DataFrame()\n",
    "# def findmissingDates():\n",
    "#     all_files_dates = pd.read_csv(\"all_files.csv\", encoding=\"utf-8\")\n",
    "    \n",
    "#     all_files_dates = all_files_dates[[\"Start Date\", \"End Date\"]] \n",
    "    \n",
    "#     all_files_dates = all_files_dates.drop_duplicates().reset_index().drop([\"index\"], axis=1)\n",
    "    \n",
    "#     return all_files_dates   "
   ]
  },
  {
   "cell_type": "code",
   "execution_count": 8,
   "metadata": {},
   "outputs": [],
   "source": [
    "# all_files_dates = findmissingDates()"
   ]
  },
  {
   "cell_type": "code",
   "execution_count": 9,
   "metadata": {},
   "outputs": [],
   "source": [
    "# all_files_dates"
   ]
  },
  {
   "cell_type": "code",
   "execution_count": 10,
   "metadata": {
    "scrolled": true
   },
   "outputs": [],
   "source": [
    "# removeExistingDates()\n",
    "addsDatesToData()"
   ]
  },
  {
   "cell_type": "code",
   "execution_count": 11,
   "metadata": {},
   "outputs": [],
   "source": [
    "# the_data_in_file"
   ]
  },
  {
   "cell_type": "code",
   "execution_count": 12,
   "metadata": {},
   "outputs": [],
   "source": [
    "# pd.date_range(start ='2019-11-01', end = '2019-12-27').difference(all_files_dates.index)"
   ]
  },
  {
   "cell_type": "code",
   "execution_count": 13,
   "metadata": {},
   "outputs": [],
   "source": [
    "#Combine the files and sort by dates\n",
    "all_files = []\n",
    "trouble_files = []\n",
    "for file in global_music_file_paths:\n",
    "    the_data_in_file = pd.read_csv(file)\n",
    "    \n",
    "    if(\"URL\" in list(the_data_in_file.columns)):\n",
    "    \n",
    "        the_data_in_file = the_data_in_file.drop([\"URL\"], axis=1)\n",
    "    \n",
    "    list_vals = sum(list(the_data_in_file.isnull().sum()))\n",
    "    \n",
    "    if(list_vals > 0):\n",
    "        trouble_files.append(file)\n",
    "    all_files.append(the_data_in_file)\n",
    "    \n",
    "the_spotify_data = pd.concat(all_files) \n",
    "# trouble_files_df = pd.concat(trouble_files)"
   ]
  },
  {
   "cell_type": "code",
   "execution_count": 14,
   "metadata": {},
   "outputs": [],
   "source": [
    "# the_spotify_data[\"Start Date\"].unique().tolist()"
   ]
  },
  {
   "cell_type": "code",
   "execution_count": 15,
   "metadata": {},
   "outputs": [],
   "source": [
    "all_cols = list(the_spotify_data.columns)\n",
    "drop_cols = []\n",
    "\n",
    "for col in all_cols:\n",
    "    if(\"Unnamed\" in col or \"artificial\" in col):\n",
    "        drop_cols.append(col)\n",
    "        \n",
    "the_spotify_data.drop(drop_cols, axis=1, inplace = True)"
   ]
  },
  {
   "cell_type": "code",
   "execution_count": 16,
   "metadata": {},
   "outputs": [
    {
     "data": {
      "text/plain": [
       "Index(['rank', 'uri', 'artist_names', 'track_name', 'source', 'peak_rank',\n",
       "       'previous_rank', 'weeks_on_chart', 'streams', 'End Date'],\n",
       "      dtype='object')"
      ]
     },
     "execution_count": 16,
     "metadata": {},
     "output_type": "execute_result"
    }
   ],
   "source": [
    "the_spotify_data.columns"
   ]
  },
  {
   "cell_type": "code",
   "execution_count": 17,
   "metadata": {},
   "outputs": [
    {
     "data": {
      "text/html": [
       "<div>\n",
       "<style scoped>\n",
       "    .dataframe tbody tr th:only-of-type {\n",
       "        vertical-align: middle;\n",
       "    }\n",
       "\n",
       "    .dataframe tbody tr th {\n",
       "        vertical-align: top;\n",
       "    }\n",
       "\n",
       "    .dataframe thead th {\n",
       "        text-align: right;\n",
       "    }\n",
       "</style>\n",
       "<table border=\"1\" class=\"dataframe\">\n",
       "  <thead>\n",
       "    <tr style=\"text-align: right;\">\n",
       "      <th></th>\n",
       "      <th>rank</th>\n",
       "      <th>uri</th>\n",
       "      <th>artist_names</th>\n",
       "      <th>track_name</th>\n",
       "      <th>source</th>\n",
       "      <th>peak_rank</th>\n",
       "      <th>previous_rank</th>\n",
       "      <th>weeks_on_chart</th>\n",
       "      <th>streams</th>\n",
       "      <th>End Date</th>\n",
       "    </tr>\n",
       "  </thead>\n",
       "  <tbody>\n",
       "    <tr>\n",
       "      <th>0</th>\n",
       "      <td>1</td>\n",
       "      <td>spotify:track:6hgoYQDUcPyCz7LcTUHKxa</td>\n",
       "      <td>Rema</td>\n",
       "      <td>Calm Down</td>\n",
       "      <td>Mavin Records/Jonzing World</td>\n",
       "      <td>1</td>\n",
       "      <td>-1</td>\n",
       "      <td>1</td>\n",
       "      <td>314130</td>\n",
       "      <td>2022-02-17</td>\n",
       "    </tr>\n",
       "    <tr>\n",
       "      <th>1</th>\n",
       "      <td>2</td>\n",
       "      <td>spotify:track:7d1aTQlsHMgWmkPywDi7h1</td>\n",
       "      <td>Asake, Olamide</td>\n",
       "      <td>Omo Ope (feat. Olamide)</td>\n",
       "      <td>Asake Music</td>\n",
       "      <td>2</td>\n",
       "      <td>-1</td>\n",
       "      <td>1</td>\n",
       "      <td>127069</td>\n",
       "      <td>2022-02-17</td>\n",
       "    </tr>\n",
       "    <tr>\n",
       "      <th>2</th>\n",
       "      <td>3</td>\n",
       "      <td>spotify:track:79P1sxrpp1phhTgF1gkaI8</td>\n",
       "      <td>BNXN fka Buju, Blaq Diamond</td>\n",
       "      <td>Italy (feat. Blaq Diamond)</td>\n",
       "      <td>To Your Ears Entertainment</td>\n",
       "      <td>3</td>\n",
       "      <td>-1</td>\n",
       "      <td>1</td>\n",
       "      <td>95578</td>\n",
       "      <td>2022-02-17</td>\n",
       "    </tr>\n",
       "    <tr>\n",
       "      <th>3</th>\n",
       "      <td>4</td>\n",
       "      <td>spotify:track:4lDghGd035xrzGp6Yec2j1</td>\n",
       "      <td>Skiibii, Davido</td>\n",
       "      <td>Baddest Boy - Remix</td>\n",
       "      <td>More Grace Entertainment / Dvpper Music</td>\n",
       "      <td>4</td>\n",
       "      <td>-1</td>\n",
       "      <td>1</td>\n",
       "      <td>93390</td>\n",
       "      <td>2022-02-17</td>\n",
       "    </tr>\n",
       "    <tr>\n",
       "      <th>4</th>\n",
       "      <td>5</td>\n",
       "      <td>spotify:track:6PojTTCNlz3qo3qBKuUyaO</td>\n",
       "      <td>Mayorkun, Victony</td>\n",
       "      <td>Holy Father</td>\n",
       "      <td>SM Entertainment West Africa Limited</td>\n",
       "      <td>5</td>\n",
       "      <td>-1</td>\n",
       "      <td>1</td>\n",
       "      <td>86308</td>\n",
       "      <td>2022-02-17</td>\n",
       "    </tr>\n",
       "    <tr>\n",
       "      <th>...</th>\n",
       "      <td>...</td>\n",
       "      <td>...</td>\n",
       "      <td>...</td>\n",
       "      <td>...</td>\n",
       "      <td>...</td>\n",
       "      <td>...</td>\n",
       "      <td>...</td>\n",
       "      <td>...</td>\n",
       "      <td>...</td>\n",
       "      <td>...</td>\n",
       "    </tr>\n",
       "    <tr>\n",
       "      <th>195</th>\n",
       "      <td>196</td>\n",
       "      <td>spotify:track:6RbOyNeajWax51NtpO6WT8</td>\n",
       "      <td>Tempoe, Victony</td>\n",
       "      <td>Soweto</td>\n",
       "      <td>The Plug Entertainment</td>\n",
       "      <td>49</td>\n",
       "      <td>-1</td>\n",
       "      <td>4</td>\n",
       "      <td>15133</td>\n",
       "      <td>2022-09-01</td>\n",
       "    </tr>\n",
       "    <tr>\n",
       "      <th>196</th>\n",
       "      <td>197</td>\n",
       "      <td>spotify:track:0mBP9X2gPCuapvpZ7TGDk3</td>\n",
       "      <td>Charlie Puth, Jung Kook, BTS</td>\n",
       "      <td>Left and Right (Feat. Jung Kook of BTS)</td>\n",
       "      <td>Atlantic Records</td>\n",
       "      <td>74</td>\n",
       "      <td>-1</td>\n",
       "      <td>5</td>\n",
       "      <td>15092</td>\n",
       "      <td>2022-09-01</td>\n",
       "    </tr>\n",
       "    <tr>\n",
       "      <th>197</th>\n",
       "      <td>198</td>\n",
       "      <td>spotify:track:6ezXpXqbGqIwxUuVBMpHTp</td>\n",
       "      <td>Omah Lay</td>\n",
       "      <td>recognize</td>\n",
       "      <td>KeyQaad</td>\n",
       "      <td>41</td>\n",
       "      <td>187</td>\n",
       "      <td>7</td>\n",
       "      <td>15002</td>\n",
       "      <td>2022-09-01</td>\n",
       "    </tr>\n",
       "    <tr>\n",
       "      <th>198</th>\n",
       "      <td>199</td>\n",
       "      <td>spotify:track:4nwtkUjULEbhp5VJItUWbV</td>\n",
       "      <td>Victony</td>\n",
       "      <td>Many Man - A COLORS SHOW</td>\n",
       "      <td>COLORSxSTUDIOS</td>\n",
       "      <td>26</td>\n",
       "      <td>186</td>\n",
       "      <td>9</td>\n",
       "      <td>14943</td>\n",
       "      <td>2022-09-01</td>\n",
       "    </tr>\n",
       "    <tr>\n",
       "      <th>199</th>\n",
       "      <td>200</td>\n",
       "      <td>spotify:track:06mcgnr3eJ8cF8ed0WfdPA</td>\n",
       "      <td>Peruzzi, Fireboy DML</td>\n",
       "      <td>Southy Love</td>\n",
       "      <td>Davido Music Worldwide</td>\n",
       "      <td>69</td>\n",
       "      <td>183</td>\n",
       "      <td>29</td>\n",
       "      <td>14804</td>\n",
       "      <td>2022-09-01</td>\n",
       "    </tr>\n",
       "  </tbody>\n",
       "</table>\n",
       "<p>5800 rows × 10 columns</p>\n",
       "</div>"
      ],
      "text/plain": [
       "     rank                                   uri                  artist_names  \\\n",
       "0       1  spotify:track:6hgoYQDUcPyCz7LcTUHKxa                          Rema   \n",
       "1       2  spotify:track:7d1aTQlsHMgWmkPywDi7h1                Asake, Olamide   \n",
       "2       3  spotify:track:79P1sxrpp1phhTgF1gkaI8   BNXN fka Buju, Blaq Diamond   \n",
       "3       4  spotify:track:4lDghGd035xrzGp6Yec2j1               Skiibii, Davido   \n",
       "4       5  spotify:track:6PojTTCNlz3qo3qBKuUyaO             Mayorkun, Victony   \n",
       "..    ...                                   ...                           ...   \n",
       "195   196  spotify:track:6RbOyNeajWax51NtpO6WT8               Tempoe, Victony   \n",
       "196   197  spotify:track:0mBP9X2gPCuapvpZ7TGDk3  Charlie Puth, Jung Kook, BTS   \n",
       "197   198  spotify:track:6ezXpXqbGqIwxUuVBMpHTp                      Omah Lay   \n",
       "198   199  spotify:track:4nwtkUjULEbhp5VJItUWbV                       Victony   \n",
       "199   200  spotify:track:06mcgnr3eJ8cF8ed0WfdPA          Peruzzi, Fireboy DML   \n",
       "\n",
       "                                  track_name  \\\n",
       "0                                  Calm Down   \n",
       "1                    Omo Ope (feat. Olamide)   \n",
       "2                 Italy (feat. Blaq Diamond)   \n",
       "3                        Baddest Boy - Remix   \n",
       "4                                Holy Father   \n",
       "..                                       ...   \n",
       "195                                   Soweto   \n",
       "196  Left and Right (Feat. Jung Kook of BTS)   \n",
       "197                                recognize   \n",
       "198                 Many Man - A COLORS SHOW   \n",
       "199                              Southy Love   \n",
       "\n",
       "                                      source  peak_rank  previous_rank  \\\n",
       "0                Mavin Records/Jonzing World          1             -1   \n",
       "1                                Asake Music          2             -1   \n",
       "2                 To Your Ears Entertainment          3             -1   \n",
       "3    More Grace Entertainment / Dvpper Music          4             -1   \n",
       "4       SM Entertainment West Africa Limited          5             -1   \n",
       "..                                       ...        ...            ...   \n",
       "195                   The Plug Entertainment         49             -1   \n",
       "196                         Atlantic Records         74             -1   \n",
       "197                                  KeyQaad         41            187   \n",
       "198                           COLORSxSTUDIOS         26            186   \n",
       "199                   Davido Music Worldwide         69            183   \n",
       "\n",
       "     weeks_on_chart  streams    End Date  \n",
       "0                 1   314130  2022-02-17  \n",
       "1                 1   127069  2022-02-17  \n",
       "2                 1    95578  2022-02-17  \n",
       "3                 1    93390  2022-02-17  \n",
       "4                 1    86308  2022-02-17  \n",
       "..              ...      ...         ...  \n",
       "195               4    15133  2022-09-01  \n",
       "196               5    15092  2022-09-01  \n",
       "197               7    15002  2022-09-01  \n",
       "198               9    14943  2022-09-01  \n",
       "199              29    14804  2022-09-01  \n",
       "\n",
       "[5800 rows x 10 columns]"
      ]
     },
     "execution_count": 17,
     "metadata": {},
     "output_type": "execute_result"
    }
   ],
   "source": [
    "the_spotify_data"
   ]
  },
  {
   "cell_type": "code",
   "execution_count": 18,
   "metadata": {},
   "outputs": [],
   "source": [
    "# the_spotify_data[\"End Date\"].unique().tolist()"
   ]
  },
  {
   "cell_type": "code",
   "execution_count": 19,
   "metadata": {},
   "outputs": [],
   "source": [
    "the_spotify_data[\"Week\"] = the_spotify_data[\"End Date\"].apply(lambda x : datetime.strptime(x, '%Y-%m-%d'))\n",
    "the_spotify_data[\"Year\"] = the_spotify_data[\"Week\"]\n",
    "\n",
    "the_spotify_data['Week'] = the_spotify_data['Week'].apply(lambda x : x.isocalendar()[1] )\n",
    "the_spotify_data['Year'] = the_spotify_data['Year'].apply(lambda x : x.isocalendar()[0] )\n",
    "\n",
    "# the_spotify_data[\"Start Date Dt\"] = the_spotify_data[\"Start Date\"].apply(lambda x : datetime.strptime(x, '%Y-%m-%d'))\n",
    "the_spotify_data[\"End Date Dt\"] = the_spotify_data[\"End Date\"].apply(lambda x : datetime.strptime(x, '%Y-%m-%d'))\n",
    "the_spotify_data['Seconds since Epoch'] = the_spotify_data['End Date Dt'].apply(lambda x : round(x.timestamp(), 0))"
   ]
  },
  {
   "cell_type": "code",
   "execution_count": 20,
   "metadata": {},
   "outputs": [],
   "source": [
    "#get the month when this happened\n",
    "def changedaytotheFirst(x):\n",
    "    x = x[:-2] + \"01\"\n",
    "    \n",
    "    return x"
   ]
  },
  {
   "cell_type": "code",
   "execution_count": 21,
   "metadata": {},
   "outputs": [],
   "source": [
    "the_spotify_data[\"End Date Aggregated\"] = the_spotify_data[\"End Date\"].apply(lambda x : changedaytotheFirst(x) )"
   ]
  },
  {
   "cell_type": "code",
   "execution_count": 22,
   "metadata": {},
   "outputs": [],
   "source": [
    "#find the number of artists on the track\n",
    "the_spotify_data.dropna(inplace=True)\n",
    "\n",
    "the_spotify_data[\"artist_names\"] = the_spotify_data[\"artist_names\"].apply(lambda x : x.encode(\"utf-8\").decode(\"latin-1\"))\n",
    "the_spotify_data[\"artist_names\"] = the_spotify_data[\"artist_names\"].apply(lambda x : re.sub(r'[^\\x00-\\x7F]+','', x))\n",
    "the_spotify_data[\"artist_names\"] = the_spotify_data.apply(lambda x : x[\"artist_names\"] + \"Artist_NA\" if(x[\"artist_names\"] == \"\") else x[\"artist_names\"], axis=1)\n",
    "\n",
    "the_spotify_data[\"track_name\"] = the_spotify_data[\"track_name\"].apply(lambda x : x.encode(\"utf-8\").decode(\"latin-1\"))\n",
    "the_spotify_data[\"track_name\"] = the_spotify_data[\"track_name\"].apply(lambda x : re.sub(r'[^\\x00-\\x7F]+','', x))\n",
    "the_spotify_data[\"track_name\"] = the_spotify_data.apply(lambda x : x[\"artist_names\"] + \"_NA\" if(x[\"track_name\"] == \"\") else x[\"track_name\"], axis=1)\n",
    "\n",
    "def countNumberArtists(x):\n",
    "    len_all_featured_artists = 0\n",
    "    num_artists = 0\n",
    "    xvals = x.split(\"feat\")\n",
    "    len_xvals = len(xvals)\n",
    "    \n",
    "    if(len_xvals > 1):\n",
    "        featured_artists = xvals[1:]\n",
    "        featured_artists_str = ' '.join(featured_artists)\n",
    "        all_featured_artists = featured_artists_str.split(\"& \")\n",
    "        len_all_featured_artists = len(all_featured_artists)\n",
    "        \n",
    "    num_artists = 1 + len_all_featured_artists\n",
    "    \n",
    "    return num_artists\n",
    "        \n",
    "    \n",
    "the_spotify_data['ArtistCount'] = the_spotify_data['track_name'].apply(lambda x : countNumberArtists(x))"
   ]
  },
  {
   "cell_type": "code",
   "execution_count": 23,
   "metadata": {},
   "outputs": [
    {
     "data": {
      "text/plain": [
       "(5800, 16)"
      ]
     },
     "execution_count": 23,
     "metadata": {},
     "output_type": "execute_result"
    }
   ],
   "source": [
    "the_spotify_data.shape"
   ]
  },
  {
   "cell_type": "code",
   "execution_count": 24,
   "metadata": {},
   "outputs": [],
   "source": [
    "the_spotify_data[\"main_artist\"] = the_spotify_data.apply(lambda x : x[\"artist_names\"].split(\",\")[0], axis=1)"
   ]
  },
  {
   "cell_type": "code",
   "execution_count": 25,
   "metadata": {},
   "outputs": [],
   "source": [
    "the_spotify_data = the_spotify_data.reset_index()\n",
    "the_spotify_data.drop([\"index\"], axis=1, inplace=True)"
   ]
  },
  {
   "cell_type": "code",
   "execution_count": 26,
   "metadata": {},
   "outputs": [
    {
     "data": {
      "text/plain": [
       "(5800, 17)"
      ]
     },
     "execution_count": 26,
     "metadata": {},
     "output_type": "execute_result"
    }
   ],
   "source": [
    "the_spotify_data.shape"
   ]
  },
  {
   "cell_type": "code",
   "execution_count": 27,
   "metadata": {},
   "outputs": [],
   "source": [
    "def everInTopTen(x):\n",
    "    position_vals = list(x[\"rank\"])\n",
    "    position_vals = list(set(position_vals))\n",
    "    \n",
    "#     print(position_vals)\n",
    "    \n",
    "    min_pos = min(position_vals)\n",
    "    existence_val = 0\n",
    "    \n",
    "    if(min_pos <= 10):\n",
    "        existence_val = 1\n",
    "    \n",
    "    x[\"isTopTen\"] = [existence_val] * len(x)\n",
    "    \n",
    "    return x\n",
    "    \n",
    "the_spotify_data = the_spotify_data[~the_spotify_data.index.duplicated()]\n",
    "the_spotify_data = the_spotify_data.groupby([\"artist_names\", \"track_name\"]).apply(lambda x : everInTopTen(x))"
   ]
  },
  {
   "cell_type": "code",
   "execution_count": 28,
   "metadata": {},
   "outputs": [
    {
     "data": {
      "text/html": [
       "<div>\n",
       "<style scoped>\n",
       "    .dataframe tbody tr th:only-of-type {\n",
       "        vertical-align: middle;\n",
       "    }\n",
       "\n",
       "    .dataframe tbody tr th {\n",
       "        vertical-align: top;\n",
       "    }\n",
       "\n",
       "    .dataframe thead th {\n",
       "        text-align: right;\n",
       "    }\n",
       "</style>\n",
       "<table border=\"1\" class=\"dataframe\">\n",
       "  <thead>\n",
       "    <tr style=\"text-align: right;\">\n",
       "      <th></th>\n",
       "      <th>rank</th>\n",
       "      <th>uri</th>\n",
       "      <th>artist_names</th>\n",
       "      <th>track_name</th>\n",
       "      <th>source</th>\n",
       "      <th>peak_rank</th>\n",
       "      <th>previous_rank</th>\n",
       "      <th>weeks_on_chart</th>\n",
       "      <th>streams</th>\n",
       "      <th>End Date</th>\n",
       "      <th>Week</th>\n",
       "      <th>Year</th>\n",
       "      <th>End Date Dt</th>\n",
       "      <th>Seconds since Epoch</th>\n",
       "      <th>End Date Aggregated</th>\n",
       "      <th>ArtistCount</th>\n",
       "      <th>main_artist</th>\n",
       "      <th>isTopTen</th>\n",
       "    </tr>\n",
       "  </thead>\n",
       "  <tbody>\n",
       "    <tr>\n",
       "      <th>0</th>\n",
       "      <td>1</td>\n",
       "      <td>spotify:track:6hgoYQDUcPyCz7LcTUHKxa</td>\n",
       "      <td>Rema</td>\n",
       "      <td>Calm Down</td>\n",
       "      <td>Mavin Records/Jonzing World</td>\n",
       "      <td>1</td>\n",
       "      <td>-1</td>\n",
       "      <td>1</td>\n",
       "      <td>314130</td>\n",
       "      <td>2022-02-17</td>\n",
       "      <td>7</td>\n",
       "      <td>2022</td>\n",
       "      <td>2022-02-17</td>\n",
       "      <td>1.645056e+09</td>\n",
       "      <td>2022-02-01</td>\n",
       "      <td>1</td>\n",
       "      <td>Rema</td>\n",
       "      <td>1</td>\n",
       "    </tr>\n",
       "    <tr>\n",
       "      <th>1</th>\n",
       "      <td>2</td>\n",
       "      <td>spotify:track:7d1aTQlsHMgWmkPywDi7h1</td>\n",
       "      <td>Asake, Olamide</td>\n",
       "      <td>Omo Ope (feat. Olamide)</td>\n",
       "      <td>Asake Music</td>\n",
       "      <td>2</td>\n",
       "      <td>-1</td>\n",
       "      <td>1</td>\n",
       "      <td>127069</td>\n",
       "      <td>2022-02-17</td>\n",
       "      <td>7</td>\n",
       "      <td>2022</td>\n",
       "      <td>2022-02-17</td>\n",
       "      <td>1.645056e+09</td>\n",
       "      <td>2022-02-01</td>\n",
       "      <td>2</td>\n",
       "      <td>Asake</td>\n",
       "      <td>1</td>\n",
       "    </tr>\n",
       "    <tr>\n",
       "      <th>2</th>\n",
       "      <td>3</td>\n",
       "      <td>spotify:track:79P1sxrpp1phhTgF1gkaI8</td>\n",
       "      <td>BNXN fka Buju, Blaq Diamond</td>\n",
       "      <td>Italy (feat. Blaq Diamond)</td>\n",
       "      <td>To Your Ears Entertainment</td>\n",
       "      <td>3</td>\n",
       "      <td>-1</td>\n",
       "      <td>1</td>\n",
       "      <td>95578</td>\n",
       "      <td>2022-02-17</td>\n",
       "      <td>7</td>\n",
       "      <td>2022</td>\n",
       "      <td>2022-02-17</td>\n",
       "      <td>1.645056e+09</td>\n",
       "      <td>2022-02-01</td>\n",
       "      <td>2</td>\n",
       "      <td>BNXN fka Buju</td>\n",
       "      <td>1</td>\n",
       "    </tr>\n",
       "    <tr>\n",
       "      <th>3</th>\n",
       "      <td>4</td>\n",
       "      <td>spotify:track:4lDghGd035xrzGp6Yec2j1</td>\n",
       "      <td>Skiibii, Davido</td>\n",
       "      <td>Baddest Boy - Remix</td>\n",
       "      <td>More Grace Entertainment / Dvpper Music</td>\n",
       "      <td>4</td>\n",
       "      <td>-1</td>\n",
       "      <td>1</td>\n",
       "      <td>93390</td>\n",
       "      <td>2022-02-17</td>\n",
       "      <td>7</td>\n",
       "      <td>2022</td>\n",
       "      <td>2022-02-17</td>\n",
       "      <td>1.645056e+09</td>\n",
       "      <td>2022-02-01</td>\n",
       "      <td>1</td>\n",
       "      <td>Skiibii</td>\n",
       "      <td>1</td>\n",
       "    </tr>\n",
       "    <tr>\n",
       "      <th>4</th>\n",
       "      <td>5</td>\n",
       "      <td>spotify:track:6PojTTCNlz3qo3qBKuUyaO</td>\n",
       "      <td>Mayorkun, Victony</td>\n",
       "      <td>Holy Father</td>\n",
       "      <td>SM Entertainment West Africa Limited</td>\n",
       "      <td>5</td>\n",
       "      <td>-1</td>\n",
       "      <td>1</td>\n",
       "      <td>86308</td>\n",
       "      <td>2022-02-17</td>\n",
       "      <td>7</td>\n",
       "      <td>2022</td>\n",
       "      <td>2022-02-17</td>\n",
       "      <td>1.645056e+09</td>\n",
       "      <td>2022-02-01</td>\n",
       "      <td>1</td>\n",
       "      <td>Mayorkun</td>\n",
       "      <td>1</td>\n",
       "    </tr>\n",
       "  </tbody>\n",
       "</table>\n",
       "</div>"
      ],
      "text/plain": [
       "   rank                                   uri                 artist_names  \\\n",
       "0     1  spotify:track:6hgoYQDUcPyCz7LcTUHKxa                         Rema   \n",
       "1     2  spotify:track:7d1aTQlsHMgWmkPywDi7h1               Asake, Olamide   \n",
       "2     3  spotify:track:79P1sxrpp1phhTgF1gkaI8  BNXN fka Buju, Blaq Diamond   \n",
       "3     4  spotify:track:4lDghGd035xrzGp6Yec2j1              Skiibii, Davido   \n",
       "4     5  spotify:track:6PojTTCNlz3qo3qBKuUyaO            Mayorkun, Victony   \n",
       "\n",
       "                   track_name                                   source  \\\n",
       "0                   Calm Down              Mavin Records/Jonzing World   \n",
       "1     Omo Ope (feat. Olamide)                              Asake Music   \n",
       "2  Italy (feat. Blaq Diamond)               To Your Ears Entertainment   \n",
       "3         Baddest Boy - Remix  More Grace Entertainment / Dvpper Music   \n",
       "4                 Holy Father     SM Entertainment West Africa Limited   \n",
       "\n",
       "   peak_rank  previous_rank  weeks_on_chart  streams    End Date  Week  Year  \\\n",
       "0          1             -1               1   314130  2022-02-17     7  2022   \n",
       "1          2             -1               1   127069  2022-02-17     7  2022   \n",
       "2          3             -1               1    95578  2022-02-17     7  2022   \n",
       "3          4             -1               1    93390  2022-02-17     7  2022   \n",
       "4          5             -1               1    86308  2022-02-17     7  2022   \n",
       "\n",
       "  End Date Dt  Seconds since Epoch End Date Aggregated  ArtistCount  \\\n",
       "0  2022-02-17         1.645056e+09          2022-02-01            1   \n",
       "1  2022-02-17         1.645056e+09          2022-02-01            2   \n",
       "2  2022-02-17         1.645056e+09          2022-02-01            2   \n",
       "3  2022-02-17         1.645056e+09          2022-02-01            1   \n",
       "4  2022-02-17         1.645056e+09          2022-02-01            1   \n",
       "\n",
       "     main_artist  isTopTen  \n",
       "0           Rema         1  \n",
       "1          Asake         1  \n",
       "2  BNXN fka Buju         1  \n",
       "3        Skiibii         1  \n",
       "4       Mayorkun         1  "
      ]
     },
     "execution_count": 28,
     "metadata": {},
     "output_type": "execute_result"
    }
   ],
   "source": [
    "the_spotify_data.head()"
   ]
  },
  {
   "cell_type": "markdown",
   "metadata": {},
   "source": [
    "### When did the track reach the Top 10 "
   ]
  },
  {
   "cell_type": "markdown",
   "metadata": {},
   "source": [
    "### how long does a song last on the charts?"
   ]
  },
  {
   "cell_type": "code",
   "execution_count": 29,
   "metadata": {},
   "outputs": [],
   "source": [
    "# def lengthSong(x):\n",
    "#     min_date = min(x[\"Start Date\"])\n",
    "#     max_date = max(x[\"End Date\"])\n",
    "    \n",
    "#     def convertStrToDate(y):\n",
    "#         split_date = y.split(\"-\")\n",
    "#         dateindtformat = datetime(int(split_date[0]), int(split_date[1]), int(split_date[2]))\n",
    "        \n",
    "#         return dateindtformat\n",
    "    \n",
    "#     x[\"lenOnCharts\"] = [int(((convertStrToDate(max_date) - convertStrToDate(min_date)).total_seconds() / 604800)) ] * len(x)\n",
    "#     x[\"lenOnCharts\"] = x[\"lenOnCharts\"]\n",
    "    \n",
    "#     return x\n",
    "    \n",
    "# the_spotify_data = the_spotify_data.groupby([\"Artist\", \"Track Name\"], as_index=False).apply(lambda x : lengthSong(x))"
   ]
  },
  {
   "cell_type": "code",
   "execution_count": 30,
   "metadata": {},
   "outputs": [
    {
     "data": {
      "text/html": [
       "<div>\n",
       "<style scoped>\n",
       "    .dataframe tbody tr th:only-of-type {\n",
       "        vertical-align: middle;\n",
       "    }\n",
       "\n",
       "    .dataframe tbody tr th {\n",
       "        vertical-align: top;\n",
       "    }\n",
       "\n",
       "    .dataframe thead th {\n",
       "        text-align: right;\n",
       "    }\n",
       "</style>\n",
       "<table border=\"1\" class=\"dataframe\">\n",
       "  <thead>\n",
       "    <tr style=\"text-align: right;\">\n",
       "      <th></th>\n",
       "      <th>rank</th>\n",
       "      <th>uri</th>\n",
       "      <th>artist_names</th>\n",
       "      <th>track_name</th>\n",
       "      <th>source</th>\n",
       "      <th>peak_rank</th>\n",
       "      <th>previous_rank</th>\n",
       "      <th>weeks_on_chart</th>\n",
       "      <th>streams</th>\n",
       "      <th>End Date</th>\n",
       "      <th>Week</th>\n",
       "      <th>Year</th>\n",
       "      <th>End Date Dt</th>\n",
       "      <th>Seconds since Epoch</th>\n",
       "      <th>End Date Aggregated</th>\n",
       "      <th>ArtistCount</th>\n",
       "      <th>main_artist</th>\n",
       "      <th>isTopTen</th>\n",
       "    </tr>\n",
       "  </thead>\n",
       "  <tbody>\n",
       "    <tr>\n",
       "      <th>0</th>\n",
       "      <td>1</td>\n",
       "      <td>spotify:track:6hgoYQDUcPyCz7LcTUHKxa</td>\n",
       "      <td>Rema</td>\n",
       "      <td>Calm Down</td>\n",
       "      <td>Mavin Records/Jonzing World</td>\n",
       "      <td>1</td>\n",
       "      <td>-1</td>\n",
       "      <td>1</td>\n",
       "      <td>314130</td>\n",
       "      <td>2022-02-17</td>\n",
       "      <td>7</td>\n",
       "      <td>2022</td>\n",
       "      <td>2022-02-17</td>\n",
       "      <td>1.645056e+09</td>\n",
       "      <td>2022-02-01</td>\n",
       "      <td>1</td>\n",
       "      <td>Rema</td>\n",
       "      <td>1</td>\n",
       "    </tr>\n",
       "    <tr>\n",
       "      <th>1</th>\n",
       "      <td>2</td>\n",
       "      <td>spotify:track:7d1aTQlsHMgWmkPywDi7h1</td>\n",
       "      <td>Asake, Olamide</td>\n",
       "      <td>Omo Ope (feat. Olamide)</td>\n",
       "      <td>Asake Music</td>\n",
       "      <td>2</td>\n",
       "      <td>-1</td>\n",
       "      <td>1</td>\n",
       "      <td>127069</td>\n",
       "      <td>2022-02-17</td>\n",
       "      <td>7</td>\n",
       "      <td>2022</td>\n",
       "      <td>2022-02-17</td>\n",
       "      <td>1.645056e+09</td>\n",
       "      <td>2022-02-01</td>\n",
       "      <td>2</td>\n",
       "      <td>Asake</td>\n",
       "      <td>1</td>\n",
       "    </tr>\n",
       "    <tr>\n",
       "      <th>2</th>\n",
       "      <td>3</td>\n",
       "      <td>spotify:track:79P1sxrpp1phhTgF1gkaI8</td>\n",
       "      <td>BNXN fka Buju, Blaq Diamond</td>\n",
       "      <td>Italy (feat. Blaq Diamond)</td>\n",
       "      <td>To Your Ears Entertainment</td>\n",
       "      <td>3</td>\n",
       "      <td>-1</td>\n",
       "      <td>1</td>\n",
       "      <td>95578</td>\n",
       "      <td>2022-02-17</td>\n",
       "      <td>7</td>\n",
       "      <td>2022</td>\n",
       "      <td>2022-02-17</td>\n",
       "      <td>1.645056e+09</td>\n",
       "      <td>2022-02-01</td>\n",
       "      <td>2</td>\n",
       "      <td>BNXN fka Buju</td>\n",
       "      <td>1</td>\n",
       "    </tr>\n",
       "    <tr>\n",
       "      <th>3</th>\n",
       "      <td>4</td>\n",
       "      <td>spotify:track:4lDghGd035xrzGp6Yec2j1</td>\n",
       "      <td>Skiibii, Davido</td>\n",
       "      <td>Baddest Boy - Remix</td>\n",
       "      <td>More Grace Entertainment / Dvpper Music</td>\n",
       "      <td>4</td>\n",
       "      <td>-1</td>\n",
       "      <td>1</td>\n",
       "      <td>93390</td>\n",
       "      <td>2022-02-17</td>\n",
       "      <td>7</td>\n",
       "      <td>2022</td>\n",
       "      <td>2022-02-17</td>\n",
       "      <td>1.645056e+09</td>\n",
       "      <td>2022-02-01</td>\n",
       "      <td>1</td>\n",
       "      <td>Skiibii</td>\n",
       "      <td>1</td>\n",
       "    </tr>\n",
       "    <tr>\n",
       "      <th>4</th>\n",
       "      <td>5</td>\n",
       "      <td>spotify:track:6PojTTCNlz3qo3qBKuUyaO</td>\n",
       "      <td>Mayorkun, Victony</td>\n",
       "      <td>Holy Father</td>\n",
       "      <td>SM Entertainment West Africa Limited</td>\n",
       "      <td>5</td>\n",
       "      <td>-1</td>\n",
       "      <td>1</td>\n",
       "      <td>86308</td>\n",
       "      <td>2022-02-17</td>\n",
       "      <td>7</td>\n",
       "      <td>2022</td>\n",
       "      <td>2022-02-17</td>\n",
       "      <td>1.645056e+09</td>\n",
       "      <td>2022-02-01</td>\n",
       "      <td>1</td>\n",
       "      <td>Mayorkun</td>\n",
       "      <td>1</td>\n",
       "    </tr>\n",
       "  </tbody>\n",
       "</table>\n",
       "</div>"
      ],
      "text/plain": [
       "   rank                                   uri                 artist_names  \\\n",
       "0     1  spotify:track:6hgoYQDUcPyCz7LcTUHKxa                         Rema   \n",
       "1     2  spotify:track:7d1aTQlsHMgWmkPywDi7h1               Asake, Olamide   \n",
       "2     3  spotify:track:79P1sxrpp1phhTgF1gkaI8  BNXN fka Buju, Blaq Diamond   \n",
       "3     4  spotify:track:4lDghGd035xrzGp6Yec2j1              Skiibii, Davido   \n",
       "4     5  spotify:track:6PojTTCNlz3qo3qBKuUyaO            Mayorkun, Victony   \n",
       "\n",
       "                   track_name                                   source  \\\n",
       "0                   Calm Down              Mavin Records/Jonzing World   \n",
       "1     Omo Ope (feat. Olamide)                              Asake Music   \n",
       "2  Italy (feat. Blaq Diamond)               To Your Ears Entertainment   \n",
       "3         Baddest Boy - Remix  More Grace Entertainment / Dvpper Music   \n",
       "4                 Holy Father     SM Entertainment West Africa Limited   \n",
       "\n",
       "   peak_rank  previous_rank  weeks_on_chart  streams    End Date  Week  Year  \\\n",
       "0          1             -1               1   314130  2022-02-17     7  2022   \n",
       "1          2             -1               1   127069  2022-02-17     7  2022   \n",
       "2          3             -1               1    95578  2022-02-17     7  2022   \n",
       "3          4             -1               1    93390  2022-02-17     7  2022   \n",
       "4          5             -1               1    86308  2022-02-17     7  2022   \n",
       "\n",
       "  End Date Dt  Seconds since Epoch End Date Aggregated  ArtistCount  \\\n",
       "0  2022-02-17         1.645056e+09          2022-02-01            1   \n",
       "1  2022-02-17         1.645056e+09          2022-02-01            2   \n",
       "2  2022-02-17         1.645056e+09          2022-02-01            2   \n",
       "3  2022-02-17         1.645056e+09          2022-02-01            1   \n",
       "4  2022-02-17         1.645056e+09          2022-02-01            1   \n",
       "\n",
       "     main_artist  isTopTen  \n",
       "0           Rema         1  \n",
       "1          Asake         1  \n",
       "2  BNXN fka Buju         1  \n",
       "3        Skiibii         1  \n",
       "4       Mayorkun         1  "
      ]
     },
     "execution_count": 30,
     "metadata": {},
     "output_type": "execute_result"
    }
   ],
   "source": [
    "the_spotify_data.head()"
   ]
  },
  {
   "cell_type": "code",
   "execution_count": 31,
   "metadata": {},
   "outputs": [],
   "source": [
    "# the_spotify_data[\"lenOnCharts\"].unique().tolist()"
   ]
  },
  {
   "cell_type": "code",
   "execution_count": 32,
   "metadata": {},
   "outputs": [],
   "source": [
    "# def getWeeksOnChart(x):\n",
    "#     min_top_ten_date = min(x[\"Start Date\"])\n",
    "    \n",
    "#     x[\"firstWeekOnChartTopTen\"] = x.apply(lambda x : True if(x[\"isTopTen\"] == 1 and x[\"Start Date\"] == min_top_ten_date) else False , axis=1)    \n",
    "    \n",
    "#     def convertStrToDate(y):\n",
    "#         split_date = y.split(\"-\")\n",
    "#         dateindtformat = datetime(int(split_date[0]), int(split_date[1]), int(split_date[2]))\n",
    "        \n",
    "#         return dateindtformat\n",
    "        \n",
    "#     firstweekdate = x[x[\"firstWeekOnChartTopTen\"] == True][\"Start Date\"].unique().tolist()\n",
    "#     if(len(firstweekdate) == 0):\n",
    "#         firstweekdate = x[\"Start Date\"].unique().tolist()\n",
    "        \n",
    "#     firstweekdate = firstweekdate[0]\n",
    "    \n",
    "   \n",
    "# GET WEEK ON CHART\n",
    "#     x[\"weeksOnChartToTopTen\"] = x.apply(lambda art : convertStrToDate(firstweekdate) - convertStrToDate(min_top_ten_date), axis=1)\n",
    "    \n",
    "#     return x         \n",
    "    \n",
    "# the_spotify_data =the_spotify_data.groupby([\"Artist\", \"Track Name\"], as_index=False).apply(lambda x : getWeeksOnChart(x))"
   ]
  },
  {
   "cell_type": "code",
   "execution_count": 33,
   "metadata": {},
   "outputs": [],
   "source": [
    "# the_spotify_data_top_ten = the_spotify_data_top_ten.reset_index()"
   ]
  },
  {
   "cell_type": "code",
   "execution_count": 34,
   "metadata": {},
   "outputs": [],
   "source": [
    "# the_spotify_data_top_ten.columns"
   ]
  },
  {
   "cell_type": "code",
   "execution_count": 35,
   "metadata": {},
   "outputs": [],
   "source": [
    "# the_spotify_data_top_ten.drop(['index'], axis=1, inplace=True)\n",
    "# the_spotify_data_top_ten.head()"
   ]
  },
  {
   "cell_type": "code",
   "execution_count": 36,
   "metadata": {},
   "outputs": [],
   "source": [
    "# the_spotify_data_top_ten.columns = [\"Artist\", \"Track Name\", \"isTopTen\"]"
   ]
  },
  {
   "cell_type": "code",
   "execution_count": 37,
   "metadata": {},
   "outputs": [],
   "source": [
    "# the_spotify_data.shape, the_spotify_data.shape"
   ]
  },
  {
   "cell_type": "code",
   "execution_count": 38,
   "metadata": {},
   "outputs": [],
   "source": [
    "# the_spotify_data_new = the_spotify_data.merge(the_spotify_data_top_ten, left_on=[\"Artist\", \"Track Name\"], right_on=[\"Artist\", \"Track Name\"], how=\"outer\")"
   ]
  },
  {
   "cell_type": "code",
   "execution_count": 39,
   "metadata": {},
   "outputs": [],
   "source": [
    "# the_spotify_data.shape, the_spotify_data_top_ten.shape"
   ]
  },
  {
   "cell_type": "code",
   "execution_count": 40,
   "metadata": {},
   "outputs": [],
   "source": [
    "# the_spotify_data = the_spotify_data_top_ten"
   ]
  },
  {
   "cell_type": "code",
   "execution_count": 41,
   "metadata": {},
   "outputs": [
    {
     "data": {
      "text/plain": [
       "0    4815\n",
       "1     985\n",
       "Name: isTopTen, dtype: int64"
      ]
     },
     "execution_count": 41,
     "metadata": {},
     "output_type": "execute_result"
    }
   ],
   "source": [
    "the_spotify_data[\"isTopTen\"].value_counts()"
   ]
  },
  {
   "cell_type": "code",
   "execution_count": 42,
   "metadata": {},
   "outputs": [
    {
     "data": {
      "text/plain": [
       "rank                   0\n",
       "uri                    0\n",
       "artist_names           0\n",
       "track_name             0\n",
       "source                 0\n",
       "peak_rank              0\n",
       "previous_rank          0\n",
       "weeks_on_chart         0\n",
       "streams                0\n",
       "End Date               0\n",
       "Week                   0\n",
       "Year                   0\n",
       "End Date Dt            0\n",
       "Seconds since Epoch    0\n",
       "End Date Aggregated    0\n",
       "ArtistCount            0\n",
       "main_artist            0\n",
       "isTopTen               0\n",
       "dtype: int64"
      ]
     },
     "execution_count": 42,
     "metadata": {},
     "output_type": "execute_result"
    }
   ],
   "source": [
    "the_spotify_data.isnull().sum()"
   ]
  },
  {
   "cell_type": "code",
   "execution_count": 43,
   "metadata": {},
   "outputs": [
    {
     "name": "stdout",
     "output_type": "stream",
     "text": [
      "247\n"
     ]
    }
   ],
   "source": [
    "unique_artists = the_spotify_data[\"main_artist\"].unique().tolist()\n",
    "num_artists = len(unique_artists)\n",
    "print(num_artists)"
   ]
  },
  {
   "cell_type": "code",
   "execution_count": 44,
   "metadata": {},
   "outputs": [],
   "source": [
    "### find new artists in that week"
   ]
  },
  {
   "cell_type": "code",
   "execution_count": 45,
   "metadata": {},
   "outputs": [],
   "source": [
    "# the_spotify_data.head(12)\n",
    "def getArtistAppearanceCount(x):\n",
    "    \n",
    "    x = x.reset_index()\n",
    "    x.drop([\"index\"],axis=1,inplace=True)\n",
    "    x = x.reset_index()\n",
    "    \n",
    "    x_cols = x.columns\n",
    "    \n",
    "    x_cols = [w.replace('index', 'artistAppearanceCount') for w in x_cols]\n",
    "    \n",
    "    x.columns = x_cols\n",
    "    \n",
    "    return x        \n",
    "    \n",
    "the_spotify_data =the_spotify_data.groupby([\"main_artist\"], as_index=False).apply(lambda x : getArtistAppearanceCount(x))\n",
    "the_spotify_data = the_spotify_data.reset_index()\n",
    "the_spotify_data.drop([\"level_0\", \"level_1\"], inplace=True, axis=1)"
   ]
  },
  {
   "cell_type": "code",
   "execution_count": 46,
   "metadata": {},
   "outputs": [
    {
     "data": {
      "text/html": [
       "<div>\n",
       "<style scoped>\n",
       "    .dataframe tbody tr th:only-of-type {\n",
       "        vertical-align: middle;\n",
       "    }\n",
       "\n",
       "    .dataframe tbody tr th {\n",
       "        vertical-align: top;\n",
       "    }\n",
       "\n",
       "    .dataframe thead th {\n",
       "        text-align: right;\n",
       "    }\n",
       "</style>\n",
       "<table border=\"1\" class=\"dataframe\">\n",
       "  <thead>\n",
       "    <tr style=\"text-align: right;\">\n",
       "      <th></th>\n",
       "      <th>artistAppearanceCount</th>\n",
       "      <th>rank</th>\n",
       "      <th>uri</th>\n",
       "      <th>artist_names</th>\n",
       "      <th>track_name</th>\n",
       "      <th>source</th>\n",
       "      <th>peak_rank</th>\n",
       "      <th>previous_rank</th>\n",
       "      <th>weeks_on_chart</th>\n",
       "      <th>streams</th>\n",
       "      <th>End Date</th>\n",
       "      <th>Week</th>\n",
       "      <th>Year</th>\n",
       "      <th>End Date Dt</th>\n",
       "      <th>Seconds since Epoch</th>\n",
       "      <th>End Date Aggregated</th>\n",
       "      <th>ArtistCount</th>\n",
       "      <th>main_artist</th>\n",
       "      <th>isTopTen</th>\n",
       "    </tr>\n",
       "  </thead>\n",
       "  <tbody>\n",
       "    <tr>\n",
       "      <th>0</th>\n",
       "      <td>0</td>\n",
       "      <td>36</td>\n",
       "      <td>spotify:track:4vHy2IHzf3EabEa7oMpUZB</td>\n",
       "      <td>1da Banton</td>\n",
       "      <td>No Wahala</td>\n",
       "      <td>Squareball Ent. Limited</td>\n",
       "      <td>36</td>\n",
       "      <td>-1</td>\n",
       "      <td>1</td>\n",
       "      <td>41233</td>\n",
       "      <td>2022-02-17</td>\n",
       "      <td>7</td>\n",
       "      <td>2022</td>\n",
       "      <td>2022-02-17</td>\n",
       "      <td>1.645056e+09</td>\n",
       "      <td>2022-02-01</td>\n",
       "      <td>1</td>\n",
       "      <td>1da Banton</td>\n",
       "      <td>0</td>\n",
       "    </tr>\n",
       "    <tr>\n",
       "      <th>1</th>\n",
       "      <td>1</td>\n",
       "      <td>33</td>\n",
       "      <td>spotify:track:4vHy2IHzf3EabEa7oMpUZB</td>\n",
       "      <td>1da Banton</td>\n",
       "      <td>No Wahala</td>\n",
       "      <td>Squareball Ent. Limited</td>\n",
       "      <td>33</td>\n",
       "      <td>36</td>\n",
       "      <td>2</td>\n",
       "      <td>41956</td>\n",
       "      <td>2022-02-24</td>\n",
       "      <td>8</td>\n",
       "      <td>2022</td>\n",
       "      <td>2022-02-24</td>\n",
       "      <td>1.645661e+09</td>\n",
       "      <td>2022-02-01</td>\n",
       "      <td>1</td>\n",
       "      <td>1da Banton</td>\n",
       "      <td>0</td>\n",
       "    </tr>\n",
       "    <tr>\n",
       "      <th>2</th>\n",
       "      <td>2</td>\n",
       "      <td>46</td>\n",
       "      <td>spotify:track:4vHy2IHzf3EabEa7oMpUZB</td>\n",
       "      <td>1da Banton</td>\n",
       "      <td>No Wahala</td>\n",
       "      <td>Squareball Ent. Limited</td>\n",
       "      <td>33</td>\n",
       "      <td>33</td>\n",
       "      <td>3</td>\n",
       "      <td>39122</td>\n",
       "      <td>2022-03-03</td>\n",
       "      <td>9</td>\n",
       "      <td>2022</td>\n",
       "      <td>2022-03-03</td>\n",
       "      <td>1.646266e+09</td>\n",
       "      <td>2022-03-01</td>\n",
       "      <td>1</td>\n",
       "      <td>1da Banton</td>\n",
       "      <td>0</td>\n",
       "    </tr>\n",
       "    <tr>\n",
       "      <th>3</th>\n",
       "      <td>3</td>\n",
       "      <td>49</td>\n",
       "      <td>spotify:track:4vHy2IHzf3EabEa7oMpUZB</td>\n",
       "      <td>1da Banton</td>\n",
       "      <td>No Wahala</td>\n",
       "      <td>Squareball Ent. Limited</td>\n",
       "      <td>33</td>\n",
       "      <td>46</td>\n",
       "      <td>4</td>\n",
       "      <td>36285</td>\n",
       "      <td>2022-03-10</td>\n",
       "      <td>10</td>\n",
       "      <td>2022</td>\n",
       "      <td>2022-03-10</td>\n",
       "      <td>1.646870e+09</td>\n",
       "      <td>2022-03-01</td>\n",
       "      <td>1</td>\n",
       "      <td>1da Banton</td>\n",
       "      <td>0</td>\n",
       "    </tr>\n",
       "    <tr>\n",
       "      <th>4</th>\n",
       "      <td>4</td>\n",
       "      <td>56</td>\n",
       "      <td>spotify:track:4yaPPFIafaVaMRHZ5IHkbA</td>\n",
       "      <td>1da Banton, Kizz Daniel, Tiwa Savage</td>\n",
       "      <td>No Wahala - Remix</td>\n",
       "      <td>Squareball Ent. Limited</td>\n",
       "      <td>56</td>\n",
       "      <td>-1</td>\n",
       "      <td>1</td>\n",
       "      <td>30777</td>\n",
       "      <td>2022-03-10</td>\n",
       "      <td>10</td>\n",
       "      <td>2022</td>\n",
       "      <td>2022-03-10</td>\n",
       "      <td>1.646870e+09</td>\n",
       "      <td>2022-03-01</td>\n",
       "      <td>1</td>\n",
       "      <td>1da Banton</td>\n",
       "      <td>0</td>\n",
       "    </tr>\n",
       "  </tbody>\n",
       "</table>\n",
       "</div>"
      ],
      "text/plain": [
       "   artistAppearanceCount  rank                                   uri  \\\n",
       "0                      0    36  spotify:track:4vHy2IHzf3EabEa7oMpUZB   \n",
       "1                      1    33  spotify:track:4vHy2IHzf3EabEa7oMpUZB   \n",
       "2                      2    46  spotify:track:4vHy2IHzf3EabEa7oMpUZB   \n",
       "3                      3    49  spotify:track:4vHy2IHzf3EabEa7oMpUZB   \n",
       "4                      4    56  spotify:track:4yaPPFIafaVaMRHZ5IHkbA   \n",
       "\n",
       "                           artist_names         track_name  \\\n",
       "0                            1da Banton          No Wahala   \n",
       "1                            1da Banton          No Wahala   \n",
       "2                            1da Banton          No Wahala   \n",
       "3                            1da Banton          No Wahala   \n",
       "4  1da Banton, Kizz Daniel, Tiwa Savage  No Wahala - Remix   \n",
       "\n",
       "                    source  peak_rank  previous_rank  weeks_on_chart  streams  \\\n",
       "0  Squareball Ent. Limited         36             -1               1    41233   \n",
       "1  Squareball Ent. Limited         33             36               2    41956   \n",
       "2  Squareball Ent. Limited         33             33               3    39122   \n",
       "3  Squareball Ent. Limited         33             46               4    36285   \n",
       "4  Squareball Ent. Limited         56             -1               1    30777   \n",
       "\n",
       "     End Date  Week  Year End Date Dt  Seconds since Epoch  \\\n",
       "0  2022-02-17     7  2022  2022-02-17         1.645056e+09   \n",
       "1  2022-02-24     8  2022  2022-02-24         1.645661e+09   \n",
       "2  2022-03-03     9  2022  2022-03-03         1.646266e+09   \n",
       "3  2022-03-10    10  2022  2022-03-10         1.646870e+09   \n",
       "4  2022-03-10    10  2022  2022-03-10         1.646870e+09   \n",
       "\n",
       "  End Date Aggregated  ArtistCount main_artist  isTopTen  \n",
       "0          2022-02-01            1  1da Banton         0  \n",
       "1          2022-02-01            1  1da Banton         0  \n",
       "2          2022-03-01            1  1da Banton         0  \n",
       "3          2022-03-01            1  1da Banton         0  \n",
       "4          2022-03-01            1  1da Banton         0  "
      ]
     },
     "execution_count": 46,
     "metadata": {},
     "output_type": "execute_result"
    }
   ],
   "source": [
    "the_spotify_data.head()"
   ]
  },
  {
   "cell_type": "code",
   "execution_count": 47,
   "metadata": {},
   "outputs": [],
   "source": [
    "def getTrackAppearanceCount(x):\n",
    "    \n",
    "    x = x.reset_index()\n",
    "    x.drop([\"index\"],axis=1,inplace=True)\n",
    "    x = x.reset_index()\n",
    "    \n",
    "    x_cols = x.columns\n",
    "    \n",
    "    x_cols = [w.replace('index', 'trackAppearanceCount') for w in x_cols]\n",
    "    \n",
    "    x.columns = x_cols\n",
    "    \n",
    "    return x         \n",
    "    \n",
    "the_spotify_data =the_spotify_data.groupby([\"artist_names\", \"track_name\"], as_index=False).apply(lambda x : getTrackAppearanceCount(x))\n",
    "the_spotify_data = the_spotify_data.reset_index()\n",
    "the_spotify_data.drop([\"level_0\", \"level_1\"], inplace=True, axis=1)"
   ]
  },
  {
   "cell_type": "code",
   "execution_count": 48,
   "metadata": {},
   "outputs": [
    {
     "data": {
      "text/html": [
       "<div>\n",
       "<style scoped>\n",
       "    .dataframe tbody tr th:only-of-type {\n",
       "        vertical-align: middle;\n",
       "    }\n",
       "\n",
       "    .dataframe tbody tr th {\n",
       "        vertical-align: top;\n",
       "    }\n",
       "\n",
       "    .dataframe thead th {\n",
       "        text-align: right;\n",
       "    }\n",
       "</style>\n",
       "<table border=\"1\" class=\"dataframe\">\n",
       "  <thead>\n",
       "    <tr style=\"text-align: right;\">\n",
       "      <th></th>\n",
       "      <th>trackAppearanceCount</th>\n",
       "      <th>artistAppearanceCount</th>\n",
       "      <th>rank</th>\n",
       "      <th>uri</th>\n",
       "      <th>artist_names</th>\n",
       "      <th>track_name</th>\n",
       "      <th>source</th>\n",
       "      <th>peak_rank</th>\n",
       "      <th>previous_rank</th>\n",
       "      <th>weeks_on_chart</th>\n",
       "      <th>streams</th>\n",
       "      <th>End Date</th>\n",
       "      <th>Week</th>\n",
       "      <th>Year</th>\n",
       "      <th>End Date Dt</th>\n",
       "      <th>Seconds since Epoch</th>\n",
       "      <th>End Date Aggregated</th>\n",
       "      <th>ArtistCount</th>\n",
       "      <th>main_artist</th>\n",
       "      <th>isTopTen</th>\n",
       "    </tr>\n",
       "  </thead>\n",
       "  <tbody>\n",
       "    <tr>\n",
       "      <th>0</th>\n",
       "      <td>0</td>\n",
       "      <td>0</td>\n",
       "      <td>36</td>\n",
       "      <td>spotify:track:4vHy2IHzf3EabEa7oMpUZB</td>\n",
       "      <td>1da Banton</td>\n",
       "      <td>No Wahala</td>\n",
       "      <td>Squareball Ent. Limited</td>\n",
       "      <td>36</td>\n",
       "      <td>-1</td>\n",
       "      <td>1</td>\n",
       "      <td>41233</td>\n",
       "      <td>2022-02-17</td>\n",
       "      <td>7</td>\n",
       "      <td>2022</td>\n",
       "      <td>2022-02-17</td>\n",
       "      <td>1.645056e+09</td>\n",
       "      <td>2022-02-01</td>\n",
       "      <td>1</td>\n",
       "      <td>1da Banton</td>\n",
       "      <td>0</td>\n",
       "    </tr>\n",
       "    <tr>\n",
       "      <th>1</th>\n",
       "      <td>1</td>\n",
       "      <td>1</td>\n",
       "      <td>33</td>\n",
       "      <td>spotify:track:4vHy2IHzf3EabEa7oMpUZB</td>\n",
       "      <td>1da Banton</td>\n",
       "      <td>No Wahala</td>\n",
       "      <td>Squareball Ent. Limited</td>\n",
       "      <td>33</td>\n",
       "      <td>36</td>\n",
       "      <td>2</td>\n",
       "      <td>41956</td>\n",
       "      <td>2022-02-24</td>\n",
       "      <td>8</td>\n",
       "      <td>2022</td>\n",
       "      <td>2022-02-24</td>\n",
       "      <td>1.645661e+09</td>\n",
       "      <td>2022-02-01</td>\n",
       "      <td>1</td>\n",
       "      <td>1da Banton</td>\n",
       "      <td>0</td>\n",
       "    </tr>\n",
       "    <tr>\n",
       "      <th>2</th>\n",
       "      <td>2</td>\n",
       "      <td>2</td>\n",
       "      <td>46</td>\n",
       "      <td>spotify:track:4vHy2IHzf3EabEa7oMpUZB</td>\n",
       "      <td>1da Banton</td>\n",
       "      <td>No Wahala</td>\n",
       "      <td>Squareball Ent. Limited</td>\n",
       "      <td>33</td>\n",
       "      <td>33</td>\n",
       "      <td>3</td>\n",
       "      <td>39122</td>\n",
       "      <td>2022-03-03</td>\n",
       "      <td>9</td>\n",
       "      <td>2022</td>\n",
       "      <td>2022-03-03</td>\n",
       "      <td>1.646266e+09</td>\n",
       "      <td>2022-03-01</td>\n",
       "      <td>1</td>\n",
       "      <td>1da Banton</td>\n",
       "      <td>0</td>\n",
       "    </tr>\n",
       "    <tr>\n",
       "      <th>3</th>\n",
       "      <td>3</td>\n",
       "      <td>3</td>\n",
       "      <td>49</td>\n",
       "      <td>spotify:track:4vHy2IHzf3EabEa7oMpUZB</td>\n",
       "      <td>1da Banton</td>\n",
       "      <td>No Wahala</td>\n",
       "      <td>Squareball Ent. Limited</td>\n",
       "      <td>33</td>\n",
       "      <td>46</td>\n",
       "      <td>4</td>\n",
       "      <td>36285</td>\n",
       "      <td>2022-03-10</td>\n",
       "      <td>10</td>\n",
       "      <td>2022</td>\n",
       "      <td>2022-03-10</td>\n",
       "      <td>1.646870e+09</td>\n",
       "      <td>2022-03-01</td>\n",
       "      <td>1</td>\n",
       "      <td>1da Banton</td>\n",
       "      <td>0</td>\n",
       "    </tr>\n",
       "    <tr>\n",
       "      <th>4</th>\n",
       "      <td>4</td>\n",
       "      <td>5</td>\n",
       "      <td>53</td>\n",
       "      <td>spotify:track:4vHy2IHzf3EabEa7oMpUZB</td>\n",
       "      <td>1da Banton</td>\n",
       "      <td>No Wahala</td>\n",
       "      <td>Squareball Ent. Limited</td>\n",
       "      <td>33</td>\n",
       "      <td>49</td>\n",
       "      <td>5</td>\n",
       "      <td>31616</td>\n",
       "      <td>2022-03-17</td>\n",
       "      <td>11</td>\n",
       "      <td>2022</td>\n",
       "      <td>2022-03-17</td>\n",
       "      <td>1.647475e+09</td>\n",
       "      <td>2022-03-01</td>\n",
       "      <td>1</td>\n",
       "      <td>1da Banton</td>\n",
       "      <td>0</td>\n",
       "    </tr>\n",
       "  </tbody>\n",
       "</table>\n",
       "</div>"
      ],
      "text/plain": [
       "   trackAppearanceCount  artistAppearanceCount  rank  \\\n",
       "0                     0                      0    36   \n",
       "1                     1                      1    33   \n",
       "2                     2                      2    46   \n",
       "3                     3                      3    49   \n",
       "4                     4                      5    53   \n",
       "\n",
       "                                    uri artist_names track_name  \\\n",
       "0  spotify:track:4vHy2IHzf3EabEa7oMpUZB   1da Banton  No Wahala   \n",
       "1  spotify:track:4vHy2IHzf3EabEa7oMpUZB   1da Banton  No Wahala   \n",
       "2  spotify:track:4vHy2IHzf3EabEa7oMpUZB   1da Banton  No Wahala   \n",
       "3  spotify:track:4vHy2IHzf3EabEa7oMpUZB   1da Banton  No Wahala   \n",
       "4  spotify:track:4vHy2IHzf3EabEa7oMpUZB   1da Banton  No Wahala   \n",
       "\n",
       "                    source  peak_rank  previous_rank  weeks_on_chart  streams  \\\n",
       "0  Squareball Ent. Limited         36             -1               1    41233   \n",
       "1  Squareball Ent. Limited         33             36               2    41956   \n",
       "2  Squareball Ent. Limited         33             33               3    39122   \n",
       "3  Squareball Ent. Limited         33             46               4    36285   \n",
       "4  Squareball Ent. Limited         33             49               5    31616   \n",
       "\n",
       "     End Date  Week  Year End Date Dt  Seconds since Epoch  \\\n",
       "0  2022-02-17     7  2022  2022-02-17         1.645056e+09   \n",
       "1  2022-02-24     8  2022  2022-02-24         1.645661e+09   \n",
       "2  2022-03-03     9  2022  2022-03-03         1.646266e+09   \n",
       "3  2022-03-10    10  2022  2022-03-10         1.646870e+09   \n",
       "4  2022-03-17    11  2022  2022-03-17         1.647475e+09   \n",
       "\n",
       "  End Date Aggregated  ArtistCount main_artist  isTopTen  \n",
       "0          2022-02-01            1  1da Banton         0  \n",
       "1          2022-02-01            1  1da Banton         0  \n",
       "2          2022-03-01            1  1da Banton         0  \n",
       "3          2022-03-01            1  1da Banton         0  \n",
       "4          2022-03-01            1  1da Banton         0  "
      ]
     },
     "execution_count": 48,
     "metadata": {},
     "output_type": "execute_result"
    }
   ],
   "source": [
    "the_spotify_data.head()"
   ]
  },
  {
   "cell_type": "code",
   "execution_count": 49,
   "metadata": {},
   "outputs": [],
   "source": [
    "# artists = the_spotify_data[\"Artist\"]\n",
    "# the_spotify_data.drop([\"Artist\"],axis=1,inplace=True)\n",
    "# the_spotify_data.reset_index(inplace=True)\n",
    "# the_spotify_data.drop([\"level_1\"], axis=1, inplace=True)\n",
    "# the_spotify_data[\"Artist\"] = list(artists)"
   ]
  },
  {
   "cell_type": "code",
   "execution_count": 50,
   "metadata": {},
   "outputs": [],
   "source": [
    "# the_spotify_data.drop(['index'], inplace=True, axis=1)"
   ]
  },
  {
   "cell_type": "code",
   "execution_count": 51,
   "metadata": {},
   "outputs": [],
   "source": [
    "# the_spotify_data[[\"Position\", \"Start Date\", \"End Date\"]].to_csv(\"the_spotify_data_val.csv\", index=False)"
   ]
  },
  {
   "cell_type": "code",
   "execution_count": 52,
   "metadata": {},
   "outputs": [],
   "source": [
    "the_spotify_data.to_csv(\"the_spotify_datang.csv\")"
   ]
  },
  {
   "cell_type": "code",
   "execution_count": 53,
   "metadata": {},
   "outputs": [],
   "source": [
    "the_spotify_data[\"rank\"] = the_spotify_data[\"rank\"].astype(int)\n",
    "the_spotify_data[\"streams\"] = the_spotify_data[\"streams\"].astype(int)\n",
    "the_spotify_data[\"ArtistCount\"] = the_spotify_data[\"ArtistCount\"].astype(int)\n",
    "\n",
    "the_spotify_data[\"isTopTen\"] = the_spotify_data[\"isTopTen\"].astype(int)\n",
    "# the_spotify_data[\"lenOnCharts\"] = the_spotify_data[\"lenOnCharts\"].astype(int)\n",
    "the_spotify_data[\"Year\"] = the_spotify_data[\"Year\"].astype(int)\n",
    "the_spotify_data[\"Week\"] = the_spotify_data[\"Week\"].astype(int)"
   ]
  },
  {
   "cell_type": "code",
   "execution_count": 54,
   "metadata": {},
   "outputs": [],
   "source": [
    "all_cols = list(the_spotify_data.columns)\n",
    "drop_cols = []\n",
    "\n",
    "for col in all_cols:\n",
    "    if(\"Unnamed\" in col or \"artificial\" in col):\n",
    "        drop_cols.append(col)\n",
    "        \n",
    "the_spotify_data.drop(drop_cols, axis=1, inplace = True)"
   ]
  },
  {
   "cell_type": "code",
   "execution_count": 55,
   "metadata": {},
   "outputs": [],
   "source": [
    "the_spotify_data[\"Artist and Track\"] = the_spotify_data[\"artist_names\"] + \"; \" + the_spotify_data[\"track_name\"]"
   ]
  },
  {
   "cell_type": "code",
   "execution_count": 56,
   "metadata": {},
   "outputs": [],
   "source": [
    "# the_spotify_data.to_csv(\"Classification/all_files.csv\", index=False)"
   ]
  },
  {
   "cell_type": "markdown",
   "metadata": {},
   "source": [
    "### Getting the list of Artists and Tracks"
   ]
  },
  {
   "cell_type": "code",
   "execution_count": 57,
   "metadata": {},
   "outputs": [],
   "source": [
    "import pandas as pd\n",
    "import pymongo\n",
    "import getlyrics"
   ]
  },
  {
   "cell_type": "code",
   "execution_count": 58,
   "metadata": {},
   "outputs": [],
   "source": [
    "def trackAppearance(x):\n",
    "#     x = x.reset_index()\n",
    "\n",
    "    x = x.sort_values(by=[\"End Date\"])\n",
    "#     x.set_index([\"Position\"])\n",
    "\n",
    "    x[\"rank\"] = x[\"rank\"].astype(int)\n",
    "#     print(list(x[\"Position\"]))\n",
    "    \n",
    "    x[\"rank difference\"] = x[\"rank\"].diff().fillna(0)\n",
    "    x[\"rank difference\"] = x[\"rank difference\"].astype(int)\n",
    "    \n",
    "#     x[\"Position Difference\"] = x[\"Position\"].sub(x[\"Position\"].shift())\n",
    "#     x.drop([\"index\"], inplace=True)\n",
    "    \n",
    "    return x\n",
    "    \n",
    "all_files_grouped = the_spotify_data.groupby([\"main_artist\", \"track_name\"]).apply(lambda x: trackAppearance(x))"
   ]
  },
  {
   "cell_type": "code",
   "execution_count": 59,
   "metadata": {},
   "outputs": [
    {
     "data": {
      "text/plain": [
       "135"
      ]
     },
     "execution_count": 59,
     "metadata": {},
     "output_type": "execute_result"
    }
   ],
   "source": [
    "all_files_grouped[\"rank difference\"].max()"
   ]
  },
  {
   "cell_type": "markdown",
   "metadata": {},
   "source": [
    "### Position over time"
   ]
  },
  {
   "cell_type": "code",
   "execution_count": 60,
   "metadata": {},
   "outputs": [],
   "source": [
    "def positionvertime(x):\n",
    "    posovertime = 0\n",
    "    #new track\n",
    "    if(x[\"rank difference\"] == 0 and x[\"trackAppearanceCount\"]==0):\n",
    "        posovertime = 0\n",
    "    #track stayed in the same position\n",
    "    elif(x[\"rank difference\"] == 0 and x[\"trackAppearanceCount\"]!=0):\n",
    "        posovertime = 50\n",
    "    #track went up the chart\n",
    "    elif(x[\"rank difference\"] < 0):\n",
    "        posovertime = 75\n",
    "    #track fell down the chart\n",
    "    else:\n",
    "        posovertime = 100\n",
    "    return posovertime"
   ]
  },
  {
   "cell_type": "code",
   "execution_count": 61,
   "metadata": {},
   "outputs": [],
   "source": [
    "all_files_grouped[\"Position over Time\"] = all_files_grouped.apply(lambda x : positionvertime(x), axis=1)"
   ]
  },
  {
   "cell_type": "code",
   "execution_count": 62,
   "metadata": {},
   "outputs": [],
   "source": [
    "all_files_grouped.to_csv(\"ClassificationNG/all_files_NGv1.csv\", index=False)"
   ]
  },
  {
   "cell_type": "code",
   "execution_count": 63,
   "metadata": {},
   "outputs": [
    {
     "data": {
      "text/plain": [
       "23"
      ]
     },
     "execution_count": 63,
     "metadata": {},
     "output_type": "execute_result"
    }
   ],
   "source": [
    "len(list(all_files_grouped.columns))"
   ]
  },
  {
   "cell_type": "code",
   "execution_count": 64,
   "metadata": {},
   "outputs": [],
   "source": [
    "# new_all_files_grouped = all_files_grouped.reset_index(drop=True)"
   ]
  },
  {
   "cell_type": "code",
   "execution_count": 65,
   "metadata": {},
   "outputs": [],
   "source": [
    "def newstuff(x):\n",
    "#     x = x.reset_index()\n",
    "\n",
    "    x = x.sort_values(by=['Seconds since Epoch'])\n",
    "#     x.set_index([\"Position\"])\n",
    "    print(x)\n",
    "    \n",
    "    return x\n",
    "    \n"
   ]
  },
  {
   "cell_type": "code",
   "execution_count": 66,
   "metadata": {},
   "outputs": [],
   "source": [
    "# all_files_grouped = new_all_files_grouped.groupby([\"Artist\", \"Track Name\"]).apply(lambda x: newstuff(x))"
   ]
  },
  {
   "cell_type": "code",
   "execution_count": 67,
   "metadata": {},
   "outputs": [],
   "source": [
    "# all_files_grouped.min()"
   ]
  },
  {
   "cell_type": "code",
   "execution_count": 68,
   "metadata": {},
   "outputs": [],
   "source": [
    "# df = pd.DataFrame({'A': 'a a b'.split(), 'B': [1,2,3], 'C': [4,6, 5]})"
   ]
  },
  {
   "cell_type": "code",
   "execution_count": 69,
   "metadata": {},
   "outputs": [],
   "source": [
    "# new_all_files_grouped.groupby([])"
   ]
  },
  {
   "cell_type": "code",
   "execution_count": 70,
   "metadata": {},
   "outputs": [],
   "source": [
    "# all_files_grouped.apply(lambda x : print(type(x)) )"
   ]
  },
  {
   "cell_type": "code",
   "execution_count": 71,
   "metadata": {},
   "outputs": [],
   "source": [
    "# # new_all_files_grouped.h'Track Name', 'Artist'ead(5)\n",
    "# cols_ = ['Start Date', 'Seconds since Epoch', 'Position']\n",
    "# new_test_df = pd.DataFrame()"
   ]
  },
  {
   "cell_type": "code",
   "execution_count": 72,
   "metadata": {},
   "outputs": [],
   "source": [
    "# 604800\n",
    "def weekonweekposition(x):\n",
    "    \n",
    "#     print(x.values)\n",
    "    \n",
    "    pd.DataFrame({'email':x.index, 'list':x.values})\n",
    "    \n",
    "    \n",
    "#     return x_\n",
    "    \n",
    "#     x_ = pd.DataFrame(x, columns=['Start Date'])\n",
    "    \n",
    "#     x_ = x.to_frame()\n",
    "    \n",
    "#     print(x_.columns)\n",
    "    \n",
    "#     for n in range(0, fin_len):\n",
    "#         for col in cols_:\n",
    "#             print(len(x[n]), x[n], col)\n",
    "        \n",
    "    \n",
    "#     x_ = pd.DataFrame(x, columns=cols_)\n",
    "#     print(x_.shape)\n",
    "#     print(x.columns)"
   ]
  },
  {
   "cell_type": "code",
   "execution_count": 73,
   "metadata": {},
   "outputs": [],
   "source": [
    "# all_files_gr = new_all_files_grouped[['Artist', 'Track Name', 'Seconds since Epoch', 'Position']]"
   ]
  },
  {
   "cell_type": "code",
   "execution_count": 74,
   "metadata": {
    "scrolled": true
   },
   "outputs": [],
   "source": [
    "# all_files_grouped[cols_].apply( lambda x : weekonweekposition(x) )"
   ]
  },
  {
   "cell_type": "code",
   "execution_count": 75,
   "metadata": {},
   "outputs": [],
   "source": [
    "# new_test_df"
   ]
  },
  {
   "cell_type": "markdown",
   "metadata": {},
   "source": [
    "### South African Artists"
   ]
  },
  {
   "cell_type": "code",
   "execution_count": 76,
   "metadata": {},
   "outputs": [
    {
     "data": {
      "text/plain": [
       "(5800, 23)"
      ]
     },
     "execution_count": 76,
     "metadata": {},
     "output_type": "execute_result"
    }
   ],
   "source": [
    "all_files_grouped.shape"
   ]
  },
  {
   "cell_type": "code",
   "execution_count": 77,
   "metadata": {},
   "outputs": [
    {
     "data": {
      "text/plain": [
       "Index(['trackAppearanceCount', 'artistAppearanceCount', 'rank', 'uri',\n",
       "       'artist_names', 'track_name', 'source', 'peak_rank', 'previous_rank',\n",
       "       'weeks_on_chart', 'streams', 'End Date', 'Week', 'Year', 'End Date Dt',\n",
       "       'Seconds since Epoch', 'End Date Aggregated', 'ArtistCount',\n",
       "       'main_artist', 'isTopTen', 'Artist and Track', 'rank difference',\n",
       "       'Position over Time'],\n",
       "      dtype='object')"
      ]
     },
     "execution_count": 77,
     "metadata": {},
     "output_type": "execute_result"
    }
   ],
   "source": [
    "all_files_grouped.columns"
   ]
  },
  {
   "cell_type": "code",
   "execution_count": 78,
   "metadata": {},
   "outputs": [],
   "source": [
    "narrowing_df = all_files_grouped[['End Date', \"rank difference\"]]"
   ]
  },
  {
   "cell_type": "code",
   "execution_count": 79,
   "metadata": {},
   "outputs": [],
   "source": [
    "narrowing_df.reset_index(inplace=True)"
   ]
  },
  {
   "cell_type": "code",
   "execution_count": 80,
   "metadata": {},
   "outputs": [
    {
     "name": "stderr",
     "output_type": "stream",
     "text": [
      "C:\\Users\\lkhum\\anaconda3\\envs\\tfenviron\\lib\\site-packages\\pandas\\core\\frame.py:4308: SettingWithCopyWarning: \n",
      "A value is trying to be set on a copy of a slice from a DataFrame\n",
      "\n",
      "See the caveats in the documentation: https://pandas.pydata.org/pandas-docs/stable/user_guide/indexing.html#returning-a-view-versus-a-copy\n",
      "  return super().drop(\n"
     ]
    }
   ],
   "source": [
    "narrowing_df.drop([\"level_2\"], axis=1, inplace=True)"
   ]
  },
  {
   "cell_type": "code",
   "execution_count": 81,
   "metadata": {},
   "outputs": [],
   "source": [
    "narrowing_df = narrowing_df[narrowing_df[\"rank difference\"] == 0]"
   ]
  },
  {
   "cell_type": "code",
   "execution_count": 82,
   "metadata": {},
   "outputs": [],
   "source": [
    "narrowing_df.to_csv(\"ClassificationNG/narrow_uniq.csv\", index=False)"
   ]
  },
  {
   "cell_type": "code",
   "execution_count": 83,
   "metadata": {},
   "outputs": [],
   "source": [
    "# narow_artists_unique"
   ]
  },
  {
   "cell_type": "code",
   "execution_count": 84,
   "metadata": {},
   "outputs": [],
   "source": [
    "uniquartists_cat_df = pd.read_csv(\"ClassificationNG/uniquartists_cat.csv\")"
   ]
  },
  {
   "cell_type": "code",
   "execution_count": 85,
   "metadata": {},
   "outputs": [
    {
     "name": "stderr",
     "output_type": "stream",
     "text": [
      "<ipython-input-85-bdc7042f4a86>:4: SettingWithCopyWarning: \n",
      "A value is trying to be set on a copy of a slice from a DataFrame\n",
      "\n",
      "See the caveats in the documentation: https://pandas.pydata.org/pandas-docs/stable/user_guide/indexing.html#returning-a-view-versus-a-copy\n",
      "  narrowing_df_art.drop_duplicates(inplace=True)\n",
      "<ipython-input-85-bdc7042f4a86>:5: SettingWithCopyWarning: \n",
      "A value is trying to be set on a copy of a slice from a DataFrame\n",
      "\n",
      "See the caveats in the documentation: https://pandas.pydata.org/pandas-docs/stable/user_guide/indexing.html#returning-a-view-versus-a-copy\n",
      "  uniquartists_cat_df_art.drop_duplicates(inplace=True)\n"
     ]
    }
   ],
   "source": [
    "narrowing_df_art = narrowing_df[[\"main_artist\"]]\n",
    "uniquartists_cat_df_art = uniquartists_cat_df[[\"main_artist\"]]\n",
    "\n",
    "narrowing_df_art.drop_duplicates(inplace=True)\n",
    "uniquartists_cat_df_art.drop_duplicates(inplace=True)"
   ]
  },
  {
   "cell_type": "code",
   "execution_count": 86,
   "metadata": {},
   "outputs": [
    {
     "data": {
      "text/plain": [
       "(247, 248)"
      ]
     },
     "execution_count": 86,
     "metadata": {},
     "output_type": "execute_result"
    }
   ],
   "source": [
    "len(narrowing_df_art), len(uniquartists_cat_df_art)"
   ]
  },
  {
   "cell_type": "code",
   "execution_count": 87,
   "metadata": {},
   "outputs": [],
   "source": [
    "minus_list = list(set(narrowing_df_art[\"main_artist\"]) - set(uniquartists_cat_df_art[\"main_artist\"]))"
   ]
  },
  {
   "cell_type": "code",
   "execution_count": 88,
   "metadata": {},
   "outputs": [],
   "source": [
    "minus_list_df = pd.DataFrame()\n",
    "minus_list_df[\"main_artist\"] = minus_list\n",
    "minus_list_df[\"country\"] = [\"\"]*len(minus_list)\n",
    "minus_list_df.to_csv(\"ClassificationNG/New Artist to Cat.csv\", index=False)"
   ]
  },
  {
   "cell_type": "code",
   "execution_count": 89,
   "metadata": {},
   "outputs": [],
   "source": [
    "edited_minus_list_df = pd.read_csv(\"ClassificationNG/New Artist to Cat.csv\")\n",
    "uniquartists_cat_df = pd.read_csv(\"ClassificationNG/uniquartists_cat.csv\")\n",
    "\n",
    "added_files = [edited_minus_list_df, uniquartists_cat_df]\n",
    "added_files_df = pd.concat(added_files)\n",
    "added_files_df.to_csv(\"ClassificationNG/uniquartists_cat.csv\", index=False)"
   ]
  },
  {
   "cell_type": "code",
   "execution_count": 90,
   "metadata": {},
   "outputs": [],
   "source": [
    "south_african_artists_df = added_files_df[added_files_df[\"country\"] == \"NG\"]\n",
    "south_african_artists = south_african_artists_df[\"main_artist\"].tolist()"
   ]
  },
  {
   "cell_type": "code",
   "execution_count": 91,
   "metadata": {},
   "outputs": [
    {
     "data": {
      "text/plain": [
       "0"
      ]
     },
     "execution_count": 91,
     "metadata": {},
     "output_type": "execute_result"
    }
   ],
   "source": [
    "len(south_african_artists)"
   ]
  },
  {
   "cell_type": "code",
   "execution_count": 92,
   "metadata": {},
   "outputs": [],
   "source": [
    "south_african_artists_lower = []\n",
    "for sartists in south_african_artists:\n",
    "    south_african_artists_lower.append(sartists.lower())"
   ]
  },
  {
   "cell_type": "code",
   "execution_count": 93,
   "metadata": {},
   "outputs": [],
   "source": [
    "uniq_sans = south_african_artists_lower"
   ]
  },
  {
   "cell_type": "code",
   "execution_count": 94,
   "metadata": {},
   "outputs": [
    {
     "data": {
      "text/plain": [
       "0"
      ]
     },
     "execution_count": 94,
     "metadata": {},
     "output_type": "execute_result"
    }
   ],
   "source": [
    "len(uniq_sans)"
   ]
  },
  {
   "cell_type": "code",
   "execution_count": 95,
   "metadata": {},
   "outputs": [
    {
     "data": {
      "text/plain": [
       "0"
      ]
     },
     "execution_count": 95,
     "metadata": {},
     "output_type": "execute_result"
    }
   ],
   "source": [
    "len(south_african_artists)"
   ]
  },
  {
   "cell_type": "code",
   "execution_count": 96,
   "metadata": {},
   "outputs": [],
   "source": [
    "all_files_grouped['Lower Artist'] = all_files_grouped['main_artist'].apply(lambda x : x.lower() )"
   ]
  },
  {
   "cell_type": "code",
   "execution_count": 97,
   "metadata": {},
   "outputs": [],
   "source": [
    "boolean_series = all_files_grouped[\"Lower Artist\"].isin(uniq_sans)\n",
    "all_files_grouped_filtered_df = all_files_grouped[boolean_series]"
   ]
  },
  {
   "cell_type": "code",
   "execution_count": 98,
   "metadata": {},
   "outputs": [],
   "source": [
    "# df_sa = pd.read_csv(\"SA Musicians List.csv\")"
   ]
  },
  {
   "cell_type": "code",
   "execution_count": 99,
   "metadata": {},
   "outputs": [],
   "source": [
    "# sa_artists_scrapped = df_sa[\"Artist\"].unique().tolist()"
   ]
  },
  {
   "cell_type": "code",
   "execution_count": 100,
   "metadata": {},
   "outputs": [],
   "source": [
    "# sa_artists_scrapped_lower = []\n",
    "# for uniqart in sa_artists_scrapped:\n",
    "#     sa_artists_scrapped_lower.append(uniqart.lower())"
   ]
  },
  {
   "cell_type": "code",
   "execution_count": 101,
   "metadata": {},
   "outputs": [],
   "source": [
    "# non_uniq = list(set(sa_artists_scrapped_lower) - set(south_african_artists_lower) )\n",
    "\n",
    "# uniq_sans = list(set(sa_artists_scrapped_lower) - set(non_uniq) )"
   ]
  },
  {
   "cell_type": "code",
   "execution_count": 102,
   "metadata": {},
   "outputs": [],
   "source": [
    "# len(uniq_sans)"
   ]
  },
  {
   "cell_type": "code",
   "execution_count": 103,
   "metadata": {},
   "outputs": [],
   "source": [
    "all_files_grouped_filtered_df.to_csv(\"ClassificationNG/JustNigeriansOnNGChart.csv\", index=False)"
   ]
  },
  {
   "cell_type": "code",
   "execution_count": 104,
   "metadata": {},
   "outputs": [
    {
     "data": {
      "text/plain": [
       "(0, 24)"
      ]
     },
     "execution_count": 104,
     "metadata": {},
     "output_type": "execute_result"
    }
   ],
   "source": [
    "all_files_grouped_filtered_df.shape"
   ]
  },
  {
   "cell_type": "code",
   "execution_count": 105,
   "metadata": {
    "scrolled": true
   },
   "outputs": [
    {
     "name": "stderr",
     "output_type": "stream",
     "text": [
      "C:\\Users\\lkhum\\anaconda3\\envs\\tfenviron\\lib\\site-packages\\pandas\\core\\frame.py:4308: SettingWithCopyWarning: \n",
      "A value is trying to be set on a copy of a slice from a DataFrame\n",
      "\n",
      "See the caveats in the documentation: https://pandas.pydata.org/pandas-docs/stable/user_guide/indexing.html#returning-a-view-versus-a-copy\n",
      "  return super().drop(\n"
     ]
    }
   ],
   "source": [
    "all_files_grouped_filtered_df.drop([\"main_artist\", \"track_name\"], inplace=True, axis=1)"
   ]
  },
  {
   "cell_type": "code",
   "execution_count": 106,
   "metadata": {},
   "outputs": [],
   "source": [
    "all_files_grouped_filtered_df = all_files_grouped_filtered_df.reset_index()"
   ]
  },
  {
   "cell_type": "code",
   "execution_count": 107,
   "metadata": {},
   "outputs": [],
   "source": [
    "all_files_grouped_filtered_df.drop([\"level_2\"], axis=1, inplace = True)"
   ]
  },
  {
   "cell_type": "code",
   "execution_count": 108,
   "metadata": {},
   "outputs": [],
   "source": [
    "# treemap_df = all_files_grouped_filtered_df[[\"Streams\", \"Year\", \"Position\"]]"
   ]
  },
  {
   "cell_type": "code",
   "execution_count": 109,
   "metadata": {},
   "outputs": [],
   "source": [
    "# treemap_df_spec = treemap_df.groupby([ \"Year\"])[\"Streams\", \"Position\"].agg('sum')"
   ]
  },
  {
   "cell_type": "code",
   "execution_count": 110,
   "metadata": {},
   "outputs": [],
   "source": [
    "# treemap_df_spec = treemap_df_spec.reset_index()"
   ]
  },
  {
   "cell_type": "code",
   "execution_count": 111,
   "metadata": {},
   "outputs": [],
   "source": [
    "# len_v = treemap_df_spec.shape[0]"
   ]
  },
  {
   "cell_type": "code",
   "execution_count": 112,
   "metadata": {},
   "outputs": [],
   "source": [
    "# treemap_df_spec[\"side\"] = [\"right\"] * len_v"
   ]
  },
  {
   "cell_type": "code",
   "execution_count": 113,
   "metadata": {},
   "outputs": [],
   "source": [
    "# treemap_df_spec.columns = [\"year\", \"gas\", \"miles\", \"side\"]"
   ]
  },
  {
   "cell_type": "code",
   "execution_count": 114,
   "metadata": {},
   "outputs": [],
   "source": [
    "# treemap_df_spec.to_csv(\"scatterp.csv\", index=False)"
   ]
  },
  {
   "cell_type": "code",
   "execution_count": 115,
   "metadata": {},
   "outputs": [],
   "source": [
    "# treemap_df_val = treemap_df_spec.pivot(columns=[\"End Date\"], values=\"Streams\", index=\"Artist\")\n",
    "# treemap_df_val = treemap_df_val.fillna(0)"
   ]
  },
  {
   "cell_type": "code",
   "execution_count": 116,
   "metadata": {},
   "outputs": [],
   "source": [
    "# treemap_df.melt(columns=[\"Artist\", \"End Date\"], values=\"Streams\")"
   ]
  },
  {
   "cell_type": "code",
   "execution_count": 117,
   "metadata": {},
   "outputs": [],
   "source": [
    "# treemap_df_val"
   ]
  },
  {
   "cell_type": "code",
   "execution_count": 118,
   "metadata": {},
   "outputs": [],
   "source": [
    "# treemap_df_csv = all_files_grouped_filtered_df[[\"Artist\"]]\n",
    "# treemap_df_csv[\"Region\"] = \"ZA\"\n",
    "# treemap_df_csv[\"State\"] = all_files_grouped_filtered_df[\"Artist\"]\n",
    "# treemap_df_csv[\"Division\"] = all_files_grouped_filtered_df[\"Artist\"]\n",
    "# treemap_df_csv.to_csv(\"treemap-region.csv\", index=False)"
   ]
  },
  {
   "cell_type": "code",
   "execution_count": 119,
   "metadata": {},
   "outputs": [],
   "source": [
    "tot_streams_all_files_grouped_filtered_df = all_files_grouped_filtered_df[['main_artist', 'streams']]"
   ]
  },
  {
   "cell_type": "code",
   "execution_count": 120,
   "metadata": {},
   "outputs": [],
   "source": [
    "tot_streams_all_files_grouped_filtered_df_fin = tot_streams_all_files_grouped_filtered_df.groupby([\"main_artist\"]).sum()"
   ]
  },
  {
   "cell_type": "code",
   "execution_count": 121,
   "metadata": {},
   "outputs": [],
   "source": [
    "tot_streams_all_files_grouped_filtered_df_fin.reset_index(inplace=True)"
   ]
  },
  {
   "cell_type": "code",
   "execution_count": 122,
   "metadata": {},
   "outputs": [],
   "source": [
    "tot_streams_all_files_grouped_filtered_df_fin = tot_streams_all_files_grouped_filtered_df_fin.sort_values(by='streams', ascending=False)"
   ]
  },
  {
   "cell_type": "code",
   "execution_count": 123,
   "metadata": {},
   "outputs": [
    {
     "data": {
      "text/html": [
       "<div>\n",
       "<style scoped>\n",
       "    .dataframe tbody tr th:only-of-type {\n",
       "        vertical-align: middle;\n",
       "    }\n",
       "\n",
       "    .dataframe tbody tr th {\n",
       "        vertical-align: top;\n",
       "    }\n",
       "\n",
       "    .dataframe thead th {\n",
       "        text-align: right;\n",
       "    }\n",
       "</style>\n",
       "<table border=\"1\" class=\"dataframe\">\n",
       "  <thead>\n",
       "    <tr style=\"text-align: right;\">\n",
       "      <th></th>\n",
       "      <th>main_artist</th>\n",
       "      <th>streams</th>\n",
       "    </tr>\n",
       "  </thead>\n",
       "  <tbody>\n",
       "  </tbody>\n",
       "</table>\n",
       "</div>"
      ],
      "text/plain": [
       "Empty DataFrame\n",
       "Columns: [main_artist, streams]\n",
       "Index: []"
      ]
     },
     "execution_count": 123,
     "metadata": {},
     "output_type": "execute_result"
    }
   ],
   "source": [
    "tot_streams_all_files_grouped_filtered_df_fin.head(11)"
   ]
  },
  {
   "cell_type": "code",
   "execution_count": 124,
   "metadata": {},
   "outputs": [],
   "source": [
    "top_10_ZA_artists = tot_streams_all_files_grouped_filtered_df_fin[\"main_artist\"].tolist()"
   ]
  },
  {
   "cell_type": "code",
   "execution_count": 125,
   "metadata": {},
   "outputs": [],
   "source": [
    "# top_10_ZA_artists"
   ]
  },
  {
   "cell_type": "code",
   "execution_count": 126,
   "metadata": {},
   "outputs": [],
   "source": [
    "for artist in top_10_ZA_artists:\n",
    "    kabza_de_small = all_files_grouped_filtered_df[all_files_grouped_filtered_df[\"main_artist\"] == artist]\n",
    "\n",
    "    kb_racing_bar_df = kabza_de_small[['End Date Aggregated', \"track_name\", 'Year', 'streams']]\n",
    "\n",
    "    kb_racing_bar_df.columns = ['date', \"name\", 'category', 'value']\n",
    "    kb_racing_bar_df = kb_racing_bar_df.groupby(['date', \"name\", 'category']).sum()\n",
    "    kb_racing_bar_df.reset_index(inplace=True)\n",
    "    \n",
    "    kb_racing_bar_df.to_csv(\"ClassificationNG/topten/_\" + artist + \"_ZAChartracing_bar.csv\", index=False)"
   ]
  },
  {
   "cell_type": "markdown",
   "metadata": {},
   "source": [
    "### For the bar chart race"
   ]
  },
  {
   "cell_type": "code",
   "execution_count": 127,
   "metadata": {},
   "outputs": [
    {
     "data": {
      "text/plain": [
       "0"
      ]
     },
     "execution_count": 127,
     "metadata": {},
     "output_type": "execute_result"
    }
   ],
   "source": [
    "len(all_files_grouped_filtered_df)"
   ]
  },
  {
   "cell_type": "code",
   "execution_count": 128,
   "metadata": {},
   "outputs": [],
   "source": [
    "racing_bar_df = all_files_grouped_filtered_df[['End Date Aggregated', \"main_artist\", 'Year', 'streams']]"
   ]
  },
  {
   "cell_type": "code",
   "execution_count": 129,
   "metadata": {},
   "outputs": [],
   "source": [
    "racing_bar_df.columns = ['date', \"name\", 'category', 'value']"
   ]
  },
  {
   "cell_type": "code",
   "execution_count": 130,
   "metadata": {},
   "outputs": [],
   "source": [
    "racing_bar_df.to_csv(\"ClassificationNG/JustNigeriansOnNGChartracing_bar.csv\", index=False)"
   ]
  },
  {
   "cell_type": "code",
   "execution_count": 131,
   "metadata": {},
   "outputs": [],
   "source": [
    "# len(racing_bar_df[\"End Date Dt\"].unique().tolist())"
   ]
  },
  {
   "cell_type": "markdown",
   "metadata": {},
   "source": [
    "#### Monthly bar chart race"
   ]
  },
  {
   "cell_type": "code",
   "execution_count": 132,
   "metadata": {},
   "outputs": [],
   "source": [
    "monthly_racing_bar_df = all_files_grouped_filtered_df[['End Date Dt', \"main_artist\", 'Year', 'streams']]\n",
    "\n",
    "# monthly_racing_bar_df.groupby([\"Artist\", 'End Date Dt']).sum('Streams')"
   ]
  },
  {
   "cell_type": "code",
   "execution_count": 133,
   "metadata": {},
   "outputs": [],
   "source": [
    "monthly_racing_bar_df[\"Month\"] = monthly_racing_bar_df[\"End Date Dt\"].apply(lambda x : x.month)"
   ]
  },
  {
   "cell_type": "code",
   "execution_count": 134,
   "metadata": {},
   "outputs": [],
   "source": [
    "monthly_racing_bar_agg_df = monthly_racing_bar_df.groupby([\"main_artist\", \"Month\", \"Year\"]).sum(\"streams\").reset_index()"
   ]
  },
  {
   "cell_type": "code",
   "execution_count": 135,
   "metadata": {},
   "outputs": [],
   "source": [
    "# monthly_racing_bar_agg_df[\"date\"] = monthly_racing_bar_agg_df.apply( lambda x : datetime(int(x[\"Year\"]), int(x[\"Month\"]), 1), axis=1)"
   ]
  },
  {
   "cell_type": "code",
   "execution_count": 136,
   "metadata": {},
   "outputs": [],
   "source": [
    "# monthly_racing_bar_agg_df.drop([\"Year\"], inplace = True, axis=1)"
   ]
  },
  {
   "cell_type": "code",
   "execution_count": 137,
   "metadata": {},
   "outputs": [],
   "source": [
    "# monthly_racing_bar_fin = pd.DataFrame()\n",
    "# monthly_racing_bar_fin['date'] = monthly_racing_bar_agg_df[\"date\"]\n",
    "# monthly_racing_bar_fin['name'] = monthly_racing_bar_agg_df[\"main_artist\"]\n",
    "# monthly_racing_bar_fin['category'] = monthly_racing_bar_agg_df[\"Month\"]\n",
    "# monthly_racing_bar_fin['value'] = monthly_racing_bar_agg_df[\"streams\"]"
   ]
  },
  {
   "cell_type": "code",
   "execution_count": 138,
   "metadata": {},
   "outputs": [],
   "source": [
    "# monthly_racing_bar_fin.to_csv(\"ClassificationNG/JustNigeriansOnNGChartMonthlyracing_bar.csv\", index=False)"
   ]
  },
  {
   "cell_type": "markdown",
   "metadata": {},
   "source": [
    "### animated tree map"
   ]
  },
  {
   "cell_type": "code",
   "execution_count": null,
   "metadata": {},
   "outputs": [],
   "source": []
  },
  {
   "cell_type": "code",
   "execution_count": 139,
   "metadata": {},
   "outputs": [],
   "source": [
    "# anim_tree_map_df = all_files_grouped_filtered_df[['Year', 'Streams']]"
   ]
  },
  {
   "cell_type": "code",
   "execution_count": 140,
   "metadata": {},
   "outputs": [],
   "source": [
    "# anim_tree_map_df = anim_tree_map_df.reset_index()"
   ]
  },
  {
   "cell_type": "code",
   "execution_count": 141,
   "metadata": {},
   "outputs": [],
   "source": [
    "# anim_tree_map_df.drop([\"Track Name\", \"level_2\"], axis=1, inplace=True)"
   ]
  },
  {
   "cell_type": "code",
   "execution_count": 142,
   "metadata": {},
   "outputs": [],
   "source": [
    "# anim_tree_map_df_more = anim_tree_map_df.groupby(['Artist', 'Year']).agg(['sum']).reset_index()"
   ]
  },
  {
   "cell_type": "code",
   "execution_count": 143,
   "metadata": {},
   "outputs": [],
   "source": [
    "# anim_tree_map_df_more.columns"
   ]
  },
  {
   "cell_type": "code",
   "execution_count": 144,
   "metadata": {},
   "outputs": [],
   "source": [
    "# anim_tree_map_df_more.columns = [\"name\", \"year\", \"income\"]"
   ]
  },
  {
   "cell_type": "code",
   "execution_count": 145,
   "metadata": {},
   "outputs": [],
   "source": [
    "# anim_tree_map_df_more['income'] = anim_tree_map_df_more['income'].astype(int)\n",
    "# anim_tree_map_df_more['year'] = anim_tree_map_df_more['year'].astype(int)"
   ]
  },
  {
   "cell_type": "code",
   "execution_count": 146,
   "metadata": {},
   "outputs": [],
   "source": [
    "# anim_tree_map_df_more.dtypes"
   ]
  },
  {
   "cell_type": "code",
   "execution_count": 147,
   "metadata": {},
   "outputs": [],
   "source": [
    "# names = anim_tree_map_df_more.name\n",
    "# years = anim_tree_map_df_more.year\n",
    "# streams = anim_tree_map_df_more.income"
   ]
  },
  {
   "cell_type": "code",
   "execution_count": 148,
   "metadata": {},
   "outputs": [],
   "source": [
    "# anim_tree_map_ls_more = []\n",
    "\n",
    "# for n in range(0,len(names)):\n",
    "#     anim_tree_map_ls = [int(years[n]), int(streams[n])]\n",
    "#     anim_tree_map_dict_more = {}\n",
    "#     anim_tree_map_dict_more[names[n]] = anim_tree_map_ls\n",
    "#     anim_tree_map_ls_more.append(anim_tree_map_dict_more)"
   ]
  },
  {
   "cell_type": "code",
   "execution_count": 149,
   "metadata": {},
   "outputs": [],
   "source": [
    "# anim_tree_map_ls_more"
   ]
  },
  {
   "cell_type": "code",
   "execution_count": 150,
   "metadata": {},
   "outputs": [],
   "source": [
    "# from collections import defaultdict\n",
    "\n",
    "# dd = defaultdict(list)\n",
    "\n",
    "# for d in (anim_tree_map_ls_more): # you can list as many input dicts as you want here\n",
    "#     for key, value in d.items():\n",
    "#         dd[key].append(value)"
   ]
  },
  {
   "cell_type": "code",
   "execution_count": 151,
   "metadata": {},
   "outputs": [],
   "source": [
    "# dict_dd = dict(dd)"
   ]
  },
  {
   "cell_type": "code",
   "execution_count": 152,
   "metadata": {},
   "outputs": [],
   "source": [
    "# d_keys = list(dict_dd.keys())\n",
    "# d_values = list(dict_dd.values())\n",
    "# the_dd = []\n",
    "\n",
    "# for n in range(0,len(d_keys)):\n",
    "#     anim_tree_map_dict_more = {}\n",
    "#     anim_tree_map_dict_more[\"name\"] = d_keys[n]\n",
    "#     anim_tree_map_dict_more[\"income\"] = d_values[n]\n",
    "#     anim_tree_map_dict_more[\"region\"] = \"ZA\"\n",
    "#     anim_tree_map_dict_more[\"population\"] = d_values[n]\n",
    "#     anim_tree_map_dict_more[\"lifeExpectancy\"] = d_values[n]\n",
    "    \n",
    "    \n",
    "    \n",
    "#     the_dd.append(anim_tree_map_dict_more)"
   ]
  },
  {
   "cell_type": "code",
   "execution_count": 153,
   "metadata": {},
   "outputs": [],
   "source": [
    "# the_dd"
   ]
  },
  {
   "cell_type": "code",
   "execution_count": 154,
   "metadata": {},
   "outputs": [],
   "source": [
    "# import json\n",
    "# with open('zaartists.json', 'w') as fp:\n",
    "#     json.dump(the_dd, fp)"
   ]
  },
  {
   "cell_type": "code",
   "execution_count": null,
   "metadata": {},
   "outputs": [],
   "source": []
  },
  {
   "cell_type": "code",
   "execution_count": null,
   "metadata": {},
   "outputs": [],
   "source": []
  },
  {
   "cell_type": "code",
   "execution_count": null,
   "metadata": {},
   "outputs": [],
   "source": []
  },
  {
   "cell_type": "code",
   "execution_count": null,
   "metadata": {},
   "outputs": [],
   "source": []
  },
  {
   "cell_type": "code",
   "execution_count": null,
   "metadata": {},
   "outputs": [],
   "source": []
  },
  {
   "cell_type": "code",
   "execution_count": null,
   "metadata": {},
   "outputs": [],
   "source": []
  },
  {
   "cell_type": "code",
   "execution_count": null,
   "metadata": {},
   "outputs": [],
   "source": []
  }
 ],
 "metadata": {
  "kernelspec": {
   "display_name": "Python 3",
   "language": "python",
   "name": "python3"
  },
  "language_info": {
   "codemirror_mode": {
    "name": "ipython",
    "version": 3
   },
   "file_extension": ".py",
   "mimetype": "text/x-python",
   "name": "python",
   "nbconvert_exporter": "python",
   "pygments_lexer": "ipython3",
   "version": "3.8.10"
  }
 },
 "nbformat": 4,
 "nbformat_minor": 4
}
