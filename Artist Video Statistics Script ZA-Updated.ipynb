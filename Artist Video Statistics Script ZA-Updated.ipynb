{
 "cells": [
  {
   "cell_type": "code",
   "execution_count": 1,
   "id": "7840fe53",
   "metadata": {},
   "outputs": [
    {
     "name": "stdout",
     "output_type": "stream",
     "text": [
      "C:\\Users\\User\\Documents\\Spotify Analysis Repos\\top200globalchart\\spotify-top200globalchart-analysis\n"
     ]
    }
   ],
   "source": [
    "%cd C:\\Users\\User\\Documents\\Spotify Analysis Repos\\top200globalchart\\spotify-top200globalchart-analysis"
   ]
  },
  {
   "cell_type": "code",
   "execution_count": 2,
   "id": "f7e3de37",
   "metadata": {},
   "outputs": [],
   "source": [
    "import pandas as pd\n",
    "import json\n",
    "import string"
   ]
  },
  {
   "cell_type": "code",
   "execution_count": 3,
   "id": "e71547af",
   "metadata": {},
   "outputs": [],
   "source": [
    "all_files_za = pd.read_csv(\"Classification/all_files_ZAv1.csv\")"
   ]
  },
  {
   "cell_type": "code",
   "execution_count": 4,
   "id": "b8121e6d",
   "metadata": {},
   "outputs": [],
   "source": [
    "trackappearancecountdf = all_files_za[all_files_za[\"artistAppearanceCount\"] == 0]"
   ]
  },
  {
   "cell_type": "code",
   "execution_count": 5,
   "id": "e28f20a9",
   "metadata": {},
   "outputs": [],
   "source": [
    "trackappearancecountdf.to_csv(\"Classification/firstappearanceartistsza.csv\", index=False)"
   ]
  },
  {
   "cell_type": "code",
   "execution_count": 6,
   "id": "00f40e64",
   "metadata": {},
   "outputs": [
    {
     "data": {
      "text/plain": [
       "['trackAppearanceCount',\n",
       " 'artistAppearanceCount',\n",
       " 'rank',\n",
       " 'uri',\n",
       " 'artist_names',\n",
       " 'track_name',\n",
       " 'source',\n",
       " 'peak_rank',\n",
       " 'previous_rank',\n",
       " 'weeks_on_chart',\n",
       " 'streams',\n",
       " 'End Date',\n",
       " 'Week',\n",
       " 'Year',\n",
       " 'End Date Dt',\n",
       " 'Seconds since Epoch',\n",
       " 'End Date Aggregated',\n",
       " 'ArtistCount',\n",
       " 'main_artist',\n",
       " 'isTopTen',\n",
       " 'Artist and Track',\n",
       " 'rank difference',\n",
       " 'Position over Time']"
      ]
     },
     "execution_count": 6,
     "metadata": {},
     "output_type": "execute_result"
    }
   ],
   "source": [
    "list(trackappearancecountdf.columns)"
   ]
  },
  {
   "cell_type": "code",
   "execution_count": 7,
   "id": "53b9c070",
   "metadata": {},
   "outputs": [],
   "source": [
    "relavantfirsttimers = trackappearancecountdf[[\"main_artist\", \"track_name\", 'trackAppearanceCount', 'artistAppearanceCount','End Date', \"Year\",'streams']]"
   ]
  },
  {
   "cell_type": "code",
   "execution_count": 8,
   "id": "2d71a385",
   "metadata": {},
   "outputs": [],
   "source": [
    "relavantfirsttimerssorted = relavantfirsttimers.sort_values(by=['End Date'],ascending=False)"
   ]
  },
  {
   "cell_type": "code",
   "execution_count": 9,
   "id": "5e11c101",
   "metadata": {},
   "outputs": [],
   "source": [
    "racing_bar_df = relavantfirsttimerssorted[['End Date', \"main_artist\", 'Year', 'streams']]\n",
    "racing_bar_df.columns = ['date', \"name\", 'category', 'value']"
   ]
  },
  {
   "cell_type": "code",
   "execution_count": 10,
   "id": "220bba87",
   "metadata": {},
   "outputs": [
    {
     "data": {
      "text/html": [
       "<div>\n",
       "<style scoped>\n",
       "    .dataframe tbody tr th:only-of-type {\n",
       "        vertical-align: middle;\n",
       "    }\n",
       "\n",
       "    .dataframe tbody tr th {\n",
       "        vertical-align: top;\n",
       "    }\n",
       "\n",
       "    .dataframe thead th {\n",
       "        text-align: right;\n",
       "    }\n",
       "</style>\n",
       "<table border=\"1\" class=\"dataframe\">\n",
       "  <thead>\n",
       "    <tr style=\"text-align: right;\">\n",
       "      <th></th>\n",
       "      <th>date</th>\n",
       "      <th>name</th>\n",
       "      <th>category</th>\n",
       "      <th>value</th>\n",
       "    </tr>\n",
       "  </thead>\n",
       "  <tbody>\n",
       "    <tr>\n",
       "      <th>12211</th>\n",
       "      <td>2024-03-14</td>\n",
       "      <td>Dasha</td>\n",
       "      <td>2024</td>\n",
       "      <td>74002</td>\n",
       "    </tr>\n",
       "    <tr>\n",
       "      <th>21702</th>\n",
       "      <td>2024-03-14</td>\n",
       "      <td>Goldmax</td>\n",
       "      <td>2024</td>\n",
       "      <td>71007</td>\n",
       "    </tr>\n",
       "    <tr>\n",
       "      <th>43029</th>\n",
       "      <td>2024-03-14</td>\n",
       "      <td>New Edition</td>\n",
       "      <td>2024</td>\n",
       "      <td>73265</td>\n",
       "    </tr>\n",
       "    <tr>\n",
       "      <th>396</th>\n",
       "      <td>2024-03-14</td>\n",
       "      <td>4batz</td>\n",
       "      <td>2024</td>\n",
       "      <td>124187</td>\n",
       "    </tr>\n",
       "    <tr>\n",
       "      <th>60594</th>\n",
       "      <td>2024-02-29</td>\n",
       "      <td>Xolly Mncwango</td>\n",
       "      <td>2024</td>\n",
       "      <td>84799</td>\n",
       "    </tr>\n",
       "    <tr>\n",
       "      <th>...</th>\n",
       "      <td>...</td>\n",
       "      <td>...</td>\n",
       "      <td>...</td>\n",
       "      <td>...</td>\n",
       "    </tr>\n",
       "    <tr>\n",
       "      <th>20289</th>\n",
       "      <td>2018-03-15</td>\n",
       "      <td>Fort Minor</td>\n",
       "      <td>2018</td>\n",
       "      <td>1595</td>\n",
       "    </tr>\n",
       "    <tr>\n",
       "      <th>9167</th>\n",
       "      <td>2018-03-15</td>\n",
       "      <td>Cashmere Cat</td>\n",
       "      <td>2018</td>\n",
       "      <td>1198</td>\n",
       "    </tr>\n",
       "    <tr>\n",
       "      <th>48856</th>\n",
       "      <td>2018-03-15</td>\n",
       "      <td>Rob $tone</td>\n",
       "      <td>2018</td>\n",
       "      <td>1445</td>\n",
       "    </tr>\n",
       "    <tr>\n",
       "      <th>49088</th>\n",
       "      <td>2018-03-15</td>\n",
       "      <td>Rudimental</td>\n",
       "      <td>2018</td>\n",
       "      <td>4479</td>\n",
       "    </tr>\n",
       "    <tr>\n",
       "      <th>34354</th>\n",
       "      <td>2018-03-15</td>\n",
       "      <td>Liam Payne</td>\n",
       "      <td>2018</td>\n",
       "      <td>1524</td>\n",
       "    </tr>\n",
       "  </tbody>\n",
       "</table>\n",
       "<p>1114 rows × 4 columns</p>\n",
       "</div>"
      ],
      "text/plain": [
       "             date            name  category   value\n",
       "12211  2024-03-14           Dasha      2024   74002\n",
       "21702  2024-03-14         Goldmax      2024   71007\n",
       "43029  2024-03-14     New Edition      2024   73265\n",
       "396    2024-03-14           4batz      2024  124187\n",
       "60594  2024-02-29  Xolly Mncwango      2024   84799\n",
       "...           ...             ...       ...     ...\n",
       "20289  2018-03-15      Fort Minor      2018    1595\n",
       "9167   2018-03-15    Cashmere Cat      2018    1198\n",
       "48856  2018-03-15       Rob $tone      2018    1445\n",
       "49088  2018-03-15      Rudimental      2018    4479\n",
       "34354  2018-03-15      Liam Payne      2018    1524\n",
       "\n",
       "[1114 rows x 4 columns]"
      ]
     },
     "execution_count": 10,
     "metadata": {},
     "output_type": "execute_result"
    }
   ],
   "source": [
    "racing_bar_df"
   ]
  },
  {
   "cell_type": "code",
   "execution_count": 11,
   "id": "14f6c31d",
   "metadata": {},
   "outputs": [],
   "source": [
    "def getanartistsjson(all_files_za, artist_name):\n",
    "\n",
    "    artist_df = all_files_za[all_files_za[\"main_artist\"] == artist_name]\n",
    "    \n",
    "    num_of_streams = artist_df['streams'].sum()\n",
    "    min_date = artist_df['End Date'].min()\n",
    "    max_date = artist_df['End Date'].max()\n",
    "\n",
    "    unique_songs = artist_df['track_name'].unique().tolist()\n",
    "    num_unique_songs = len(unique_songs)\n",
    "    \n",
    "    source_end_date = artist_df[['End Date', \"source\"]].drop_duplicates()\n",
    "    source_end_date_latest = pd.DataFrame(source_end_date.groupby(\"source\")[\"End Date\"].max())\n",
    "    source_end_date_latest = source_end_date_latest.reset_index()\n",
    "    \n",
    "    rank_max_end_date = artist_df[['End Date', 'track_name', \"rank\"]].drop_duplicates()\n",
    "\n",
    "    min_rank = rank_max_end_date[\"rank\"].min()\n",
    "    max_rank = rank_max_end_date[\"rank\"].max()\n",
    "\n",
    "    min_rank_song_dt = rank_max_end_date[rank_max_end_date[\"rank\"] == min_rank]\n",
    "    max_rank_song_dt = rank_max_end_date[rank_max_end_date[\"rank\"] == max_rank]\n",
    "\n",
    "    min_rank_song_unique_dt = min_rank_song_dt[[\"End Date\", \"track_name\"]].drop_duplicates()\n",
    "    max_rank_song_unique_dt = max_rank_song_dt[[\"End Date\", \"track_name\"]].drop_duplicates()\n",
    "\n",
    "    source_end_date_latest_ls = source_end_date_latest.values.tolist()\n",
    "\n",
    "    min_rank_song_unique_dt_ls = min_rank_song_unique_dt.values.tolist()\n",
    "    max_rank_song_unique_dt_ls = max_rank_song_unique_dt.values.tolist()\n",
    "    \n",
    "    artist_inner_json = {}\n",
    "    \n",
    "    artist_inner_json[\"num_of_streams\"] = str(num_of_streams)\n",
    "    artist_inner_json[\"min_rank\"] = str(min_rank)\n",
    "    artist_inner_json[\"max_rank\"] = str(max_rank)\n",
    "    artist_inner_json[\"min_date\"] = min_date\n",
    "    artist_inner_json[\"max_date\"] = max_date\n",
    "    artist_inner_json[\"num_unique_songs\"] = str(num_unique_songs)\n",
    "\n",
    "    artist_inner_json[\"unique_songs\"] = unique_songs\n",
    "\n",
    "    artist_inner_json[\"source_end_date_latest_ls\"] = dict(source_end_date_latest_ls)\n",
    "    artist_inner_json[\"min_rank_song_unique_dt_ls\"] = dict(min_rank_song_unique_dt_ls)\n",
    "    artist_inner_json[\"max_rank_song_unique_dt_ls\"] = dict(max_rank_song_unique_dt_ls)\n",
    "    \n",
    "    artist_json = {}\n",
    "    artist_json[artist_name] = artist_inner_json\n",
    "    \n",
    "    return artist_json"
   ]
  },
  {
   "cell_type": "code",
   "execution_count": 12,
   "id": "1d54a0a8",
   "metadata": {},
   "outputs": [],
   "source": [
    "unique_artists = all_files_za[\"main_artist\"].unique().tolist()\n",
    "all_artists_jsons = {}\n",
    "    \n",
    "for artist_name in unique_artists:  \n",
    "    artist_json = getanartistsjson(all_files_za, artist_name)\n",
    "    \n",
    "    all_artists_jsons[artist_name] = artist_json\n",
    "    # Serializing json\n",
    "    json_object = json.dumps(artist_json, indent=4)\n",
    "    \n",
    "    new_artist_name = artist_name.translate(str.maketrans('', '', string.punctuation))\n",
    "\n",
    "#     Writing to sample.json\n",
    "#     with open(\"za_artists/\" + new_artist_name +\".json\", \"w\") as outfile:\n",
    "#         outfile.write(json_object)"
   ]
  },
  {
   "cell_type": "markdown",
   "id": "b21b61a2",
   "metadata": {},
   "source": [
    "### MAKE A SCRIPT for the voice over"
   ]
  },
  {
   "cell_type": "code",
   "execution_count": 13,
   "id": "4c469086",
   "metadata": {},
   "outputs": [],
   "source": [
    "max_date = all_files_za[\"End Date\"].max()"
   ]
  },
  {
   "cell_type": "code",
   "execution_count": 14,
   "id": "93ab3542",
   "metadata": {},
   "outputs": [
    {
     "data": {
      "text/plain": [
       "'2024-03-14'"
      ]
     },
     "execution_count": 14,
     "metadata": {},
     "output_type": "execute_result"
    }
   ],
   "source": [
    "max_date"
   ]
  },
  {
   "cell_type": "code",
   "execution_count": 15,
   "id": "4449eaf6",
   "metadata": {},
   "outputs": [],
   "source": [
    "all_files_za_max_date = all_files_za[all_files_za[\"End Date\"] == max_date]"
   ]
  },
  {
   "cell_type": "code",
   "execution_count": 16,
   "id": "939fd7d1",
   "metadata": {},
   "outputs": [],
   "source": [
    "unique_artists_latest = all_files_za_max_date[\"main_artist\"].unique().tolist()"
   ]
  },
  {
   "cell_type": "markdown",
   "id": "3c8ec684",
   "metadata": {},
   "source": [
    "#### Get list of top 10 SA artists to make a script of"
   ]
  },
  {
   "cell_type": "code",
   "execution_count": 17,
   "id": "d8b84155",
   "metadata": {},
   "outputs": [],
   "source": [
    "def theartiststofocuson(all_files_za,thedate,topten):\n",
    "    thedatefiles = all_files_za[(all_files_za['End Date']==thedate) & (all_files_za['rank']<=topten)]\n",
    "    \n",
    "    artistcountry = pd.read_csv(\"Classification/uniquartists_cat.csv\")\n",
    "    \n",
    "    thedatefilesvf = thedatefiles.merge(artistcountry, left_on=[\"main_artist\"], right_on=[\"main_artist\"], how=\"inner\")\n",
    "    thedatefilesvf = thedatefilesvf[thedatefilesvf[\"country\"]==\"ZA\"]\n",
    "    \n",
    "    thelisttoscriptize = thedatefilesvf[\"main_artist\"].unique().tolist()\n",
    "    \n",
    "    return thelisttoscriptize\n",
    "\n",
    "thedate = \"2024-02-29\"\n",
    "topten = 10\n",
    "thelisttoscriptize = theartiststofocuson(all_files_za,thedate,topten)"
   ]
  },
  {
   "cell_type": "code",
   "execution_count": 18,
   "id": "90e94c5f",
   "metadata": {},
   "outputs": [],
   "source": [
    "thelisttoscriptize = [\"Busta 929\"]"
   ]
  },
  {
   "cell_type": "markdown",
   "id": "43895ae5",
   "metadata": {},
   "source": [
    "#### Get list of top 10 remove from videos already made"
   ]
  },
  {
   "cell_type": "code",
   "execution_count": 19,
   "id": "593bfd5c",
   "metadata": {},
   "outputs": [],
   "source": [
    "alreadymadevidsartists = pd.read_csv(\"Classification/vidsartistshortsalreadymade.csv\", encoding = \"ISO-8859-1\")"
   ]
  },
  {
   "cell_type": "code",
   "execution_count": 20,
   "id": "34499ca7",
   "metadata": {},
   "outputs": [],
   "source": [
    "alreadymadevidsartistsls = alreadymadevidsartists[\"Artist\"].unique().tolist()"
   ]
  },
  {
   "cell_type": "code",
   "execution_count": 21,
   "id": "de67fffe",
   "metadata": {},
   "outputs": [],
   "source": [
    "thelisttoscriptizevf = list(set(thelisttoscriptize) - set(alreadymadevidsartistsls))\n",
    "thelisttoscriptizevf.append(\"Harry Cane\")"
   ]
  },
  {
   "cell_type": "code",
   "execution_count": 22,
   "id": "ba1ef6ed",
   "metadata": {},
   "outputs": [
    {
     "data": {
      "text/plain": [
       "['Busta 929', 'Harry Cane']"
      ]
     },
     "execution_count": 22,
     "metadata": {},
     "output_type": "execute_result"
    }
   ],
   "source": [
    "thelisttoscriptizevf"
   ]
  },
  {
   "cell_type": "code",
   "execution_count": 23,
   "id": "d95be039",
   "metadata": {},
   "outputs": [],
   "source": [
    "# artists_of_interest = ['Kabza De Small', 'Blxckie', 'Busta 929', 'Mellow & Sleazy', 'Senior Oat', 'Wanitwa Mos', 'Mr JazziQ', 'Musa Keys', \"Mas Musiq\", \"Deep London\"]"
   ]
  },
  {
   "cell_type": "code",
   "execution_count": 24,
   "id": "76c51454",
   "metadata": {},
   "outputs": [],
   "source": [
    "artists_of_interest = thelisttoscriptizevf"
   ]
  },
  {
   "cell_type": "code",
   "execution_count": 25,
   "id": "f2a494db",
   "metadata": {},
   "outputs": [],
   "source": [
    "# artists_of_interest = ['Blxckie']"
   ]
  },
  {
   "cell_type": "code",
   "execution_count": 26,
   "id": "2897cb50",
   "metadata": {},
   "outputs": [],
   "source": [
    "# artists_of_interest = [\"Mas Musiq\", \"Deep London\"]"
   ]
  },
  {
   "cell_type": "code",
   "execution_count": 27,
   "id": "f098983d",
   "metadata": {},
   "outputs": [],
   "source": [
    "# need to make changes in the script here......"
   ]
  },
  {
   "cell_type": "code",
   "execution_count": 73,
   "id": "3c2c08f9",
   "metadata": {},
   "outputs": [],
   "source": [
    "def formatnums(num):\n",
    "    if num > 1000000:\n",
    "        if not num % 1000000:\n",
    "            return f'{num // 1000000} million'\n",
    "        return f'{round(num / 1000000, 1)} million'\n",
    "    return f'{num // 1000} thousand'"
   ]
  },
  {
   "cell_type": "code",
   "execution_count": 75,
   "id": "cca47da6",
   "metadata": {},
   "outputs": [
    {
     "name": "stdout",
     "output_type": "stream",
     "text": [
      "za_artists/Busta 929_script.json\n",
      "za_artists/Harry Cane_script.json\n"
     ]
    }
   ],
   "source": [
    "for anartist in artists_of_interest:\n",
    "    voiceover_str = \"\"\n",
    "    jsonartist = all_artists_jsons[anartist]\n",
    "    \n",
    "    thename =  anartist + \" have \" + jsonartist[anartist][\"num_unique_songs\"] +\" songs on the Spotify Top 200 Weekly South Africa chart. \\n \"\n",
    "    \n",
    "    minmonth = datetime.datetime.strptime(jsonartist[anartist][\"min_date\"].split(\"-\")[1], \"%m\").strftime(\"%B\")\n",
    "    minday = jsonartist[anartist][\"min_date\"].split(\"-\")[2]\n",
    "    minyear = jsonartist[anartist][\"min_date\"].split(\"-\")[0]\n",
    "    mindate = minday + \" \" + minmonth + \" \"+ minyear\n",
    "    \n",
    "    maxmonth = datetime.datetime.strptime(jsonartist[anartist][\"max_date\"].split(\"-\")[1], \"%m\").strftime(\"%B\")\n",
    "    maxday = jsonartist[anartist][\"max_date\"].split(\"-\")[2]\n",
    "    maxyear = jsonartist[anartist][\"max_date\"].split(\"-\")[0]\n",
    "    maxdate = maxday + \" \" + maxmonth + \" \"+ maxyear\n",
    "    \n",
    "    appearance_date = \"He first appeared on the chart on \" + mindate + \".\" + \" His most recent appearance has been on \" + maxdate\n",
    "    \n",
    "    songs_streams = \". He has a total of \" + formatnums(float(jsonartist[anartist][\"num_of_streams\"])) + \" streams. \\n\"\n",
    "    \n",
    "    \n",
    "    min_rank_songs = list(set(list(jsonartist[anartist][\"min_rank_song_unique_dt_ls\"].values())))\n",
    "    min_rank_songs_not_unique = (list(jsonartist[anartist][\"min_rank_song_unique_dt_ls\"].values()))\n",
    "    \n",
    "    max_rank_songs = list(set(list(jsonartist[anartist][\"max_rank_song_unique_dt_ls\"].values())))\n",
    "    max_rank_songs_not_unique = list(jsonartist[anartist][\"max_rank_song_unique_dt_ls\"].values())\n",
    "    \n",
    "    min_rank_songs_dts_not_unique = list(jsonartist[anartist][\"min_rank_song_unique_dt_ls\"].keys())\n",
    "    max_rank_songs_dts_not_unique = list(jsonartist[anartist][\"max_rank_song_unique_dt_ls\"].keys())\n",
    "    \n",
    "    positions_on_chart = \". His highest position on the chart is \" + jsonartist[anartist][\"min_rank\"] + \" for the song \"\n",
    "    if(len(min_rank_songs) == 1):\n",
    "        min_rank_songs_dt_day = min_rank_songs_dts_not_unique[0].split(\"-\")[2]\n",
    "        min_rank_songs_dt_year = min_rank_songs_dts_not_unique[0].split(\"-\")[0]\n",
    "        min_rank_songs_dt_month = datetime.datetime.strptime(min_rank_songs_dts_not_unique[0].split(\"-\")[1], \"%m\").strftime(\"%B\")\n",
    "        min_rank_dt = min_rank_songs_dt_day + \" \" + min_rank_songs_dt_month + \" \" + min_rank_songs_dt_year\n",
    "        positions_on_chart +=  min_rank_songs[0] + \" which was at this position on \" + min_rank_dt\n",
    "    else:\n",
    "        for the_dt in min_rank_songs_dts_not_unique:\n",
    "            thedt_day = jsonartist[anartist][\"min_rank_song_unique_dt_ls\"][the_dt].split(\"-\")[2]\n",
    "            thedt_year = jsonartist[anartist][\"min_rank_song_unique_dt_ls\"][the_dt].split(\"-\")[0]\n",
    "            thedt_month = datetime.datetime.strptime(jsonartist[anartist][\"min_rank_song_unique_dt_ls\"][the_dt].split(\"-\")[1], \"%m\").strftime(\"%B\")\n",
    "            thedtdate = thedt_day + \" \" + thedt_month + \" \" + thedt_year\n",
    "            \n",
    "            positions_on_chart += jsonartist[anartist][\"min_rank_song_unique_dt_ls\"][the_dt] + \" which was at this position on \" + thedtdate + \" \"\n",
    "    \n",
    "            \n",
    "    songs_on_chart = \" The songs of his that have appeared on the chart are \" + \" ... \".join(jsonartist[anartist][\"unique_songs\"])\n",
    "    \n",
    "    voiceover_str = thename + appearance_date + songs_streams + positions_on_chart + \"\\n\" + songs_on_chart\n",
    "    \n",
    "    voiceover_str_json = {}\n",
    "    voiceover_str_json[anartist] = voiceover_str\n",
    "    # Serializing json\n",
    "    json_object = json.dumps(voiceover_str_json, indent=4)\n",
    "    \n",
    "    new_artist_name = anartist.translate(str.maketrans('', '', string.punctuation))\n",
    "\n",
    "#     Writing to sample.json\n",
    "    print(\"za_artists/\" + new_artist_name +\"_script.json\")\n",
    "    with open(\"za_artists/\" + new_artist_name +\"_script.json\", \"w\") as outfile:\n",
    "        outfile.write(json_object)"
   ]
  },
  {
   "cell_type": "code",
   "execution_count": 53,
   "id": "7cdb9b6b",
   "metadata": {},
   "outputs": [],
   "source": [
    "# for anartist in artists_of_interest:\n",
    "#     voiceover_str = \"\"\n",
    "#     jsonartist = all_artists_jsons[anartist]\n",
    "    \n",
    "#     thename = \"Let us take a look at \" + anartist + \"'s journey on the Spotify Top 200 Weekly South Africa chart. \\n \"\n",
    "#     songs_streams = \"He has had a total of \" + jsonartist[anartist][\"num_unique_songs\"] + \" songs with approximately \" + jsonartist[anartist][\"num_of_streams\"] + \" million streams. \\n\"\n",
    "    \n",
    "#     record_labels = \"\"\n",
    "#     if(len(jsonartist[anartist][\"source_end_date_latest_ls\"].values()) == 1):\n",
    "#         record_labels = \"As of \" + max_date + \" , he is with \" + list(jsonartist[anartist][\"source_end_date_latest_ls\"].keys())[0]\n",
    "#     else:\n",
    "        \n",
    "#         record_labels = \"As of \" + max_date + \", he has released music with \" + ' .... '.join(list(jsonartist[anartist][\"source_end_date_latest_ls\"].keys()))\n",
    "        \n",
    "#     appearance_date = \"He first appeared on the chart on \" + jsonartist[anartist][\"min_date\"] + \".\" + \" His most recent appearance has been on \" + jsonartist[anartist][\"max_date\"]\n",
    "    \n",
    "#     min_rank_songs = list(set(list(jsonartist[anartist][\"min_rank_song_unique_dt_ls\"].values())))\n",
    "#     min_rank_songs_not_unique = (list(jsonartist[anartist][\"min_rank_song_unique_dt_ls\"].values()))\n",
    "    \n",
    "#     max_rank_songs = list(set(list(jsonartist[anartist][\"max_rank_song_unique_dt_ls\"].values())))\n",
    "#     max_rank_songs_not_unique = list(jsonartist[anartist][\"max_rank_song_unique_dt_ls\"].values())\n",
    "    \n",
    "#     min_rank_songs_dts_not_unique = list(jsonartist[anartist][\"min_rank_song_unique_dt_ls\"].keys())\n",
    "#     max_rank_songs_dts_not_unique = list(jsonartist[anartist][\"max_rank_song_unique_dt_ls\"].keys())\n",
    "    \n",
    "#     positions_on_chart = \"His highest position on the chart is \" + jsonartist[anartist][\"min_rank\"] + \" for the song \"\n",
    "#     if(len(min_rank_songs) == 1):\n",
    "#         positions_on_chart +=  min_rank_songs[0] + \" which was at this position on \" + min_rank_songs_dts_not_unique[0]\n",
    "#     else:\n",
    "#         for the_dt in min_rank_songs_dts_not_unique:\n",
    "#             positions_on_chart += jsonartist[anartist][\"min_rank_song_unique_dt_ls\"][the_dt] + \" which was at this position on \" + the_dt + \" \"\n",
    "    \n",
    "#     positions_on_chart_lowest = \"His lowest position on the chart is \" + jsonartist[anartist][\"max_rank\"] + \" for the song \"\n",
    "#     if(len(max_rank_songs) == 1):\n",
    "#         positions_on_chart_lowest +=  max_rank_songs[0] + \" which was at this position on \" + max_rank_songs_dts_not_unique[0]\n",
    "#     else:\n",
    "#         for the_dt in max_rank_songs_dts_not_unique:\n",
    "#             positions_on_chart_lowest += jsonartist[anartist][\"max_rank_song_unique_dt_ls\"][the_dt] + \" which was at this position on \" + the_dt + \" \"\n",
    "            \n",
    "#     songs_on_chart = \"The songs of his that have appeared on the chart are \" + \" ... \".join(jsonartist[anartist][\"unique_songs\"])\n",
    "    \n",
    "#     voiceover_str = thename + songs_streams + record_labels + \"\\n\"+ appearance_date + \"\\n\" + positions_on_chart + \"\\n\" + positions_on_chart_lowest + \"\\n\" + songs_on_chart\n",
    "    \n",
    "#     voiceover_str_json = {}\n",
    "#     voiceover_str_json[anartist] = voiceover_str\n",
    "#     # Serializing json\n",
    "#     json_object = json.dumps(voiceover_str_json, indent=4)\n",
    "    \n",
    "#     new_artist_name = anartist.translate(str.maketrans('', '', string.punctuation))\n",
    "\n",
    "# #     Writing to sample.json\n",
    "#     print(\"za_artists/\" + new_artist_name +\"script.json\")\n",
    "#     with open(\"za_artists/\" + new_artist_name +\"script.json\", \"w\") as outfile:\n",
    "#         outfile.write(json_object)"
   ]
  },
  {
   "cell_type": "code",
   "execution_count": null,
   "id": "16553ca8",
   "metadata": {},
   "outputs": [],
   "source": []
  }
 ],
 "metadata": {
  "kernelspec": {
   "display_name": "Python 3 (ipykernel)",
   "language": "python",
   "name": "python3"
  },
  "language_info": {
   "codemirror_mode": {
    "name": "ipython",
    "version": 3
   },
   "file_extension": ".py",
   "mimetype": "text/x-python",
   "name": "python",
   "nbconvert_exporter": "python",
   "pygments_lexer": "ipython3",
   "version": "3.9.13"
  }
 },
 "nbformat": 4,
 "nbformat_minor": 5
}
