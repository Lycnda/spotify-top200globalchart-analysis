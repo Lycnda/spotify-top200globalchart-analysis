{
 "cells": [
  {
   "cell_type": "code",
   "execution_count": 1,
   "id": "ef90640a",
   "metadata": {},
   "outputs": [],
   "source": [
    "import pandas as pd"
   ]
  },
  {
   "cell_type": "code",
   "execution_count": 2,
   "id": "774a1606",
   "metadata": {},
   "outputs": [],
   "source": [
    "# Load the dataset\n",
    "data = pd.read_csv('Classification/all_files_ZAv1.csv')"
   ]
  },
  {
   "cell_type": "code",
   "execution_count": 3,
   "id": "abb838e3",
   "metadata": {},
   "outputs": [],
   "source": [
    "def findfeaturingintrackname(x):\n",
    "    finstr = \"\"\n",
    "    thesplitonfeaturing = x.split(\"feat.\")\n",
    "    \n",
    "    if len(thesplitonfeaturing) > 1:\n",
    "        finstr = thesplitonfeaturing[1].replace(\")\", \"\")\n",
    "        finstr = finstr.strip()\n",
    "    \n",
    "    return finstr\n",
    "\n",
    "def findfeaturinginartistnames(x):\n",
    "    finstr = \"\"\n",
    "    thesplitonfeaturing = x.split(\",\")\n",
    "    \n",
    "    if len(thesplitonfeaturing) > 1:\n",
    "        thesplitonfeaturing = thesplitonfeaturing[1:]\n",
    "        finstr = \"-\".join(thesplitonfeaturing)\n",
    "    \n",
    "    return finstr\n",
    "\n",
    "def countfeaturinginartistnames(x):\n",
    "    finstr = \"\"\n",
    "    thesplitonfeaturing = x.split(\",\")\n",
    "    \n",
    "    numofcollaborators = len(thesplitonfeaturing) - 1\n",
    "    \n",
    "    return numofcollaborators"
   ]
  },
  {
   "cell_type": "code",
   "execution_count": 4,
   "id": "415bfc0b",
   "metadata": {},
   "outputs": [],
   "source": [
    "data[\"artist_features\"] = data[\"track_name\"].apply(lambda x : findfeaturingintrackname(x))\n",
    "data[\"collaborators\"] = data[\"artist_names\"].apply(lambda x : findfeaturinginartistnames(x))\n",
    "data[\"count_collaborators\"] = data[\"artist_names\"].apply(lambda x : countfeaturinginartistnames(x))\n",
    "data[\"collaborators_new\"] = data[\"artist_features\"].apply(lambda x : findfeaturinginartistnames(x))"
   ]
  },
  {
   "cell_type": "code",
   "execution_count": 5,
   "id": "75df2d38",
   "metadata": {},
   "outputs": [],
   "source": [
    "# data[[\"main_artist\", \"artist_names\", \"collaborators\", \"collaborators_new\"]]"
   ]
  },
  {
   "cell_type": "code",
   "execution_count": null,
   "id": "e2703647",
   "metadata": {},
   "outputs": [],
   "source": []
  },
  {
   "cell_type": "markdown",
   "id": "a1c6001a",
   "metadata": {},
   "source": [
    "#### Find collaborators per artist"
   ]
  },
  {
   "cell_type": "code",
   "execution_count": 6,
   "id": "76a8c29f",
   "metadata": {},
   "outputs": [],
   "source": [
    "thedata = data[[\"main_artist\", \"collaborators\", \"count_collaborators\"]].drop_duplicates()"
   ]
  },
  {
   "cell_type": "code",
   "execution_count": 7,
   "id": "7d930b41",
   "metadata": {},
   "outputs": [],
   "source": [
    "thedata['individual_collaborators'] = thedata['collaborators'].str.split('-')\n",
    "\n",
    "thedata = thedata.explode('individual_collaborators')"
   ]
  },
  {
   "cell_type": "code",
   "execution_count": 8,
   "id": "b27942e1",
   "metadata": {},
   "outputs": [],
   "source": [
    "thedata[[\"main_artist\", \"individual_collaborators\"]].to_csv(\"Classification/collaborators_df.csv\", index=False)"
   ]
  },
  {
   "cell_type": "code",
   "execution_count": 9,
   "id": "1283d941",
   "metadata": {},
   "outputs": [],
   "source": [
    "data['unique collaborators'] = data['collaborators'].str.split('-')"
   ]
  },
  {
   "cell_type": "code",
   "execution_count": 10,
   "id": "af45c400",
   "metadata": {},
   "outputs": [],
   "source": [
    "data = data.explode('unique collaborators')"
   ]
  },
  {
   "cell_type": "code",
   "execution_count": 11,
   "id": "966294ef",
   "metadata": {},
   "outputs": [],
   "source": [
    "data.to_csv(\"Classification/collaborators.csv\", index=False)"
   ]
  },
  {
   "cell_type": "code",
   "execution_count": 12,
   "id": "0280f5f1",
   "metadata": {},
   "outputs": [],
   "source": [
    "p_table = pd.pivot_table(data[['main_artist', 'unique collaborators', 'streams', 'track_name']], index = ['main_artist', 'unique collaborators'])"
   ]
  },
  {
   "cell_type": "code",
   "execution_count": 13,
   "id": "94fe11df",
   "metadata": {},
   "outputs": [],
   "source": [
    "ptablereset = p_table.reset_index()"
   ]
  },
  {
   "cell_type": "code",
   "execution_count": 14,
   "id": "47057965",
   "metadata": {},
   "outputs": [],
   "source": [
    "ptablereset[\"unique collaborators\"] = ptablereset[\"unique collaborators\"].apply(lambda x : x.strip())\n",
    "ptableresetsmall = ptablereset[ptablereset[\"unique collaborators\"] !=\"\"]"
   ]
  },
  {
   "cell_type": "code",
   "execution_count": 15,
   "id": "6d6a4628",
   "metadata": {},
   "outputs": [],
   "source": [
    "ptableresetsmall.to_csv(\"Classification/collaboratorspiv.csv\", index=False)"
   ]
  },
  {
   "cell_type": "markdown",
   "id": "2f25439e",
   "metadata": {},
   "source": [
    "#### The Data"
   ]
  },
  {
   "cell_type": "code",
   "execution_count": 16,
   "id": "c0852c02",
   "metadata": {},
   "outputs": [],
   "source": [
    "data[\"unique collaborators\"] = data[\"unique collaborators\"].apply(lambda x : x.strip())\n",
    "datasmaller = data[data[\"unique collaborators\"] !=\"\"]\n"
   ]
  },
  {
   "cell_type": "code",
   "execution_count": 17,
   "id": "6701543e",
   "metadata": {},
   "outputs": [
    {
     "data": {
      "text/plain": [
       "((72306, 28), (45278, 28))"
      ]
     },
     "execution_count": 17,
     "metadata": {},
     "output_type": "execute_result"
    }
   ],
   "source": [
    "data.shape, datasmaller.shape"
   ]
  },
  {
   "cell_type": "code",
   "execution_count": 18,
   "id": "4672a50b",
   "metadata": {},
   "outputs": [
    {
     "data": {
      "text/plain": [
       "(45278, 4)"
      ]
     },
     "execution_count": 18,
     "metadata": {},
     "output_type": "execute_result"
    }
   ],
   "source": [
    "datasmaller = datasmaller[[\"main_artist\", \"artist_names\", \"track_name\", \"unique collaborators\"]]\n",
    "datasmaller.shape"
   ]
  },
  {
   "cell_type": "code",
   "execution_count": 19,
   "id": "52ca8c9b",
   "metadata": {},
   "outputs": [],
   "source": [
    "datasmaller = datasmaller.drop_duplicates()"
   ]
  },
  {
   "cell_type": "code",
   "execution_count": 20,
   "id": "2c1c5a88",
   "metadata": {},
   "outputs": [
    {
     "data": {
      "text/plain": [
       "(3989, 4)"
      ]
     },
     "execution_count": 20,
     "metadata": {},
     "output_type": "execute_result"
    }
   ],
   "source": [
    "datasmaller.shape"
   ]
  },
  {
   "cell_type": "markdown",
   "id": "1d720b4e",
   "metadata": {},
   "source": [
    "### DJ Maphorisa and Kabza de Small"
   ]
  },
  {
   "cell_type": "code",
   "execution_count": 21,
   "id": "9e406535",
   "metadata": {},
   "outputs": [],
   "source": [
    "asmainartist = \"DJ Maphorisa\"\n",
    "djmaphorisa_smaller = datasmaller[datasmaller[\"main_artist\"] == asmainartist]\n",
    "\n",
    "djmaphorisa_smallercollab = datasmaller[datasmaller[\"unique collaborators\"] == asmainartist]\n",
    "\n",
    "djmaphorisa_smaller = djmaphorisa_smaller.reset_index()\n",
    "djmaphorisa_smaller.drop(\"index\",axis=1, inplace=True)"
   ]
  },
  {
   "cell_type": "code",
   "execution_count": 22,
   "id": "68ba3bd9",
   "metadata": {},
   "outputs": [],
   "source": [
    "asmainartist = \"Kabza De Small\"\n",
    "kabzadesmall_smaller = datasmaller[datasmaller[\"main_artist\"] == asmainartist]\n",
    "\n",
    "kabzadesmall_smallercollab = datasmaller[datasmaller[\"unique collaborators\"] == asmainartist]\n",
    "\n",
    "kabzadesmall_smaller = kabzadesmall_smaller.reset_index()\n",
    "kabzadesmall_smaller.drop(\"index\",axis=1, inplace=True)"
   ]
  },
  {
   "cell_type": "code",
   "execution_count": 23,
   "id": "71c4fb62",
   "metadata": {},
   "outputs": [
    {
     "data": {
      "text/plain": [
       "((55, 4), (59, 4), (133, 4), (61, 4))"
      ]
     },
     "execution_count": 23,
     "metadata": {},
     "output_type": "execute_result"
    }
   ],
   "source": [
    "djmaphorisa_smaller.shape, djmaphorisa_smallercollab.shape, kabzadesmall_smaller.shape, kabzadesmall_smallercollab.shape"
   ]
  },
  {
   "cell_type": "code",
   "execution_count": 24,
   "id": "2d7c086d",
   "metadata": {},
   "outputs": [],
   "source": [
    "commoncollabs = djmaphorisa_smaller[[\"unique collaborators\"]].merge(kabzadesmall_smaller[[\"unique collaborators\"]], left_on=[\"unique collaborators\"], right_on=[\"unique collaborators\"], how=\"inner\")"
   ]
  },
  {
   "cell_type": "code",
   "execution_count": 25,
   "id": "358dfac4",
   "metadata": {},
   "outputs": [],
   "source": [
    "commoncollabsls = commoncollabs[\"unique collaborators\"].unique().tolist()"
   ]
  },
  {
   "cell_type": "code",
   "execution_count": 30,
   "id": "cd79c498",
   "metadata": {},
   "outputs": [],
   "source": [
    "commoncollabsascollabs = djmaphorisa_smallercollab[[\"main_artist\"]].merge(kabzadesmall_smallercollab[[\"main_artist\"]], left_on=[\"main_artist\"], right_on=[\"main_artist\"], how=\"inner\")"
   ]
  },
  {
   "cell_type": "code",
   "execution_count": 32,
   "id": "57e8ceca",
   "metadata": {},
   "outputs": [],
   "source": [
    "commoncollabsascollabsls = commoncollabsascollabs[\"main_artist\"].unique().tolist()"
   ]
  },
  {
   "cell_type": "code",
   "execution_count": 38,
   "id": "4d2ce29c",
   "metadata": {},
   "outputs": [],
   "source": [
    "allcollabvalues = list(set(commoncollabsls + commoncollabsascollabsls))"
   ]
  },
  {
   "cell_type": "code",
   "execution_count": 39,
   "id": "b10704a5",
   "metadata": {},
   "outputs": [
    {
     "data": {
      "text/plain": [
       "(20,\n",
       " ['Sha Sha',\n",
       "  'Mhaw Keys',\n",
       "  'MaWhoo',\n",
       "  'Mlindo The Vocalist',\n",
       "  'Tyler ICU',\n",
       "  'Young Stunna',\n",
       "  'Soa Mattrix',\n",
       "  'MDU aka TRP',\n",
       "  'Da Muziqal Chef',\n",
       "  'Visca',\n",
       "  'Madumane',\n",
       "  'Masego',\n",
       "  'DJ Tira',\n",
       "  'Samthing Soweto',\n",
       "  'Lojay',\n",
       "  'Busiswa',\n",
       "  'Daliwonga',\n",
       "  'Mfr Souls',\n",
       "  'Mas Musiq',\n",
       "  'Focalistic'])"
      ]
     },
     "execution_count": 39,
     "metadata": {},
     "output_type": "execute_result"
    }
   ],
   "source": [
    "len(allcollabvalues), allcollabvalues"
   ]
  },
  {
   "cell_type": "code",
   "execution_count": null,
   "id": "18c2c829",
   "metadata": {},
   "outputs": [],
   "source": []
  }
 ],
 "metadata": {
  "kernelspec": {
   "display_name": "Python 3 (ipykernel)",
   "language": "python",
   "name": "python3"
  },
  "language_info": {
   "codemirror_mode": {
    "name": "ipython",
    "version": 3
   },
   "file_extension": ".py",
   "mimetype": "text/x-python",
   "name": "python",
   "nbconvert_exporter": "python",
   "pygments_lexer": "ipython3",
   "version": "3.9.13"
  }
 },
 "nbformat": 4,
 "nbformat_minor": 5
}
