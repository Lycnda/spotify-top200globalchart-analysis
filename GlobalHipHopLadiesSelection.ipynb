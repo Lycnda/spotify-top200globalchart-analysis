{
 "cells": [
  {
   "cell_type": "code",
   "execution_count": 1,
   "id": "db152b24",
   "metadata": {},
   "outputs": [
    {
     "name": "stdout",
     "output_type": "stream",
     "text": [
      "C:\\Users\\User\\Documents\\Spotify Analysis Repos\\top200globalchart\\spotify-top200globalchart-analysis\n"
     ]
    }
   ],
   "source": [
    "%cd C:\\Users\\User\\Documents\\Spotify Analysis Repos\\top200globalchart\\spotify-top200globalchart-analysis"
   ]
  },
  {
   "cell_type": "code",
   "execution_count": 2,
   "id": "6e1deaa1",
   "metadata": {},
   "outputs": [],
   "source": [
    "import pandas as pd\n",
    "import json\n",
    "import string"
   ]
  },
  {
   "cell_type": "code",
   "execution_count": 3,
   "id": "5a431042",
   "metadata": {},
   "outputs": [],
   "source": [
    "hiphopladies = pd.read_csv(\"Classification/HipHopLadies.csv\", encoding=\"cp1252\", sep=\",\")"
   ]
  },
  {
   "cell_type": "code",
   "execution_count": 4,
   "id": "f9f49dbe",
   "metadata": {},
   "outputs": [],
   "source": [
    "hiphopladies[\"artist_lower\"] = hiphopladies[\"Hip_Hop_Artist\"].apply(lambda x : x.lower().rstrip().lstrip())"
   ]
  },
  {
   "cell_type": "code",
   "execution_count": 5,
   "id": "5976db65",
   "metadata": {},
   "outputs": [],
   "source": [
    "# girlgroups[\"artist_lower\"]"
   ]
  },
  {
   "cell_type": "code",
   "execution_count": 6,
   "id": "4538fab7",
   "metadata": {},
   "outputs": [],
   "source": [
    "all_files_global = pd.read_csv(\"Classification/all_files_globalv1.csv\")"
   ]
  },
  {
   "cell_type": "code",
   "execution_count": 7,
   "id": "5b233580",
   "metadata": {},
   "outputs": [],
   "source": [
    "all_files_global[\"lower_main_artist\"] = all_files_global[\"main_artist\"].apply(lambda x : x.lower().rstrip().lstrip())"
   ]
  },
  {
   "cell_type": "code",
   "execution_count": 8,
   "id": "10b8dc04",
   "metadata": {},
   "outputs": [],
   "source": [
    "allfilesglobalgg = all_files_global.merge(hiphopladies, left_on=[\"lower_main_artist\"], right_on=[\"artist_lower\"], how=\"inner\")"
   ]
  },
  {
   "cell_type": "code",
   "execution_count": 9,
   "id": "be871627",
   "metadata": {},
   "outputs": [
    {
     "data": {
      "text/plain": [
       "((1075, 26), (60982, 24))"
      ]
     },
     "execution_count": 9,
     "metadata": {},
     "output_type": "execute_result"
    }
   ],
   "source": [
    "allfilesglobalgg.shape, all_files_global.shape"
   ]
  },
  {
   "cell_type": "code",
   "execution_count": 10,
   "id": "69de2059",
   "metadata": {},
   "outputs": [],
   "source": [
    "allfilesglobalgg.to_csv(\"Classification/hiphopladies_data.csv\", index=False)"
   ]
  },
  {
   "cell_type": "code",
   "execution_count": 11,
   "id": "dfb24f2b",
   "metadata": {},
   "outputs": [],
   "source": [
    "uniquegrps = allfilesglobalgg[\"main_artist\"].unique().tolist()"
   ]
  },
  {
   "cell_type": "code",
   "execution_count": 12,
   "id": "24afdcc0",
   "metadata": {},
   "outputs": [
    {
     "data": {
      "text/plain": [
       "13"
      ]
     },
     "execution_count": 12,
     "metadata": {},
     "output_type": "execute_result"
    }
   ],
   "source": [
    "len(list(uniquegrps))"
   ]
  },
  {
   "cell_type": "code",
   "execution_count": 13,
   "id": "02c69538",
   "metadata": {},
   "outputs": [
    {
     "data": {
      "text/plain": [
       "['BIA',\n",
       " 'Baby Tate',\n",
       " 'Cardi B',\n",
       " 'Coi Leray',\n",
       " 'Doechii',\n",
       " 'Doja Cat',\n",
       " 'Ice Spice',\n",
       " 'Iggy Azalea',\n",
       " 'Kaliii',\n",
       " 'Megan Thee Stallion',\n",
       " 'Nicki Minaj',\n",
       " 'RAYE',\n",
       " 'Saweetie']"
      ]
     },
     "execution_count": 13,
     "metadata": {},
     "output_type": "execute_result"
    }
   ],
   "source": [
    "uniquegrps"
   ]
  }
 ],
 "metadata": {
  "kernelspec": {
   "display_name": "Python 3 (ipykernel)",
   "language": "python",
   "name": "python3"
  },
  "language_info": {
   "codemirror_mode": {
    "name": "ipython",
    "version": 3
   },
   "file_extension": ".py",
   "mimetype": "text/x-python",
   "name": "python",
   "nbconvert_exporter": "python",
   "pygments_lexer": "ipython3",
   "version": "3.9.13"
  }
 },
 "nbformat": 4,
 "nbformat_minor": 5
}
