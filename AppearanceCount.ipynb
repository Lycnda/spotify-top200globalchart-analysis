{
 "cells": [
  {
   "cell_type": "markdown",
   "id": "21138c3f",
   "metadata": {},
   "source": [
    "### Appearance count of an artist and tracks"
   ]
  },
  {
   "cell_type": "code",
   "execution_count": 1,
   "id": "0dd905f9",
   "metadata": {},
   "outputs": [],
   "source": [
    "import pandas as pd"
   ]
  },
  {
   "cell_type": "code",
   "execution_count": 2,
   "id": "aef05463",
   "metadata": {},
   "outputs": [],
   "source": [
    "allfilesclass = pd.read_csv(\"Classification/all_files_ZAv1.csv\")"
   ]
  },
  {
   "cell_type": "code",
   "execution_count": 3,
   "id": "7bcea737",
   "metadata": {},
   "outputs": [
    {
     "data": {
      "text/plain": [
       "(61886, 23)"
      ]
     },
     "execution_count": 3,
     "metadata": {},
     "output_type": "execute_result"
    }
   ],
   "source": [
    "allfilesclass.shape"
   ]
  },
  {
   "cell_type": "code",
   "execution_count": 4,
   "id": "050fad48",
   "metadata": {},
   "outputs": [
    {
     "data": {
      "text/plain": [
       "Index(['trackAppearanceCount', 'artistAppearanceCount', 'rank', 'uri',\n",
       "       'artist_names', 'track_name', 'source', 'peak_rank', 'previous_rank',\n",
       "       'weeks_on_chart', 'streams', 'End Date', 'Week', 'Year', 'End Date Dt',\n",
       "       'Seconds since Epoch', 'End Date Aggregated', 'ArtistCount',\n",
       "       'main_artist', 'isTopTen', 'Artist and Track', 'rank difference',\n",
       "       'Position over Time'],\n",
       "      dtype='object')"
      ]
     },
     "execution_count": 4,
     "metadata": {},
     "output_type": "execute_result"
    }
   ],
   "source": [
    "allfilesclass.columns"
   ]
  },
  {
   "cell_type": "code",
   "execution_count": 8,
   "id": "a284dc14",
   "metadata": {},
   "outputs": [],
   "source": [
    "appearances = allfilesclass[[\"trackAppearanceCount\", \"artistAppearanceCount\", \"main_artist\", \"track_name\", \"End Date\"]].drop_duplicates()"
   ]
  },
  {
   "cell_type": "code",
   "execution_count": 9,
   "id": "69771011",
   "metadata": {},
   "outputs": [
    {
     "data": {
      "text/plain": [
       "(61886, 5)"
      ]
     },
     "execution_count": 9,
     "metadata": {},
     "output_type": "execute_result"
    }
   ],
   "source": [
    "appearances.shape"
   ]
  },
  {
   "cell_type": "code",
   "execution_count": 12,
   "id": "74dc2c64",
   "metadata": {},
   "outputs": [],
   "source": [
    "firsttrackappearance = appearances[appearances[\"trackAppearanceCount\"]==0]"
   ]
  },
  {
   "cell_type": "code",
   "execution_count": 13,
   "id": "7a342415",
   "metadata": {},
   "outputs": [
    {
     "data": {
      "text/html": [
       "<div>\n",
       "<style scoped>\n",
       "    .dataframe tbody tr th:only-of-type {\n",
       "        vertical-align: middle;\n",
       "    }\n",
       "\n",
       "    .dataframe tbody tr th {\n",
       "        vertical-align: top;\n",
       "    }\n",
       "\n",
       "    .dataframe thead th {\n",
       "        text-align: right;\n",
       "    }\n",
       "</style>\n",
       "<table border=\"1\" class=\"dataframe\">\n",
       "  <thead>\n",
       "    <tr style=\"text-align: right;\">\n",
       "      <th></th>\n",
       "      <th>trackAppearanceCount</th>\n",
       "      <th>artistAppearanceCount</th>\n",
       "      <th>main_artist</th>\n",
       "      <th>track_name</th>\n",
       "      <th>End Date</th>\n",
       "    </tr>\n",
       "  </thead>\n",
       "  <tbody>\n",
       "    <tr>\n",
       "      <th>0</th>\n",
       "      <td>0</td>\n",
       "      <td>3</td>\n",
       "      <td>$</td>\n",
       "      <td>BACK TO ME</td>\n",
       "      <td>2024-02-15</td>\n",
       "    </tr>\n",
       "    <tr>\n",
       "      <th>2</th>\n",
       "      <td>0</td>\n",
       "      <td>7</td>\n",
       "      <td>$</td>\n",
       "      <td>BEG FORGIVENESS</td>\n",
       "      <td>2024-02-15</td>\n",
       "    </tr>\n",
       "    <tr>\n",
       "      <th>3</th>\n",
       "      <td>0</td>\n",
       "      <td>8</td>\n",
       "      <td>$</td>\n",
       "      <td>BURN</td>\n",
       "      <td>2024-02-15</td>\n",
       "    </tr>\n",
       "    <tr>\n",
       "      <th>6</th>\n",
       "      <td>0</td>\n",
       "      <td>0</td>\n",
       "      <td>$</td>\n",
       "      <td>CARNIVAL</td>\n",
       "      <td>2024-02-15</td>\n",
       "    </tr>\n",
       "    <tr>\n",
       "      <th>7</th>\n",
       "      <td>0</td>\n",
       "      <td>14</td>\n",
       "      <td>$</td>\n",
       "      <td>CARNIVAL</td>\n",
       "      <td>2024-02-22</td>\n",
       "    </tr>\n",
       "    <tr>\n",
       "      <th>...</th>\n",
       "      <td>...</td>\n",
       "      <td>...</td>\n",
       "      <td>...</td>\n",
       "      <td>...</td>\n",
       "      <td>...</td>\n",
       "    </tr>\n",
       "    <tr>\n",
       "      <th>61838</th>\n",
       "      <td>0</td>\n",
       "      <td>0</td>\n",
       "      <td>salem ilese</td>\n",
       "      <td>Mad at Disney</td>\n",
       "      <td>2020-09-10</td>\n",
       "    </tr>\n",
       "    <tr>\n",
       "      <th>61850</th>\n",
       "      <td>0</td>\n",
       "      <td>0</td>\n",
       "      <td>the King will come</td>\n",
       "      <td>Yet</td>\n",
       "      <td>2023-07-20</td>\n",
       "    </tr>\n",
       "    <tr>\n",
       "      <th>61852</th>\n",
       "      <td>0</td>\n",
       "      <td>0</td>\n",
       "      <td>twocolors</td>\n",
       "      <td>Lovefool</td>\n",
       "      <td>2021-01-14</td>\n",
       "    </tr>\n",
       "    <tr>\n",
       "      <th>61854</th>\n",
       "      <td>0</td>\n",
       "      <td>0</td>\n",
       "      <td>uLazi</td>\n",
       "      <td>Gijima</td>\n",
       "      <td>2022-07-28</td>\n",
       "    </tr>\n",
       "    <tr>\n",
       "      <th>61855</th>\n",
       "      <td>0</td>\n",
       "      <td>1</td>\n",
       "      <td>uLazi</td>\n",
       "      <td>yey</td>\n",
       "      <td>2023-04-06</td>\n",
       "    </tr>\n",
       "  </tbody>\n",
       "</table>\n",
       "<p>5157 rows × 5 columns</p>\n",
       "</div>"
      ],
      "text/plain": [
       "       trackAppearanceCount  artistAppearanceCount         main_artist  \\\n",
       "0                         0                      3                   $   \n",
       "2                         0                      7                   $   \n",
       "3                         0                      8                   $   \n",
       "6                         0                      0                   $   \n",
       "7                         0                     14                   $   \n",
       "...                     ...                    ...                 ...   \n",
       "61838                     0                      0         salem ilese   \n",
       "61850                     0                      0  the King will come   \n",
       "61852                     0                      0           twocolors   \n",
       "61854                     0                      0               uLazi   \n",
       "61855                     0                      1               uLazi   \n",
       "\n",
       "            track_name    End Date  \n",
       "0           BACK TO ME  2024-02-15  \n",
       "2      BEG FORGIVENESS  2024-02-15  \n",
       "3                 BURN  2024-02-15  \n",
       "6             CARNIVAL  2024-02-15  \n",
       "7             CARNIVAL  2024-02-22  \n",
       "...                ...         ...  \n",
       "61838    Mad at Disney  2020-09-10  \n",
       "61850              Yet  2023-07-20  \n",
       "61852         Lovefool  2021-01-14  \n",
       "61854           Gijima  2022-07-28  \n",
       "61855              yey  2023-04-06  \n",
       "\n",
       "[5157 rows x 5 columns]"
      ]
     },
     "execution_count": 13,
     "metadata": {},
     "output_type": "execute_result"
    }
   ],
   "source": [
    "firsttrackappearance"
   ]
  },
  {
   "cell_type": "code",
   "execution_count": null,
   "id": "e39424d7",
   "metadata": {},
   "outputs": [],
   "source": []
  },
  {
   "cell_type": "code",
   "execution_count": null,
   "id": "00bb98db",
   "metadata": {},
   "outputs": [],
   "source": []
  },
  {
   "cell_type": "code",
   "execution_count": null,
   "id": "f19bd803",
   "metadata": {},
   "outputs": [],
   "source": []
  },
  {
   "cell_type": "code",
   "execution_count": 14,
   "id": "bb3912f9",
   "metadata": {},
   "outputs": [],
   "source": [
    "# thecollabsdf.to_csv(\"artists_za_collaborators/\"+ mainartist +\".csv\", index=False)"
   ]
  },
  {
   "cell_type": "code",
   "execution_count": null,
   "id": "3012ccfd",
   "metadata": {},
   "outputs": [],
   "source": []
  }
 ],
 "metadata": {
  "kernelspec": {
   "display_name": "Python 3 (ipykernel)",
   "language": "python",
   "name": "python3"
  },
  "language_info": {
   "codemirror_mode": {
    "name": "ipython",
    "version": 3
   },
   "file_extension": ".py",
   "mimetype": "text/x-python",
   "name": "python",
   "nbconvert_exporter": "python",
   "pygments_lexer": "ipython3",
   "version": "3.9.13"
  }
 },
 "nbformat": 4,
 "nbformat_minor": 5
}
