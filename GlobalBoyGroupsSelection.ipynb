{
 "cells": [
  {
   "cell_type": "code",
   "execution_count": 1,
   "id": "db152b24",
   "metadata": {},
   "outputs": [
    {
     "name": "stdout",
     "output_type": "stream",
     "text": [
      "C:\\Users\\User\\Documents\\Spotify Analysis Repos\\top200globalchart\\spotify-top200globalchart-analysis\n"
     ]
    }
   ],
   "source": [
    "%cd C:\\Users\\User\\Documents\\Spotify Analysis Repos\\top200globalchart\\spotify-top200globalchart-analysis"
   ]
  },
  {
   "cell_type": "code",
   "execution_count": 2,
   "id": "6e1deaa1",
   "metadata": {},
   "outputs": [],
   "source": [
    "import pandas as pd\n",
    "import json\n",
    "import string"
   ]
  },
  {
   "cell_type": "code",
   "execution_count": 3,
   "id": "5a431042",
   "metadata": {},
   "outputs": [],
   "source": [
    "boygroups = pd.read_csv(\"Classification/ListofBoyGroupsv1.csv\", encoding=\"cp1252\", sep=\",\")"
   ]
  },
  {
   "cell_type": "code",
   "execution_count": 4,
   "id": "f9f49dbe",
   "metadata": {},
   "outputs": [],
   "source": [
    "boygroups[\"artist_lower\"] = boygroups[\"Artist\"].apply(lambda x : x.lower().rstrip().lstrip())"
   ]
  },
  {
   "cell_type": "code",
   "execution_count": 5,
   "id": "4538fab7",
   "metadata": {},
   "outputs": [],
   "source": [
    "all_files_global = pd.read_csv(\"Classification/all_files_globalv1.csv\")"
   ]
  },
  {
   "cell_type": "code",
   "execution_count": 6,
   "id": "5b233580",
   "metadata": {},
   "outputs": [],
   "source": [
    "all_files_global[\"lower_main_artist\"] = all_files_global[\"main_artist\"].apply(lambda x : x.lower().rstrip().lstrip())"
   ]
  },
  {
   "cell_type": "code",
   "execution_count": 7,
   "id": "10b8dc04",
   "metadata": {},
   "outputs": [],
   "source": [
    "allfilesglobalbg = all_files_global.merge(boygroups, left_on=[\"lower_main_artist\"], right_on=[\"artist_lower\"], how=\"inner\")"
   ]
  },
  {
   "cell_type": "code",
   "execution_count": 8,
   "id": "be871627",
   "metadata": {},
   "outputs": [
    {
     "data": {
      "text/plain": [
       "((2179, 26), (76382, 24))"
      ]
     },
     "execution_count": 8,
     "metadata": {},
     "output_type": "execute_result"
    }
   ],
   "source": [
    "allfilesglobalbg.shape, all_files_global.shape"
   ]
  },
  {
   "cell_type": "code",
   "execution_count": 9,
   "id": "69de2059",
   "metadata": {},
   "outputs": [],
   "source": [
    "allfilesglobalbg.to_csv(\"Classification/global_boy_groups.csv\", index=False)"
   ]
  },
  {
   "cell_type": "code",
   "execution_count": 10,
   "id": "dfb24f2b",
   "metadata": {},
   "outputs": [
    {
     "data": {
      "text/plain": [
       "26"
      ]
     },
     "execution_count": 10,
     "metadata": {},
     "output_type": "execute_result"
    }
   ],
   "source": [
    "uniquegrps = allfilesglobalbg[\"main_artist\"].unique().tolist()\n",
    "len(uniquegrps)"
   ]
  },
  {
   "cell_type": "code",
   "execution_count": null,
   "id": "af2d5bca",
   "metadata": {},
   "outputs": [],
   "source": []
  }
 ],
 "metadata": {
  "kernelspec": {
   "display_name": "Python 3 (ipykernel)",
   "language": "python",
   "name": "python3"
  },
  "language_info": {
   "codemirror_mode": {
    "name": "ipython",
    "version": 3
   },
   "file_extension": ".py",
   "mimetype": "text/x-python",
   "name": "python",
   "nbconvert_exporter": "python",
   "pygments_lexer": "ipython3",
   "version": "3.9.13"
  }
 },
 "nbformat": 4,
 "nbformat_minor": 5
}
