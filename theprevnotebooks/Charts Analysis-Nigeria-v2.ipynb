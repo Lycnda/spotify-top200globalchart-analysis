{
 "cells": [
  {
   "cell_type": "code",
   "execution_count": 1,
   "metadata": {},
   "outputs": [],
   "source": [
    "import pandas as pd\n",
    "import glob2\n",
    "import matplotlib.pyplot as pltd\n",
    "import datetime\n",
    "import re\n",
    "from datetime import datetime, timedelta\n",
    "%matplotlib inline"
   ]
  },
  {
   "cell_type": "code",
   "execution_count": 2,
   "metadata": {},
   "outputs": [],
   "source": [
    "locale_name = \"ng\"\n",
    "read_enc_val =\"ISO-8859-1\"\n",
    "read_enc_val =\"cp1252\"\n",
    "read_enc_val =\"utf-8\""
   ]
  },
  {
   "cell_type": "code",
   "execution_count": 3,
   "metadata": {},
   "outputs": [],
   "source": [
    "global_music_file_paths = glob2.glob('spotify ' + locale_name + ' v2/*.csv')"
   ]
  },
  {
   "cell_type": "code",
   "execution_count": 4,
   "metadata": {
    "scrolled": true
   },
   "outputs": [
    {
     "name": "stdout",
     "output_type": "stream",
     "text": [
      "106\n"
     ]
    }
   ],
   "source": [
    "print(len(global_music_file_paths))"
   ]
  },
  {
   "cell_type": "code",
   "execution_count": 5,
   "metadata": {},
   "outputs": [
    {
     "name": "stdout",
     "output_type": "stream",
     "text": [
      "['spotify ng v2\\\\regional-ng-weekly-2022-02-17.csv', 'spotify ng v2\\\\regional-ng-weekly-2022-02-24.csv', 'spotify ng v2\\\\regional-ng-weekly-2022-03-03.csv', 'spotify ng v2\\\\regional-ng-weekly-2022-03-10.csv']\n"
     ]
    }
   ],
   "source": [
    "print(global_music_file_paths[:4])"
   ]
  },
  {
   "cell_type": "code",
   "execution_count": 6,
   "metadata": {},
   "outputs": [],
   "source": [
    "# global_music_file_paths"
   ]
  },
  {
   "cell_type": "markdown",
   "metadata": {},
   "source": [
    "#### Add Dates to the Files"
   ]
  },
  {
   "cell_type": "code",
   "execution_count": 8,
   "metadata": {},
   "outputs": [],
   "source": [
    "#Add the dates to the files - run once\n",
    "def addsDatesToData():\n",
    "    to_remove_front = \"spotify \" +locale_name+ \" v2\\\\regional-\" +locale_name+\"-weekly-\"\n",
    "    to_remove_back = \".csv\"\n",
    "\n",
    "    len_front_remove = len(to_remove_front)\n",
    "    len_back_remove = len(to_remove_back)\n",
    "\n",
    "    for file in global_music_file_paths: \n",
    "#         print(file)\n",
    "        the_data_in_file = pd.read_csv(file)\n",
    "#         the_data_in_file = the_data_in_file.iloc[1: , :]\n",
    "#         the_data_in_file.columns = [\"Position\", \"Track Name\", \"Artist\", \"Streams\", \"URL\"]\n",
    "        \n",
    "        \n",
    "        the_dates = file[len_front_remove:]\n",
    "        the_dates = the_dates[:-len_back_remove]\n",
    "\n",
    "        split_dates = the_dates.split(\"-\")\n",
    "\n",
    "        start_date = split_dates[0] + \"-\" + split_dates[1] + \"-\" + split_dates[2]\n",
    "        \n",
    "\n",
    "        len_dates = the_data_in_file.shape[0]\n",
    "        start_dates = len_dates * [start_date]\n",
    "\n",
    "        date_columns = {\"End Date\": start_dates}   \n",
    "\n",
    "        the_data_in_file[\"End Date\"] = start_dates\n",
    "\n",
    "        #write the data back to the File\n",
    "        the_data_in_file.to_csv(file, index=False)\n",
    "        \n",
    "#remove dates in existing files\n",
    "def removeExistingDates():\n",
    "    for file in global_music_file_paths:\n",
    "        \n",
    "        the_data_in_file = pd.read_csv(file)\n",
    "\n",
    "        the_data_in_file.drop([\"Start Date\", \"End Date\"], axis=1, inplace=True) \n",
    "\n",
    "        the_data_in_file.to_csv(file, index=False)\n",
    "    \n",
    "#check for dates ... opting for removal and putting them back on\n"
   ]
  },
  {
   "cell_type": "code",
   "execution_count": 9,
   "metadata": {
    "scrolled": true
   },
   "outputs": [],
   "source": [
    "# removeExistingDates()\n",
    "addsDatesToData()"
   ]
  },
  {
   "cell_type": "code",
   "execution_count": 10,
   "metadata": {},
   "outputs": [],
   "source": [
    "#Combine the files and sort by dates\n",
    "all_files = []\n",
    "trouble_files = []\n",
    "for file in global_music_file_paths:\n",
    "    the_data_in_file = pd.read_csv(file)\n",
    "    \n",
    "    if(\"URL\" in list(the_data_in_file.columns)):\n",
    "    \n",
    "        the_data_in_file = the_data_in_file.drop([\"URL\"], axis=1)\n",
    "    \n",
    "    list_vals = sum(list(the_data_in_file.isnull().sum()))\n",
    "    \n",
    "    if(list_vals > 0):\n",
    "        trouble_files.append(file)\n",
    "    all_files.append(the_data_in_file)\n",
    "    \n",
    "the_spotify_data = pd.concat(all_files) \n",
    "# trouble_files_df = pd.concat(trouble_files)"
   ]
  },
  {
   "cell_type": "code",
   "execution_count": 11,
   "metadata": {},
   "outputs": [],
   "source": [
    "all_cols = list(the_spotify_data.columns)\n",
    "drop_cols = []\n",
    "\n",
    "for col in all_cols:\n",
    "    if(\"Unnamed\" in col or \"artificial\" in col):\n",
    "        drop_cols.append(col)\n",
    "        \n",
    "the_spotify_data.drop(drop_cols, axis=1, inplace = True)"
   ]
  },
  {
   "cell_type": "code",
   "execution_count": 12,
   "metadata": {},
   "outputs": [
    {
     "data": {
      "text/plain": [
       "Index(['rank', 'uri', 'artist_names', 'track_name', 'source', 'peak_rank',\n",
       "       'previous_rank', 'weeks_on_chart', 'streams', 'End Date'],\n",
       "      dtype='object')"
      ]
     },
     "execution_count": 12,
     "metadata": {},
     "output_type": "execute_result"
    }
   ],
   "source": [
    "the_spotify_data.columns"
   ]
  },
  {
   "cell_type": "code",
   "execution_count": 13,
   "metadata": {},
   "outputs": [],
   "source": [
    "# the_spotify_data"
   ]
  },
  {
   "cell_type": "code",
   "execution_count": 14,
   "metadata": {},
   "outputs": [],
   "source": [
    "# the_spotify_data[\"End Date\"].unique().tolist()"
   ]
  },
  {
   "cell_type": "markdown",
   "metadata": {},
   "source": [
    "### Error checking that all the Thursday dates are present"
   ]
  },
  {
   "cell_type": "code",
   "execution_count": 16,
   "metadata": {},
   "outputs": [],
   "source": [
    "date_list = the_spotify_data[\"End Date\"].unique().tolist()\n",
    "start_date = date_list[0]\n",
    "end_date = date_list[len(date_list)-1]"
   ]
  },
  {
   "cell_type": "code",
   "execution_count": 17,
   "metadata": {},
   "outputs": [
    {
     "data": {
      "text/plain": [
       "106"
      ]
     },
     "execution_count": 17,
     "metadata": {},
     "output_type": "execute_result"
    }
   ],
   "source": [
    "len(date_list)"
   ]
  },
  {
   "cell_type": "code",
   "execution_count": 18,
   "metadata": {},
   "outputs": [
    {
     "data": {
      "text/plain": [
       "('2022-02-17', '2025-04-10')"
      ]
     },
     "execution_count": 18,
     "metadata": {},
     "output_type": "execute_result"
    }
   ],
   "source": [
    "start_date, end_date"
   ]
  },
  {
   "cell_type": "code",
   "execution_count": 19,
   "metadata": {},
   "outputs": [],
   "source": [
    "def check_thursdays_in_range(date_list, start_date, end_date):\n",
    "    # Convert start_date and end_date strings to datetime objects\n",
    "    start_date = datetime.strptime(start_date, \"%Y-%m-%d\")\n",
    "    end_date = datetime.strptime(end_date, \"%Y-%m-%d\")\n",
    "    \n",
    "    # Initialize a set to store Thursdays in the range\n",
    "    thursdays_in_range = set()\n",
    "    \n",
    "    # Iterate through the range of dates and add Thursdays to the set\n",
    "    current_date = start_date\n",
    "    while current_date <= end_date:\n",
    "        if current_date.weekday() == 3:  # Thursday\n",
    "            thursdays_in_range.add(current_date.strftime(\"%Y-%m-%d\"))\n",
    "        current_date += timedelta(days=1)\n",
    "    \n",
    "    # Convert date_list to a set for efficient membership checking\n",
    "    date_set = set(date_list)\n",
    "    \n",
    "    # Find missing Thursdays\n",
    "    missing_thursdays = sorted(thursdays_in_range - date_set)\n",
    "    print(\"thursdays_in_range: \", len(thursdays_in_range))\n",
    "    print(\"date_set: \", len(date_set))\n",
    "    \n",
    "    if missing_thursdays:\n",
    "        print(\"Missing Thursdays in the range:\")\n",
    "        for thursday in missing_thursdays:\n",
    "            print(thursday)\n",
    "        return False\n",
    "    else:\n",
    "        print(\"All Thursdays are present in the range.\")\n",
    "        return True"
   ]
  },
  {
   "cell_type": "code",
   "execution_count": 20,
   "metadata": {},
   "outputs": [
    {
     "name": "stdout",
     "output_type": "stream",
     "text": [
      "thursdays_in_range:  165\n",
      "date_set:  106\n",
      "Missing Thursdays in the range:\n",
      "2022-11-24\n",
      "2022-12-01\n",
      "2022-12-08\n",
      "2022-12-15\n",
      "2023-04-20\n",
      "2023-05-04\n",
      "2023-05-18\n",
      "2023-05-25\n",
      "2023-06-01\n",
      "2023-06-15\n",
      "2023-06-22\n",
      "2023-06-29\n",
      "2023-07-06\n",
      "2023-07-13\n",
      "2023-07-20\n",
      "2023-07-27\n",
      "2023-08-03\n",
      "2023-08-10\n",
      "2023-08-17\n",
      "2023-08-24\n",
      "2023-08-31\n",
      "2023-09-07\n",
      "2023-09-14\n",
      "2023-09-21\n",
      "2023-09-28\n",
      "2023-10-05\n",
      "2023-10-12\n",
      "2023-10-19\n",
      "2023-10-26\n",
      "2023-11-02\n",
      "2023-11-09\n",
      "2023-11-16\n",
      "2023-11-23\n",
      "2023-11-30\n",
      "2023-12-07\n",
      "2023-12-14\n",
      "2023-12-21\n",
      "2023-12-28\n",
      "2024-01-04\n",
      "2024-01-11\n",
      "2024-01-18\n",
      "2024-01-25\n",
      "2024-02-01\n",
      "2024-02-08\n",
      "2024-02-15\n",
      "2024-02-22\n",
      "2024-02-29\n",
      "2024-03-07\n",
      "2024-03-14\n",
      "2024-03-21\n",
      "2024-03-28\n",
      "2024-04-04\n",
      "2024-04-11\n",
      "2024-04-18\n",
      "2024-04-25\n",
      "2024-05-02\n",
      "2024-05-09\n",
      "2024-06-06\n",
      "2024-06-13\n",
      "All Thursdays present: False\n"
     ]
    }
   ],
   "source": [
    "result = check_thursdays_in_range(date_list, start_date, end_date)\n",
    "print(\"All Thursdays present:\", result)"
   ]
  },
  {
   "cell_type": "markdown",
   "metadata": {},
   "source": [
    "### Continue"
   ]
  },
  {
   "cell_type": "code",
   "execution_count": 22,
   "metadata": {},
   "outputs": [],
   "source": [
    "the_spotify_data[\"Week\"] = the_spotify_data[\"End Date\"].apply(lambda x : datetime.strptime(x, '%Y-%m-%d'))\n",
    "the_spotify_data[\"Year\"] = the_spotify_data[\"Week\"]\n",
    "\n",
    "the_spotify_data['Week'] = the_spotify_data['Week'].apply(lambda x : x.isocalendar()[1] )\n",
    "the_spotify_data['Year'] = the_spotify_data['Year'].apply(lambda x : x.isocalendar()[0] )\n",
    "\n",
    "# the_spotify_data[\"Start Date Dt\"] = the_spotify_data[\"Start Date\"].apply(lambda x : datetime.strptime(x, '%Y-%m-%d'))\n",
    "the_spotify_data[\"End Date Dt\"] = the_spotify_data[\"End Date\"].apply(lambda x : datetime.strptime(x, '%Y-%m-%d'))\n",
    "the_spotify_data['Seconds since Epoch'] = the_spotify_data['End Date Dt'].apply(lambda x : round(x.timestamp(), 0))"
   ]
  },
  {
   "cell_type": "code",
   "execution_count": 23,
   "metadata": {},
   "outputs": [],
   "source": [
    "#get the month when this happened\n",
    "def changedaytotheFirst(x):\n",
    "    x = x[:-2] + \"01\"\n",
    "    \n",
    "    return x"
   ]
  },
  {
   "cell_type": "code",
   "execution_count": 24,
   "metadata": {},
   "outputs": [],
   "source": [
    "the_spotify_data[\"End Date Aggregated\"] = the_spotify_data[\"End Date\"].apply(lambda x : changedaytotheFirst(x) )"
   ]
  },
  {
   "cell_type": "code",
   "execution_count": 25,
   "metadata": {},
   "outputs": [],
   "source": [
    "#find the number of artists on the track\n",
    "the_spotify_data.dropna(inplace=True)\n",
    "\n",
    "the_spotify_data[\"artist_names\"] = the_spotify_data[\"artist_names\"].apply(lambda x : x.encode(\"utf-8\").decode(\"latin-1\"))\n",
    "the_spotify_data[\"artist_names\"] = the_spotify_data[\"artist_names\"].apply(lambda x : re.sub(r'[^\\x00-\\x7F]+','', x))\n",
    "the_spotify_data[\"artist_names\"] = the_spotify_data.apply(lambda x : x[\"artist_names\"] + \"Artist_NA\" if(x[\"artist_names\"] == \"\") else x[\"artist_names\"], axis=1)\n",
    "\n",
    "the_spotify_data[\"track_name\"] = the_spotify_data[\"track_name\"].apply(lambda x : x.encode(\"utf-8\").decode(\"latin-1\"))\n",
    "the_spotify_data[\"track_name\"] = the_spotify_data[\"track_name\"].apply(lambda x : re.sub(r'[^\\x00-\\x7F]+','', x))\n",
    "the_spotify_data[\"track_name\"] = the_spotify_data.apply(lambda x : x[\"artist_names\"] + \"_NA\" if(x[\"track_name\"] == \"\") else x[\"track_name\"], axis=1)\n",
    "\n",
    "def countNumberArtists(x):\n",
    "    len_all_featured_artists = 0\n",
    "    num_artists = 0\n",
    "    xvals = x.split(\"feat\")\n",
    "    len_xvals = len(xvals)\n",
    "    \n",
    "    if(len_xvals > 1):\n",
    "        featured_artists = xvals[1:]\n",
    "        featured_artists_str = ' '.join(featured_artists)\n",
    "        all_featured_artists = featured_artists_str.split(\"& \")\n",
    "        len_all_featured_artists = len(all_featured_artists)\n",
    "        \n",
    "    num_artists = 1 + len_all_featured_artists\n",
    "    \n",
    "    return num_artists\n",
    "        \n",
    "    \n",
    "the_spotify_data['ArtistCount'] = the_spotify_data['track_name'].apply(lambda x : countNumberArtists(x))"
   ]
  },
  {
   "cell_type": "code",
   "execution_count": 26,
   "metadata": {},
   "outputs": [
    {
     "data": {
      "text/plain": [
       "(21200, 16)"
      ]
     },
     "execution_count": 26,
     "metadata": {},
     "output_type": "execute_result"
    }
   ],
   "source": [
    "the_spotify_data.shape"
   ]
  },
  {
   "cell_type": "code",
   "execution_count": 27,
   "metadata": {},
   "outputs": [],
   "source": [
    "the_spotify_data[\"main_artist\"] = the_spotify_data.apply(lambda x : x[\"artist_names\"].split(\",\")[0], axis=1)"
   ]
  },
  {
   "cell_type": "code",
   "execution_count": 28,
   "metadata": {},
   "outputs": [],
   "source": [
    "the_spotify_data = the_spotify_data.reset_index()\n",
    "the_spotify_data.drop([\"index\"], axis=1, inplace=True)"
   ]
  },
  {
   "cell_type": "code",
   "execution_count": 29,
   "metadata": {},
   "outputs": [
    {
     "data": {
      "text/plain": [
       "(21200, 17)"
      ]
     },
     "execution_count": 29,
     "metadata": {},
     "output_type": "execute_result"
    }
   ],
   "source": [
    "the_spotify_data.shape"
   ]
  },
  {
   "cell_type": "markdown",
   "metadata": {},
   "source": [
    "### Is Top Ten Status"
   ]
  },
  {
   "cell_type": "code",
   "execution_count": 31,
   "metadata": {},
   "outputs": [
    {
     "name": "stderr",
     "output_type": "stream",
     "text": [
      "C:\\Users\\lkhum\\AppData\\Local\\Temp\\ipykernel_24728\\3443158733.py:18: DeprecationWarning: DataFrameGroupBy.apply operated on the grouping columns. This behavior is deprecated, and in a future version of pandas the grouping columns will be excluded from the operation. Either pass `include_groups=False` to exclude the groupings or explicitly select the grouping columns after groupby to silence this warning.\n",
      "  the_spotify_data = the_spotify_data.groupby([\"artist_names\", \"track_name\"]).apply(lambda x : everInTopTen(x))\n"
     ]
    }
   ],
   "source": [
    "def everInTopTen(x):\n",
    "    position_vals = list(x[\"rank\"])\n",
    "    position_vals = list(set(position_vals))\n",
    "    \n",
    "#     print(position_vals)\n",
    "    \n",
    "    min_pos = min(position_vals)\n",
    "    existence_val = 0\n",
    "    \n",
    "    if(min_pos <= 10):\n",
    "        existence_val = 1\n",
    "    \n",
    "    x[\"isTopTen\"] = [existence_val] * len(x)\n",
    "    \n",
    "    return x\n",
    "    \n",
    "the_spotify_data = the_spotify_data[~the_spotify_data.index.duplicated()]\n",
    "the_spotify_data = the_spotify_data.groupby([\"artist_names\", \"track_name\"]).apply(lambda x : everInTopTen(x))"
   ]
  },
  {
   "cell_type": "code",
   "execution_count": 32,
   "metadata": {},
   "outputs": [
    {
     "data": {
      "text/html": [
       "<div>\n",
       "<style scoped>\n",
       "    .dataframe tbody tr th:only-of-type {\n",
       "        vertical-align: middle;\n",
       "    }\n",
       "\n",
       "    .dataframe tbody tr th {\n",
       "        vertical-align: top;\n",
       "    }\n",
       "\n",
       "    .dataframe thead th {\n",
       "        text-align: right;\n",
       "    }\n",
       "</style>\n",
       "<table border=\"1\" class=\"dataframe\">\n",
       "  <thead>\n",
       "    <tr style=\"text-align: right;\">\n",
       "      <th></th>\n",
       "      <th></th>\n",
       "      <th></th>\n",
       "      <th>rank</th>\n",
       "      <th>uri</th>\n",
       "      <th>artist_names</th>\n",
       "      <th>track_name</th>\n",
       "      <th>source</th>\n",
       "      <th>peak_rank</th>\n",
       "      <th>previous_rank</th>\n",
       "      <th>weeks_on_chart</th>\n",
       "      <th>streams</th>\n",
       "      <th>End Date</th>\n",
       "      <th>Week</th>\n",
       "      <th>Year</th>\n",
       "      <th>End Date Dt</th>\n",
       "      <th>Seconds since Epoch</th>\n",
       "      <th>End Date Aggregated</th>\n",
       "      <th>ArtistCount</th>\n",
       "      <th>main_artist</th>\n",
       "      <th>isTopTen</th>\n",
       "    </tr>\n",
       "    <tr>\n",
       "      <th>artist_names</th>\n",
       "      <th>track_name</th>\n",
       "      <th></th>\n",
       "      <th></th>\n",
       "      <th></th>\n",
       "      <th></th>\n",
       "      <th></th>\n",
       "      <th></th>\n",
       "      <th></th>\n",
       "      <th></th>\n",
       "      <th></th>\n",
       "      <th></th>\n",
       "      <th></th>\n",
       "      <th></th>\n",
       "      <th></th>\n",
       "      <th></th>\n",
       "      <th></th>\n",
       "      <th></th>\n",
       "      <th></th>\n",
       "      <th></th>\n",
       "      <th></th>\n",
       "    </tr>\n",
       "  </thead>\n",
       "  <tbody>\n",
       "    <tr>\n",
       "      <th rowspan=\"5\" valign=\"top\">1da Banton</th>\n",
       "      <th rowspan=\"5\" valign=\"top\">Ego</th>\n",
       "      <th>7043</th>\n",
       "      <td>44</td>\n",
       "      <td>spotify:track:6XdAvTC80727JAI9HBAVLc</td>\n",
       "      <td>1da Banton</td>\n",
       "      <td>Ego</td>\n",
       "      <td>Squareball Ent. Limited</td>\n",
       "      <td>44</td>\n",
       "      <td>-1</td>\n",
       "      <td>1</td>\n",
       "      <td>57614</td>\n",
       "      <td>2022-10-20</td>\n",
       "      <td>42</td>\n",
       "      <td>2022</td>\n",
       "      <td>2022-10-20</td>\n",
       "      <td>1.666224e+09</td>\n",
       "      <td>2022-10-01</td>\n",
       "      <td>1</td>\n",
       "      <td>1da Banton</td>\n",
       "      <td>0</td>\n",
       "    </tr>\n",
       "    <tr>\n",
       "      <th>7259</th>\n",
       "      <td>60</td>\n",
       "      <td>spotify:track:6XdAvTC80727JAI9HBAVLc</td>\n",
       "      <td>1da Banton</td>\n",
       "      <td>Ego</td>\n",
       "      <td>Squareball Ent. Limited</td>\n",
       "      <td>44</td>\n",
       "      <td>44</td>\n",
       "      <td>2</td>\n",
       "      <td>44738</td>\n",
       "      <td>2022-10-27</td>\n",
       "      <td>43</td>\n",
       "      <td>2022</td>\n",
       "      <td>2022-10-27</td>\n",
       "      <td>1.666829e+09</td>\n",
       "      <td>2022-10-01</td>\n",
       "      <td>1</td>\n",
       "      <td>1da Banton</td>\n",
       "      <td>0</td>\n",
       "    </tr>\n",
       "    <tr>\n",
       "      <th>7511</th>\n",
       "      <td>112</td>\n",
       "      <td>spotify:track:6XdAvTC80727JAI9HBAVLc</td>\n",
       "      <td>1da Banton</td>\n",
       "      <td>Ego</td>\n",
       "      <td>Squareball Ent. Limited</td>\n",
       "      <td>44</td>\n",
       "      <td>60</td>\n",
       "      <td>3</td>\n",
       "      <td>30477</td>\n",
       "      <td>2022-11-03</td>\n",
       "      <td>44</td>\n",
       "      <td>2022</td>\n",
       "      <td>2022-11-03</td>\n",
       "      <td>1.667434e+09</td>\n",
       "      <td>2022-11-01</td>\n",
       "      <td>1</td>\n",
       "      <td>1da Banton</td>\n",
       "      <td>0</td>\n",
       "    </tr>\n",
       "    <tr>\n",
       "      <th>7751</th>\n",
       "      <td>152</td>\n",
       "      <td>spotify:track:6XdAvTC80727JAI9HBAVLc</td>\n",
       "      <td>1da Banton</td>\n",
       "      <td>Ego</td>\n",
       "      <td>Squareball Ent. Limited</td>\n",
       "      <td>44</td>\n",
       "      <td>112</td>\n",
       "      <td>4</td>\n",
       "      <td>26225</td>\n",
       "      <td>2022-11-10</td>\n",
       "      <td>45</td>\n",
       "      <td>2022</td>\n",
       "      <td>2022-11-10</td>\n",
       "      <td>1.668038e+09</td>\n",
       "      <td>2022-11-01</td>\n",
       "      <td>1</td>\n",
       "      <td>1da Banton</td>\n",
       "      <td>0</td>\n",
       "    </tr>\n",
       "    <tr>\n",
       "      <th>7981</th>\n",
       "      <td>182</td>\n",
       "      <td>spotify:track:6XdAvTC80727JAI9HBAVLc</td>\n",
       "      <td>1da Banton</td>\n",
       "      <td>Ego</td>\n",
       "      <td>Squareball Ent. Limited</td>\n",
       "      <td>44</td>\n",
       "      <td>152</td>\n",
       "      <td>5</td>\n",
       "      <td>21051</td>\n",
       "      <td>2022-11-17</td>\n",
       "      <td>46</td>\n",
       "      <td>2022</td>\n",
       "      <td>2022-11-17</td>\n",
       "      <td>1.668643e+09</td>\n",
       "      <td>2022-11-01</td>\n",
       "      <td>1</td>\n",
       "      <td>1da Banton</td>\n",
       "      <td>0</td>\n",
       "    </tr>\n",
       "  </tbody>\n",
       "</table>\n",
       "</div>"
      ],
      "text/plain": [
       "                              rank                                   uri  \\\n",
       "artist_names track_name                                                    \n",
       "1da Banton   Ego        7043    44  spotify:track:6XdAvTC80727JAI9HBAVLc   \n",
       "                        7259    60  spotify:track:6XdAvTC80727JAI9HBAVLc   \n",
       "                        7511   112  spotify:track:6XdAvTC80727JAI9HBAVLc   \n",
       "                        7751   152  spotify:track:6XdAvTC80727JAI9HBAVLc   \n",
       "                        7981   182  spotify:track:6XdAvTC80727JAI9HBAVLc   \n",
       "\n",
       "                             artist_names track_name                   source  \\\n",
       "artist_names track_name                                                         \n",
       "1da Banton   Ego        7043   1da Banton        Ego  Squareball Ent. Limited   \n",
       "                        7259   1da Banton        Ego  Squareball Ent. Limited   \n",
       "                        7511   1da Banton        Ego  Squareball Ent. Limited   \n",
       "                        7751   1da Banton        Ego  Squareball Ent. Limited   \n",
       "                        7981   1da Banton        Ego  Squareball Ent. Limited   \n",
       "\n",
       "                              peak_rank  previous_rank  weeks_on_chart  \\\n",
       "artist_names track_name                                                  \n",
       "1da Banton   Ego        7043         44             -1               1   \n",
       "                        7259         44             44               2   \n",
       "                        7511         44             60               3   \n",
       "                        7751         44            112               4   \n",
       "                        7981         44            152               5   \n",
       "\n",
       "                              streams    End Date  Week  Year End Date Dt  \\\n",
       "artist_names track_name                                                     \n",
       "1da Banton   Ego        7043    57614  2022-10-20    42  2022  2022-10-20   \n",
       "                        7259    44738  2022-10-27    43  2022  2022-10-27   \n",
       "                        7511    30477  2022-11-03    44  2022  2022-11-03   \n",
       "                        7751    26225  2022-11-10    45  2022  2022-11-10   \n",
       "                        7981    21051  2022-11-17    46  2022  2022-11-17   \n",
       "\n",
       "                              Seconds since Epoch End Date Aggregated  \\\n",
       "artist_names track_name                                                 \n",
       "1da Banton   Ego        7043         1.666224e+09          2022-10-01   \n",
       "                        7259         1.666829e+09          2022-10-01   \n",
       "                        7511         1.667434e+09          2022-11-01   \n",
       "                        7751         1.668038e+09          2022-11-01   \n",
       "                        7981         1.668643e+09          2022-11-01   \n",
       "\n",
       "                              ArtistCount main_artist  isTopTen  \n",
       "artist_names track_name                                          \n",
       "1da Banton   Ego        7043            1  1da Banton         0  \n",
       "                        7259            1  1da Banton         0  \n",
       "                        7511            1  1da Banton         0  \n",
       "                        7751            1  1da Banton         0  \n",
       "                        7981            1  1da Banton         0  "
      ]
     },
     "execution_count": 32,
     "metadata": {},
     "output_type": "execute_result"
    }
   ],
   "source": [
    "the_spotify_data.head()"
   ]
  },
  {
   "cell_type": "markdown",
   "metadata": {},
   "source": [
    "### When did the track reach the Top 10 "
   ]
  },
  {
   "cell_type": "markdown",
   "metadata": {},
   "source": [
    "### how long does a song last on the charts?"
   ]
  },
  {
   "cell_type": "code",
   "execution_count": 35,
   "metadata": {},
   "outputs": [
    {
     "data": {
      "text/plain": [
       "isTopTen\n",
       "0    15180\n",
       "1     6020\n",
       "Name: count, dtype: int64"
      ]
     },
     "execution_count": 35,
     "metadata": {},
     "output_type": "execute_result"
    }
   ],
   "source": [
    "the_spotify_data[\"isTopTen\"].value_counts()"
   ]
  },
  {
   "cell_type": "code",
   "execution_count": 36,
   "metadata": {},
   "outputs": [
    {
     "data": {
      "text/plain": [
       "rank                   0\n",
       "uri                    0\n",
       "artist_names           0\n",
       "track_name             0\n",
       "source                 0\n",
       "peak_rank              0\n",
       "previous_rank          0\n",
       "weeks_on_chart         0\n",
       "streams                0\n",
       "End Date               0\n",
       "Week                   0\n",
       "Year                   0\n",
       "End Date Dt            0\n",
       "Seconds since Epoch    0\n",
       "End Date Aggregated    0\n",
       "ArtistCount            0\n",
       "main_artist            0\n",
       "isTopTen               0\n",
       "dtype: int64"
      ]
     },
     "execution_count": 36,
     "metadata": {},
     "output_type": "execute_result"
    }
   ],
   "source": [
    "the_spotify_data.isnull().sum()"
   ]
  },
  {
   "cell_type": "code",
   "execution_count": 37,
   "metadata": {},
   "outputs": [
    {
     "name": "stdout",
     "output_type": "stream",
     "text": [
      "493\n"
     ]
    }
   ],
   "source": [
    "unique_artists = the_spotify_data[\"main_artist\"].unique().tolist()\n",
    "num_artists = len(unique_artists)\n",
    "print(num_artists)"
   ]
  },
  {
   "cell_type": "markdown",
   "metadata": {},
   "source": [
    "### find new artists in that week"
   ]
  },
  {
   "cell_type": "code",
   "execution_count": 39,
   "metadata": {},
   "outputs": [
    {
     "name": "stderr",
     "output_type": "stream",
     "text": [
      "C:\\Users\\lkhum\\AppData\\Local\\Temp\\ipykernel_24728\\3015101900.py:16: DeprecationWarning: DataFrameGroupBy.apply operated on the grouping columns. This behavior is deprecated, and in a future version of pandas the grouping columns will be excluded from the operation. Either pass `include_groups=False` to exclude the groupings or explicitly select the grouping columns after groupby to silence this warning.\n",
      "  the_spotify_data =the_spotify_data.groupby([\"main_artist\"], as_index=False).apply(lambda x : getArtistAppearanceCount(x))\n"
     ]
    }
   ],
   "source": [
    "# the_spotify_data.head(12)\n",
    "def getArtistAppearanceCount(x):\n",
    "\n",
    "    x = x.sort_values(by='End Date', ascending=True)\n",
    "    x = x.reset_index()\n",
    "    # x.drop([\"index\"],axis=1,inplace=True)\n",
    "    x = x.reset_index()\n",
    "    \n",
    "    x_cols = [w.replace('index', 'artistAppearanceCount') for w in x.columns]\n",
    "    \n",
    "    x.columns = x_cols\n",
    "    \n",
    "    return x        \n",
    "\n",
    "the_spotify_data = the_spotify_data.drop(['artist_names', 'track_name'], axis=1)\n",
    "the_spotify_data =the_spotify_data.groupby([\"main_artist\"], as_index=False).apply(lambda x : getArtistAppearanceCount(x))\n",
    "the_spotify_data.drop([\"level_2\"], inplace=True, axis=1)"
   ]
  },
  {
   "cell_type": "code",
   "execution_count": 40,
   "metadata": {
    "scrolled": true
   },
   "outputs": [
    {
     "data": {
      "text/html": [
       "<div>\n",
       "<style scoped>\n",
       "    .dataframe tbody tr th:only-of-type {\n",
       "        vertical-align: middle;\n",
       "    }\n",
       "\n",
       "    .dataframe tbody tr th {\n",
       "        vertical-align: top;\n",
       "    }\n",
       "\n",
       "    .dataframe thead th {\n",
       "        text-align: right;\n",
       "    }\n",
       "</style>\n",
       "<table border=\"1\" class=\"dataframe\">\n",
       "  <thead>\n",
       "    <tr style=\"text-align: right;\">\n",
       "      <th></th>\n",
       "      <th></th>\n",
       "      <th>artistAppearanceCount</th>\n",
       "      <th>artist_names</th>\n",
       "      <th>track_name</th>\n",
       "      <th>rank</th>\n",
       "      <th>uri</th>\n",
       "      <th>source</th>\n",
       "      <th>peak_rank</th>\n",
       "      <th>previous_rank</th>\n",
       "      <th>weeks_on_chart</th>\n",
       "      <th>streams</th>\n",
       "      <th>End Date</th>\n",
       "      <th>Week</th>\n",
       "      <th>Year</th>\n",
       "      <th>End Date Dt</th>\n",
       "      <th>Seconds since Epoch</th>\n",
       "      <th>End Date Aggregated</th>\n",
       "      <th>ArtistCount</th>\n",
       "      <th>main_artist</th>\n",
       "      <th>isTopTen</th>\n",
       "    </tr>\n",
       "  </thead>\n",
       "  <tbody>\n",
       "    <tr>\n",
       "      <th rowspan=\"5\" valign=\"top\">0</th>\n",
       "      <th>0</th>\n",
       "      <td>0</td>\n",
       "      <td>1da Banton</td>\n",
       "      <td>No Wahala</td>\n",
       "      <td>36</td>\n",
       "      <td>spotify:track:4vHy2IHzf3EabEa7oMpUZB</td>\n",
       "      <td>Squareball Ent. Limited</td>\n",
       "      <td>36</td>\n",
       "      <td>-1</td>\n",
       "      <td>1</td>\n",
       "      <td>41233</td>\n",
       "      <td>2022-02-17</td>\n",
       "      <td>7</td>\n",
       "      <td>2022</td>\n",
       "      <td>2022-02-17</td>\n",
       "      <td>1.645056e+09</td>\n",
       "      <td>2022-02-01</td>\n",
       "      <td>1</td>\n",
       "      <td>1da Banton</td>\n",
       "      <td>0</td>\n",
       "    </tr>\n",
       "    <tr>\n",
       "      <th>1</th>\n",
       "      <td>1</td>\n",
       "      <td>1da Banton</td>\n",
       "      <td>No Wahala</td>\n",
       "      <td>33</td>\n",
       "      <td>spotify:track:4vHy2IHzf3EabEa7oMpUZB</td>\n",
       "      <td>Squareball Ent. Limited</td>\n",
       "      <td>33</td>\n",
       "      <td>36</td>\n",
       "      <td>2</td>\n",
       "      <td>41956</td>\n",
       "      <td>2022-02-24</td>\n",
       "      <td>8</td>\n",
       "      <td>2022</td>\n",
       "      <td>2022-02-24</td>\n",
       "      <td>1.645661e+09</td>\n",
       "      <td>2022-02-01</td>\n",
       "      <td>1</td>\n",
       "      <td>1da Banton</td>\n",
       "      <td>0</td>\n",
       "    </tr>\n",
       "    <tr>\n",
       "      <th>2</th>\n",
       "      <td>2</td>\n",
       "      <td>1da Banton</td>\n",
       "      <td>No Wahala</td>\n",
       "      <td>46</td>\n",
       "      <td>spotify:track:4vHy2IHzf3EabEa7oMpUZB</td>\n",
       "      <td>Squareball Ent. Limited</td>\n",
       "      <td>33</td>\n",
       "      <td>33</td>\n",
       "      <td>3</td>\n",
       "      <td>39122</td>\n",
       "      <td>2022-03-03</td>\n",
       "      <td>9</td>\n",
       "      <td>2022</td>\n",
       "      <td>2022-03-03</td>\n",
       "      <td>1.646266e+09</td>\n",
       "      <td>2022-03-01</td>\n",
       "      <td>1</td>\n",
       "      <td>1da Banton</td>\n",
       "      <td>0</td>\n",
       "    </tr>\n",
       "    <tr>\n",
       "      <th>3</th>\n",
       "      <td>3</td>\n",
       "      <td>1da Banton, Kizz Daniel, Tiwa Savage</td>\n",
       "      <td>No Wahala - Remix</td>\n",
       "      <td>56</td>\n",
       "      <td>spotify:track:4yaPPFIafaVaMRHZ5IHkbA</td>\n",
       "      <td>Squareball Ent. Limited</td>\n",
       "      <td>56</td>\n",
       "      <td>-1</td>\n",
       "      <td>1</td>\n",
       "      <td>30777</td>\n",
       "      <td>2022-03-10</td>\n",
       "      <td>10</td>\n",
       "      <td>2022</td>\n",
       "      <td>2022-03-10</td>\n",
       "      <td>1.646870e+09</td>\n",
       "      <td>2022-03-01</td>\n",
       "      <td>1</td>\n",
       "      <td>1da Banton</td>\n",
       "      <td>0</td>\n",
       "    </tr>\n",
       "    <tr>\n",
       "      <th>4</th>\n",
       "      <td>4</td>\n",
       "      <td>1da Banton</td>\n",
       "      <td>No Wahala</td>\n",
       "      <td>49</td>\n",
       "      <td>spotify:track:4vHy2IHzf3EabEa7oMpUZB</td>\n",
       "      <td>Squareball Ent. Limited</td>\n",
       "      <td>33</td>\n",
       "      <td>46</td>\n",
       "      <td>4</td>\n",
       "      <td>36285</td>\n",
       "      <td>2022-03-10</td>\n",
       "      <td>10</td>\n",
       "      <td>2022</td>\n",
       "      <td>2022-03-10</td>\n",
       "      <td>1.646870e+09</td>\n",
       "      <td>2022-03-01</td>\n",
       "      <td>1</td>\n",
       "      <td>1da Banton</td>\n",
       "      <td>0</td>\n",
       "    </tr>\n",
       "  </tbody>\n",
       "</table>\n",
       "</div>"
      ],
      "text/plain": [
       "     artistAppearanceCount                          artist_names  \\\n",
       "0 0                      0                            1da Banton   \n",
       "  1                      1                            1da Banton   \n",
       "  2                      2                            1da Banton   \n",
       "  3                      3  1da Banton, Kizz Daniel, Tiwa Savage   \n",
       "  4                      4                            1da Banton   \n",
       "\n",
       "            track_name  rank                                   uri  \\\n",
       "0 0          No Wahala    36  spotify:track:4vHy2IHzf3EabEa7oMpUZB   \n",
       "  1          No Wahala    33  spotify:track:4vHy2IHzf3EabEa7oMpUZB   \n",
       "  2          No Wahala    46  spotify:track:4vHy2IHzf3EabEa7oMpUZB   \n",
       "  3  No Wahala - Remix    56  spotify:track:4yaPPFIafaVaMRHZ5IHkbA   \n",
       "  4          No Wahala    49  spotify:track:4vHy2IHzf3EabEa7oMpUZB   \n",
       "\n",
       "                      source  peak_rank  previous_rank  weeks_on_chart  \\\n",
       "0 0  Squareball Ent. Limited         36             -1               1   \n",
       "  1  Squareball Ent. Limited         33             36               2   \n",
       "  2  Squareball Ent. Limited         33             33               3   \n",
       "  3  Squareball Ent. Limited         56             -1               1   \n",
       "  4  Squareball Ent. Limited         33             46               4   \n",
       "\n",
       "     streams    End Date  Week  Year End Date Dt  Seconds since Epoch  \\\n",
       "0 0    41233  2022-02-17     7  2022  2022-02-17         1.645056e+09   \n",
       "  1    41956  2022-02-24     8  2022  2022-02-24         1.645661e+09   \n",
       "  2    39122  2022-03-03     9  2022  2022-03-03         1.646266e+09   \n",
       "  3    30777  2022-03-10    10  2022  2022-03-10         1.646870e+09   \n",
       "  4    36285  2022-03-10    10  2022  2022-03-10         1.646870e+09   \n",
       "\n",
       "    End Date Aggregated  ArtistCount main_artist  isTopTen  \n",
       "0 0          2022-02-01            1  1da Banton         0  \n",
       "  1          2022-02-01            1  1da Banton         0  \n",
       "  2          2022-03-01            1  1da Banton         0  \n",
       "  3          2022-03-01            1  1da Banton         0  \n",
       "  4          2022-03-01            1  1da Banton         0  "
      ]
     },
     "execution_count": 40,
     "metadata": {},
     "output_type": "execute_result"
    }
   ],
   "source": [
    "the_spotify_data.head()"
   ]
  },
  {
   "cell_type": "markdown",
   "metadata": {},
   "source": [
    "#### Track Appearance Count"
   ]
  },
  {
   "cell_type": "code",
   "execution_count": 42,
   "metadata": {},
   "outputs": [
    {
     "name": "stderr",
     "output_type": "stream",
     "text": [
      "C:\\Users\\lkhum\\AppData\\Local\\Temp\\ipykernel_24728\\2047836851.py:17: DeprecationWarning: DataFrameGroupBy.apply operated on the grouping columns. This behavior is deprecated, and in a future version of pandas the grouping columns will be excluded from the operation. Either pass `include_groups=False` to exclude the groupings or explicitly select the grouping columns after groupby to silence this warning.\n",
      "  the_spotify_data =the_spotify_data.groupby([\"artist_names\", \"track_name\"], as_index=False).apply(lambda x : getTrackAppearanceCount(x))\n"
     ]
    }
   ],
   "source": [
    "def getTrackAppearanceCount(x):\n",
    "\n",
    "    x = x.sort_values(by=['End Date','track_name'], ascending=True)\n",
    "\n",
    "    x = x.reset_index()\n",
    "    # x.drop([\"index\"],axis=1,inplace=True)\n",
    "    x = x.reset_index()\n",
    "    \n",
    "    x_cols = x.columns\n",
    "    \n",
    "    x_cols = [w.replace('index', 'trackAppearanceCount') for w in x_cols]\n",
    "    \n",
    "    x.columns = x_cols\n",
    "    \n",
    "    return x         \n",
    "    \n",
    "the_spotify_data =the_spotify_data.groupby([\"artist_names\", \"track_name\"], as_index=False).apply(lambda x : getTrackAppearanceCount(x))\n",
    "# the_spotify_data = the_spotify_data.reset_index()\n",
    "the_spotify_data.drop([\"level_0\", \"level_1\"], inplace=True, axis=1)\n",
    "# print(the_spotify_data.columns)\n",
    "# stop"
   ]
  },
  {
   "cell_type": "code",
   "execution_count": 43,
   "metadata": {},
   "outputs": [
    {
     "data": {
      "text/html": [
       "<div>\n",
       "<style scoped>\n",
       "    .dataframe tbody tr th:only-of-type {\n",
       "        vertical-align: middle;\n",
       "    }\n",
       "\n",
       "    .dataframe tbody tr th {\n",
       "        vertical-align: top;\n",
       "    }\n",
       "\n",
       "    .dataframe thead th {\n",
       "        text-align: right;\n",
       "    }\n",
       "</style>\n",
       "<table border=\"1\" class=\"dataframe\">\n",
       "  <thead>\n",
       "    <tr style=\"text-align: right;\">\n",
       "      <th></th>\n",
       "      <th></th>\n",
       "      <th>trackAppearanceCount</th>\n",
       "      <th>artistAppearanceCount</th>\n",
       "      <th>artist_names</th>\n",
       "      <th>track_name</th>\n",
       "      <th>rank</th>\n",
       "      <th>uri</th>\n",
       "      <th>source</th>\n",
       "      <th>peak_rank</th>\n",
       "      <th>previous_rank</th>\n",
       "      <th>weeks_on_chart</th>\n",
       "      <th>streams</th>\n",
       "      <th>End Date</th>\n",
       "      <th>Week</th>\n",
       "      <th>Year</th>\n",
       "      <th>End Date Dt</th>\n",
       "      <th>Seconds since Epoch</th>\n",
       "      <th>End Date Aggregated</th>\n",
       "      <th>ArtistCount</th>\n",
       "      <th>main_artist</th>\n",
       "      <th>isTopTen</th>\n",
       "    </tr>\n",
       "  </thead>\n",
       "  <tbody>\n",
       "    <tr>\n",
       "      <th rowspan=\"5\" valign=\"top\">0</th>\n",
       "      <th>0</th>\n",
       "      <td>0</td>\n",
       "      <td>61</td>\n",
       "      <td>1da Banton</td>\n",
       "      <td>Ego</td>\n",
       "      <td>44</td>\n",
       "      <td>spotify:track:6XdAvTC80727JAI9HBAVLc</td>\n",
       "      <td>Squareball Ent. Limited</td>\n",
       "      <td>44</td>\n",
       "      <td>-1</td>\n",
       "      <td>1</td>\n",
       "      <td>57614</td>\n",
       "      <td>2022-10-20</td>\n",
       "      <td>42</td>\n",
       "      <td>2022</td>\n",
       "      <td>2022-10-20</td>\n",
       "      <td>1.666224e+09</td>\n",
       "      <td>2022-10-01</td>\n",
       "      <td>1</td>\n",
       "      <td>1da Banton</td>\n",
       "      <td>0</td>\n",
       "    </tr>\n",
       "    <tr>\n",
       "      <th>1</th>\n",
       "      <td>1</td>\n",
       "      <td>62</td>\n",
       "      <td>1da Banton</td>\n",
       "      <td>Ego</td>\n",
       "      <td>60</td>\n",
       "      <td>spotify:track:6XdAvTC80727JAI9HBAVLc</td>\n",
       "      <td>Squareball Ent. Limited</td>\n",
       "      <td>44</td>\n",
       "      <td>44</td>\n",
       "      <td>2</td>\n",
       "      <td>44738</td>\n",
       "      <td>2022-10-27</td>\n",
       "      <td>43</td>\n",
       "      <td>2022</td>\n",
       "      <td>2022-10-27</td>\n",
       "      <td>1.666829e+09</td>\n",
       "      <td>2022-10-01</td>\n",
       "      <td>1</td>\n",
       "      <td>1da Banton</td>\n",
       "      <td>0</td>\n",
       "    </tr>\n",
       "    <tr>\n",
       "      <th>2</th>\n",
       "      <td>2</td>\n",
       "      <td>64</td>\n",
       "      <td>1da Banton</td>\n",
       "      <td>Ego</td>\n",
       "      <td>112</td>\n",
       "      <td>spotify:track:6XdAvTC80727JAI9HBAVLc</td>\n",
       "      <td>Squareball Ent. Limited</td>\n",
       "      <td>44</td>\n",
       "      <td>60</td>\n",
       "      <td>3</td>\n",
       "      <td>30477</td>\n",
       "      <td>2022-11-03</td>\n",
       "      <td>44</td>\n",
       "      <td>2022</td>\n",
       "      <td>2022-11-03</td>\n",
       "      <td>1.667434e+09</td>\n",
       "      <td>2022-11-01</td>\n",
       "      <td>1</td>\n",
       "      <td>1da Banton</td>\n",
       "      <td>0</td>\n",
       "    </tr>\n",
       "    <tr>\n",
       "      <th>3</th>\n",
       "      <td>3</td>\n",
       "      <td>65</td>\n",
       "      <td>1da Banton</td>\n",
       "      <td>Ego</td>\n",
       "      <td>152</td>\n",
       "      <td>spotify:track:6XdAvTC80727JAI9HBAVLc</td>\n",
       "      <td>Squareball Ent. Limited</td>\n",
       "      <td>44</td>\n",
       "      <td>112</td>\n",
       "      <td>4</td>\n",
       "      <td>26225</td>\n",
       "      <td>2022-11-10</td>\n",
       "      <td>45</td>\n",
       "      <td>2022</td>\n",
       "      <td>2022-11-10</td>\n",
       "      <td>1.668038e+09</td>\n",
       "      <td>2022-11-01</td>\n",
       "      <td>1</td>\n",
       "      <td>1da Banton</td>\n",
       "      <td>0</td>\n",
       "    </tr>\n",
       "    <tr>\n",
       "      <th>4</th>\n",
       "      <td>4</td>\n",
       "      <td>66</td>\n",
       "      <td>1da Banton</td>\n",
       "      <td>Ego</td>\n",
       "      <td>182</td>\n",
       "      <td>spotify:track:6XdAvTC80727JAI9HBAVLc</td>\n",
       "      <td>Squareball Ent. Limited</td>\n",
       "      <td>44</td>\n",
       "      <td>152</td>\n",
       "      <td>5</td>\n",
       "      <td>21051</td>\n",
       "      <td>2022-11-17</td>\n",
       "      <td>46</td>\n",
       "      <td>2022</td>\n",
       "      <td>2022-11-17</td>\n",
       "      <td>1.668643e+09</td>\n",
       "      <td>2022-11-01</td>\n",
       "      <td>1</td>\n",
       "      <td>1da Banton</td>\n",
       "      <td>0</td>\n",
       "    </tr>\n",
       "  </tbody>\n",
       "</table>\n",
       "</div>"
      ],
      "text/plain": [
       "     trackAppearanceCount  artistAppearanceCount artist_names track_name  \\\n",
       "0 0                     0                     61   1da Banton        Ego   \n",
       "  1                     1                     62   1da Banton        Ego   \n",
       "  2                     2                     64   1da Banton        Ego   \n",
       "  3                     3                     65   1da Banton        Ego   \n",
       "  4                     4                     66   1da Banton        Ego   \n",
       "\n",
       "     rank                                   uri                   source  \\\n",
       "0 0    44  spotify:track:6XdAvTC80727JAI9HBAVLc  Squareball Ent. Limited   \n",
       "  1    60  spotify:track:6XdAvTC80727JAI9HBAVLc  Squareball Ent. Limited   \n",
       "  2   112  spotify:track:6XdAvTC80727JAI9HBAVLc  Squareball Ent. Limited   \n",
       "  3   152  spotify:track:6XdAvTC80727JAI9HBAVLc  Squareball Ent. Limited   \n",
       "  4   182  spotify:track:6XdAvTC80727JAI9HBAVLc  Squareball Ent. Limited   \n",
       "\n",
       "     peak_rank  previous_rank  weeks_on_chart  streams    End Date  Week  \\\n",
       "0 0         44             -1               1    57614  2022-10-20    42   \n",
       "  1         44             44               2    44738  2022-10-27    43   \n",
       "  2         44             60               3    30477  2022-11-03    44   \n",
       "  3         44            112               4    26225  2022-11-10    45   \n",
       "  4         44            152               5    21051  2022-11-17    46   \n",
       "\n",
       "     Year End Date Dt  Seconds since Epoch End Date Aggregated  ArtistCount  \\\n",
       "0 0  2022  2022-10-20         1.666224e+09          2022-10-01            1   \n",
       "  1  2022  2022-10-27         1.666829e+09          2022-10-01            1   \n",
       "  2  2022  2022-11-03         1.667434e+09          2022-11-01            1   \n",
       "  3  2022  2022-11-10         1.668038e+09          2022-11-01            1   \n",
       "  4  2022  2022-11-17         1.668643e+09          2022-11-01            1   \n",
       "\n",
       "    main_artist  isTopTen  \n",
       "0 0  1da Banton         0  \n",
       "  1  1da Banton         0  \n",
       "  2  1da Banton         0  \n",
       "  3  1da Banton         0  \n",
       "  4  1da Banton         0  "
      ]
     },
     "execution_count": 43,
     "metadata": {},
     "output_type": "execute_result"
    }
   ],
   "source": [
    "the_spotify_data.head()"
   ]
  },
  {
   "cell_type": "code",
   "execution_count": 44,
   "metadata": {},
   "outputs": [],
   "source": [
    "the_spotify_data.to_csv(\"the_spotify_data_\" + locale_name+ \".csv\")"
   ]
  },
  {
   "cell_type": "code",
   "execution_count": 45,
   "metadata": {},
   "outputs": [],
   "source": [
    "the_spotify_data[\"rank\"] = the_spotify_data[\"rank\"].astype(int)\n",
    "the_spotify_data[\"streams\"] = the_spotify_data[\"streams\"].astype(int)\n",
    "the_spotify_data[\"ArtistCount\"] = the_spotify_data[\"ArtistCount\"].astype(int)\n",
    "\n",
    "the_spotify_data[\"isTopTen\"] = the_spotify_data[\"isTopTen\"].astype(int)\n",
    "# the_spotify_data[\"lenOnCharts\"] = the_spotify_data[\"lenOnCharts\"].astype(int)\n",
    "the_spotify_data[\"Year\"] = the_spotify_data[\"Year\"].astype(int)\n",
    "the_spotify_data[\"Week\"] = the_spotify_data[\"Week\"].astype(int)"
   ]
  },
  {
   "cell_type": "code",
   "execution_count": 46,
   "metadata": {},
   "outputs": [],
   "source": [
    "all_cols = list(the_spotify_data.columns)\n",
    "drop_cols = []\n",
    "\n",
    "for col in all_cols:\n",
    "    if(\"Unnamed\" in col or \"artificial\" in col):\n",
    "        drop_cols.append(col)\n",
    "        \n",
    "the_spotify_data.drop(drop_cols, axis=1, inplace = True)"
   ]
  },
  {
   "cell_type": "code",
   "execution_count": 47,
   "metadata": {},
   "outputs": [],
   "source": [
    "the_spotify_data[\"Artist and Track\"] = the_spotify_data[\"artist_names\"] + \"; \" + the_spotify_data[\"track_name\"]"
   ]
  },
  {
   "cell_type": "markdown",
   "metadata": {},
   "source": [
    "### Getting the list of Artists and Tracks"
   ]
  },
  {
   "cell_type": "code",
   "execution_count": 49,
   "metadata": {},
   "outputs": [],
   "source": [
    "import pandas as pd\n",
    "# import pymongo\n",
    "# import getlyrics"
   ]
  },
  {
   "cell_type": "code",
   "execution_count": 50,
   "metadata": {},
   "outputs": [
    {
     "name": "stderr",
     "output_type": "stream",
     "text": [
      "C:\\Users\\lkhum\\AppData\\Local\\Temp\\ipykernel_24728\\2368203610.py:18: DeprecationWarning: DataFrameGroupBy.apply operated on the grouping columns. This behavior is deprecated, and in a future version of pandas the grouping columns will be excluded from the operation. Either pass `include_groups=False` to exclude the groupings or explicitly select the grouping columns after groupby to silence this warning.\n",
      "  all_files_grouped = the_spotify_data.groupby([\"main_artist\", \"track_name\"]).apply(lambda x: trackAppearance(x))\n"
     ]
    }
   ],
   "source": [
    "def trackAppearance(x):\n",
    "#     x = x.reset_index()\n",
    "\n",
    "    x = x.sort_values(by=[\"End Date\"])\n",
    "#     x.set_index([\"Position\"])\n",
    "\n",
    "    x[\"rank\"] = x[\"rank\"].astype(int)\n",
    "#     print(list(x[\"Position\"]))\n",
    "    \n",
    "    x[\"rank difference\"] = x[\"rank\"].diff().fillna(0)\n",
    "    x[\"rank difference\"] = x[\"rank difference\"].astype(int)\n",
    "    \n",
    "#     x[\"Position Difference\"] = x[\"Position\"].sub(x[\"Position\"].shift())\n",
    "#     x.drop([\"index\"], inplace=True)\n",
    "    \n",
    "    return x\n",
    "    \n",
    "all_files_grouped = the_spotify_data.groupby([\"main_artist\", \"track_name\"]).apply(lambda x: trackAppearance(x))"
   ]
  },
  {
   "cell_type": "code",
   "execution_count": 51,
   "metadata": {},
   "outputs": [
    {
     "data": {
      "text/plain": [
       "174"
      ]
     },
     "execution_count": 51,
     "metadata": {},
     "output_type": "execute_result"
    }
   ],
   "source": [
    "all_files_grouped[\"rank difference\"].max()"
   ]
  },
  {
   "cell_type": "markdown",
   "metadata": {},
   "source": [
    "### Position over time"
   ]
  },
  {
   "cell_type": "code",
   "execution_count": 53,
   "metadata": {},
   "outputs": [],
   "source": [
    "def positionvertime(x):\n",
    "    posovertime = 0\n",
    "    #new track\n",
    "    if(x[\"rank difference\"] == 0 and x[\"trackAppearanceCount\"]==0):\n",
    "        posovertime = 0\n",
    "    #track stayed in the same position\n",
    "    elif(x[\"rank difference\"] == 0 and x[\"trackAppearanceCount\"]!=0):\n",
    "        posovertime = 50\n",
    "    #track went up the chart\n",
    "    elif(x[\"rank difference\"] < 0):\n",
    "        posovertime = 75\n",
    "    #track fell down the chart\n",
    "    else:\n",
    "        posovertime = 100\n",
    "    return posovertime"
   ]
  },
  {
   "cell_type": "code",
   "execution_count": 54,
   "metadata": {},
   "outputs": [],
   "source": [
    "all_files_grouped[\"Position over Time\"] = all_files_grouped.apply(lambda x : positionvertime(x), axis=1)"
   ]
  },
  {
   "cell_type": "markdown",
   "metadata": {},
   "source": [
    "##### Add a Girl Group and Boy Group"
   ]
  },
  {
   "cell_type": "code",
   "execution_count": 56,
   "metadata": {},
   "outputs": [],
   "source": [
    "ggdf = pd.read_csv(\"Classification/ListofGirlGroups.csv\", encoding='ANSI')\n",
    "bgdf = pd.read_csv(\"Classification/ListofBoyGroups.csv\", on_bad_lines='skip', encoding='ANSI')"
   ]
  },
  {
   "cell_type": "code",
   "execution_count": 57,
   "metadata": {},
   "outputs": [],
   "source": [
    "def IsGG(ggdf, y):\n",
    "    ggs = [x.lower().strip() for x in ggdf[\"Artist\"]]\n",
    "    y = y.lower().strip()\n",
    "    \n",
    "    if y in ggs:\n",
    "        return True\n",
    "    else:\n",
    "        return False\n",
    "\n",
    "def IsBG(bgdf, y):\n",
    "    bgs = [x.lower().strip() for x in bgdf[\"Artist\"]]\n",
    "    y = y.lower().strip()\n",
    "    \n",
    "    if y in bgs:\n",
    "        return True\n",
    "    else:\n",
    "        return False"
   ]
  },
  {
   "cell_type": "code",
   "execution_count": 58,
   "metadata": {},
   "outputs": [],
   "source": [
    "all_files_grouped[\"IsGirlGroup\"] = all_files_grouped[\"main_artist\"].apply(lambda x : IsGG(ggdf, x))\n",
    "all_files_grouped[\"IsBoyGroup\"] = all_files_grouped[\"main_artist\"].apply(lambda x : IsGG(bgdf, x))"
   ]
  },
  {
   "cell_type": "code",
   "execution_count": 59,
   "metadata": {},
   "outputs": [],
   "source": [
    "ggs = all_files_grouped[all_files_grouped[\"IsGirlGroup\"]==True][\"main_artist\"].unique().tolist()\n",
    "bgs = all_files_grouped[all_files_grouped[\"IsBoyGroup\"]==True][\"main_artist\"].unique().tolist()"
   ]
  },
  {
   "cell_type": "code",
   "execution_count": 60,
   "metadata": {},
   "outputs": [],
   "source": [
    "# all_files_grouped"
   ]
  },
  {
   "cell_type": "code",
   "execution_count": 61,
   "metadata": {},
   "outputs": [],
   "source": [
    "all_files_grouped = all_files_grouped.droplevel(['main_artist', 'track_name'])"
   ]
  },
  {
   "cell_type": "code",
   "execution_count": 62,
   "metadata": {},
   "outputs": [],
   "source": [
    "# all_files_grouped.drop([\"level_2\"], inplace=True, axis=1)"
   ]
  },
  {
   "cell_type": "code",
   "execution_count": 63,
   "metadata": {},
   "outputs": [],
   "source": [
    "all_files_grouped.to_csv(\"Classification/all_files_\"+locale_name+\"v1.csv\", index=False)"
   ]
  },
  {
   "cell_type": "code",
   "execution_count": 64,
   "metadata": {},
   "outputs": [
    {
     "data": {
      "text/plain": [
       "Index(['trackAppearanceCount', 'artistAppearanceCount', 'artist_names',\n",
       "       'track_name', 'rank', 'uri', 'source', 'peak_rank', 'previous_rank',\n",
       "       'weeks_on_chart', 'streams', 'End Date', 'Week', 'Year', 'End Date Dt',\n",
       "       'Seconds since Epoch', 'End Date Aggregated', 'ArtistCount',\n",
       "       'main_artist', 'isTopTen', 'Artist and Track', 'rank difference',\n",
       "       'Position over Time', 'IsGirlGroup', 'IsBoyGroup'],\n",
       "      dtype='object')"
      ]
     },
     "execution_count": 64,
     "metadata": {},
     "output_type": "execute_result"
    }
   ],
   "source": [
    "all_files_grouped.columns"
   ]
  },
  {
   "cell_type": "code",
   "execution_count": 65,
   "metadata": {},
   "outputs": [],
   "source": [
    "# new_all_files_grouped = all_files_grouped.reset_index(drop=True)"
   ]
  },
  {
   "cell_type": "code",
   "execution_count": 66,
   "metadata": {},
   "outputs": [],
   "source": [
    "def newstuff(x):\n",
    "#     x = x.reset_index()\n",
    "\n",
    "    x = x.sort_values(by=['Seconds since Epoch'])\n",
    "#     x.set_index([\"Position\"])\n",
    "    print(x)\n",
    "    \n",
    "    return x\n",
    "    \n"
   ]
  },
  {
   "cell_type": "code",
   "execution_count": 67,
   "metadata": {},
   "outputs": [],
   "source": [
    "# all_files_grouped = new_all_files_grouped.groupby([\"Artist\", \"Track Name\"]).apply(lambda x: newstuff(x))"
   ]
  },
  {
   "cell_type": "code",
   "execution_count": 68,
   "metadata": {},
   "outputs": [],
   "source": [
    "# all_files_grouped.min()"
   ]
  },
  {
   "cell_type": "code",
   "execution_count": 69,
   "metadata": {},
   "outputs": [],
   "source": [
    "# df = pd.DataFrame({'A': 'a a b'.split(), 'B': [1,2,3], 'C': [4,6, 5]})"
   ]
  },
  {
   "cell_type": "code",
   "execution_count": 70,
   "metadata": {},
   "outputs": [],
   "source": [
    "# new_all_files_grouped.groupby([])"
   ]
  },
  {
   "cell_type": "code",
   "execution_count": 71,
   "metadata": {},
   "outputs": [],
   "source": [
    "# all_files_grouped.apply(lambda x : print(type(x)) )"
   ]
  },
  {
   "cell_type": "code",
   "execution_count": 72,
   "metadata": {},
   "outputs": [],
   "source": [
    "# # new_all_files_grouped.h'Track Name', 'Artist'ead(5)\n",
    "# cols_ = ['Start Date', 'Seconds since Epoch', 'Position']\n",
    "# new_test_df = pd.DataFrame()"
   ]
  },
  {
   "cell_type": "code",
   "execution_count": 73,
   "metadata": {},
   "outputs": [],
   "source": [
    "# 604800\n",
    "def weekonweekposition(x):\n",
    "    \n",
    "#     print(x.values)\n",
    "    \n",
    "    pd.DataFrame({'email':x.index, 'list':x.values})\n",
    "    \n",
    "    \n",
    "#     return x_\n",
    "    \n",
    "#     x_ = pd.DataFrame(x, columns=['Start Date'])\n",
    "    \n",
    "#     x_ = x.to_frame()\n",
    "    \n",
    "#     print(x_.columns)\n",
    "    \n",
    "#     for n in range(0, fin_len):\n",
    "#         for col in cols_:\n",
    "#             print(len(x[n]), x[n], col)\n",
    "        \n",
    "    \n",
    "#     x_ = pd.DataFrame(x, columns=cols_)\n",
    "#     print(x_.shape)\n",
    "#     print(x.columns)"
   ]
  },
  {
   "cell_type": "code",
   "execution_count": 74,
   "metadata": {},
   "outputs": [],
   "source": [
    "# all_files_gr = new_all_files_grouped[['Artist', 'Track Name', 'Seconds since Epoch', 'Position']]"
   ]
  },
  {
   "cell_type": "code",
   "execution_count": 75,
   "metadata": {
    "scrolled": true
   },
   "outputs": [],
   "source": [
    "# all_files_grouped[cols_].apply( lambda x : weekonweekposition(x) )"
   ]
  },
  {
   "cell_type": "code",
   "execution_count": 76,
   "metadata": {},
   "outputs": [],
   "source": [
    "# new_test_df"
   ]
  },
  {
   "cell_type": "markdown",
   "metadata": {},
   "source": [
    "### South African Artists"
   ]
  },
  {
   "cell_type": "code",
   "execution_count": 78,
   "metadata": {},
   "outputs": [
    {
     "data": {
      "text/plain": [
       "(21200, 25)"
      ]
     },
     "execution_count": 78,
     "metadata": {},
     "output_type": "execute_result"
    }
   ],
   "source": [
    "all_files_grouped.shape"
   ]
  },
  {
   "cell_type": "code",
   "execution_count": 79,
   "metadata": {},
   "outputs": [
    {
     "data": {
      "text/plain": [
       "Index(['trackAppearanceCount', 'artistAppearanceCount', 'artist_names',\n",
       "       'track_name', 'rank', 'uri', 'source', 'peak_rank', 'previous_rank',\n",
       "       'weeks_on_chart', 'streams', 'End Date', 'Week', 'Year', 'End Date Dt',\n",
       "       'Seconds since Epoch', 'End Date Aggregated', 'ArtistCount',\n",
       "       'main_artist', 'isTopTen', 'Artist and Track', 'rank difference',\n",
       "       'Position over Time', 'IsGirlGroup', 'IsBoyGroup'],\n",
       "      dtype='object')"
      ]
     },
     "execution_count": 79,
     "metadata": {},
     "output_type": "execute_result"
    }
   ],
   "source": [
    "all_files_grouped.columns"
   ]
  },
  {
   "cell_type": "code",
   "execution_count": 80,
   "metadata": {},
   "outputs": [],
   "source": [
    "narrowing_df = all_files_grouped[['End Date', \"rank difference\"]]"
   ]
  },
  {
   "cell_type": "code",
   "execution_count": 81,
   "metadata": {},
   "outputs": [],
   "source": [
    "narrowing_df.reset_index(inplace=True)"
   ]
  },
  {
   "cell_type": "code",
   "execution_count": 82,
   "metadata": {},
   "outputs": [],
   "source": [
    "# narrowing_df.drop([\"level_2\"], axis=1, inplace=True)"
   ]
  },
  {
   "cell_type": "code",
   "execution_count": 83,
   "metadata": {},
   "outputs": [],
   "source": [
    "narrowing_df = narrowing_df[narrowing_df[\"rank difference\"] == 0]"
   ]
  },
  {
   "cell_type": "code",
   "execution_count": 84,
   "metadata": {},
   "outputs": [
    {
     "name": "stdout",
     "output_type": "stream",
     "text": [
      "done.\n"
     ]
    }
   ],
   "source": [
    "print(\"done.\")"
   ]
  }
 ],
 "metadata": {
  "kernelspec": {
   "display_name": "Python 3 (ipykernel)",
   "language": "python",
   "name": "python3"
  },
  "language_info": {
   "codemirror_mode": {
    "name": "ipython",
    "version": 3
   },
   "file_extension": ".py",
   "mimetype": "text/x-python",
   "name": "python",
   "nbconvert_exporter": "python",
   "pygments_lexer": "ipython3",
   "version": "3.12.7"
  }
 },
 "nbformat": 4,
 "nbformat_minor": 4
}
