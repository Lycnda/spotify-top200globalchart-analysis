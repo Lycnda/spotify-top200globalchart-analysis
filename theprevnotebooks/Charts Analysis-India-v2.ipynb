{
 "cells": [
  {
   "cell_type": "code",
   "execution_count": 1,
   "metadata": {},
   "outputs": [],
   "source": [
    "import pandas as pd\n",
    "import glob2\n",
    "import matplotlib.pyplot as plt\n",
    "import datetime\n",
    "import re\n",
    "from datetime import datetime, timedelta\n",
    "%matplotlib inline"
   ]
  },
  {
   "cell_type": "code",
   "execution_count": 2,
   "metadata": {},
   "outputs": [],
   "source": [
    "locale_name = \"in\"\n",
    "read_enc_val =\"ISO-8859-1\"\n",
    "read_enc_val =\"cp1252\"\n",
    "read_enc_val =\"utf-8\""
   ]
  },
  {
   "cell_type": "code",
   "execution_count": 3,
   "metadata": {},
   "outputs": [],
   "source": [
    "global_music_file_paths = glob2.glob('spotify ' + locale_name + ' v2/*.csv')"
   ]
  },
  {
   "cell_type": "code",
   "execution_count": 4,
   "metadata": {
    "scrolled": true
   },
   "outputs": [
    {
     "name": "stdout",
     "output_type": "stream",
     "text": [
      "320\n"
     ]
    }
   ],
   "source": [
    "print(len(global_music_file_paths))"
   ]
  },
  {
   "cell_type": "code",
   "execution_count": 5,
   "metadata": {},
   "outputs": [
    {
     "name": "stdout",
     "output_type": "stream",
     "text": [
      "['spotify in v2\\\\regional-in-weekly-2019-02-28.csv', 'spotify in v2\\\\regional-in-weekly-2019-03-07.csv', 'spotify in v2\\\\regional-in-weekly-2019-03-14.csv', 'spotify in v2\\\\regional-in-weekly-2019-03-21.csv']\n"
     ]
    }
   ],
   "source": [
    "print(global_music_file_paths[:4])"
   ]
  },
  {
   "cell_type": "code",
   "execution_count": 6,
   "metadata": {},
   "outputs": [],
   "source": [
    "# global_music_file_paths"
   ]
  },
  {
   "cell_type": "markdown",
   "metadata": {},
   "source": [
    "#### Add Dates to the Files"
   ]
  },
  {
   "cell_type": "code",
   "execution_count": 8,
   "metadata": {},
   "outputs": [],
   "source": [
    "#Add the dates to the files - run once\n",
    "def addsDatesToData():\n",
    "    to_remove_front = \"spotify \" +locale_name+ \" v2\\\\regional-\" +locale_name+\"-weekly-\"\n",
    "    to_remove_back = \".csv\"\n",
    "\n",
    "    len_front_remove = len(to_remove_front)\n",
    "    len_back_remove = len(to_remove_back)\n",
    "\n",
    "    for file in global_music_file_paths: \n",
    "#         print(file)\n",
    "        the_data_in_file = pd.read_csv(file)\n",
    "#         the_data_in_file = the_data_in_file.iloc[1: , :]\n",
    "#         the_data_in_file.columns = [\"Position\", \"Track Name\", \"Artist\", \"Streams\", \"URL\"]\n",
    "        \n",
    "        \n",
    "        the_dates = file[len_front_remove:]\n",
    "        the_dates = the_dates[:-len_back_remove]\n",
    "\n",
    "        split_dates = the_dates.split(\"-\")\n",
    "\n",
    "        start_date = split_dates[0] + \"-\" + split_dates[1] + \"-\" + split_dates[2]\n",
    "        # print(start_date)\n",
    "        \n",
    "\n",
    "        len_dates = the_data_in_file.shape[0]\n",
    "        start_dates = len_dates * [start_date]\n",
    "\n",
    "        date_columns = {\"End Date\": start_dates}   \n",
    "\n",
    "        the_data_in_file[\"End Date\"] = start_dates\n",
    "\n",
    "        #write the data back to the File\n",
    "        the_data_in_file.to_csv(file, index=False)\n",
    "        \n",
    "#remove dates in existing files\n",
    "def removeExistingDates():\n",
    "    for file in global_music_file_paths:\n",
    "        \n",
    "        the_data_in_file = pd.read_csv(file)\n",
    "\n",
    "        the_data_in_file.drop([\"Start Date\", \"End Date\"], axis=1, inplace=True) \n",
    "\n",
    "        the_data_in_file.to_csv(file, index=False)\n",
    "    \n",
    "#check for dates ... opting for removal and putting them back on\n"
   ]
  },
  {
   "cell_type": "code",
   "execution_count": 9,
   "metadata": {
    "scrolled": true
   },
   "outputs": [],
   "source": [
    "# removeExistingDates()\n",
    "addsDatesToData()"
   ]
  },
  {
   "cell_type": "code",
   "execution_count": 10,
   "metadata": {},
   "outputs": [],
   "source": [
    "#Combine the files and sort by dates\n",
    "all_files = []\n",
    "trouble_files = []\n",
    "for file in global_music_file_paths:\n",
    "    the_data_in_file = pd.read_csv(file)\n",
    "    \n",
    "    if(\"URL\" in list(the_data_in_file.columns)):\n",
    "    \n",
    "        the_data_in_file = the_data_in_file.drop([\"URL\"], axis=1)\n",
    "    \n",
    "    list_vals = sum(list(the_data_in_file.isnull().sum()))\n",
    "    \n",
    "    if(list_vals > 0):\n",
    "        trouble_files.append(file)\n",
    "    all_files.append(the_data_in_file)\n",
    "    \n",
    "the_spotify_data = pd.concat(all_files) \n",
    "# trouble_files_df = pd.concat(trouble_files)"
   ]
  },
  {
   "cell_type": "code",
   "execution_count": 11,
   "metadata": {},
   "outputs": [],
   "source": [
    "all_cols = list(the_spotify_data.columns)\n",
    "drop_cols = []\n",
    "\n",
    "for col in all_cols:\n",
    "    if(\"Unnamed\" in col or \"artificial\" in col):\n",
    "        drop_cols.append(col)\n",
    "        \n",
    "the_spotify_data.drop(drop_cols, axis=1, inplace = True)"
   ]
  },
  {
   "cell_type": "code",
   "execution_count": 12,
   "metadata": {},
   "outputs": [
    {
     "data": {
      "text/plain": [
       "Index(['rank', 'uri', 'artist_names', 'track_name', 'source', 'peak_rank',\n",
       "       'previous_rank', 'weeks_on_chart', 'streams', 'End Date'],\n",
       "      dtype='object')"
      ]
     },
     "execution_count": 12,
     "metadata": {},
     "output_type": "execute_result"
    }
   ],
   "source": [
    "the_spotify_data.columns"
   ]
  },
  {
   "cell_type": "code",
   "execution_count": 13,
   "metadata": {},
   "outputs": [
    {
     "data": {
      "text/html": [
       "<div>\n",
       "<style scoped>\n",
       "    .dataframe tbody tr th:only-of-type {\n",
       "        vertical-align: middle;\n",
       "    }\n",
       "\n",
       "    .dataframe tbody tr th {\n",
       "        vertical-align: top;\n",
       "    }\n",
       "\n",
       "    .dataframe thead th {\n",
       "        text-align: right;\n",
       "    }\n",
       "</style>\n",
       "<table border=\"1\" class=\"dataframe\">\n",
       "  <thead>\n",
       "    <tr style=\"text-align: right;\">\n",
       "      <th></th>\n",
       "      <th>rank</th>\n",
       "      <th>uri</th>\n",
       "      <th>artist_names</th>\n",
       "      <th>track_name</th>\n",
       "      <th>source</th>\n",
       "      <th>peak_rank</th>\n",
       "      <th>previous_rank</th>\n",
       "      <th>weeks_on_chart</th>\n",
       "      <th>streams</th>\n",
       "      <th>End Date</th>\n",
       "    </tr>\n",
       "  </thead>\n",
       "  <tbody>\n",
       "    <tr>\n",
       "      <th>0</th>\n",
       "      <td>1</td>\n",
       "      <td>spotify:track:6ocbgoVGwYJhOv1GgI9NsF</td>\n",
       "      <td>Ariana Grande</td>\n",
       "      <td>7 rings</td>\n",
       "      <td>Republic Records</td>\n",
       "      <td>1</td>\n",
       "      <td>-1</td>\n",
       "      <td>1</td>\n",
       "      <td>71486</td>\n",
       "      <td>2019-02-28</td>\n",
       "    </tr>\n",
       "    <tr>\n",
       "      <th>1</th>\n",
       "      <td>2</td>\n",
       "      <td>spotify:track:2VxeLyX666F8uXCJ0dZF8B</td>\n",
       "      <td>Lady Gaga, Bradley Cooper</td>\n",
       "      <td>Shallow</td>\n",
       "      <td>A Star is Born OST</td>\n",
       "      <td>2</td>\n",
       "      <td>-1</td>\n",
       "      <td>1</td>\n",
       "      <td>67267</td>\n",
       "      <td>2019-02-28</td>\n",
       "    </tr>\n",
       "    <tr>\n",
       "      <th>2</th>\n",
       "      <td>3</td>\n",
       "      <td>spotify:track:7dbka99KTWke5o9hRp0JoB</td>\n",
       "      <td>Post Malone, Swae Lee</td>\n",
       "      <td>Sunflower - Spider-Man: Into the Spider-Verse</td>\n",
       "      <td>Republic Records</td>\n",
       "      <td>3</td>\n",
       "      <td>-1</td>\n",
       "      <td>1</td>\n",
       "      <td>65006</td>\n",
       "      <td>2019-02-28</td>\n",
       "    </tr>\n",
       "    <tr>\n",
       "      <th>3</th>\n",
       "      <td>4</td>\n",
       "      <td>spotify:track:4kV4N9D1iKVxx1KLvtTpjS</td>\n",
       "      <td>Ariana Grande</td>\n",
       "      <td>break up with your girlfriend, i'm bored</td>\n",
       "      <td>Republic Records</td>\n",
       "      <td>4</td>\n",
       "      <td>-1</td>\n",
       "      <td>1</td>\n",
       "      <td>62512</td>\n",
       "      <td>2019-02-28</td>\n",
       "    </tr>\n",
       "    <tr>\n",
       "      <th>4</th>\n",
       "      <td>5</td>\n",
       "      <td>spotify:track:5w9c2J52mkdntKOmRLeM2m</td>\n",
       "      <td>Daddy Yankee, Snow</td>\n",
       "      <td>Con Calma</td>\n",
       "      <td>El Cartel Records (EC3)</td>\n",
       "      <td>5</td>\n",
       "      <td>-1</td>\n",
       "      <td>1</td>\n",
       "      <td>59178</td>\n",
       "      <td>2019-02-28</td>\n",
       "    </tr>\n",
       "    <tr>\n",
       "      <th>...</th>\n",
       "      <td>...</td>\n",
       "      <td>...</td>\n",
       "      <td>...</td>\n",
       "      <td>...</td>\n",
       "      <td>...</td>\n",
       "      <td>...</td>\n",
       "      <td>...</td>\n",
       "      <td>...</td>\n",
       "      <td>...</td>\n",
       "      <td>...</td>\n",
       "    </tr>\n",
       "    <tr>\n",
       "      <th>195</th>\n",
       "      <td>196</td>\n",
       "      <td>spotify:track:1eCJkMId2CBCWpukvmVHk2</td>\n",
       "      <td>Dr Zeus, Watan Sahi, Jasmeen Akhtar</td>\n",
       "      <td>Bande 4</td>\n",
       "      <td>Gurnav Production House &amp; PGP Square</td>\n",
       "      <td>135</td>\n",
       "      <td>167</td>\n",
       "      <td>4</td>\n",
       "      <td>1270160</td>\n",
       "      <td>2025-04-10</td>\n",
       "    </tr>\n",
       "    <tr>\n",
       "      <th>196</th>\n",
       "      <td>197</td>\n",
       "      <td>spotify:track:4sTlQPMyoFMPdhAJvErBN3</td>\n",
       "      <td>ATLXS</td>\n",
       "      <td>PASSO BEM SOLTO - Slowed</td>\n",
       "      <td>broke</td>\n",
       "      <td>197</td>\n",
       "      <td>-1</td>\n",
       "      <td>1</td>\n",
       "      <td>1266215</td>\n",
       "      <td>2025-04-10</td>\n",
       "    </tr>\n",
       "    <tr>\n",
       "      <th>197</th>\n",
       "      <td>198</td>\n",
       "      <td>spotify:track:2Z6HgNji9cNlFLNORw6wDQ</td>\n",
       "      <td>Mansheel Gujral, Akhil Sachdeva</td>\n",
       "      <td>Channa Ve - From \"Bhoot - Part One: The Haunte...</td>\n",
       "      <td>Zee Music Company</td>\n",
       "      <td>33</td>\n",
       "      <td>199</td>\n",
       "      <td>67</td>\n",
       "      <td>1265459</td>\n",
       "      <td>2025-04-10</td>\n",
       "    </tr>\n",
       "    <tr>\n",
       "      <th>198</th>\n",
       "      <td>199</td>\n",
       "      <td>spotify:track:2oenSXLDbWVaaL7QjSGYj5</td>\n",
       "      <td>Diljit Dosanjh, Intense, Sultaan</td>\n",
       "      <td>Lalkara</td>\n",
       "      <td>DILJIT DOSANJH</td>\n",
       "      <td>22</td>\n",
       "      <td>166</td>\n",
       "      <td>75</td>\n",
       "      <td>1258719</td>\n",
       "      <td>2025-04-10</td>\n",
       "    </tr>\n",
       "    <tr>\n",
       "      <th>199</th>\n",
       "      <td>200</td>\n",
       "      <td>spotify:track:610keNiNVTIkYD0CqeSerg</td>\n",
       "      <td>Cheema Y, Gur Sidhu</td>\n",
       "      <td>California Love</td>\n",
       "      <td>Brown Town Music</td>\n",
       "      <td>27</td>\n",
       "      <td>187</td>\n",
       "      <td>80</td>\n",
       "      <td>1258119</td>\n",
       "      <td>2025-04-10</td>\n",
       "    </tr>\n",
       "  </tbody>\n",
       "</table>\n",
       "<p>61168 rows × 10 columns</p>\n",
       "</div>"
      ],
      "text/plain": [
       "     rank                                   uri  \\\n",
       "0       1  spotify:track:6ocbgoVGwYJhOv1GgI9NsF   \n",
       "1       2  spotify:track:2VxeLyX666F8uXCJ0dZF8B   \n",
       "2       3  spotify:track:7dbka99KTWke5o9hRp0JoB   \n",
       "3       4  spotify:track:4kV4N9D1iKVxx1KLvtTpjS   \n",
       "4       5  spotify:track:5w9c2J52mkdntKOmRLeM2m   \n",
       "..    ...                                   ...   \n",
       "195   196  spotify:track:1eCJkMId2CBCWpukvmVHk2   \n",
       "196   197  spotify:track:4sTlQPMyoFMPdhAJvErBN3   \n",
       "197   198  spotify:track:2Z6HgNji9cNlFLNORw6wDQ   \n",
       "198   199  spotify:track:2oenSXLDbWVaaL7QjSGYj5   \n",
       "199   200  spotify:track:610keNiNVTIkYD0CqeSerg   \n",
       "\n",
       "                            artist_names  \\\n",
       "0                          Ariana Grande   \n",
       "1              Lady Gaga, Bradley Cooper   \n",
       "2                  Post Malone, Swae Lee   \n",
       "3                          Ariana Grande   \n",
       "4                     Daddy Yankee, Snow   \n",
       "..                                   ...   \n",
       "195  Dr Zeus, Watan Sahi, Jasmeen Akhtar   \n",
       "196                                ATLXS   \n",
       "197      Mansheel Gujral, Akhil Sachdeva   \n",
       "198     Diljit Dosanjh, Intense, Sultaan   \n",
       "199                  Cheema Y, Gur Sidhu   \n",
       "\n",
       "                                            track_name  \\\n",
       "0                                              7 rings   \n",
       "1                                              Shallow   \n",
       "2        Sunflower - Spider-Man: Into the Spider-Verse   \n",
       "3             break up with your girlfriend, i'm bored   \n",
       "4                                            Con Calma   \n",
       "..                                                 ...   \n",
       "195                                            Bande 4   \n",
       "196                           PASSO BEM SOLTO - Slowed   \n",
       "197  Channa Ve - From \"Bhoot - Part One: The Haunte...   \n",
       "198                                            Lalkara   \n",
       "199                                    California Love   \n",
       "\n",
       "                                   source  peak_rank  previous_rank  \\\n",
       "0                        Republic Records          1             -1   \n",
       "1                      A Star is Born OST          2             -1   \n",
       "2                        Republic Records          3             -1   \n",
       "3                        Republic Records          4             -1   \n",
       "4                 El Cartel Records (EC3)          5             -1   \n",
       "..                                    ...        ...            ...   \n",
       "195  Gurnav Production House & PGP Square        135            167   \n",
       "196                                 broke        197             -1   \n",
       "197                     Zee Music Company         33            199   \n",
       "198                        DILJIT DOSANJH         22            166   \n",
       "199                      Brown Town Music         27            187   \n",
       "\n",
       "     weeks_on_chart  streams    End Date  \n",
       "0                 1    71486  2019-02-28  \n",
       "1                 1    67267  2019-02-28  \n",
       "2                 1    65006  2019-02-28  \n",
       "3                 1    62512  2019-02-28  \n",
       "4                 1    59178  2019-02-28  \n",
       "..              ...      ...         ...  \n",
       "195               4  1270160  2025-04-10  \n",
       "196               1  1266215  2025-04-10  \n",
       "197              67  1265459  2025-04-10  \n",
       "198              75  1258719  2025-04-10  \n",
       "199              80  1258119  2025-04-10  \n",
       "\n",
       "[61168 rows x 10 columns]"
      ]
     },
     "execution_count": 13,
     "metadata": {},
     "output_type": "execute_result"
    }
   ],
   "source": [
    "the_spotify_data"
   ]
  },
  {
   "cell_type": "code",
   "execution_count": 14,
   "metadata": {},
   "outputs": [],
   "source": [
    "# the_spotify_data[\"End Date\"].unique().tolist()"
   ]
  },
  {
   "cell_type": "markdown",
   "metadata": {},
   "source": [
    "### Error checking that all the Thursday dates are present"
   ]
  },
  {
   "cell_type": "code",
   "execution_count": 16,
   "metadata": {},
   "outputs": [],
   "source": [
    "date_list = the_spotify_data[\"End Date\"].unique().tolist()\n",
    "start_date = date_list[0]\n",
    "end_date = date_list[len(date_list)-1]"
   ]
  },
  {
   "cell_type": "code",
   "execution_count": 17,
   "metadata": {},
   "outputs": [
    {
     "data": {
      "text/plain": [
       "320"
      ]
     },
     "execution_count": 17,
     "metadata": {},
     "output_type": "execute_result"
    }
   ],
   "source": [
    "len(date_list)"
   ]
  },
  {
   "cell_type": "code",
   "execution_count": 18,
   "metadata": {},
   "outputs": [
    {
     "data": {
      "text/plain": [
       "('2019-02-28', '2025-04-10')"
      ]
     },
     "execution_count": 18,
     "metadata": {},
     "output_type": "execute_result"
    }
   ],
   "source": [
    "start_date, end_date"
   ]
  },
  {
   "cell_type": "code",
   "execution_count": 19,
   "metadata": {},
   "outputs": [],
   "source": [
    "def check_thursdays_in_range(date_list, start_date, end_date):\n",
    "    # Convert start_date and end_date strings to datetime objects\n",
    "    start_date = datetime.strptime(start_date, \"%Y-%m-%d\")\n",
    "    end_date = datetime.strptime(end_date, \"%Y-%m-%d\")\n",
    "    \n",
    "    # Initialize a set to store Thursdays in the range\n",
    "    thursdays_in_range = set()\n",
    "    \n",
    "    # Iterate through the range of dates and add Thursdays to the set\n",
    "    current_date = start_date\n",
    "    while current_date <= end_date:\n",
    "        if current_date.weekday() == 3:  # Thursday\n",
    "            thursdays_in_range.add(current_date.strftime(\"%Y-%m-%d\"))\n",
    "        current_date += timedelta(days=1)\n",
    "    \n",
    "    # Convert date_list to a set for efficient membership checking\n",
    "    date_set = set(date_list)\n",
    "    \n",
    "    # Find missing Thursdays\n",
    "    missing_thursdays = sorted(thursdays_in_range - date_set)\n",
    "    print(\"thursdays_in_range: \", len(thursdays_in_range))\n",
    "    print(\"date_set: \", len(date_set))\n",
    "    \n",
    "    if missing_thursdays:\n",
    "        print(\"Missing Thursdays in the range:\")\n",
    "        for thursday in missing_thursdays:\n",
    "            print(thursday)\n",
    "        return False\n",
    "    else:\n",
    "        print(\"All Thursdays are present in the range.\")\n",
    "        return True"
   ]
  },
  {
   "cell_type": "code",
   "execution_count": 20,
   "metadata": {
    "scrolled": true
   },
   "outputs": [
    {
     "name": "stdout",
     "output_type": "stream",
     "text": [
      "thursdays_in_range:  320\n",
      "date_set:  320\n",
      "All Thursdays are present in the range.\n",
      "All Thursdays present: True\n"
     ]
    }
   ],
   "source": [
    "result = check_thursdays_in_range(date_list, start_date, end_date)\n",
    "print(\"All Thursdays present:\", result)"
   ]
  },
  {
   "cell_type": "markdown",
   "metadata": {},
   "source": [
    "### Continue"
   ]
  },
  {
   "cell_type": "code",
   "execution_count": 22,
   "metadata": {},
   "outputs": [],
   "source": [
    "the_spotify_data[\"Week\"] = the_spotify_data[\"End Date\"].apply(lambda x : datetime.strptime(x, '%Y-%m-%d'))\n",
    "the_spotify_data[\"Year\"] = the_spotify_data[\"Week\"]\n",
    "\n",
    "the_spotify_data['Week'] = the_spotify_data['Week'].apply(lambda x : x.isocalendar()[1] )\n",
    "the_spotify_data['Year'] = the_spotify_data['Year'].apply(lambda x : x.isocalendar()[0] )\n",
    "\n",
    "# the_spotify_data[\"Start Date Dt\"] = the_spotify_data[\"Start Date\"].apply(lambda x : datetime.strptime(x, '%Y-%m-%d'))\n",
    "the_spotify_data[\"End Date Dt\"] = the_spotify_data[\"End Date\"].apply(lambda x : datetime.strptime(x, '%Y-%m-%d'))\n",
    "the_spotify_data['Seconds since Epoch'] = the_spotify_data['End Date Dt'].apply(lambda x : round(x.timestamp(), 0))"
   ]
  },
  {
   "cell_type": "code",
   "execution_count": 23,
   "metadata": {},
   "outputs": [],
   "source": [
    "#get the month when this happened\n",
    "def changedaytotheFirst(x):\n",
    "    x = x[:-2] + \"01\"\n",
    "    \n",
    "    return x"
   ]
  },
  {
   "cell_type": "code",
   "execution_count": 24,
   "metadata": {},
   "outputs": [],
   "source": [
    "the_spotify_data[\"End Date Aggregated\"] = the_spotify_data[\"End Date\"].apply(lambda x : changedaytotheFirst(x) )"
   ]
  },
  {
   "cell_type": "code",
   "execution_count": 25,
   "metadata": {},
   "outputs": [],
   "source": [
    "#find the number of artists on the track\n",
    "the_spotify_data.dropna(inplace=True)\n",
    "\n",
    "the_spotify_data[\"artist_names\"] = the_spotify_data[\"artist_names\"].apply(lambda x : x.encode(\"utf-8\").decode(\"latin-1\"))\n",
    "the_spotify_data[\"artist_names\"] = the_spotify_data[\"artist_names\"].apply(lambda x : re.sub(r'[^\\x00-\\x7F]+','', x))\n",
    "the_spotify_data[\"artist_names\"] = the_spotify_data.apply(lambda x : x[\"artist_names\"] + \"Artist_NA\" if(x[\"artist_names\"] == \"\") else x[\"artist_names\"], axis=1)\n",
    "\n",
    "the_spotify_data[\"track_name\"] = the_spotify_data[\"track_name\"].apply(lambda x : x.encode(\"utf-8\").decode(\"latin-1\"))\n",
    "the_spotify_data[\"track_name\"] = the_spotify_data[\"track_name\"].apply(lambda x : re.sub(r'[^\\x00-\\x7F]+','', x))\n",
    "the_spotify_data[\"track_name\"] = the_spotify_data.apply(lambda x : x[\"artist_names\"] + \"_NA\" if(x[\"track_name\"] == \"\") else x[\"track_name\"], axis=1)\n",
    "\n",
    "def countNumberArtists(x):\n",
    "    len_all_featured_artists = 0\n",
    "    num_artists = 0\n",
    "    xvals = x.split(\"feat\")\n",
    "    len_xvals = len(xvals)\n",
    "    \n",
    "    if(len_xvals > 1):\n",
    "        featured_artists = xvals[1:]\n",
    "        featured_artists_str = ' '.join(featured_artists)\n",
    "        all_featured_artists = featured_artists_str.split(\"& \")\n",
    "        len_all_featured_artists = len(all_featured_artists)\n",
    "        \n",
    "    num_artists = 1 + len_all_featured_artists\n",
    "    \n",
    "    return num_artists\n",
    "        \n",
    "    \n",
    "the_spotify_data['ArtistCount'] = the_spotify_data['track_name'].apply(lambda x : countNumberArtists(x))"
   ]
  },
  {
   "cell_type": "code",
   "execution_count": 26,
   "metadata": {},
   "outputs": [
    {
     "data": {
      "text/plain": [
       "(61168, 16)"
      ]
     },
     "execution_count": 26,
     "metadata": {},
     "output_type": "execute_result"
    }
   ],
   "source": [
    "the_spotify_data.shape"
   ]
  },
  {
   "cell_type": "code",
   "execution_count": 27,
   "metadata": {},
   "outputs": [],
   "source": [
    "the_spotify_data[\"main_artist\"] = the_spotify_data.apply(lambda x : x[\"artist_names\"].split(\",\")[0], axis=1)"
   ]
  },
  {
   "cell_type": "code",
   "execution_count": 28,
   "metadata": {},
   "outputs": [],
   "source": [
    "the_spotify_data = the_spotify_data.reset_index()\n",
    "the_spotify_data.drop([\"index\"], axis=1, inplace=True)"
   ]
  },
  {
   "cell_type": "code",
   "execution_count": 29,
   "metadata": {},
   "outputs": [
    {
     "data": {
      "text/plain": [
       "(61168, 17)"
      ]
     },
     "execution_count": 29,
     "metadata": {},
     "output_type": "execute_result"
    }
   ],
   "source": [
    "the_spotify_data.shape"
   ]
  },
  {
   "cell_type": "markdown",
   "metadata": {},
   "source": [
    "### Is Top Ten Status"
   ]
  },
  {
   "cell_type": "code",
   "execution_count": 31,
   "metadata": {},
   "outputs": [
    {
     "name": "stderr",
     "output_type": "stream",
     "text": [
      "C:\\Users\\lkhum\\AppData\\Local\\Temp\\ipykernel_26684\\3443158733.py:18: DeprecationWarning: DataFrameGroupBy.apply operated on the grouping columns. This behavior is deprecated, and in a future version of pandas the grouping columns will be excluded from the operation. Either pass `include_groups=False` to exclude the groupings or explicitly select the grouping columns after groupby to silence this warning.\n",
      "  the_spotify_data = the_spotify_data.groupby([\"artist_names\", \"track_name\"]).apply(lambda x : everInTopTen(x))\n"
     ]
    }
   ],
   "source": [
    "def everInTopTen(x):\n",
    "    position_vals = list(x[\"rank\"])\n",
    "    position_vals = list(set(position_vals))\n",
    "    \n",
    "#     print(position_vals)\n",
    "    \n",
    "    min_pos = min(position_vals)\n",
    "    existence_val = 0\n",
    "    \n",
    "    if(min_pos <= 10):\n",
    "        existence_val = 1\n",
    "    \n",
    "    x[\"isTopTen\"] = [existence_val] * len(x)\n",
    "    \n",
    "    return x\n",
    "    \n",
    "the_spotify_data = the_spotify_data[~the_spotify_data.index.duplicated()]\n",
    "the_spotify_data = the_spotify_data.groupby([\"artist_names\", \"track_name\"]).apply(lambda x : everInTopTen(x))"
   ]
  },
  {
   "cell_type": "code",
   "execution_count": 32,
   "metadata": {},
   "outputs": [
    {
     "data": {
      "text/html": [
       "<div>\n",
       "<style scoped>\n",
       "    .dataframe tbody tr th:only-of-type {\n",
       "        vertical-align: middle;\n",
       "    }\n",
       "\n",
       "    .dataframe tbody tr th {\n",
       "        vertical-align: top;\n",
       "    }\n",
       "\n",
       "    .dataframe thead th {\n",
       "        text-align: right;\n",
       "    }\n",
       "</style>\n",
       "<table border=\"1\" class=\"dataframe\">\n",
       "  <thead>\n",
       "    <tr style=\"text-align: right;\">\n",
       "      <th></th>\n",
       "      <th></th>\n",
       "      <th></th>\n",
       "      <th>rank</th>\n",
       "      <th>uri</th>\n",
       "      <th>artist_names</th>\n",
       "      <th>track_name</th>\n",
       "      <th>source</th>\n",
       "      <th>peak_rank</th>\n",
       "      <th>previous_rank</th>\n",
       "      <th>weeks_on_chart</th>\n",
       "      <th>streams</th>\n",
       "      <th>End Date</th>\n",
       "      <th>Week</th>\n",
       "      <th>Year</th>\n",
       "      <th>End Date Dt</th>\n",
       "      <th>Seconds since Epoch</th>\n",
       "      <th>End Date Aggregated</th>\n",
       "      <th>ArtistCount</th>\n",
       "      <th>main_artist</th>\n",
       "      <th>isTopTen</th>\n",
       "    </tr>\n",
       "    <tr>\n",
       "      <th>artist_names</th>\n",
       "      <th>track_name</th>\n",
       "      <th></th>\n",
       "      <th></th>\n",
       "      <th></th>\n",
       "      <th></th>\n",
       "      <th></th>\n",
       "      <th></th>\n",
       "      <th></th>\n",
       "      <th></th>\n",
       "      <th></th>\n",
       "      <th></th>\n",
       "      <th></th>\n",
       "      <th></th>\n",
       "      <th></th>\n",
       "      <th></th>\n",
       "      <th></th>\n",
       "      <th></th>\n",
       "      <th></th>\n",
       "      <th></th>\n",
       "      <th></th>\n",
       "    </tr>\n",
       "  </thead>\n",
       "  <tbody>\n",
       "    <tr>\n",
       "      <th rowspan=\"5\" valign=\"top\">*NSYNC</th>\n",
       "      <th rowspan=\"5\" valign=\"top\">Bye Bye Bye - From Deadpool and Wolverine Soundtrack</th>\n",
       "      <th>53829</th>\n",
       "      <td>62</td>\n",
       "      <td>spotify:track:62bOmKYxYg7dhrC6gH9vFn</td>\n",
       "      <td>*NSYNC</td>\n",
       "      <td>Bye Bye Bye - From Deadpool and Wolverine Soun...</td>\n",
       "      <td>Jive</td>\n",
       "      <td>62</td>\n",
       "      <td>-1</td>\n",
       "      <td>1</td>\n",
       "      <td>1736210</td>\n",
       "      <td>2024-08-01</td>\n",
       "      <td>31</td>\n",
       "      <td>2024</td>\n",
       "      <td>2024-08-01</td>\n",
       "      <td>1.722470e+09</td>\n",
       "      <td>2024-08-01</td>\n",
       "      <td>1</td>\n",
       "      <td>*NSYNC</td>\n",
       "      <td>0</td>\n",
       "    </tr>\n",
       "    <tr>\n",
       "      <th>53995</th>\n",
       "      <td>28</td>\n",
       "      <td>spotify:track:62bOmKYxYg7dhrC6gH9vFn</td>\n",
       "      <td>*NSYNC</td>\n",
       "      <td>Bye Bye Bye - From Deadpool and Wolverine Soun...</td>\n",
       "      <td>Jive</td>\n",
       "      <td>28</td>\n",
       "      <td>62</td>\n",
       "      <td>2</td>\n",
       "      <td>2690854</td>\n",
       "      <td>2024-08-08</td>\n",
       "      <td>32</td>\n",
       "      <td>2024</td>\n",
       "      <td>2024-08-08</td>\n",
       "      <td>1.723075e+09</td>\n",
       "      <td>2024-08-01</td>\n",
       "      <td>1</td>\n",
       "      <td>*NSYNC</td>\n",
       "      <td>0</td>\n",
       "    </tr>\n",
       "    <tr>\n",
       "      <th>54201</th>\n",
       "      <td>34</td>\n",
       "      <td>spotify:track:62bOmKYxYg7dhrC6gH9vFn</td>\n",
       "      <td>*NSYNC</td>\n",
       "      <td>Bye Bye Bye - From Deadpool and Wolverine Soun...</td>\n",
       "      <td>Jive</td>\n",
       "      <td>28</td>\n",
       "      <td>28</td>\n",
       "      <td>3</td>\n",
       "      <td>2505969</td>\n",
       "      <td>2024-08-15</td>\n",
       "      <td>33</td>\n",
       "      <td>2024</td>\n",
       "      <td>2024-08-15</td>\n",
       "      <td>1.723680e+09</td>\n",
       "      <td>2024-08-01</td>\n",
       "      <td>1</td>\n",
       "      <td>*NSYNC</td>\n",
       "      <td>0</td>\n",
       "    </tr>\n",
       "    <tr>\n",
       "      <th>54405</th>\n",
       "      <td>38</td>\n",
       "      <td>spotify:track:62bOmKYxYg7dhrC6gH9vFn</td>\n",
       "      <td>*NSYNC</td>\n",
       "      <td>Bye Bye Bye - From Deadpool and Wolverine Soun...</td>\n",
       "      <td>Jive</td>\n",
       "      <td>28</td>\n",
       "      <td>34</td>\n",
       "      <td>4</td>\n",
       "      <td>2214202</td>\n",
       "      <td>2024-08-22</td>\n",
       "      <td>34</td>\n",
       "      <td>2024</td>\n",
       "      <td>2024-08-22</td>\n",
       "      <td>1.724285e+09</td>\n",
       "      <td>2024-08-01</td>\n",
       "      <td>1</td>\n",
       "      <td>*NSYNC</td>\n",
       "      <td>0</td>\n",
       "    </tr>\n",
       "    <tr>\n",
       "      <th>54614</th>\n",
       "      <td>47</td>\n",
       "      <td>spotify:track:62bOmKYxYg7dhrC6gH9vFn</td>\n",
       "      <td>*NSYNC</td>\n",
       "      <td>Bye Bye Bye - From Deadpool and Wolverine Soun...</td>\n",
       "      <td>Jive</td>\n",
       "      <td>28</td>\n",
       "      <td>38</td>\n",
       "      <td>5</td>\n",
       "      <td>2083819</td>\n",
       "      <td>2024-08-29</td>\n",
       "      <td>35</td>\n",
       "      <td>2024</td>\n",
       "      <td>2024-08-29</td>\n",
       "      <td>1.724890e+09</td>\n",
       "      <td>2024-08-01</td>\n",
       "      <td>1</td>\n",
       "      <td>*NSYNC</td>\n",
       "      <td>0</td>\n",
       "    </tr>\n",
       "  </tbody>\n",
       "</table>\n",
       "</div>"
      ],
      "text/plain": [
       "                                                                       rank  \\\n",
       "artist_names track_name                                                       \n",
       "*NSYNC       Bye Bye Bye - From Deadpool and Wolverine Sound... 53829    62   \n",
       "                                                                53995    28   \n",
       "                                                                54201    34   \n",
       "                                                                54405    38   \n",
       "                                                                54614    47   \n",
       "\n",
       "                                                                                                        uri  \\\n",
       "artist_names track_name                                                                                       \n",
       "*NSYNC       Bye Bye Bye - From Deadpool and Wolverine Sound... 53829  spotify:track:62bOmKYxYg7dhrC6gH9vFn   \n",
       "                                                                53995  spotify:track:62bOmKYxYg7dhrC6gH9vFn   \n",
       "                                                                54201  spotify:track:62bOmKYxYg7dhrC6gH9vFn   \n",
       "                                                                54405  spotify:track:62bOmKYxYg7dhrC6gH9vFn   \n",
       "                                                                54614  spotify:track:62bOmKYxYg7dhrC6gH9vFn   \n",
       "\n",
       "                                                                      artist_names  \\\n",
       "artist_names track_name                                                              \n",
       "*NSYNC       Bye Bye Bye - From Deadpool and Wolverine Sound... 53829       *NSYNC   \n",
       "                                                                53995       *NSYNC   \n",
       "                                                                54201       *NSYNC   \n",
       "                                                                54405       *NSYNC   \n",
       "                                                                54614       *NSYNC   \n",
       "\n",
       "                                                                                                              track_name  \\\n",
       "artist_names track_name                                                                                                    \n",
       "*NSYNC       Bye Bye Bye - From Deadpool and Wolverine Sound... 53829  Bye Bye Bye - From Deadpool and Wolverine Soun...   \n",
       "                                                                53995  Bye Bye Bye - From Deadpool and Wolverine Soun...   \n",
       "                                                                54201  Bye Bye Bye - From Deadpool and Wolverine Soun...   \n",
       "                                                                54405  Bye Bye Bye - From Deadpool and Wolverine Soun...   \n",
       "                                                                54614  Bye Bye Bye - From Deadpool and Wolverine Soun...   \n",
       "\n",
       "                                                                      source  \\\n",
       "artist_names track_name                                                        \n",
       "*NSYNC       Bye Bye Bye - From Deadpool and Wolverine Sound... 53829   Jive   \n",
       "                                                                53995   Jive   \n",
       "                                                                54201   Jive   \n",
       "                                                                54405   Jive   \n",
       "                                                                54614   Jive   \n",
       "\n",
       "                                                                       peak_rank  \\\n",
       "artist_names track_name                                                            \n",
       "*NSYNC       Bye Bye Bye - From Deadpool and Wolverine Sound... 53829         62   \n",
       "                                                                53995         28   \n",
       "                                                                54201         28   \n",
       "                                                                54405         28   \n",
       "                                                                54614         28   \n",
       "\n",
       "                                                                       previous_rank  \\\n",
       "artist_names track_name                                                                \n",
       "*NSYNC       Bye Bye Bye - From Deadpool and Wolverine Sound... 53829             -1   \n",
       "                                                                53995             62   \n",
       "                                                                54201             28   \n",
       "                                                                54405             34   \n",
       "                                                                54614             38   \n",
       "\n",
       "                                                                       weeks_on_chart  \\\n",
       "artist_names track_name                                                                 \n",
       "*NSYNC       Bye Bye Bye - From Deadpool and Wolverine Sound... 53829               1   \n",
       "                                                                53995               2   \n",
       "                                                                54201               3   \n",
       "                                                                54405               4   \n",
       "                                                                54614               5   \n",
       "\n",
       "                                                                       streams  \\\n",
       "artist_names track_name                                                          \n",
       "*NSYNC       Bye Bye Bye - From Deadpool and Wolverine Sound... 53829  1736210   \n",
       "                                                                53995  2690854   \n",
       "                                                                54201  2505969   \n",
       "                                                                54405  2214202   \n",
       "                                                                54614  2083819   \n",
       "\n",
       "                                                                         End Date  \\\n",
       "artist_names track_name                                                             \n",
       "*NSYNC       Bye Bye Bye - From Deadpool and Wolverine Sound... 53829  2024-08-01   \n",
       "                                                                53995  2024-08-08   \n",
       "                                                                54201  2024-08-15   \n",
       "                                                                54405  2024-08-22   \n",
       "                                                                54614  2024-08-29   \n",
       "\n",
       "                                                                       Week  \\\n",
       "artist_names track_name                                                       \n",
       "*NSYNC       Bye Bye Bye - From Deadpool and Wolverine Sound... 53829    31   \n",
       "                                                                53995    32   \n",
       "                                                                54201    33   \n",
       "                                                                54405    34   \n",
       "                                                                54614    35   \n",
       "\n",
       "                                                                       Year  \\\n",
       "artist_names track_name                                                       \n",
       "*NSYNC       Bye Bye Bye - From Deadpool and Wolverine Sound... 53829  2024   \n",
       "                                                                53995  2024   \n",
       "                                                                54201  2024   \n",
       "                                                                54405  2024   \n",
       "                                                                54614  2024   \n",
       "\n",
       "                                                                      End Date Dt  \\\n",
       "artist_names track_name                                                             \n",
       "*NSYNC       Bye Bye Bye - From Deadpool and Wolverine Sound... 53829  2024-08-01   \n",
       "                                                                53995  2024-08-08   \n",
       "                                                                54201  2024-08-15   \n",
       "                                                                54405  2024-08-22   \n",
       "                                                                54614  2024-08-29   \n",
       "\n",
       "                                                                       Seconds since Epoch  \\\n",
       "artist_names track_name                                                                      \n",
       "*NSYNC       Bye Bye Bye - From Deadpool and Wolverine Sound... 53829         1.722470e+09   \n",
       "                                                                53995         1.723075e+09   \n",
       "                                                                54201         1.723680e+09   \n",
       "                                                                54405         1.724285e+09   \n",
       "                                                                54614         1.724890e+09   \n",
       "\n",
       "                                                                      End Date Aggregated  \\\n",
       "artist_names track_name                                                                     \n",
       "*NSYNC       Bye Bye Bye - From Deadpool and Wolverine Sound... 53829          2024-08-01   \n",
       "                                                                53995          2024-08-01   \n",
       "                                                                54201          2024-08-01   \n",
       "                                                                54405          2024-08-01   \n",
       "                                                                54614          2024-08-01   \n",
       "\n",
       "                                                                       ArtistCount  \\\n",
       "artist_names track_name                                                              \n",
       "*NSYNC       Bye Bye Bye - From Deadpool and Wolverine Sound... 53829            1   \n",
       "                                                                53995            1   \n",
       "                                                                54201            1   \n",
       "                                                                54405            1   \n",
       "                                                                54614            1   \n",
       "\n",
       "                                                                      main_artist  \\\n",
       "artist_names track_name                                                             \n",
       "*NSYNC       Bye Bye Bye - From Deadpool and Wolverine Sound... 53829      *NSYNC   \n",
       "                                                                53995      *NSYNC   \n",
       "                                                                54201      *NSYNC   \n",
       "                                                                54405      *NSYNC   \n",
       "                                                                54614      *NSYNC   \n",
       "\n",
       "                                                                       isTopTen  \n",
       "artist_names track_name                                                          \n",
       "*NSYNC       Bye Bye Bye - From Deadpool and Wolverine Sound... 53829         0  \n",
       "                                                                53995         0  \n",
       "                                                                54201         0  \n",
       "                                                                54405         0  \n",
       "                                                                54614         0  "
      ]
     },
     "execution_count": 32,
     "metadata": {},
     "output_type": "execute_result"
    }
   ],
   "source": [
    "the_spotify_data.head()"
   ]
  },
  {
   "cell_type": "markdown",
   "metadata": {},
   "source": [
    "### When did the track reach the Top 10 "
   ]
  },
  {
   "cell_type": "markdown",
   "metadata": {},
   "source": [
    "### how long does a song last on the charts?"
   ]
  },
  {
   "cell_type": "code",
   "execution_count": 35,
   "metadata": {},
   "outputs": [
    {
     "data": {
      "text/plain": [
       "isTopTen\n",
       "0    42155\n",
       "1    19013\n",
       "Name: count, dtype: int64"
      ]
     },
     "execution_count": 35,
     "metadata": {},
     "output_type": "execute_result"
    }
   ],
   "source": [
    "the_spotify_data[\"isTopTen\"].value_counts()"
   ]
  },
  {
   "cell_type": "code",
   "execution_count": 36,
   "metadata": {},
   "outputs": [
    {
     "data": {
      "text/plain": [
       "rank                   0\n",
       "uri                    0\n",
       "artist_names           0\n",
       "track_name             0\n",
       "source                 0\n",
       "peak_rank              0\n",
       "previous_rank          0\n",
       "weeks_on_chart         0\n",
       "streams                0\n",
       "End Date               0\n",
       "Week                   0\n",
       "Year                   0\n",
       "End Date Dt            0\n",
       "Seconds since Epoch    0\n",
       "End Date Aggregated    0\n",
       "ArtistCount            0\n",
       "main_artist            0\n",
       "isTopTen               0\n",
       "dtype: int64"
      ]
     },
     "execution_count": 36,
     "metadata": {},
     "output_type": "execute_result"
    }
   ],
   "source": [
    "the_spotify_data.isnull().sum()"
   ]
  },
  {
   "cell_type": "code",
   "execution_count": 37,
   "metadata": {},
   "outputs": [
    {
     "name": "stdout",
     "output_type": "stream",
     "text": [
      "801\n"
     ]
    }
   ],
   "source": [
    "unique_artists = the_spotify_data[\"main_artist\"].unique().tolist()\n",
    "num_artists = len(unique_artists)\n",
    "print(num_artists)"
   ]
  },
  {
   "cell_type": "markdown",
   "metadata": {},
   "source": [
    "### find new artists in that week"
   ]
  },
  {
   "cell_type": "code",
   "execution_count": 39,
   "metadata": {},
   "outputs": [
    {
     "name": "stderr",
     "output_type": "stream",
     "text": [
      "C:\\Users\\lkhum\\AppData\\Local\\Temp\\ipykernel_26684\\3015101900.py:16: DeprecationWarning: DataFrameGroupBy.apply operated on the grouping columns. This behavior is deprecated, and in a future version of pandas the grouping columns will be excluded from the operation. Either pass `include_groups=False` to exclude the groupings or explicitly select the grouping columns after groupby to silence this warning.\n",
      "  the_spotify_data =the_spotify_data.groupby([\"main_artist\"], as_index=False).apply(lambda x : getArtistAppearanceCount(x))\n"
     ]
    }
   ],
   "source": [
    "# the_spotify_data.head(12)\n",
    "def getArtistAppearanceCount(x):\n",
    "\n",
    "    x = x.sort_values(by='End Date', ascending=True)\n",
    "    x = x.reset_index()\n",
    "    # x.drop([\"index\"],axis=1,inplace=True)\n",
    "    x = x.reset_index()\n",
    "    \n",
    "    x_cols = [w.replace('index', 'artistAppearanceCount') for w in x.columns]\n",
    "    \n",
    "    x.columns = x_cols\n",
    "    \n",
    "    return x        \n",
    "\n",
    "the_spotify_data = the_spotify_data.drop(['artist_names', 'track_name'], axis=1)\n",
    "the_spotify_data =the_spotify_data.groupby([\"main_artist\"], as_index=False).apply(lambda x : getArtistAppearanceCount(x))\n",
    "the_spotify_data.drop([\"level_2\"], inplace=True, axis=1)"
   ]
  },
  {
   "cell_type": "code",
   "execution_count": 40,
   "metadata": {
    "scrolled": true
   },
   "outputs": [
    {
     "data": {
      "text/html": [
       "<div>\n",
       "<style scoped>\n",
       "    .dataframe tbody tr th:only-of-type {\n",
       "        vertical-align: middle;\n",
       "    }\n",
       "\n",
       "    .dataframe tbody tr th {\n",
       "        vertical-align: top;\n",
       "    }\n",
       "\n",
       "    .dataframe thead th {\n",
       "        text-align: right;\n",
       "    }\n",
       "</style>\n",
       "<table border=\"1\" class=\"dataframe\">\n",
       "  <thead>\n",
       "    <tr style=\"text-align: right;\">\n",
       "      <th></th>\n",
       "      <th></th>\n",
       "      <th>artistAppearanceCount</th>\n",
       "      <th>artist_names</th>\n",
       "      <th>track_name</th>\n",
       "      <th>rank</th>\n",
       "      <th>uri</th>\n",
       "      <th>source</th>\n",
       "      <th>peak_rank</th>\n",
       "      <th>previous_rank</th>\n",
       "      <th>weeks_on_chart</th>\n",
       "      <th>streams</th>\n",
       "      <th>End Date</th>\n",
       "      <th>Week</th>\n",
       "      <th>Year</th>\n",
       "      <th>End Date Dt</th>\n",
       "      <th>Seconds since Epoch</th>\n",
       "      <th>End Date Aggregated</th>\n",
       "      <th>ArtistCount</th>\n",
       "      <th>main_artist</th>\n",
       "      <th>isTopTen</th>\n",
       "    </tr>\n",
       "  </thead>\n",
       "  <tbody>\n",
       "    <tr>\n",
       "      <th rowspan=\"5\" valign=\"top\">0</th>\n",
       "      <th>0</th>\n",
       "      <td>0</td>\n",
       "      <td>*NSYNC</td>\n",
       "      <td>Bye Bye Bye - From Deadpool and Wolverine Soun...</td>\n",
       "      <td>62</td>\n",
       "      <td>spotify:track:62bOmKYxYg7dhrC6gH9vFn</td>\n",
       "      <td>Jive</td>\n",
       "      <td>62</td>\n",
       "      <td>-1</td>\n",
       "      <td>1</td>\n",
       "      <td>1736210</td>\n",
       "      <td>2024-08-01</td>\n",
       "      <td>31</td>\n",
       "      <td>2024</td>\n",
       "      <td>2024-08-01</td>\n",
       "      <td>1.722470e+09</td>\n",
       "      <td>2024-08-01</td>\n",
       "      <td>1</td>\n",
       "      <td>*NSYNC</td>\n",
       "      <td>0</td>\n",
       "    </tr>\n",
       "    <tr>\n",
       "      <th>1</th>\n",
       "      <td>1</td>\n",
       "      <td>*NSYNC</td>\n",
       "      <td>Bye Bye Bye - From Deadpool and Wolverine Soun...</td>\n",
       "      <td>28</td>\n",
       "      <td>spotify:track:62bOmKYxYg7dhrC6gH9vFn</td>\n",
       "      <td>Jive</td>\n",
       "      <td>28</td>\n",
       "      <td>62</td>\n",
       "      <td>2</td>\n",
       "      <td>2690854</td>\n",
       "      <td>2024-08-08</td>\n",
       "      <td>32</td>\n",
       "      <td>2024</td>\n",
       "      <td>2024-08-08</td>\n",
       "      <td>1.723075e+09</td>\n",
       "      <td>2024-08-01</td>\n",
       "      <td>1</td>\n",
       "      <td>*NSYNC</td>\n",
       "      <td>0</td>\n",
       "    </tr>\n",
       "    <tr>\n",
       "      <th>2</th>\n",
       "      <td>2</td>\n",
       "      <td>*NSYNC</td>\n",
       "      <td>Bye Bye Bye - From Deadpool and Wolverine Soun...</td>\n",
       "      <td>34</td>\n",
       "      <td>spotify:track:62bOmKYxYg7dhrC6gH9vFn</td>\n",
       "      <td>Jive</td>\n",
       "      <td>28</td>\n",
       "      <td>28</td>\n",
       "      <td>3</td>\n",
       "      <td>2505969</td>\n",
       "      <td>2024-08-15</td>\n",
       "      <td>33</td>\n",
       "      <td>2024</td>\n",
       "      <td>2024-08-15</td>\n",
       "      <td>1.723680e+09</td>\n",
       "      <td>2024-08-01</td>\n",
       "      <td>1</td>\n",
       "      <td>*NSYNC</td>\n",
       "      <td>0</td>\n",
       "    </tr>\n",
       "    <tr>\n",
       "      <th>3</th>\n",
       "      <td>3</td>\n",
       "      <td>*NSYNC</td>\n",
       "      <td>Bye Bye Bye - From Deadpool and Wolverine Soun...</td>\n",
       "      <td>38</td>\n",
       "      <td>spotify:track:62bOmKYxYg7dhrC6gH9vFn</td>\n",
       "      <td>Jive</td>\n",
       "      <td>28</td>\n",
       "      <td>34</td>\n",
       "      <td>4</td>\n",
       "      <td>2214202</td>\n",
       "      <td>2024-08-22</td>\n",
       "      <td>34</td>\n",
       "      <td>2024</td>\n",
       "      <td>2024-08-22</td>\n",
       "      <td>1.724285e+09</td>\n",
       "      <td>2024-08-01</td>\n",
       "      <td>1</td>\n",
       "      <td>*NSYNC</td>\n",
       "      <td>0</td>\n",
       "    </tr>\n",
       "    <tr>\n",
       "      <th>4</th>\n",
       "      <td>4</td>\n",
       "      <td>*NSYNC</td>\n",
       "      <td>Bye Bye Bye - From Deadpool and Wolverine Soun...</td>\n",
       "      <td>47</td>\n",
       "      <td>spotify:track:62bOmKYxYg7dhrC6gH9vFn</td>\n",
       "      <td>Jive</td>\n",
       "      <td>28</td>\n",
       "      <td>38</td>\n",
       "      <td>5</td>\n",
       "      <td>2083819</td>\n",
       "      <td>2024-08-29</td>\n",
       "      <td>35</td>\n",
       "      <td>2024</td>\n",
       "      <td>2024-08-29</td>\n",
       "      <td>1.724890e+09</td>\n",
       "      <td>2024-08-01</td>\n",
       "      <td>1</td>\n",
       "      <td>*NSYNC</td>\n",
       "      <td>0</td>\n",
       "    </tr>\n",
       "  </tbody>\n",
       "</table>\n",
       "</div>"
      ],
      "text/plain": [
       "     artistAppearanceCount artist_names  \\\n",
       "0 0                      0       *NSYNC   \n",
       "  1                      1       *NSYNC   \n",
       "  2                      2       *NSYNC   \n",
       "  3                      3       *NSYNC   \n",
       "  4                      4       *NSYNC   \n",
       "\n",
       "                                            track_name  rank  \\\n",
       "0 0  Bye Bye Bye - From Deadpool and Wolverine Soun...    62   \n",
       "  1  Bye Bye Bye - From Deadpool and Wolverine Soun...    28   \n",
       "  2  Bye Bye Bye - From Deadpool and Wolverine Soun...    34   \n",
       "  3  Bye Bye Bye - From Deadpool and Wolverine Soun...    38   \n",
       "  4  Bye Bye Bye - From Deadpool and Wolverine Soun...    47   \n",
       "\n",
       "                                      uri source  peak_rank  previous_rank  \\\n",
       "0 0  spotify:track:62bOmKYxYg7dhrC6gH9vFn   Jive         62             -1   \n",
       "  1  spotify:track:62bOmKYxYg7dhrC6gH9vFn   Jive         28             62   \n",
       "  2  spotify:track:62bOmKYxYg7dhrC6gH9vFn   Jive         28             28   \n",
       "  3  spotify:track:62bOmKYxYg7dhrC6gH9vFn   Jive         28             34   \n",
       "  4  spotify:track:62bOmKYxYg7dhrC6gH9vFn   Jive         28             38   \n",
       "\n",
       "     weeks_on_chart  streams    End Date  Week  Year End Date Dt  \\\n",
       "0 0               1  1736210  2024-08-01    31  2024  2024-08-01   \n",
       "  1               2  2690854  2024-08-08    32  2024  2024-08-08   \n",
       "  2               3  2505969  2024-08-15    33  2024  2024-08-15   \n",
       "  3               4  2214202  2024-08-22    34  2024  2024-08-22   \n",
       "  4               5  2083819  2024-08-29    35  2024  2024-08-29   \n",
       "\n",
       "     Seconds since Epoch End Date Aggregated  ArtistCount main_artist  \\\n",
       "0 0         1.722470e+09          2024-08-01            1      *NSYNC   \n",
       "  1         1.723075e+09          2024-08-01            1      *NSYNC   \n",
       "  2         1.723680e+09          2024-08-01            1      *NSYNC   \n",
       "  3         1.724285e+09          2024-08-01            1      *NSYNC   \n",
       "  4         1.724890e+09          2024-08-01            1      *NSYNC   \n",
       "\n",
       "     isTopTen  \n",
       "0 0         0  \n",
       "  1         0  \n",
       "  2         0  \n",
       "  3         0  \n",
       "  4         0  "
      ]
     },
     "execution_count": 40,
     "metadata": {},
     "output_type": "execute_result"
    }
   ],
   "source": [
    "the_spotify_data.head()"
   ]
  },
  {
   "cell_type": "markdown",
   "metadata": {},
   "source": [
    "#### Track Appearance Count"
   ]
  },
  {
   "cell_type": "code",
   "execution_count": 42,
   "metadata": {},
   "outputs": [
    {
     "name": "stderr",
     "output_type": "stream",
     "text": [
      "C:\\Users\\lkhum\\AppData\\Local\\Temp\\ipykernel_26684\\2047836851.py:17: DeprecationWarning: DataFrameGroupBy.apply operated on the grouping columns. This behavior is deprecated, and in a future version of pandas the grouping columns will be excluded from the operation. Either pass `include_groups=False` to exclude the groupings or explicitly select the grouping columns after groupby to silence this warning.\n",
      "  the_spotify_data =the_spotify_data.groupby([\"artist_names\", \"track_name\"], as_index=False).apply(lambda x : getTrackAppearanceCount(x))\n"
     ]
    }
   ],
   "source": [
    "def getTrackAppearanceCount(x):\n",
    "\n",
    "    x = x.sort_values(by=['End Date','track_name'], ascending=True)\n",
    "\n",
    "    x = x.reset_index()\n",
    "    # x.drop([\"index\"],axis=1,inplace=True)\n",
    "    x = x.reset_index()\n",
    "    \n",
    "    x_cols = x.columns\n",
    "    \n",
    "    x_cols = [w.replace('index', 'trackAppearanceCount') for w in x_cols]\n",
    "    \n",
    "    x.columns = x_cols\n",
    "    \n",
    "    return x         \n",
    "    \n",
    "the_spotify_data =the_spotify_data.groupby([\"artist_names\", \"track_name\"], as_index=False).apply(lambda x : getTrackAppearanceCount(x))\n",
    "# the_spotify_data = the_spotify_data.reset_index()\n",
    "the_spotify_data.drop([\"level_0\", \"level_1\"], inplace=True, axis=1)\n",
    "# print(the_spotify_data.columns)\n",
    "# stop"
   ]
  },
  {
   "cell_type": "code",
   "execution_count": 43,
   "metadata": {},
   "outputs": [
    {
     "data": {
      "text/html": [
       "<div>\n",
       "<style scoped>\n",
       "    .dataframe tbody tr th:only-of-type {\n",
       "        vertical-align: middle;\n",
       "    }\n",
       "\n",
       "    .dataframe tbody tr th {\n",
       "        vertical-align: top;\n",
       "    }\n",
       "\n",
       "    .dataframe thead th {\n",
       "        text-align: right;\n",
       "    }\n",
       "</style>\n",
       "<table border=\"1\" class=\"dataframe\">\n",
       "  <thead>\n",
       "    <tr style=\"text-align: right;\">\n",
       "      <th></th>\n",
       "      <th></th>\n",
       "      <th>trackAppearanceCount</th>\n",
       "      <th>artistAppearanceCount</th>\n",
       "      <th>artist_names</th>\n",
       "      <th>track_name</th>\n",
       "      <th>rank</th>\n",
       "      <th>uri</th>\n",
       "      <th>source</th>\n",
       "      <th>peak_rank</th>\n",
       "      <th>previous_rank</th>\n",
       "      <th>weeks_on_chart</th>\n",
       "      <th>streams</th>\n",
       "      <th>End Date</th>\n",
       "      <th>Week</th>\n",
       "      <th>Year</th>\n",
       "      <th>End Date Dt</th>\n",
       "      <th>Seconds since Epoch</th>\n",
       "      <th>End Date Aggregated</th>\n",
       "      <th>ArtistCount</th>\n",
       "      <th>main_artist</th>\n",
       "      <th>isTopTen</th>\n",
       "    </tr>\n",
       "  </thead>\n",
       "  <tbody>\n",
       "    <tr>\n",
       "      <th rowspan=\"5\" valign=\"top\">0</th>\n",
       "      <th>0</th>\n",
       "      <td>0</td>\n",
       "      <td>0</td>\n",
       "      <td>*NSYNC</td>\n",
       "      <td>Bye Bye Bye - From Deadpool and Wolverine Soun...</td>\n",
       "      <td>62</td>\n",
       "      <td>spotify:track:62bOmKYxYg7dhrC6gH9vFn</td>\n",
       "      <td>Jive</td>\n",
       "      <td>62</td>\n",
       "      <td>-1</td>\n",
       "      <td>1</td>\n",
       "      <td>1736210</td>\n",
       "      <td>2024-08-01</td>\n",
       "      <td>31</td>\n",
       "      <td>2024</td>\n",
       "      <td>2024-08-01</td>\n",
       "      <td>1.722470e+09</td>\n",
       "      <td>2024-08-01</td>\n",
       "      <td>1</td>\n",
       "      <td>*NSYNC</td>\n",
       "      <td>0</td>\n",
       "    </tr>\n",
       "    <tr>\n",
       "      <th>1</th>\n",
       "      <td>1</td>\n",
       "      <td>1</td>\n",
       "      <td>*NSYNC</td>\n",
       "      <td>Bye Bye Bye - From Deadpool and Wolverine Soun...</td>\n",
       "      <td>28</td>\n",
       "      <td>spotify:track:62bOmKYxYg7dhrC6gH9vFn</td>\n",
       "      <td>Jive</td>\n",
       "      <td>28</td>\n",
       "      <td>62</td>\n",
       "      <td>2</td>\n",
       "      <td>2690854</td>\n",
       "      <td>2024-08-08</td>\n",
       "      <td>32</td>\n",
       "      <td>2024</td>\n",
       "      <td>2024-08-08</td>\n",
       "      <td>1.723075e+09</td>\n",
       "      <td>2024-08-01</td>\n",
       "      <td>1</td>\n",
       "      <td>*NSYNC</td>\n",
       "      <td>0</td>\n",
       "    </tr>\n",
       "    <tr>\n",
       "      <th>2</th>\n",
       "      <td>2</td>\n",
       "      <td>2</td>\n",
       "      <td>*NSYNC</td>\n",
       "      <td>Bye Bye Bye - From Deadpool and Wolverine Soun...</td>\n",
       "      <td>34</td>\n",
       "      <td>spotify:track:62bOmKYxYg7dhrC6gH9vFn</td>\n",
       "      <td>Jive</td>\n",
       "      <td>28</td>\n",
       "      <td>28</td>\n",
       "      <td>3</td>\n",
       "      <td>2505969</td>\n",
       "      <td>2024-08-15</td>\n",
       "      <td>33</td>\n",
       "      <td>2024</td>\n",
       "      <td>2024-08-15</td>\n",
       "      <td>1.723680e+09</td>\n",
       "      <td>2024-08-01</td>\n",
       "      <td>1</td>\n",
       "      <td>*NSYNC</td>\n",
       "      <td>0</td>\n",
       "    </tr>\n",
       "    <tr>\n",
       "      <th>3</th>\n",
       "      <td>3</td>\n",
       "      <td>3</td>\n",
       "      <td>*NSYNC</td>\n",
       "      <td>Bye Bye Bye - From Deadpool and Wolverine Soun...</td>\n",
       "      <td>38</td>\n",
       "      <td>spotify:track:62bOmKYxYg7dhrC6gH9vFn</td>\n",
       "      <td>Jive</td>\n",
       "      <td>28</td>\n",
       "      <td>34</td>\n",
       "      <td>4</td>\n",
       "      <td>2214202</td>\n",
       "      <td>2024-08-22</td>\n",
       "      <td>34</td>\n",
       "      <td>2024</td>\n",
       "      <td>2024-08-22</td>\n",
       "      <td>1.724285e+09</td>\n",
       "      <td>2024-08-01</td>\n",
       "      <td>1</td>\n",
       "      <td>*NSYNC</td>\n",
       "      <td>0</td>\n",
       "    </tr>\n",
       "    <tr>\n",
       "      <th>4</th>\n",
       "      <td>4</td>\n",
       "      <td>4</td>\n",
       "      <td>*NSYNC</td>\n",
       "      <td>Bye Bye Bye - From Deadpool and Wolverine Soun...</td>\n",
       "      <td>47</td>\n",
       "      <td>spotify:track:62bOmKYxYg7dhrC6gH9vFn</td>\n",
       "      <td>Jive</td>\n",
       "      <td>28</td>\n",
       "      <td>38</td>\n",
       "      <td>5</td>\n",
       "      <td>2083819</td>\n",
       "      <td>2024-08-29</td>\n",
       "      <td>35</td>\n",
       "      <td>2024</td>\n",
       "      <td>2024-08-29</td>\n",
       "      <td>1.724890e+09</td>\n",
       "      <td>2024-08-01</td>\n",
       "      <td>1</td>\n",
       "      <td>*NSYNC</td>\n",
       "      <td>0</td>\n",
       "    </tr>\n",
       "  </tbody>\n",
       "</table>\n",
       "</div>"
      ],
      "text/plain": [
       "     trackAppearanceCount  artistAppearanceCount artist_names  \\\n",
       "0 0                     0                      0       *NSYNC   \n",
       "  1                     1                      1       *NSYNC   \n",
       "  2                     2                      2       *NSYNC   \n",
       "  3                     3                      3       *NSYNC   \n",
       "  4                     4                      4       *NSYNC   \n",
       "\n",
       "                                            track_name  rank  \\\n",
       "0 0  Bye Bye Bye - From Deadpool and Wolverine Soun...    62   \n",
       "  1  Bye Bye Bye - From Deadpool and Wolverine Soun...    28   \n",
       "  2  Bye Bye Bye - From Deadpool and Wolverine Soun...    34   \n",
       "  3  Bye Bye Bye - From Deadpool and Wolverine Soun...    38   \n",
       "  4  Bye Bye Bye - From Deadpool and Wolverine Soun...    47   \n",
       "\n",
       "                                      uri source  peak_rank  previous_rank  \\\n",
       "0 0  spotify:track:62bOmKYxYg7dhrC6gH9vFn   Jive         62             -1   \n",
       "  1  spotify:track:62bOmKYxYg7dhrC6gH9vFn   Jive         28             62   \n",
       "  2  spotify:track:62bOmKYxYg7dhrC6gH9vFn   Jive         28             28   \n",
       "  3  spotify:track:62bOmKYxYg7dhrC6gH9vFn   Jive         28             34   \n",
       "  4  spotify:track:62bOmKYxYg7dhrC6gH9vFn   Jive         28             38   \n",
       "\n",
       "     weeks_on_chart  streams    End Date  Week  Year End Date Dt  \\\n",
       "0 0               1  1736210  2024-08-01    31  2024  2024-08-01   \n",
       "  1               2  2690854  2024-08-08    32  2024  2024-08-08   \n",
       "  2               3  2505969  2024-08-15    33  2024  2024-08-15   \n",
       "  3               4  2214202  2024-08-22    34  2024  2024-08-22   \n",
       "  4               5  2083819  2024-08-29    35  2024  2024-08-29   \n",
       "\n",
       "     Seconds since Epoch End Date Aggregated  ArtistCount main_artist  \\\n",
       "0 0         1.722470e+09          2024-08-01            1      *NSYNC   \n",
       "  1         1.723075e+09          2024-08-01            1      *NSYNC   \n",
       "  2         1.723680e+09          2024-08-01            1      *NSYNC   \n",
       "  3         1.724285e+09          2024-08-01            1      *NSYNC   \n",
       "  4         1.724890e+09          2024-08-01            1      *NSYNC   \n",
       "\n",
       "     isTopTen  \n",
       "0 0         0  \n",
       "  1         0  \n",
       "  2         0  \n",
       "  3         0  \n",
       "  4         0  "
      ]
     },
     "execution_count": 43,
     "metadata": {},
     "output_type": "execute_result"
    }
   ],
   "source": [
    "the_spotify_data.head()"
   ]
  },
  {
   "cell_type": "code",
   "execution_count": 44,
   "metadata": {},
   "outputs": [],
   "source": [
    "the_spotify_data.to_csv(\"the_spotify_data_\" + locale_name+ \".csv\")"
   ]
  },
  {
   "cell_type": "code",
   "execution_count": 45,
   "metadata": {},
   "outputs": [],
   "source": [
    "the_spotify_data[\"rank\"] = the_spotify_data[\"rank\"].astype(int)\n",
    "the_spotify_data[\"streams\"] = the_spotify_data[\"streams\"].astype(int)\n",
    "the_spotify_data[\"ArtistCount\"] = the_spotify_data[\"ArtistCount\"].astype(int)\n",
    "\n",
    "the_spotify_data[\"isTopTen\"] = the_spotify_data[\"isTopTen\"].astype(int)\n",
    "# the_spotify_data[\"lenOnCharts\"] = the_spotify_data[\"lenOnCharts\"].astype(int)\n",
    "the_spotify_data[\"Year\"] = the_spotify_data[\"Year\"].astype(int)\n",
    "the_spotify_data[\"Week\"] = the_spotify_data[\"Week\"].astype(int)"
   ]
  },
  {
   "cell_type": "code",
   "execution_count": 46,
   "metadata": {},
   "outputs": [],
   "source": [
    "all_cols = list(the_spotify_data.columns)\n",
    "drop_cols = []\n",
    "\n",
    "for col in all_cols:\n",
    "    if(\"Unnamed\" in col or \"artificial\" in col):\n",
    "        drop_cols.append(col)\n",
    "        \n",
    "the_spotify_data.drop(drop_cols, axis=1, inplace = True)"
   ]
  },
  {
   "cell_type": "code",
   "execution_count": 47,
   "metadata": {},
   "outputs": [],
   "source": [
    "the_spotify_data[\"Artist and Track\"] = the_spotify_data[\"artist_names\"] + \"; \" + the_spotify_data[\"track_name\"]"
   ]
  },
  {
   "cell_type": "markdown",
   "metadata": {},
   "source": [
    "### Getting the list of Artists and Tracks"
   ]
  },
  {
   "cell_type": "code",
   "execution_count": 49,
   "metadata": {},
   "outputs": [],
   "source": [
    "import pandas as pd\n",
    "# import pymongo\n",
    "# import getlyrics"
   ]
  },
  {
   "cell_type": "code",
   "execution_count": 50,
   "metadata": {},
   "outputs": [
    {
     "name": "stderr",
     "output_type": "stream",
     "text": [
      "C:\\Users\\lkhum\\AppData\\Local\\Temp\\ipykernel_26684\\2368203610.py:18: DeprecationWarning: DataFrameGroupBy.apply operated on the grouping columns. This behavior is deprecated, and in a future version of pandas the grouping columns will be excluded from the operation. Either pass `include_groups=False` to exclude the groupings or explicitly select the grouping columns after groupby to silence this warning.\n",
      "  all_files_grouped = the_spotify_data.groupby([\"main_artist\", \"track_name\"]).apply(lambda x: trackAppearance(x))\n"
     ]
    }
   ],
   "source": [
    "def trackAppearance(x):\n",
    "#     x = x.reset_index()\n",
    "\n",
    "    x = x.sort_values(by=[\"End Date\"])\n",
    "#     x.set_index([\"Position\"])\n",
    "\n",
    "    x[\"rank\"] = x[\"rank\"].astype(int)\n",
    "#     print(list(x[\"Position\"]))\n",
    "    \n",
    "    x[\"rank difference\"] = x[\"rank\"].diff().fillna(0)\n",
    "    x[\"rank difference\"] = x[\"rank difference\"].astype(int)\n",
    "    \n",
    "#     x[\"Position Difference\"] = x[\"Position\"].sub(x[\"Position\"].shift())\n",
    "#     x.drop([\"index\"], inplace=True)\n",
    "    \n",
    "    return x\n",
    "    \n",
    "all_files_grouped = the_spotify_data.groupby([\"main_artist\", \"track_name\"]).apply(lambda x: trackAppearance(x))"
   ]
  },
  {
   "cell_type": "code",
   "execution_count": 51,
   "metadata": {},
   "outputs": [
    {
     "data": {
      "text/plain": [
       "179"
      ]
     },
     "execution_count": 51,
     "metadata": {},
     "output_type": "execute_result"
    }
   ],
   "source": [
    "all_files_grouped[\"rank difference\"].max()"
   ]
  },
  {
   "cell_type": "markdown",
   "metadata": {},
   "source": [
    "### Position over time"
   ]
  },
  {
   "cell_type": "code",
   "execution_count": 53,
   "metadata": {},
   "outputs": [],
   "source": [
    "def positionvertime(x):\n",
    "    posovertime = 0\n",
    "    #new track\n",
    "    if(x[\"rank difference\"] == 0 and x[\"trackAppearanceCount\"]==0):\n",
    "        posovertime = 0\n",
    "    #track stayed in the same position\n",
    "    elif(x[\"rank difference\"] == 0 and x[\"trackAppearanceCount\"]!=0):\n",
    "        posovertime = 50\n",
    "    #track went up the chart\n",
    "    elif(x[\"rank difference\"] < 0):\n",
    "        posovertime = 75\n",
    "    #track fell down the chart\n",
    "    else:\n",
    "        posovertime = 100\n",
    "    return posovertime"
   ]
  },
  {
   "cell_type": "code",
   "execution_count": 54,
   "metadata": {},
   "outputs": [],
   "source": [
    "all_files_grouped[\"Position over Time\"] = all_files_grouped.apply(lambda x : positionvertime(x), axis=1)"
   ]
  },
  {
   "cell_type": "markdown",
   "metadata": {},
   "source": [
    "##### Add a Girl Group and Boy Group"
   ]
  },
  {
   "cell_type": "code",
   "execution_count": 56,
   "metadata": {},
   "outputs": [],
   "source": [
    "ggdf = pd.read_csv(\"Classification/ListofGirlGroups.csv\", encoding='ANSI')\n",
    "bgdf = pd.read_csv(\"Classification/ListofBoyGroups.csv\", on_bad_lines='skip', encoding='ANSI')"
   ]
  },
  {
   "cell_type": "code",
   "execution_count": 57,
   "metadata": {},
   "outputs": [],
   "source": [
    "def IsGG(ggdf, y):\n",
    "    ggs = [x.lower().strip() for x in ggdf[\"Artist\"]]\n",
    "    y = y.lower().strip()\n",
    "    \n",
    "    if y in ggs:\n",
    "        return True\n",
    "    else:\n",
    "        return False\n",
    "\n",
    "def IsBG(bgdf, y):\n",
    "    bgs = [x.lower().strip() for x in bgdf[\"Artist\"]]\n",
    "    y = y.lower().strip()\n",
    "    \n",
    "    if y in bgs:\n",
    "        return True\n",
    "    else:\n",
    "        return False"
   ]
  },
  {
   "cell_type": "code",
   "execution_count": 58,
   "metadata": {},
   "outputs": [],
   "source": [
    "all_files_grouped[\"IsGirlGroup\"] = all_files_grouped[\"main_artist\"].apply(lambda x : IsGG(ggdf, x))\n",
    "all_files_grouped[\"IsBoyGroup\"] = all_files_grouped[\"main_artist\"].apply(lambda x : IsGG(bgdf, x))"
   ]
  },
  {
   "cell_type": "code",
   "execution_count": 59,
   "metadata": {},
   "outputs": [],
   "source": [
    "ggs = all_files_grouped[all_files_grouped[\"IsGirlGroup\"]==True][\"main_artist\"].unique().tolist()\n",
    "bgs = all_files_grouped[all_files_grouped[\"IsBoyGroup\"]==True][\"main_artist\"].unique().tolist()"
   ]
  },
  {
   "cell_type": "code",
   "execution_count": 60,
   "metadata": {},
   "outputs": [],
   "source": [
    "# all_files_grouped.drop([\"level_2\"], inplace=True, axis=1)"
   ]
  },
  {
   "cell_type": "code",
   "execution_count": 61,
   "metadata": {},
   "outputs": [],
   "source": [
    "all_files_grouped.to_csv(\"Classification/all_files_\"+locale_name+\"v1.csv\", index=False)"
   ]
  },
  {
   "cell_type": "code",
   "execution_count": 62,
   "metadata": {},
   "outputs": [
    {
     "data": {
      "text/plain": [
       "Index(['trackAppearanceCount', 'artistAppearanceCount', 'artist_names',\n",
       "       'track_name', 'rank', 'uri', 'source', 'peak_rank', 'previous_rank',\n",
       "       'weeks_on_chart', 'streams', 'End Date', 'Week', 'Year', 'End Date Dt',\n",
       "       'Seconds since Epoch', 'End Date Aggregated', 'ArtistCount',\n",
       "       'main_artist', 'isTopTen', 'Artist and Track', 'rank difference',\n",
       "       'Position over Time', 'IsGirlGroup', 'IsBoyGroup'],\n",
       "      dtype='object')"
      ]
     },
     "execution_count": 62,
     "metadata": {},
     "output_type": "execute_result"
    }
   ],
   "source": [
    "all_files_grouped.columns"
   ]
  },
  {
   "cell_type": "code",
   "execution_count": 63,
   "metadata": {},
   "outputs": [
    {
     "name": "stdout",
     "output_type": "stream",
     "text": [
      "done.\n"
     ]
    }
   ],
   "source": [
    "print(\"done.\")"
   ]
  }
 ],
 "metadata": {
  "kernelspec": {
   "display_name": "Python 3 (ipykernel)",
   "language": "python",
   "name": "python3"
  },
  "language_info": {
   "codemirror_mode": {
    "name": "ipython",
    "version": 3
   },
   "file_extension": ".py",
   "mimetype": "text/x-python",
   "name": "python",
   "nbconvert_exporter": "python",
   "pygments_lexer": "ipython3",
   "version": "3.12.7"
  }
 },
 "nbformat": 4,
 "nbformat_minor": 4
}
