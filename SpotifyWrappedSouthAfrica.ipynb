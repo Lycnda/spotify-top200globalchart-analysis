{
 "cells": [
  {
   "cell_type": "code",
   "execution_count": 1,
   "metadata": {},
   "outputs": [],
   "source": [
    "import pandas as pd\n",
    "import glob2\n",
    "import matplotlib.pyplot as plt\n",
    "import datetime\n",
    "import re\n",
    "from datetime import datetime, timedelta\n",
    "%matplotlib inline"
   ]
  },
  {
   "cell_type": "code",
   "execution_count": 2,
   "metadata": {},
   "outputs": [],
   "source": [
    "all_files = pd.read_csv(\"Classification/all_files_ZAv1.csv\")"
   ]
  },
  {
   "cell_type": "code",
   "execution_count": 3,
   "metadata": {},
   "outputs": [
    {
     "data": {
      "text/plain": [
       "(Index(['trackAppearanceCount', 'artistAppearanceCount', 'rank', 'uri',\n",
       "        'artist_names', 'track_name', 'source', 'peak_rank', 'previous_rank',\n",
       "        'weeks_on_chart', 'streams', 'End Date', 'Week', 'Year', 'End Date Dt',\n",
       "        'Seconds since Epoch', 'End Date Aggregated', 'ArtistCount',\n",
       "        'main_artist', 'isTopTen', 'Artist and Track', 'rank difference',\n",
       "        'Position over Time'],\n",
       "       dtype='object'),\n",
       " (49486, 23))"
      ]
     },
     "execution_count": 3,
     "metadata": {},
     "output_type": "execute_result"
    }
   ],
   "source": [
    "all_files.columns, all_files.shape"
   ]
  },
  {
   "cell_type": "code",
   "execution_count": 9,
   "metadata": {},
   "outputs": [],
   "source": [
    "def groupbysum(all_files, year, relevantcols, grouplist, sumcol, sortcol, isascending, filepath):\n",
    "\n",
    "    za2022 = all_files[all_files[\"Year\"] == year]\n",
    "\n",
    "    print(za2022.shape)\n",
    "\n",
    "    za2022df = za2022[relevantcols].groupby(grouplist)[sumcol].apply(sum)\n",
    "\n",
    "    za2022dsummed = za2022df.reset_index()\n",
    "\n",
    "    zasummedsorted = za2022dsummed.sort_values(by=sortcol, ascending=isascending)\n",
    "\n",
    "    zasummedsortedfin = zasummedsorted.reset_index().drop([\"index\"], axis=1)\n",
    "\n",
    "    zasummedsortedfin.to_csv(filepath,index=False)\n",
    "    \n",
    "    return zasummedsortedfin"
   ]
  },
  {
   "cell_type": "code",
   "execution_count": 10,
   "metadata": {},
   "outputs": [
    {
     "name": "stdout",
     "output_type": "stream",
     "text": [
      "(10000, 23)\n"
     ]
    }
   ],
   "source": [
    "relevantcols = ['main_artist', 'track_name','streams']\n",
    "grouplist = ['main_artist', 'track_name']\n",
    "sumcol = 'streams'\n",
    "sortcol = 'streams'\n",
    "isascending = False\n",
    "filepath = \"Classification/sorted_ZA2022.csv\"\n",
    "zasummedsortedfin = groupbysum(all_files, 2022, relevantcols, grouplist, sumcol, sortcol, isascending, filepath)"
   ]
  },
  {
   "cell_type": "code",
   "execution_count": 11,
   "metadata": {},
   "outputs": [
    {
     "name": "stdout",
     "output_type": "stream",
     "text": [
      "(10000, 23)\n"
     ]
    }
   ],
   "source": [
    "relevantcols = ['main_artist','streams']\n",
    "grouplist = ['main_artist']\n",
    "sumcol = 'streams'\n",
    "sortcol = 'streams'\n",
    "isascending = False\n",
    "filepath = \"Classification/sortedbyartistsonlyZA2022.csv\"\n",
    "zasummedsortedfin = groupbysum(all_files, 2022, relevantcols, grouplist, sumcol, sortcol, isascending, filepath)"
   ]
  },
  {
   "cell_type": "code",
   "execution_count": null,
   "metadata": {},
   "outputs": [],
   "source": []
  },
  {
   "cell_type": "code",
   "execution_count": null,
   "metadata": {},
   "outputs": [],
   "source": []
  }
 ],
 "metadata": {
  "kernelspec": {
   "display_name": "Python 3 (ipykernel)",
   "language": "python",
   "name": "python3"
  },
  "language_info": {
   "codemirror_mode": {
    "name": "ipython",
    "version": 3
   },
   "file_extension": ".py",
   "mimetype": "text/x-python",
   "name": "python",
   "nbconvert_exporter": "python",
   "pygments_lexer": "ipython3",
   "version": "3.9.13"
  }
 },
 "nbformat": 4,
 "nbformat_minor": 4
}
