{
 "cells": [
  {
   "cell_type": "code",
   "execution_count": 1,
   "id": "411db12c",
   "metadata": {},
   "outputs": [],
   "source": [
    "import pandas as pd"
   ]
  },
  {
   "cell_type": "code",
   "execution_count": 2,
   "id": "01b86c6a",
   "metadata": {},
   "outputs": [],
   "source": [
    "dfglobal = pd.read_csv(\"Classification/all_files_globalv1.csv\")\n",
    "dfza = pd.read_csv(\"Classification/all_files_ZAv1.csv\")\n",
    "dfskr = pd.read_csv(\"Classification/all_files_skrv1.csv\")\n",
    "\n",
    "dfskr=dfskr.drop_duplicates()"
   ]
  },
  {
   "cell_type": "code",
   "execution_count": 3,
   "id": "c1221fa7",
   "metadata": {},
   "outputs": [],
   "source": [
    "artistsbystreams = dfskr.groupby([\"main_artist\"])[\"streams\"].sum()\n",
    "artistsbystreamssorted = pd.DataFrame(artistsbystreams.sort_values(ascending=False))\n",
    "artistsbystreamssorted=artistsbystreamssorted.reset_index()"
   ]
  },
  {
   "cell_type": "code",
   "execution_count": 4,
   "id": "678caa95",
   "metadata": {},
   "outputs": [],
   "source": [
    "groupname=[\"bts\", \"blackpink\"]\n",
    "groups = [[\"v\", \"jimin\", \"jin\", 'jung kook', 'agust d', 'j-hope', 'rm'], [\"jennie\", 'jisoo', 'lisa', 'ros']]\n",
    "groupsuppercase = [[\"V\", \"Jimin\", \"Jin\", 'Jung Kook', 'Agust D', 'j-hope', 'RM'], [\"JENNIE\", 'JISOO', 'LISA', 'ROS']]\n",
    "dfskr['lower_main_artist'] = dfskr['main_artist'].apply(lambda x :x.lower())\n",
    "idx = 1\n",
    "\n",
    "rslt_df = dfskr[dfskr['lower_main_artist'].isin(groups[idx])]\n",
    "rslt_df['main_artist'].unique().tolist()\n",
    "\n",
    "rslt_df = rslt_df[rslt_df['main_artist'] != 'LiSA']"
   ]
  },
  {
   "cell_type": "code",
   "execution_count": 5,
   "id": "71be422e",
   "metadata": {},
   "outputs": [
    {
     "data": {
      "text/plain": [
       "['JENNIE', 'JISOO', 'LISA', 'ROS']"
      ]
     },
     "execution_count": 5,
     "metadata": {},
     "output_type": "execute_result"
    }
   ],
   "source": [
    "rslt_df[\"main_artist\"].unique().tolist()"
   ]
  },
  {
   "cell_type": "markdown",
   "id": "37e720e5",
   "metadata": {},
   "source": [
    "### Number of songs"
   ]
  },
  {
   "cell_type": "code",
   "execution_count": 7,
   "id": "1b7c1b2f",
   "metadata": {},
   "outputs": [],
   "source": [
    "rslt_df[[\"main_artist\",\"track_name\"]].drop_duplicates()\n",
    "\n",
    "numsongsdf = pd.DataFrame(rslt_df.groupby([\"main_artist\",\"track_name\"])[\"track_name\"].count())\n",
    "numsongsdf.columns = [\"appearances\"]\n",
    "numsongsdf = numsongsdf.reset_index()\n",
    "numsongscount = pd.DataFrame(numsongsdf.groupby([\"main_artist\"])[\"track_name\"].count())\n",
    "numsongscount.columns = [\"num_songs\"]\n",
    "numsongscountdf = numsongscount.reset_index()"
   ]
  },
  {
   "cell_type": "markdown",
   "id": "c799cb7c",
   "metadata": {},
   "source": [
    "### Number of appearances"
   ]
  },
  {
   "cell_type": "code",
   "execution_count": 9,
   "id": "38818f64",
   "metadata": {},
   "outputs": [],
   "source": [
    "numappearancescount = pd.DataFrame(numsongsdf.groupby([\"main_artist\"])[\"appearances\"].sum())\n",
    "numappearancescountdf = numappearancescount.reset_index()"
   ]
  },
  {
   "cell_type": "markdown",
   "id": "b650cbd9",
   "metadata": {},
   "source": [
    "### Streams per artist"
   ]
  },
  {
   "cell_type": "code",
   "execution_count": 11,
   "id": "1ab98824",
   "metadata": {},
   "outputs": [],
   "source": [
    "numstreamsdf = pd.DataFrame(rslt_df.groupby([\"main_artist\"])[\"streams\"].sum())\n",
    "numstreamsdf.columns = [\"streams_sum\"]\n",
    "numstreamsdf = numstreamsdf.reset_index()"
   ]
  },
  {
   "cell_type": "markdown",
   "id": "c135e1c1",
   "metadata": {},
   "source": [
    "### Years on the chart"
   ]
  },
  {
   "cell_type": "code",
   "execution_count": 13,
   "id": "e98507f1",
   "metadata": {},
   "outputs": [],
   "source": [
    "yrsonchartdf = pd.DataFrame(rslt_df.groupby([\"main_artist\"])[\"Year\"].nunique())\n",
    "yrsonchartdf.columns = [\"yrsonchart\"]\n",
    "yrsonchartdf = yrsonchartdf.reset_index()"
   ]
  },
  {
   "cell_type": "markdown",
   "id": "728798f9",
   "metadata": {},
   "source": [
    "### Collaborators"
   ]
  },
  {
   "cell_type": "code",
   "execution_count": 15,
   "id": "554372af",
   "metadata": {},
   "outputs": [],
   "source": [
    "thegrp = groupsuppercase[idx]\n",
    "thecollaboratorsdict = {}\n",
    "for aval in thegrp:\n",
    "    rslt_dfoneartist = pd.DataFrame(rslt_df[rslt_df[\"main_artist\"]==aval][\"artist_names\"])\n",
    "    rslt_dfoneartist = rslt_dfoneartist.drop_duplicates()\n",
    "\n",
    "    thecolls = []\n",
    "    for theval in rslt_dfoneartist[\"artist_names\"].unique().tolist():\n",
    "        splitvals = theval.split(\",\")\n",
    "        thecollaborators = list(set(splitvals) - set([aval]))\n",
    "\n",
    "        for thec in thecollaborators:\n",
    "            thec = thec.strip()\n",
    "            thecolls.append(thec)\n",
    "    thecolls=list(set(thecolls))\n",
    "    thecollaboratorsdict[aval] = [thecolls, len(thecolls)]\n",
    "    \n",
    "finnumcollabs = []\n",
    "for aval in thegrp:\n",
    "    finnumcollabs.append([aval, thecollaboratorsdict[aval][1]])\n",
    "numcollabsdf = pd.DataFrame(finnumcollabs, columns=[\"main_artist\", \"num_collaborators\"])"
   ]
  },
  {
   "cell_type": "code",
   "execution_count": 16,
   "id": "435c5d7c",
   "metadata": {},
   "outputs": [],
   "source": [
    "# thecollaboratorsdict[\"Jung Kook\"]"
   ]
  },
  {
   "cell_type": "markdown",
   "id": "cd33ea3b",
   "metadata": {},
   "source": [
    "### FINAL DATAFRAME"
   ]
  },
  {
   "cell_type": "code",
   "execution_count": 18,
   "id": "9a703eda",
   "metadata": {},
   "outputs": [],
   "source": [
    "numappandsongs = numappearancescountdf.merge(numsongscountdf, left_on=[\"main_artist\"], right_on=[\"main_artist\"], how=\"inner\")\n",
    "numappstreamssongs = numstreamsdf.merge(numappandsongs, left_on=[\"main_artist\"], right_on=[\"main_artist\"], how=\"inner\")\n",
    "numappstreamssongsyrs = numappstreamssongs.merge(yrsonchartdf, left_on=[\"main_artist\"], right_on=[\"main_artist\"], how=\"inner\")\n",
    "numappstreamssongsyrscollabs = numappstreamssongsyrs.merge(numcollabsdf, left_on=[\"main_artist\"], right_on=[\"main_artist\"], how=\"left\")\n",
    "numappstreamssongsyrscollabs.to_csv(\"Classification/numappstreamssongsyrs\" + groupname[idx] + \".csv\", index=False)"
   ]
  },
  {
   "cell_type": "code",
   "execution_count": null,
   "id": "4014b4e4",
   "metadata": {},
   "outputs": [],
   "source": []
  }
 ],
 "metadata": {
  "kernelspec": {
   "display_name": "Python 3 (ipykernel)",
   "language": "python",
   "name": "python3"
  },
  "language_info": {
   "codemirror_mode": {
    "name": "ipython",
    "version": 3
   },
   "file_extension": ".py",
   "mimetype": "text/x-python",
   "name": "python",
   "nbconvert_exporter": "python",
   "pygments_lexer": "ipython3",
   "version": "3.12.7"
  }
 },
 "nbformat": 4,
 "nbformat_minor": 5
}
