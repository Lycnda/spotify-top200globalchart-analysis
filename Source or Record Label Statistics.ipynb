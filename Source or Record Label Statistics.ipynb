{
 "cells": [
  {
   "cell_type": "code",
   "execution_count": 1,
   "id": "f7e3de37",
   "metadata": {},
   "outputs": [],
   "source": [
    "import pandas as pd\n",
    "import json\n",
    "import string"
   ]
  },
  {
   "cell_type": "code",
   "execution_count": 2,
   "id": "6e8e2bcf",
   "metadata": {},
   "outputs": [],
   "source": [
    "chart_name = \"ZAv1\"\n",
    "chart_name = \"globalv1\""
   ]
  },
  {
   "cell_type": "code",
   "execution_count": 3,
   "id": "e71547af",
   "metadata": {},
   "outputs": [],
   "source": [
    "# all_files_za = pd.read_csv(\"Classification/all_files_\" + chart_name + \".csv\")"
   ]
  },
  {
   "cell_type": "code",
   "execution_count": 4,
   "id": "2951485d",
   "metadata": {},
   "outputs": [],
   "source": [
    "all_files_za = pd.read_csv(\"Classification/all_files_\" + chart_name + \".csv\")"
   ]
  },
  {
   "cell_type": "code",
   "execution_count": 5,
   "id": "64003417",
   "metadata": {},
   "outputs": [
    {
     "data": {
      "text/plain": [
       "Index(['trackAppearanceCount', 'artistAppearanceCount', 'rank', 'uri',\n",
       "       'artist_names', 'track_name', 'source', 'peak_rank', 'previous_rank',\n",
       "       'weeks_on_chart', 'streams', 'End Date', 'Week', 'Year', 'End Date Dt',\n",
       "       'Seconds since Epoch', 'End Date Aggregated', 'ArtistCount',\n",
       "       'main_artist', 'isTopTen', 'Artist and Track', 'rank difference',\n",
       "       'lower_main_artist', 'Position over Time'],\n",
       "      dtype='object')"
      ]
     },
     "execution_count": 5,
     "metadata": {},
     "output_type": "execute_result"
    }
   ],
   "source": [
    "all_files_za.columns"
   ]
  },
  {
   "cell_type": "code",
   "execution_count": 6,
   "id": "84b4c02c",
   "metadata": {},
   "outputs": [],
   "source": [
    "all_files_za = all_files_za[[\"End Date\", \"artist_names\", \"main_artist\", \"track_name\", \"streams\", 'source', \"Year\"]]"
   ]
  },
  {
   "cell_type": "code",
   "execution_count": 7,
   "id": "29f3e516",
   "metadata": {},
   "outputs": [],
   "source": [
    "def groupbysum(all_files, year, relevantcols, grouplist, sumcol, sortcol, isascending, isYear, filepath):\n",
    "    if(isYear):\n",
    "        za2022 = all_files[all_files[\"Year\"] == year]\n",
    "    else:\n",
    "        za2022 = all_files\n",
    "\n",
    "#     print(za2022.shape)\n",
    "\n",
    "    za2022df = za2022[relevantcols].groupby(grouplist)[sumcol].apply(sum)\n",
    "\n",
    "    za2022dsummed = za2022df.reset_index()\n",
    "\n",
    "    zasummedsorted = za2022dsummed.sort_values(by=sortcol, ascending=isascending)\n",
    "\n",
    "    zasummedsortedfin = zasummedsorted.reset_index().drop([\"index\"], axis=1)\n",
    "\n",
    "    zasummedsortedfin.to_csv(filepath,index=False)\n",
    "    \n",
    "    return zasummedsortedfin"
   ]
  },
  {
   "cell_type": "code",
   "execution_count": 8,
   "id": "c4534160",
   "metadata": {},
   "outputs": [],
   "source": [
    "relevantcols = ['main_artist','streams', \"source\"]\n",
    "grouplist = ['source']\n",
    "sumcol = 'streams'\n",
    "sortcol = 'streams'\n",
    "isascending = False\n",
    "isYear = False\n",
    "filepath = \"Classification/\"+chart_name+\"sourcefiles.csv\"\n",
    "zasummedsortedstreamssource = groupbysum(all_files_za, 2022, relevantcols, grouplist, sumcol, sortcol, isascending, isYear, filepath)"
   ]
  },
  {
   "cell_type": "code",
   "execution_count": 9,
   "id": "23e68669",
   "metadata": {},
   "outputs": [],
   "source": [
    "# zasummedsortedfin"
   ]
  },
  {
   "cell_type": "code",
   "execution_count": 10,
   "id": "69d90d8b",
   "metadata": {},
   "outputs": [],
   "source": [
    "def groupbyvalue(za2022, idcol, relevantcols, groupcol, countdistinctcol):\n",
    "    za2022df = za2022[relevantcols].groupby([groupcol]).agg({countdistinctcol: pd.Series.nunique})\n",
    "    new2022df = pd.DataFrame(za2022df)\n",
    "    new2022df.columns = [\"count_\" + countdistinctcol]\n",
    "    \n",
    "    new2022df = new2022df.reset_index()\n",
    "    \n",
    "    new2022dfunique = new2022df[[idcol, \"count_\" + countdistinctcol]]\n",
    "    \n",
    "    new2022dfunique = new2022dfunique.drop_duplicates()\n",
    "    \n",
    "    return new2022dfunique\n",
    "\n",
    "def sortvaluesbyorder(new2022dfunique, countdistinctcolname, isascending):\n",
    "    zacountsorted = new2022dfunique.sort_values(by=countdistinctcolname, ascending=isascending)\n",
    "    zacountsorted = zacountsorted.reset_index()\n",
    "    zacountsorted.drop([\"index\"], inplace=True, axis=1)\n",
    "    zacountsorted = zacountsorted.dropna()\n",
    "    \n",
    "    return zacountsorted"
   ]
  },
  {
   "cell_type": "code",
   "execution_count": 11,
   "id": "f78d5d01",
   "metadata": {},
   "outputs": [
    {
     "name": "stdout",
     "output_type": "stream",
     "text": [
      "['source', 'count_main_artist'] (838, 2)\n"
     ]
    }
   ],
   "source": [
    "relevantcols = ['main_artist', 'track_name', 'streams', \"source\"]\n",
    "groupcol = \"source\"\n",
    "countdistinctcol = \"main_artist\"\n",
    "\n",
    "idcol = \"source\"\n",
    "new2022dfunique = groupbyvalue(all_files_za, idcol, relevantcols, groupcol, countdistinctcol)\n",
    "\n",
    "print(list(new2022dfunique.columns), new2022dfunique.shape)\n",
    "\n",
    "countdistinctcolname = \"count_\" + countdistinctcol\n",
    "\n",
    "zacountsortedartistspersource = sortvaluesbyorder(new2022dfunique, countdistinctcolname, False)\n",
    "\n",
    "# zacountsorted.to_csv(\"Classification/sortedsourcesartists_ZA2022.csv\", index=False)"
   ]
  },
  {
   "cell_type": "code",
   "execution_count": 12,
   "id": "9ac6d513",
   "metadata": {},
   "outputs": [
    {
     "name": "stdout",
     "output_type": "stream",
     "text": [
      "['source', 'count_track_name'] (838, 2)\n"
     ]
    }
   ],
   "source": [
    "relevantcols = ['main_artist', 'track_name', 'streams', \"source\"]\n",
    "groupcol = \"source\"\n",
    "countdistinctcol = \"track_name\"\n",
    "\n",
    "idcol = \"source\"\n",
    "new2022dfunique = groupbyvalue(all_files_za, idcol, relevantcols, groupcol, countdistinctcol)\n",
    "\n",
    "print(list(new2022dfunique.columns), new2022dfunique.shape)\n",
    "\n",
    "countdistinctcolname = \"count_\" + countdistinctcol\n",
    "\n",
    "zacountsortedtrackspersource = sortvaluesbyorder(new2022dfunique, countdistinctcolname, False)\n"
   ]
  },
  {
   "cell_type": "code",
   "execution_count": 13,
   "id": "a7e7f4a9",
   "metadata": {},
   "outputs": [],
   "source": [
    "# zasummedsortedfin.shape, zacountsortedartistspersource.shape, zacountsortedtrackspersource.shape"
   ]
  },
  {
   "cell_type": "code",
   "execution_count": 14,
   "id": "053c880e",
   "metadata": {},
   "outputs": [],
   "source": [
    "zasourcedf1 = zasummedsortedstreamssource.merge(zacountsortedartistspersource, left_on=[\"source\"], right_on=[\"source\"], how=\"inner\")"
   ]
  },
  {
   "cell_type": "code",
   "execution_count": 15,
   "id": "6071424d",
   "metadata": {},
   "outputs": [],
   "source": [
    "zasourcedf = zasourcedf1.merge(zacountsortedtrackspersource, left_on=[\"source\"], right_on=[\"source\"], how=\"inner\")"
   ]
  },
  {
   "cell_type": "code",
   "execution_count": 16,
   "id": "e7c79337",
   "metadata": {},
   "outputs": [
    {
     "data": {
      "text/html": [
       "<div>\n",
       "<style scoped>\n",
       "    .dataframe tbody tr th:only-of-type {\n",
       "        vertical-align: middle;\n",
       "    }\n",
       "\n",
       "    .dataframe tbody tr th {\n",
       "        vertical-align: top;\n",
       "    }\n",
       "\n",
       "    .dataframe thead th {\n",
       "        text-align: right;\n",
       "    }\n",
       "</style>\n",
       "<table border=\"1\" class=\"dataframe\">\n",
       "  <thead>\n",
       "    <tr style=\"text-align: right;\">\n",
       "      <th></th>\n",
       "      <th>source</th>\n",
       "      <th>streams</th>\n",
       "      <th>count_main_artist</th>\n",
       "      <th>count_track_name</th>\n",
       "    </tr>\n",
       "  </thead>\n",
       "  <tbody>\n",
       "    <tr>\n",
       "      <th>0</th>\n",
       "      <td>Columbia</td>\n",
       "      <td>37711187917</td>\n",
       "      <td>56</td>\n",
       "      <td>230</td>\n",
       "    </tr>\n",
       "    <tr>\n",
       "      <th>1</th>\n",
       "      <td>Republic Records</td>\n",
       "      <td>27555882345</td>\n",
       "      <td>22</td>\n",
       "      <td>145</td>\n",
       "    </tr>\n",
       "    <tr>\n",
       "      <th>2</th>\n",
       "      <td>Rimas Entertainment LLC</td>\n",
       "      <td>18294105384</td>\n",
       "      <td>9</td>\n",
       "      <td>90</td>\n",
       "    </tr>\n",
       "    <tr>\n",
       "      <th>3</th>\n",
       "      <td>Atlantic Records UK</td>\n",
       "      <td>17993141099</td>\n",
       "      <td>13</td>\n",
       "      <td>73</td>\n",
       "    </tr>\n",
       "    <tr>\n",
       "      <th>4</th>\n",
       "      <td>Atlantic Records</td>\n",
       "      <td>13445634616</td>\n",
       "      <td>38</td>\n",
       "      <td>79</td>\n",
       "    </tr>\n",
       "    <tr>\n",
       "      <th>...</th>\n",
       "      <td>...</td>\n",
       "      <td>...</td>\n",
       "      <td>...</td>\n",
       "      <td>...</td>\n",
       "    </tr>\n",
       "    <tr>\n",
       "      <th>833</th>\n",
       "      <td>Ninetone Records</td>\n",
       "      <td>3125372</td>\n",
       "      <td>1</td>\n",
       "      <td>1</td>\n",
       "    </tr>\n",
       "    <tr>\n",
       "      <th>834</th>\n",
       "      <td>Major Tom's / Atlantic</td>\n",
       "      <td>3111623</td>\n",
       "      <td>1</td>\n",
       "      <td>1</td>\n",
       "    </tr>\n",
       "    <tr>\n",
       "      <th>835</th>\n",
       "      <td>MCI</td>\n",
       "      <td>3052833</td>\n",
       "      <td>1</td>\n",
       "      <td>1</td>\n",
       "    </tr>\n",
       "    <tr>\n",
       "      <th>836</th>\n",
       "      <td>VÉRITÉ</td>\n",
       "      <td>2753947</td>\n",
       "      <td>1</td>\n",
       "      <td>1</td>\n",
       "    </tr>\n",
       "    <tr>\n",
       "      <th>837</th>\n",
       "      <td>Poe Boy/Atlantic</td>\n",
       "      <td>2673597</td>\n",
       "      <td>1</td>\n",
       "      <td>1</td>\n",
       "    </tr>\n",
       "  </tbody>\n",
       "</table>\n",
       "<p>838 rows × 4 columns</p>\n",
       "</div>"
      ],
      "text/plain": [
       "                      source      streams  count_main_artist  count_track_name\n",
       "0                   Columbia  37711187917                 56               230\n",
       "1           Republic Records  27555882345                 22               145\n",
       "2    Rimas Entertainment LLC  18294105384                  9                90\n",
       "3        Atlantic Records UK  17993141099                 13                73\n",
       "4           Atlantic Records  13445634616                 38                79\n",
       "..                       ...          ...                ...               ...\n",
       "833         Ninetone Records      3125372                  1                 1\n",
       "834   Major Tom's / Atlantic      3111623                  1                 1\n",
       "835                      MCI      3052833                  1                 1\n",
       "836                   VÉRITÉ      2753947                  1                 1\n",
       "837         Poe Boy/Atlantic      2673597                  1                 1\n",
       "\n",
       "[838 rows x 4 columns]"
      ]
     },
     "execution_count": 16,
     "metadata": {},
     "output_type": "execute_result"
    }
   ],
   "source": [
    "zasourcedf"
   ]
  },
  {
   "cell_type": "code",
   "execution_count": 17,
   "id": "3ea86c1b",
   "metadata": {},
   "outputs": [],
   "source": [
    "zasourcedf.to_csv(\"Classification/\" + chart_name + \"countsortedartistspersource.csv\", index=False)"
   ]
  },
  {
   "cell_type": "markdown",
   "id": "11fcf343",
   "metadata": {},
   "source": [
    "##### Find South African artists"
   ]
  },
  {
   "cell_type": "code",
   "execution_count": 18,
   "id": "5e889461",
   "metadata": {},
   "outputs": [],
   "source": [
    "# Read the south african file\n",
    "files_za_artists = pd.read_csv(\"Classification/JustSouthAfricansOnZAChart.csv\")"
   ]
  },
  {
   "cell_type": "code",
   "execution_count": 19,
   "id": "bdad8445",
   "metadata": {},
   "outputs": [
    {
     "data": {
      "text/plain": [
       "Index(['trackAppearanceCount', 'artistAppearanceCount', 'rank', 'uri',\n",
       "       'artist_names', 'track_name', 'source', 'peak_rank', 'previous_rank',\n",
       "       'weeks_on_chart', 'streams', 'End Date', 'Week', 'Year', 'End Date Dt',\n",
       "       'Seconds since Epoch', 'End Date Aggregated', 'ArtistCount',\n",
       "       'main_artist', 'isTopTen', 'Artist and Track', 'rank difference',\n",
       "       'Position over Time', 'Lower Artist'],\n",
       "      dtype='object')"
      ]
     },
     "execution_count": 19,
     "metadata": {},
     "output_type": "execute_result"
    }
   ],
   "source": [
    "files_za_artists.columns"
   ]
  },
  {
   "cell_type": "code",
   "execution_count": 20,
   "id": "941dc9a6",
   "metadata": {},
   "outputs": [],
   "source": [
    "zasources = files_za_artists[[\"source\"]].drop_duplicates()"
   ]
  },
  {
   "cell_type": "code",
   "execution_count": 21,
   "id": "4290de1b",
   "metadata": {},
   "outputs": [],
   "source": [
    "justzasourcedf = zasourcedf.merge(zasources, left_on=[\"source\"], right_on=[\"source\"], how=\"right\")"
   ]
  },
  {
   "cell_type": "code",
   "execution_count": 22,
   "id": "82cc03aa",
   "metadata": {},
   "outputs": [],
   "source": [
    "# justzasourcedf.to_csv(\"Classification/\" + chart_name + \"_sourcedetails.csv\", index=False)"
   ]
  },
  {
   "cell_type": "code",
   "execution_count": null,
   "id": "8e7cc99b",
   "metadata": {},
   "outputs": [],
   "source": []
  },
  {
   "cell_type": "code",
   "execution_count": null,
   "id": "8c2dd3a8",
   "metadata": {},
   "outputs": [],
   "source": []
  }
 ],
 "metadata": {
  "kernelspec": {
   "display_name": "Python 3 (ipykernel)",
   "language": "python",
   "name": "python3"
  },
  "language_info": {
   "codemirror_mode": {
    "name": "ipython",
    "version": 3
   },
   "file_extension": ".py",
   "mimetype": "text/x-python",
   "name": "python",
   "nbconvert_exporter": "python",
   "pygments_lexer": "ipython3",
   "version": "3.9.13"
  }
 },
 "nbformat": 4,
 "nbformat_minor": 5
}
