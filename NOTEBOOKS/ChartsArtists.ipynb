{
 "cells": [
  {
   "cell_type": "code",
   "execution_count": 1,
   "id": "3376460a",
   "metadata": {},
   "outputs": [],
   "source": [
    "import pandas as pd\n",
    "\n",
    "import glob2\n",
    "import matplotlib.pyplot as plt\n",
    "import datetime\n",
    "import re\n",
    "from datetime import datetime, timedelta\n",
    "%matplotlib inline"
   ]
  },
  {
   "cell_type": "code",
   "execution_count": 2,
   "id": "c7499abf",
   "metadata": {},
   "outputs": [],
   "source": [
    "locale_name = \"global\"\n",
    "read_enc_val =\"ISO-8859-1\"\n",
    "read_enc_val =\"cp1252\"\n",
    "read_enc_val =\"utf-8\""
   ]
  },
  {
   "cell_type": "code",
   "execution_count": 3,
   "id": "2237e202",
   "metadata": {},
   "outputs": [],
   "source": [
    "zafilesog = pd.read_csv(\"Classification/all_files_ZAv1.csv\")"
   ]
  },
  {
   "cell_type": "code",
   "execution_count": 4,
   "id": "d3b97eed",
   "metadata": {},
   "outputs": [],
   "source": [
    "skrfilesog = pd.read_csv(\"Classification/all_files_SKRv1.csv\")"
   ]
  },
  {
   "cell_type": "code",
   "execution_count": 5,
   "id": "211c18e3",
   "metadata": {},
   "outputs": [],
   "source": [
    "globalfilesog = pd.read_csv(\"Classification/all_files_\"+locale_name+\"v1.csv\")"
   ]
  },
  {
   "cell_type": "code",
   "execution_count": 6,
   "id": "2a6cc3b1",
   "metadata": {},
   "outputs": [],
   "source": [
    "# zafilesog.columns"
   ]
  },
  {
   "cell_type": "code",
   "execution_count": 7,
   "id": "8b7cd1c0",
   "metadata": {},
   "outputs": [],
   "source": [
    "zafiles=zafilesog[['main_artist']]\n",
    "skrfiles=skrfilesog[['main_artist']]\n",
    "globalfiles=globalfilesog[['main_artist']]\n",
    "\n",
    "zafiles = zafiles.drop_duplicates()\n",
    "skrfiles = skrfiles.drop_duplicates()\n",
    "globalfiles = globalfiles.drop_duplicates()"
   ]
  },
  {
   "cell_type": "code",
   "execution_count": 8,
   "id": "c681f054",
   "metadata": {},
   "outputs": [],
   "source": [
    "skrandza = zafiles.merge(skrfiles, left_on=[\"main_artist\"], right_on=[\"main_artist\"], how=\"inner\")\n",
    "skrandglobal = skrfiles.merge(globalfiles, left_on=[\"main_artist\"], right_on=[\"main_artist\"], how=\"inner\")\n",
    "\n",
    "mixedallthree = skrandza.merge(skrandglobal, left_on=[\"main_artist\"], right_on=[\"main_artist\"], how=\"inner\")"
   ]
  },
  {
   "cell_type": "code",
   "execution_count": 9,
   "id": "52e11dbf",
   "metadata": {},
   "outputs": [
    {
     "data": {
      "text/plain": [
       "((1267, 1), (725, 1), (1427, 1), (283, 1), (344, 1), (282, 1))"
      ]
     },
     "execution_count": 9,
     "metadata": {},
     "output_type": "execute_result"
    }
   ],
   "source": [
    "zafiles.shape, skrfiles.shape, globalfiles.shape, skrandza.shape, skrandglobal.shape, mixedallthree.shape"
   ]
  },
  {
   "cell_type": "code",
   "execution_count": 10,
   "id": "0703c2f3",
   "metadata": {},
   "outputs": [],
   "source": [
    "zacommon = zafilesog.merge(mixedallthree, left_on=[\"main_artist\"], right_on=[\"main_artist\"], how=\"inner\")\n",
    "skrcommon = skrfilesog.merge(mixedallthree, left_on=[\"main_artist\"], right_on=[\"main_artist\"], how=\"inner\")\n",
    "globalcommon = globalfilesog.merge(mixedallthree, left_on=[\"main_artist\"], right_on=[\"main_artist\"], how=\"inner\")"
   ]
  },
  {
   "cell_type": "code",
   "execution_count": 11,
   "id": "91a23d41",
   "metadata": {},
   "outputs": [
    {
     "data": {
      "text/plain": [
       "(10, 3, 10, 3, 10, 3)"
      ]
     },
     "execution_count": 11,
     "metadata": {},
     "output_type": "execute_result"
    }
   ],
   "source": [
    "zacommonboygroups = zacommon[zacommon[\"IsBoyGroup\"]==True][\"main_artist\"].unique().tolist()\n",
    "zacommongirlgroups = zacommon[zacommon[\"IsGirlGroup\"]==True][\"main_artist\"].unique().tolist()\n",
    "\n",
    "skrcommonboygroups = skrcommon[skrcommon[\"IsBoyGroup\"]==True][\"main_artist\"].unique().tolist()\n",
    "skrcommongirlgroups = skrcommon[skrcommon[\"IsGirlGroup\"]==True][\"main_artist\"].unique().tolist()\n",
    "\n",
    "globalcommonboygroups = globalcommon[globalcommon[\"IsBoyGroup\"]==True][\"main_artist\"].unique().tolist()\n",
    "globalcommongirlgroups = globalcommon[globalcommon[\"IsGirlGroup\"]==True][\"main_artist\"].unique().tolist()\n",
    "\n",
    "len(zacommonboygroups), len(zacommongirlgroups), len(skrcommonboygroups), len(skrcommongirlgroups), len(globalcommonboygroups), len(globalcommongirlgroups)"
   ]
  },
  {
   "cell_type": "code",
   "execution_count": 12,
   "id": "cddf7030",
   "metadata": {},
   "outputs": [
    {
     "data": {
      "text/plain": [
       "['BLACKPINK', 'FIFTY FIFTY', 'The Ronettes']"
      ]
     },
     "execution_count": 12,
     "metadata": {},
     "output_type": "execute_result"
    }
   ],
   "source": [
    "zacommongirlgroups"
   ]
  },
  {
   "cell_type": "code",
   "execution_count": 13,
   "id": "802d60a8",
   "metadata": {},
   "outputs": [
    {
     "data": {
      "text/plain": [
       "['5 Seconds of Summer',\n",
       " 'AJR',\n",
       " 'BTS',\n",
       " 'Jonas Brothers',\n",
       " 'Maroon 5',\n",
       " 'One Direction',\n",
       " 'OneRepublic',\n",
       " 'Stray Kids',\n",
       " 'The 1975',\n",
       " 'V']"
      ]
     },
     "execution_count": 13,
     "metadata": {},
     "output_type": "execute_result"
    }
   ],
   "source": [
    "zacommonboygroups"
   ]
  },
  {
   "cell_type": "code",
   "execution_count": 14,
   "id": "01c69a66",
   "metadata": {},
   "outputs": [],
   "source": [
    "mixedallthree.to_csv(\"Classification/mixedallthreecommon.csv\", index=False)"
   ]
  }
 ],
 "metadata": {
  "kernelspec": {
   "display_name": "Python 3 (ipykernel)",
   "language": "python",
   "name": "python3"
  },
  "language_info": {
   "codemirror_mode": {
    "name": "ipython",
    "version": 3
   },
   "file_extension": ".py",
   "mimetype": "text/x-python",
   "name": "python",
   "nbconvert_exporter": "python",
   "pygments_lexer": "ipython3",
   "version": "3.12.7"
  }
 },
 "nbformat": 4,
 "nbformat_minor": 5
}
