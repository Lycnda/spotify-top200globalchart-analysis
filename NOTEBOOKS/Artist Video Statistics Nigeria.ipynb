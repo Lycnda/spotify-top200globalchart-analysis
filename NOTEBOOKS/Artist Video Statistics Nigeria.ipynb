{
 "cells": [
  {
   "cell_type": "code",
   "execution_count": 1,
   "id": "f7e3de37",
   "metadata": {},
   "outputs": [],
   "source": [
    "import pandas as pd\n",
    "import json\n",
    "import string"
   ]
  },
  {
   "cell_type": "code",
   "execution_count": 2,
   "id": "e71547af",
   "metadata": {},
   "outputs": [],
   "source": [
    "all_files_ng = pd.read_csv(\"ClassificationNG/all_files_NGv1.csv\")"
   ]
  },
  {
   "cell_type": "code",
   "execution_count": 3,
   "id": "e3d25952",
   "metadata": {},
   "outputs": [],
   "source": [
    "def getanartistsjson(all_files_ng, artist_name):\n",
    "\n",
    "    artist_df = all_files_ng[all_files_ng[\"main_artist\"] == artist_name]\n",
    "    \n",
    "    num_of_streams = artist_df['streams'].sum()\n",
    "    min_date = artist_df['End Date'].min()\n",
    "    max_date = artist_df['End Date'].max()\n",
    "\n",
    "    unique_songs = artist_df['track_name'].unique().tolist()\n",
    "    num_unique_songs = len(unique_songs)\n",
    "    \n",
    "    source_end_date = artist_df[['End Date', \"source\"]].drop_duplicates()\n",
    "    source_end_date_latest = pd.DataFrame(source_end_date.groupby(\"source\")[\"End Date\"].max())\n",
    "    source_end_date_latest = source_end_date_latest.reset_index()\n",
    "    \n",
    "    rank_max_end_date = artist_df[['End Date', 'track_name', \"rank\"]].drop_duplicates()\n",
    "\n",
    "    min_rank = rank_max_end_date[\"rank\"].min()\n",
    "    max_rank = rank_max_end_date[\"rank\"].max()\n",
    "\n",
    "    min_rank_song_dt = rank_max_end_date[rank_max_end_date[\"rank\"] == min_rank]\n",
    "    max_rank_song_dt = rank_max_end_date[rank_max_end_date[\"rank\"] == max_rank]\n",
    "\n",
    "    min_rank_song_unique_dt = min_rank_song_dt[[\"End Date\", \"track_name\"]].drop_duplicates()\n",
    "    max_rank_song_unique_dt = max_rank_song_dt[[\"End Date\", \"track_name\"]].drop_duplicates()\n",
    "\n",
    "    source_end_date_latest_ls = source_end_date_latest.values.tolist()\n",
    "\n",
    "    min_rank_song_unique_dt_ls = min_rank_song_unique_dt.values.tolist()\n",
    "    max_rank_song_unique_dt_ls = max_rank_song_unique_dt.values.tolist()\n",
    "    \n",
    "    artist_inner_json = {}\n",
    "    \n",
    "    artist_inner_json[\"num_of_streams\"] = str(num_of_streams)\n",
    "    artist_inner_json[\"min_rank\"] = str(min_rank)\n",
    "    artist_inner_json[\"max_rank\"] = str(max_rank)\n",
    "    artist_inner_json[\"min_date\"] = min_date\n",
    "    artist_inner_json[\"max_date\"] = max_date\n",
    "    artist_inner_json[\"num_unique_songs\"] = str(num_unique_songs)\n",
    "\n",
    "    artist_inner_json[\"unique_songs\"] = unique_songs\n",
    "\n",
    "    artist_inner_json[\"source_end_date_latest_ls\"] = dict(source_end_date_latest_ls)\n",
    "    artist_inner_json[\"min_rank_song_unique_dt_ls\"] = dict(min_rank_song_unique_dt_ls)\n",
    "    artist_inner_json[\"max_rank_song_unique_dt_ls\"] = dict(max_rank_song_unique_dt_ls)\n",
    "    \n",
    "    artist_json = {}\n",
    "    artist_json[artist_name] = artist_inner_json\n",
    "    \n",
    "    return artist_json"
   ]
  },
  {
   "cell_type": "code",
   "execution_count": 4,
   "id": "0a10696b",
   "metadata": {},
   "outputs": [],
   "source": [
    "unique_artists = all_files_ng[\"main_artist\"].unique().tolist()\n",
    "    \n",
    "for artist_name in unique_artists:  \n",
    "    artist_json = getanartistsjson(all_files_ng, artist_name)\n",
    "    \n",
    "    # Serializing json\n",
    "    json_object = json.dumps(artist_json, indent=4)\n",
    "    \n",
    "    new_artist_name = artist_name.translate(str.maketrans('', '', string.punctuation))\n",
    "\n",
    "    # Writing to sample.json\n",
    "    with open(\"ng_artists/\" + new_artist_name +\".json\", \"w\") as outfile:\n",
    "        outfile.write(json_object)"
   ]
  },
  {
   "cell_type": "code",
   "execution_count": null,
   "id": "484d6f54",
   "metadata": {},
   "outputs": [],
   "source": []
  },
  {
   "cell_type": "code",
   "execution_count": null,
   "id": "ab8df4c0",
   "metadata": {},
   "outputs": [],
   "source": []
  }
 ],
 "metadata": {
  "kernelspec": {
   "display_name": "Python 3",
   "language": "python",
   "name": "python3"
  },
  "language_info": {
   "codemirror_mode": {
    "name": "ipython",
    "version": 3
   },
   "file_extension": ".py",
   "mimetype": "text/x-python",
   "name": "python",
   "nbconvert_exporter": "python",
   "pygments_lexer": "ipython3",
   "version": "3.8.10"
  }
 },
 "nbformat": 4,
 "nbformat_minor": 5
}
