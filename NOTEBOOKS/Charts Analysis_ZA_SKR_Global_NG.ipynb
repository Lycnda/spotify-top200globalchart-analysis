{
 "cells": [
  {
   "cell_type": "markdown",
   "metadata": {},
   "source": [
    "## Multiple Charts Analysis"
   ]
  },
  {
   "cell_type": "code",
   "execution_count": 2,
   "metadata": {},
   "outputs": [],
   "source": [
    "import pandas as pd\n",
    "import glob2\n",
    "import matplotlib.pyplot as plt\n",
    "import datetime\n",
    "import re\n",
    "from datetime import datetime, timedelta\n",
    "%matplotlib inline"
   ]
  },
  {
   "cell_type": "code",
   "execution_count": 3,
   "metadata": {},
   "outputs": [],
   "source": [
    "za_the_spotify_data=pd.read_csv(\"Classification/all_files_ZAv1.csv\")\n",
    "ngr_the_spotify_data=pd.read_csv(\"Classification/all_files_NGv1.csv\")\n",
    "global_the_spotify_data=pd.read_csv(\"Classification/all_files_globalv1.csv\")\n",
    "skr_the_spotify_data=pd.read_csv(\"Classification/all_files_SKRv1.csv\")\n",
    "ind_the_spotify_data=pd.read_csv(\"Classification/all_files_INv1.csv\")"
   ]
  },
  {
   "cell_type": "code",
   "execution_count": 4,
   "metadata": {},
   "outputs": [
    {
     "data": {
      "text/plain": [
       "Index(['trackAppearanceCount', 'artistAppearanceCount', 'artist_names',\n",
       "       'track_name', 'rank', 'uri', 'source', 'peak_rank', 'previous_rank',\n",
       "       'weeks_on_chart', 'streams', 'End Date', 'Week', 'Year', 'End Date Dt',\n",
       "       'Seconds since Epoch', 'End Date Aggregated', 'ArtistCount',\n",
       "       'main_artist', 'isTopTen', 'Artist and Track', 'rank difference',\n",
       "       'Position over Time', 'IsGirlGroup', 'IsBoyGroup'],\n",
       "      dtype='object')"
      ]
     },
     "execution_count": 4,
     "metadata": {},
     "output_type": "execute_result"
    }
   ],
   "source": [
    "za_the_spotify_data.columns"
   ]
  },
  {
   "cell_type": "code",
   "execution_count": 5,
   "metadata": {},
   "outputs": [
    {
     "data": {
      "text/plain": [
       "((71086, 25), (13000, 25), (83782, 26), (40800, 25), (58368, 25))"
      ]
     },
     "execution_count": 5,
     "metadata": {},
     "output_type": "execute_result"
    }
   ],
   "source": [
    "za_the_spotify_data.shape, ngr_the_spotify_data.shape, global_the_spotify_data.shape, skr_the_spotify_data.shape, ind_the_spotify_data.shape\n",
    "# za_the_spotify_data.shape, skr_the_spotify_data.shape"
   ]
  },
  {
   "cell_type": "markdown",
   "metadata": {},
   "source": [
    "#### South Africa plus Nigeria"
   ]
  },
  {
   "cell_type": "code",
   "execution_count": 7,
   "metadata": {},
   "outputs": [
    {
     "data": {
      "text/plain": [
       "(155, 1)"
      ]
     },
     "execution_count": 7,
     "metadata": {},
     "output_type": "execute_result"
    }
   ],
   "source": [
    "zaplusng = za_the_spotify_data[[\"main_artist\"]].merge(ngr_the_spotify_data[[\"main_artist\"]], how='inner', on='main_artist')\n",
    "zaplusng = zaplusng.drop_duplicates()\n",
    "\n",
    "newcols = []\n",
    "for acol in list(zaplusng.columns):\n",
    "    newacol = acol.replace(\"_x\", \"_za\")\n",
    "    newacol = newacol.replace(\"_y\", \"_ng\")\n",
    "\n",
    "    newcols.append(newacol)\n",
    "\n",
    "zaplusng.columns = newcols\n",
    "\n",
    "zaplusng = zaplusng.drop_duplicates()\n",
    "\n",
    "zaplusng.shape"
   ]
  },
  {
   "cell_type": "markdown",
   "metadata": {},
   "source": [
    "#### South Korea plus Global"
   ]
  },
  {
   "cell_type": "code",
   "execution_count": 9,
   "metadata": {},
   "outputs": [
    {
     "data": {
      "text/plain": [
       "(613, 1)"
      ]
     },
     "execution_count": 9,
     "metadata": {},
     "output_type": "execute_result"
    }
   ],
   "source": [
    "skrplusglobal = za_the_spotify_data[[\"main_artist\"]].merge(global_the_spotify_data[[\"main_artist\"]], how='inner', on='main_artist')\n",
    "skrplusglobal = skrplusglobal.drop_duplicates()\n",
    "\n",
    "newcols = []\n",
    "for acol in list(skrplusglobal.columns):\n",
    "    newacol = acol.replace(\"_x\", \"_za\")\n",
    "    newacol = newacol.replace(\"_y\", \"_gbl\")\n",
    "\n",
    "    newcols.append(newacol)\n",
    "\n",
    "skrplusglobal.columns = newcols\n",
    "\n",
    "skrplusglobal = skrplusglobal.drop_duplicates()\n",
    "\n",
    "skrplusglobal.shape"
   ]
  },
  {
   "cell_type": "markdown",
   "metadata": {},
   "source": [
    "#### South Korea plus Global plus South Africa"
   ]
  },
  {
   "cell_type": "code",
   "execution_count": 11,
   "metadata": {},
   "outputs": [],
   "source": [
    "# common = list(set(zaplusglobal[\"lower_main_artist\"].unique().tolist()) & set(skrplusglobal[\"lower_main_artist\"].unique().tolist()))\n",
    "# len(common)\n",
    "# zaplusskr = za_the_spotify_data.merge(skr_the_spotify_data, how='inner', on='main_artist')\n",
    "# zaplusskr = zaplusskr.drop_duplicates()"
   ]
  },
  {
   "cell_type": "markdown",
   "metadata": {},
   "source": [
    "#### South Korea plus South Africa"
   ]
  },
  {
   "cell_type": "code",
   "execution_count": 13,
   "metadata": {},
   "outputs": [],
   "source": [
    "zaplusskr = za_the_spotify_data[[\"main_artist\"]].merge(skr_the_spotify_data[[\"main_artist\"]], how='inner', on='main_artist')\n",
    "zaplusskr = zaplusskr.drop_duplicates()\n",
    "\n",
    "newcols = []\n",
    "for acol in list(zaplusskr.columns):\n",
    "    newacol = acol.replace(\"_x\", \"_za\")\n",
    "    newacol = newacol.replace(\"_y\", \"_skr\")\n",
    "\n",
    "    newcols.append(newacol)\n",
    "\n",
    "zaplusskr.columns = newcols\n",
    "\n",
    "zaplusskr = zaplusskr.drop_duplicates()"
   ]
  },
  {
   "cell_type": "code",
   "execution_count": 14,
   "metadata": {},
   "outputs": [
    {
     "data": {
      "text/plain": [
       "284"
      ]
     },
     "execution_count": 14,
     "metadata": {},
     "output_type": "execute_result"
    }
   ],
   "source": [
    "len(zaplusskr[\"main_artist\"].unique().tolist())"
   ]
  },
  {
   "cell_type": "code",
   "execution_count": 15,
   "metadata": {},
   "outputs": [
    {
     "data": {
      "text/plain": [
       "(284, 1)"
      ]
     },
     "execution_count": 15,
     "metadata": {},
     "output_type": "execute_result"
    }
   ],
   "source": [
    "zaplusskr.shape"
   ]
  },
  {
   "cell_type": "code",
   "execution_count": 34,
   "metadata": {},
   "outputs": [],
   "source": [
    "skrplusind = skr_the_spotify_data[[\"main_artist\"]].merge(ind_the_spotify_data[[\"main_artist\"]], how='inner', on='main_artist')\n",
    "skrplusind = skrplusind.drop_duplicates()\n",
    "\n",
    "newcols = []\n",
    "for acol in list(skrplusind.columns):\n",
    "    newacol = acol.replace(\"_x\", \"_skr\")\n",
    "    newacol = newacol.replace(\"_y\", \"_in\")\n",
    "\n",
    "    newcols.append(newacol)\n",
    "\n",
    "skrplusind.columns = newcols\n",
    "\n",
    "skrplusind = skrplusind.drop_duplicates()"
   ]
  },
  {
   "cell_type": "markdown",
   "metadata": {},
   "source": [
    "### Combine ALL"
   ]
  },
  {
   "cell_type": "code",
   "execution_count": 17,
   "metadata": {},
   "outputs": [],
   "source": [
    "zaplusngskrplusglobal = zaplusng.merge(skrplusglobal, how='inner', on='main_artist')\n",
    "zaplusngskrplusglobal = zaplusngskrplusglobal.drop_duplicates()"
   ]
  },
  {
   "cell_type": "code",
   "execution_count": 18,
   "metadata": {},
   "outputs": [
    {
     "data": {
      "text/plain": [
       "(111, 1)"
      ]
     },
     "execution_count": 18,
     "metadata": {},
     "output_type": "execute_result"
    }
   ],
   "source": [
    "zaplusngskrplusglobal.shape"
   ]
  },
  {
   "cell_type": "code",
   "execution_count": 19,
   "metadata": {},
   "outputs": [],
   "source": [
    "zaplusngskrplusglobazaplusskr = zaplusngskrplusglobal.merge(zaplusskr, how='inner', on='main_artist')\n",
    "zaplusngskrplusglobazaplusskr = zaplusngskrplusglobazaplusskr.drop_duplicates()"
   ]
  },
  {
   "cell_type": "code",
   "execution_count": 36,
   "metadata": {},
   "outputs": [],
   "source": [
    "zaplusngskrplusglobazaplusskrskrplusind = zaplusngskrplusglobazaplusskr.merge(skrplusind, how='inner', on='main_artist')\n",
    "zaplusngskrplusglobazaplusskrskrplusind = zaplusngskrplusglobazaplusskrskrplusind.drop_duplicates()"
   ]
  },
  {
   "cell_type": "code",
   "execution_count": 38,
   "metadata": {},
   "outputs": [],
   "source": [
    "combinedartists = zaplusngskrplusglobazaplusskrskrplusind[\"main_artist\"].unique().tolist()"
   ]
  },
  {
   "cell_type": "code",
   "execution_count": 40,
   "metadata": {},
   "outputs": [
    {
     "data": {
      "text/plain": [
       "61"
      ]
     },
     "execution_count": 40,
     "metadata": {},
     "output_type": "execute_result"
    }
   ],
   "source": [
    "len(combinedartists)"
   ]
  },
  {
   "cell_type": "code",
   "execution_count": 48,
   "metadata": {},
   "outputs": [],
   "source": [
    "dfnames = pd.DataFrame(combinedartists,columns=[\"artist\"])"
   ]
  },
  {
   "cell_type": "code",
   "execution_count": 50,
   "metadata": {},
   "outputs": [],
   "source": [
    "dfnames.to_csv(\"artistsonall5charts.csv\", index=False)"
   ]
  },
  {
   "cell_type": "code",
   "execution_count": 44,
   "metadata": {},
   "outputs": [],
   "source": [
    "# stop"
   ]
  },
  {
   "cell_type": "markdown",
   "metadata": {},
   "source": [
    "#### Num Songs"
   ]
  },
  {
   "cell_type": "code",
   "execution_count": null,
   "metadata": {},
   "outputs": [],
   "source": [
    "dfnumsongs = pd.DataFrame(zaplusskr.groupby(\"main_artist\")[\"track_name_za\"].nunique())\n",
    "dfnumsongsskr = pd.DataFrame(zaplusskr.groupby(\"main_artist\")[\"track_name_skr\"].nunique())\n",
    "dfnumsongs = dfnumsongs.reset_index()\n",
    "dfnumsongsskr = dfnumsongsskr.reset_index()"
   ]
  },
  {
   "cell_type": "code",
   "execution_count": null,
   "metadata": {},
   "outputs": [],
   "source": [
    "dfnumsongstot = dfnumsongs.merge(dfnumsongsskr, left_on=[\"main_artist\"], right_on=[\"main_artist\"], how=\"inner\")"
   ]
  },
  {
   "cell_type": "code",
   "execution_count": null,
   "metadata": {},
   "outputs": [],
   "source": [
    "dfnumsongstot.head(3)"
   ]
  },
  {
   "cell_type": "markdown",
   "metadata": {},
   "source": [
    "#### Total Streams per Artist"
   ]
  },
  {
   "cell_type": "code",
   "execution_count": null,
   "metadata": {},
   "outputs": [],
   "source": [
    "dfnumstreamsza = pd.DataFrame(zaplusskr.groupby(\"main_artist\")[\"streams_za\"].sum())\n",
    "dfnumstreamsskr = pd.DataFrame(zaplusskr.groupby(\"main_artist\")[\"streams_skr\"].sum())\n",
    "dfnumstreamsza = dfnumstreamsza.reset_index()\n",
    "dfnumstreamsskr = dfnumstreamsskr.reset_index()"
   ]
  },
  {
   "cell_type": "code",
   "execution_count": null,
   "metadata": {},
   "outputs": [],
   "source": [
    "dfnumsongsstreamsza = dfnumsongstot.merge(dfnumstreamsza, left_on=[\"main_artist\"], right_on=[\"main_artist\"], how=\"inner\")\n",
    "dfnumsongsstreamsza = dfnumsongsstreamsza.reset_index()\n",
    "dfnumsongsstreamstot = dfnumsongsstreamsza.merge(dfnumstreamsskr, left_on=[\"main_artist\"], right_on=[\"main_artist\"], how=\"inner\")\n",
    "dfnumsongsstreamstot = dfnumsongsstreamstot.reset_index()"
   ]
  },
  {
   "cell_type": "code",
   "execution_count": null,
   "metadata": {},
   "outputs": [],
   "source": [
    "dfnumsongsstreamstot.drop([\"level_0\", \"index\"], axis=1, inplace=True)"
   ]
  },
  {
   "cell_type": "code",
   "execution_count": null,
   "metadata": {},
   "outputs": [],
   "source": [
    "dfnumsongsstreamstot"
   ]
  },
  {
   "cell_type": "markdown",
   "metadata": {},
   "source": [
    "#### Num Appearances per Artist per song"
   ]
  },
  {
   "cell_type": "code",
   "execution_count": null,
   "metadata": {},
   "outputs": [],
   "source": [
    "dfdatesza = pd.DataFrame(zaplusskr.groupby([\"main_artist\", \"track_name_za\"])[\"End Date_za\"].nunique())\n",
    "dfdatesskr = pd.DataFrame(zaplusskr.groupby([\"main_artist\", \"track_name_skr\"])[\"End Date_skr\"].nunique())\n",
    "dfdatesza = dfdatesza.reset_index()\n",
    "dfdatesskr = dfdatesskr.reset_index()"
   ]
  },
  {
   "cell_type": "code",
   "execution_count": null,
   "metadata": {},
   "outputs": [],
   "source": [
    "dfappearancesskr = pd.DataFrame(dfdatesskr.groupby(\"main_artist\")[\"End Date_skr\"].sum())\n",
    "dfappearancesskr = dfappearancesskr.reset_index()\n",
    "dfappearancesskr.columns = [\"main_artist\", \"num_appearances_skr\"]\n",
    "\n",
    "dfappearancesza = pd.DataFrame(dfdatesza.groupby(\"main_artist\")[\"End Date_za\"].sum())\n",
    "dfappearancesza = dfappearancesza.reset_index()\n",
    "dfappearancesza.columns = [\"main_artist\", \"num_appearances_za\"]"
   ]
  },
  {
   "cell_type": "code",
   "execution_count": null,
   "metadata": {},
   "outputs": [],
   "source": [
    "dfappearancesboth = dfappearancesza.merge(dfappearancesskr, left_on=[\"main_artist\"], right_on=[\"main_artist\"], how=\"inner\")"
   ]
  },
  {
   "cell_type": "code",
   "execution_count": null,
   "metadata": {},
   "outputs": [],
   "source": [
    "dfnumsongsstreamstotappearances = dfnumsongsstreamstot.merge(dfappearancesboth, left_on=[\"main_artist\"], right_on=[\"main_artist\"], how=\"inner\")"
   ]
  },
  {
   "cell_type": "markdown",
   "metadata": {},
   "source": [
    "#### Highest Position on the chart"
   ]
  },
  {
   "cell_type": "code",
   "execution_count": null,
   "metadata": {},
   "outputs": [],
   "source": [
    "dfminrankza = pd.DataFrame(zaplusskr.groupby([\"main_artist\", \"track_name_za\"])[\"rank_za\"].min())\n",
    "dfminrankskr = pd.DataFrame(zaplusskr.groupby([\"main_artist\", \"track_name_skr\"])[\"rank_skr\"].min())\n",
    "dfminrankza = dfminrankza.reset_index()\n",
    "dfminrankskr = dfminrankskr.reset_index()"
   ]
  },
  {
   "cell_type": "code",
   "execution_count": null,
   "metadata": {},
   "outputs": [],
   "source": [
    "dfminrankartistza = pd.DataFrame(dfminrankza.groupby([\"main_artist\"])[\"rank_za\"].min())\n",
    "dfminrankartistza = dfminrankartistza.reset_index()\n",
    "\n",
    "dfminrankartistskr = pd.DataFrame(dfminrankskr.groupby([\"main_artist\"])[\"rank_skr\"].min())\n",
    "dfminrankartistskr = dfminrankartistskr.reset_index()"
   ]
  },
  {
   "cell_type": "code",
   "execution_count": null,
   "metadata": {},
   "outputs": [],
   "source": [
    "dfranksminartist = dfminrankartistza.merge(dfminrankartistskr, left_on=[\"main_artist\"], right_on=[\"main_artist\"], how=\"inner\")"
   ]
  },
  {
   "cell_type": "code",
   "execution_count": null,
   "metadata": {},
   "outputs": [],
   "source": [
    "dfnumsongsstreamstotappearancesranks = dfnumsongsstreamstotappearances.merge(dfranksminartist, left_on=[\"main_artist\"], right_on=[\"main_artist\"], how=\"inner\")"
   ]
  },
  {
   "cell_type": "code",
   "execution_count": null,
   "metadata": {},
   "outputs": [],
   "source": [
    "dfnumsongsstreamstotappearancesranks"
   ]
  },
  {
   "cell_type": "markdown",
   "metadata": {},
   "source": [
    "#### Highest Position on the chart the songs"
   ]
  },
  {
   "cell_type": "code",
   "execution_count": null,
   "metadata": {},
   "outputs": [],
   "source": [
    "dfminrankzavf = pd.DataFrame(dfnumsongsstreamstotappearancesranks.groupby(\"main_artist\")[\"rank_za\"].min())\n",
    "dfminrankzavf = dfminrankzavf.reset_index()\n",
    "\n",
    "dfmintracksza = dfminrankza.merge(dfminrankzavf, left_on=[\"main_artist\", \"rank_za\"], right_on=[\"main_artist\", \"rank_za\"], how=\"inner\")\n",
    "dfnummintracksza = pd.DataFrame(dfmintracksza.groupby(\"main_artist\")[\"track_name_za\"].nunique())\n",
    "dfnummintracksza = dfnummintracksza.reset_index()\n",
    "dfnummintracksza.columns = [\"main_artist\", \"num_tracks_at_min_pos_za\"]"
   ]
  },
  {
   "cell_type": "code",
   "execution_count": null,
   "metadata": {},
   "outputs": [],
   "source": [
    "dfminrankskrvf = pd.DataFrame(dfnumsongsstreamstotappearancesranks.groupby(\"main_artist\")[\"rank_skr\"].min())\n",
    "dfminrankskrvf = dfminrankskrvf.reset_index()\n",
    "\n",
    "dfmintracksskr = dfminrankskr.merge(dfminrankskrvf, left_on=[\"main_artist\", \"rank_skr\"], right_on=[\"main_artist\", \"rank_skr\"], how=\"inner\")\n",
    "dfnummintracksskr = pd.DataFrame(dfmintracksskr.groupby(\"main_artist\")[\"track_name_skr\"].nunique())\n",
    "dfnummintracksskr = dfnummintracksskr.reset_index()\n",
    "dfnummintracksskr.columns = [\"main_artist\", \"num_tracks_at_min_pos_skr\"]"
   ]
  },
  {
   "cell_type": "code",
   "execution_count": null,
   "metadata": {},
   "outputs": [],
   "source": [
    "dfnummintracksboth = dfnummintracksskr.merge(dfnummintracksza, left_on=[\"main_artist\"], right_on=[\"main_artist\"], how=\"inner\")"
   ]
  },
  {
   "cell_type": "code",
   "execution_count": null,
   "metadata": {},
   "outputs": [],
   "source": [
    "dfnummintracksboth"
   ]
  },
  {
   "cell_type": "code",
   "execution_count": null,
   "metadata": {},
   "outputs": [],
   "source": [
    "dfnumsongsstreamstotappearancesranksname = dfnumsongsstreamstotappearancesranks.merge(dfnummintracksboth, left_on=[\"main_artist\"], right_on=[\"main_artist\"], how=\"inner\")"
   ]
  },
  {
   "cell_type": "code",
   "execution_count": null,
   "metadata": {},
   "outputs": [],
   "source": [
    "dfnumsongsstreamstotappearancesranksname.to_csv(\"Classification/dfnumsongsstreamstotappearancesranksname.csv\", index=\"False\")"
   ]
  },
  {
   "cell_type": "code",
   "execution_count": null,
   "metadata": {},
   "outputs": [],
   "source": [
    "print(\"done.\")"
   ]
  },
  {
   "cell_type": "code",
   "execution_count": null,
   "metadata": {},
   "outputs": [],
   "source": []
  },
  {
   "cell_type": "code",
   "execution_count": null,
   "metadata": {},
   "outputs": [],
   "source": []
  },
  {
   "cell_type": "code",
   "execution_count": null,
   "metadata": {},
   "outputs": [],
   "source": []
  }
 ],
 "metadata": {
  "kernelspec": {
   "display_name": "Python 3 (ipykernel)",
   "language": "python",
   "name": "python3"
  },
  "language_info": {
   "codemirror_mode": {
    "name": "ipython",
    "version": 3
   },
   "file_extension": ".py",
   "mimetype": "text/x-python",
   "name": "python",
   "nbconvert_exporter": "python",
   "pygments_lexer": "ipython3",
   "version": "3.12.7"
  }
 },
 "nbformat": 4,
 "nbformat_minor": 4
}
