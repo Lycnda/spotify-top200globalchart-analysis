{
 "cells": [
  {
   "cell_type": "code",
   "execution_count": 1,
   "metadata": {},
   "outputs": [],
   "source": [
    "import pandas as pd\n",
    "import glob2\n",
    "import matplotlib.pyplot as plt\n",
    "import datetime\n",
    "import re\n",
    "from datetime import datetime, timedelta\n",
    "import itertools\n",
    "%matplotlib inline"
   ]
  },
  {
   "cell_type": "code",
   "execution_count": 2,
   "metadata": {},
   "outputs": [],
   "source": [
    "all_files = pd.read_csv(\"Classification/all_files_ZAv1.csv\")"
   ]
  },
  {
   "cell_type": "code",
   "execution_count": 3,
   "metadata": {},
   "outputs": [
    {
     "data": {
      "text/plain": [
       "(Index(['trackAppearanceCount', 'artistAppearanceCount', 'rank', 'uri',\n",
       "        'artist_names', 'track_name', 'source', 'peak_rank', 'previous_rank',\n",
       "        'weeks_on_chart', 'streams', 'End Date', 'Week', 'Year', 'End Date Dt',\n",
       "        'Seconds since Epoch', 'End Date Aggregated', 'ArtistCount',\n",
       "        'main_artist', 'isTopTen', 'Artist and Track', 'rank difference',\n",
       "        'Position over Time'],\n",
       "       dtype='object'),\n",
       " (49486, 23))"
      ]
     },
     "execution_count": 3,
     "metadata": {},
     "output_type": "execute_result"
    }
   ],
   "source": [
    "all_files.columns, all_files.shape"
   ]
  },
  {
   "cell_type": "code",
   "execution_count": 4,
   "metadata": {},
   "outputs": [],
   "source": [
    "za2022 = all_files[all_files[\"Year\"] == 2022]"
   ]
  },
  {
   "cell_type": "code",
   "execution_count": 5,
   "metadata": {},
   "outputs": [
    {
     "data": {
      "text/plain": [
       "(10000, 23)"
      ]
     },
     "execution_count": 5,
     "metadata": {},
     "output_type": "execute_result"
    }
   ],
   "source": [
    "za2022.shape"
   ]
  },
  {
   "cell_type": "code",
   "execution_count": 21,
   "metadata": {},
   "outputs": [],
   "source": [
    "def groupbyvalue(za2022, idcol, relevantcols, groupcol, countdistinctcol):\n",
    "    za2022df = za2022[relevantcols].groupby([groupcol]).agg({countdistinctcol: pd.Series.nunique})\n",
    "    new2022df = pd.DataFrame(za2022df)\n",
    "    new2022df.columns = [\"count_\" + countdistinctcol]\n",
    "    \n",
    "    new2022df = new2022df.reset_index()\n",
    "    \n",
    "    new2022dfunique = new2022df[[idcol, \"count_\" + countdistinctcol]]\n",
    "    \n",
    "    new2022dfunique = new2022dfunique.drop_duplicates()\n",
    "    \n",
    "    return new2022dfunique\n",
    "\n",
    "def sortvaluesbyorder(new2022dfunique, countdistinctcolname, isascending):\n",
    "    zacountsorted = new2022dfunique.sort_values(by=countdistinctcolname, ascending=isascending)\n",
    "    zacountsorted = zacountsorted.reset_index()\n",
    "    zacountsorted.drop([\"index\"], inplace=True, axis=1)\n",
    "    zacountsorted = zacountsorted.dropna()\n",
    "    \n",
    "    return zacountsorted"
   ]
  },
  {
   "cell_type": "code",
   "execution_count": 22,
   "metadata": {},
   "outputs": [
    {
     "data": {
      "text/plain": [
       "(Index(['main_artist', 'count_track_name'], dtype='object'), (388, 2))"
      ]
     },
     "execution_count": 22,
     "metadata": {},
     "output_type": "execute_result"
    }
   ],
   "source": [
    "relevantcols = ['main_artist', 'track_name', 'streams']\n",
    "groupcol = \"main_artist\"\n",
    "countdistinctcol = \"track_name\"\n",
    "\n",
    "idcol = \"main_artist\"\n",
    "new2022dfunique = groupbyvalue(za2022, idcol, relevantcols, groupcol, countdistinctcol)\n",
    "\n",
    "print(list(new2022dfunique.columns), new2022dfunique.shape)\n",
    "\n",
    "countdistinctcolname = \"count_\" + countdistinctcol\n",
    "\n",
    "zacountsorted = sortvaluesbyorder(new2022dfunique, countdistinctcolname, False)\n",
    "\n",
    "print(list(zacountsorted.columns), zacountsorted.shape)\n",
    "\n",
    "zacountsorted.to_csv(\"Classification/sorted_artists_ZA2022.csv\", index=False)"
   ]
  },
  {
   "cell_type": "code",
   "execution_count": 19,
   "metadata": {},
   "outputs": [
    {
     "data": {
      "text/html": [
       "<div>\n",
       "<style scoped>\n",
       "    .dataframe tbody tr th:only-of-type {\n",
       "        vertical-align: middle;\n",
       "    }\n",
       "\n",
       "    .dataframe tbody tr th {\n",
       "        vertical-align: top;\n",
       "    }\n",
       "\n",
       "    .dataframe thead th {\n",
       "        text-align: right;\n",
       "    }\n",
       "</style>\n",
       "<table border=\"1\" class=\"dataframe\">\n",
       "  <thead>\n",
       "    <tr style=\"text-align: right;\">\n",
       "      <th></th>\n",
       "      <th>main_artist</th>\n",
       "      <th>count_track_name</th>\n",
       "    </tr>\n",
       "  </thead>\n",
       "  <tbody>\n",
       "    <tr>\n",
       "      <th>0</th>\n",
       "      <td>Drake</td>\n",
       "      <td>39</td>\n",
       "    </tr>\n",
       "    <tr>\n",
       "      <th>1</th>\n",
       "      <td>Kelvin Momo</td>\n",
       "      <td>31</td>\n",
       "    </tr>\n",
       "    <tr>\n",
       "      <th>2</th>\n",
       "      <td>The Weeknd</td>\n",
       "      <td>26</td>\n",
       "    </tr>\n",
       "    <tr>\n",
       "      <th>3</th>\n",
       "      <td>Kendrick Lamar</td>\n",
       "      <td>25</td>\n",
       "    </tr>\n",
       "    <tr>\n",
       "      <th>4</th>\n",
       "      <td>SZA</td>\n",
       "      <td>24</td>\n",
       "    </tr>\n",
       "    <tr>\n",
       "      <th>...</th>\n",
       "      <td>...</td>\n",
       "      <td>...</td>\n",
       "    </tr>\n",
       "    <tr>\n",
       "      <th>383</th>\n",
       "      <td>James Arthur</td>\n",
       "      <td>1</td>\n",
       "    </tr>\n",
       "    <tr>\n",
       "      <th>384</th>\n",
       "      <td>JVKE</td>\n",
       "      <td>1</td>\n",
       "    </tr>\n",
       "    <tr>\n",
       "      <th>385</th>\n",
       "      <td>JP Saxe</td>\n",
       "      <td>1</td>\n",
       "    </tr>\n",
       "    <tr>\n",
       "      <th>386</th>\n",
       "      <td>JP Cooper</td>\n",
       "      <td>1</td>\n",
       "    </tr>\n",
       "    <tr>\n",
       "      <th>387</th>\n",
       "      <td>uLazi</td>\n",
       "      <td>1</td>\n",
       "    </tr>\n",
       "  </tbody>\n",
       "</table>\n",
       "<p>388 rows × 2 columns</p>\n",
       "</div>"
      ],
      "text/plain": [
       "        main_artist  count_track_name\n",
       "0             Drake                39\n",
       "1       Kelvin Momo                31\n",
       "2        The Weeknd                26\n",
       "3    Kendrick Lamar                25\n",
       "4               SZA                24\n",
       "..              ...               ...\n",
       "383    James Arthur                 1\n",
       "384            JVKE                 1\n",
       "385         JP Saxe                 1\n",
       "386       JP Cooper                 1\n",
       "387           uLazi                 1\n",
       "\n",
       "[388 rows x 2 columns]"
      ]
     },
     "execution_count": 19,
     "metadata": {},
     "output_type": "execute_result"
    }
   ],
   "source": [
    "zacountsorted"
   ]
  },
  {
   "cell_type": "markdown",
   "metadata": {},
   "source": [
    "##### FIND ALL ARTISTS THAT APPEARED ON THE CHART IN THIS YEAR"
   ]
  },
  {
   "cell_type": "code",
   "execution_count": 20,
   "metadata": {},
   "outputs": [],
   "source": [
    "# theartists = za2022[[\"artist_names\"]].drop_duplicates()\n",
    "# theartists[\"artists\"] = theartists[\"artist_names\"].apply(lambda x : x.split(\",\"))\n",
    "# the_artists_dict = theartists.to_dict(\"records\")\n",
    "\n",
    "# all_artists = []\n",
    "# for anartist in the_artists_dict:\n",
    "#     all_artists.append(anartist[\"artists\"])\n",
    "    \n",
    "# mergedartists = list(itertools.chain(*all_artists))\n",
    "\n",
    "# uniquemergedartists = list(set(mergedartists))\n",
    "\n",
    "# unique_artists = []\n",
    "# for anartist in uniquemergedartists:\n",
    "#     unique_artists.append(anartist.lstrip())\n",
    "    \n",
    "# print(len(unique_artists))\n",
    "\n",
    "# unique_artists_df = pd.DataFrame(unique_artists)\n",
    "# unique_artists_df.columns = [\"artist\"]\n",
    "\n",
    "# unique_artists_df = unique_artists_df.drop_duplicates()\n",
    "\n",
    "# sorted_unique_artists_df = unique_artists_df.sort_values(by='artist')\n",
    "\n",
    "# sorted_unique_artists_df.to_csv(\"Classification/unique_artists_za_2022.csv\", index=False)\n",
    "\n",
    "# sorted_unique_artists_df"
   ]
  }
 ],
 "metadata": {
  "kernelspec": {
   "display_name": "Python 3 (ipykernel)",
   "language": "python",
   "name": "python3"
  },
  "language_info": {
   "codemirror_mode": {
    "name": "ipython",
    "version": 3
   },
   "file_extension": ".py",
   "mimetype": "text/x-python",
   "name": "python",
   "nbconvert_exporter": "python",
   "pygments_lexer": "ipython3",
   "version": "3.9.13"
  }
 },
 "nbformat": 4,
 "nbformat_minor": 4
}
