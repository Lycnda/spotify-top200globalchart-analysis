{
 "cells": [
  {
   "cell_type": "code",
   "execution_count": 61,
   "id": "f7e3de37",
   "metadata": {},
   "outputs": [],
   "source": [
    "import pandas as pd\n",
    "import json\n",
    "import string\n",
    "import numpy as np"
   ]
  },
  {
   "cell_type": "code",
   "execution_count": 2,
   "id": "e71547af",
   "metadata": {},
   "outputs": [],
   "source": [
    "all_files_za = pd.read_csv(\"Classification/all_files_ZAv1.csv\")"
   ]
  },
  {
   "cell_type": "code",
   "execution_count": 5,
   "id": "64003417",
   "metadata": {},
   "outputs": [
    {
     "data": {
      "text/plain": [
       "Index(['trackAppearanceCount', 'artistAppearanceCount', 'rank', 'uri',\n",
       "       'artist_names', 'track_name', 'source', 'peak_rank', 'previous_rank',\n",
       "       'weeks_on_chart', 'streams', 'End Date', 'Week', 'Year', 'End Date Dt',\n",
       "       'Seconds since Epoch', 'End Date Aggregated', 'ArtistCount',\n",
       "       'main_artist', 'isTopTen', 'Artist and Track', 'rank difference',\n",
       "       'Position over Time'],\n",
       "      dtype='object')"
      ]
     },
     "execution_count": 5,
     "metadata": {},
     "output_type": "execute_result"
    }
   ],
   "source": [
    "all_files_za.columns"
   ]
  },
  {
   "cell_type": "code",
   "execution_count": 11,
   "id": "84b4c02c",
   "metadata": {},
   "outputs": [],
   "source": [
    "source_streams_df = all_files_za.groupby(['source'])[[\"streams\"]].sum([\"streams\"]).reset_index()"
   ]
  },
  {
   "cell_type": "code",
   "execution_count": 12,
   "id": "7b357076",
   "metadata": {},
   "outputs": [
    {
     "data": {
      "text/html": [
       "<div>\n",
       "<style scoped>\n",
       "    .dataframe tbody tr th:only-of-type {\n",
       "        vertical-align: middle;\n",
       "    }\n",
       "\n",
       "    .dataframe tbody tr th {\n",
       "        vertical-align: top;\n",
       "    }\n",
       "\n",
       "    .dataframe thead th {\n",
       "        text-align: right;\n",
       "    }\n",
       "</style>\n",
       "<table border=\"1\" class=\"dataframe\">\n",
       "  <thead>\n",
       "    <tr style=\"text-align: right;\">\n",
       "      <th></th>\n",
       "      <th>source</th>\n",
       "      <th>streams</th>\n",
       "    </tr>\n",
       "  </thead>\n",
       "  <tbody>\n",
       "    <tr>\n",
       "      <th>0</th>\n",
       "      <td>#Merky Records</td>\n",
       "      <td>41593</td>\n",
       "    </tr>\n",
       "    <tr>\n",
       "      <th>1</th>\n",
       "      <td>0207 Def Jam</td>\n",
       "      <td>558230</td>\n",
       "    </tr>\n",
       "    <tr>\n",
       "      <th>2</th>\n",
       "      <td>031Choppa</td>\n",
       "      <td>35968</td>\n",
       "    </tr>\n",
       "    <tr>\n",
       "      <th>3</th>\n",
       "      <td>10 Summers / Interscope PS</td>\n",
       "      <td>670400</td>\n",
       "    </tr>\n",
       "    <tr>\n",
       "      <th>4</th>\n",
       "      <td>10 Summers Records/Interscope Records</td>\n",
       "      <td>1668446</td>\n",
       "    </tr>\n",
       "    <tr>\n",
       "      <th>...</th>\n",
       "      <td>...</td>\n",
       "      <td>...</td>\n",
       "    </tr>\n",
       "    <tr>\n",
       "      <th>727</th>\n",
       "      <td>melvitto under exclusive license to Amuseio AB</td>\n",
       "      <td>22421</td>\n",
       "    </tr>\n",
       "    <tr>\n",
       "      <th>728</th>\n",
       "      <td>pgLang/Top Dawg Entertainment/Aftermath/Inters...</td>\n",
       "      <td>9449398</td>\n",
       "    </tr>\n",
       "    <tr>\n",
       "      <th>729</th>\n",
       "      <td>soul spirit productions</td>\n",
       "      <td>23515</td>\n",
       "    </tr>\n",
       "    <tr>\n",
       "      <th>730</th>\n",
       "      <td>stillaround</td>\n",
       "      <td>60740</td>\n",
       "    </tr>\n",
       "    <tr>\n",
       "      <th>731</th>\n",
       "      <td>stop tryna see who put this out</td>\n",
       "      <td>16773</td>\n",
       "    </tr>\n",
       "  </tbody>\n",
       "</table>\n",
       "<p>732 rows × 2 columns</p>\n",
       "</div>"
      ],
      "text/plain": [
       "                                                source  streams\n",
       "0                                       #Merky Records    41593\n",
       "1                                         0207 Def Jam   558230\n",
       "2                                            031Choppa    35968\n",
       "3                           10 Summers / Interscope PS   670400\n",
       "4                10 Summers Records/Interscope Records  1668446\n",
       "..                                                 ...      ...\n",
       "727     melvitto under exclusive license to Amuseio AB    22421\n",
       "728  pgLang/Top Dawg Entertainment/Aftermath/Inters...  9449398\n",
       "729                            soul spirit productions    23515\n",
       "730                                        stillaround    60740\n",
       "731                    stop tryna see who put this out    16773\n",
       "\n",
       "[732 rows x 2 columns]"
      ]
     },
     "execution_count": 12,
     "metadata": {},
     "output_type": "execute_result"
    }
   ],
   "source": [
    "source_streams_df"
   ]
  },
  {
   "cell_type": "code",
   "execution_count": 88,
   "id": "654fa86b",
   "metadata": {},
   "outputs": [],
   "source": [
    "source_artists_df = all_files_za.groupby('source').agg({\"main_artist\": pd.Series.nunique,\"track_name\": pd.Series.nunique, \"streams\":np.sum, \"End Date\":np.min, \"End Date\":np.min}).reset_index()"
   ]
  },
  {
   "cell_type": "code",
   "execution_count": 97,
   "id": "2846e371",
   "metadata": {},
   "outputs": [],
   "source": [
    "source_artists_df.columns = [\"source\", \"main_artist\",\"track_name\", \"streams\", \"Min End Date\"]"
   ]
  },
  {
   "cell_type": "code",
   "execution_count": 98,
   "id": "ff72fdb2",
   "metadata": {},
   "outputs": [],
   "source": [
    "source_artists_df_max = all_files_za.groupby('source').agg({ \"End Date\":np.max}).reset_index()"
   ]
  },
  {
   "cell_type": "code",
   "execution_count": 101,
   "id": "6fb9ffdc",
   "metadata": {},
   "outputs": [],
   "source": [
    "source_artists_df_max.columns = ['source', \"Max End Date\"]"
   ]
  },
  {
   "cell_type": "code",
   "execution_count": 104,
   "id": "d5b4f0d4",
   "metadata": {},
   "outputs": [],
   "source": [
    "source_artists_df_dts = source_artists_df.merge(source_artists_df_max[[\"source\", \"Max End Date\"]], left_on=[\"source\"], right_on=[\"source\"], how=\"inner\")"
   ]
  },
  {
   "cell_type": "code",
   "execution_count": 82,
   "id": "b65cad2a",
   "metadata": {},
   "outputs": [],
   "source": [
    "source_artists_df.to_csv(\"source_artists_df.csv\", index=False)"
   ]
  },
  {
   "cell_type": "code",
   "execution_count": 29,
   "id": "1fc0bc4e",
   "metadata": {},
   "outputs": [],
   "source": [
    "num_artists_per_source = pd.crosstab(all_files_za.source,all_files_za.main_artist)"
   ]
  },
  {
   "cell_type": "code",
   "execution_count": 41,
   "id": "de4ebeda",
   "metadata": {},
   "outputs": [],
   "source": [
    "num_source_per_artist = pd.crosstab(all_files_za.main_artist,all_files_za.source)"
   ]
  },
  {
   "cell_type": "code",
   "execution_count": 109,
   "id": "257f933a",
   "metadata": {},
   "outputs": [],
   "source": [
    "# all_files_za[all_files_za[\"source\"]==\"Sound African Recordings\"][\"main_artist\"].unique().tolist()"
   ]
  },
  {
   "cell_type": "code",
   "execution_count": null,
   "id": "f5daa7bc",
   "metadata": {},
   "outputs": [],
   "source": []
  }
 ],
 "metadata": {
  "kernelspec": {
   "display_name": "Python 3",
   "language": "python",
   "name": "python3"
  },
  "language_info": {
   "codemirror_mode": {
    "name": "ipython",
    "version": 3
   },
   "file_extension": ".py",
   "mimetype": "text/x-python",
   "name": "python",
   "nbconvert_exporter": "python",
   "pygments_lexer": "ipython3",
   "version": "3.8.10"
  }
 },
 "nbformat": 4,
 "nbformat_minor": 5
}
