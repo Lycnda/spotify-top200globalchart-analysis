{
 "cells": [
  {
   "cell_type": "code",
   "execution_count": null,
   "metadata": {},
   "outputs": [],
   "source": [
    "import pandas as pd\n",
    "import glob2\n",
    "import matplotlib.pyplot as plt\n",
    "import datetime\n",
    "import re\n",
    "from datetime import datetime, timedelta\n",
    "%matplotlib inline"
   ]
  },
  {
   "cell_type": "code",
   "execution_count": null,
   "metadata": {},
   "outputs": [],
   "source": [
    "globalfiles = pd.read_csv(\"Classification/all_files_globalv1.csv\")"
   ]
  },
  {
   "cell_type": "code",
   "execution_count": null,
   "metadata": {},
   "outputs": [],
   "source": [
    "girlgroups = ['(G)I-DLE', 'BLACKPINK', 'Fifth Harmony', 'LE SSERAFIM', 'ITZY', 'IVE', 'NewJeans', 'Little Mix', 'TWICE', 'aespa', 'Kep1er', 'Red Velvet']\n",
    "girlgroupslower = [a.lower() for a in girlgroups]"
   ]
  },
  {
   "cell_type": "code",
   "execution_count": null,
   "metadata": {},
   "outputs": [],
   "source": [
    "len(girlgroups)"
   ]
  },
  {
   "cell_type": "code",
   "execution_count": null,
   "metadata": {},
   "outputs": [],
   "source": [
    "globalfiles[\"main_artist_lower\"] = globalfiles[\"main_artist\"].apply(lambda x : x.lower())"
   ]
  },
  {
   "cell_type": "code",
   "execution_count": null,
   "metadata": {},
   "outputs": [],
   "source": [
    "girlgrpfiles = globalfiles[globalfiles['main_artist_lower'].isin(girlgroupslower)]"
   ]
  },
  {
   "cell_type": "code",
   "execution_count": null,
   "metadata": {},
   "outputs": [],
   "source": [
    "girlgrpfiles = girlgrpfiles.reset_index()"
   ]
  },
  {
   "cell_type": "code",
   "execution_count": null,
   "metadata": {},
   "outputs": [],
   "source": [
    "girlgrpfiles.drop([\"index\"],inplace=True, axis=1)"
   ]
  },
  {
   "cell_type": "code",
   "execution_count": null,
   "metadata": {},
   "outputs": [],
   "source": [
    "# girlgrpfiles.to_csv(\"Classification/globalgirlgroups.csv\", index=False)"
   ]
  },
  {
   "cell_type": "code",
   "execution_count": null,
   "metadata": {},
   "outputs": [],
   "source": [
    "girlgrpfiles[\"source\"].unique().tolist()"
   ]
  },
  {
   "cell_type": "markdown",
   "metadata": {},
   "source": [
    "#### Monthly bar chart race"
   ]
  },
  {
   "cell_type": "code",
   "execution_count": null,
   "metadata": {},
   "outputs": [],
   "source": [
    "girlgrpfiles[\"End Date Dt\"] = girlgrpfiles[\"End Date Dt\"].apply(lambda x : datetime.strptime(x, '%Y-%m-%d'))"
   ]
  },
  {
   "cell_type": "code",
   "execution_count": null,
   "metadata": {},
   "outputs": [],
   "source": [
    "monthly_racing_bar_df = girlgrpfiles[['End Date Dt', \"main_artist\", 'Year', 'streams']]"
   ]
  },
  {
   "cell_type": "code",
   "execution_count": null,
   "metadata": {},
   "outputs": [],
   "source": [
    "monthly_racing_bar_df[\"Month\"] = monthly_racing_bar_df['End Date Dt'].apply(lambda x : x.month)"
   ]
  },
  {
   "cell_type": "code",
   "execution_count": null,
   "metadata": {},
   "outputs": [],
   "source": [
    "monthly_racing_bar_agg_df = monthly_racing_bar_df.groupby([\"main_artist\", \"Month\", \"Year\"]).sum(\"streams\").reset_index()"
   ]
  },
  {
   "cell_type": "code",
   "execution_count": null,
   "metadata": {},
   "outputs": [],
   "source": [
    "monthly_racing_bar_agg_df[\"date\"] = monthly_racing_bar_agg_df.apply( lambda x : datetime(int(x[\"Year\"]), int(x[\"Month\"]), 1), axis=1)"
   ]
  },
  {
   "cell_type": "code",
   "execution_count": null,
   "metadata": {},
   "outputs": [],
   "source": [
    "monthly_racing_bar_agg_df.drop([\"Year\"], inplace = True, axis=1)"
   ]
  },
  {
   "cell_type": "code",
   "execution_count": null,
   "metadata": {},
   "outputs": [],
   "source": [
    "monthly_racing_bar_fin = pd.DataFrame()\n",
    "monthly_racing_bar_fin['date'] = monthly_racing_bar_agg_df[\"date\"]\n",
    "monthly_racing_bar_fin['name'] = monthly_racing_bar_agg_df[\"main_artist\"]\n",
    "monthly_racing_bar_fin['category'] = monthly_racing_bar_agg_df[\"Month\"]\n",
    "monthly_racing_bar_fin['value'] = monthly_racing_bar_agg_df[\"streams\"]"
   ]
  },
  {
   "cell_type": "code",
   "execution_count": null,
   "metadata": {},
   "outputs": [],
   "source": [
    "monthly_racing_bar_fin.to_csv(\"Classification/globalgirlfroupsracingbar.csv\", index=False)"
   ]
  },
  {
   "cell_type": "code",
   "execution_count": null,
   "metadata": {},
   "outputs": [],
   "source": [
    "monthly_racing_bar_fin"
   ]
  },
  {
   "cell_type": "code",
   "execution_count": null,
   "metadata": {},
   "outputs": [],
   "source": []
  }
 ],
 "metadata": {
  "kernelspec": {
   "display_name": "Python 3 (ipykernel)",
   "language": "python",
   "name": "python3"
  },
  "language_info": {
   "codemirror_mode": {
    "name": "ipython",
    "version": 3
   },
   "file_extension": ".py",
   "mimetype": "text/x-python",
   "name": "python",
   "nbconvert_exporter": "python",
   "pygments_lexer": "ipython3",
   "version": "3.9.13"
  }
 },
 "nbformat": 4,
 "nbformat_minor": 4
}
