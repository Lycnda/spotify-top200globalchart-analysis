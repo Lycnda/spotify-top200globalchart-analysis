{
 "cells": [
  {
   "cell_type": "code",
   "execution_count": 1,
   "id": "d09dc9f0-8d7c-4ce3-93c8-11f6f8329f52",
   "metadata": {},
   "outputs": [],
   "source": [
    "import pandas as pd\n",
    "import glob2\n",
    "import matplotlib.pyplot as plt\n",
    "import datetime\n",
    "import re\n",
    "from datetime import datetime, timedelta\n",
    "%matplotlib inline"
   ]
  },
  {
   "cell_type": "code",
   "execution_count": 2,
   "id": "92f488a9-0a84-467b-ba75-16dc32d0e7d7",
   "metadata": {},
   "outputs": [],
   "source": [
    "skr_music_file_paths = glob2.glob('DailyTopSongsSouthKorea/*.csv')"
   ]
  },
  {
   "cell_type": "code",
   "execution_count": 3,
   "id": "ad105ea6-6758-49dc-bd8c-1f484899e92c",
   "metadata": {},
   "outputs": [],
   "source": [
    "# skr_music_file_paths"
   ]
  },
  {
   "cell_type": "code",
   "execution_count": 4,
   "id": "fd16c8d3-5572-45e5-8e79-dec80b36b4d6",
   "metadata": {},
   "outputs": [],
   "source": [
    "#Add the dates to the files - run once\n",
    "def addsDatesToData():\n",
    "    to_remove_front = \"DailyTopSongsSouthKorea\\\\regional-kr-daily-\"\n",
    "    to_remove_back = \".csv\"\n",
    "\n",
    "    len_front_remove = len(to_remove_front)\n",
    "    len_back_remove = len(to_remove_back)\n",
    "\n",
    "    for file in skr_music_file_paths: \n",
    "        the_data_in_file = pd.read_csv(file)        \n",
    "        \n",
    "        the_dates = file[len_front_remove:]\n",
    "        the_dates = the_dates[:-len_back_remove]\n",
    "        start_date = the_dates\n",
    "\n",
    "        len_dates = the_data_in_file.shape[0]\n",
    "        start_dates = len_dates * [start_date]\n",
    "        \n",
    "        date_columns = {\"Start_Date\": start_dates}   \n",
    "\n",
    "        the_data_in_file[\"Start_Date\"] = start_dates\n",
    "\n",
    "        #write the data back to the File\n",
    "        the_data_in_file.to_csv(file, index=False)\n",
    "        \n",
    "#remove dates in existing files\n",
    "def removeExistingDates():\n",
    "    for file in global_music_file_paths:\n",
    "        \n",
    "        the_data_in_file = pd.read_csv(file)\n",
    "\n",
    "        the_data_in_file.drop([\"Start_Date\"], axis=1, inplace=True) \n",
    "\n",
    "        the_data_in_file.to_csv(file, index=False)"
   ]
  },
  {
   "cell_type": "code",
   "execution_count": 5,
   "id": "b0e1d596-717d-4437-919d-1c4eac8c6221",
   "metadata": {},
   "outputs": [],
   "source": [
    "# removeExistingDates()\n",
    "addsDatesToData()"
   ]
  },
  {
   "cell_type": "code",
   "execution_count": 6,
   "id": "a2496c0d-d9c9-4465-bea0-700d2b4566fb",
   "metadata": {},
   "outputs": [],
   "source": [
    "#Combine the files and sort by dates\n",
    "all_files = []\n",
    "trouble_files = []\n",
    "for file in skr_music_file_paths:\n",
    "    the_data_in_file = pd.read_csv(file)\n",
    "    \n",
    "    if(\"URL\" in list(the_data_in_file.columns)):\n",
    "    \n",
    "        the_data_in_file = the_data_in_file.drop([\"URL\"], axis=1)\n",
    "    \n",
    "    list_vals = sum(list(the_data_in_file.isnull().sum()))\n",
    "    \n",
    "    if(list_vals > 0):\n",
    "        trouble_files.append(file)\n",
    "    all_files.append(the_data_in_file)\n",
    "    \n",
    "the_spotify_data = pd.concat(all_files) "
   ]
  },
  {
   "cell_type": "code",
   "execution_count": 7,
   "id": "1fbc4fa9-beaf-486c-9475-a791d672c401",
   "metadata": {},
   "outputs": [],
   "source": [
    "the_spotify_data.drop([\"Start Date\"],axis=1, inplace=True)"
   ]
  },
  {
   "cell_type": "code",
   "execution_count": 8,
   "id": "9c767fc8-a94b-4f9a-baf5-c1aaa9d22574",
   "metadata": {},
   "outputs": [
    {
     "data": {
      "text/plain": [
       "Index(['rank', 'uri', 'artist_names', 'track_name', 'source', 'peak_rank',\n",
       "       'previous_rank', 'days_on_chart', 'streams', 'Start_Date'],\n",
       "      dtype='object')"
      ]
     },
     "execution_count": 8,
     "metadata": {},
     "output_type": "execute_result"
    }
   ],
   "source": [
    "the_spotify_data.columns"
   ]
  },
  {
   "cell_type": "code",
   "execution_count": 9,
   "id": "1e2dbdfe-84dd-497c-9859-2aed86838be2",
   "metadata": {},
   "outputs": [],
   "source": [
    "the_spotify_data[\"Week\"] = the_spotify_data[\"Start_Date\"].apply(lambda x : datetime.strptime(x, '%Y-%m-%d'))\n",
    "the_spotify_data[\"Year\"] = the_spotify_data[\"Week\"]\n",
    "\n",
    "the_spotify_data['Week'] = the_spotify_data['Week'].apply(lambda x : x.isocalendar()[1] )\n",
    "the_spotify_data['Year'] = the_spotify_data['Year'].apply(lambda x : x.isocalendar()[0] )\n",
    "\n",
    "the_spotify_data[\"Start_Date_Dt\"] = the_spotify_data[\"Start_Date\"].apply(lambda x : datetime.strptime(x, '%Y-%m-%d'))"
   ]
  },
  {
   "cell_type": "code",
   "execution_count": 10,
   "id": "2c478b1f-ca32-4296-b5ab-2b5aa9ace08d",
   "metadata": {},
   "outputs": [],
   "source": [
    "the_spotify_data[\"Artist\"] = the_spotify_data[\"artist_names\"].apply(lambda x : x.split(\",\")[0])"
   ]
  },
  {
   "cell_type": "code",
   "execution_count": 11,
   "id": "806d3262-4853-4a96-b7b1-f8b1f7a77eca",
   "metadata": {},
   "outputs": [
    {
     "data": {
      "text/plain": [
       "(10976, 14)"
      ]
     },
     "execution_count": 11,
     "metadata": {},
     "output_type": "execute_result"
    }
   ],
   "source": [
    "the_spotify_data.shape"
   ]
  },
  {
   "cell_type": "code",
   "execution_count": 12,
   "id": "577c4977-3f24-4505-99ab-47ae4bde7e3e",
   "metadata": {},
   "outputs": [],
   "source": [
    "#find the number of artists on the track\n",
    "the_spotify_data.dropna(inplace=True)\n",
    "\n",
    "the_spotify_data[\"Artist\"] = the_spotify_data[\"Artist\"].apply(lambda x : x.encode(\"utf-8\").decode(\"latin-1\"))\n",
    "the_spotify_data[\"Artist\"] = the_spotify_data[\"Artist\"].apply(lambda x : re.sub(r'[^\\x00-\\x7F]+','', x))\n",
    "the_spotify_data[\"Artist\"] = the_spotify_data.apply(lambda x : x[\"Artist\"] + \"Artist_NA\" if(x[\"Artist\"] == \"\") else x[\"Artist\"], axis=1)\n",
    "\n",
    "the_spotify_data[\"track_name\"] = the_spotify_data[\"track_name\"].apply(lambda x : x.encode(\"utf-8\").decode(\"latin-1\"))\n",
    "the_spotify_data[\"track_name\"] = the_spotify_data[\"track_name\"].apply(lambda x : re.sub(r'[^\\x00-\\x7F]+','', x))\n",
    "the_spotify_data[\"track_name\"] = the_spotify_data.apply(lambda x : x[\"Artist\"] + \"_NA\" if(x[\"track_name\"] == \"\") else x[\"track_name\"], axis=1)\n",
    "\n",
    "def countNumberArtists(x):\n",
    "    len_all_featured_artists = 0\n",
    "    num_artists = 0\n",
    "    xvals = x.split(\"feat\")\n",
    "    len_xvals = len(xvals)\n",
    "    \n",
    "    if(len_xvals > 1):\n",
    "        featured_artists = xvals[1:]\n",
    "        featured_artists_str = ' '.join(featured_artists)\n",
    "        all_featured_artists = featured_artists_str.split(\"& \")\n",
    "        len_all_featured_artists = len(all_featured_artists)\n",
    "        \n",
    "    num_artists = 1 + len_all_featured_artists\n",
    "    \n",
    "    return num_artists\n",
    "        \n",
    "    \n",
    "the_spotify_data['ArtistCount'] = the_spotify_data['track_name'].apply(lambda x : countNumberArtists(x))"
   ]
  },
  {
   "cell_type": "code",
   "execution_count": 13,
   "id": "1c96a589-607a-4736-a3ca-2b603e952816",
   "metadata": {},
   "outputs": [
    {
     "data": {
      "text/plain": [
       "(10976, 15)"
      ]
     },
     "execution_count": 13,
     "metadata": {},
     "output_type": "execute_result"
    }
   ],
   "source": [
    "the_spotify_data.shape"
   ]
  },
  {
   "cell_type": "code",
   "execution_count": 14,
   "id": "81e392a1-53f8-4ecd-bf39-80f19c77ba03",
   "metadata": {},
   "outputs": [],
   "source": [
    "# def everInTopTen(x):\n",
    "#     position_vals = list(x[\"previous_rank\"])\n",
    "#     position_vals = list(set(position_vals))\n",
    "    \n",
    "# #     print(position_vals)\n",
    "    \n",
    "#     min_pos = min(position_vals)\n",
    "#     existence_val = 0\n",
    "    \n",
    "#     if(min_pos <= 10):\n",
    "#         existence_val = 1\n",
    "    \n",
    "#     x[\"isTopTen\"] = [existence_val] * len(x)\n",
    "    \n",
    "#     return x\n",
    "    \n",
    "# the_spotify_data = the_spotify_data[~the_spotify_data.index.duplicated()]\n",
    "# the_spotify_data = the_spotify_data.groupby([\"Artist\", \"track_name\"]).apply(lambda x : everInTopTen(x))\n",
    "# the_spotify_data.drop([\"Artist\", \"track_name\"], inplace=True, axis=1)\n",
    "# the_spotify_data = the_spotify_data.reset_index()\n",
    "# the_spotify_data.drop([\"level_2\"], inplace=True, axis=1)"
   ]
  },
  {
   "cell_type": "code",
   "execution_count": 15,
   "id": "0a9b33d5-6f57-4671-9b93-d4b33c1de2c7",
   "metadata": {},
   "outputs": [],
   "source": [
    "# the_spotify_data.shape"
   ]
  },
  {
   "cell_type": "markdown",
   "id": "747be841-85d5-4986-90ff-69424b0afe28",
   "metadata": {},
   "source": [
    "### how long does a song last on the charts?"
   ]
  },
  {
   "cell_type": "code",
   "execution_count": 17,
   "id": "1239cd0d-6c66-49fa-bce9-fee0feceade4",
   "metadata": {},
   "outputs": [
    {
     "name": "stderr",
     "output_type": "stream",
     "text": [
      "C:\\Users\\lkhum\\AppData\\Local\\Temp\\ipykernel_44244\\2557894937.py:16: DeprecationWarning: DataFrameGroupBy.apply operated on the grouping columns. This behavior is deprecated, and in a future version of pandas the grouping columns will be excluded from the operation. Either pass `include_groups=False` to exclude the groupings or explicitly select the grouping columns after groupby to silence this warning.\n",
      "  the_spotify_data = the_spotify_data.groupby([\"Artist\", \"track_name\"], as_index=False).apply(lambda x : lengthSong(x))\n"
     ]
    }
   ],
   "source": [
    "def lengthSong(x):\n",
    "    min_date = min(x[\"Start_Date\"])\n",
    "    max_date = max(x[\"Start_Date\"])\n",
    "    \n",
    "    def convertStrToDate(y):\n",
    "        split_date = y.split(\"-\")\n",
    "        dateindtformat = datetime(int(split_date[0]), int(split_date[1]), int(split_date[2]))\n",
    "        \n",
    "        return dateindtformat\n",
    "    \n",
    "    x[\"lenOnCharts\"] = [int(((convertStrToDate(max_date) - convertStrToDate(min_date)).total_seconds() / 604800)) ] * len(x)\n",
    "    x[\"lenOnCharts\"] = x[\"lenOnCharts\"]\n",
    "    \n",
    "    return x\n",
    "    \n",
    "the_spotify_data = the_spotify_data.groupby([\"Artist\", \"track_name\"], as_index=False).apply(lambda x : lengthSong(x))"
   ]
  },
  {
   "cell_type": "code",
   "execution_count": 18,
   "id": "2eb21724-3bcb-446c-aade-be220147fac2",
   "metadata": {},
   "outputs": [],
   "source": [
    "# the_spotify_data[\"isTopTen\"].value_counts()"
   ]
  },
  {
   "cell_type": "code",
   "execution_count": 19,
   "id": "daa40e5a-ab31-4624-9741-9e98e9277d7e",
   "metadata": {},
   "outputs": [
    {
     "data": {
      "text/plain": [
       "(10976, 16)"
      ]
     },
     "execution_count": 19,
     "metadata": {},
     "output_type": "execute_result"
    }
   ],
   "source": [
    "the_spotify_data.shape"
   ]
  },
  {
   "cell_type": "code",
   "execution_count": 20,
   "id": "eccb3624-9a7e-4a7a-9c79-1b1769b2e862",
   "metadata": {},
   "outputs": [
    {
     "name": "stdout",
     "output_type": "stream",
     "text": [
      "198\n"
     ]
    }
   ],
   "source": [
    "unique_artists = the_spotify_data[\"Artist\"].unique().tolist()\n",
    "num_artists = len(unique_artists)\n",
    "print(num_artists)"
   ]
  },
  {
   "cell_type": "code",
   "execution_count": 21,
   "id": "b26bec69-e031-4944-bb7e-7fece6f681d2",
   "metadata": {},
   "outputs": [],
   "source": [
    "def getArtistAppearanceCount(x):\n",
    "    \n",
    "    x = x.reset_index()\n",
    "    # x.drop([\"index\"],axis=1,inplace=True)\n",
    "    # x = x.reset_index()\n",
    "    \n",
    "    x_cols = x.columns\n",
    "    \n",
    "    x_cols = [w.replace('level_1', 'artistAppearanceCount') for w in x_cols]\n",
    "    \n",
    "    x.columns = x_cols\n",
    "    \n",
    "    return x        \n",
    "    \n",
    "# the_spotify_data =the_spotify_data.groupby([\"Artist\"], as_index=False).apply(lambda x : getArtistAppearanceCount(x))\n",
    "# the_spotify_data.drop([\"level_0\"], inplace=True, axis=1)"
   ]
  },
  {
   "cell_type": "code",
   "execution_count": 22,
   "id": "951c34de-7a10-4ec1-8e79-9f1b68c07e28",
   "metadata": {},
   "outputs": [],
   "source": [
    "def getTrackAppearanceCount(x):\n",
    "    \n",
    "    x = x.reset_index()   \n",
    "    x_cols = x.columns\n",
    "    x_cols = [w.replace('level_1', 'artistAppearanceCount') for w in x_cols]\n",
    "    x.columns = x_cols    \n",
    "    return x         \n",
    "    \n",
    "# the_spotify_data =the_spotify_data.groupby([\"Artist\", \"track_name\"], as_index=False).apply(lambda x : getTrackAppearanceCount(x))\n",
    "# the_spotify_data.drop([\"level_0\"], inplace=True, axis=1)"
   ]
  },
  {
   "cell_type": "code",
   "execution_count": 23,
   "id": "090afa1c-fe89-4ec5-9d35-648ea87773a6",
   "metadata": {},
   "outputs": [],
   "source": [
    "the_spotify_data[\"peak_rank\"] = the_spotify_data[\"peak_rank\"].astype(int)\n",
    "the_spotify_data[\"previous_rank\"] = the_spotify_data[\"previous_rank\"].astype(int)\n",
    "the_spotify_data[\"streams\"] = the_spotify_data[\"streams\"].astype(int)\n",
    "the_spotify_data[\"ArtistCount\"] = the_spotify_data[\"ArtistCount\"].astype(int)\n",
    "\n",
    "# the_spotify_data[\"isTopTen\"] = the_spotify_data[\"isTopTen\"].astype(int)\n",
    "the_spotify_data[\"lenOnCharts\"] = the_spotify_data[\"lenOnCharts\"].astype(int)\n",
    "the_spotify_data[\"Year\"] = the_spotify_data[\"Year\"].astype(int)\n",
    "the_spotify_data[\"Week\"] = the_spotify_data[\"Week\"].astype(int)"
   ]
  },
  {
   "cell_type": "code",
   "execution_count": 24,
   "id": "17a22205-59c8-43ce-8c71-127c6dca3157",
   "metadata": {},
   "outputs": [
    {
     "name": "stderr",
     "output_type": "stream",
     "text": [
      "C:\\Users\\lkhum\\AppData\\Local\\Temp\\ipykernel_44244\\1346119107.py:18: DeprecationWarning: DataFrameGroupBy.apply operated on the grouping columns. This behavior is deprecated, and in a future version of pandas the grouping columns will be excluded from the operation. Either pass `include_groups=False` to exclude the groupings or explicitly select the grouping columns after groupby to silence this warning.\n",
      "  all_files_grouped = the_spotify_data.groupby([\"Artist\", \"track_name\"]).apply(lambda x: trackAppearance(x))\n"
     ]
    }
   ],
   "source": [
    "def trackAppearance(x):\n",
    "#     x = x.reset_index()\n",
    "\n",
    "    x = x.sort_values(by=[\"Start_Date\"])\n",
    "#     x.set_index([\"Position\"])\n",
    "\n",
    "    x[\"previous_rank\"] = x[\"previous_rank\"].astype(int)\n",
    "#     print(list(x[\"Position\"]))\n",
    "    \n",
    "    x[\"Position_Difference\"] = x[\"previous_rank\"].diff().fillna(0)\n",
    "    x[\"Position_Difference\"] = x[\"Position_Difference\"].astype(int)\n",
    "    \n",
    "#     x[\"Position Difference\"] = x[\"Position\"].sub(x[\"Position\"].shift())\n",
    "#     x.drop([\"index\"], inplace=True)\n",
    "    \n",
    "    return x\n",
    "    \n",
    "all_files_grouped = the_spotify_data.groupby([\"Artist\", \"track_name\"]).apply(lambda x: trackAppearance(x))"
   ]
  },
  {
   "cell_type": "code",
   "execution_count": 25,
   "id": "4175271d-b4bf-4eb4-81c7-be86fd1cc15e",
   "metadata": {},
   "outputs": [],
   "source": [
    "def positionvertime(x):\n",
    "    posovertime = 0\n",
    "    #new track\n",
    "    if(x[\"Position_Difference\"] == 0 and x[\"trackAppearanceCount\"]==0):\n",
    "        posovertime = 0\n",
    "    #track stayed in the same position\n",
    "    elif(x[\"Position_Difference\"] == 0 and x[\"trackAppearanceCount\"]!=0):\n",
    "        posovertime = 50\n",
    "    #track went up the chart\n",
    "    elif(x[\"Position_Difference\"] < 0):\n",
    "        posovertime = 75\n",
    "    #track fell down the chart\n",
    "    else:\n",
    "        posovertime = 100\n",
    "    return posovertime"
   ]
  },
  {
   "cell_type": "code",
   "execution_count": 26,
   "id": "9298ee68-d8a1-4fc8-a521-0ab03a7d4914",
   "metadata": {},
   "outputs": [],
   "source": [
    "# all_files_grouped[\"PositionoverTime\"] = all_files_grouped.apply(lambda x : positionvertime(x), axis=1)"
   ]
  },
  {
   "cell_type": "code",
   "execution_count": 27,
   "id": "4a66da60-2a54-4716-9421-e5cd8b602242",
   "metadata": {},
   "outputs": [],
   "source": [
    "all_files_grouped.to_csv(\"Classification/DailyTop200/all_files_KR_DailyTop200.csv\", index=False)"
   ]
  }
 ],
 "metadata": {
  "kernelspec": {
   "display_name": "Python 3 (ipykernel)",
   "language": "python",
   "name": "python3"
  },
  "language_info": {
   "codemirror_mode": {
    "name": "ipython",
    "version": 3
   },
   "file_extension": ".py",
   "mimetype": "text/x-python",
   "name": "python",
   "nbconvert_exporter": "python",
   "pygments_lexer": "ipython3",
   "version": "3.12.7"
  }
 },
 "nbformat": 4,
 "nbformat_minor": 5
}
