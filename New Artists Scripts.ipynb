{
 "cells": [
  {
   "cell_type": "code",
   "execution_count": 1,
   "id": "f7e3de37",
   "metadata": {},
   "outputs": [],
   "source": [
    "import pandas as pd\n",
    "import json\n",
    "import string"
   ]
  },
  {
   "cell_type": "code",
   "execution_count": 2,
   "id": "e71547af",
   "metadata": {},
   "outputs": [],
   "source": [
    "all_files_za = pd.read_csv(\"Classification/all_files_ZAv1.csv\")"
   ]
  },
  {
   "cell_type": "code",
   "execution_count": 3,
   "id": "64003417",
   "metadata": {},
   "outputs": [
    {
     "data": {
      "text/plain": [
       "(47886, 23)"
      ]
     },
     "execution_count": 3,
     "metadata": {},
     "output_type": "execute_result"
    }
   ],
   "source": [
    "all_files_za.shape"
   ]
  },
  {
   "cell_type": "code",
   "execution_count": 4,
   "id": "84b4c02c",
   "metadata": {},
   "outputs": [],
   "source": [
    "new_artists_df = all_files_za[all_files_za[\"artistAppearanceCount\"] == 0]"
   ]
  },
  {
   "cell_type": "code",
   "execution_count": 5,
   "id": "c8e9e03c",
   "metadata": {},
   "outputs": [
    {
     "data": {
      "text/plain": [
       "(913, 23)"
      ]
     },
     "execution_count": 5,
     "metadata": {},
     "output_type": "execute_result"
    }
   ],
   "source": [
    "new_artists_df.shape"
   ]
  },
  {
   "cell_type": "code",
   "execution_count": 6,
   "id": "e4084b79",
   "metadata": {},
   "outputs": [
    {
     "data": {
      "text/plain": [
       "Index(['trackAppearanceCount', 'artistAppearanceCount', 'rank', 'uri',\n",
       "       'artist_names', 'track_name', 'source', 'peak_rank', 'previous_rank',\n",
       "       'weeks_on_chart', 'streams', 'End Date', 'Week', 'Year', 'End Date Dt',\n",
       "       'Seconds since Epoch', 'End Date Aggregated', 'ArtistCount',\n",
       "       'main_artist', 'isTopTen', 'Artist and Track', 'rank difference',\n",
       "       'Position over Time'],\n",
       "      dtype='object')"
      ]
     },
     "execution_count": 6,
     "metadata": {},
     "output_type": "execute_result"
    }
   ],
   "source": [
    "new_artists_df.columns"
   ]
  },
  {
   "cell_type": "code",
   "execution_count": 7,
   "id": "27deb00b",
   "metadata": {},
   "outputs": [],
   "source": [
    "new_artists_df_rel = new_artists_df[['trackAppearanceCount', \"main_artist\", 'End Date', 'track_name', 'source', 'streams', 'rank']]"
   ]
  },
  {
   "cell_type": "markdown",
   "id": "7882259d",
   "metadata": {},
   "source": [
    "##### Make the artist dictionary - position, track name, streams."
   ]
  },
  {
   "cell_type": "code",
   "execution_count": 8,
   "id": "ead5458f",
   "metadata": {},
   "outputs": [],
   "source": [
    "per_artist_df = new_artists_df[[\"main_artist\", 'track_name', 'streams', 'rank']]"
   ]
  },
  {
   "cell_type": "code",
   "execution_count": 9,
   "id": "b8d753e5",
   "metadata": {},
   "outputs": [],
   "source": [
    "per_artist_df_idx = per_artist_df.set_index(\"main_artist\")"
   ]
  },
  {
   "cell_type": "code",
   "execution_count": 10,
   "id": "6dc99217",
   "metadata": {},
   "outputs": [],
   "source": [
    "per_artist_dict = per_artist_df_idx.to_dict('index')"
   ]
  },
  {
   "cell_type": "code",
   "execution_count": 11,
   "id": "91647164",
   "metadata": {},
   "outputs": [],
   "source": [
    "# per_artist_dict"
   ]
  },
  {
   "cell_type": "markdown",
   "id": "6c060767",
   "metadata": {},
   "source": [
    "##### Make the general week ending dictionary"
   ]
  },
  {
   "cell_type": "code",
   "execution_count": 12,
   "id": "c76b0c19",
   "metadata": {},
   "outputs": [],
   "source": [
    "counts_artists_date_df = pd.DataFrame(new_artists_df_rel.groupby([\"End Date\"])[\"main_artist\"].nunique()).reset_index()\n",
    "counts_artists_date_df.columns = ['End Date', \"count_main_artist\"]"
   ]
  },
  {
   "cell_type": "code",
   "execution_count": 13,
   "id": "a16766bd",
   "metadata": {},
   "outputs": [
    {
     "data": {
      "text/html": [
       "<div>\n",
       "<style scoped>\n",
       "    .dataframe tbody tr th:only-of-type {\n",
       "        vertical-align: middle;\n",
       "    }\n",
       "\n",
       "    .dataframe tbody tr th {\n",
       "        vertical-align: top;\n",
       "    }\n",
       "\n",
       "    .dataframe thead th {\n",
       "        text-align: right;\n",
       "    }\n",
       "</style>\n",
       "<table border=\"1\" class=\"dataframe\">\n",
       "  <thead>\n",
       "    <tr style=\"text-align: right;\">\n",
       "      <th></th>\n",
       "      <th>trackAppearanceCount</th>\n",
       "      <th>main_artist</th>\n",
       "      <th>End Date</th>\n",
       "      <th>track_name</th>\n",
       "      <th>source</th>\n",
       "      <th>streams</th>\n",
       "      <th>rank</th>\n",
       "    </tr>\n",
       "  </thead>\n",
       "  <tbody>\n",
       "    <tr>\n",
       "      <th>0</th>\n",
       "      <td>0</td>\n",
       "      <td>$NOT</td>\n",
       "      <td>2022-02-10</td>\n",
       "      <td>Doja</td>\n",
       "      <td>300 Entertainment</td>\n",
       "      <td>23789</td>\n",
       "      <td>194</td>\n",
       "    </tr>\n",
       "    <tr>\n",
       "      <th>1</th>\n",
       "      <td>0</td>\n",
       "      <td>$uicideboy$</td>\n",
       "      <td>2021-10-07</td>\n",
       "      <td>...And to Those I Love, Thanks for Sticking Ar...</td>\n",
       "      <td>G59 Records</td>\n",
       "      <td>23341</td>\n",
       "      <td>182</td>\n",
       "    </tr>\n",
       "    <tr>\n",
       "      <th>2</th>\n",
       "      <td>0</td>\n",
       "      <td>031CHOPPA</td>\n",
       "      <td>2022-09-08</td>\n",
       "      <td>Usenemali</td>\n",
       "      <td>031Choppa</td>\n",
       "      <td>35968</td>\n",
       "      <td>128</td>\n",
       "    </tr>\n",
       "    <tr>\n",
       "      <th>3</th>\n",
       "      <td>0</td>\n",
       "      <td>2 Chainz</td>\n",
       "      <td>2018-06-21</td>\n",
       "      <td>Bigger Than You (feat. Drake &amp; Quavo)</td>\n",
       "      <td>Def Jam Recordings</td>\n",
       "      <td>5994</td>\n",
       "      <td>78</td>\n",
       "    </tr>\n",
       "    <tr>\n",
       "      <th>14</th>\n",
       "      <td>0</td>\n",
       "      <td>21 Savage</td>\n",
       "      <td>2018-03-15</td>\n",
       "      <td>Bank Account</td>\n",
       "      <td>Slaughter Gang, LLC/Epic Records</td>\n",
       "      <td>1349</td>\n",
       "      <td>57</td>\n",
       "    </tr>\n",
       "    <tr>\n",
       "      <th>...</th>\n",
       "      <td>...</td>\n",
       "      <td>...</td>\n",
       "      <td>...</td>\n",
       "      <td>...</td>\n",
       "      <td>...</td>\n",
       "      <td>...</td>\n",
       "      <td>...</td>\n",
       "    </tr>\n",
       "    <tr>\n",
       "      <th>47862</th>\n",
       "      <td>0</td>\n",
       "      <td>pewdiepie</td>\n",
       "      <td>2018-12-13</td>\n",
       "      <td>Bitch Lasagna</td>\n",
       "      <td>Party In Backyard</td>\n",
       "      <td>5829</td>\n",
       "      <td>191</td>\n",
       "    </tr>\n",
       "    <tr>\n",
       "      <th>47863</th>\n",
       "      <td>0</td>\n",
       "      <td>rum.gold</td>\n",
       "      <td>2022-06-16</td>\n",
       "      <td>Call It What You Want</td>\n",
       "      <td>Leola LLC</td>\n",
       "      <td>29211</td>\n",
       "      <td>165</td>\n",
       "    </tr>\n",
       "    <tr>\n",
       "      <th>47871</th>\n",
       "      <td>0</td>\n",
       "      <td>salem ilese</td>\n",
       "      <td>2020-09-10</td>\n",
       "      <td>Mad at Disney</td>\n",
       "      <td>Homemade Projects, LLC / TenThousand Projects</td>\n",
       "      <td>20005</td>\n",
       "      <td>107</td>\n",
       "    </tr>\n",
       "    <tr>\n",
       "      <th>47883</th>\n",
       "      <td>0</td>\n",
       "      <td>twocolors</td>\n",
       "      <td>2021-01-14</td>\n",
       "      <td>Lovefool</td>\n",
       "      <td>Virgin</td>\n",
       "      <td>16498</td>\n",
       "      <td>196</td>\n",
       "    </tr>\n",
       "    <tr>\n",
       "      <th>47885</th>\n",
       "      <td>0</td>\n",
       "      <td>uLazi</td>\n",
       "      <td>2022-07-28</td>\n",
       "      <td>Gijima</td>\n",
       "      <td>Mguzuguzu Records</td>\n",
       "      <td>26596</td>\n",
       "      <td>197</td>\n",
       "    </tr>\n",
       "  </tbody>\n",
       "</table>\n",
       "<p>913 rows × 7 columns</p>\n",
       "</div>"
      ],
      "text/plain": [
       "       trackAppearanceCount  main_artist    End Date  \\\n",
       "0                         0         $NOT  2022-02-10   \n",
       "1                         0  $uicideboy$  2021-10-07   \n",
       "2                         0    031CHOPPA  2022-09-08   \n",
       "3                         0     2 Chainz  2018-06-21   \n",
       "14                        0    21 Savage  2018-03-15   \n",
       "...                     ...          ...         ...   \n",
       "47862                     0    pewdiepie  2018-12-13   \n",
       "47863                     0     rum.gold  2022-06-16   \n",
       "47871                     0  salem ilese  2020-09-10   \n",
       "47883                     0    twocolors  2021-01-14   \n",
       "47885                     0        uLazi  2022-07-28   \n",
       "\n",
       "                                              track_name  \\\n",
       "0                                                   Doja   \n",
       "1      ...And to Those I Love, Thanks for Sticking Ar...   \n",
       "2                                              Usenemali   \n",
       "3                  Bigger Than You (feat. Drake & Quavo)   \n",
       "14                                          Bank Account   \n",
       "...                                                  ...   \n",
       "47862                                      Bitch Lasagna   \n",
       "47863                              Call It What You Want   \n",
       "47871                                      Mad at Disney   \n",
       "47883                                           Lovefool   \n",
       "47885                                             Gijima   \n",
       "\n",
       "                                              source  streams  rank  \n",
       "0                                  300 Entertainment    23789   194  \n",
       "1                                        G59 Records    23341   182  \n",
       "2                                          031Choppa    35968   128  \n",
       "3                                 Def Jam Recordings     5994    78  \n",
       "14                  Slaughter Gang, LLC/Epic Records     1349    57  \n",
       "...                                              ...      ...   ...  \n",
       "47862                              Party In Backyard     5829   191  \n",
       "47863                                      Leola LLC    29211   165  \n",
       "47871  Homemade Projects, LLC / TenThousand Projects    20005   107  \n",
       "47883                                         Virgin    16498   196  \n",
       "47885                              Mguzuguzu Records    26596   197  \n",
       "\n",
       "[913 rows x 7 columns]"
      ]
     },
     "execution_count": 13,
     "metadata": {},
     "output_type": "execute_result"
    }
   ],
   "source": [
    "new_artists_df_rel"
   ]
  },
  {
   "cell_type": "code",
   "execution_count": 14,
   "id": "c7fa53ca",
   "metadata": {},
   "outputs": [],
   "source": [
    "counts_artists_date_df[\"count_songs\"] = pd.DataFrame(new_artists_df_rel.groupby([\"End Date\"])[\"track_name\"].nunique()).reset_index()[\"track_name\"]\n",
    "counts_artists_date_df[\"count_source\"] = pd.DataFrame(new_artists_df_rel.groupby([\"End Date\"])[\"source\"].nunique()).reset_index()[\"source\"]"
   ]
  },
  {
   "cell_type": "code",
   "execution_count": 15,
   "id": "a6108dc5",
   "metadata": {},
   "outputs": [],
   "source": [
    "counts_artists_date_df[\"sum_streams\"] = pd.DataFrame(new_artists_df_rel.groupby([\"End Date\"])[\"streams\"].agg(\"sum\")).reset_index()[\"streams\"]\n",
    "counts_artists_date_df[\"min_rank\"] = pd.DataFrame(new_artists_df_rel.groupby([\"End Date\"])[\"rank\"].agg(\"min\")).reset_index()[\"rank\"]\n",
    "counts_artists_date_df[\"max_rank\"] = pd.DataFrame(new_artists_df_rel.groupby([\"End Date\"])[\"rank\"].agg(\"max\")).reset_index()[\"rank\"]"
   ]
  },
  {
   "cell_type": "code",
   "execution_count": 16,
   "id": "4a502546",
   "metadata": {},
   "outputs": [
    {
     "data": {
      "text/plain": [
       "0        None\n",
       "1        None\n",
       "2        None\n",
       "3        None\n",
       "14       None\n",
       "         ... \n",
       "47862    None\n",
       "47863    None\n",
       "47871    None\n",
       "47883    None\n",
       "47885    None\n",
       "Length: 913, dtype: object"
      ]
     },
     "execution_count": 16,
     "metadata": {},
     "output_type": "execute_result"
    }
   ],
   "source": [
    "unique_dts = new_artists_df_rel[\"End Date\"].unique().tolist()\n",
    "zeros = [\"\"] * len(unique_dts)\n",
    "\n",
    "dates_counts_dicts = dict(zip(unique_dts, zeros))\n",
    "\n",
    "def makeartistsstring(dates_counts_dicts, x):\n",
    "    dates_counts_dicts[x[\"End Date\"]] = dates_counts_dicts[x[\"End Date\"]] + \", \" + x[\"main_artist\"]\n",
    "    \n",
    "new_artists_df_rel.apply(lambda x : makeartistsstring(dates_counts_dicts, x), axis=1)"
   ]
  },
  {
   "cell_type": "code",
   "execution_count": 17,
   "id": "3fcedb5a",
   "metadata": {},
   "outputs": [],
   "source": [
    "for a_dt in unique_dts:\n",
    "    dates_counts_dicts[a_dt] = {\"main_artists\":dates_counts_dicts[a_dt]}"
   ]
  },
  {
   "cell_type": "code",
   "execution_count": 18,
   "id": "c2179476",
   "metadata": {},
   "outputs": [],
   "source": [
    "counts_artists_date_df_new = counts_artists_date_df.set_index('End Date')"
   ]
  },
  {
   "cell_type": "code",
   "execution_count": 19,
   "id": "8bb65843",
   "metadata": {},
   "outputs": [],
   "source": [
    "dates_counts_dicts_else = counts_artists_date_df_new.to_dict('index')"
   ]
  },
  {
   "cell_type": "code",
   "execution_count": 20,
   "id": "54ee4813",
   "metadata": {},
   "outputs": [],
   "source": [
    "# dates_counts_dicts_else"
   ]
  },
  {
   "cell_type": "code",
   "execution_count": 21,
   "id": "fa70a7eb",
   "metadata": {},
   "outputs": [],
   "source": [
    "def mergeDictionary(dict_1, dict_2):\n",
    "    \"\"\"\n",
    "        merge two dictionaries which are dictionaries of dictionaries \n",
    "        with the same main level keys but different keys sub-keys\n",
    "    \n",
    "    \"\"\"\n",
    "    dict_3 = {**dict_1, **dict_2}\n",
    "    for key, value in dict_3.items():\n",
    "        if key in dict_1 and key in dict_2:\n",
    "            try:\n",
    "                dict_3[key] = {k: v for d in [value , dict_1[key]] for k, v in d.items()}\n",
    "            except:\n",
    "                print(\"failed to unpack dict for this key\", key)\n",
    "                print(\"failed to unpack dict for this value\", value)\n",
    "#             \n",
    "    return dict_3"
   ]
  },
  {
   "cell_type": "code",
   "execution_count": 22,
   "id": "e9a0d0b6",
   "metadata": {},
   "outputs": [],
   "source": [
    "fin_dict_script = mergeDictionary(dates_counts_dicts_else, dates_counts_dicts)"
   ]
  },
  {
   "cell_type": "code",
   "execution_count": 23,
   "id": "38ad0bca",
   "metadata": {},
   "outputs": [
    {
     "data": {
      "text/plain": [
       "{'main_artists': ', 21 Savage, Avicii, Bad Wolves, Bazzi, Bebe Rexha, BlocBoy JB, Bruno Mars, Camila Cabello, Cashmere Cat, Clean Bandit, Coolio, DJ Khaled, David Guetta, Dr. Dre, Drake, Dua Lipa, Ed Sheeran, Eminem, Fort Minor, Future, G-Eazy, Hailee Steinfeld, Imagine Dragons, Jax Jones, Jay Rock, Jeremy Loops, Julia Michaels, Justin Timberlake, KALEO, Kanye West, Kendrick Lamar, Khalid, Kwesta, Liam Payne, Lil Pump, Lil Uzi Vert, Lil Wayne, Lil Xan, Lil Yachty, Logic, Maroon 5, Marshmello, Martin Garrix, Migos, NF, Offset, Portugal. The Man, Post Malone, R3HAB, Rich The Kid, Rob $tone, Rudimental, Sam Smith, Sean Paul, Selena Gomez, Shekhinah, The Chainsmokers, The Weeknd, The White Stripes, XXXTENTACION, Zedd',\n",
       " 'count_main_artist': 61,\n",
       " 'count_songs': 61,\n",
       " 'count_source': 47,\n",
       " 'sum_streams': 147241,\n",
       " 'min_rank': 1,\n",
       " 'max_rank': 86}"
      ]
     },
     "execution_count": 23,
     "metadata": {},
     "output_type": "execute_result"
    }
   ],
   "source": [
    "fin_dict_script['2018-03-15']"
   ]
  },
  {
   "cell_type": "code",
   "execution_count": 24,
   "id": "750f99e7",
   "metadata": {},
   "outputs": [],
   "source": [
    "# Serializing json\n",
    "json_object = json.dumps(fin_dict_script, indent=4)\n",
    "\n",
    "with open(\"new_za_artists/all_dates.json\", \"w\") as outfile:\n",
    "        outfile.write(json_object)"
   ]
  },
  {
   "cell_type": "code",
   "execution_count": 25,
   "id": "2c9f6ad4",
   "metadata": {},
   "outputs": [],
   "source": [
    "# making the scripts for the different dates\n",
    "all_dates_scripts = {}\n",
    "for a_dt in unique_dts:  \n",
    "    start = \"For the week ending \" + a_dt + \"...\"\n",
    "    artists = \"There were \" + str(fin_dict_script[a_dt][\"count_main_artist\"]) + \"... new artists making their debut on the chart\"\n",
    "    streams = \"All in all, the new artists generated a total of \" + str(fin_dict_script[a_dt][\"sum_streams\"]) + \"... streams in their debut week\"\n",
    "\n",
    "    main_artists_ls = fin_dict_script[a_dt][\"main_artists\"].split(\",\")\n",
    "\n",
    "    artist_listing = \"\"\n",
    "    for artist in main_artists_ls:\n",
    "        artist = artist.lstrip()\n",
    "        artist = artist.rstrip()\n",
    "        if(artist != \"\"):\n",
    "            artist_listing = artist_listing + \" At position \" + str(per_artist_dict[artist]['rank']) + \"...  we have \" + artist + \"... who is debuting with the song \" + per_artist_dict[artist]['track_name'] + \" with \" + str(per_artist_dict[artist]['streams']) + \" streams ... \"\n",
    "    \n",
    "    week_complete_str = start + artists + artist_listing + streams\n",
    "    all_dates_scripts[a_dt] = week_complete_str"
   ]
  },
  {
   "cell_type": "code",
   "execution_count": 26,
   "id": "0ab45a78",
   "metadata": {},
   "outputs": [],
   "source": [
    "# Serializing json\n",
    "json_object = json.dumps(all_dates_scripts, indent=4)\n",
    "\n",
    "with open(\"new_za_artists/all_dates_scripts.json\", \"w\") as outfile:\n",
    "        outfile.write(json_object)"
   ]
  },
  {
   "cell_type": "code",
   "execution_count": 27,
   "id": "e351e1e4",
   "metadata": {},
   "outputs": [],
   "source": [
    "# making the scripts for the different dates\n",
    "for a_dt in unique_dts:  \n",
    "    \n",
    "    # Serializing json\n",
    "    json_object = json.dumps(all_dates_scripts[a_dt], indent=4)\n",
    "    \n",
    "    new_artist_name = a_dt.translate(str.maketrans('', '', string.punctuation))\n",
    "\n",
    "#     Writing to sample.json\n",
    "    with open(\"new_za_artists/\" + new_artist_name +\".json\", \"w\") as outfile:\n",
    "        outfile.write(json_object)"
   ]
  }
 ],
 "metadata": {
  "kernelspec": {
   "display_name": "Python 3",
   "language": "python",
   "name": "python3"
  },
  "language_info": {
   "codemirror_mode": {
    "name": "ipython",
    "version": 3
   },
   "file_extension": ".py",
   "mimetype": "text/x-python",
   "name": "python",
   "nbconvert_exporter": "python",
   "pygments_lexer": "ipython3",
   "version": "3.8.10"
  }
 },
 "nbformat": 4,
 "nbformat_minor": 5
}
